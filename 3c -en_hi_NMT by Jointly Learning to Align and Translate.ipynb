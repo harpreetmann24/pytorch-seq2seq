{
 "cells": [
  {
   "cell_type": "markdown",
   "metadata": {
    "id": "MjTMLaX0Un22"
   },
   "source": [
    "# 3c - Neural Machine Translation by Jointly Learning to Align and Translate"
   ]
  },
  {
   "cell_type": "markdown",
   "metadata": {
    "id": "jMIVwQyitAXd"
   },
   "source": [
    "## Import Libraries"
   ]
  },
  {
   "cell_type": "code",
   "execution_count": 1,
   "metadata": {
    "colab": {
     "base_uri": "https://localhost:8080/"
    },
    "execution": {
     "iopub.execute_input": "2022-04-03T08:36:17.148592Z",
     "iopub.status.busy": "2022-04-03T08:36:17.148400Z",
     "iopub.status.idle": "2022-04-03T08:36:17.151180Z",
     "shell.execute_reply": "2022-04-03T08:36:17.150648Z",
     "shell.execute_reply.started": "2022-04-03T08:36:17.148535Z"
    },
    "executionInfo": {
     "elapsed": 9589,
     "status": "ok",
     "timestamp": 1644819607633,
     "user": {
      "displayName": "Shaannoor Mann",
      "photoUrl": "https://lh3.googleusercontent.com/a/default-user=s64",
      "userId": "02520257695567980696"
     },
     "user_tz": 360
    },
    "id": "qzjAVhD44yZC",
    "outputId": "8070452e-eb54-4f08-ee3d-4502b4354e81"
   },
   "outputs": [],
   "source": [
    "# required for colab only\n",
    "# comment this for local\n",
    "#!pip3 install pickle5\n",
    "#import pickle5 as pickle"
   ]
  },
  {
   "cell_type": "code",
   "execution_count": 1,
   "metadata": {
    "execution": {
     "iopub.execute_input": "2022-04-03T09:07:35.092598Z",
     "iopub.status.busy": "2022-04-03T09:07:35.092190Z",
     "iopub.status.idle": "2022-04-03T09:07:35.097249Z",
     "shell.execute_reply": "2022-04-03T09:07:35.096833Z",
     "shell.execute_reply.started": "2022-04-03T09:07:35.092526Z"
    },
    "id": "xnCt_pBz42zN",
    "tags": []
   },
   "outputs": [],
   "source": [
    "# for local laptop uncomment this abd comment above cell\n",
    "import pickle"
   ]
  },
  {
   "cell_type": "code",
   "execution_count": 2,
   "metadata": {
    "execution": {
     "iopub.execute_input": "2022-04-03T09:07:35.454665Z",
     "iopub.status.busy": "2022-04-03T09:07:35.454548Z",
     "iopub.status.idle": "2022-04-03T09:07:35.456678Z",
     "shell.execute_reply": "2022-04-03T09:07:35.456348Z",
     "shell.execute_reply.started": "2022-04-03T09:07:35.454652Z"
    },
    "id": "GNnMugG1WKTm",
    "tags": []
   },
   "outputs": [],
   "source": [
    "#!pip install -U spacy"
   ]
  },
  {
   "cell_type": "code",
   "execution_count": 3,
   "metadata": {
    "execution": {
     "iopub.execute_input": "2022-04-03T09:07:35.662809Z",
     "iopub.status.busy": "2022-04-03T09:07:35.662658Z",
     "iopub.status.idle": "2022-04-03T09:07:35.665014Z",
     "shell.execute_reply": "2022-04-03T09:07:35.664700Z",
     "shell.execute_reply.started": "2022-04-03T09:07:35.662763Z"
    },
    "id": "Hp1WKED5WLNu",
    "tags": []
   },
   "outputs": [],
   "source": [
    "#!pip install -U swifter"
   ]
  },
  {
   "cell_type": "code",
   "execution_count": 4,
   "metadata": {
    "execution": {
     "iopub.execute_input": "2022-04-04T04:08:02.477252Z",
     "iopub.status.busy": "2022-04-04T04:08:02.477112Z",
     "iopub.status.idle": "2022-04-04T04:08:02.480466Z",
     "shell.execute_reply": "2022-04-04T04:08:02.480212Z",
     "shell.execute_reply.started": "2022-04-04T04:08:02.477239Z"
    },
    "executionInfo": {
     "elapsed": 7585,
     "status": "ok",
     "timestamp": 1644819666705,
     "user": {
      "displayName": "Shaannoor Mann",
      "photoUrl": "https://lh3.googleusercontent.com/a/default-user=s64",
      "userId": "02520257695567980696"
     },
     "user_tz": 360
    },
    "id": "JiUqMdpCUn24",
    "tags": []
   },
   "outputs": [],
   "source": [
    "import torch\n",
    "import torch.nn as nn\n",
    "import torch.optim as optim\n",
    "from torch.nn.utils import clip_grad_norm_, clip_grad_value_\n",
    "\n",
    "import torchtext \n",
    "from torchtext.vocab import vocab\n",
    "import torch.nn.functional as F\n",
    "\n",
    "import spacy\n",
    "import numpy as np\n",
    "from collections import Counter, OrderedDict\n",
    "\n",
    "import random\n",
    "import math\n",
    "import time\n",
    "import pandas as pd\n",
    "from pathlib import Path\n",
    "from torch.utils.data import DataLoader, Dataset\n",
    "from torch.nn.utils.rnn import pad_sequence\n",
    "\n",
    "#import swifter"
   ]
  },
  {
   "cell_type": "code",
   "execution_count": 5,
   "metadata": {
    "colab": {
     "base_uri": "https://localhost:8080/"
    },
    "execution": {
     "iopub.execute_input": "2022-04-04T04:08:02.710983Z",
     "iopub.status.busy": "2022-04-04T04:08:02.710591Z",
     "iopub.status.idle": "2022-04-04T04:08:02.712617Z",
     "shell.execute_reply": "2022-04-04T04:08:02.712297Z",
     "shell.execute_reply.started": "2022-04-04T04:08:02.710965Z"
    },
    "executionInfo": {
     "elapsed": 19589,
     "status": "ok",
     "timestamp": 1644819691919,
     "user": {
      "displayName": "Shaannoor Mann",
      "photoUrl": "https://lh3.googleusercontent.com/a/default-user=s64",
      "userId": "02520257695567980696"
     },
     "user_tz": 360
    },
    "id": "9uY_ZBxdtH_k",
    "outputId": "c145ef02-3003-4edd-88b5-5c3763ede25b",
    "tags": []
   },
   "outputs": [],
   "source": [
    "#from google.colab import drive\n",
    "#drive.mount('/content/drive')"
   ]
  },
  {
   "cell_type": "code",
   "execution_count": 6,
   "metadata": {
    "execution": {
     "iopub.execute_input": "2022-04-04T04:08:03.096412Z",
     "iopub.status.busy": "2022-04-04T04:08:03.096243Z",
     "iopub.status.idle": "2022-04-04T04:08:03.098868Z",
     "shell.execute_reply": "2022-04-04T04:08:03.098398Z",
     "shell.execute_reply.started": "2022-04-04T04:08:03.096397Z"
    },
    "executionInfo": {
     "elapsed": 324,
     "status": "ok",
     "timestamp": 1644819696523,
     "user": {
      "displayName": "Shaannoor Mann",
      "photoUrl": "https://lh3.googleusercontent.com/a/default-user=s64",
      "userId": "02520257695567980696"
     },
     "user_tz": 360
    },
    "id": "LLLu5aF_VkRw",
    "tags": []
   },
   "outputs": [],
   "source": [
    "folder = Path('/home/harpreet/Insync/google_drive_harpreet/Research/NLP/pytorch-seq2seq')\n",
    "#folder = Path('/content/drive/MyDrive/Research/NLP/pytorch-seq2seq')"
   ]
  },
  {
   "cell_type": "code",
   "execution_count": 7,
   "metadata": {
    "colab": {
     "base_uri": "https://localhost:8080/"
    },
    "execution": {
     "iopub.execute_input": "2022-04-04T04:08:03.503554Z",
     "iopub.status.busy": "2022-04-04T04:08:03.503063Z",
     "iopub.status.idle": "2022-04-04T04:08:03.510084Z",
     "shell.execute_reply": "2022-04-04T04:08:03.509758Z",
     "shell.execute_reply.started": "2022-04-04T04:08:03.503537Z"
    },
    "executionInfo": {
     "elapsed": 208,
     "status": "ok",
     "timestamp": 1644819697740,
     "user": {
      "displayName": "Shaannoor Mann",
      "photoUrl": "https://lh3.googleusercontent.com/a/default-user=s64",
      "userId": "02520257695567980696"
     },
     "user_tz": 360
    },
    "id": "PY9-guO2Un25",
    "outputId": "3c93c789-4eae-4578-f783-a0e44a4b48e2",
    "tags": []
   },
   "outputs": [
    {
     "data": {
      "text/plain": [
       "('0.11.0', '1.10.0', True, '3.2.4')"
      ]
     },
     "execution_count": 7,
     "metadata": {},
     "output_type": "execute_result"
    }
   ],
   "source": [
    "torchtext.__version__, torch.__version__, torch.cuda.is_available(), spacy.__version__"
   ]
  },
  {
   "cell_type": "markdown",
   "metadata": {
    "id": "wRVU8aBPUn26"
   },
   "source": [
    "# Set Seeds"
   ]
  },
  {
   "cell_type": "code",
   "execution_count": 8,
   "metadata": {
    "execution": {
     "iopub.execute_input": "2022-04-04T04:08:04.431899Z",
     "iopub.status.busy": "2022-04-04T04:08:04.431725Z",
     "iopub.status.idle": "2022-04-04T04:08:04.435099Z",
     "shell.execute_reply": "2022-04-04T04:08:04.434777Z",
     "shell.execute_reply.started": "2022-04-04T04:08:04.431884Z"
    },
    "executionInfo": {
     "elapsed": 180,
     "status": "ok",
     "timestamp": 1644819702627,
     "user": {
      "displayName": "Shaannoor Mann",
      "photoUrl": "https://lh3.googleusercontent.com/a/default-user=s64",
      "userId": "02520257695567980696"
     },
     "user_tz": 360
    },
    "id": "vzCQltiuUn26",
    "tags": []
   },
   "outputs": [],
   "source": [
    "SEED = 1234\n",
    "\n",
    "random.seed(SEED)\n",
    "np.random.seed(SEED)\n",
    "torch.manual_seed(SEED)\n",
    "torch.cuda.manual_seed(SEED)\n",
    "torch.backends.cudnn.deterministic = True"
   ]
  },
  {
   "cell_type": "markdown",
   "metadata": {
    "id": "EQFjo0_dUL2I"
   },
   "source": [
    "# Load Tokenized Data"
   ]
  },
  {
   "cell_type": "markdown",
   "metadata": {
    "id": "JTDez2eTl23K"
   },
   "source": [
    "\n",
    "Next, we download and load the train, validation and test data. \n",
    "\n",
    "The dataset we'll be using is the [IIT Bombay English-Hindi Corpus](https://www.cfilt.iitb.ac.in/iitb_parallel/). \n",
    "Anoop Kunchukuttan, Pratik Mehta, Pushpak Bhattacharyya. The IIT Bombay English-Hindi Parallel Corpus. Language Resources and Evaluation Conference. 2018.\n",
    "\n",
    "The datset can be  downloaded from huggingface library as well. \n",
    "We have downloaded and tokenized the data in Tutorial 1. We will now load the tokenized data."
   ]
  },
  {
   "cell_type": "code",
   "execution_count": 9,
   "metadata": {
    "execution": {
     "iopub.execute_input": "2022-04-04T04:08:05.738877Z",
     "iopub.status.busy": "2022-04-04T04:08:05.738421Z",
     "iopub.status.idle": "2022-04-04T04:08:05.741934Z",
     "shell.execute_reply": "2022-04-04T04:08:05.741448Z",
     "shell.execute_reply.started": "2022-04-04T04:08:05.738860Z"
    },
    "executionInfo": {
     "elapsed": 23056,
     "status": "ok",
     "timestamp": 1644819771777,
     "user": {
      "displayName": "Shaannoor Mann",
      "photoUrl": "https://lh3.googleusercontent.com/a/default-user=s64",
      "userId": "02520257695567980696"
     },
     "user_tz": 360
    },
    "id": "yZFv_IGh2_X7",
    "tags": []
   },
   "outputs": [
    {
     "data": {
      "text/plain": [
       "'\\n## Required for colab only\\n\\nwith open(folder/\\'df_train_hi_en\\', \"rb\") as fh:\\n  df_train = pickle.load(fh)\\nwith open(folder/\\'df_test_hi_en\\', \"rb\") as fh:\\n  df_test = pickle.load(fh)\\nwith open(folder/\\'df_valid_hi_en\\', \"rb\") as fh:\\n  df_valid = pickle.load(fh)\\n  \\n'"
      ]
     },
     "execution_count": 9,
     "metadata": {},
     "output_type": "execute_result"
    }
   ],
   "source": [
    "'''\n",
    "## Required for colab only\n",
    "\n",
    "with open(folder/'df_train_hi_en', \"rb\") as fh:\n",
    "  df_train = pickle.load(fh)\n",
    "with open(folder/'df_test_hi_en', \"rb\") as fh:\n",
    "  df_test = pickle.load(fh)\n",
    "with open(folder/'df_valid_hi_en', \"rb\") as fh:\n",
    "  df_valid = pickle.load(fh)\n",
    "  \n",
    "'''"
   ]
  },
  {
   "cell_type": "code",
   "execution_count": 10,
   "metadata": {
    "execution": {
     "iopub.execute_input": "2022-04-04T04:08:06.382790Z",
     "iopub.status.busy": "2022-04-04T04:08:06.382668Z",
     "iopub.status.idle": "2022-04-04T04:08:17.870548Z",
     "shell.execute_reply": "2022-04-04T04:08:17.870046Z",
     "shell.execute_reply.started": "2022-04-04T04:08:06.382776Z"
    },
    "id": "Uh71ereCl23K",
    "tags": []
   },
   "outputs": [],
   "source": [
    "# required for local (python 3.8)\n",
    "df_train = pd.read_pickle(folder/'df_train_hi_en')\n",
    "df_test = pd.read_pickle(folder/'df_test_hi_en')\n",
    "df_valid = pd.read_pickle(folder/'df_valid_hi_en')"
   ]
  },
  {
   "cell_type": "code",
   "execution_count": 11,
   "metadata": {
    "colab": {
     "base_uri": "https://localhost:8080/",
     "height": 206
    },
    "execution": {
     "iopub.execute_input": "2022-04-04T04:08:17.871376Z",
     "iopub.status.busy": "2022-04-04T04:08:17.871260Z",
     "iopub.status.idle": "2022-04-04T04:08:17.880187Z",
     "shell.execute_reply": "2022-04-04T04:08:17.879852Z",
     "shell.execute_reply.started": "2022-04-04T04:08:17.871363Z"
    },
    "executionInfo": {
     "elapsed": 208,
     "status": "ok",
     "timestamp": 1644819778943,
     "user": {
      "displayName": "Shaannoor Mann",
      "photoUrl": "https://lh3.googleusercontent.com/a/default-user=s64",
      "userId": "02520257695567980696"
     },
     "user_tz": 360
    },
    "id": "n4WaFnDVl23K",
    "outputId": "49a23515-c33c-4962-884c-65a598b50e71",
    "tags": []
   },
   "outputs": [
    {
     "data": {
      "text/html": [
       "<div>\n",
       "<style scoped>\n",
       "    .dataframe tbody tr th:only-of-type {\n",
       "        vertical-align: middle;\n",
       "    }\n",
       "\n",
       "    .dataframe tbody tr th {\n",
       "        vertical-align: top;\n",
       "    }\n",
       "\n",
       "    .dataframe thead th {\n",
       "        text-align: right;\n",
       "    }\n",
       "</style>\n",
       "<table border=\"1\" class=\"dataframe\">\n",
       "  <thead>\n",
       "    <tr style=\"text-align: right;\">\n",
       "      <th></th>\n",
       "      <th>source_tokens_reversed</th>\n",
       "      <th>target_tokens</th>\n",
       "      <th>source_tokens</th>\n",
       "    </tr>\n",
       "  </thead>\n",
       "  <tbody>\n",
       "    <tr>\n",
       "      <th>0</th>\n",
       "      <td>[दें, लाभ, का, व्यायाम, पहुंचनीयता, को, अनुप्र...</td>\n",
       "      <td>[Give, your, application, an, accessibility, w...</td>\n",
       "      <td>[अपने, अनुप्रयोग, को, पहुंचनीयता, व्यायाम, का,...</td>\n",
       "    </tr>\n",
       "    <tr>\n",
       "      <th>1</th>\n",
       "      <td>[अन्वेषक, पहुंचनीयता, एक्सेर्साइसर]</td>\n",
       "      <td>[Accerciser, Accessibility, Explorer]</td>\n",
       "      <td>[एक्सेर्साइसर, पहुंचनीयता, अन्वेषक]</td>\n",
       "    </tr>\n",
       "    <tr>\n",
       "      <th>2</th>\n",
       "      <td>[खाका, प्लग-इन, डिफोल्ट, लिए, के, पटल, निचले]</td>\n",
       "      <td>[The, default, plugin, layout, for, the, botto...</td>\n",
       "      <td>[निचले, पटल, के, लिए, डिफोल्ट, प्लग-इन, खाका]</td>\n",
       "    </tr>\n",
       "    <tr>\n",
       "      <th>3</th>\n",
       "      <td>[खाका, प्लग-इन, डिफोल्ट, लिए, के, पटल, ऊपरी]</td>\n",
       "      <td>[The, default, plugin, layout, for, the, top, ...</td>\n",
       "      <td>[ऊपरी, पटल, के, लिए, डिफोल्ट, प्लग-इन, खाका]</td>\n",
       "    </tr>\n",
       "    <tr>\n",
       "      <th>4</th>\n",
       "      <td>[है, गया, किया, निष्क्रिय, से, रूप, डिफोल्ट, ज...</td>\n",
       "      <td>[A, list, of, plugins, that, are, disabled, by...</td>\n",
       "      <td>[उन, प्लग-इनों, की, सूची, जिन्हें, डिफोल्ट, रू...</td>\n",
       "    </tr>\n",
       "  </tbody>\n",
       "</table>\n",
       "</div>"
      ],
      "text/plain": [
       "                              source_tokens_reversed  \\\n",
       "0  [दें, लाभ, का, व्यायाम, पहुंचनीयता, को, अनुप्र...   \n",
       "1                [अन्वेषक, पहुंचनीयता, एक्सेर्साइसर]   \n",
       "2      [खाका, प्लग-इन, डिफोल्ट, लिए, के, पटल, निचले]   \n",
       "3       [खाका, प्लग-इन, डिफोल्ट, लिए, के, पटल, ऊपरी]   \n",
       "4  [है, गया, किया, निष्क्रिय, से, रूप, डिफोल्ट, ज...   \n",
       "\n",
       "                                       target_tokens  \\\n",
       "0  [Give, your, application, an, accessibility, w...   \n",
       "1              [Accerciser, Accessibility, Explorer]   \n",
       "2  [The, default, plugin, layout, for, the, botto...   \n",
       "3  [The, default, plugin, layout, for, the, top, ...   \n",
       "4  [A, list, of, plugins, that, are, disabled, by...   \n",
       "\n",
       "                                       source_tokens  \n",
       "0  [अपने, अनुप्रयोग, को, पहुंचनीयता, व्यायाम, का,...  \n",
       "1                [एक्सेर्साइसर, पहुंचनीयता, अन्वेषक]  \n",
       "2      [निचले, पटल, के, लिए, डिफोल्ट, प्लग-इन, खाका]  \n",
       "3       [ऊपरी, पटल, के, लिए, डिफोल्ट, प्लग-इन, खाका]  \n",
       "4  [उन, प्लग-इनों, की, सूची, जिन्हें, डिफोल्ट, रू...  "
      ]
     },
     "execution_count": 11,
     "metadata": {},
     "output_type": "execute_result"
    }
   ],
   "source": [
    "df_train.head()"
   ]
  },
  {
   "cell_type": "markdown",
   "metadata": {
    "id": "1BEf_jK2Tz6E"
   },
   "source": [
    "# Load Vocab"
   ]
  },
  {
   "cell_type": "code",
   "execution_count": 15,
   "metadata": {
    "execution": {
     "iopub.execute_input": "2022-04-04T04:08:58.194022Z",
     "iopub.status.busy": "2022-04-04T04:08:58.193884Z",
     "iopub.status.idle": "2022-04-04T04:08:58.254300Z",
     "shell.execute_reply": "2022-04-04T04:08:58.253903Z",
     "shell.execute_reply.started": "2022-04-04T04:08:58.194008Z"
    },
    "executionInfo": {
     "elapsed": 1161,
     "status": "ok",
     "timestamp": 1644819781707,
     "user": {
      "displayName": "Shaannoor Mann",
      "photoUrl": "https://lh3.googleusercontent.com/a/default-user=s64",
      "userId": "02520257695567980696"
     },
     "user_tz": 360
    },
    "id": "cvsVAiyHl23M",
    "tags": []
   },
   "outputs": [],
   "source": [
    "import pickle\n",
    "source_vocab = pickle.load(open(folder/'source_vocab_hi_en.pkl','rb'))\n",
    "target_vocab = pickle.load(open(folder/'target_vocab_hi_en.pkl','rb'))"
   ]
  },
  {
   "cell_type": "code",
   "execution_count": 16,
   "metadata": {
    "colab": {
     "base_uri": "https://localhost:8080/"
    },
    "execution": {
     "iopub.execute_input": "2022-04-04T04:08:58.973772Z",
     "iopub.status.busy": "2022-04-04T04:08:58.973653Z",
     "iopub.status.idle": "2022-04-04T04:08:58.977073Z",
     "shell.execute_reply": "2022-04-04T04:08:58.976645Z",
     "shell.execute_reply.started": "2022-04-04T04:08:58.973759Z"
    },
    "executionInfo": {
     "elapsed": 211,
     "status": "ok",
     "timestamp": 1644819787547,
     "user": {
      "displayName": "Shaannoor Mann",
      "photoUrl": "https://lh3.googleusercontent.com/a/default-user=s64",
      "userId": "02520257695567980696"
     },
     "user_tz": 360
    },
    "id": "SprHodI2l23M",
    "outputId": "4c41a1ee-15c8-455e-c6b4-f754a949bd9e",
    "tags": []
   },
   "outputs": [
    {
     "data": {
      "text/plain": [
       "55"
      ]
     },
     "execution_count": 16,
     "metadata": {},
     "output_type": "execute_result"
    }
   ],
   "source": [
    "target_vocab['from']"
   ]
  },
  {
   "cell_type": "code",
   "execution_count": 17,
   "metadata": {
    "colab": {
     "base_uri": "https://localhost:8080/"
    },
    "execution": {
     "iopub.execute_input": "2022-04-04T04:08:59.424377Z",
     "iopub.status.busy": "2022-04-04T04:08:59.424222Z",
     "iopub.status.idle": "2022-04-04T04:08:59.427443Z",
     "shell.execute_reply": "2022-04-04T04:08:59.427145Z",
     "shell.execute_reply.started": "2022-04-04T04:08:59.424349Z"
    },
    "executionInfo": {
     "elapsed": 2,
     "status": "ok",
     "timestamp": 1644819788471,
     "user": {
      "displayName": "Shaannoor Mann",
      "photoUrl": "https://lh3.googleusercontent.com/a/default-user=s64",
      "userId": "02520257695567980696"
     },
     "user_tz": 360
    },
    "id": "yJjpoffol23M",
    "outputId": "820fc3b3-831c-47c2-c577-fd3b44ae0713",
    "tags": []
   },
   "outputs": [
    {
     "data": {
      "text/plain": [
       "(6115, 6537)"
      ]
     },
     "execution_count": 17,
     "metadata": {},
     "output_type": "execute_result"
    }
   ],
   "source": [
    "len(source_vocab), len(target_vocab)"
   ]
  },
  {
   "cell_type": "markdown",
   "metadata": {
    "id": "feccYoeWtAXk"
   },
   "source": [
    "# Create Dataset and Dataloader"
   ]
  },
  {
   "cell_type": "code",
   "execution_count": 18,
   "metadata": {
    "execution": {
     "iopub.execute_input": "2022-04-04T04:09:00.338015Z",
     "iopub.status.busy": "2022-04-04T04:09:00.337854Z",
     "iopub.status.idle": "2022-04-04T04:09:00.341502Z",
     "shell.execute_reply": "2022-04-04T04:09:00.341110Z",
     "shell.execute_reply.started": "2022-04-04T04:09:00.338000Z"
    },
    "executionInfo": {
     "elapsed": 1,
     "status": "ok",
     "timestamp": 1644819790198,
     "user": {
      "displayName": "Shaannoor Mann",
      "photoUrl": "https://lh3.googleusercontent.com/a/default-user=s64",
      "userId": "02520257695567980696"
     },
     "user_tz": 360
    },
    "id": "fCMXepKUtAXk",
    "tags": []
   },
   "outputs": [],
   "source": [
    "class EngHindi(Dataset):\n",
    "    \n",
    "    '''\n",
    "    Takes input as (X1, X2)\n",
    "    X1 : pandas series for  source language\n",
    "    X2 : pndas series for target language\n",
    "    '''\n",
    "    def __init__(self, X1, X2):\n",
    "        self.X1 = X1\n",
    "        self.X2 = X2\n",
    "        \n",
    "        \n",
    "    def __len__(self):\n",
    "        return len(self.X1)\n",
    "    \n",
    "    def __getitem__(self, indices):\n",
    "        source_examples = self.X1.iloc[indices]  \n",
    "        target_examples = self.X2.iloc[indices]\n",
    "        return source_examples, target_examples    "
   ]
  },
  {
   "cell_type": "code",
   "execution_count": 19,
   "metadata": {
    "execution": {
     "iopub.execute_input": "2022-04-04T04:09:00.773982Z",
     "iopub.status.busy": "2022-04-04T04:09:00.773402Z",
     "iopub.status.idle": "2022-04-04T04:09:00.776901Z",
     "shell.execute_reply": "2022-04-04T04:09:00.776521Z",
     "shell.execute_reply.started": "2022-04-04T04:09:00.773964Z"
    },
    "executionInfo": {
     "elapsed": 174,
     "status": "ok",
     "timestamp": 1644819793874,
     "user": {
      "displayName": "Shaannoor Mann",
      "photoUrl": "https://lh3.googleusercontent.com/a/default-user=s64",
      "userId": "02520257695567980696"
     },
     "user_tz": 360
    },
    "id": "-Q32VBamtAXl",
    "tags": []
   },
   "outputs": [],
   "source": [
    "trainset = EngHindi(df_train['source_tokens'], df_train['target_tokens'])\n",
    "testset =  EngHindi(df_test['source_tokens'], df_test['target_tokens'])\n",
    "validset = EngHindi(df_valid['source_tokens'], df_valid['target_tokens'])"
   ]
  },
  {
   "cell_type": "code",
   "execution_count": 20,
   "metadata": {
    "colab": {
     "base_uri": "https://localhost:8080/"
    },
    "execution": {
     "iopub.execute_input": "2022-04-04T04:09:01.268536Z",
     "iopub.status.busy": "2022-04-04T04:09:01.268395Z",
     "iopub.status.idle": "2022-04-04T04:09:01.271547Z",
     "shell.execute_reply": "2022-04-04T04:09:01.271284Z",
     "shell.execute_reply.started": "2022-04-04T04:09:01.268521Z"
    },
    "executionInfo": {
     "elapsed": 1,
     "status": "ok",
     "timestamp": 1644819794799,
     "user": {
      "displayName": "Shaannoor Mann",
      "photoUrl": "https://lh3.googleusercontent.com/a/default-user=s64",
      "userId": "02520257695567980696"
     },
     "user_tz": 360
    },
    "id": "2md5tDSutAXl",
    "outputId": "31329144-c410-4e1c-a379-22c5ab302d1a",
    "tags": []
   },
   "outputs": [
    {
     "data": {
      "text/plain": [
       "(['अपने', 'अनुप्रयोग', 'को', 'पहुंचनीयता', 'व्यायाम', 'का', 'लाभ', 'दें'],\n",
       " ['Give', 'your', 'application', 'an', 'accessibility', 'workout'])"
      ]
     },
     "execution_count": 20,
     "metadata": {},
     "output_type": "execute_result"
    }
   ],
   "source": [
    "trainset.__getitem__(0)"
   ]
  },
  {
   "cell_type": "code",
   "execution_count": 21,
   "metadata": {
    "colab": {
     "base_uri": "https://localhost:8080/"
    },
    "execution": {
     "iopub.execute_input": "2022-04-04T04:09:02.333498Z",
     "iopub.status.busy": "2022-04-04T04:09:02.333375Z",
     "iopub.status.idle": "2022-04-04T04:09:02.336484Z",
     "shell.execute_reply": "2022-04-04T04:09:02.336114Z",
     "shell.execute_reply.started": "2022-04-04T04:09:02.333483Z"
    },
    "executionInfo": {
     "elapsed": 1,
     "status": "ok",
     "timestamp": 1644819795017,
     "user": {
      "displayName": "Shaannoor Mann",
      "photoUrl": "https://lh3.googleusercontent.com/a/default-user=s64",
      "userId": "02520257695567980696"
     },
     "user_tz": 360
    },
    "id": "L18xzZrltAXl",
    "outputId": "7299f992-8806-4107-b65e-3b171af2c00c",
    "tags": []
   },
   "outputs": [
    {
     "data": {
      "text/plain": [
       "(1659083, 2507, 2507)"
      ]
     },
     "execution_count": 21,
     "metadata": {},
     "output_type": "execute_result"
    }
   ],
   "source": [
    "len(trainset), len(testset), len(validset)"
   ]
  },
  {
   "cell_type": "code",
   "execution_count": 22,
   "metadata": {
    "colab": {
     "base_uri": "https://localhost:8080/"
    },
    "execution": {
     "iopub.execute_input": "2022-04-04T04:09:02.993948Z",
     "iopub.status.busy": "2022-04-04T04:09:02.993824Z",
     "iopub.status.idle": "2022-04-04T04:09:02.996963Z",
     "shell.execute_reply": "2022-04-04T04:09:02.996727Z",
     "shell.execute_reply.started": "2022-04-04T04:09:02.993934Z"
    },
    "executionInfo": {
     "elapsed": 2,
     "status": "ok",
     "timestamp": 1644819795736,
     "user": {
      "displayName": "Shaannoor Mann",
      "photoUrl": "https://lh3.googleusercontent.com/a/default-user=s64",
      "userId": "02520257695567980696"
     },
     "user_tz": 360
    },
    "id": "TehVY0IoQUvb",
    "outputId": "018bcfe5-388c-457b-e27b-2d633470a873",
    "tags": []
   },
   "outputs": [
    {
     "data": {
      "text/plain": [
       "33181.66"
      ]
     },
     "execution_count": 22,
     "metadata": {},
     "output_type": "execute_result"
    }
   ],
   "source": [
    "len(trainset)*0.02"
   ]
  },
  {
   "cell_type": "code",
   "execution_count": 23,
   "metadata": {
    "execution": {
     "iopub.execute_input": "2022-04-04T04:09:04.043609Z",
     "iopub.status.busy": "2022-04-04T04:09:04.043468Z",
     "iopub.status.idle": "2022-04-04T04:09:04.056124Z",
     "shell.execute_reply": "2022-04-04T04:09:04.055761Z",
     "shell.execute_reply.started": "2022-04-04T04:09:04.043596Z"
    },
    "executionInfo": {
     "elapsed": 1,
     "status": "ok",
     "timestamp": 1644819797021,
     "user": {
      "displayName": "Shaannoor Mann",
      "photoUrl": "https://lh3.googleusercontent.com/a/default-user=s64",
      "userId": "02520257695567980696"
     },
     "user_tz": 360
    },
    "id": "wDzZ5HlFQOYA",
    "tags": []
   },
   "outputs": [],
   "source": [
    "# get subset of data\n",
    "# We will be using only 100 images for nboth train and validation datasets\n",
    "train_sample_size = int(len(trainset)*0.02)\n",
    "\n",
    "# Getting n random indices\n",
    "train_subset_indices = random.sample(range(0, len(trainset)), train_sample_size)\n",
    "\n",
    "# Getting subset of dataset\n",
    "train_subset = torch.utils.data.Subset(trainset, train_subset_indices)"
   ]
  },
  {
   "cell_type": "code",
   "execution_count": 24,
   "metadata": {
    "colab": {
     "base_uri": "https://localhost:8080/"
    },
    "execution": {
     "iopub.execute_input": "2022-04-04T04:09:04.448421Z",
     "iopub.status.busy": "2022-04-04T04:09:04.448296Z",
     "iopub.status.idle": "2022-04-04T04:09:04.451159Z",
     "shell.execute_reply": "2022-04-04T04:09:04.450844Z",
     "shell.execute_reply.started": "2022-04-04T04:09:04.448407Z"
    },
    "executionInfo": {
     "elapsed": 2,
     "status": "ok",
     "timestamp": 1644819798192,
     "user": {
      "displayName": "Shaannoor Mann",
      "photoUrl": "https://lh3.googleusercontent.com/a/default-user=s64",
      "userId": "02520257695567980696"
     },
     "user_tz": 360
    },
    "id": "D5ALqVW9QsUz",
    "outputId": "557ae2e7-404a-4537-fc6d-2cbf90c3d174",
    "tags": []
   },
   "outputs": [
    {
     "name": "stdout",
     "output_type": "stream",
     "text": [
      "(['स्कूली', 'बच्चों', 'में', 'नए', 'विचारों', 'और', 'नवाचारों', 'की', 'शक्ति', 'के', 'बीज', 'बोने', 'से', 'हमारे', 'नवाचार', 'पीरामिड', 'का', 'आधार', 'बढ़ेगा', 'और', 'हमारे', 'राष्ट्र', 'का', 'भविष्य', 'सुनिश्चित', 'होगा', '।'], ['Seeding', 'the', 'power', 'of', 'ideas', 'and', 'innovation', 'in', 'schoolchildren', 'will', 'broaden', 'the', 'base', 'of', 'our', 'innovation', 'pyramid', 'and', 'secure', 'the', 'future', 'of', 'our', 'nation', '.'])\n"
     ]
    }
   ],
   "source": [
    "print(train_subset.__getitem__(11))"
   ]
  },
  {
   "cell_type": "code",
   "execution_count": 25,
   "metadata": {
    "execution": {
     "iopub.execute_input": "2022-04-04T04:09:09.984615Z",
     "iopub.status.busy": "2022-04-04T04:09:09.984475Z",
     "iopub.status.idle": "2022-04-04T04:09:09.987393Z",
     "shell.execute_reply": "2022-04-04T04:09:09.986882Z",
     "shell.execute_reply.started": "2022-04-04T04:09:09.984601Z"
    },
    "executionInfo": {
     "elapsed": 1,
     "status": "ok",
     "timestamp": 1644819799431,
     "user": {
      "displayName": "Shaannoor Mann",
      "photoUrl": "https://lh3.googleusercontent.com/a/default-user=s64",
      "userId": "02520257695567980696"
     },
     "user_tz": 360
    },
    "id": "bPg8WslltAXl",
    "tags": []
   },
   "outputs": [],
   "source": [
    "# transform text to indexes and append eos and bos\n",
    "# finally convert to tensors\n",
    "def text_transform(my_vocab, text):\n",
    "    text_num = [my_vocab['<BOS>']] + [my_vocab[word] for word in text] + [my_vocab['<EOS>']]\n",
    "    return torch.tensor(text_num)   "
   ]
  },
  {
   "cell_type": "code",
   "execution_count": 26,
   "metadata": {
    "colab": {
     "base_uri": "https://localhost:8080/"
    },
    "execution": {
     "iopub.execute_input": "2022-04-04T04:09:10.449108Z",
     "iopub.status.busy": "2022-04-04T04:09:10.448615Z",
     "iopub.status.idle": "2022-04-04T04:09:10.451730Z",
     "shell.execute_reply": "2022-04-04T04:09:10.451367Z",
     "shell.execute_reply.started": "2022-04-04T04:09:10.449091Z"
    },
    "executionInfo": {
     "elapsed": 2,
     "status": "ok",
     "timestamp": 1644819800754,
     "user": {
      "displayName": "Shaannoor Mann",
      "photoUrl": "https://lh3.googleusercontent.com/a/default-user=s64",
      "userId": "02520257695567980696"
     },
     "user_tz": 360
    },
    "id": "bpQKiRHLtAXl",
    "outputId": "6c8aa468-2161-46cd-fda5-744c0599289c",
    "tags": []
   },
   "outputs": [
    {
     "name": "stdout",
     "output_type": "stream",
     "text": [
      "['Bad', 'current', 'tag', 'value', '.']\n"
     ]
    }
   ],
   "source": [
    "text = train_subset.__getitem__(13)[1]\n",
    "print(text)"
   ]
  },
  {
   "cell_type": "code",
   "execution_count": 27,
   "metadata": {
    "colab": {
     "base_uri": "https://localhost:8080/"
    },
    "execution": {
     "iopub.execute_input": "2022-04-04T04:09:11.199065Z",
     "iopub.status.busy": "2022-04-04T04:09:11.198942Z",
     "iopub.status.idle": "2022-04-04T04:09:11.202357Z",
     "shell.execute_reply": "2022-04-04T04:09:11.202088Z",
     "shell.execute_reply.started": "2022-04-04T04:09:11.199051Z"
    },
    "executionInfo": {
     "elapsed": 2,
     "status": "ok",
     "timestamp": 1644819801675,
     "user": {
      "displayName": "Shaannoor Mann",
      "photoUrl": "https://lh3.googleusercontent.com/a/default-user=s64",
      "userId": "02520257695567980696"
     },
     "user_tz": 360
    },
    "id": "-QZp7ZlAl23N",
    "outputId": "d29daef0-6f1d-4b33-be36-8527a6884736",
    "tags": []
   },
   "outputs": [
    {
     "data": {
      "text/plain": [
       "tensor([   1, 1032,   37,  672,  104,   33,    2])"
      ]
     },
     "execution_count": 27,
     "metadata": {},
     "output_type": "execute_result"
    }
   ],
   "source": [
    "text_transform(target_vocab, text)"
   ]
  },
  {
   "cell_type": "code",
   "execution_count": 28,
   "metadata": {
    "execution": {
     "iopub.execute_input": "2022-04-04T04:09:11.543837Z",
     "iopub.status.busy": "2022-04-04T04:09:11.543681Z",
     "iopub.status.idle": "2022-04-04T04:09:11.546844Z",
     "shell.execute_reply": "2022-04-04T04:09:11.546486Z",
     "shell.execute_reply.started": "2022-04-04T04:09:11.543822Z"
    },
    "executionInfo": {
     "elapsed": 1,
     "status": "ok",
     "timestamp": 1644819802264,
     "user": {
      "displayName": "Shaannoor Mann",
      "photoUrl": "https://lh3.googleusercontent.com/a/default-user=s64",
      "userId": "02520257695567980696"
     },
     "user_tz": 360
    },
    "id": "CgKupdZ1Un2-",
    "tags": []
   },
   "outputs": [],
   "source": [
    "def collate_batch(batch):\n",
    "    source_list, target_list = [], []\n",
    "    for source, target in batch:\n",
    "        source_tensor = text_transform(source_vocab, source)\n",
    "        target_tensor = text_transform(target_vocab, target)\n",
    "        source_list.append(source_tensor)\n",
    "        target_list.append(target_tensor)\n",
    "        \n",
    "    source_pad = pad_sequence(source_list, batch_first=False, padding_value= source_vocab['<PAD>'])\n",
    "    target_pad = pad_sequence(target_list, batch_first=False, padding_value= target_vocab['<PAD>'])\n",
    "    \n",
    "    return source_pad, target_pad     "
   ]
  },
  {
   "cell_type": "code",
   "execution_count": 29,
   "metadata": {
    "execution": {
     "iopub.execute_input": "2022-04-04T04:09:12.625639Z",
     "iopub.status.busy": "2022-04-04T04:09:12.625496Z",
     "iopub.status.idle": "2022-04-04T04:09:12.628611Z",
     "shell.execute_reply": "2022-04-04T04:09:12.628197Z",
     "shell.execute_reply.started": "2022-04-04T04:09:12.625624Z"
    },
    "executionInfo": {
     "elapsed": 2,
     "status": "ok",
     "timestamp": 1644819803722,
     "user": {
      "displayName": "Shaannoor Mann",
      "photoUrl": "https://lh3.googleusercontent.com/a/default-user=s64",
      "userId": "02520257695567980696"
     },
     "user_tz": 360
    },
    "id": "axyZQ-4z1B-z",
    "tags": []
   },
   "outputs": [],
   "source": [
    "BATCH_SIZE = 4\n",
    "\n",
    "train_loader = DataLoader(train_subset, batch_size=BATCH_SIZE, shuffle = True, collate_fn = collate_batch )\n",
    "valid_loader = DataLoader(validset, batch_size=BATCH_SIZE, shuffle = False, collate_fn = collate_batch )\n",
    "test_loader = DataLoader(testset, batch_size=BATCH_SIZE, shuffle = False, collate_fn = collate_batch )"
   ]
  },
  {
   "cell_type": "markdown",
   "metadata": {
    "id": "Mhyhh7uCUn2_"
   },
   "source": [
    "## Building the Seq2Seq Model\n",
    "\n",
    "### Encoder\n",
    "\n",
    "First, we'll build the encoder. Similar to the previous model, we only use a single layer GRU, however we now use a *bidirectional RNN*. With a bidirectional RNN, we have two RNNs in each layer. A *forward RNN* going over the embedded sentence from left to right (shown below in green), and a *backward RNN* going over the embedded sentence from right to left (teal). All we need to do in code is set `bidirectional = True` and then pass the embedded sentence to the RNN as before. \n",
    "\n",
    "![](assets/seq2seq8.png)\n",
    "\n",
    "We now have:\n",
    "\n",
    "$$\\begin{align*}\n",
    "h_t^\\rightarrow &= \\text{EncoderGRU}^\\rightarrow(e(x_t^\\rightarrow),h_{t-1}^\\rightarrow)\\\\\n",
    "h_t^\\leftarrow &= \\text{EncoderGRU}^\\leftarrow(e(x_t^\\leftarrow),h_{t-1}^\\leftarrow)\n",
    "\\end{align*}$$\n",
    "\n",
    "Where $x_0^\\rightarrow = \\text{<sos>}, x_1^\\rightarrow = \\text{guten}$ and $x_0^\\leftarrow = \\text{<eos>}, x_1^\\leftarrow = \\text{morgen}$.\n",
    "\n",
    "As before, we only pass an input (`embedded`) to the RNN, which tells PyTorch to initialize both the forward and backward initial hidden states ($h_0^\\rightarrow$ and $h_0^\\leftarrow$, respectively) to a tensor of all zeros. We'll also get two context vectors, one from the forward RNN after it has seen the final word in the sentence, $z^\\rightarrow=h_T^\\rightarrow$, and one from the backward RNN after it has seen the first word in the sentence, $z^\\leftarrow=h_T^\\leftarrow$.\n",
    "\n",
    "The RNN returns `outputs` and `hidden`. \n",
    "\n",
    "`outputs` is of size **[src len, batch size, hid dim * num directions]** where the first `hid_dim` elements in the third axis are the hidden states from the top layer forward RNN, and the last `hid_dim` elements are hidden states from the top layer backward RNN. We can think of the third axis as being the forward and backward hidden states concatenated together other, i.e. $h_1 = [h_1^\\rightarrow; h_{T}^\\leftarrow]$, $h_2 = [h_2^\\rightarrow; h_{T-1}^\\leftarrow]$ and we can denote all encoder hidden states (forward and backwards concatenated together) as $H=\\{ h_1, h_2, ..., h_T\\}$.\n",
    "\n",
    "`hidden` is of size **[n layers * num directions, batch size, hid dim]**, where **[-2, :, :]** gives the top layer forward RNN hidden state after the final time-step (i.e. after it has seen the last word in the sentence) and **[-1, :, :]** gives the top layer backward RNN hidden state after the final time-step (i.e. after it has seen the first word in the sentence).\n",
    "\n",
    "As the decoder is not bidirectional, it only needs a single context vector, $z$, to use as its initial hidden state, $s_0$, and we currently have two, a forward and a backward one ($z^\\rightarrow=h_T^\\rightarrow$ and $z^\\leftarrow=h_T^\\leftarrow$, respectively). We solve this by concatenating the two context vectors together, passing them through a linear layer, $g$, and applying the $\\tanh$ activation function. \n",
    "\n",
    "$$z=\\tanh(g(h_T^\\rightarrow, h_T^\\leftarrow)) = \\tanh(g(z^\\rightarrow, z^\\leftarrow)) = s_0$$\n",
    "\n",
    "**Note**: this is actually a deviation from the paper. Instead, they feed only the first backward RNN hidden state through a linear layer to get the context vector/decoder initial hidden state. This doesn't seem to make sense to me, so we have changed it.\n",
    "\n",
    "As we want our model to look back over the whole of the source sentence we return `outputs`, the stacked forward and backward hidden states for every token in the source sentence. We also return `hidden`, which acts as our initial hidden state in the decoder."
   ]
  },
  {
   "cell_type": "code",
   "execution_count": 32,
   "metadata": {
    "execution": {
     "iopub.execute_input": "2022-04-04T04:10:12.776760Z",
     "iopub.status.busy": "2022-04-04T04:10:12.776615Z",
     "iopub.status.idle": "2022-04-04T04:10:12.780944Z",
     "shell.execute_reply": "2022-04-04T04:10:12.780340Z",
     "shell.execute_reply.started": "2022-04-04T04:10:12.776746Z"
    },
    "executionInfo": {
     "elapsed": 117,
     "status": "ok",
     "timestamp": 1644563465250,
     "user": {
      "displayName": "Shaannoor Mann",
      "photoUrl": "https://lh3.googleusercontent.com/a/default-user=s64",
      "userId": "02520257695567980696"
     },
     "user_tz": 360
    },
    "id": "zabfsjZOUn3A",
    "tags": []
   },
   "outputs": [],
   "source": [
    "class Encoder(nn.Module):\n",
    "    def __init__(self, input_dim, emb_dim, enc_hid_dim, dec_hid_dim, dropout):\n",
    "        super().__init__()\n",
    "        \n",
    "        self.embedding = nn.Embedding(input_dim, emb_dim)\n",
    "        \n",
    "        self.rnn = nn.GRU(emb_dim, enc_hid_dim, bidirectional = True)\n",
    "        \n",
    "        self.fc = nn.Linear(enc_hid_dim * 2, dec_hid_dim)\n",
    "        \n",
    "        self.dropout = nn.Dropout(dropout)\n",
    "        \n",
    "    def forward(self, src):\n",
    "        \n",
    "        #src = [src len, batch size]\n",
    "        \n",
    "        embedded = self.dropout(self.embedding(src))\n",
    "        \n",
    "        #embedded = [src len, batch size, emb dim]\n",
    "        \n",
    "        outputs, hidden = self.rnn(embedded)\n",
    "                \n",
    "        #outputs = [src len, batch size, hid dim * num directions]\n",
    "        #hidden = [n layers * num directions, batch size, hid dim]\n",
    "        \n",
    "        #hidden is stacked [forward_1, backward_1, forward_2, backward_2, ...]\n",
    "        #outputs are always from the last layer\n",
    "        \n",
    "        #hidden [-2, :, : ] is the last of the forwards RNN \n",
    "        #hidden [-1, :, : ] is the last of the backwards RNN\n",
    "        \n",
    "        #initial decoder hidden is final hidden state of the forwards and backwards \n",
    "        #  encoder RNNs fed through a linear layer\n",
    "        hidden = torch.tanh(self.fc(torch.cat((hidden[-2,:,:], hidden[-1,:,:]), dim = 1)))\n",
    "        \n",
    "        #outputs = [src len, batch size, enc hid dim * 2]\n",
    "        #hidden = [batch size, dec hid dim]\n",
    "        \n",
    "        return outputs, hidden\n"
   ]
  },
  {
   "cell_type": "markdown",
   "metadata": {},
   "source": [
    "### Attention\n",
    "\n",
    "Next up is the attention layer. This will take in the previous hidden state of the decoder, $s_{t-1}$, and all of the stacked forward and backward hidden states from the encoder, $H$. The layer will output an attention vector, $a_t$, that is the length of the source sentence, each element is between 0 and 1 and the entire vector sums to 1.\n",
    "\n",
    "Intuitively, this layer takes what we have decoded so far, $s_{t-1}$, and all of what we have encoded, $H$, to produce a vector, $a_t$, that represents which words in the source sentence we should pay the most attention to in order to correctly predict the next word to decode, $\\hat{y}_{t+1}$. \n",
    "\n",
    "First, we calculate the *energy* between the previous decoder hidden state and the encoder hidden states. As our encoder hidden states are a sequence of $T$ tensors, and our previous decoder hidden state is a single tensor, the first thing we do is `repeat` the previous decoder hidden state $T$ times. We then calculate the energy, $E_t$, between them by concatenating them together and passing them through a linear layer (`attn`) and a $\\tanh$ activation function. \n",
    "\n",
    "$$E_t = \\tanh(\\text{attn}(s_{t-1}, H))$$ \n",
    "\n",
    "This can be thought of as calculating how well each encoder hidden state \"matches\" the previous decoder hidden state.\n",
    "\n",
    "We currently have a **[dec hid dim, src len]** tensor for each example in the batch. We want this to be **[src len]** for each example in the batch as the attention should be over the length of the source sentence. This is achieved by multiplying the `energy` by a **[1, dec hid dim]** tensor, $v$.\n",
    "\n",
    "$$\\hat{a}_t = v E_t$$\n",
    "\n",
    "We can think of $v$ as the weights for a weighted sum of the energy across all encoder hidden states. These weights tell us how much we should attend to each token in the source sequence. The parameters of $v$ are initialized randomly, but learned with the rest of the model via backpropagation. Note how $v$ is not dependent on time, and the same $v$ is used for each time-step of the decoding. We implement $v$ as a linear layer without a bias.\n",
    "\n",
    "Finally, we ensure the attention vector fits the constraints of having all elements between 0 and 1 and the vector summing to 1 by passing it through a $\\text{softmax}$ layer.\n",
    "\n",
    "$$a_t = \\text{softmax}(\\hat{a_t})$$\n",
    "\n",
    "This gives us the attention over the source sentence!\n",
    "\n",
    "Graphically, this looks something like below. This is for calculating the very first attention vector, where $s_{t-1} = s_0 = z$. The green/teal blocks represent the hidden states from both the forward and backward RNNs, and the attention computation is all done within the pink block.\n",
    "\n",
    "![](assets/seq2seq9.png)"
   ]
  },
  {
   "cell_type": "code",
   "execution_count": 33,
   "metadata": {
    "execution": {
     "iopub.execute_input": "2022-04-04T04:10:13.932470Z",
     "iopub.status.busy": "2022-04-04T04:10:13.932328Z",
     "iopub.status.idle": "2022-04-04T04:10:13.936430Z",
     "shell.execute_reply": "2022-04-04T04:10:13.936160Z",
     "shell.execute_reply.started": "2022-04-04T04:10:13.932456Z"
    },
    "tags": []
   },
   "outputs": [],
   "source": [
    "class Attention(nn.Module):\n",
    "    def __init__(self, enc_hid_dim, dec_hid_dim):\n",
    "        super().__init__()\n",
    "        \n",
    "        self.attn = nn.Linear((enc_hid_dim * 2) + dec_hid_dim, dec_hid_dim)\n",
    "        self.v = nn.Linear(dec_hid_dim, 1, bias = False)\n",
    "        \n",
    "    def forward(self, hidden, encoder_outputs):\n",
    "        \n",
    "        #hidden = [batch size, dec hid dim]\n",
    "        #encoder_outputs = [src len, batch size, enc hid dim * 2]\n",
    "        \n",
    "        batch_size = encoder_outputs.shape[1]\n",
    "        src_len = encoder_outputs.shape[0]\n",
    "        \n",
    "        #repeat decoder hidden state src_len times\n",
    "        hidden = hidden.unsqueeze(1).repeat(1, src_len, 1)\n",
    "        \n",
    "        encoder_outputs = encoder_outputs.permute(1, 0, 2)\n",
    "        \n",
    "        #hidden = [batch size, src len, dec hid dim]\n",
    "        #encoder_outputs = [batch size, src len, enc hid dim * 2]\n",
    "        \n",
    "        energy = torch.tanh(self.attn(torch.cat((hidden, encoder_outputs), dim = 2))) \n",
    "        \n",
    "        #energy = [batch size, src len, dec hid dim]\n",
    "\n",
    "        attention = self.v(energy).squeeze(2)\n",
    "        \n",
    "        #attention= [batch size, src len]\n",
    "        \n",
    "        return F.softmax(attention, dim=1)"
   ]
  },
  {
   "cell_type": "markdown",
   "metadata": {
    "id": "7esX6rp0Un3A"
   },
   "source": [
    "### Decoder\n",
    "\n",
    "Next up is the decoder. \n",
    "\n",
    "The decoder contains the attention layer, `attention`, which takes the previous hidden state, $s_{t-1}$, all of the encoder hidden states, $H$, and returns the attention vector, $a_t$.\n",
    "\n",
    "We then use this attention vector to create a weighted source vector, $w_t$, denoted by `weighted`, which is a weighted sum of the encoder hidden states, $H$, using $a_t$ as the weights.\n",
    "\n",
    "$$w_t = a_t H$$\n",
    "\n",
    "The embedded input word, $d(y_t)$, the weighted source vector, $w_t$, and the previous decoder hidden state, $s_{t-1}$, are then all passed into the decoder RNN, with $d(y_t)$ and $w_t$ being concatenated together.\n",
    "\n",
    "$$s_t = \\text{DecoderGRU}(d(y_t), w_t, s_{t-1})$$\n",
    "\n",
    "We then pass $d(y_t)$, $w_t$ and $s_t$ through the linear layer, $f$, to make a prediction of the next word in the target sentence, $\\hat{y}_{t+1}$. This is done by concatenating them all together.\n",
    "\n",
    "$$\\hat{y}_{t+1} = f(d(y_t), w_t, s_t)$$\n",
    "\n",
    "The image below shows decoding the first word in an example translation.\n",
    "\n",
    "![](assets/seq2seq10.png)\n",
    "\n",
    "The green/teal blocks show the forward/backward encoder RNNs which output $H$, the red block shows the context vector, $z = h_T = \\tanh(g(h^\\rightarrow_T,h^\\leftarrow_T)) = \\tanh(g(z^\\rightarrow, z^\\leftarrow)) = s_0$, the blue block shows the decoder RNN which outputs $s_t$, the purple block shows the linear layer, $f$, which outputs $\\hat{y}_{t+1}$ and the orange block shows the calculation of the weighted sum over $H$ by $a_t$ and outputs $w_t$. Not shown is the calculation of $a_t$."
   ]
  },
  {
   "cell_type": "code",
   "execution_count": 34,
   "metadata": {
    "execution": {
     "iopub.execute_input": "2022-04-04T04:10:15.253057Z",
     "iopub.status.busy": "2022-04-04T04:10:15.252916Z",
     "iopub.status.idle": "2022-04-04T04:10:15.258771Z",
     "shell.execute_reply": "2022-04-04T04:10:15.258347Z",
     "shell.execute_reply.started": "2022-04-04T04:10:15.253043Z"
    },
    "executionInfo": {
     "elapsed": 226,
     "status": "ok",
     "timestamp": 1644563467091,
     "user": {
      "displayName": "Shaannoor Mann",
      "photoUrl": "https://lh3.googleusercontent.com/a/default-user=s64",
      "userId": "02520257695567980696"
     },
     "user_tz": 360
    },
    "id": "AVkx_S2fUn3A",
    "tags": []
   },
   "outputs": [],
   "source": [
    "class Decoder(nn.Module):\n",
    "    def __init__(self, output_dim, emb_dim, enc_hid_dim, dec_hid_dim, dropout, attention):\n",
    "        super().__init__()\n",
    "\n",
    "        self.output_dim = output_dim\n",
    "        self.attention = attention\n",
    "        \n",
    "        self.embedding = nn.Embedding(output_dim, emb_dim)\n",
    "        \n",
    "        self.rnn = nn.GRU((enc_hid_dim * 2) + emb_dim, dec_hid_dim)\n",
    "        \n",
    "        self.fc_out = nn.Linear((enc_hid_dim * 2) + dec_hid_dim + emb_dim, output_dim)\n",
    "        \n",
    "        self.dropout = nn.Dropout(dropout)\n",
    "        \n",
    "    def forward(self, input, hidden, encoder_outputs):\n",
    "             \n",
    "        #input = [batch size]\n",
    "        #hidden = [batch size, dec hid dim]\n",
    "        #encoder_outputs = [src len, batch size, enc hid dim * 2]\n",
    "        \n",
    "        input = input.unsqueeze(0)\n",
    "        \n",
    "        #input = [1, batch size]\n",
    "        \n",
    "        embedded = self.dropout(self.embedding(input))\n",
    "        \n",
    "        #embedded = [1, batch size, emb dim]\n",
    "        \n",
    "        a = self.attention(hidden, encoder_outputs)\n",
    "                \n",
    "        #a = [batch size, src len]\n",
    "        \n",
    "        a = a.unsqueeze(1)\n",
    "        \n",
    "        #a = [batch size, 1, src len]\n",
    "        \n",
    "        encoder_outputs = encoder_outputs.permute(1, 0, 2)\n",
    "        \n",
    "        #encoder_outputs = [batch size, src len, enc hid dim * 2]\n",
    "        \n",
    "        weighted = torch.bmm(a, encoder_outputs)\n",
    "        \n",
    "        #weighted = [batch size, 1, enc hid dim * 2]\n",
    "        \n",
    "        weighted = weighted.permute(1, 0, 2)\n",
    "        \n",
    "        #weighted = [1, batch size, enc hid dim * 2]\n",
    "        \n",
    "        rnn_input = torch.cat((embedded, weighted), dim = 2)\n",
    "        \n",
    "        #rnn_input = [1, batch size, (enc hid dim * 2) + emb dim]\n",
    "            \n",
    "        output, hidden = self.rnn(rnn_input, hidden.unsqueeze(0))\n",
    "        \n",
    "        #output = [seq len, batch size, dec hid dim * n directions]\n",
    "        #hidden = [n layers * n directions, batch size, dec hid dim]\n",
    "        \n",
    "        #seq len, n layers and n directions will always be 1 in this decoder, therefore:\n",
    "        #output = [1, batch size, dec hid dim]\n",
    "        #hidden = [1, batch size, dec hid dim]\n",
    "        #this also means that output == hidden\n",
    "        assert (output == hidden).all()\n",
    "        \n",
    "        embedded = embedded.squeeze(0)\n",
    "        output = output.squeeze(0)\n",
    "        weighted = weighted.squeeze(0)\n",
    "        \n",
    "        prediction = self.fc_out(torch.cat((output, weighted, embedded), dim = 1))\n",
    "        \n",
    "        #prediction = [batch size, output dim]\n",
    "        \n",
    "        return prediction, hidden.squeeze(0)"
   ]
  },
  {
   "cell_type": "markdown",
   "metadata": {
    "id": "VNxlQ5KYUn3A"
   },
   "source": [
    "### Seq2Seq\n",
    "\n",
    "This is the first model where we don't have to have the encoder RNN and decoder RNN have the same hidden dimensions, however the encoder has to be bidirectional. This requirement can be removed by changing all occurences of `enc_dim * 2` to `enc_dim * 2 if encoder_is_bidirectional else enc_dim`. \n",
    "\n",
    "This seq2seq encapsulator is similar to the last two. The only difference is that the `encoder` returns both the final hidden state (which is the final hidden state from both the forward and backward encoder RNNs passed through a linear layer) to be used as the initial hidden state for the decoder, as well as every hidden state (which are the forward and backward hidden states stacked on top of each other). We also need to ensure that `hidden` and `encoder_outputs` are passed to the decoder. \n",
    "\n",
    "Briefly going over all of the steps:\n",
    "- the `outputs` tensor is created to hold all predictions, $\\hat{Y}$\n",
    "- the source sequence, $X$, is fed into the encoder to receive $z$ and $H$\n",
    "- the initial decoder hidden state is set to be the `context` vector, $s_0 = z = h_T$\n",
    "- we use a batch of `<sos>` tokens as the first `input`, $y_1$\n",
    "- we then decode within a loop:\n",
    "  - inserting the input token $y_t$, previous hidden state, $s_{t-1}$, and all encoder outputs, $H$, into the decoder\n",
    "  - receiving a prediction, $\\hat{y}_{t+1}$, and a new hidden state, $s_t$\n",
    "  - we then decide if we are going to teacher force or not, setting the next input as appropriate"
   ]
  },
  {
   "cell_type": "code",
   "execution_count": 35,
   "metadata": {
    "execution": {
     "iopub.execute_input": "2022-04-04T04:10:18.568242Z",
     "iopub.status.busy": "2022-04-04T04:10:18.568102Z",
     "iopub.status.idle": "2022-04-04T04:10:18.572591Z",
     "shell.execute_reply": "2022-04-04T04:10:18.572127Z",
     "shell.execute_reply.started": "2022-04-04T04:10:18.568228Z"
    },
    "executionInfo": {
     "elapsed": 111,
     "status": "ok",
     "timestamp": 1644563469133,
     "user": {
      "displayName": "Shaannoor Mann",
      "photoUrl": "https://lh3.googleusercontent.com/a/default-user=s64",
      "userId": "02520257695567980696"
     },
     "user_tz": 360
    },
    "id": "kH4m5zk7Un3B",
    "tags": []
   },
   "outputs": [],
   "source": [
    "class Seq2Seq(nn.Module):\n",
    "    def __init__(self, encoder, decoder, device):\n",
    "        super().__init__()\n",
    "        \n",
    "        self.encoder = encoder\n",
    "        self.decoder = decoder\n",
    "        self.device = device\n",
    "        \n",
    "    def forward(self, src, trg, teacher_forcing_ratio = 0.5):\n",
    "        \n",
    "        #src = [src len, batch size]\n",
    "        #trg = [trg len, batch size]\n",
    "        #teacher_forcing_ratio is probability to use teacher forcing\n",
    "        #e.g. if teacher_forcing_ratio is 0.75 we use teacher forcing 75% of the time\n",
    "        \n",
    "        batch_size = src.shape[1]\n",
    "        trg_len = trg.shape[0]\n",
    "        trg_vocab_size = self.decoder.output_dim\n",
    "        \n",
    "        #tensor to store decoder outputs\n",
    "        outputs = torch.zeros(trg_len, batch_size, trg_vocab_size).to(self.device)\n",
    "        \n",
    "        #encoder_outputs is all hidden states of the input sequence, back and forwards\n",
    "        #hidden is the final forward and backward hidden states, passed through a linear layer\n",
    "        encoder_outputs, hidden = self.encoder(src)\n",
    "                \n",
    "        #first input to the decoder is the <sos> tokens\n",
    "        input = trg[0,:]\n",
    "        \n",
    "        for t in range(1, trg_len):\n",
    "            \n",
    "            #insert input token embedding, previous hidden state and all encoder hidden states\n",
    "            #receive output tensor (predictions) and new hidden state\n",
    "            output, hidden = self.decoder(input, hidden, encoder_outputs)\n",
    "            \n",
    "            #place predictions in a tensor holding predictions for each token\n",
    "            outputs[t] = output\n",
    "            \n",
    "            #decide if we are going to use teacher forcing or not\n",
    "            teacher_force = random.random() < teacher_forcing_ratio\n",
    "            \n",
    "            #get the highest predicted token from our predictions\n",
    "            top1 = output.argmax(1) \n",
    "            \n",
    "            #if teacher forcing, use actual next token as next input\n",
    "            #if not, use predicted token\n",
    "            input = trg[t] if teacher_force else top1\n",
    "\n",
    "        return outputs\n",
    " \n",
    " "
   ]
  },
  {
   "cell_type": "markdown",
   "metadata": {
    "id": "HyPbOrlHUn3B"
   },
   "source": [
    "# Training the Seq2Seq Model\n",
    "\n",
    "The rest of this tutorial is very similar to the previous one. \n",
    "\n",
    "We initialise our encoder, decoder and seq2seq model (placing it on the GPU if we have one). As before, the embedding dimensions and the amount of dropout used can be different between the encoder and the decoder, but the hidden dimensions must remain the same."
   ]
  },
  {
   "cell_type": "code",
   "execution_count": 36,
   "metadata": {
    "execution": {
     "iopub.execute_input": "2022-04-04T04:10:24.148362Z",
     "iopub.status.busy": "2022-04-04T04:10:24.148204Z",
     "iopub.status.idle": "2022-04-04T04:10:26.136376Z",
     "shell.execute_reply": "2022-04-04T04:10:26.135891Z",
     "shell.execute_reply.started": "2022-04-04T04:10:24.148347Z"
    },
    "executionInfo": {
     "elapsed": 255,
     "status": "ok",
     "timestamp": 1644563471159,
     "user": {
      "displayName": "Shaannoor Mann",
      "photoUrl": "https://lh3.googleusercontent.com/a/default-user=s64",
      "userId": "02520257695567980696"
     },
     "user_tz": 360
    },
    "id": "xg6tH3mDUn3B",
    "tags": []
   },
   "outputs": [],
   "source": [
    "device = torch.device('cuda' if torch.cuda.is_available() else 'cpu')\n",
    "INPUT_DIM = len(source_vocab)\n",
    "OUTPUT_DIM = len(target_vocab)\n",
    "ENC_EMB_DIM = 256\n",
    "DEC_EMB_DIM = 256\n",
    "ENC_HID_DIM = 512\n",
    "DEC_HID_DIM = 512\n",
    "ENC_DROPOUT = 0.5\n",
    "DEC_DROPOUT = 0.5\n",
    "\n",
    "attn = Attention(ENC_HID_DIM, DEC_HID_DIM)\n",
    "enc = Encoder(INPUT_DIM, ENC_EMB_DIM, ENC_HID_DIM, DEC_HID_DIM, ENC_DROPOUT)\n",
    "dec = Decoder(OUTPUT_DIM, DEC_EMB_DIM, ENC_HID_DIM, DEC_HID_DIM, DEC_DROPOUT, attn)\n",
    "\n",
    "model = Seq2Seq(enc, dec, device).to(device)"
   ]
  },
  {
   "cell_type": "markdown",
   "metadata": {
    "id": "R8QiCSrzUn3B"
   },
   "source": [
    "Next, we initialize our parameters. The paper states the parameters are initialized from a normal distribution with a mean of 0 and a standard deviation of 0.01, i.e. $\\mathcal{N}(0, 0.01)$. \n",
    "\n",
    "It also states we should initialize the recurrent parameters to a special initialization, however to keep things simple we'll also initialize them to $\\mathcal{N}(0, 0.01)$."
   ]
  },
  {
   "cell_type": "code",
   "execution_count": 32,
   "metadata": {
    "colab": {
     "base_uri": "https://localhost:8080/"
    },
    "execution": {
     "iopub.execute_input": "2022-04-03T09:07:51.709347Z",
     "iopub.status.busy": "2022-04-03T09:07:51.709256Z",
     "iopub.status.idle": "2022-04-03T09:07:51.714773Z",
     "shell.execute_reply": "2022-04-03T09:07:51.714452Z",
     "shell.execute_reply.started": "2022-04-03T09:07:51.709335Z"
    },
    "executionInfo": {
     "elapsed": 3,
     "status": "ok",
     "timestamp": 1644563473045,
     "user": {
      "displayName": "Shaannoor Mann",
      "photoUrl": "https://lh3.googleusercontent.com/a/default-user=s64",
      "userId": "02520257695567980696"
     },
     "user_tz": 360
    },
    "id": "8a9Kgdh5Un3B",
    "outputId": "c03e8da5-e564-43e3-f5c6-0478b08d3abb",
    "tags": []
   },
   "outputs": [
    {
     "data": {
      "text/plain": [
       "Seq2Seq(\n",
       "  (encoder): Encoder(\n",
       "    (embedding): Embedding(6115, 256)\n",
       "    (rnn): GRU(256, 512, bidirectional=True)\n",
       "    (fc): Linear(in_features=1024, out_features=512, bias=True)\n",
       "    (dropout): Dropout(p=0.5, inplace=False)\n",
       "  )\n",
       "  (decoder): Decoder(\n",
       "    (attention): Attention(\n",
       "      (attn): Linear(in_features=1536, out_features=512, bias=True)\n",
       "      (v): Linear(in_features=512, out_features=1, bias=False)\n",
       "    )\n",
       "    (embedding): Embedding(6537, 256)\n",
       "    (rnn): GRU(1280, 512)\n",
       "    (fc_out): Linear(in_features=1792, out_features=6537, bias=True)\n",
       "    (dropout): Dropout(p=0.5, inplace=False)\n",
       "  )\n",
       ")"
      ]
     },
     "execution_count": 32,
     "metadata": {},
     "output_type": "execute_result"
    }
   ],
   "source": [
    "def init_weights(m):\n",
    "    for name, param in m.named_parameters():\n",
    "        if 'weight' in name:\n",
    "            nn.init.normal_(param.data, mean=0, std=0.01)\n",
    "        else:\n",
    "            nn.init.constant_(param.data, 0)\n",
    "            \n",
    "model.apply(init_weights)"
   ]
  },
  {
   "cell_type": "markdown",
   "metadata": {
    "id": "kX8djfNtUn3B"
   },
   "source": [
    "We also define a function that will calculate the number of trainable parameters in the model.\n",
    "\n",
    "Even though we only have a single layer RNN for our encoder and decoder we actually have **more** parameters  than the last model. This is due to the increased size of the inputs to the GRU and the linear layer. However, it is not a significant amount of parameters and causes a minimal amount of increase in training time (~3 seconds per epoch extra)."
   ]
  },
  {
   "cell_type": "code",
   "execution_count": 33,
   "metadata": {
    "colab": {
     "base_uri": "https://localhost:8080/"
    },
    "execution": {
     "iopub.execute_input": "2022-04-03T09:07:51.715452Z",
     "iopub.status.busy": "2022-04-03T09:07:51.715283Z",
     "iopub.status.idle": "2022-04-03T09:07:51.718048Z",
     "shell.execute_reply": "2022-04-03T09:07:51.717784Z",
     "shell.execute_reply.started": "2022-04-03T09:07:51.715439Z"
    },
    "executionInfo": {
     "elapsed": 145,
     "status": "ok",
     "timestamp": 1644563475026,
     "user": {
      "displayName": "Shaannoor Mann",
      "photoUrl": "https://lh3.googleusercontent.com/a/default-user=s64",
      "userId": "02520257695567980696"
     },
     "user_tz": 360
    },
    "id": "SJW-AD6NUn3C",
    "outputId": "d7cc1242-17b7-4207-814d-af3e2ea41de5",
    "tags": []
   },
   "outputs": [
    {
     "name": "stdout",
     "output_type": "stream",
     "text": [
      "The model has 21,393,033 trainable parameters\n"
     ]
    }
   ],
   "source": [
    "def count_parameters(model):\n",
    "    return sum(p.numel() for p in model.parameters() if p.requires_grad)\n",
    "\n",
    "print(f'The model has {count_parameters(model):,} trainable parameters')"
   ]
  },
  {
   "cell_type": "markdown",
   "metadata": {
    "id": "kqFRDWy5Un3C"
   },
   "source": [
    "We define our optimizer, which we use to update our parameters in the training loop. Check out [this](http://ruder.io/optimizing-gradient-descent/) post for information about different optimizers. Here, we'll use Adam."
   ]
  },
  {
   "cell_type": "code",
   "execution_count": 34,
   "metadata": {
    "execution": {
     "iopub.execute_input": "2022-04-03T09:07:51.718631Z",
     "iopub.status.busy": "2022-04-03T09:07:51.718513Z",
     "iopub.status.idle": "2022-04-03T09:07:51.721322Z",
     "shell.execute_reply": "2022-04-03T09:07:51.721079Z",
     "shell.execute_reply.started": "2022-04-03T09:07:51.718618Z"
    },
    "executionInfo": {
     "elapsed": 2,
     "status": "ok",
     "timestamp": 1644563477113,
     "user": {
      "displayName": "Shaannoor Mann",
      "photoUrl": "https://lh3.googleusercontent.com/a/default-user=s64",
      "userId": "02520257695567980696"
     },
     "user_tz": 360
    },
    "id": "uQW8MwmpUn3C",
    "tags": []
   },
   "outputs": [],
   "source": [
    "optimizer = optim.Adam(model.parameters())"
   ]
  },
  {
   "cell_type": "markdown",
   "metadata": {
    "id": "vP8-nNUgUn3C"
   },
   "source": [
    "Next, we define our loss function. The `CrossEntropyLoss` function calculates both the log softmax as well as the negative log-likelihood of our predictions. \n",
    "\n",
    "Our loss function calculates the average loss per token, however by passing the index of the `<pad>` token as the `ignore_index` argument we ignore the loss whenever the target token is a padding token. "
   ]
  },
  {
   "cell_type": "code",
   "execution_count": 39,
   "metadata": {
    "colab": {
     "base_uri": "https://localhost:8080/"
    },
    "execution": {
     "iopub.execute_input": "2022-04-04T04:11:06.074800Z",
     "iopub.status.busy": "2022-04-04T04:11:06.074648Z",
     "iopub.status.idle": "2022-04-04T04:11:06.077800Z",
     "shell.execute_reply": "2022-04-04T04:11:06.077466Z",
     "shell.execute_reply.started": "2022-04-04T04:11:06.074787Z"
    },
    "executionInfo": {
     "elapsed": 108,
     "status": "ok",
     "timestamp": 1644563481663,
     "user": {
      "displayName": "Shaannoor Mann",
      "photoUrl": "https://lh3.googleusercontent.com/a/default-user=s64",
      "userId": "02520257695567980696"
     },
     "user_tz": 360
    },
    "id": "kwbug8VNUn3C",
    "outputId": "c6dba05d-3e9d-456a-c388-af2393e0194c",
    "tags": []
   },
   "outputs": [
    {
     "data": {
      "text/plain": [
       "3"
      ]
     },
     "execution_count": 39,
     "metadata": {},
     "output_type": "execute_result"
    }
   ],
   "source": [
    "TRG_PAD_IDX = target_vocab['<PAD>']\n",
    "TRG_PAD_IDX"
   ]
  },
  {
   "cell_type": "code",
   "execution_count": 40,
   "metadata": {
    "execution": {
     "iopub.execute_input": "2022-04-04T04:11:06.660607Z",
     "iopub.status.busy": "2022-04-04T04:11:06.660362Z",
     "iopub.status.idle": "2022-04-04T04:11:06.663660Z",
     "shell.execute_reply": "2022-04-04T04:11:06.663239Z",
     "shell.execute_reply.started": "2022-04-04T04:11:06.660566Z"
    },
    "executionInfo": {
     "elapsed": 2,
     "status": "ok",
     "timestamp": 1644563482600,
     "user": {
      "displayName": "Shaannoor Mann",
      "photoUrl": "https://lh3.googleusercontent.com/a/default-user=s64",
      "userId": "02520257695567980696"
     },
     "user_tz": 360
    },
    "id": "HqDGxXU-2A7y",
    "tags": []
   },
   "outputs": [],
   "source": [
    "criterion = nn.CrossEntropyLoss(ignore_index = TRG_PAD_IDX)"
   ]
  },
  {
   "cell_type": "markdown",
   "metadata": {
    "id": "DTSE8TjRUn3C"
   },
   "source": [
    "Next, we'll define our training loop. \n",
    "\n",
    "First, we'll set the model into \"training mode\" with `model.train()`. This will turn on dropout (and batch normalization, which we aren't using) and then iterate through our data iterator.\n",
    "\n",
    "As stated before, our decoder loop starts at 1, not 0. This means the 0th element of our `outputs` tensor remains all zeros. So our `trg` and `outputs` look something like:\n",
    "\n",
    "$$\\begin{align*}\n",
    "\\text{trg} = [<sos>, &y_1, y_2, y_3, <eos>]\\\\\n",
    "\\text{outputs} = [0, &\\hat{y}_1, \\hat{y}_2, \\hat{y}_3, <eos>]\n",
    "\\end{align*}$$\n",
    "\n",
    "Here, when we calculate the loss, we cut off the first element of each tensor to get:\n",
    "\n",
    "$$\\begin{align*}\n",
    "\\text{trg} = [&y_1, y_2, y_3, <eos>]\\\\\n",
    "\\text{outputs} = [&\\hat{y}_1, \\hat{y}_2, \\hat{y}_3, <eos>]\n",
    "\\end{align*}$$\n",
    "\n",
    "At each iteration:\n",
    "- get the source and target sentences from the batch, $X$ and $Y$\n",
    "- zero the gradients calculated from the last batch\n",
    "- feed the source and target into the model to get the output, $\\hat{Y}$\n",
    "- as the loss function only works on 2d inputs with 1d targets we need to flatten each of them with `.view`\n",
    "    - we slice off the first column of the output and target tensors as mentioned above\n",
    "- calculate the gradients with `loss.backward()`\n",
    "- clip the gradients to prevent them from exploding (a common issue in RNNs)\n",
    "- update the parameters of our model by doing an optimizer step\n",
    "- sum the loss value to a running total\n",
    "\n",
    "Finally, we return the loss that is averaged over all batches."
   ]
  },
  {
   "cell_type": "code",
   "execution_count": 45,
   "metadata": {
    "execution": {
     "iopub.execute_input": "2022-04-03T09:10:58.660489Z",
     "iopub.status.busy": "2022-04-03T09:10:58.660348Z",
     "iopub.status.idle": "2022-04-03T09:10:58.664618Z",
     "shell.execute_reply": "2022-04-03T09:10:58.664259Z",
     "shell.execute_reply.started": "2022-04-03T09:10:58.660475Z"
    },
    "executionInfo": {
     "elapsed": 192,
     "status": "ok",
     "timestamp": 1644563484589,
     "user": {
      "displayName": "Shaannoor Mann",
      "photoUrl": "https://lh3.googleusercontent.com/a/default-user=s64",
      "userId": "02520257695567980696"
     },
     "user_tz": 360
    },
    "id": "BYKiriabUn3C",
    "tags": []
   },
   "outputs": [],
   "source": [
    "from torch.cuda.amp import GradScaler, autocast\n",
    "\n",
    "scaler = GradScaler()\n",
    "batch_size = 4\n",
    "gradient_accumulations = 32\n",
    "\n",
    "def train(model, iterator, optimizer, criterion, clip):\n",
    "    \n",
    "    model.train()\n",
    "    \n",
    "    epoch_loss = 0\n",
    "    \n",
    "    for batch_idx, (src, trg) in enumerate(iterator):\n",
    "        \n",
    "        src = src.to(device)\n",
    "        trg = trg.to(device)\n",
    "        \n",
    "        with autocast():        \n",
    "            output = model(src, trg)\n",
    "\n",
    "            #trg = [trg len, batch size]\n",
    "            #output = [trg len, batch size, output dim]\n",
    "\n",
    "            output_dim = output.shape[-1]\n",
    "\n",
    "            output = output[1:].view(-1, output_dim)\n",
    "            trg = trg[1:].view(-1)\n",
    "\n",
    "            #trg = [(trg len - 1) * batch size]\n",
    "            #output = [(trg len - 1) * batch size, output dim]\n",
    "\n",
    "            loss = criterion(output, trg)\n",
    "        \n",
    "        scaler.scale(loss / gradient_accumulations).backward()\n",
    "        torch.nn.utils.clip_grad_norm_(model.parameters(), clip)\n",
    "        \n",
    "        if (batch_idx + 1) % gradient_accumulations == 0:\n",
    "        \n",
    "            scaler.step(optimizer)\n",
    "            scaler.update()\n",
    "            model.zero_grad()\n",
    "        \n",
    "        epoch_loss += loss.item()\n",
    "        \n",
    "    return epoch_loss / len(iterator)"
   ]
  },
  {
   "cell_type": "markdown",
   "metadata": {
    "id": "XEEHX3lcUn3C"
   },
   "source": [
    "Our evaluation loop is similar to our training loop, however as we aren't updating any parameters we don't need to pass an optimizer or a clip value.\n",
    "\n",
    "We must remember to set the model to evaluation mode with `model.eval()`. This will turn off dropout (and batch normalization, if used).\n",
    "\n",
    "We use the `with torch.no_grad()` block to ensure no gradients are calculated within the block. This reduces memory consumption and speeds things up. \n",
    "\n",
    "The iteration loop is similar (without the parameter updates), however we must ensure we turn teacher forcing off for evaluation. This will cause the model to only use it's own predictions to make further predictions within a sentence, which mirrors how it would be used in deployment."
   ]
  },
  {
   "cell_type": "code",
   "execution_count": 30,
   "metadata": {
    "execution": {
     "iopub.execute_input": "2022-04-04T04:09:37.737374Z",
     "iopub.status.busy": "2022-04-04T04:09:37.737235Z",
     "iopub.status.idle": "2022-04-04T04:09:37.740826Z",
     "shell.execute_reply": "2022-04-04T04:09:37.740531Z",
     "shell.execute_reply.started": "2022-04-04T04:09:37.737360Z"
    },
    "executionInfo": {
     "elapsed": 1,
     "status": "ok",
     "timestamp": 1644563486426,
     "user": {
      "displayName": "Shaannoor Mann",
      "photoUrl": "https://lh3.googleusercontent.com/a/default-user=s64",
      "userId": "02520257695567980696"
     },
     "user_tz": 360
    },
    "id": "q_0CMMb9Un3C",
    "tags": []
   },
   "outputs": [],
   "source": [
    "def evaluate(model, iterator, criterion):\n",
    "    \n",
    "    model.eval()\n",
    "    \n",
    "    epoch_loss = 0\n",
    "    \n",
    "    with torch.no_grad():\n",
    "    \n",
    "        for src, trg in iterator:\n",
    "\n",
    "            src = src.to(device)\n",
    "            trg = trg.to(device)\n",
    "\n",
    "            output = model(src, trg, 0) #turn off teacher forcing\n",
    "\n",
    "            #trg = [trg len, batch size]\n",
    "            #output = [trg len, batch size, output dim]\n",
    "\n",
    "            output_dim = output.shape[-1]\n",
    "            \n",
    "            output = output[1:].view(-1, output_dim)\n",
    "            trg = trg[1:].view(-1)\n",
    "\n",
    "            #trg = [(trg len - 1) * batch size]\n",
    "            #output = [(trg len - 1) * batch size, output dim]\n",
    "\n",
    "            loss = criterion(output, trg)\n",
    "            \n",
    "            epoch_loss += loss.item()\n",
    "        \n",
    "    return epoch_loss / len(iterator)"
   ]
  },
  {
   "cell_type": "markdown",
   "metadata": {
    "id": "dBWvFyRmUn3D"
   },
   "source": [
    "Next, we'll create a function that we'll use to tell us how long an epoch takes."
   ]
  },
  {
   "cell_type": "code",
   "execution_count": 47,
   "metadata": {
    "execution": {
     "iopub.execute_input": "2022-04-03T09:11:00.215155Z",
     "iopub.status.busy": "2022-04-03T09:11:00.215008Z",
     "iopub.status.idle": "2022-04-03T09:11:00.218045Z",
     "shell.execute_reply": "2022-04-03T09:11:00.217539Z",
     "shell.execute_reply.started": "2022-04-03T09:11:00.215142Z"
    },
    "executionInfo": {
     "elapsed": 2,
     "status": "ok",
     "timestamp": 1644563488400,
     "user": {
      "displayName": "Shaannoor Mann",
      "photoUrl": "https://lh3.googleusercontent.com/a/default-user=s64",
      "userId": "02520257695567980696"
     },
     "user_tz": 360
    },
    "id": "dwfIeh7XUn3D",
    "tags": []
   },
   "outputs": [],
   "source": [
    "def epoch_time(start_time, end_time):\n",
    "    elapsed_time = end_time - start_time\n",
    "    elapsed_mins = int(elapsed_time / 60)\n",
    "    elapsed_secs = int(elapsed_time - (elapsed_mins * 60))\n",
    "    return elapsed_mins, elapsed_secs"
   ]
  },
  {
   "cell_type": "markdown",
   "metadata": {
    "id": "n16Yz_VcUn3D"
   },
   "source": [
    "We can finally start training our model!\n",
    "\n",
    "At each epoch, we'll be checking if our model has achieved the best validation loss so far. If it has, we'll update our best validation loss and save the parameters of our model (called `state_dict` in PyTorch). Then, when we come to test our model, we'll use the saved parameters used to achieve the best validation loss. \n",
    "\n",
    "We'll be printing out both the loss and the perplexity at each epoch. It is easier to see a change in perplexity than a change in loss as the numbers are much bigger."
   ]
  },
  {
   "cell_type": "code",
   "execution_count": 48,
   "metadata": {
    "colab": {
     "base_uri": "https://localhost:8080/"
    },
    "execution": {
     "iopub.execute_input": "2022-04-03T09:11:00.606254Z",
     "iopub.status.busy": "2022-04-03T09:11:00.606130Z",
     "iopub.status.idle": "2022-04-03T10:32:56.703228Z",
     "shell.execute_reply": "2022-04-03T10:32:56.702864Z",
     "shell.execute_reply.started": "2022-04-03T09:11:00.606240Z"
    },
    "executionInfo": {
     "elapsed": 292535,
     "status": "ok",
     "timestamp": 1644563782768,
     "user": {
      "displayName": "Shaannoor Mann",
      "photoUrl": "https://lh3.googleusercontent.com/a/default-user=s64",
      "userId": "02520257695567980696"
     },
     "user_tz": 360
    },
    "id": "7vyJuNQzUn3D",
    "outputId": "ac379d86-f63e-4d8d-ad98-be01d2394446",
    "tags": []
   },
   "outputs": [
    {
     "name": "stdout",
     "output_type": "stream",
     "text": [
      "Epoch: 01 | Time: 8m 8s\n",
      "\tTrain Loss: 6.264 | Train PPL: 525.415\n",
      "\t Val. Loss: 5.878 |  Val. PPL: 357.216\n",
      "Epoch: 02 | Time: 8m 13s\n",
      "\tTrain Loss: 5.786 | Train PPL: 325.698\n",
      "\t Val. Loss: 5.844 |  Val. PPL: 345.231\n",
      "Epoch: 03 | Time: 8m 13s\n",
      "\tTrain Loss: 5.684 | Train PPL: 294.236\n",
      "\t Val. Loss: 5.767 |  Val. PPL: 319.556\n",
      "Epoch: 04 | Time: 8m 11s\n",
      "\tTrain Loss: 5.607 | Train PPL: 272.267\n",
      "\t Val. Loss: 5.726 |  Val. PPL: 306.630\n",
      "Epoch: 05 | Time: 8m 12s\n",
      "\tTrain Loss: 5.562 | Train PPL: 260.378\n",
      "\t Val. Loss: 5.720 |  Val. PPL: 305.035\n",
      "Epoch: 06 | Time: 8m 8s\n",
      "\tTrain Loss: 5.500 | Train PPL: 244.751\n",
      "\t Val. Loss: 5.690 |  Val. PPL: 295.809\n",
      "Epoch: 07 | Time: 8m 12s\n",
      "\tTrain Loss: 5.469 | Train PPL: 237.231\n",
      "\t Val. Loss: 5.650 |  Val. PPL: 284.194\n",
      "Epoch: 08 | Time: 8m 12s\n",
      "\tTrain Loss: 5.423 | Train PPL: 226.599\n",
      "\t Val. Loss: 5.610 |  Val. PPL: 273.127\n",
      "Epoch: 09 | Time: 8m 9s\n",
      "\tTrain Loss: 5.373 | Train PPL: 215.460\n",
      "\t Val. Loss: 5.581 |  Val. PPL: 265.308\n",
      "Epoch: 10 | Time: 8m 12s\n",
      "\tTrain Loss: 5.348 | Train PPL: 210.144\n",
      "\t Val. Loss: 5.566 |  Val. PPL: 261.486\n"
     ]
    }
   ],
   "source": [
    "N_EPOCHS = 10\n",
    "CLIP = 1\n",
    "\n",
    "best_valid_loss = float('inf')\n",
    "\n",
    "model.zero_grad()\n",
    "for epoch in range(N_EPOCHS):\n",
    "    \n",
    "    start_time = time.time()\n",
    "    \n",
    "    train_loss = train(model, train_loader, optimizer, criterion, CLIP)\n",
    "    valid_loss = evaluate(model, valid_loader, criterion)\n",
    "    \n",
    "    end_time = time.time()\n",
    "    \n",
    "    epoch_mins, epoch_secs = epoch_time(start_time, end_time)\n",
    "    \n",
    "    if valid_loss < best_valid_loss:\n",
    "        best_valid_loss = valid_loss\n",
    "        torch.save(model.state_dict(), '3c_en_hi.pt')\n",
    "    \n",
    "    print(f'Epoch: {epoch+1:02} | Time: {epoch_mins}m {epoch_secs}s')\n",
    "    print(f'\\tTrain Loss: {train_loss:.3f} | Train PPL: {math.exp(train_loss):7.3f}')\n",
    "    print(f'\\t Val. Loss: {valid_loss:.3f} |  Val. PPL: {math.exp(valid_loss):7.3f}')"
   ]
  },
  {
   "cell_type": "markdown",
   "metadata": {
    "id": "UeXMknRvUn3D"
   },
   "source": [
    "We'll load the parameters (`state_dict`) that gave our model the best validation loss and run it the model on the test set."
   ]
  },
  {
   "cell_type": "code",
   "execution_count": 41,
   "metadata": {
    "colab": {
     "base_uri": "https://localhost:8080/"
    },
    "execution": {
     "iopub.execute_input": "2022-04-04T04:11:15.048596Z",
     "iopub.status.busy": "2022-04-04T04:11:15.048455Z",
     "iopub.status.idle": "2022-04-04T04:11:25.004931Z",
     "shell.execute_reply": "2022-04-04T04:11:25.004554Z",
     "shell.execute_reply.started": "2022-04-04T04:11:15.048582Z"
    },
    "executionInfo": {
     "elapsed": 638,
     "status": "ok",
     "timestamp": 1644563889501,
     "user": {
      "displayName": "Shaannoor Mann",
      "photoUrl": "https://lh3.googleusercontent.com/a/default-user=s64",
      "userId": "02520257695567980696"
     },
     "user_tz": 360
    },
    "id": "YFz9w3KmUn3D",
    "outputId": "61a64a2b-fc6e-4a97-de33-5f8cc4cbfd5f",
    "tags": []
   },
   "outputs": [
    {
     "name": "stdout",
     "output_type": "stream",
     "text": [
      "| Test Loss: 5.566 | Test PPL: 261.486 |\n"
     ]
    }
   ],
   "source": [
    "model.load_state_dict(torch.load('3c_en_hi.pt'))\n",
    "\n",
    "test_loss = evaluate(model, test_loader, criterion)\n",
    "\n",
    "print(f'| Test Loss: {test_loss:.3f} | Test PPL: {math.exp(test_loss):7.3f} |')"
   ]
  },
  {
   "cell_type": "markdown",
   "metadata": {
    "id": "3d61-wekUn3D"
   },
   "source": [
    "In the following notebook we'll implement a model that achieves improved test perplexity, but only uses a single layer in the encoder and the decoder."
   ]
  },
  {
   "cell_type": "code",
   "execution_count": null,
   "metadata": {},
   "outputs": [],
   "source": []
  }
 ],
 "metadata": {
  "accelerator": "GPU",
  "colab": {
   "collapsed_sections": [],
   "name": "2b - Rev_Sequence to Sequence Learning with Neural Networks.ipynb",
   "provenance": []
  },
  "kernelspec": {
   "display_name": "pt10",
   "language": "python",
   "name": "pt10"
  },
  "language_info": {
   "codemirror_mode": {
    "name": "ipython",
    "version": 3
   },
   "file_extension": ".py",
   "mimetype": "text/x-python",
   "name": "python",
   "nbconvert_exporter": "python",
   "pygments_lexer": "ipython3",
   "version": "3.8.12"
  }
 },
 "nbformat": 4,
 "nbformat_minor": 4
}
