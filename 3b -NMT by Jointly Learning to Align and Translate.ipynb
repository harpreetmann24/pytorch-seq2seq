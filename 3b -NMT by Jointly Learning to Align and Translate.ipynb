{
 "cells": [
  {
   "cell_type": "markdown",
   "metadata": {
    "id": "MjTMLaX0Un22"
   },
   "source": [
    "# 3b - Neural Machine Translation by Jointly Learning to Align and Translate"
   ]
  },
  {
   "cell_type": "markdown",
   "metadata": {
    "id": "jMIVwQyitAXd"
   },
   "source": [
    "## Import Libraries\n",
    "\n"
   ]
  },
  {
   "cell_type": "code",
   "execution_count": null,
   "metadata": {
    "id": "GNnMugG1WKTm"
   },
   "outputs": [],
   "source": [
    "#!pip install -U spacy"
   ]
  },
  {
   "cell_type": "code",
   "execution_count": null,
   "metadata": {
    "id": "Hp1WKED5WLNu"
   },
   "outputs": [],
   "source": [
    "#!pip install -U swifter"
   ]
  },
  {
   "cell_type": "code",
   "execution_count": 1,
   "metadata": {
    "execution": {
     "iopub.execute_input": "2022-04-14T19:28:33.984147Z",
     "iopub.status.busy": "2022-04-14T19:28:33.983962Z",
     "iopub.status.idle": "2022-04-14T19:28:34.803583Z",
     "shell.execute_reply": "2022-04-14T19:28:34.803137Z",
     "shell.execute_reply.started": "2022-04-14T19:28:33.984093Z"
    },
    "executionInfo": {
     "elapsed": 150,
     "status": "ok",
     "timestamp": 1644562950914,
     "user": {
      "displayName": "Shaannoor Mann",
      "photoUrl": "https://lh3.googleusercontent.com/a/default-user=s64",
      "userId": "02520257695567980696"
     },
     "user_tz": 360
    },
    "id": "JiUqMdpCUn24",
    "tags": []
   },
   "outputs": [],
   "source": [
    "import torch\n",
    "import torch.nn as nn\n",
    "import torch.optim as optim\n",
    "\n",
    "import torchtext \n",
    "from torchtext.datasets import Multi30k\n",
    "from torchtext.vocab import vocab\n",
    "import torch.nn.functional as F\n",
    "\n",
    "import spacy\n",
    "import numpy as np\n",
    "from collections import Counter\n",
    "\n",
    "import random\n",
    "import math\n",
    "import time\n",
    "import pandas as pd\n",
    "from pathlib import Path\n",
    "from torch.utils.data import DataLoader, Dataset\n",
    "from torch.nn.utils.rnn import pad_sequence\n",
    "#import swifter"
   ]
  },
  {
   "cell_type": "code",
   "execution_count": 2,
   "metadata": {
    "colab": {
     "base_uri": "https://localhost:8080/"
    },
    "execution": {
     "iopub.execute_input": "2022-04-14T19:28:38.826611Z",
     "iopub.status.busy": "2022-04-14T19:28:38.826455Z",
     "iopub.status.idle": "2022-04-14T19:28:38.828968Z",
     "shell.execute_reply": "2022-04-14T19:28:38.828521Z",
     "shell.execute_reply.started": "2022-04-14T19:28:38.826597Z"
    },
    "executionInfo": {
     "elapsed": 15399,
     "status": "ok",
     "timestamp": 1644562969910,
     "user": {
      "displayName": "Shaannoor Mann",
      "photoUrl": "https://lh3.googleusercontent.com/a/default-user=s64",
      "userId": "02520257695567980696"
     },
     "user_tz": 360
    },
    "id": "9uY_ZBxdtH_k",
    "outputId": "79b45cf6-8db1-4513-ae3b-ec37a8e423a7",
    "tags": []
   },
   "outputs": [],
   "source": [
    "#from google.colab import drive\n",
    "#drive.mount('/content/drive')"
   ]
  },
  {
   "cell_type": "code",
   "execution_count": 3,
   "metadata": {
    "execution": {
     "iopub.execute_input": "2022-04-14T19:28:39.036275Z",
     "iopub.status.busy": "2022-04-14T19:28:39.036137Z",
     "iopub.status.idle": "2022-04-14T19:28:39.038698Z",
     "shell.execute_reply": "2022-04-14T19:28:39.038439Z",
     "shell.execute_reply.started": "2022-04-14T19:28:39.036262Z"
    },
    "executionInfo": {
     "elapsed": 207,
     "status": "ok",
     "timestamp": 1644562972982,
     "user": {
      "displayName": "Shaannoor Mann",
      "photoUrl": "https://lh3.googleusercontent.com/a/default-user=s64",
      "userId": "02520257695567980696"
     },
     "user_tz": 360
    },
    "id": "LLLu5aF_VkRw",
    "tags": []
   },
   "outputs": [],
   "source": [
    "data_folder = Path('/home/harpreet/Insync/google_drive_shaannoor/Data/NLP')\n",
    "project_folder = Path('/home/harpreet/Insync/google_drive_harpreet/Research/NLP/pytorch-seq2seq')"
   ]
  },
  {
   "cell_type": "code",
   "execution_count": 4,
   "metadata": {
    "colab": {
     "base_uri": "https://localhost:8080/"
    },
    "execution": {
     "iopub.execute_input": "2022-04-14T19:28:39.414769Z",
     "iopub.status.busy": "2022-04-14T19:28:39.414562Z",
     "iopub.status.idle": "2022-04-14T19:28:39.421831Z",
     "shell.execute_reply": "2022-04-14T19:28:39.421443Z",
     "shell.execute_reply.started": "2022-04-14T19:28:39.414747Z"
    },
    "executionInfo": {
     "elapsed": 204,
     "status": "ok",
     "timestamp": 1644562974311,
     "user": {
      "displayName": "Shaannoor Mann",
      "photoUrl": "https://lh3.googleusercontent.com/a/default-user=s64",
      "userId": "02520257695567980696"
     },
     "user_tz": 360
    },
    "id": "PY9-guO2Un25",
    "outputId": "58c35621-c6ff-4c35-f57a-e713a1765748",
    "tags": []
   },
   "outputs": [
    {
     "data": {
      "text/plain": [
       "('0.11.0', '1.10.0', True, '3.2.4')"
      ]
     },
     "execution_count": 4,
     "metadata": {},
     "output_type": "execute_result"
    }
   ],
   "source": [
    "torchtext.__version__, torch.__version__, torch.cuda.is_available(), spacy.__version__"
   ]
  },
  {
   "cell_type": "markdown",
   "metadata": {
    "id": "wRVU8aBPUn26"
   },
   "source": [
    "# Set Seeds"
   ]
  },
  {
   "cell_type": "code",
   "execution_count": 5,
   "metadata": {
    "execution": {
     "iopub.execute_input": "2022-04-14T19:28:40.070633Z",
     "iopub.status.busy": "2022-04-14T19:28:40.070463Z",
     "iopub.status.idle": "2022-04-14T19:28:40.073960Z",
     "shell.execute_reply": "2022-04-14T19:28:40.073710Z",
     "shell.execute_reply.started": "2022-04-14T19:28:40.070620Z"
    },
    "executionInfo": {
     "elapsed": 205,
     "status": "ok",
     "timestamp": 1644562976461,
     "user": {
      "displayName": "Shaannoor Mann",
      "photoUrl": "https://lh3.googleusercontent.com/a/default-user=s64",
      "userId": "02520257695567980696"
     },
     "user_tz": 360
    },
    "id": "vzCQltiuUn26",
    "tags": []
   },
   "outputs": [],
   "source": [
    "SEED = 1234\n",
    "\n",
    "random.seed(SEED)\n",
    "np.random.seed(SEED)\n",
    "torch.manual_seed(SEED)\n",
    "torch.cuda.manual_seed(SEED)\n",
    "torch.backends.cudnn.deterministic = True"
   ]
  },
  {
   "cell_type": "markdown",
   "metadata": {
    "execution": {
     "iopub.execute_input": "2022-02-01T00:00:54.606189Z",
     "iopub.status.busy": "2022-02-01T00:00:54.606047Z",
     "iopub.status.idle": "2022-02-01T00:00:54.608419Z",
     "shell.execute_reply": "2022-02-01T00:00:54.608102Z",
     "shell.execute_reply.started": "2022-02-01T00:00:54.606174Z"
    },
    "id": "7OKdOYoVUn28"
   },
   "source": [
    "## Load Data and Tokenize"
   ]
  },
  {
   "cell_type": "markdown",
   "metadata": {},
   "source": [
    "<font color = 'green'> Next, we download and load the train, validation and test data. \n",
    "\n",
    "The dataset we'll be using is the [Multi30k dataset](https://github.com/multi30k/dataset). This is a dataset with ~30,000 parallel English, German and French sentences, each with ~12 words per sentence. \n",
    "\n",
    "The data was tokenized in Tutorial 1 and we will load the tokenized data"
   ]
  },
  {
   "cell_type": "code",
   "execution_count": 6,
   "metadata": {
    "execution": {
     "iopub.execute_input": "2022-04-14T19:28:42.741542Z",
     "iopub.status.busy": "2022-04-14T19:28:42.741408Z",
     "iopub.status.idle": "2022-04-14T19:28:42.889552Z",
     "shell.execute_reply": "2022-04-14T19:28:42.889063Z",
     "shell.execute_reply.started": "2022-04-14T19:28:42.741529Z"
    },
    "executionInfo": {
     "elapsed": 2722,
     "status": "ok",
     "timestamp": 1644562992084,
     "user": {
      "displayName": "Shaannoor Mann",
      "photoUrl": "https://lh3.googleusercontent.com/a/default-user=s64",
      "userId": "02520257695567980696"
     },
     "user_tz": 360
    },
    "id": "u-ZvSvH0TuCV",
    "tags": []
   },
   "outputs": [],
   "source": [
    "df_train = pd.read_pickle(project_folder/'df_train_en_de.pickel')\n",
    "df_test =  pd.read_pickle(project_folder/'df_test_en_de.pickel')\n",
    "df_valid = pd.read_pickle(project_folder/'df_valid_en_de.pickel')"
   ]
  },
  {
   "cell_type": "code",
   "execution_count": 7,
   "metadata": {
    "colab": {
     "base_uri": "https://localhost:8080/",
     "height": 423
    },
    "execution": {
     "iopub.execute_input": "2022-04-14T19:28:43.119106Z",
     "iopub.status.busy": "2022-04-14T19:28:43.118956Z",
     "iopub.status.idle": "2022-04-14T19:28:43.132167Z",
     "shell.execute_reply": "2022-04-14T19:28:43.131759Z",
     "shell.execute_reply.started": "2022-04-14T19:28:43.119092Z"
    },
    "executionInfo": {
     "elapsed": 146,
     "status": "ok",
     "timestamp": 1644562993614,
     "user": {
      "displayName": "Shaannoor Mann",
      "photoUrl": "https://lh3.googleusercontent.com/a/default-user=s64",
      "userId": "02520257695567980696"
     },
     "user_tz": 360
    },
    "id": "fDKpYa7mtAXi",
    "outputId": "824b281d-1909-4ffc-f95a-843d4a8207e9",
    "tags": []
   },
   "outputs": [
    {
     "data": {
      "text/html": [
       "<div>\n",
       "<style scoped>\n",
       "    .dataframe tbody tr th:only-of-type {\n",
       "        vertical-align: middle;\n",
       "    }\n",
       "\n",
       "    .dataframe tbody tr th {\n",
       "        vertical-align: top;\n",
       "    }\n",
       "\n",
       "    .dataframe thead th {\n",
       "        text-align: right;\n",
       "    }\n",
       "</style>\n",
       "<table border=\"1\" class=\"dataframe\">\n",
       "  <thead>\n",
       "    <tr style=\"text-align: right;\">\n",
       "      <th></th>\n",
       "      <th>source_tokens</th>\n",
       "      <th>target_tokens</th>\n",
       "      <th>source_tokens_reverse</th>\n",
       "    </tr>\n",
       "  </thead>\n",
       "  <tbody>\n",
       "    <tr>\n",
       "      <th>0</th>\n",
       "      <td>[zwei, junge, weiße, männer, sind, i, m, freie...</td>\n",
       "      <td>[two, young, ,, white, males, are, outside, ne...</td>\n",
       "      <td>[., büsche, vieler, nähe, der, in, freien, m, ...</td>\n",
       "    </tr>\n",
       "    <tr>\n",
       "      <th>1</th>\n",
       "      <td>[mehrere, männer, mit, schutzhelmen, bedienen,...</td>\n",
       "      <td>[several, men, in, hard, hats, are, operating,...</td>\n",
       "      <td>[., antriebsradsystem, ein, bedienen, schutzhe...</td>\n",
       "    </tr>\n",
       "    <tr>\n",
       "      <th>2</th>\n",
       "      <td>[ein, kleines, mädchen, klettert, in, ein, spi...</td>\n",
       "      <td>[a, little, girl, climbing, into, a, wooden, p...</td>\n",
       "      <td>[., holz, aus, spielhaus, ein, in, klettert, m...</td>\n",
       "    </tr>\n",
       "    <tr>\n",
       "      <th>3</th>\n",
       "      <td>[ein, mann, in, einem, blauen, hemd, steht, au...</td>\n",
       "      <td>[a, man, in, a, blue, shirt, is, standing, on,...</td>\n",
       "      <td>[., fenster, ein, putzt, und, leiter, einer, a...</td>\n",
       "    </tr>\n",
       "    <tr>\n",
       "      <th>4</th>\n",
       "      <td>[zwei, männer, stehen, am, herd, und, bereiten...</td>\n",
       "      <td>[two, men, are, at, the, stove, preparing, foo...</td>\n",
       "      <td>[., zu, essen, bereiten, und, herd, am, stehen...</td>\n",
       "    </tr>\n",
       "    <tr>\n",
       "      <th>...</th>\n",
       "      <td>...</td>\n",
       "      <td>...</td>\n",
       "      <td>...</td>\n",
       "    </tr>\n",
       "    <tr>\n",
       "      <th>28995</th>\n",
       "      <td>[., wand, verschnörkelten, einer, hinter, schr...</td>\n",
       "      <td>[a, woman, behind, a, scrolled, wall, is, writ...</td>\n",
       "      <td>[eine, frau, schreibt, hinter, einer, verschnö...</td>\n",
       "    </tr>\n",
       "    <tr>\n",
       "      <th>28996</th>\n",
       "      <td>[., kletterwand, einer, an, übt, bergsteiger, ...</td>\n",
       "      <td>[a, rock, climber, practices, on, a, rock, cli...</td>\n",
       "      <td>[ein, bergsteiger, übt, an, einer, kletterwand...</td>\n",
       "    </tr>\n",
       "    <tr>\n",
       "      <th>28997</th>\n",
       "      <td>[., hauses, einem, vor, straße, einer, auf, ar...</td>\n",
       "      <td>[two, male, construction, workers, are, workin...</td>\n",
       "      <td>[zwei, bauarbeiter, arbeiten, auf, einer, stra...</td>\n",
       "    </tr>\n",
       "    <tr>\n",
       "      <th>28998</th>\n",
       "      <td>[., fassade, einer, vor, wagen, einem, mit, ju...</td>\n",
       "      <td>[an, elderly, man, sits, outside, a, storefron...</td>\n",
       "      <td>[ein, älterer, mann, sitzt, mit, einem, jungen...</td>\n",
       "    </tr>\n",
       "    <tr>\n",
       "      <th>28999</th>\n",
       "      <td>[., hintergrund, m, i, bergen, und, nebel, mit...</td>\n",
       "      <td>[a, man, in, shorts, and, a, hawaiian, shirt, ...</td>\n",
       "      <td>[ein, mann, in, shorts, und, hawaiihemd, lehnt...</td>\n",
       "    </tr>\n",
       "  </tbody>\n",
       "</table>\n",
       "<p>29000 rows × 3 columns</p>\n",
       "</div>"
      ],
      "text/plain": [
       "                                           source_tokens  \\\n",
       "0      [zwei, junge, weiße, männer, sind, i, m, freie...   \n",
       "1      [mehrere, männer, mit, schutzhelmen, bedienen,...   \n",
       "2      [ein, kleines, mädchen, klettert, in, ein, spi...   \n",
       "3      [ein, mann, in, einem, blauen, hemd, steht, au...   \n",
       "4      [zwei, männer, stehen, am, herd, und, bereiten...   \n",
       "...                                                  ...   \n",
       "28995  [., wand, verschnörkelten, einer, hinter, schr...   \n",
       "28996  [., kletterwand, einer, an, übt, bergsteiger, ...   \n",
       "28997  [., hauses, einem, vor, straße, einer, auf, ar...   \n",
       "28998  [., fassade, einer, vor, wagen, einem, mit, ju...   \n",
       "28999  [., hintergrund, m, i, bergen, und, nebel, mit...   \n",
       "\n",
       "                                           target_tokens  \\\n",
       "0      [two, young, ,, white, males, are, outside, ne...   \n",
       "1      [several, men, in, hard, hats, are, operating,...   \n",
       "2      [a, little, girl, climbing, into, a, wooden, p...   \n",
       "3      [a, man, in, a, blue, shirt, is, standing, on,...   \n",
       "4      [two, men, are, at, the, stove, preparing, foo...   \n",
       "...                                                  ...   \n",
       "28995  [a, woman, behind, a, scrolled, wall, is, writ...   \n",
       "28996  [a, rock, climber, practices, on, a, rock, cli...   \n",
       "28997  [two, male, construction, workers, are, workin...   \n",
       "28998  [an, elderly, man, sits, outside, a, storefron...   \n",
       "28999  [a, man, in, shorts, and, a, hawaiian, shirt, ...   \n",
       "\n",
       "                                   source_tokens_reverse  \n",
       "0      [., büsche, vieler, nähe, der, in, freien, m, ...  \n",
       "1      [., antriebsradsystem, ein, bedienen, schutzhe...  \n",
       "2      [., holz, aus, spielhaus, ein, in, klettert, m...  \n",
       "3      [., fenster, ein, putzt, und, leiter, einer, a...  \n",
       "4      [., zu, essen, bereiten, und, herd, am, stehen...  \n",
       "...                                                  ...  \n",
       "28995  [eine, frau, schreibt, hinter, einer, verschnö...  \n",
       "28996  [ein, bergsteiger, übt, an, einer, kletterwand...  \n",
       "28997  [zwei, bauarbeiter, arbeiten, auf, einer, stra...  \n",
       "28998  [ein, älterer, mann, sitzt, mit, einem, jungen...  \n",
       "28999  [ein, mann, in, shorts, und, hawaiihemd, lehnt...  \n",
       "\n",
       "[29000 rows x 3 columns]"
      ]
     },
     "execution_count": 7,
     "metadata": {},
     "output_type": "execute_result"
    }
   ],
   "source": [
    "df_train"
   ]
  },
  {
   "cell_type": "code",
   "execution_count": 8,
   "metadata": {
    "colab": {
     "base_uri": "https://localhost:8080/",
     "height": 423
    },
    "execution": {
     "iopub.execute_input": "2022-04-14T19:28:43.914220Z",
     "iopub.status.busy": "2022-04-14T19:28:43.914072Z",
     "iopub.status.idle": "2022-04-14T19:28:43.925457Z",
     "shell.execute_reply": "2022-04-14T19:28:43.925211Z",
     "shell.execute_reply.started": "2022-04-14T19:28:43.914206Z"
    },
    "executionInfo": {
     "elapsed": 165,
     "status": "ok",
     "timestamp": 1644562995019,
     "user": {
      "displayName": "Shaannoor Mann",
      "photoUrl": "https://lh3.googleusercontent.com/a/default-user=s64",
      "userId": "02520257695567980696"
     },
     "user_tz": 360
    },
    "id": "BM1UfGJKtAXj",
    "outputId": "44593a91-056c-49b7-8ee1-cfb2280963c9",
    "tags": []
   },
   "outputs": [
    {
     "data": {
      "text/html": [
       "<div>\n",
       "<style scoped>\n",
       "    .dataframe tbody tr th:only-of-type {\n",
       "        vertical-align: middle;\n",
       "    }\n",
       "\n",
       "    .dataframe tbody tr th {\n",
       "        vertical-align: top;\n",
       "    }\n",
       "\n",
       "    .dataframe thead th {\n",
       "        text-align: right;\n",
       "    }\n",
       "</style>\n",
       "<table border=\"1\" class=\"dataframe\">\n",
       "  <thead>\n",
       "    <tr style=\"text-align: right;\">\n",
       "      <th></th>\n",
       "      <th>source_tokens</th>\n",
       "      <th>target_tokens</th>\n",
       "      <th>source_tokens_reverse</th>\n",
       "    </tr>\n",
       "  </thead>\n",
       "  <tbody>\n",
       "    <tr>\n",
       "      <th>0</th>\n",
       "      <td>[eine, gruppe, von, männern, lädt, baumwolle, ...</td>\n",
       "      <td>[a, group, of, men, are, loading, cotton, onto...</td>\n",
       "      <td>[lastwagen, einen, auf, baumwolle, lädt, männe...</td>\n",
       "    </tr>\n",
       "    <tr>\n",
       "      <th>1</th>\n",
       "      <td>[ein, mann, schläft, in, einem, grünen, raum, ...</td>\n",
       "      <td>[a, man, sleeping, in, a, green, room, on, a, ...</td>\n",
       "      <td>[., sofa, einem, auf, raum, grünen, einem, in,...</td>\n",
       "    </tr>\n",
       "    <tr>\n",
       "      <th>2</th>\n",
       "      <td>[ein, junge, mit, kopfhörern, sitzt, auf, den,...</td>\n",
       "      <td>[a, boy, wearing, headphones, sits, on, a, wom...</td>\n",
       "      <td>[., frau, einer, schultern, den, auf, sitzt, k...</td>\n",
       "    </tr>\n",
       "    <tr>\n",
       "      <th>3</th>\n",
       "      <td>[zwei, männer, bauen, eine, blaue, eisfischerh...</td>\n",
       "      <td>[two, men, setting, up, a, blue, ice, fishing,...</td>\n",
       "      <td>[auf, see, zugefrorenen, einem, auf, eisfische...</td>\n",
       "    </tr>\n",
       "    <tr>\n",
       "      <th>4</th>\n",
       "      <td>[ein, mann, mit, beginnender, glatze, ,, der, ...</td>\n",
       "      <td>[a, balding, man, wearing, a, red, life, jacke...</td>\n",
       "      <td>[., boot, kleinen, einem, in, sitzt, ,, trägt,...</td>\n",
       "    </tr>\n",
       "    <tr>\n",
       "      <th>...</th>\n",
       "      <td>...</td>\n",
       "      <td>...</td>\n",
       "      <td>...</td>\n",
       "    </tr>\n",
       "    <tr>\n",
       "      <th>1009</th>\n",
       "      <td>[., her, zuckerwatte, mann, ein, stellt, jahrm...</td>\n",
       "      <td>[at, some, sort, of, carnival, ,, a, man, is, ...</td>\n",
       "      <td>[bei, einer, art, jahrmarkt, stellt, ein, mann...</td>\n",
       "    </tr>\n",
       "    <tr>\n",
       "      <th>1010</th>\n",
       "      <td>[., bus, einem, vor, steht, polizisten, von, g...</td>\n",
       "      <td>[a, bunch, of, police, officers, are, standing...</td>\n",
       "      <td>[eine, gruppe, von, polizisten, steht, vor, ei...</td>\n",
       "    </tr>\n",
       "    <tr>\n",
       "      <th>1011</th>\n",
       "      <td>[., hindurch, brillengläser, ihre, durch, blic...</td>\n",
       "      <td>[a, elderly, white, -, haired, woman, is, look...</td>\n",
       "      <td>[eine, ältere, weißhaarige, frau, sieht, in, i...</td>\n",
       "    </tr>\n",
       "    <tr>\n",
       "      <th>1012</th>\n",
       "      <td>[., freien, m, i, telefonzellen, an, stehen, m...</td>\n",
       "      <td>[two, men, are, standing, at, telephone, booth...</td>\n",
       "      <td>[zwei, männer, stehen, an, telefonzellen, i, m...</td>\n",
       "    </tr>\n",
       "    <tr>\n",
       "      <th>1013</th>\n",
       "      <td>[., kommt, toilette, transportablen, einer, au...</td>\n",
       "      <td>[two, women, wearing, red, and, a, man, coming...</td>\n",
       "      <td>[zwei, frauen, in, rot, und, ein, mann, ,, der...</td>\n",
       "    </tr>\n",
       "  </tbody>\n",
       "</table>\n",
       "<p>1014 rows × 3 columns</p>\n",
       "</div>"
      ],
      "text/plain": [
       "                                          source_tokens  \\\n",
       "0     [eine, gruppe, von, männern, lädt, baumwolle, ...   \n",
       "1     [ein, mann, schläft, in, einem, grünen, raum, ...   \n",
       "2     [ein, junge, mit, kopfhörern, sitzt, auf, den,...   \n",
       "3     [zwei, männer, bauen, eine, blaue, eisfischerh...   \n",
       "4     [ein, mann, mit, beginnender, glatze, ,, der, ...   \n",
       "...                                                 ...   \n",
       "1009  [., her, zuckerwatte, mann, ein, stellt, jahrm...   \n",
       "1010  [., bus, einem, vor, steht, polizisten, von, g...   \n",
       "1011  [., hindurch, brillengläser, ihre, durch, blic...   \n",
       "1012  [., freien, m, i, telefonzellen, an, stehen, m...   \n",
       "1013  [., kommt, toilette, transportablen, einer, au...   \n",
       "\n",
       "                                          target_tokens  \\\n",
       "0     [a, group, of, men, are, loading, cotton, onto...   \n",
       "1     [a, man, sleeping, in, a, green, room, on, a, ...   \n",
       "2     [a, boy, wearing, headphones, sits, on, a, wom...   \n",
       "3     [two, men, setting, up, a, blue, ice, fishing,...   \n",
       "4     [a, balding, man, wearing, a, red, life, jacke...   \n",
       "...                                                 ...   \n",
       "1009  [at, some, sort, of, carnival, ,, a, man, is, ...   \n",
       "1010  [a, bunch, of, police, officers, are, standing...   \n",
       "1011  [a, elderly, white, -, haired, woman, is, look...   \n",
       "1012  [two, men, are, standing, at, telephone, booth...   \n",
       "1013  [two, women, wearing, red, and, a, man, coming...   \n",
       "\n",
       "                                  source_tokens_reverse  \n",
       "0     [lastwagen, einen, auf, baumwolle, lädt, männe...  \n",
       "1     [., sofa, einem, auf, raum, grünen, einem, in,...  \n",
       "2     [., frau, einer, schultern, den, auf, sitzt, k...  \n",
       "3     [auf, see, zugefrorenen, einem, auf, eisfische...  \n",
       "4     [., boot, kleinen, einem, in, sitzt, ,, trägt,...  \n",
       "...                                                 ...  \n",
       "1009  [bei, einer, art, jahrmarkt, stellt, ein, mann...  \n",
       "1010  [eine, gruppe, von, polizisten, steht, vor, ei...  \n",
       "1011  [eine, ältere, weißhaarige, frau, sieht, in, i...  \n",
       "1012  [zwei, männer, stehen, an, telefonzellen, i, m...  \n",
       "1013  [zwei, frauen, in, rot, und, ein, mann, ,, der...  \n",
       "\n",
       "[1014 rows x 3 columns]"
      ]
     },
     "execution_count": 8,
     "metadata": {},
     "output_type": "execute_result"
    }
   ],
   "source": [
    "df_valid"
   ]
  },
  {
   "cell_type": "code",
   "execution_count": 9,
   "metadata": {
    "colab": {
     "base_uri": "https://localhost:8080/",
     "height": 423
    },
    "execution": {
     "iopub.execute_input": "2022-04-14T19:28:44.619210Z",
     "iopub.status.busy": "2022-04-14T19:28:44.619073Z",
     "iopub.status.idle": "2022-04-14T19:28:44.630307Z",
     "shell.execute_reply": "2022-04-14T19:28:44.630033Z",
     "shell.execute_reply.started": "2022-04-14T19:28:44.619197Z"
    },
    "executionInfo": {
     "elapsed": 3,
     "status": "ok",
     "timestamp": 1644562996155,
     "user": {
      "displayName": "Shaannoor Mann",
      "photoUrl": "https://lh3.googleusercontent.com/a/default-user=s64",
      "userId": "02520257695567980696"
     },
     "user_tz": 360
    },
    "id": "Pk0jr_oAZPWD",
    "outputId": "8cd27cf6-d410-4c7c-e267-ece5c9d628df",
    "tags": []
   },
   "outputs": [
    {
     "data": {
      "text/html": [
       "<div>\n",
       "<style scoped>\n",
       "    .dataframe tbody tr th:only-of-type {\n",
       "        vertical-align: middle;\n",
       "    }\n",
       "\n",
       "    .dataframe tbody tr th {\n",
       "        vertical-align: top;\n",
       "    }\n",
       "\n",
       "    .dataframe thead th {\n",
       "        text-align: right;\n",
       "    }\n",
       "</style>\n",
       "<table border=\"1\" class=\"dataframe\">\n",
       "  <thead>\n",
       "    <tr style=\"text-align: right;\">\n",
       "      <th></th>\n",
       "      <th>source_tokens</th>\n",
       "      <th>target_tokens</th>\n",
       "      <th>source_tokens_reverse</th>\n",
       "    </tr>\n",
       "  </thead>\n",
       "  <tbody>\n",
       "    <tr>\n",
       "      <th>0</th>\n",
       "      <td>[ein, mann, mit, einem, orangefarbenen, hut, ,...</td>\n",
       "      <td>[a, man, in, an, orange, hat, starring, at, so...</td>\n",
       "      <td>[., anstarrt, etwas, der, ,, hut, orangefarben...</td>\n",
       "    </tr>\n",
       "    <tr>\n",
       "      <th>1</th>\n",
       "      <td>[ein, boston, terrier, läuft, über, saftig, -,...</td>\n",
       "      <td>[a, boston, terrier, is, running, on, lush, gr...</td>\n",
       "      <td>[., zaun, weißen, einem, vor, gras, grünes, -,...</td>\n",
       "    </tr>\n",
       "    <tr>\n",
       "      <th>2</th>\n",
       "      <td>[ein, mädchen, in, einem, karateanzug, bricht,...</td>\n",
       "      <td>[a, girl, in, karate, uniform, breaking, a, st...</td>\n",
       "      <td>[., tritt, einem, mit, stock, einen, bricht, k...</td>\n",
       "    </tr>\n",
       "    <tr>\n",
       "      <th>3</th>\n",
       "      <td>[fünf, leute, in, winterjacken, und, mit, helm...</td>\n",
       "      <td>[five, people, wearing, winter, jackets, and, ...</td>\n",
       "      <td>[., hintergrund, m, i, schneemobilen, mit, sch...</td>\n",
       "    </tr>\n",
       "    <tr>\n",
       "      <th>4</th>\n",
       "      <td>[leute, reparieren, das, dach, eines, hauses, .]</td>\n",
       "      <td>[people, are, fixing, the, roof, of, a, house, .]</td>\n",
       "      <td>[., hauses, eines, dach, das, reparieren, leute]</td>\n",
       "    </tr>\n",
       "    <tr>\n",
       "      <th>...</th>\n",
       "      <td>...</td>\n",
       "      <td>...</td>\n",
       "      <td>...</td>\n",
       "    </tr>\n",
       "    <tr>\n",
       "      <th>995</th>\n",
       "      <td>[., stehen, herum, sie, um, personen, andere, ...</td>\n",
       "      <td>[marathon, runners, are, racing, on, a, city, ...</td>\n",
       "      <td>[marathonläufer, laufen, auf, einer, städtisch...</td>\n",
       "    </tr>\n",
       "    <tr>\n",
       "      <th>996</th>\n",
       "      <td>[., fahrradfahren, beim, sonnenhut, einen, trä...</td>\n",
       "      <td>[asian, woman, wearing, a, sunhat, while, ridi...</td>\n",
       "      <td>[asiatische, frau, trägt, einen, sonnenhut, be...</td>\n",
       "    </tr>\n",
       "    <tr>\n",
       "      <th>997</th>\n",
       "      <td>[., bäumen, zwei, bei, boden, dem, auf, spiele...</td>\n",
       "      <td>[some, children, are, outside, playing, in, th...</td>\n",
       "      <td>[ein, paar, kinder, sind, i, m, freien, und, s...</td>\n",
       "    </tr>\n",
       "    <tr>\n",
       "      <th>998</th>\n",
       "      <td>[., videospiel, ein, spielt, mann, älterer, ein]</td>\n",
       "      <td>[an, older, man, is, playing, a, video, arcade...</td>\n",
       "      <td>[ein, älterer, mann, spielt, ein, videospiel, .]</td>\n",
       "    </tr>\n",
       "    <tr>\n",
       "      <th>999</th>\n",
       "      <td>[., hintergrund, m, i, berg, einem, mit, küste...</td>\n",
       "      <td>[a, girl, at, the, shore, of, a, beach, with, ...</td>\n",
       "      <td>[ein, mädchen, an, einer, küste, mit, einem, b...</td>\n",
       "    </tr>\n",
       "  </tbody>\n",
       "</table>\n",
       "<p>1000 rows × 3 columns</p>\n",
       "</div>"
      ],
      "text/plain": [
       "                                         source_tokens  \\\n",
       "0    [ein, mann, mit, einem, orangefarbenen, hut, ,...   \n",
       "1    [ein, boston, terrier, läuft, über, saftig, -,...   \n",
       "2    [ein, mädchen, in, einem, karateanzug, bricht,...   \n",
       "3    [fünf, leute, in, winterjacken, und, mit, helm...   \n",
       "4     [leute, reparieren, das, dach, eines, hauses, .]   \n",
       "..                                                 ...   \n",
       "995  [., stehen, herum, sie, um, personen, andere, ...   \n",
       "996  [., fahrradfahren, beim, sonnenhut, einen, trä...   \n",
       "997  [., bäumen, zwei, bei, boden, dem, auf, spiele...   \n",
       "998   [., videospiel, ein, spielt, mann, älterer, ein]   \n",
       "999  [., hintergrund, m, i, berg, einem, mit, küste...   \n",
       "\n",
       "                                         target_tokens  \\\n",
       "0    [a, man, in, an, orange, hat, starring, at, so...   \n",
       "1    [a, boston, terrier, is, running, on, lush, gr...   \n",
       "2    [a, girl, in, karate, uniform, breaking, a, st...   \n",
       "3    [five, people, wearing, winter, jackets, and, ...   \n",
       "4    [people, are, fixing, the, roof, of, a, house, .]   \n",
       "..                                                 ...   \n",
       "995  [marathon, runners, are, racing, on, a, city, ...   \n",
       "996  [asian, woman, wearing, a, sunhat, while, ridi...   \n",
       "997  [some, children, are, outside, playing, in, th...   \n",
       "998  [an, older, man, is, playing, a, video, arcade...   \n",
       "999  [a, girl, at, the, shore, of, a, beach, with, ...   \n",
       "\n",
       "                                 source_tokens_reverse  \n",
       "0    [., anstarrt, etwas, der, ,, hut, orangefarben...  \n",
       "1    [., zaun, weißen, einem, vor, gras, grünes, -,...  \n",
       "2    [., tritt, einem, mit, stock, einen, bricht, k...  \n",
       "3    [., hintergrund, m, i, schneemobilen, mit, sch...  \n",
       "4     [., hauses, eines, dach, das, reparieren, leute]  \n",
       "..                                                 ...  \n",
       "995  [marathonläufer, laufen, auf, einer, städtisch...  \n",
       "996  [asiatische, frau, trägt, einen, sonnenhut, be...  \n",
       "997  [ein, paar, kinder, sind, i, m, freien, und, s...  \n",
       "998   [ein, älterer, mann, spielt, ein, videospiel, .]  \n",
       "999  [ein, mädchen, an, einer, küste, mit, einem, b...  \n",
       "\n",
       "[1000 rows x 3 columns]"
      ]
     },
     "execution_count": 9,
     "metadata": {},
     "output_type": "execute_result"
    }
   ],
   "source": [
    "df_test"
   ]
  },
  {
   "cell_type": "markdown",
   "metadata": {
    "id": "If-BMrTctAXj"
   },
   "source": [
    "## Build Vocab"
   ]
  },
  {
   "cell_type": "code",
   "execution_count": 10,
   "metadata": {
    "execution": {
     "iopub.execute_input": "2022-04-14T19:28:45.576381Z",
     "iopub.status.busy": "2022-04-14T19:28:45.576228Z",
     "iopub.status.idle": "2022-04-14T19:28:45.579440Z",
     "shell.execute_reply": "2022-04-14T19:28:45.579043Z",
     "shell.execute_reply.started": "2022-04-14T19:28:45.576367Z"
    },
    "executionInfo": {
     "elapsed": 134,
     "status": "ok",
     "timestamp": 1644563001959,
     "user": {
      "displayName": "Shaannoor Mann",
      "photoUrl": "https://lh3.googleusercontent.com/a/default-user=s64",
      "userId": "02520257695567980696"
     },
     "user_tz": 360
    },
    "id": "GY9kL2JxtAXj",
    "tags": []
   },
   "outputs": [],
   "source": [
    "def create_vocab(text, min_freq, specials):\n",
    "    my_counter = Counter()\n",
    "    for line in text:\n",
    "       my_counter.update(line)\n",
    "    my_vocab = vocab(my_counter, min_freq=min_freq)\n",
    "    for i, special in enumerate(specials):\n",
    "        my_vocab.insert_token(special, i)\n",
    "    my_vocab.set_default_index(0)\n",
    "    return my_vocab"
   ]
  },
  {
   "cell_type": "code",
   "execution_count": 11,
   "metadata": {
    "execution": {
     "iopub.execute_input": "2022-04-14T19:28:46.611089Z",
     "iopub.status.busy": "2022-04-14T19:28:46.610905Z",
     "iopub.status.idle": "2022-04-14T19:28:46.683771Z",
     "shell.execute_reply": "2022-04-14T19:28:46.683339Z",
     "shell.execute_reply.started": "2022-04-14T19:28:46.611075Z"
    },
    "executionInfo": {
     "elapsed": 241,
     "status": "ok",
     "timestamp": 1644563003201,
     "user": {
      "displayName": "Shaannoor Mann",
      "photoUrl": "https://lh3.googleusercontent.com/a/default-user=s64",
      "userId": "02520257695567980696"
     },
     "user_tz": 360
    },
    "id": "dcvIJAIHtAXj",
    "tags": []
   },
   "outputs": [],
   "source": [
    "source_vocab = create_vocab(df_train['source_tokens'], 2, ['<unk>', '<BOS>', '<EOS>', '<PAD>'])"
   ]
  },
  {
   "cell_type": "code",
   "execution_count": 12,
   "metadata": {
    "colab": {
     "base_uri": "https://localhost:8080/"
    },
    "execution": {
     "iopub.execute_input": "2022-04-14T19:28:47.061572Z",
     "iopub.status.busy": "2022-04-14T19:28:47.061444Z",
     "iopub.status.idle": "2022-04-14T19:28:47.064550Z",
     "shell.execute_reply": "2022-04-14T19:28:47.064215Z",
     "shell.execute_reply.started": "2022-04-14T19:28:47.061558Z"
    },
    "executionInfo": {
     "elapsed": 2,
     "status": "ok",
     "timestamp": 1644563003736,
     "user": {
      "displayName": "Shaannoor Mann",
      "photoUrl": "https://lh3.googleusercontent.com/a/default-user=s64",
      "userId": "02520257695567980696"
     },
     "user_tz": 360
    },
    "id": "qtEt9Sh-tAXk",
    "outputId": "49ecb3a9-0f9d-43bc-90ef-4d5a15e07a10",
    "tags": []
   },
   "outputs": [
    {
     "data": {
      "text/plain": [
       "7874"
      ]
     },
     "execution_count": 12,
     "metadata": {},
     "output_type": "execute_result"
    }
   ],
   "source": [
    "len(source_vocab)"
   ]
  },
  {
   "cell_type": "code",
   "execution_count": 13,
   "metadata": {
    "colab": {
     "base_uri": "https://localhost:8080/",
     "height": 423
    },
    "execution": {
     "iopub.execute_input": "2022-04-14T19:28:47.743335Z",
     "iopub.status.busy": "2022-04-14T19:28:47.743185Z",
     "iopub.status.idle": "2022-04-14T19:28:47.754226Z",
     "shell.execute_reply": "2022-04-14T19:28:47.753951Z",
     "shell.execute_reply.started": "2022-04-14T19:28:47.743321Z"
    },
    "executionInfo": {
     "elapsed": 116,
     "status": "ok",
     "timestamp": 1644563004871,
     "user": {
      "displayName": "Shaannoor Mann",
      "photoUrl": "https://lh3.googleusercontent.com/a/default-user=s64",
      "userId": "02520257695567980696"
     },
     "user_tz": 360
    },
    "id": "bf9fu5L2tAXk",
    "outputId": "5e4c2da9-6178-4155-b848-47bb2a495e3b",
    "tags": []
   },
   "outputs": [
    {
     "data": {
      "text/html": [
       "<div>\n",
       "<style scoped>\n",
       "    .dataframe tbody tr th:only-of-type {\n",
       "        vertical-align: middle;\n",
       "    }\n",
       "\n",
       "    .dataframe tbody tr th {\n",
       "        vertical-align: top;\n",
       "    }\n",
       "\n",
       "    .dataframe thead th {\n",
       "        text-align: right;\n",
       "    }\n",
       "</style>\n",
       "<table border=\"1\" class=\"dataframe\">\n",
       "  <thead>\n",
       "    <tr style=\"text-align: right;\">\n",
       "      <th></th>\n",
       "      <th>tokens</th>\n",
       "      <th>index</th>\n",
       "    </tr>\n",
       "  </thead>\n",
       "  <tbody>\n",
       "    <tr>\n",
       "      <th>4986</th>\n",
       "      <td>&lt;unk&gt;</td>\n",
       "      <td>0</td>\n",
       "    </tr>\n",
       "    <tr>\n",
       "      <th>3333</th>\n",
       "      <td>&lt;BOS&gt;</td>\n",
       "      <td>1</td>\n",
       "    </tr>\n",
       "    <tr>\n",
       "      <th>3840</th>\n",
       "      <td>&lt;EOS&gt;</td>\n",
       "      <td>2</td>\n",
       "    </tr>\n",
       "    <tr>\n",
       "      <th>4539</th>\n",
       "      <td>&lt;PAD&gt;</td>\n",
       "      <td>3</td>\n",
       "    </tr>\n",
       "    <tr>\n",
       "      <th>3551</th>\n",
       "      <td>zwei</td>\n",
       "      <td>4</td>\n",
       "    </tr>\n",
       "    <tr>\n",
       "      <th>...</th>\n",
       "      <td>...</td>\n",
       "      <td>...</td>\n",
       "    </tr>\n",
       "    <tr>\n",
       "      <th>2</th>\n",
       "      <td>geländefahrzeugs</td>\n",
       "      <td>7869</td>\n",
       "    </tr>\n",
       "    <tr>\n",
       "      <th>1</th>\n",
       "      <td>sonnentag</td>\n",
       "      <td>7870</td>\n",
       "    </tr>\n",
       "    <tr>\n",
       "      <th>0</th>\n",
       "      <td>lederoberteil</td>\n",
       "      <td>7871</td>\n",
       "    </tr>\n",
       "    <tr>\n",
       "      <th>2376</th>\n",
       "      <td>reisfeld</td>\n",
       "      <td>7872</td>\n",
       "    </tr>\n",
       "    <tr>\n",
       "      <th>276</th>\n",
       "      <td>garnelen</td>\n",
       "      <td>7873</td>\n",
       "    </tr>\n",
       "  </tbody>\n",
       "</table>\n",
       "<p>7874 rows × 2 columns</p>\n",
       "</div>"
      ],
      "text/plain": [
       "                tokens  index\n",
       "4986             <unk>      0\n",
       "3333             <BOS>      1\n",
       "3840             <EOS>      2\n",
       "4539             <PAD>      3\n",
       "3551              zwei      4\n",
       "...                ...    ...\n",
       "2     geländefahrzeugs   7869\n",
       "1            sonnentag   7870\n",
       "0        lederoberteil   7871\n",
       "2376          reisfeld   7872\n",
       "276           garnelen   7873\n",
       "\n",
       "[7874 rows x 2 columns]"
      ]
     },
     "execution_count": 13,
     "metadata": {},
     "output_type": "execute_result"
    }
   ],
   "source": [
    "pd.DataFrame(source_vocab.get_stoi().items(), columns=['tokens', 'index']).sort_values(by = ['index'])"
   ]
  },
  {
   "cell_type": "code",
   "execution_count": 14,
   "metadata": {
    "colab": {
     "base_uri": "https://localhost:8080/"
    },
    "execution": {
     "iopub.execute_input": "2022-04-14T19:28:48.682213Z",
     "iopub.status.busy": "2022-04-14T19:28:48.682069Z",
     "iopub.status.idle": "2022-04-14T19:28:48.685404Z",
     "shell.execute_reply": "2022-04-14T19:28:48.685152Z",
     "shell.execute_reply.started": "2022-04-14T19:28:48.682200Z"
    },
    "executionInfo": {
     "elapsed": 173,
     "status": "ok",
     "timestamp": 1644563009764,
     "user": {
      "displayName": "Shaannoor Mann",
      "photoUrl": "https://lh3.googleusercontent.com/a/default-user=s64",
      "userId": "02520257695567980696"
     },
     "user_tz": 360
    },
    "id": "8pKCTbN6tAXk",
    "outputId": "0995d1eb-fc6e-4d8d-ac74-bcd022156fbd",
    "tags": []
   },
   "outputs": [
    {
     "data": {
      "text/plain": [
       "0"
      ]
     },
     "execution_count": 14,
     "metadata": {},
     "output_type": "execute_result"
    }
   ],
   "source": [
    "# check index of unknown word - it should be zero\n",
    "source_vocab['abracdabra']"
   ]
  },
  {
   "cell_type": "code",
   "execution_count": 15,
   "metadata": {
    "execution": {
     "iopub.execute_input": "2022-04-14T19:28:49.671348Z",
     "iopub.status.busy": "2022-04-14T19:28:49.671227Z",
     "iopub.status.idle": "2022-04-14T19:28:49.739944Z",
     "shell.execute_reply": "2022-04-14T19:28:49.739658Z",
     "shell.execute_reply.started": "2022-04-14T19:28:49.671335Z"
    },
    "executionInfo": {
     "elapsed": 2,
     "status": "ok",
     "timestamp": 1644563010216,
     "user": {
      "displayName": "Shaannoor Mann",
      "photoUrl": "https://lh3.googleusercontent.com/a/default-user=s64",
      "userId": "02520257695567980696"
     },
     "user_tz": 360
    },
    "id": "qkXg6IratAXk",
    "tags": []
   },
   "outputs": [],
   "source": [
    "target_vocab = create_vocab(df_train['target_tokens'], 2, ['<unk>', '<BOS>', '<EOS>', '<PAD>'])"
   ]
  },
  {
   "cell_type": "code",
   "execution_count": 17,
   "metadata": {
    "colab": {
     "base_uri": "https://localhost:8080/"
    },
    "execution": {
     "iopub.execute_input": "2022-04-14T19:29:44.922535Z",
     "iopub.status.busy": "2022-04-14T19:29:44.922392Z",
     "iopub.status.idle": "2022-04-14T19:29:44.925631Z",
     "shell.execute_reply": "2022-04-14T19:29:44.925368Z",
     "shell.execute_reply.started": "2022-04-14T19:29:44.922521Z"
    },
    "executionInfo": {
     "elapsed": 2,
     "status": "ok",
     "timestamp": 1644563010523,
     "user": {
      "displayName": "Shaannoor Mann",
      "photoUrl": "https://lh3.googleusercontent.com/a/default-user=s64",
      "userId": "02520257695567980696"
     },
     "user_tz": 360
    },
    "id": "v_Y8C62GtAXk",
    "outputId": "51483378-d084-4288-97d4-59b6d571e5a6",
    "tags": []
   },
   "outputs": [
    {
     "data": {
      "text/plain": [
       "5893"
      ]
     },
     "execution_count": 17,
     "metadata": {},
     "output_type": "execute_result"
    }
   ],
   "source": [
    "len(target_vocab)"
   ]
  },
  {
   "cell_type": "markdown",
   "metadata": {
    "id": "feccYoeWtAXk"
   },
   "source": [
    "# Create Dataset and Dataloader"
   ]
  },
  {
   "cell_type": "code",
   "execution_count": 18,
   "metadata": {
    "execution": {
     "iopub.execute_input": "2022-04-14T19:29:47.366801Z",
     "iopub.status.busy": "2022-04-14T19:29:47.366641Z",
     "iopub.status.idle": "2022-04-14T19:29:47.370482Z",
     "shell.execute_reply": "2022-04-14T19:29:47.370093Z",
     "shell.execute_reply.started": "2022-04-14T19:29:47.366787Z"
    },
    "executionInfo": {
     "elapsed": 111,
     "status": "ok",
     "timestamp": 1644563011057,
     "user": {
      "displayName": "Shaannoor Mann",
      "photoUrl": "https://lh3.googleusercontent.com/a/default-user=s64",
      "userId": "02520257695567980696"
     },
     "user_tz": 360
    },
    "id": "fCMXepKUtAXk",
    "tags": []
   },
   "outputs": [],
   "source": [
    "class EngGerman(Dataset):\n",
    "    def __init__(self, X1, X2):\n",
    "        self.X1 = X1\n",
    "        self.X2 = X2\n",
    "        \n",
    "    def __len__(self):\n",
    "        return len(self.X1)\n",
    "    \n",
    "    def __getitem__(self, indices):\n",
    "        return (self.X1.iloc[indices] , self.X2.iloc[indices]) "
   ]
  },
  {
   "cell_type": "code",
   "execution_count": 19,
   "metadata": {
    "execution": {
     "iopub.execute_input": "2022-04-14T19:29:50.426651Z",
     "iopub.status.busy": "2022-04-14T19:29:50.426515Z",
     "iopub.status.idle": "2022-04-14T19:29:50.429569Z",
     "shell.execute_reply": "2022-04-14T19:29:50.429265Z",
     "shell.execute_reply.started": "2022-04-14T19:29:50.426638Z"
    },
    "executionInfo": {
     "elapsed": 149,
     "status": "ok",
     "timestamp": 1644563448932,
     "user": {
      "displayName": "Shaannoor Mann",
      "photoUrl": "https://lh3.googleusercontent.com/a/default-user=s64",
      "userId": "02520257695567980696"
     },
     "user_tz": 360
    },
    "id": "-Q32VBamtAXl",
    "tags": []
   },
   "outputs": [],
   "source": [
    "trainset = EngGerman(df_train['source_tokens'], df_train['target_tokens'])\n",
    "testset = EngGerman(df_test['source_tokens'], df_test['target_tokens'])\n",
    "validset = EngGerman(df_valid['source_tokens'], df_valid['target_tokens'])"
   ]
  },
  {
   "cell_type": "code",
   "execution_count": 20,
   "metadata": {
    "colab": {
     "base_uri": "https://localhost:8080/"
    },
    "execution": {
     "iopub.execute_input": "2022-04-14T19:29:52.227858Z",
     "iopub.status.busy": "2022-04-14T19:29:52.227698Z",
     "iopub.status.idle": "2022-04-14T19:29:52.231246Z",
     "shell.execute_reply": "2022-04-14T19:29:52.230911Z",
     "shell.execute_reply.started": "2022-04-14T19:29:52.227829Z"
    },
    "executionInfo": {
     "elapsed": 238,
     "status": "ok",
     "timestamp": 1644563450284,
     "user": {
      "displayName": "Shaannoor Mann",
      "photoUrl": "https://lh3.googleusercontent.com/a/default-user=s64",
      "userId": "02520257695567980696"
     },
     "user_tz": 360
    },
    "id": "2md5tDSutAXl",
    "outputId": "7984dec6-37f3-4c37-ab7c-0c03167ccb2e",
    "tags": []
   },
   "outputs": [
    {
     "data": {
      "text/plain": [
       "(['zwei',\n",
       "  'junge',\n",
       "  'weiße',\n",
       "  'männer',\n",
       "  'sind',\n",
       "  'i',\n",
       "  'm',\n",
       "  'freien',\n",
       "  'in',\n",
       "  'der',\n",
       "  'nähe',\n",
       "  'vieler',\n",
       "  'büsche',\n",
       "  '.'],\n",
       " ['two',\n",
       "  'young',\n",
       "  ',',\n",
       "  'white',\n",
       "  'males',\n",
       "  'are',\n",
       "  'outside',\n",
       "  'near',\n",
       "  'many',\n",
       "  'bushes',\n",
       "  '.'])"
      ]
     },
     "execution_count": 20,
     "metadata": {},
     "output_type": "execute_result"
    }
   ],
   "source": [
    "trainset.__getitem__(0)"
   ]
  },
  {
   "cell_type": "code",
   "execution_count": 21,
   "metadata": {
    "colab": {
     "base_uri": "https://localhost:8080/"
    },
    "execution": {
     "iopub.execute_input": "2022-04-14T19:29:56.909224Z",
     "iopub.status.busy": "2022-04-14T19:29:56.909083Z",
     "iopub.status.idle": "2022-04-14T19:29:56.912331Z",
     "shell.execute_reply": "2022-04-14T19:29:56.911898Z",
     "shell.execute_reply.started": "2022-04-14T19:29:56.909211Z"
    },
    "executionInfo": {
     "elapsed": 201,
     "status": "ok",
     "timestamp": 1644563451615,
     "user": {
      "displayName": "Shaannoor Mann",
      "photoUrl": "https://lh3.googleusercontent.com/a/default-user=s64",
      "userId": "02520257695567980696"
     },
     "user_tz": 360
    },
    "id": "L18xzZrltAXl",
    "outputId": "8014ac51-941b-43c5-b754-9307034b4a70",
    "tags": []
   },
   "outputs": [
    {
     "data": {
      "text/plain": [
       "(29000, 1000, 1014)"
      ]
     },
     "execution_count": 21,
     "metadata": {},
     "output_type": "execute_result"
    }
   ],
   "source": [
    "len(trainset), len(testset), len(validset)"
   ]
  },
  {
   "cell_type": "code",
   "execution_count": 22,
   "metadata": {
    "execution": {
     "iopub.execute_input": "2022-04-14T19:29:59.292741Z",
     "iopub.status.busy": "2022-04-14T19:29:59.292600Z",
     "iopub.status.idle": "2022-04-14T19:29:59.295666Z",
     "shell.execute_reply": "2022-04-14T19:29:59.295271Z",
     "shell.execute_reply.started": "2022-04-14T19:29:59.292727Z"
    },
    "executionInfo": {
     "elapsed": 202,
     "status": "ok",
     "timestamp": 1644563452946,
     "user": {
      "displayName": "Shaannoor Mann",
      "photoUrl": "https://lh3.googleusercontent.com/a/default-user=s64",
      "userId": "02520257695567980696"
     },
     "user_tz": 360
    },
    "id": "bPg8WslltAXl",
    "tags": []
   },
   "outputs": [],
   "source": [
    "def text_transform (my_vocab, text):\n",
    "     text_numerical = [my_vocab[token] for token in text]\n",
    "     return torch.tensor([my_vocab['<BOS>']] + text_numerical + [my_vocab['<EOS>']])\n",
    "     #return list(my_vocab['<BOS>']) + text_numerical + list(my_vocab['<EOS>'])"
   ]
  },
  {
   "cell_type": "code",
   "execution_count": 23,
   "metadata": {
    "colab": {
     "base_uri": "https://localhost:8080/"
    },
    "execution": {
     "iopub.execute_input": "2022-04-14T19:30:00.883430Z",
     "iopub.status.busy": "2022-04-14T19:30:00.883282Z",
     "iopub.status.idle": "2022-04-14T19:30:00.887574Z",
     "shell.execute_reply": "2022-04-14T19:30:00.887232Z",
     "shell.execute_reply.started": "2022-04-14T19:30:00.883417Z"
    },
    "executionInfo": {
     "elapsed": 133,
     "status": "ok",
     "timestamp": 1644563453930,
     "user": {
      "displayName": "Shaannoor Mann",
      "photoUrl": "https://lh3.googleusercontent.com/a/default-user=s64",
      "userId": "02520257695567980696"
     },
     "user_tz": 360
    },
    "id": "bpQKiRHLtAXl",
    "outputId": "a443997b-875c-467c-c7e9-7be3d67e5929",
    "tags": []
   },
   "outputs": [
    {
     "name": "stdout",
     "output_type": "stream",
     "text": [
      "['a', 'black', 'dog', 'and', 'a', 'spotted', 'dog', 'are', 'fighting']\n"
     ]
    },
    {
     "data": {
      "text/plain": [
       "tensor([ 1, 21, 90, 91, 92, 21, 93, 91,  9, 94,  2])"
      ]
     },
     "execution_count": 23,
     "metadata": {},
     "output_type": "execute_result"
    }
   ],
   "source": [
    "text = trainset.__getitem__(12)[1]\n",
    "print(text)\n",
    "text_transform(target_vocab, text)"
   ]
  },
  {
   "cell_type": "code",
   "execution_count": 24,
   "metadata": {
    "execution": {
     "iopub.execute_input": "2022-04-14T19:30:04.632751Z",
     "iopub.status.busy": "2022-04-14T19:30:04.632611Z",
     "iopub.status.idle": "2022-04-14T19:30:04.635457Z",
     "shell.execute_reply": "2022-04-14T19:30:04.635123Z",
     "shell.execute_reply.started": "2022-04-14T19:30:04.632738Z"
    },
    "executionInfo": {
     "elapsed": 139,
     "status": "ok",
     "timestamp": 1644563455937,
     "user": {
      "displayName": "Shaannoor Mann",
      "photoUrl": "https://lh3.googleusercontent.com/a/default-user=s64",
      "userId": "02520257695567980696"
     },
     "user_tz": 360
    },
    "id": "CgKupdZ1Un2-",
    "tags": []
   },
   "outputs": [],
   "source": [
    "def collate_batch(batch):\n",
    "   source_list, target_list = [], []\n",
    "   for (source_text, target_text) in batch:\n",
    "        source_transform = text_transform(source_vocab, source_text)\n",
    "        source_list.append(source_transform)\n",
    "        target_transform =text_transform(target_vocab, target_text)\n",
    "        target_list.append(target_transform)\n",
    "        \n",
    "   source_pad = pad_sequence(source_list, padding_value=3.0)\n",
    "   target_pad = pad_sequence(target_list, padding_value=3.0)\n",
    "   #print(source_list)\n",
    "   return (source_pad, target_pad)"
   ]
  },
  {
   "cell_type": "code",
   "execution_count": 25,
   "metadata": {
    "execution": {
     "iopub.execute_input": "2022-04-14T19:30:06.267292Z",
     "iopub.status.busy": "2022-04-14T19:30:06.266632Z",
     "iopub.status.idle": "2022-04-14T19:30:06.269461Z",
     "shell.execute_reply": "2022-04-14T19:30:06.269137Z",
     "shell.execute_reply.started": "2022-04-14T19:30:06.267276Z"
    },
    "executionInfo": {
     "elapsed": 141,
     "status": "ok",
     "timestamp": 1644563457042,
     "user": {
      "displayName": "Shaannoor Mann",
      "photoUrl": "https://lh3.googleusercontent.com/a/default-user=s64",
      "userId": "02520257695567980696"
     },
     "user_tz": 360
    },
    "id": "EqHCA63DUn2_",
    "tags": []
   },
   "outputs": [],
   "source": [
    "batch_size = 2\n",
    "\n",
    "train_loader = DataLoader(trainset, batch_size=batch_size, shuffle=True, \n",
    "                              collate_fn=collate_batch)"
   ]
  },
  {
   "cell_type": "code",
   "execution_count": 26,
   "metadata": {
    "colab": {
     "base_uri": "https://localhost:8080/"
    },
    "execution": {
     "iopub.execute_input": "2022-04-14T19:30:07.092694Z",
     "iopub.status.busy": "2022-04-14T19:30:07.092533Z",
     "iopub.status.idle": "2022-04-14T19:30:07.114491Z",
     "shell.execute_reply": "2022-04-14T19:30:07.114096Z",
     "shell.execute_reply.started": "2022-04-14T19:30:07.092666Z"
    },
    "executionInfo": {
     "elapsed": 110,
     "status": "ok",
     "timestamp": 1644563458245,
     "user": {
      "displayName": "Shaannoor Mann",
      "photoUrl": "https://lh3.googleusercontent.com/a/default-user=s64",
      "userId": "02520257695567980696"
     },
     "user_tz": 360
    },
    "id": "-NUpXpJYtAXm",
    "outputId": "c33cabc2-fcf9-4eec-a8a3-74d5baeae322",
    "tags": []
   },
   "outputs": [
    {
     "name": "stdout",
     "output_type": "stream",
     "text": [
      "tensor([[   1,    1],\n",
      "        [  17,   17],\n",
      "        [ 575, 7538],\n",
      "        [ 656,   85],\n",
      "        [  13,   44],\n",
      "        [  12,  419],\n",
      "        [ 197,    0],\n",
      "        [ 399,   56],\n",
      "        [  51,  253],\n",
      "        [  50,  244],\n",
      "        [ 563,   19],\n",
      "        [ 140,   68],\n",
      "        [ 200,   48],\n",
      "        [ 841,    2],\n",
      "        [3864,    3],\n",
      "        [  22,    3],\n",
      "        [   2,    3]])\n"
     ]
    }
   ],
   "source": [
    "for source, target in train_loader:\n",
    "  print(source)\n",
    "  break"
   ]
  },
  {
   "cell_type": "code",
   "execution_count": 27,
   "metadata": {
    "execution": {
     "iopub.execute_input": "2022-04-14T19:30:12.202312Z",
     "iopub.status.busy": "2022-04-14T19:30:12.202166Z",
     "iopub.status.idle": "2022-04-14T19:30:12.205551Z",
     "shell.execute_reply": "2022-04-14T19:30:12.205180Z",
     "shell.execute_reply.started": "2022-04-14T19:30:12.202298Z"
    },
    "executionInfo": {
     "elapsed": 163,
     "status": "ok",
     "timestamp": 1644563460443,
     "user": {
      "displayName": "Shaannoor Mann",
      "photoUrl": "https://lh3.googleusercontent.com/a/default-user=s64",
      "userId": "02520257695567980696"
     },
     "user_tz": 360
    },
    "id": "axyZQ-4z1B-z",
    "tags": []
   },
   "outputs": [],
   "source": [
    "batch_size = 128\n",
    "\n",
    "train_loader = DataLoader(trainset, batch_size=batch_size, shuffle=True, \n",
    "                              collate_fn=collate_batch)\n",
    "valid_loader = DataLoader(validset, batch_size=batch_size, shuffle=True, \n",
    "                              collate_fn=collate_batch)\n",
    "test_loader = DataLoader(testset, batch_size=batch_size, shuffle=True, \n",
    "                              collate_fn=collate_batch)"
   ]
  },
  {
   "cell_type": "markdown",
   "metadata": {
    "id": "Mhyhh7uCUn2_"
   },
   "source": [
    "## Building the Seq2Seq Model\n",
    "\n",
    "### Encoder\n",
    "\n",
    "First, we'll build the encoder. Similar to the previous model, we only use a single layer GRU, however we now use a *bidirectional RNN*. With a bidirectional RNN, we have two RNNs in each layer. A *forward RNN* going over the embedded sentence from left to right (shown below in green), and a *backward RNN* going over the embedded sentence from right to left (teal). All we need to do in code is set `bidirectional = True` and then pass the embedded sentence to the RNN as before. \n",
    "\n",
    "![](assets/seq2seq8.png)\n",
    "\n",
    "We now have:\n",
    "\n",
    "$$\\begin{align*}\n",
    "h_t^\\rightarrow &= \\text{EncoderGRU}^\\rightarrow(e(x_t^\\rightarrow),h_{t-1}^\\rightarrow)\\\\\n",
    "h_t^\\leftarrow &= \\text{EncoderGRU}^\\leftarrow(e(x_t^\\leftarrow),h_{t-1}^\\leftarrow)\n",
    "\\end{align*}$$\n",
    "\n",
    "Where $x_0^\\rightarrow = \\text{<sos>}, x_1^\\rightarrow = \\text{guten}$ and $x_0^\\leftarrow = \\text{<eos>}, x_1^\\leftarrow = \\text{morgen}$.\n",
    "\n",
    "As before, we only pass an input (`embedded`) to the RNN, which tells PyTorch to initialize both the forward and backward initial hidden states ($h_0^\\rightarrow$ and $h_0^\\leftarrow$, respectively) to a tensor of all zeros. We'll also get two context vectors, one from the forward RNN after it has seen the final word in the sentence, $z^\\rightarrow=h_T^\\rightarrow$, and one from the backward RNN after it has seen the first word in the sentence, $z^\\leftarrow=h_T^\\leftarrow$.\n",
    "\n",
    "The RNN returns `outputs` and `hidden`. \n",
    "\n",
    "`outputs` is of size **[src len, batch size, hid dim * num directions]** where the first `hid_dim` elements in the third axis are the hidden states from the top layer forward RNN, and the last `hid_dim` elements are hidden states from the top layer backward RNN. We can think of the third axis as being the forward and backward hidden states concatenated together other, i.e. $h_1 = [h_1^\\rightarrow; h_{T}^\\leftarrow]$, $h_2 = [h_2^\\rightarrow; h_{T-1}^\\leftarrow]$ and we can denote all encoder hidden states (forward and backwards concatenated together) as $H=\\{ h_1, h_2, ..., h_T\\}$.\n",
    "\n",
    "`hidden` is of size **[n layers * num directions, batch size, hid dim]**, where **[-2, :, :]** gives the top layer forward RNN hidden state after the final time-step (i.e. after it has seen the last word in the sentence) and **[-1, :, :]** gives the top layer backward RNN hidden state after the final time-step (i.e. after it has seen the first word in the sentence).\n",
    "\n",
    "As the decoder is not bidirectional, it only needs a single context vector, $z$, to use as its initial hidden state, $s_0$, and we currently have two, a forward and a backward one ($z^\\rightarrow=h_T^\\rightarrow$ and $z^\\leftarrow=h_T^\\leftarrow$, respectively). We solve this by concatenating the two context vectors together, passing them through a linear layer, $g$, and applying the $\\tanh$ activation function. \n",
    "\n",
    "$$z=\\tanh(g(h_T^\\rightarrow, h_T^\\leftarrow)) = \\tanh(g(z^\\rightarrow, z^\\leftarrow)) = s_0$$\n",
    "\n",
    "**Note**: this is actually a deviation from the paper. Instead, they feed only the first backward RNN hidden state through a linear layer to get the context vector/decoder initial hidden state. This doesn't seem to make sense to me, so we have changed it.\n",
    "\n",
    "As we want our model to look back over the whole of the source sentence we return `outputs`, the stacked forward and backward hidden states for every token in the source sentence. We also return `hidden`, which acts as our initial hidden state in the decoder."
   ]
  },
  {
   "cell_type": "code",
   "execution_count": 28,
   "metadata": {
    "execution": {
     "iopub.execute_input": "2022-04-14T19:30:37.650009Z",
     "iopub.status.busy": "2022-04-14T19:30:37.649857Z",
     "iopub.status.idle": "2022-04-14T19:30:37.653757Z",
     "shell.execute_reply": "2022-04-14T19:30:37.653345Z",
     "shell.execute_reply.started": "2022-04-14T19:30:37.649995Z"
    },
    "executionInfo": {
     "elapsed": 117,
     "status": "ok",
     "timestamp": 1644563465250,
     "user": {
      "displayName": "Shaannoor Mann",
      "photoUrl": "https://lh3.googleusercontent.com/a/default-user=s64",
      "userId": "02520257695567980696"
     },
     "user_tz": 360
    },
    "id": "zabfsjZOUn3A",
    "tags": []
   },
   "outputs": [],
   "source": [
    "class Encoder(nn.Module):\n",
    "    def __init__(self, input_dim, emb_dim, enc_hid_dim, dec_hid_dim, dropout):\n",
    "        super().__init__()\n",
    "        \n",
    "        self.embedding = nn.Embedding(input_dim, emb_dim)\n",
    "        \n",
    "        self.rnn = nn.GRU(emb_dim, enc_hid_dim, bidirectional = True)\n",
    "        \n",
    "        self.fc = nn.Linear(enc_hid_dim * 2, dec_hid_dim)\n",
    "        \n",
    "        self.dropout = nn.Dropout(dropout)\n",
    "        \n",
    "    def forward(self, src):\n",
    "        \n",
    "        #src = [src len, batch size]\n",
    "        \n",
    "        embedded = self.dropout(self.embedding(src))\n",
    "        \n",
    "        #embedded = [src len, batch size, emb dim]\n",
    "        \n",
    "        outputs, hidden = self.rnn(embedded)\n",
    "                \n",
    "        #outputs = [src len, batch size, hid dim * num directions]\n",
    "        #hidden = [n layers * num directions, batch size, hid dim]\n",
    "        \n",
    "        #hidden is stacked [forward_1, backward_1, forward_2, backward_2, ...]\n",
    "        #outputs are always from the last layer\n",
    "        \n",
    "        #hidden [-2, :, : ] is the last of the forwards RNN \n",
    "        #hidden [-1, :, : ] is the last of the backwards RNN\n",
    "        \n",
    "        #initial decoder hidden is final hidden state of the forwards and backwards \n",
    "        #  encoder RNNs fed through a linear layer\n",
    "        hidden = torch.tanh(self.fc(torch.cat((hidden[-2,:,:], hidden[-1,:,:]), dim = 1)))\n",
    "        \n",
    "        #outputs = [src len, batch size, enc hid dim * 2]\n",
    "        #hidden = [batch size, dec hid dim]\n",
    "        \n",
    "        return outputs, hidden\n"
   ]
  },
  {
   "cell_type": "markdown",
   "metadata": {},
   "source": [
    "### Attention\n",
    "\n",
    "Next up is the attention layer. This will take in the previous hidden state of the decoder, $s_{t-1}$, and all of the stacked forward and backward hidden states from the encoder, $H$. The layer will output an attention vector, $a_t$, that is the length of the source sentence, each element is between 0 and 1 and the entire vector sums to 1.\n",
    "\n",
    "Intuitively, this layer takes what we have decoded so far, $s_{t-1}$, and all of what we have encoded, $H$, to produce a vector, $a_t$, that represents which words in the source sentence we should pay the most attention to in order to correctly predict the next word to decode, $\\hat{y}_{t+1}$. \n",
    "\n",
    "First, we calculate the *energy* between the previous decoder hidden state and the encoder hidden states. As our encoder hidden states are a sequence of $T$ tensors, and our previous decoder hidden state is a single tensor, the first thing we do is `repeat` the previous decoder hidden state $T$ times. We then calculate the energy, $E_t$, between them by concatenating them together and passing them through a linear layer (`attn`) and a $\\tanh$ activation function. \n",
    "\n",
    "$$E_t = \\tanh(\\text{attn}(s_{t-1}, H))$$ \n",
    "\n",
    "This can be thought of as calculating how well each encoder hidden state \"matches\" the previous decoder hidden state.\n",
    "\n",
    "We currently have a **[dec hid dim, src len]** tensor for each example in the batch. We want this to be **[src len]** for each example in the batch as the attention should be over the length of the source sentence. This is achieved by multiplying the `energy` by a **[1, dec hid dim]** tensor, $v$.\n",
    "\n",
    "$$\\hat{a}_t = v E_t$$\n",
    "\n",
    "We can think of $v$ as the weights for a weighted sum of the energy across all encoder hidden states. These weights tell us how much we should attend to each token in the source sequence. The parameters of $v$ are initialized randomly, but learned with the rest of the model via backpropagation. Note how $v$ is not dependent on time, and the same $v$ is used for each time-step of the decoding. We implement $v$ as a linear layer without a bias.\n",
    "\n",
    "Finally, we ensure the attention vector fits the constraints of having all elements between 0 and 1 and the vector summing to 1 by passing it through a $\\text{softmax}$ layer.\n",
    "\n",
    "$$a_t = \\text{softmax}(\\hat{a_t})$$\n",
    "\n",
    "This gives us the attention over the source sentence!\n",
    "\n",
    "Graphically, this looks something like below. This is for calculating the very first attention vector, where $s_{t-1} = s_0 = z$. The green/teal blocks represent the hidden states from both the forward and backward RNNs, and the attention computation is all done within the pink block.\n",
    "\n",
    "![](assets/seq2seq9.png)"
   ]
  },
  {
   "cell_type": "code",
   "execution_count": 29,
   "metadata": {
    "execution": {
     "iopub.execute_input": "2022-04-14T19:35:35.161672Z",
     "iopub.status.busy": "2022-04-14T19:35:35.161530Z",
     "iopub.status.idle": "2022-04-14T19:35:35.165411Z",
     "shell.execute_reply": "2022-04-14T19:35:35.165142Z",
     "shell.execute_reply.started": "2022-04-14T19:35:35.161658Z"
    },
    "tags": []
   },
   "outputs": [],
   "source": [
    "class Attention(nn.Module):\n",
    "    def __init__(self, enc_hid_dim, dec_hid_dim):\n",
    "        super().__init__()\n",
    "        \n",
    "        self.attn = nn.Linear((enc_hid_dim * 2) + dec_hid_dim, dec_hid_dim)\n",
    "        self.v = nn.Linear(dec_hid_dim, 1, bias = False)\n",
    "        \n",
    "    def forward(self, hidden, encoder_outputs):\n",
    "        \n",
    "        #hidden = [batch size, dec hid dim]\n",
    "        #encoder_outputs = [src len, batch size, enc hid dim * 2]\n",
    "        \n",
    "        batch_size = encoder_outputs.shape[1]\n",
    "        src_len = encoder_outputs.shape[0]\n",
    "        \n",
    "        #repeat decoder hidden state src_len times\n",
    "        hidden = hidden.unsqueeze(1).repeat(1, src_len, 1)\n",
    "        \n",
    "        encoder_outputs = encoder_outputs.permute(1, 0, 2)\n",
    "        \n",
    "        #hidden = [batch size, src len, dec hid dim]\n",
    "        #encoder_outputs = [batch size, src len, enc hid dim * 2]\n",
    "        \n",
    "        energy = torch.tanh(self.attn(torch.cat((hidden, encoder_outputs), dim = 2))) \n",
    "        \n",
    "        #energy = [batch size, src len, dec hid dim]\n",
    "\n",
    "        attention = self.v(energy).squeeze(2)\n",
    "        \n",
    "        #attention= [batch size, src len]\n",
    "        \n",
    "        return F.softmax(attention, dim=1)"
   ]
  },
  {
   "cell_type": "markdown",
   "metadata": {
    "id": "7esX6rp0Un3A"
   },
   "source": [
    "### Decoder\n",
    "\n",
    "Next up is the decoder. \n",
    "\n",
    "The decoder contains the attention layer, `attention`, which takes the previous hidden state, $s_{t-1}$, all of the encoder hidden states, $H$, and returns the attention vector, $a_t$.\n",
    "\n",
    "We then use this attention vector to create a weighted source vector, $w_t$, denoted by `weighted`, which is a weighted sum of the encoder hidden states, $H$, using $a_t$ as the weights.\n",
    "\n",
    "$$w_t = a_t H$$\n",
    "\n",
    "The embedded input word, $d(y_t)$, the weighted source vector, $w_t$, and the previous decoder hidden state, $s_{t-1}$, are then all passed into the decoder RNN, with $d(y_t)$ and $w_t$ being concatenated together.\n",
    "\n",
    "$$s_t = \\text{DecoderGRU}(d(y_t), w_t, s_{t-1})$$\n",
    "\n",
    "We then pass $d(y_t)$, $w_t$ and $s_t$ through the linear layer, $f$, to make a prediction of the next word in the target sentence, $\\hat{y}_{t+1}$. This is done by concatenating them all together.\n",
    "\n",
    "$$\\hat{y}_{t+1} = f(d(y_t), w_t, s_t)$$\n",
    "\n",
    "The image below shows decoding the first word in an example translation.\n",
    "\n",
    "![](assets/seq2seq10.png)\n",
    "\n",
    "The green/teal blocks show the forward/backward encoder RNNs which output $H$, the red block shows the context vector, $z = h_T = \\tanh(g(h^\\rightarrow_T,h^\\leftarrow_T)) = \\tanh(g(z^\\rightarrow, z^\\leftarrow)) = s_0$, the blue block shows the decoder RNN which outputs $s_t$, the purple block shows the linear layer, $f$, which outputs $\\hat{y}_{t+1}$ and the orange block shows the calculation of the weighted sum over $H$ by $a_t$ and outputs $w_t$. Not shown is the calculation of $a_t$."
   ]
  },
  {
   "cell_type": "code",
   "execution_count": 32,
   "metadata": {
    "execution": {
     "iopub.execute_input": "2022-04-14T19:38:03.291166Z",
     "iopub.status.busy": "2022-04-14T19:38:03.291023Z",
     "iopub.status.idle": "2022-04-14T19:38:03.296553Z",
     "shell.execute_reply": "2022-04-14T19:38:03.296132Z",
     "shell.execute_reply.started": "2022-04-14T19:38:03.291152Z"
    },
    "executionInfo": {
     "elapsed": 226,
     "status": "ok",
     "timestamp": 1644563467091,
     "user": {
      "displayName": "Shaannoor Mann",
      "photoUrl": "https://lh3.googleusercontent.com/a/default-user=s64",
      "userId": "02520257695567980696"
     },
     "user_tz": 360
    },
    "id": "AVkx_S2fUn3A",
    "tags": []
   },
   "outputs": [],
   "source": [
    "class Decoder(nn.Module):\n",
    "    def __init__(self, output_dim, emb_dim, enc_hid_dim, dec_hid_dim, dropout, attention):\n",
    "        super().__init__()\n",
    "\n",
    "        self.output_dim = output_dim\n",
    "        self.attention = attention\n",
    "        \n",
    "        self.embedding = nn.Embedding(output_dim, emb_dim)\n",
    "        \n",
    "        self.rnn = nn.GRU((enc_hid_dim * 2) + emb_dim, dec_hid_dim)\n",
    "        \n",
    "        self.fc_out = nn.Linear((enc_hid_dim * 2) + dec_hid_dim + emb_dim, output_dim)\n",
    "        \n",
    "        self.dropout = nn.Dropout(dropout)\n",
    "        \n",
    "    def forward(self, input, hidden, encoder_outputs):\n",
    "             \n",
    "        #input = [batch size]\n",
    "        #hidden = [batch size, dec hid dim]\n",
    "        #encoder_outputs = [src len, batch size, enc hid dim * 2]\n",
    "        \n",
    "        input = input.unsqueeze(0)\n",
    "        \n",
    "        #input = [1, batch size]\n",
    "        \n",
    "        embedded = self.dropout(self.embedding(input))\n",
    "        \n",
    "        #embedded = [1, batch size, emb dim]\n",
    "        \n",
    "        a = self.attention(hidden, encoder_outputs)\n",
    "                \n",
    "        #a = [batch size, src len]\n",
    "        \n",
    "        a = a.unsqueeze(1)\n",
    "        \n",
    "        #a = [batch size, 1, src len]\n",
    "        \n",
    "        encoder_outputs = encoder_outputs.permute(1, 0, 2)\n",
    "        \n",
    "        #encoder_outputs = [batch size, src len, enc hid dim * 2]\n",
    "        \n",
    "        weighted = torch.bmm(a, encoder_outputs)\n",
    "        \n",
    "        #weighted = [batch size, 1, enc hid dim * 2]\n",
    "        \n",
    "        weighted = weighted.permute(1, 0, 2)\n",
    "        \n",
    "        #weighted = [1, batch size, enc hid dim * 2]\n",
    "        \n",
    "        rnn_input = torch.cat((embedded, weighted), dim = 2)\n",
    "        \n",
    "        #rnn_input = [1, batch size, (enc hid dim * 2) + emb dim]\n",
    "            \n",
    "        output, hidden = self.rnn(rnn_input, hidden.unsqueeze(0))\n",
    "        \n",
    "        #output = [seq len, batch size, dec hid dim * n directions]\n",
    "        #hidden = [n layers * n directions, batch size, dec hid dim]\n",
    "        \n",
    "        #seq len, n layers and n directions will always be 1 in this decoder, therefore:\n",
    "        #output = [1, batch size, dec hid dim]\n",
    "        #hidden = [1, batch size, dec hid dim]\n",
    "        #this also means that output == hidden\n",
    "        assert (output == hidden).all()\n",
    "        \n",
    "        embedded = embedded.squeeze(0)\n",
    "        output = output.squeeze(0)\n",
    "        weighted = weighted.squeeze(0)\n",
    "        \n",
    "        prediction = self.fc_out(torch.cat((output, weighted, embedded), dim = 1))\n",
    "        \n",
    "        #prediction = [batch size, output dim]\n",
    "        \n",
    "        return prediction, hidden.squeeze(0)       \n"
   ]
  },
  {
   "cell_type": "markdown",
   "metadata": {
    "id": "VNxlQ5KYUn3A"
   },
   "source": [
    "### Seq2Seq\n",
    "\n",
    "This is the first model where we don't have to have the encoder RNN and decoder RNN have the same hidden dimensions, however the encoder has to be bidirectional. This requirement can be removed by changing all occurences of `enc_dim * 2` to `enc_dim * 2 if encoder_is_bidirectional else enc_dim`. \n",
    "\n",
    "This seq2seq encapsulator is similar to the last two. The only difference is that the `encoder` returns both the final hidden state (which is the final hidden state from both the forward and backward encoder RNNs passed through a linear layer) to be used as the initial hidden state for the decoder, as well as every hidden state (which are the forward and backward hidden states stacked on top of each other). We also need to ensure that `hidden` and `encoder_outputs` are passed to the decoder. \n",
    "\n",
    "Briefly going over all of the steps:\n",
    "- the `outputs` tensor is created to hold all predictions, $\\hat{Y}$\n",
    "- the source sequence, $X$, is fed into the encoder to receive $z$ and $H$\n",
    "- the initial decoder hidden state is set to be the `context` vector, $s_0 = z = h_T$\n",
    "- we use a batch of `<sos>` tokens as the first `input`, $y_1$\n",
    "- we then decode within a loop:\n",
    "  - inserting the input token $y_t$, previous hidden state, $s_{t-1}$, and all encoder outputs, $H$, into the decoder\n",
    "  - receiving a prediction, $\\hat{y}_{t+1}$, and a new hidden state, $s_t$\n",
    "  - we then decide if we are going to teacher force or not, setting the next input as appropriate"
   ]
  },
  {
   "cell_type": "code",
   "execution_count": 33,
   "metadata": {
    "execution": {
     "iopub.execute_input": "2022-04-14T19:38:03.892241Z",
     "iopub.status.busy": "2022-04-14T19:38:03.892055Z",
     "iopub.status.idle": "2022-04-14T19:38:03.897320Z",
     "shell.execute_reply": "2022-04-14T19:38:03.897014Z",
     "shell.execute_reply.started": "2022-04-14T19:38:03.892219Z"
    },
    "executionInfo": {
     "elapsed": 111,
     "status": "ok",
     "timestamp": 1644563469133,
     "user": {
      "displayName": "Shaannoor Mann",
      "photoUrl": "https://lh3.googleusercontent.com/a/default-user=s64",
      "userId": "02520257695567980696"
     },
     "user_tz": 360
    },
    "id": "kH4m5zk7Un3B",
    "tags": []
   },
   "outputs": [],
   "source": [
    "class Seq2Seq(nn.Module):\n",
    "    def __init__(self, encoder, decoder, device):\n",
    "        super().__init__()\n",
    "        \n",
    "        self.encoder = encoder\n",
    "        self.decoder = decoder\n",
    "        self.device = device\n",
    "        \n",
    "    def forward(self, src, trg, teacher_forcing_ratio = 0.5):\n",
    "        \n",
    "        #src = [src len, batch size]\n",
    "        #trg = [trg len, batch size]\n",
    "        #teacher_forcing_ratio is probability to use teacher forcing\n",
    "        #e.g. if teacher_forcing_ratio is 0.75 we use teacher forcing 75% of the time\n",
    "        \n",
    "        batch_size = src.shape[1]\n",
    "        trg_len = trg.shape[0]\n",
    "        trg_vocab_size = self.decoder.output_dim\n",
    "        \n",
    "        #tensor to store decoder outputs\n",
    "        outputs = torch.zeros(trg_len, batch_size, trg_vocab_size).to(self.device)\n",
    "        \n",
    "        #encoder_outputs is all hidden states of the input sequence, back and forwards\n",
    "        #hidden is the final forward and backward hidden states, passed through a linear layer\n",
    "        encoder_outputs, hidden = self.encoder(src)\n",
    "                \n",
    "        #first input to the decoder is the <sos> tokens\n",
    "        input = trg[0,:]\n",
    "        \n",
    "        for t in range(1, trg_len):\n",
    "            \n",
    "            #insert input token embedding, previous hidden state and all encoder hidden states\n",
    "            #receive output tensor (predictions) and new hidden state\n",
    "            output, hidden = self.decoder(input, hidden, encoder_outputs)\n",
    "            \n",
    "            #place predictions in a tensor holding predictions for each token\n",
    "            outputs[t] = output\n",
    "            \n",
    "            #decide if we are going to use teacher forcing or not\n",
    "            teacher_force = random.random() < teacher_forcing_ratio\n",
    "            \n",
    "            #get the highest predicted token from our predictions\n",
    "            top1 = output.argmax(1) \n",
    "            \n",
    "            #if teacher forcing, use actual next token as next input\n",
    "            #if not, use predicted token\n",
    "            input = trg[t] if teacher_force else top1\n",
    "\n",
    "        return outputs\n",
    " "
   ]
  },
  {
   "cell_type": "markdown",
   "metadata": {
    "id": "HyPbOrlHUn3B"
   },
   "source": [
    "# Training the Seq2Seq Model\n",
    "\n",
    "The rest of this tutorial is very similar to the previous one. \n",
    "\n",
    "We initialise our encoder, decoder and seq2seq model (placing it on the GPU if we have one). As before, the embedding dimensions and the amount of dropout used can be different between the encoder and the decoder, but the hidden dimensions must remain the same."
   ]
  },
  {
   "cell_type": "code",
   "execution_count": 34,
   "metadata": {
    "execution": {
     "iopub.execute_input": "2022-04-14T19:38:04.508145Z",
     "iopub.status.busy": "2022-04-14T19:38:04.508002Z",
     "iopub.status.idle": "2022-04-14T19:38:07.559557Z",
     "shell.execute_reply": "2022-04-14T19:38:07.559203Z",
     "shell.execute_reply.started": "2022-04-14T19:38:04.508130Z"
    },
    "executionInfo": {
     "elapsed": 255,
     "status": "ok",
     "timestamp": 1644563471159,
     "user": {
      "displayName": "Shaannoor Mann",
      "photoUrl": "https://lh3.googleusercontent.com/a/default-user=s64",
      "userId": "02520257695567980696"
     },
     "user_tz": 360
    },
    "id": "xg6tH3mDUn3B",
    "tags": []
   },
   "outputs": [],
   "source": [
    "device = torch.device('cuda' if torch.cuda.is_available() else 'cpu')\n",
    "INPUT_DIM = len(source_vocab)\n",
    "OUTPUT_DIM = len(target_vocab)\n",
    "ENC_EMB_DIM = 256\n",
    "DEC_EMB_DIM = 256\n",
    "ENC_HID_DIM = 512\n",
    "DEC_HID_DIM = 512\n",
    "ENC_DROPOUT = 0.5\n",
    "DEC_DROPOUT = 0.5\n",
    "\n",
    "attn = Attention(ENC_HID_DIM, DEC_HID_DIM)\n",
    "enc = Encoder(INPUT_DIM, ENC_EMB_DIM, ENC_HID_DIM, DEC_HID_DIM, ENC_DROPOUT)\n",
    "dec = Decoder(OUTPUT_DIM, DEC_EMB_DIM, ENC_HID_DIM, DEC_HID_DIM, DEC_DROPOUT, attn)\n",
    "\n",
    "model = Seq2Seq(enc, dec, device).to(device)"
   ]
  },
  {
   "cell_type": "markdown",
   "metadata": {
    "id": "R8QiCSrzUn3B"
   },
   "source": [
    "Next, we initialize our parameters. The paper states the parameters are initialized from a normal distribution with a mean of 0 and a standard deviation of 0.01, i.e. $\\mathcal{N}(0, 0.01)$. \n",
    "\n",
    "It also states we should initialize the recurrent parameters to a special initialization, however to keep things simple we'll also initialize them to $\\mathcal{N}(0, 0.01)$."
   ]
  },
  {
   "cell_type": "code",
   "execution_count": 35,
   "metadata": {
    "colab": {
     "base_uri": "https://localhost:8080/"
    },
    "execution": {
     "iopub.execute_input": "2022-04-14T19:38:07.560355Z",
     "iopub.status.busy": "2022-04-14T19:38:07.560200Z",
     "iopub.status.idle": "2022-04-14T19:38:07.565223Z",
     "shell.execute_reply": "2022-04-14T19:38:07.564872Z",
     "shell.execute_reply.started": "2022-04-14T19:38:07.560342Z"
    },
    "executionInfo": {
     "elapsed": 3,
     "status": "ok",
     "timestamp": 1644563473045,
     "user": {
      "displayName": "Shaannoor Mann",
      "photoUrl": "https://lh3.googleusercontent.com/a/default-user=s64",
      "userId": "02520257695567980696"
     },
     "user_tz": 360
    },
    "id": "8a9Kgdh5Un3B",
    "outputId": "c03e8da5-e564-43e3-f5c6-0478b08d3abb",
    "tags": []
   },
   "outputs": [
    {
     "data": {
      "text/plain": [
       "Seq2Seq(\n",
       "  (encoder): Encoder(\n",
       "    (embedding): Embedding(7874, 256)\n",
       "    (rnn): GRU(256, 512, bidirectional=True)\n",
       "    (fc): Linear(in_features=1024, out_features=512, bias=True)\n",
       "    (dropout): Dropout(p=0.5, inplace=False)\n",
       "  )\n",
       "  (decoder): Decoder(\n",
       "    (attention): Attention(\n",
       "      (attn): Linear(in_features=1536, out_features=512, bias=True)\n",
       "      (v): Linear(in_features=512, out_features=1, bias=False)\n",
       "    )\n",
       "    (embedding): Embedding(5893, 256)\n",
       "    (rnn): GRU(1280, 512)\n",
       "    (fc_out): Linear(in_features=1792, out_features=5893, bias=True)\n",
       "    (dropout): Dropout(p=0.5, inplace=False)\n",
       "  )\n",
       ")"
      ]
     },
     "execution_count": 35,
     "metadata": {},
     "output_type": "execute_result"
    }
   ],
   "source": [
    "def init_weights(m):\n",
    "    for name, param in m.named_parameters():\n",
    "        if 'weight' in name:\n",
    "            nn.init.normal_(param.data, mean=0, std=0.01)\n",
    "        else:\n",
    "            nn.init.constant_(param.data, 0)\n",
    "            \n",
    "model.apply(init_weights)"
   ]
  },
  {
   "cell_type": "markdown",
   "metadata": {
    "id": "kX8djfNtUn3B"
   },
   "source": [
    "We also define a function that will calculate the number of trainable parameters in the model.\n",
    "\n",
    "Even though we only have a single layer RNN for our encoder and decoder we actually have **more** parameters  than the last model. This is due to the increased size of the inputs to the GRU and the linear layer. However, it is not a significant amount of parameters and causes a minimal amount of increase in training time (~3 seconds per epoch extra)."
   ]
  },
  {
   "cell_type": "code",
   "execution_count": 36,
   "metadata": {
    "colab": {
     "base_uri": "https://localhost:8080/"
    },
    "execution": {
     "iopub.execute_input": "2022-04-14T19:38:11.589780Z",
     "iopub.status.busy": "2022-04-14T19:38:11.589629Z",
     "iopub.status.idle": "2022-04-14T19:38:11.593060Z",
     "shell.execute_reply": "2022-04-14T19:38:11.592690Z",
     "shell.execute_reply.started": "2022-04-14T19:38:11.589765Z"
    },
    "executionInfo": {
     "elapsed": 145,
     "status": "ok",
     "timestamp": 1644563475026,
     "user": {
      "displayName": "Shaannoor Mann",
      "photoUrl": "https://lh3.googleusercontent.com/a/default-user=s64",
      "userId": "02520257695567980696"
     },
     "user_tz": 360
    },
    "id": "SJW-AD6NUn3C",
    "outputId": "d7cc1242-17b7-4207-814d-af3e2ea41de5",
    "tags": []
   },
   "outputs": [
    {
     "name": "stdout",
     "output_type": "stream",
     "text": [
      "The model has 20,523,781 trainable parameters\n"
     ]
    }
   ],
   "source": [
    "def count_parameters(model):\n",
    "    return sum(p.numel() for p in model.parameters() if p.requires_grad)\n",
    "\n",
    "print(f'The model has {count_parameters(model):,} trainable parameters')"
   ]
  },
  {
   "cell_type": "markdown",
   "metadata": {
    "id": "kqFRDWy5Un3C"
   },
   "source": [
    "We define our optimizer, which we use to update our parameters in the training loop. Check out [this](http://ruder.io/optimizing-gradient-descent/) post for information about different optimizers. Here, we'll use Adam."
   ]
  },
  {
   "cell_type": "code",
   "execution_count": 37,
   "metadata": {
    "execution": {
     "iopub.execute_input": "2022-04-14T19:38:14.873255Z",
     "iopub.status.busy": "2022-04-14T19:38:14.873109Z",
     "iopub.status.idle": "2022-04-14T19:38:14.875642Z",
     "shell.execute_reply": "2022-04-14T19:38:14.875257Z",
     "shell.execute_reply.started": "2022-04-14T19:38:14.873241Z"
    },
    "executionInfo": {
     "elapsed": 2,
     "status": "ok",
     "timestamp": 1644563477113,
     "user": {
      "displayName": "Shaannoor Mann",
      "photoUrl": "https://lh3.googleusercontent.com/a/default-user=s64",
      "userId": "02520257695567980696"
     },
     "user_tz": 360
    },
    "id": "uQW8MwmpUn3C",
    "tags": []
   },
   "outputs": [],
   "source": [
    "optimizer = optim.Adam(model.parameters())"
   ]
  },
  {
   "cell_type": "markdown",
   "metadata": {
    "id": "vP8-nNUgUn3C"
   },
   "source": [
    "Next, we define our loss function. The `CrossEntropyLoss` function calculates both the log softmax as well as the negative log-likelihood of our predictions. \n",
    "\n",
    "Our loss function calculates the average loss per token, however by passing the index of the `<pad>` token as the `ignore_index` argument we ignore the loss whenever the target token is a padding token. "
   ]
  },
  {
   "cell_type": "code",
   "execution_count": 38,
   "metadata": {
    "colab": {
     "base_uri": "https://localhost:8080/"
    },
    "execution": {
     "iopub.execute_input": "2022-04-14T19:38:16.464424Z",
     "iopub.status.busy": "2022-04-14T19:38:16.464207Z",
     "iopub.status.idle": "2022-04-14T19:38:16.468250Z",
     "shell.execute_reply": "2022-04-14T19:38:16.467871Z",
     "shell.execute_reply.started": "2022-04-14T19:38:16.464403Z"
    },
    "executionInfo": {
     "elapsed": 108,
     "status": "ok",
     "timestamp": 1644563481663,
     "user": {
      "displayName": "Shaannoor Mann",
      "photoUrl": "https://lh3.googleusercontent.com/a/default-user=s64",
      "userId": "02520257695567980696"
     },
     "user_tz": 360
    },
    "id": "kwbug8VNUn3C",
    "outputId": "c6dba05d-3e9d-456a-c388-af2393e0194c",
    "tags": []
   },
   "outputs": [
    {
     "data": {
      "text/plain": [
       "3"
      ]
     },
     "execution_count": 38,
     "metadata": {},
     "output_type": "execute_result"
    }
   ],
   "source": [
    "TRG_PAD_IDX = target_vocab['<PAD>']\n",
    "TRG_PAD_IDX"
   ]
  },
  {
   "cell_type": "code",
   "execution_count": 39,
   "metadata": {
    "execution": {
     "iopub.execute_input": "2022-04-14T19:38:17.303101Z",
     "iopub.status.busy": "2022-04-14T19:38:17.302979Z",
     "iopub.status.idle": "2022-04-14T19:38:17.305730Z",
     "shell.execute_reply": "2022-04-14T19:38:17.305349Z",
     "shell.execute_reply.started": "2022-04-14T19:38:17.303088Z"
    },
    "executionInfo": {
     "elapsed": 2,
     "status": "ok",
     "timestamp": 1644563482600,
     "user": {
      "displayName": "Shaannoor Mann",
      "photoUrl": "https://lh3.googleusercontent.com/a/default-user=s64",
      "userId": "02520257695567980696"
     },
     "user_tz": 360
    },
    "id": "HqDGxXU-2A7y",
    "tags": []
   },
   "outputs": [],
   "source": [
    "criterion = nn.CrossEntropyLoss(ignore_index = TRG_PAD_IDX)"
   ]
  },
  {
   "cell_type": "markdown",
   "metadata": {
    "id": "DTSE8TjRUn3C"
   },
   "source": [
    "Next, we'll define our training loop. \n",
    "\n",
    "First, we'll set the model into \"training mode\" with `model.train()`. This will turn on dropout (and batch normalization, which we aren't using) and then iterate through our data iterator.\n",
    "\n",
    "As stated before, our decoder loop starts at 1, not 0. This means the 0th element of our `outputs` tensor remains all zeros. So our `trg` and `outputs` look something like:\n",
    "\n",
    "$$\\begin{align*}\n",
    "\\text{trg} = [<sos>, &y_1, y_2, y_3, <eos>]\\\\\n",
    "\\text{outputs} = [0, &\\hat{y}_1, \\hat{y}_2, \\hat{y}_3, <eos>]\n",
    "\\end{align*}$$\n",
    "\n",
    "Here, when we calculate the loss, we cut off the first element of each tensor to get:\n",
    "\n",
    "$$\\begin{align*}\n",
    "\\text{trg} = [&y_1, y_2, y_3, <eos>]\\\\\n",
    "\\text{outputs} = [&\\hat{y}_1, \\hat{y}_2, \\hat{y}_3, <eos>]\n",
    "\\end{align*}$$\n",
    "\n",
    "At each iteration:\n",
    "- get the source and target sentences from the batch, $X$ and $Y$\n",
    "- zero the gradients calculated from the last batch\n",
    "- feed the source and target into the model to get the output, $\\hat{Y}$\n",
    "- as the loss function only works on 2d inputs with 1d targets we need to flatten each of them with `.view`\n",
    "    - we slice off the first column of the output and target tensors as mentioned above\n",
    "- calculate the gradients with `loss.backward()`\n",
    "- clip the gradients to prevent them from exploding (a common issue in RNNs)\n",
    "- update the parameters of our model by doing an optimizer step\n",
    "- sum the loss value to a running total\n",
    "\n",
    "Finally, we return the loss that is averaged over all batches."
   ]
  },
  {
   "cell_type": "code",
   "execution_count": 40,
   "metadata": {
    "execution": {
     "iopub.execute_input": "2022-04-14T19:38:19.658143Z",
     "iopub.status.busy": "2022-04-14T19:38:19.657988Z",
     "iopub.status.idle": "2022-04-14T19:38:19.662113Z",
     "shell.execute_reply": "2022-04-14T19:38:19.661646Z",
     "shell.execute_reply.started": "2022-04-14T19:38:19.658116Z"
    },
    "executionInfo": {
     "elapsed": 192,
     "status": "ok",
     "timestamp": 1644563484589,
     "user": {
      "displayName": "Shaannoor Mann",
      "photoUrl": "https://lh3.googleusercontent.com/a/default-user=s64",
      "userId": "02520257695567980696"
     },
     "user_tz": 360
    },
    "id": "BYKiriabUn3C",
    "tags": []
   },
   "outputs": [],
   "source": [
    "def train(model, iterator, optimizer, criterion, clip):\n",
    "    \n",
    "    model.train()\n",
    "    \n",
    "    epoch_loss = 0\n",
    "    \n",
    "    for src, trg in iterator:\n",
    "        \n",
    "        src = src.to(device)\n",
    "        trg = trg.to(device)\n",
    "        \n",
    "        optimizer.zero_grad()\n",
    "        \n",
    "        output = model(src, trg)\n",
    "        \n",
    "        #trg = [trg len, batch size]\n",
    "        #output = [trg len, batch size, output dim]\n",
    "        \n",
    "        output_dim = output.shape[-1]\n",
    "        \n",
    "        output = output[1:].view(-1, output_dim)\n",
    "        trg = trg[1:].view(-1)\n",
    "        \n",
    "        #trg = [(trg len - 1) * batch size]\n",
    "        #output = [(trg len - 1) * batch size, output dim]\n",
    "        \n",
    "        loss = criterion(output, trg)\n",
    "        \n",
    "        loss.backward()\n",
    "        \n",
    "        torch.nn.utils.clip_grad_norm_(model.parameters(), clip)\n",
    "        \n",
    "        optimizer.step()\n",
    "        \n",
    "        epoch_loss += loss.item()\n",
    "        \n",
    "    return epoch_loss / len(iterator)"
   ]
  },
  {
   "cell_type": "markdown",
   "metadata": {
    "id": "XEEHX3lcUn3C"
   },
   "source": [
    "Our evaluation loop is similar to our training loop, however as we aren't updating any parameters we don't need to pass an optimizer or a clip value.\n",
    "\n",
    "We must remember to set the model to evaluation mode with `model.eval()`. This will turn off dropout (and batch normalization, if used).\n",
    "\n",
    "We use the `with torch.no_grad()` block to ensure no gradients are calculated within the block. This reduces memory consumption and speeds things up. \n",
    "\n",
    "The iteration loop is similar (without the parameter updates), however we must ensure we turn teacher forcing off for evaluation. This will cause the model to only use it's own predictions to make further predictions within a sentence, which mirrors how it would be used in deployment."
   ]
  },
  {
   "cell_type": "code",
   "execution_count": 41,
   "metadata": {
    "execution": {
     "iopub.execute_input": "2022-04-14T19:38:20.888128Z",
     "iopub.status.busy": "2022-04-14T19:38:20.888006Z",
     "iopub.status.idle": "2022-04-14T19:38:20.891638Z",
     "shell.execute_reply": "2022-04-14T19:38:20.891140Z",
     "shell.execute_reply.started": "2022-04-14T19:38:20.888115Z"
    },
    "executionInfo": {
     "elapsed": 1,
     "status": "ok",
     "timestamp": 1644563486426,
     "user": {
      "displayName": "Shaannoor Mann",
      "photoUrl": "https://lh3.googleusercontent.com/a/default-user=s64",
      "userId": "02520257695567980696"
     },
     "user_tz": 360
    },
    "id": "q_0CMMb9Un3C",
    "tags": []
   },
   "outputs": [],
   "source": [
    "def evaluate(model, iterator, criterion):\n",
    "    \n",
    "    model.eval()\n",
    "    \n",
    "    epoch_loss = 0\n",
    "    \n",
    "    with torch.no_grad():\n",
    "    \n",
    "        for src, trg in iterator:\n",
    "\n",
    "            src = src.to(device)\n",
    "            trg = trg.to(device)\n",
    "\n",
    "            output = model(src, trg, 0) #turn off teacher forcing\n",
    "\n",
    "            #trg = [trg len, batch size]\n",
    "            #output = [trg len, batch size, output dim]\n",
    "\n",
    "            output_dim = output.shape[-1]\n",
    "            \n",
    "            output = output[1:].view(-1, output_dim)\n",
    "            trg = trg[1:].view(-1)\n",
    "\n",
    "            #trg = [(trg len - 1) * batch size]\n",
    "            #output = [(trg len - 1) * batch size, output dim]\n",
    "\n",
    "            loss = criterion(output, trg)\n",
    "            \n",
    "            epoch_loss += loss.item()\n",
    "        \n",
    "    return epoch_loss / len(iterator)"
   ]
  },
  {
   "cell_type": "markdown",
   "metadata": {
    "id": "dBWvFyRmUn3D"
   },
   "source": [
    "Next, we'll create a function that we'll use to tell us how long an epoch takes."
   ]
  },
  {
   "cell_type": "code",
   "execution_count": 42,
   "metadata": {
    "execution": {
     "iopub.execute_input": "2022-04-14T19:38:21.968916Z",
     "iopub.status.busy": "2022-04-14T19:38:21.968775Z",
     "iopub.status.idle": "2022-04-14T19:38:21.971691Z",
     "shell.execute_reply": "2022-04-14T19:38:21.971093Z",
     "shell.execute_reply.started": "2022-04-14T19:38:21.968903Z"
    },
    "executionInfo": {
     "elapsed": 2,
     "status": "ok",
     "timestamp": 1644563488400,
     "user": {
      "displayName": "Shaannoor Mann",
      "photoUrl": "https://lh3.googleusercontent.com/a/default-user=s64",
      "userId": "02520257695567980696"
     },
     "user_tz": 360
    },
    "id": "dwfIeh7XUn3D",
    "tags": []
   },
   "outputs": [],
   "source": [
    "def epoch_time(start_time, end_time):\n",
    "    elapsed_time = end_time - start_time\n",
    "    elapsed_mins = int(elapsed_time / 60)\n",
    "    elapsed_secs = int(elapsed_time - (elapsed_mins * 60))\n",
    "    return elapsed_mins, elapsed_secs"
   ]
  },
  {
   "cell_type": "markdown",
   "metadata": {
    "id": "n16Yz_VcUn3D"
   },
   "source": [
    "We can finally start training our model!\n",
    "\n",
    "At each epoch, we'll be checking if our model has achieved the best validation loss so far. If it has, we'll update our best validation loss and save the parameters of our model (called `state_dict` in PyTorch). Then, when we come to test our model, we'll use the saved parameters used to achieve the best validation loss. \n",
    "\n",
    "We'll be printing out both the loss and the perplexity at each epoch. It is easier to see a change in perplexity than a change in loss as the numbers are much bigger."
   ]
  },
  {
   "cell_type": "code",
   "execution_count": 43,
   "metadata": {
    "colab": {
     "base_uri": "https://localhost:8080/"
    },
    "execution": {
     "iopub.execute_input": "2022-04-14T19:38:22.854067Z",
     "iopub.status.busy": "2022-04-14T19:38:22.853910Z",
     "iopub.status.idle": "2022-04-14T19:47:03.996660Z",
     "shell.execute_reply": "2022-04-14T19:47:03.996268Z",
     "shell.execute_reply.started": "2022-04-14T19:38:22.854052Z"
    },
    "executionInfo": {
     "elapsed": 292535,
     "status": "ok",
     "timestamp": 1644563782768,
     "user": {
      "displayName": "Shaannoor Mann",
      "photoUrl": "https://lh3.googleusercontent.com/a/default-user=s64",
      "userId": "02520257695567980696"
     },
     "user_tz": 360
    },
    "id": "7vyJuNQzUn3D",
    "outputId": "ac379d86-f63e-4d8d-ad98-be01d2394446",
    "tags": []
   },
   "outputs": [
    {
     "name": "stdout",
     "output_type": "stream",
     "text": [
      "Epoch: 01 | Time: 0m 51s\n",
      "\tTrain Loss: 5.068 | Train PPL: 158.840\n",
      "\t Val. Loss: 4.868 |  Val. PPL: 130.058\n",
      "Epoch: 02 | Time: 0m 52s\n",
      "\tTrain Loss: 4.103 | Train PPL:  60.497\n",
      "\t Val. Loss: 4.132 |  Val. PPL:  62.306\n",
      "Epoch: 03 | Time: 0m 52s\n",
      "\tTrain Loss: 3.361 | Train PPL:  28.807\n",
      "\t Val. Loss: 3.660 |  Val. PPL:  38.862\n",
      "Epoch: 04 | Time: 0m 52s\n",
      "\tTrain Loss: 2.843 | Train PPL:  17.168\n",
      "\t Val. Loss: 3.378 |  Val. PPL:  29.323\n",
      "Epoch: 05 | Time: 0m 52s\n",
      "\tTrain Loss: 2.464 | Train PPL:  11.755\n",
      "\t Val. Loss: 3.309 |  Val. PPL:  27.348\n",
      "Epoch: 06 | Time: 0m 52s\n",
      "\tTrain Loss: 2.177 | Train PPL:   8.816\n",
      "\t Val. Loss: 3.277 |  Val. PPL:  26.503\n",
      "Epoch: 07 | Time: 0m 51s\n",
      "\tTrain Loss: 1.937 | Train PPL:   6.937\n",
      "\t Val. Loss: 3.364 |  Val. PPL:  28.894\n",
      "Epoch: 08 | Time: 0m 51s\n",
      "\tTrain Loss: 1.741 | Train PPL:   5.702\n",
      "\t Val. Loss: 3.277 |  Val. PPL:  26.499\n",
      "Epoch: 09 | Time: 0m 52s\n",
      "\tTrain Loss: 1.591 | Train PPL:   4.910\n",
      "\t Val. Loss: 3.345 |  Val. PPL:  28.373\n",
      "Epoch: 10 | Time: 0m 52s\n",
      "\tTrain Loss: 1.453 | Train PPL:   4.277\n",
      "\t Val. Loss: 3.371 |  Val. PPL:  29.102\n"
     ]
    }
   ],
   "source": [
    "N_EPOCHS = 10\n",
    "CLIP = 1\n",
    "\n",
    "best_valid_loss = float('inf')\n",
    "\n",
    "for epoch in range(N_EPOCHS):\n",
    "    \n",
    "    start_time = time.time()\n",
    "    \n",
    "    train_loss = train(model, train_loader, optimizer, criterion, CLIP)\n",
    "    valid_loss = evaluate(model, valid_loader, criterion)\n",
    "    \n",
    "    end_time = time.time()\n",
    "    \n",
    "    epoch_mins, epoch_secs = epoch_time(start_time, end_time)\n",
    "    \n",
    "    if valid_loss < best_valid_loss:\n",
    "        best_valid_loss = valid_loss\n",
    "        torch.save(model.state_dict(), '3b-model.pt')\n",
    "    \n",
    "    print(f'Epoch: {epoch+1:02} | Time: {epoch_mins}m {epoch_secs}s')\n",
    "    print(f'\\tTrain Loss: {train_loss:.3f} | Train PPL: {math.exp(train_loss):7.3f}')\n",
    "    print(f'\\t Val. Loss: {valid_loss:.3f} |  Val. PPL: {math.exp(valid_loss):7.3f}')"
   ]
  },
  {
   "cell_type": "markdown",
   "metadata": {
    "id": "UeXMknRvUn3D"
   },
   "source": [
    "We'll load the parameters (`state_dict`) that gave our model the best validation loss and run it the model on the test set."
   ]
  },
  {
   "cell_type": "code",
   "execution_count": 45,
   "metadata": {
    "colab": {
     "base_uri": "https://localhost:8080/"
    },
    "execution": {
     "iopub.execute_input": "2022-04-14T19:47:15.097875Z",
     "iopub.status.busy": "2022-04-14T19:47:15.097283Z",
     "iopub.status.idle": "2022-04-14T19:47:15.806722Z",
     "shell.execute_reply": "2022-04-14T19:47:15.806268Z",
     "shell.execute_reply.started": "2022-04-14T19:47:15.097859Z"
    },
    "executionInfo": {
     "elapsed": 638,
     "status": "ok",
     "timestamp": 1644563889501,
     "user": {
      "displayName": "Shaannoor Mann",
      "photoUrl": "https://lh3.googleusercontent.com/a/default-user=s64",
      "userId": "02520257695567980696"
     },
     "user_tz": 360
    },
    "id": "YFz9w3KmUn3D",
    "outputId": "61a64a2b-fc6e-4a97-de33-5f8cc4cbfd5f",
    "tags": []
   },
   "outputs": [
    {
     "name": "stdout",
     "output_type": "stream",
     "text": [
      "| Test Loss: 3.264 | Test PPL:  26.159 |\n"
     ]
    }
   ],
   "source": [
    "model.load_state_dict(torch.load('3b-model.pt'))\n",
    "\n",
    "test_loss = evaluate(model, test_loader, criterion)\n",
    "\n",
    "print(f'| Test Loss: {test_loss:.3f} | Test PPL: {math.exp(test_loss):7.3f} |')"
   ]
  },
  {
   "cell_type": "markdown",
   "metadata": {
    "id": "3d61-wekUn3D"
   },
   "source": [
    "In the following notebook we'll implement a model that achieves improved test perplexity, but only uses a single layer in the encoder and the decoder."
   ]
  },
  {
   "cell_type": "code",
   "execution_count": null,
   "metadata": {},
   "outputs": [],
   "source": []
  }
 ],
 "metadata": {
  "accelerator": "GPU",
  "colab": {
   "collapsed_sections": [],
   "name": "2b - Rev_Sequence to Sequence Learning with Neural Networks.ipynb",
   "provenance": []
  },
  "kernelspec": {
   "display_name": "pt10",
   "language": "python",
   "name": "pt10"
  },
  "language_info": {
   "codemirror_mode": {
    "name": "ipython",
    "version": 3
   },
   "file_extension": ".py",
   "mimetype": "text/x-python",
   "name": "python",
   "nbconvert_exporter": "python",
   "pygments_lexer": "ipython3",
   "version": "3.8.12"
  }
 },
 "nbformat": 4,
 "nbformat_minor": 4
}
