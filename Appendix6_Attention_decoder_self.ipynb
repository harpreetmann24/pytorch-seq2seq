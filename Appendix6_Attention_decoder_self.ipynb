{
 "cells": [
  {
   "cell_type": "markdown",
   "metadata": {},
   "source": [
    "# <font color = 'blue'> Self Attention Decoder"
   ]
  },
  {
   "cell_type": "markdown",
   "metadata": {
    "execution": {
     "iopub.execute_input": "2022-02-27T08:35:50.289004Z",
     "iopub.status.busy": "2022-02-27T08:35:50.288736Z",
     "iopub.status.idle": "2022-02-27T08:35:50.291235Z",
     "shell.execute_reply": "2022-02-27T08:35:50.290917Z",
     "shell.execute_reply.started": "2022-02-27T08:35:50.288989Z"
    }
   },
   "source": [
    "# <font color = 'blue'> Import Libraries\n",
    "As always, let's import all the required modules and set the random seeds for reproducability."
   ]
  },
  {
   "cell_type": "code",
   "execution_count": 88,
   "metadata": {
    "execution": {
     "iopub.execute_input": "2022-03-11T11:39:07.981439Z",
     "iopub.status.busy": "2022-03-11T11:39:07.981288Z",
     "iopub.status.idle": "2022-03-11T11:39:07.984661Z",
     "shell.execute_reply": "2022-03-11T11:39:07.984215Z",
     "shell.execute_reply.started": "2022-03-11T11:39:07.981424Z"
    },
    "tags": []
   },
   "outputs": [],
   "source": [
    "import torch\n",
    "import torch.nn as nn\n",
    "from torch.utils.data import DataLoader, Dataset\n",
    "from torch.nn.utils.rnn import pad_sequence\n",
    "\n",
    "import torchtext \n",
    "from torchtext.datasets import Multi30k\n",
    "from torchtext.vocab import vocab\n",
    "\n",
    "import numpy as np\n",
    "from collections import Counter, OrderedDict\n",
    "\n",
    "import random\n",
    "import pandas as pd\n",
    "from pathlib import Path"
   ]
  },
  {
   "cell_type": "code",
   "execution_count": 89,
   "metadata": {
    "execution": {
     "iopub.execute_input": "2022-03-11T11:39:07.985449Z",
     "iopub.status.busy": "2022-03-11T11:39:07.985356Z",
     "iopub.status.idle": "2022-03-11T11:39:07.988839Z",
     "shell.execute_reply": "2022-03-11T11:39:07.988531Z",
     "shell.execute_reply.started": "2022-03-11T11:39:07.985437Z"
    },
    "tags": []
   },
   "outputs": [],
   "source": [
    "SEED = 1234\n",
    "\n",
    "random.seed(SEED)\n",
    "np.random.seed(SEED)\n",
    "torch.manual_seed(SEED)\n",
    "torch.cuda.manual_seed(SEED)\n",
    "torch.backends.cudnn.deterministic = True"
   ]
  },
  {
   "cell_type": "code",
   "execution_count": 90,
   "metadata": {
    "execution": {
     "iopub.execute_input": "2022-03-11T11:39:07.989582Z",
     "iopub.status.busy": "2022-03-11T11:39:07.989430Z",
     "iopub.status.idle": "2022-03-11T11:39:07.993811Z",
     "shell.execute_reply": "2022-03-11T11:39:07.993501Z",
     "shell.execute_reply.started": "2022-03-11T11:39:07.989540Z"
    },
    "tags": []
   },
   "outputs": [
    {
     "data": {
      "text/plain": [
       "('0.11.0', '1.10.0', True)"
      ]
     },
     "execution_count": 90,
     "metadata": {},
     "output_type": "execute_result"
    }
   ],
   "source": [
    "torchtext.__version__, torch.__version__, torch.cuda.is_available()"
   ]
  },
  {
   "cell_type": "markdown",
   "metadata": {},
   "source": [
    "# <font color = 'blue'>  Preparing the Data\n",
    "\n"
   ]
  },
  {
   "cell_type": "code",
   "execution_count": 91,
   "metadata": {
    "execution": {
     "iopub.execute_input": "2022-03-11T11:39:07.994345Z",
     "iopub.status.busy": "2022-03-11T11:39:07.994258Z",
     "iopub.status.idle": "2022-03-11T11:39:07.996297Z",
     "shell.execute_reply": "2022-03-11T11:39:07.996057Z",
     "shell.execute_reply.started": "2022-03-11T11:39:07.994333Z"
    },
    "tags": []
   },
   "outputs": [],
   "source": [
    "data_folder = Path('/home/harpreet/Insync/google_drive_shaannoor/Data/NLP')\n",
    "project_folder = Path('/home/harpreet/Insync/google_drive_harpreet/Research/NLP/pytorch-seq2seq')"
   ]
  },
  {
   "cell_type": "markdown",
   "metadata": {},
   "source": [
    "We'll then create our tokenizers as before."
   ]
  },
  {
   "cell_type": "markdown",
   "metadata": {
    "tags": []
   },
   "source": [
    "## <font color = 'blue'> Load tokenized data"
   ]
  },
  {
   "cell_type": "code",
   "execution_count": 92,
   "metadata": {
    "execution": {
     "iopub.execute_input": "2022-03-11T11:39:07.996946Z",
     "iopub.status.busy": "2022-03-11T11:39:07.996857Z",
     "iopub.status.idle": "2022-03-11T11:39:08.088529Z",
     "shell.execute_reply": "2022-03-11T11:39:08.088134Z",
     "shell.execute_reply.started": "2022-03-11T11:39:07.996934Z"
    },
    "tags": []
   },
   "outputs": [],
   "source": [
    "df_train = pd.read_pickle(project_folder/'df_train_en_de.pickel')"
   ]
  },
  {
   "cell_type": "code",
   "execution_count": 93,
   "metadata": {
    "execution": {
     "iopub.execute_input": "2022-03-11T11:39:08.089054Z",
     "iopub.status.busy": "2022-03-11T11:39:08.088964Z",
     "iopub.status.idle": "2022-03-11T11:39:08.101078Z",
     "shell.execute_reply": "2022-03-11T11:39:08.100768Z",
     "shell.execute_reply.started": "2022-03-11T11:39:08.089042Z"
    },
    "tags": []
   },
   "outputs": [
    {
     "data": {
      "text/html": [
       "<div>\n",
       "<style scoped>\n",
       "    .dataframe tbody tr th:only-of-type {\n",
       "        vertical-align: middle;\n",
       "    }\n",
       "\n",
       "    .dataframe tbody tr th {\n",
       "        vertical-align: top;\n",
       "    }\n",
       "\n",
       "    .dataframe thead th {\n",
       "        text-align: right;\n",
       "    }\n",
       "</style>\n",
       "<table border=\"1\" class=\"dataframe\">\n",
       "  <thead>\n",
       "    <tr style=\"text-align: right;\">\n",
       "      <th></th>\n",
       "      <th>source_tokens</th>\n",
       "      <th>target_tokens</th>\n",
       "      <th>source_tokens_reverse</th>\n",
       "    </tr>\n",
       "  </thead>\n",
       "  <tbody>\n",
       "    <tr>\n",
       "      <th>0</th>\n",
       "      <td>[zwei, junge, weiße, männer, sind, i, m, freie...</td>\n",
       "      <td>[two, young, ,, white, males, are, outside, ne...</td>\n",
       "      <td>[., büsche, vieler, nähe, der, in, freien, m, ...</td>\n",
       "    </tr>\n",
       "    <tr>\n",
       "      <th>1</th>\n",
       "      <td>[mehrere, männer, mit, schutzhelmen, bedienen,...</td>\n",
       "      <td>[several, men, in, hard, hats, are, operating,...</td>\n",
       "      <td>[., antriebsradsystem, ein, bedienen, schutzhe...</td>\n",
       "    </tr>\n",
       "    <tr>\n",
       "      <th>2</th>\n",
       "      <td>[ein, kleines, mädchen, klettert, in, ein, spi...</td>\n",
       "      <td>[a, little, girl, climbing, into, a, wooden, p...</td>\n",
       "      <td>[., holz, aus, spielhaus, ein, in, klettert, m...</td>\n",
       "    </tr>\n",
       "    <tr>\n",
       "      <th>3</th>\n",
       "      <td>[ein, mann, in, einem, blauen, hemd, steht, au...</td>\n",
       "      <td>[a, man, in, a, blue, shirt, is, standing, on,...</td>\n",
       "      <td>[., fenster, ein, putzt, und, leiter, einer, a...</td>\n",
       "    </tr>\n",
       "    <tr>\n",
       "      <th>4</th>\n",
       "      <td>[zwei, männer, stehen, am, herd, und, bereiten...</td>\n",
       "      <td>[two, men, are, at, the, stove, preparing, foo...</td>\n",
       "      <td>[., zu, essen, bereiten, und, herd, am, stehen...</td>\n",
       "    </tr>\n",
       "    <tr>\n",
       "      <th>...</th>\n",
       "      <td>...</td>\n",
       "      <td>...</td>\n",
       "      <td>...</td>\n",
       "    </tr>\n",
       "    <tr>\n",
       "      <th>28995</th>\n",
       "      <td>[., wand, verschnörkelten, einer, hinter, schr...</td>\n",
       "      <td>[a, woman, behind, a, scrolled, wall, is, writ...</td>\n",
       "      <td>[eine, frau, schreibt, hinter, einer, verschnö...</td>\n",
       "    </tr>\n",
       "    <tr>\n",
       "      <th>28996</th>\n",
       "      <td>[., kletterwand, einer, an, übt, bergsteiger, ...</td>\n",
       "      <td>[a, rock, climber, practices, on, a, rock, cli...</td>\n",
       "      <td>[ein, bergsteiger, übt, an, einer, kletterwand...</td>\n",
       "    </tr>\n",
       "    <tr>\n",
       "      <th>28997</th>\n",
       "      <td>[., hauses, einem, vor, straße, einer, auf, ar...</td>\n",
       "      <td>[two, male, construction, workers, are, workin...</td>\n",
       "      <td>[zwei, bauarbeiter, arbeiten, auf, einer, stra...</td>\n",
       "    </tr>\n",
       "    <tr>\n",
       "      <th>28998</th>\n",
       "      <td>[., fassade, einer, vor, wagen, einem, mit, ju...</td>\n",
       "      <td>[an, elderly, man, sits, outside, a, storefron...</td>\n",
       "      <td>[ein, älterer, mann, sitzt, mit, einem, jungen...</td>\n",
       "    </tr>\n",
       "    <tr>\n",
       "      <th>28999</th>\n",
       "      <td>[., hintergrund, m, i, bergen, und, nebel, mit...</td>\n",
       "      <td>[a, man, in, shorts, and, a, hawaiian, shirt, ...</td>\n",
       "      <td>[ein, mann, in, shorts, und, hawaiihemd, lehnt...</td>\n",
       "    </tr>\n",
       "  </tbody>\n",
       "</table>\n",
       "<p>29000 rows × 3 columns</p>\n",
       "</div>"
      ],
      "text/plain": [
       "                                           source_tokens  \\\n",
       "0      [zwei, junge, weiße, männer, sind, i, m, freie...   \n",
       "1      [mehrere, männer, mit, schutzhelmen, bedienen,...   \n",
       "2      [ein, kleines, mädchen, klettert, in, ein, spi...   \n",
       "3      [ein, mann, in, einem, blauen, hemd, steht, au...   \n",
       "4      [zwei, männer, stehen, am, herd, und, bereiten...   \n",
       "...                                                  ...   \n",
       "28995  [., wand, verschnörkelten, einer, hinter, schr...   \n",
       "28996  [., kletterwand, einer, an, übt, bergsteiger, ...   \n",
       "28997  [., hauses, einem, vor, straße, einer, auf, ar...   \n",
       "28998  [., fassade, einer, vor, wagen, einem, mit, ju...   \n",
       "28999  [., hintergrund, m, i, bergen, und, nebel, mit...   \n",
       "\n",
       "                                           target_tokens  \\\n",
       "0      [two, young, ,, white, males, are, outside, ne...   \n",
       "1      [several, men, in, hard, hats, are, operating,...   \n",
       "2      [a, little, girl, climbing, into, a, wooden, p...   \n",
       "3      [a, man, in, a, blue, shirt, is, standing, on,...   \n",
       "4      [two, men, are, at, the, stove, preparing, foo...   \n",
       "...                                                  ...   \n",
       "28995  [a, woman, behind, a, scrolled, wall, is, writ...   \n",
       "28996  [a, rock, climber, practices, on, a, rock, cli...   \n",
       "28997  [two, male, construction, workers, are, workin...   \n",
       "28998  [an, elderly, man, sits, outside, a, storefron...   \n",
       "28999  [a, man, in, shorts, and, a, hawaiian, shirt, ...   \n",
       "\n",
       "                                   source_tokens_reverse  \n",
       "0      [., büsche, vieler, nähe, der, in, freien, m, ...  \n",
       "1      [., antriebsradsystem, ein, bedienen, schutzhe...  \n",
       "2      [., holz, aus, spielhaus, ein, in, klettert, m...  \n",
       "3      [., fenster, ein, putzt, und, leiter, einer, a...  \n",
       "4      [., zu, essen, bereiten, und, herd, am, stehen...  \n",
       "...                                                  ...  \n",
       "28995  [eine, frau, schreibt, hinter, einer, verschnö...  \n",
       "28996  [ein, bergsteiger, übt, an, einer, kletterwand...  \n",
       "28997  [zwei, bauarbeiter, arbeiten, auf, einer, stra...  \n",
       "28998  [ein, älterer, mann, sitzt, mit, einem, jungen...  \n",
       "28999  [ein, mann, in, shorts, und, hawaiihemd, lehnt...  \n",
       "\n",
       "[29000 rows x 3 columns]"
      ]
     },
     "execution_count": 93,
     "metadata": {},
     "output_type": "execute_result"
    }
   ],
   "source": [
    "df_train"
   ]
  },
  {
   "cell_type": "markdown",
   "metadata": {},
   "source": [
    "## <font color = 'blue'> Small subset of data"
   ]
  },
  {
   "cell_type": "code",
   "execution_count": 94,
   "metadata": {
    "execution": {
     "iopub.execute_input": "2022-03-11T11:39:08.101678Z",
     "iopub.status.busy": "2022-03-11T11:39:08.101584Z",
     "iopub.status.idle": "2022-03-11T11:39:08.104197Z",
     "shell.execute_reply": "2022-03-11T11:39:08.103800Z",
     "shell.execute_reply.started": "2022-03-11T11:39:08.101665Z"
    },
    "tags": []
   },
   "outputs": [],
   "source": [
    "df_train_small= df_train[0:4]"
   ]
  },
  {
   "cell_type": "code",
   "execution_count": 95,
   "metadata": {
    "execution": {
     "iopub.execute_input": "2022-03-11T11:39:08.105172Z",
     "iopub.status.busy": "2022-03-11T11:39:08.105057Z",
     "iopub.status.idle": "2022-03-11T11:39:08.111972Z",
     "shell.execute_reply": "2022-03-11T11:39:08.111689Z",
     "shell.execute_reply.started": "2022-03-11T11:39:08.105160Z"
    },
    "tags": []
   },
   "outputs": [
    {
     "data": {
      "text/html": [
       "<div>\n",
       "<style scoped>\n",
       "    .dataframe tbody tr th:only-of-type {\n",
       "        vertical-align: middle;\n",
       "    }\n",
       "\n",
       "    .dataframe tbody tr th {\n",
       "        vertical-align: top;\n",
       "    }\n",
       "\n",
       "    .dataframe thead th {\n",
       "        text-align: right;\n",
       "    }\n",
       "</style>\n",
       "<table border=\"1\" class=\"dataframe\">\n",
       "  <thead>\n",
       "    <tr style=\"text-align: right;\">\n",
       "      <th></th>\n",
       "      <th>source_tokens</th>\n",
       "      <th>target_tokens</th>\n",
       "      <th>source_tokens_reverse</th>\n",
       "    </tr>\n",
       "  </thead>\n",
       "  <tbody>\n",
       "    <tr>\n",
       "      <th>0</th>\n",
       "      <td>[zwei, junge, weiße, männer, sind, i, m, freie...</td>\n",
       "      <td>[two, young, ,, white, males, are, outside, ne...</td>\n",
       "      <td>[., büsche, vieler, nähe, der, in, freien, m, ...</td>\n",
       "    </tr>\n",
       "    <tr>\n",
       "      <th>1</th>\n",
       "      <td>[mehrere, männer, mit, schutzhelmen, bedienen,...</td>\n",
       "      <td>[several, men, in, hard, hats, are, operating,...</td>\n",
       "      <td>[., antriebsradsystem, ein, bedienen, schutzhe...</td>\n",
       "    </tr>\n",
       "    <tr>\n",
       "      <th>2</th>\n",
       "      <td>[ein, kleines, mädchen, klettert, in, ein, spi...</td>\n",
       "      <td>[a, little, girl, climbing, into, a, wooden, p...</td>\n",
       "      <td>[., holz, aus, spielhaus, ein, in, klettert, m...</td>\n",
       "    </tr>\n",
       "    <tr>\n",
       "      <th>3</th>\n",
       "      <td>[ein, mann, in, einem, blauen, hemd, steht, au...</td>\n",
       "      <td>[a, man, in, a, blue, shirt, is, standing, on,...</td>\n",
       "      <td>[., fenster, ein, putzt, und, leiter, einer, a...</td>\n",
       "    </tr>\n",
       "  </tbody>\n",
       "</table>\n",
       "</div>"
      ],
      "text/plain": [
       "                                       source_tokens  \\\n",
       "0  [zwei, junge, weiße, männer, sind, i, m, freie...   \n",
       "1  [mehrere, männer, mit, schutzhelmen, bedienen,...   \n",
       "2  [ein, kleines, mädchen, klettert, in, ein, spi...   \n",
       "3  [ein, mann, in, einem, blauen, hemd, steht, au...   \n",
       "\n",
       "                                       target_tokens  \\\n",
       "0  [two, young, ,, white, males, are, outside, ne...   \n",
       "1  [several, men, in, hard, hats, are, operating,...   \n",
       "2  [a, little, girl, climbing, into, a, wooden, p...   \n",
       "3  [a, man, in, a, blue, shirt, is, standing, on,...   \n",
       "\n",
       "                               source_tokens_reverse  \n",
       "0  [., büsche, vieler, nähe, der, in, freien, m, ...  \n",
       "1  [., antriebsradsystem, ein, bedienen, schutzhe...  \n",
       "2  [., holz, aus, spielhaus, ein, in, klettert, m...  \n",
       "3  [., fenster, ein, putzt, und, leiter, einer, a...  "
      ]
     },
     "execution_count": 95,
     "metadata": {},
     "output_type": "execute_result"
    }
   ],
   "source": [
    "df_train_small"
   ]
  },
  {
   "cell_type": "code",
   "execution_count": 96,
   "metadata": {
    "execution": {
     "iopub.execute_input": "2022-03-11T11:39:08.112550Z",
     "iopub.status.busy": "2022-03-11T11:39:08.112454Z",
     "iopub.status.idle": "2022-03-11T11:39:08.116027Z",
     "shell.execute_reply": "2022-03-11T11:39:08.115669Z",
     "shell.execute_reply.started": "2022-03-11T11:39:08.112537Z"
    },
    "tags": []
   },
   "outputs": [],
   "source": [
    "df_train_small= df_train_small.drop(columns=['source_tokens_reverse'])"
   ]
  },
  {
   "cell_type": "code",
   "execution_count": 97,
   "metadata": {
    "execution": {
     "iopub.execute_input": "2022-03-11T11:39:08.116896Z",
     "iopub.status.busy": "2022-03-11T11:39:08.116668Z",
     "iopub.status.idle": "2022-03-11T11:39:08.124661Z",
     "shell.execute_reply": "2022-03-11T11:39:08.124388Z",
     "shell.execute_reply.started": "2022-03-11T11:39:08.116875Z"
    },
    "tags": []
   },
   "outputs": [
    {
     "data": {
      "text/html": [
       "<div>\n",
       "<style scoped>\n",
       "    .dataframe tbody tr th:only-of-type {\n",
       "        vertical-align: middle;\n",
       "    }\n",
       "\n",
       "    .dataframe tbody tr th {\n",
       "        vertical-align: top;\n",
       "    }\n",
       "\n",
       "    .dataframe thead th {\n",
       "        text-align: right;\n",
       "    }\n",
       "</style>\n",
       "<table border=\"1\" class=\"dataframe\">\n",
       "  <thead>\n",
       "    <tr style=\"text-align: right;\">\n",
       "      <th></th>\n",
       "      <th>source_tokens</th>\n",
       "      <th>target_tokens</th>\n",
       "    </tr>\n",
       "  </thead>\n",
       "  <tbody>\n",
       "    <tr>\n",
       "      <th>0</th>\n",
       "      <td>[zwei, junge, weiße, männer, sind, i, m, freie...</td>\n",
       "      <td>[two, young, ,, white, males, are, outside, ne...</td>\n",
       "    </tr>\n",
       "    <tr>\n",
       "      <th>1</th>\n",
       "      <td>[mehrere, männer, mit, schutzhelmen, bedienen,...</td>\n",
       "      <td>[several, men, in, hard, hats, are, operating,...</td>\n",
       "    </tr>\n",
       "    <tr>\n",
       "      <th>2</th>\n",
       "      <td>[ein, kleines, mädchen, klettert, in, ein, spi...</td>\n",
       "      <td>[a, little, girl, climbing, into, a, wooden, p...</td>\n",
       "    </tr>\n",
       "    <tr>\n",
       "      <th>3</th>\n",
       "      <td>[ein, mann, in, einem, blauen, hemd, steht, au...</td>\n",
       "      <td>[a, man, in, a, blue, shirt, is, standing, on,...</td>\n",
       "    </tr>\n",
       "  </tbody>\n",
       "</table>\n",
       "</div>"
      ],
      "text/plain": [
       "                                       source_tokens  \\\n",
       "0  [zwei, junge, weiße, männer, sind, i, m, freie...   \n",
       "1  [mehrere, männer, mit, schutzhelmen, bedienen,...   \n",
       "2  [ein, kleines, mädchen, klettert, in, ein, spi...   \n",
       "3  [ein, mann, in, einem, blauen, hemd, steht, au...   \n",
       "\n",
       "                                       target_tokens  \n",
       "0  [two, young, ,, white, males, are, outside, ne...  \n",
       "1  [several, men, in, hard, hats, are, operating,...  \n",
       "2  [a, little, girl, climbing, into, a, wooden, p...  \n",
       "3  [a, man, in, a, blue, shirt, is, standing, on,...  "
      ]
     },
     "execution_count": 97,
     "metadata": {},
     "output_type": "execute_result"
    }
   ],
   "source": [
    "df_train_small"
   ]
  },
  {
   "cell_type": "markdown",
   "metadata": {
    "id": "If-BMrTctAXj"
   },
   "source": [
    "## <font color = 'blue'> Build Vocab"
   ]
  },
  {
   "cell_type": "code",
   "execution_count": 98,
   "metadata": {
    "execution": {
     "iopub.execute_input": "2022-03-11T11:39:08.125196Z",
     "iopub.status.busy": "2022-03-11T11:39:08.125082Z",
     "iopub.status.idle": "2022-03-11T11:39:08.127898Z",
     "shell.execute_reply": "2022-03-11T11:39:08.127619Z",
     "shell.execute_reply.started": "2022-03-11T11:39:08.125183Z"
    },
    "executionInfo": {
     "elapsed": 309,
     "status": "ok",
     "timestamp": 1644562027083,
     "user": {
      "displayName": "Shaannoor Mann",
      "photoUrl": "https://lh3.googleusercontent.com/a/default-user=s64",
      "userId": "02520257695567980696"
     },
     "user_tz": 360
    },
    "id": "GY9kL2JxtAXj",
    "tags": []
   },
   "outputs": [],
   "source": [
    "def create_vocab(text, min_freq, specials):\n",
    "    my_counter = Counter()\n",
    "    for line in text:\n",
    "       my_counter.update(line)\n",
    "    my_vocab = vocab(my_counter, min_freq=min_freq)\n",
    "    for i, special in enumerate(specials):\n",
    "        my_vocab.insert_token(special, i)\n",
    "    my_vocab.set_default_index(0)\n",
    "    return my_vocab"
   ]
  },
  {
   "cell_type": "markdown",
   "metadata": {},
   "source": [
    "Create source vocab, We will add four special tokens - ```['<unk>', '<BOS>', '<EOS>', '<PAD>']```"
   ]
  },
  {
   "cell_type": "markdown",
   "metadata": {
    "execution": {
     "iopub.execute_input": "2022-03-06T18:47:09.646766Z",
     "iopub.status.busy": "2022-03-06T18:47:09.646608Z",
     "iopub.status.idle": "2022-03-06T18:47:09.649209Z",
     "shell.execute_reply": "2022-03-06T18:47:09.648843Z",
     "shell.execute_reply.started": "2022-03-06T18:47:09.646752Z"
    }
   },
   "source": [
    "### <font color = 'blue'> Source Vocab"
   ]
  },
  {
   "cell_type": "code",
   "execution_count": 99,
   "metadata": {
    "execution": {
     "iopub.execute_input": "2022-03-11T11:39:08.128461Z",
     "iopub.status.busy": "2022-03-11T11:39:08.128336Z",
     "iopub.status.idle": "2022-03-11T11:39:08.161336Z",
     "shell.execute_reply": "2022-03-11T11:39:08.160884Z",
     "shell.execute_reply.started": "2022-03-11T11:39:08.128448Z"
    },
    "executionInfo": {
     "elapsed": 1,
     "status": "ok",
     "timestamp": 1644562028109,
     "user": {
      "displayName": "Shaannoor Mann",
      "photoUrl": "https://lh3.googleusercontent.com/a/default-user=s64",
      "userId": "02520257695567980696"
     },
     "user_tz": 360
    },
    "id": "dcvIJAIHtAXj",
    "tags": []
   },
   "outputs": [],
   "source": [
    "source_vocab = create_vocab(df_train_small['source_tokens'], 1, ['<unk>', '<BOS>', '<EOS>', '<PAD>'])"
   ]
  },
  {
   "cell_type": "code",
   "execution_count": 100,
   "metadata": {
    "colab": {
     "base_uri": "https://localhost:8080/"
    },
    "execution": {
     "iopub.execute_input": "2022-03-11T11:39:08.162087Z",
     "iopub.status.busy": "2022-03-11T11:39:08.161942Z",
     "iopub.status.idle": "2022-03-11T11:39:08.166486Z",
     "shell.execute_reply": "2022-03-11T11:39:08.166071Z",
     "shell.execute_reply.started": "2022-03-11T11:39:08.162051Z"
    },
    "executionInfo": {
     "elapsed": 2,
     "status": "ok",
     "timestamp": 1644562029061,
     "user": {
      "displayName": "Shaannoor Mann",
      "photoUrl": "https://lh3.googleusercontent.com/a/default-user=s64",
      "userId": "02520257695567980696"
     },
     "user_tz": 360
    },
    "id": "qtEt9Sh-tAXk",
    "outputId": "1764add1-bf7a-4c9f-f38c-efff19b32b07",
    "tags": []
   },
   "outputs": [
    {
     "data": {
      "text/plain": [
       "41"
      ]
     },
     "execution_count": 100,
     "metadata": {},
     "output_type": "execute_result"
    }
   ],
   "source": [
    "len(source_vocab)"
   ]
  },
  {
   "cell_type": "code",
   "execution_count": 101,
   "metadata": {
    "colab": {
     "base_uri": "https://localhost:8080/",
     "height": 423
    },
    "execution": {
     "iopub.execute_input": "2022-03-11T11:39:08.167026Z",
     "iopub.status.busy": "2022-03-11T11:39:08.166932Z",
     "iopub.status.idle": "2022-03-11T11:39:08.173122Z",
     "shell.execute_reply": "2022-03-11T11:39:08.172667Z",
     "shell.execute_reply.started": "2022-03-11T11:39:08.167014Z"
    },
    "executionInfo": {
     "elapsed": 3,
     "status": "ok",
     "timestamp": 1644562030020,
     "user": {
      "displayName": "Shaannoor Mann",
      "photoUrl": "https://lh3.googleusercontent.com/a/default-user=s64",
      "userId": "02520257695567980696"
     },
     "user_tz": 360
    },
    "id": "bf9fu5L2tAXk",
    "outputId": "35252b98-1fff-4186-8274-aadae1b1b0b4",
    "tags": []
   },
   "outputs": [
    {
     "data": {
      "text/html": [
       "<div>\n",
       "<style scoped>\n",
       "    .dataframe tbody tr th:only-of-type {\n",
       "        vertical-align: middle;\n",
       "    }\n",
       "\n",
       "    .dataframe tbody tr th {\n",
       "        vertical-align: top;\n",
       "    }\n",
       "\n",
       "    .dataframe thead th {\n",
       "        text-align: right;\n",
       "    }\n",
       "</style>\n",
       "<table border=\"1\" class=\"dataframe\">\n",
       "  <thead>\n",
       "    <tr style=\"text-align: right;\">\n",
       "      <th></th>\n",
       "      <th>tokens</th>\n",
       "      <th>index</th>\n",
       "    </tr>\n",
       "  </thead>\n",
       "  <tbody>\n",
       "    <tr>\n",
       "      <th>28</th>\n",
       "      <td>&lt;unk&gt;</td>\n",
       "      <td>0</td>\n",
       "    </tr>\n",
       "    <tr>\n",
       "      <th>34</th>\n",
       "      <td>&lt;BOS&gt;</td>\n",
       "      <td>1</td>\n",
       "    </tr>\n",
       "    <tr>\n",
       "      <th>23</th>\n",
       "      <td>&lt;EOS&gt;</td>\n",
       "      <td>2</td>\n",
       "    </tr>\n",
       "    <tr>\n",
       "      <th>19</th>\n",
       "      <td>&lt;PAD&gt;</td>\n",
       "      <td>3</td>\n",
       "    </tr>\n",
       "    <tr>\n",
       "      <th>17</th>\n",
       "      <td>zwei</td>\n",
       "      <td>4</td>\n",
       "    </tr>\n",
       "    <tr>\n",
       "      <th>27</th>\n",
       "      <td>junge</td>\n",
       "      <td>5</td>\n",
       "    </tr>\n",
       "    <tr>\n",
       "      <th>14</th>\n",
       "      <td>weiße</td>\n",
       "      <td>6</td>\n",
       "    </tr>\n",
       "    <tr>\n",
       "      <th>12</th>\n",
       "      <td>männer</td>\n",
       "      <td>7</td>\n",
       "    </tr>\n",
       "    <tr>\n",
       "      <th>16</th>\n",
       "      <td>sind</td>\n",
       "      <td>8</td>\n",
       "    </tr>\n",
       "    <tr>\n",
       "      <th>7</th>\n",
       "      <td>i</td>\n",
       "      <td>9</td>\n",
       "    </tr>\n",
       "  </tbody>\n",
       "</table>\n",
       "</div>"
      ],
      "text/plain": [
       "    tokens  index\n",
       "28   <unk>      0\n",
       "34   <BOS>      1\n",
       "23   <EOS>      2\n",
       "19   <PAD>      3\n",
       "17    zwei      4\n",
       "27   junge      5\n",
       "14   weiße      6\n",
       "12  männer      7\n",
       "16    sind      8\n",
       "7        i      9"
      ]
     },
     "execution_count": 101,
     "metadata": {},
     "output_type": "execute_result"
    }
   ],
   "source": [
    "pd.DataFrame(source_vocab.get_stoi().items(), columns=['tokens', 'index']).sort_values(by = ['index'])[0:10]"
   ]
  },
  {
   "cell_type": "code",
   "execution_count": 102,
   "metadata": {
    "colab": {
     "base_uri": "https://localhost:8080/"
    },
    "execution": {
     "iopub.execute_input": "2022-03-11T11:39:08.173889Z",
     "iopub.status.busy": "2022-03-11T11:39:08.173661Z",
     "iopub.status.idle": "2022-03-11T11:39:08.176736Z",
     "shell.execute_reply": "2022-03-11T11:39:08.176428Z",
     "shell.execute_reply.started": "2022-03-11T11:39:08.173876Z"
    },
    "executionInfo": {
     "elapsed": 2,
     "status": "ok",
     "timestamp": 1644562031101,
     "user": {
      "displayName": "Shaannoor Mann",
      "photoUrl": "https://lh3.googleusercontent.com/a/default-user=s64",
      "userId": "02520257695567980696"
     },
     "user_tz": 360
    },
    "id": "8pKCTbN6tAXk",
    "outputId": "fd7c0bbb-562a-4313-fcb7-16a486abe4fd",
    "tags": []
   },
   "outputs": [
    {
     "data": {
      "text/plain": [
       "0"
      ]
     },
     "execution_count": 102,
     "metadata": {},
     "output_type": "execute_result"
    }
   ],
   "source": [
    "# check index of unknown word - it should be zero\n",
    "source_vocab['abracdabra']"
   ]
  },
  {
   "cell_type": "markdown",
   "metadata": {},
   "source": [
    "### <font color = 'blue'> Target Vocab"
   ]
  },
  {
   "cell_type": "code",
   "execution_count": 103,
   "metadata": {
    "execution": {
     "iopub.execute_input": "2022-03-11T11:39:08.178275Z",
     "iopub.status.busy": "2022-03-11T11:39:08.178159Z",
     "iopub.status.idle": "2022-03-11T11:39:08.210290Z",
     "shell.execute_reply": "2022-03-11T11:39:08.209999Z",
     "shell.execute_reply.started": "2022-03-11T11:39:08.178262Z"
    },
    "executionInfo": {
     "elapsed": 637,
     "status": "ok",
     "timestamp": 1644562032737,
     "user": {
      "displayName": "Shaannoor Mann",
      "photoUrl": "https://lh3.googleusercontent.com/a/default-user=s64",
      "userId": "02520257695567980696"
     },
     "user_tz": 360
    },
    "id": "qkXg6IratAXk",
    "tags": []
   },
   "outputs": [],
   "source": [
    "target_vocab = create_vocab(df_train_small['target_tokens'], 1, ['<unk>', '<BOS>', '<EOS>', '<PAD>'])"
   ]
  },
  {
   "cell_type": "code",
   "execution_count": 104,
   "metadata": {
    "colab": {
     "base_uri": "https://localhost:8080/"
    },
    "execution": {
     "iopub.execute_input": "2022-03-11T11:39:08.210871Z",
     "iopub.status.busy": "2022-03-11T11:39:08.210776Z",
     "iopub.status.idle": "2022-03-11T11:39:08.215343Z",
     "shell.execute_reply": "2022-03-11T11:39:08.215083Z",
     "shell.execute_reply.started": "2022-03-11T11:39:08.210858Z"
    },
    "executionInfo": {
     "elapsed": 2,
     "status": "ok",
     "timestamp": 1644562033264,
     "user": {
      "displayName": "Shaannoor Mann",
      "photoUrl": "https://lh3.googleusercontent.com/a/default-user=s64",
      "userId": "02520257695567980696"
     },
     "user_tz": 360
    },
    "id": "v_Y8C62GtAXk",
    "outputId": "e8c4cb40-b386-43c9-9f34-887f5f5c4ed1",
    "tags": []
   },
   "outputs": [
    {
     "data": {
      "text/plain": [
       "40"
      ]
     },
     "execution_count": 104,
     "metadata": {},
     "output_type": "execute_result"
    }
   ],
   "source": [
    "len(target_vocab)"
   ]
  },
  {
   "cell_type": "markdown",
   "metadata": {
    "id": "feccYoeWtAXk",
    "tags": []
   },
   "source": [
    "## <font color = 'blue'> Create Dataset and Dataloader"
   ]
  },
  {
   "cell_type": "code",
   "execution_count": 105,
   "metadata": {
    "execution": {
     "iopub.execute_input": "2022-03-11T11:39:08.215911Z",
     "iopub.status.busy": "2022-03-11T11:39:08.215792Z",
     "iopub.status.idle": "2022-03-11T11:39:08.218468Z",
     "shell.execute_reply": "2022-03-11T11:39:08.218196Z",
     "shell.execute_reply.started": "2022-03-11T11:39:08.215898Z"
    },
    "executionInfo": {
     "elapsed": 2,
     "status": "ok",
     "timestamp": 1644562046437,
     "user": {
      "displayName": "Shaannoor Mann",
      "photoUrl": "https://lh3.googleusercontent.com/a/default-user=s64",
      "userId": "02520257695567980696"
     },
     "user_tz": 360
    },
    "id": "fCMXepKUtAXk",
    "tags": []
   },
   "outputs": [],
   "source": [
    "class EngGerman(Dataset):\n",
    "    def __init__(self, X1, X2):\n",
    "        self.X1 = X1\n",
    "        self.X2 = X2\n",
    "        \n",
    "    def __len__(self):\n",
    "        return len(self.X1)\n",
    "    \n",
    "    def __getitem__(self, indices):\n",
    "        return (self.X1.iloc[indices] , self.X2.iloc[indices]) "
   ]
  },
  {
   "cell_type": "code",
   "execution_count": 106,
   "metadata": {
    "execution": {
     "iopub.execute_input": "2022-03-11T11:39:08.219002Z",
     "iopub.status.busy": "2022-03-11T11:39:08.218887Z",
     "iopub.status.idle": "2022-03-11T11:39:08.221657Z",
     "shell.execute_reply": "2022-03-11T11:39:08.221353Z",
     "shell.execute_reply.started": "2022-03-11T11:39:08.218989Z"
    },
    "executionInfo": {
     "elapsed": 2,
     "status": "ok",
     "timestamp": 1644562047576,
     "user": {
      "displayName": "Shaannoor Mann",
      "photoUrl": "https://lh3.googleusercontent.com/a/default-user=s64",
      "userId": "02520257695567980696"
     },
     "user_tz": 360
    },
    "id": "-Q32VBamtAXl",
    "tags": []
   },
   "outputs": [],
   "source": [
    "trainset = EngGerman(df_train_small['source_tokens'], df_train['target_tokens'])"
   ]
  },
  {
   "cell_type": "code",
   "execution_count": 107,
   "metadata": {
    "colab": {
     "base_uri": "https://localhost:8080/"
    },
    "execution": {
     "iopub.execute_input": "2022-03-11T11:39:08.222210Z",
     "iopub.status.busy": "2022-03-11T11:39:08.222097Z",
     "iopub.status.idle": "2022-03-11T11:39:08.227664Z",
     "shell.execute_reply": "2022-03-11T11:39:08.227295Z",
     "shell.execute_reply.started": "2022-03-11T11:39:08.222198Z"
    },
    "executionInfo": {
     "elapsed": 2,
     "status": "ok",
     "timestamp": 1644562048806,
     "user": {
      "displayName": "Shaannoor Mann",
      "photoUrl": "https://lh3.googleusercontent.com/a/default-user=s64",
      "userId": "02520257695567980696"
     },
     "user_tz": 360
    },
    "id": "2md5tDSutAXl",
    "outputId": "e43ad22f-28f2-4edc-ca70-25d8c38e53db",
    "tags": []
   },
   "outputs": [
    {
     "data": {
      "text/plain": [
       "(['zwei',\n",
       "  'junge',\n",
       "  'weiße',\n",
       "  'männer',\n",
       "  'sind',\n",
       "  'i',\n",
       "  'm',\n",
       "  'freien',\n",
       "  'in',\n",
       "  'der',\n",
       "  'nähe',\n",
       "  'vieler',\n",
       "  'büsche',\n",
       "  '.'],\n",
       " ['two',\n",
       "  'young',\n",
       "  ',',\n",
       "  'white',\n",
       "  'males',\n",
       "  'are',\n",
       "  'outside',\n",
       "  'near',\n",
       "  'many',\n",
       "  'bushes',\n",
       "  '.'])"
      ]
     },
     "execution_count": 107,
     "metadata": {},
     "output_type": "execute_result"
    }
   ],
   "source": [
    "trainset[0]"
   ]
  },
  {
   "cell_type": "code",
   "execution_count": 108,
   "metadata": {
    "colab": {
     "base_uri": "https://localhost:8080/"
    },
    "execution": {
     "iopub.execute_input": "2022-03-11T11:39:08.228111Z",
     "iopub.status.busy": "2022-03-11T11:39:08.228020Z",
     "iopub.status.idle": "2022-03-11T11:39:08.231316Z",
     "shell.execute_reply": "2022-03-11T11:39:08.231053Z",
     "shell.execute_reply.started": "2022-03-11T11:39:08.228098Z"
    },
    "executionInfo": {
     "elapsed": 452,
     "status": "ok",
     "timestamp": 1644562050493,
     "user": {
      "displayName": "Shaannoor Mann",
      "photoUrl": "https://lh3.googleusercontent.com/a/default-user=s64",
      "userId": "02520257695567980696"
     },
     "user_tz": 360
    },
    "id": "L18xzZrltAXl",
    "outputId": "a12c767b-1970-48ac-b82e-86061d92c503",
    "tags": []
   },
   "outputs": [
    {
     "data": {
      "text/plain": [
       "(['mehrere',\n",
       "  'männer',\n",
       "  'mit',\n",
       "  'schutzhelmen',\n",
       "  'bedienen',\n",
       "  'ein',\n",
       "  'antriebsradsystem',\n",
       "  '.'],\n",
       " ['several',\n",
       "  'men',\n",
       "  'in',\n",
       "  'hard',\n",
       "  'hats',\n",
       "  'are',\n",
       "  'operating',\n",
       "  'a',\n",
       "  'giant',\n",
       "  'pulley',\n",
       "  'system',\n",
       "  '.'])"
      ]
     },
     "execution_count": 108,
     "metadata": {},
     "output_type": "execute_result"
    }
   ],
   "source": [
    "trainset[1]"
   ]
  },
  {
   "cell_type": "code",
   "execution_count": 109,
   "metadata": {
    "execution": {
     "iopub.execute_input": "2022-03-11T11:39:08.231880Z",
     "iopub.status.busy": "2022-03-11T11:39:08.231761Z",
     "iopub.status.idle": "2022-03-11T11:39:08.235255Z",
     "shell.execute_reply": "2022-03-11T11:39:08.235006Z",
     "shell.execute_reply.started": "2022-03-11T11:39:08.231867Z"
    },
    "tags": []
   },
   "outputs": [
    {
     "data": {
      "text/plain": [
       "(['ein',\n",
       "  'kleines',\n",
       "  'mädchen',\n",
       "  'klettert',\n",
       "  'in',\n",
       "  'ein',\n",
       "  'spielhaus',\n",
       "  'aus',\n",
       "  'holz',\n",
       "  '.'],\n",
       " ['a', 'little', 'girl', 'climbing', 'into', 'a', 'wooden', 'playhouse', '.'])"
      ]
     },
     "execution_count": 109,
     "metadata": {},
     "output_type": "execute_result"
    }
   ],
   "source": [
    "trainset[2]"
   ]
  },
  {
   "cell_type": "code",
   "execution_count": 110,
   "metadata": {
    "execution": {
     "iopub.execute_input": "2022-03-11T11:39:08.235795Z",
     "iopub.status.busy": "2022-03-11T11:39:08.235678Z",
     "iopub.status.idle": "2022-03-11T11:39:08.239072Z",
     "shell.execute_reply": "2022-03-11T11:39:08.238827Z",
     "shell.execute_reply.started": "2022-03-11T11:39:08.235781Z"
    },
    "tags": []
   },
   "outputs": [
    {
     "data": {
      "text/plain": [
       "(['ein',\n",
       "  'mann',\n",
       "  'in',\n",
       "  'einem',\n",
       "  'blauen',\n",
       "  'hemd',\n",
       "  'steht',\n",
       "  'auf',\n",
       "  'einer',\n",
       "  'leiter',\n",
       "  'und',\n",
       "  'putzt',\n",
       "  'ein',\n",
       "  'fenster',\n",
       "  '.'],\n",
       " ['a',\n",
       "  'man',\n",
       "  'in',\n",
       "  'a',\n",
       "  'blue',\n",
       "  'shirt',\n",
       "  'is',\n",
       "  'standing',\n",
       "  'on',\n",
       "  'a',\n",
       "  'ladder',\n",
       "  'cleaning',\n",
       "  'a',\n",
       "  'window',\n",
       "  '.'])"
      ]
     },
     "execution_count": 110,
     "metadata": {},
     "output_type": "execute_result"
    }
   ],
   "source": [
    "trainset[3]"
   ]
  },
  {
   "cell_type": "markdown",
   "metadata": {},
   "source": [
    "<font color = 'green'> **Function to replace words woth their index. Alaso add tokens BOS and EOS for beginning and end of sentences**"
   ]
  },
  {
   "cell_type": "code",
   "execution_count": 111,
   "metadata": {
    "execution": {
     "iopub.execute_input": "2022-03-11T11:39:08.239616Z",
     "iopub.status.busy": "2022-03-11T11:39:08.239501Z",
     "iopub.status.idle": "2022-03-11T11:39:08.242951Z",
     "shell.execute_reply": "2022-03-11T11:39:08.242694Z",
     "shell.execute_reply.started": "2022-03-11T11:39:08.239604Z"
    },
    "executionInfo": {
     "elapsed": 1,
     "status": "ok",
     "timestamp": 1644562051382,
     "user": {
      "displayName": "Shaannoor Mann",
      "photoUrl": "https://lh3.googleusercontent.com/a/default-user=s64",
      "userId": "02520257695567980696"
     },
     "user_tz": 360
    },
    "id": "bPg8WslltAXl",
    "tags": []
   },
   "outputs": [],
   "source": [
    "def text_transform (my_vocab, text):\n",
    "     text_numerical = [my_vocab[token] for token in text]\n",
    "     return torch.tensor([my_vocab['<BOS>']] + text_numerical + [my_vocab['<EOS>']])\n",
    "     #return list(my_vocab['<BOS>']) + text_numerical + list(my_vocab['<EOS>'])"
   ]
  },
  {
   "cell_type": "code",
   "execution_count": 112,
   "metadata": {
    "colab": {
     "base_uri": "https://localhost:8080/"
    },
    "execution": {
     "iopub.execute_input": "2022-03-11T11:39:08.243534Z",
     "iopub.status.busy": "2022-03-11T11:39:08.243378Z",
     "iopub.status.idle": "2022-03-11T11:39:08.247389Z",
     "shell.execute_reply": "2022-03-11T11:39:08.247101Z",
     "shell.execute_reply.started": "2022-03-11T11:39:08.243520Z"
    },
    "executionInfo": {
     "elapsed": 2,
     "status": "ok",
     "timestamp": 1644562052563,
     "user": {
      "displayName": "Shaannoor Mann",
      "photoUrl": "https://lh3.googleusercontent.com/a/default-user=s64",
      "userId": "02520257695567980696"
     },
     "user_tz": 360
    },
    "id": "bpQKiRHLtAXl",
    "outputId": "d949e909-118d-49b6-dfcd-0e54a4790b7a",
    "tags": []
   },
   "outputs": [
    {
     "name": "stdout",
     "output_type": "stream",
     "text": [
      "['two', 'young', ',', 'white', 'males', 'are', 'outside', 'near', 'many', 'bushes', '.']\n"
     ]
    },
    {
     "data": {
      "text/plain": [
       "tensor([ 1,  4,  5,  6,  7,  8,  9, 10, 11, 12, 13, 14,  2])"
      ]
     },
     "execution_count": 112,
     "metadata": {},
     "output_type": "execute_result"
    }
   ],
   "source": [
    "text = trainset[0][1]\n",
    "print(text)\n",
    "text_transform(target_vocab, text)"
   ]
  },
  {
   "cell_type": "code",
   "execution_count": 113,
   "metadata": {
    "execution": {
     "iopub.execute_input": "2022-03-11T11:39:08.247929Z",
     "iopub.status.busy": "2022-03-11T11:39:08.247812Z",
     "iopub.status.idle": "2022-03-11T11:39:08.251379Z",
     "shell.execute_reply": "2022-03-11T11:39:08.251121Z",
     "shell.execute_reply.started": "2022-03-11T11:39:08.247916Z"
    },
    "tags": []
   },
   "outputs": [
    {
     "name": "stdout",
     "output_type": "stream",
     "text": [
      "['several', 'men', 'in', 'hard', 'hats', 'are', 'operating', 'a', 'giant', 'pulley', 'system', '.']\n"
     ]
    },
    {
     "data": {
      "text/plain": [
       "tensor([ 1, 15, 16, 17, 18, 19,  9, 20, 21, 22, 23, 24, 14,  2])"
      ]
     },
     "execution_count": 113,
     "metadata": {},
     "output_type": "execute_result"
    }
   ],
   "source": [
    "text = trainset[1][1]\n",
    "print(text)\n",
    "text_transform(target_vocab, text)"
   ]
  },
  {
   "cell_type": "markdown",
   "metadata": {},
   "source": [
    "<font color = 'green'> Create a function that will be use by dataloaders to group obsevations. We will first use transform function to add eos and bos tokens and replace words with indexes. Finally we will add pad tokens for smaller sentences in a batch."
   ]
  },
  {
   "cell_type": "code",
   "execution_count": 114,
   "metadata": {
    "execution": {
     "iopub.execute_input": "2022-03-11T11:39:08.251923Z",
     "iopub.status.busy": "2022-03-11T11:39:08.251806Z",
     "iopub.status.idle": "2022-03-11T11:39:08.255130Z",
     "shell.execute_reply": "2022-03-11T11:39:08.254803Z",
     "shell.execute_reply.started": "2022-03-11T11:39:08.251909Z"
    },
    "executionInfo": {
     "elapsed": 452,
     "status": "ok",
     "timestamp": 1644562054119,
     "user": {
      "displayName": "Shaannoor Mann",
      "photoUrl": "https://lh3.googleusercontent.com/a/default-user=s64",
      "userId": "02520257695567980696"
     },
     "user_tz": 360
    },
    "id": "CgKupdZ1Un2-",
    "tags": []
   },
   "outputs": [],
   "source": [
    "def collate_batch(batch):\n",
    "   source_list, target_list = [], []\n",
    "   for (source_text, target_text) in batch:\n",
    "        source_transform = text_transform(source_vocab, source_text)\n",
    "        source_list.append(source_transform)\n",
    "        target_transform =text_transform(target_vocab, target_text)\n",
    "        target_list.append(target_transform)\n",
    "        \n",
    "   source_pad = pad_sequence(source_list, padding_value=3.0, batch_first = True)\n",
    "   target_pad = pad_sequence(target_list, padding_value=3.0, batch_first = True)\n",
    "   #print(source_list)\n",
    "   return (source_pad, target_pad)"
   ]
  },
  {
   "cell_type": "code",
   "execution_count": 115,
   "metadata": {
    "execution": {
     "iopub.execute_input": "2022-03-11T11:39:08.255659Z",
     "iopub.status.busy": "2022-03-11T11:39:08.255545Z",
     "iopub.status.idle": "2022-03-11T11:39:08.259165Z",
     "shell.execute_reply": "2022-03-11T11:39:08.258901Z",
     "shell.execute_reply.started": "2022-03-11T11:39:08.255646Z"
    },
    "executionInfo": {
     "elapsed": 2,
     "status": "ok",
     "timestamp": 1644562055245,
     "user": {
      "displayName": "Shaannoor Mann",
      "photoUrl": "https://lh3.googleusercontent.com/a/default-user=s64",
      "userId": "02520257695567980696"
     },
     "user_tz": 360
    },
    "id": "EqHCA63DUn2_",
    "tags": []
   },
   "outputs": [],
   "source": [
    "batch_size = 2\n",
    "\n",
    "train_loader = DataLoader(trainset, batch_size=batch_size, shuffle=True, \n",
    "                              collate_fn=collate_batch)"
   ]
  },
  {
   "cell_type": "code",
   "execution_count": 116,
   "metadata": {
    "colab": {
     "base_uri": "https://localhost:8080/"
    },
    "execution": {
     "iopub.execute_input": "2022-03-11T11:39:08.259722Z",
     "iopub.status.busy": "2022-03-11T11:39:08.259605Z",
     "iopub.status.idle": "2022-03-11T11:39:08.264239Z",
     "shell.execute_reply": "2022-03-11T11:39:08.263956Z",
     "shell.execute_reply.started": "2022-03-11T11:39:08.259709Z"
    },
    "executionInfo": {
     "elapsed": 321,
     "status": "ok",
     "timestamp": 1644562056795,
     "user": {
      "displayName": "Shaannoor Mann",
      "photoUrl": "https://lh3.googleusercontent.com/a/default-user=s64",
      "userId": "02520257695567980696"
     },
     "user_tz": 360
    },
    "id": "-NUpXpJYtAXm",
    "outputId": "fffcd026-2cb5-4d9a-b657-d0f15136ff02",
    "tags": []
   },
   "outputs": [
    {
     "name": "stdout",
     "output_type": "stream",
     "text": [
      "batch number: 0\n",
      "source\n",
      "tensor([[ 1,  4,  5,  6,  7,  8,  9, 10, 11, 12, 13, 14, 15, 16, 17,  2,  3],\n",
      "        [ 1, 22, 30, 12, 31, 32, 33, 34, 35, 36, 37, 38, 39, 22, 40, 17,  2]])\n",
      "target\n",
      "tensor([[ 1,  4,  5,  6,  7,  8,  9, 10, 11, 12, 13, 14,  2,  3,  3,  3,  3],\n",
      "        [ 1, 21, 31, 17, 21, 32, 33, 34, 35, 36, 21, 37, 38, 21, 39, 14,  2]])\n",
      "batch number: 1\n",
      "source\n",
      "tensor([[ 1, 22, 24, 25, 26, 12, 22, 27, 28, 29, 17,  2],\n",
      "        [ 1, 18,  7, 19, 20, 21, 22, 23, 17,  2,  3,  3]])\n",
      "target\n",
      "tensor([[ 1, 21, 25, 26, 27, 28, 21, 29, 30, 14,  2,  3,  3,  3],\n",
      "        [ 1, 15, 16, 17, 18, 19,  9, 20, 21, 22, 23, 24, 14,  2]])\n"
     ]
    }
   ],
   "source": [
    "torch.manual_seed(456)\n",
    "for i, (source, target) in enumerate(train_loader):\n",
    "   \n",
    "  print('batch number:' ,i)\n",
    "  print('source')  \n",
    "  print(source)\n",
    "  print('target')  \n",
    "  print(target)"
   ]
  },
  {
   "cell_type": "code",
   "execution_count": 117,
   "metadata": {
    "execution": {
     "iopub.execute_input": "2022-03-11T11:39:08.264794Z",
     "iopub.status.busy": "2022-03-11T11:39:08.264672Z",
     "iopub.status.idle": "2022-03-11T11:39:08.267436Z",
     "shell.execute_reply": "2022-03-11T11:39:08.267174Z",
     "shell.execute_reply.started": "2022-03-11T11:39:08.264781Z"
    },
    "tags": []
   },
   "outputs": [
    {
     "data": {
      "text/plain": [
       "device(type='cuda')"
      ]
     },
     "execution_count": 117,
     "metadata": {},
     "output_type": "execute_result"
    }
   ],
   "source": [
    "device = torch.device('cuda' if torch.cuda.is_available() else 'cpu')\n",
    "#device = torch.device('cpu')\n",
    "device"
   ]
  },
  {
   "cell_type": "code",
   "execution_count": 118,
   "metadata": {
    "execution": {
     "iopub.execute_input": "2022-03-11T11:39:08.268047Z",
     "iopub.status.busy": "2022-03-11T11:39:08.267841Z",
     "iopub.status.idle": "2022-03-11T11:39:08.270695Z",
     "shell.execute_reply": "2022-03-11T11:39:08.270436Z",
     "shell.execute_reply.started": "2022-03-11T11:39:08.268034Z"
    },
    "tags": []
   },
   "outputs": [
    {
     "name": "stdout",
     "output_type": "stream",
     "text": [
      "tensor([[ 1, 22, 24, 25, 26, 12, 22, 27, 28, 29, 17,  2],\n",
      "        [ 1, 18,  7, 19, 20, 21, 22, 23, 17,  2,  3,  3]])\n",
      "torch.Size([2, 12])\n"
     ]
    }
   ],
   "source": [
    "src = source.clone()\n",
    "print(src)\n",
    "print(src.shape)"
   ]
  },
  {
   "cell_type": "code",
   "execution_count": 119,
   "metadata": {
    "execution": {
     "iopub.execute_input": "2022-03-11T11:39:08.271208Z",
     "iopub.status.busy": "2022-03-11T11:39:08.271114Z",
     "iopub.status.idle": "2022-03-11T11:39:08.273638Z",
     "shell.execute_reply": "2022-03-11T11:39:08.273361Z",
     "shell.execute_reply.started": "2022-03-11T11:39:08.271196Z"
    },
    "tags": []
   },
   "outputs": [
    {
     "name": "stdout",
     "output_type": "stream",
     "text": [
      "tensor([[ 1, 22, 24, 25, 26, 12, 22, 27, 28, 29, 17,  2],\n",
      "        [ 1, 18,  7, 19, 20, 21, 22, 23, 17,  2,  3,  3]])\n",
      "torch.Size([2, 12])\n"
     ]
    }
   ],
   "source": [
    "trg= target.clone\n",
    "print(src)\n",
    "print(src.shape)"
   ]
  },
  {
   "cell_type": "markdown",
   "metadata": {
    "execution": {
     "iopub.execute_input": "2022-03-06T22:39:52.086759Z",
     "iopub.status.busy": "2022-03-06T22:39:52.086621Z",
     "iopub.status.idle": "2022-03-06T22:39:52.088991Z",
     "shell.execute_reply": "2022-03-06T22:39:52.088580Z",
     "shell.execute_reply.started": "2022-03-06T22:39:52.086746Z"
    }
   },
   "source": [
    "# <font color = 'blue'> Decoder"
   ]
  },
  {
   "cell_type": "markdown",
   "metadata": {},
   "source": [
    "## <font color = 'blue'>  **Embeddings**"
   ]
  },
  {
   "cell_type": "code",
   "execution_count": 120,
   "metadata": {
    "execution": {
     "iopub.execute_input": "2022-03-11T11:39:08.274197Z",
     "iopub.status.busy": "2022-03-11T11:39:08.274082Z",
     "iopub.status.idle": "2022-03-11T11:39:08.291679Z",
     "shell.execute_reply": "2022-03-11T11:39:08.291387Z",
     "shell.execute_reply.started": "2022-03-11T11:39:08.274184Z"
    },
    "tags": []
   },
   "outputs": [],
   "source": [
    "trg = target.clone().to(device)"
   ]
  },
  {
   "cell_type": "code",
   "execution_count": 121,
   "metadata": {
    "execution": {
     "iopub.execute_input": "2022-03-11T11:39:08.292210Z",
     "iopub.status.busy": "2022-03-11T11:39:08.292114Z",
     "iopub.status.idle": "2022-03-11T11:39:08.296574Z",
     "shell.execute_reply": "2022-03-11T11:39:08.296310Z",
     "shell.execute_reply.started": "2022-03-11T11:39:08.292198Z"
    },
    "tags": []
   },
   "outputs": [
    {
     "data": {
      "text/plain": [
       "tensor([[ 1, 21, 25, 26, 27, 28, 21, 29, 30, 14,  2,  3,  3,  3],\n",
       "        [ 1, 15, 16, 17, 18, 19,  9, 20, 21, 22, 23, 24, 14,  2]],\n",
       "       device='cuda:0')"
      ]
     },
     "execution_count": 121,
     "metadata": {},
     "output_type": "execute_result"
    }
   ],
   "source": [
    "trg"
   ]
  },
  {
   "cell_type": "code",
   "execution_count": 122,
   "metadata": {
    "execution": {
     "iopub.execute_input": "2022-03-11T11:39:08.297206Z",
     "iopub.status.busy": "2022-03-11T11:39:08.297078Z",
     "iopub.status.idle": "2022-03-11T11:39:08.299668Z",
     "shell.execute_reply": "2022-03-11T11:39:08.299409Z",
     "shell.execute_reply.started": "2022-03-11T11:39:08.297193Z"
    },
    "tags": []
   },
   "outputs": [],
   "source": [
    "hid_dim = 8\n",
    "torch.manual_seed(0)\n",
    "token_embedding_layer = nn.Embedding(len(target_vocab), hid_dim).to(device)"
   ]
  },
  {
   "cell_type": "code",
   "execution_count": 123,
   "metadata": {
    "execution": {
     "iopub.execute_input": "2022-03-11T11:39:08.300314Z",
     "iopub.status.busy": "2022-03-11T11:39:08.300181Z",
     "iopub.status.idle": "2022-03-11T11:39:08.302562Z",
     "shell.execute_reply": "2022-03-11T11:39:08.302280Z",
     "shell.execute_reply.started": "2022-03-11T11:39:08.300285Z"
    },
    "tags": []
   },
   "outputs": [],
   "source": [
    "trg_embedding = token_embedding_layer(trg)"
   ]
  },
  {
   "cell_type": "code",
   "execution_count": 124,
   "metadata": {
    "execution": {
     "iopub.execute_input": "2022-03-11T11:39:08.303102Z",
     "iopub.status.busy": "2022-03-11T11:39:08.302988Z",
     "iopub.status.idle": "2022-03-11T11:39:08.306878Z",
     "shell.execute_reply": "2022-03-11T11:39:08.306602Z",
     "shell.execute_reply.started": "2022-03-11T11:39:08.303089Z"
    },
    "tags": []
   },
   "outputs": [],
   "source": [
    "scale = torch.sqrt(torch.FloatTensor([hid_dim])).to(device)"
   ]
  },
  {
   "cell_type": "code",
   "execution_count": 125,
   "metadata": {
    "execution": {
     "iopub.execute_input": "2022-03-11T11:39:08.307454Z",
     "iopub.status.busy": "2022-03-11T11:39:08.307313Z",
     "iopub.status.idle": "2022-03-11T11:39:08.309920Z",
     "shell.execute_reply": "2022-03-11T11:39:08.309651Z",
     "shell.execute_reply.started": "2022-03-11T11:39:08.307440Z"
    },
    "tags": []
   },
   "outputs": [],
   "source": [
    "trg_embedding_scaled = trg_embedding * scale"
   ]
  },
  {
   "cell_type": "code",
   "execution_count": 126,
   "metadata": {
    "execution": {
     "iopub.execute_input": "2022-03-11T11:39:08.310507Z",
     "iopub.status.busy": "2022-03-11T11:39:08.310393Z",
     "iopub.status.idle": "2022-03-11T11:39:08.313525Z",
     "shell.execute_reply": "2022-03-11T11:39:08.313229Z",
     "shell.execute_reply.started": "2022-03-11T11:39:08.310494Z"
    },
    "tags": []
   },
   "outputs": [
    {
     "data": {
      "text/plain": [
       "torch.Size([2, 14, 8])"
      ]
     },
     "execution_count": 126,
     "metadata": {},
     "output_type": "execute_result"
    }
   ],
   "source": [
    "trg_embedding_scaled.shape\n",
    "#[Batch_size, seq_len, hid_dim]"
   ]
  },
  {
   "cell_type": "code",
   "execution_count": 127,
   "metadata": {
    "execution": {
     "iopub.execute_input": "2022-03-11T11:39:08.427838Z",
     "iopub.status.busy": "2022-03-11T11:39:08.427717Z",
     "iopub.status.idle": "2022-03-11T11:39:08.430645Z",
     "shell.execute_reply": "2022-03-11T11:39:08.430161Z",
     "shell.execute_reply.started": "2022-03-11T11:39:08.427825Z"
    },
    "tags": []
   },
   "outputs": [],
   "source": [
    "position = torch.arange(trg.shape[1]).view(1,-1).repeat(trg.shape[0], 1).to(device)"
   ]
  },
  {
   "cell_type": "code",
   "execution_count": 128,
   "metadata": {
    "execution": {
     "iopub.execute_input": "2022-03-11T11:39:08.431181Z",
     "iopub.status.busy": "2022-03-11T11:39:08.431091Z",
     "iopub.status.idle": "2022-03-11T11:39:08.434735Z",
     "shell.execute_reply": "2022-03-11T11:39:08.434500Z",
     "shell.execute_reply.started": "2022-03-11T11:39:08.431169Z"
    },
    "tags": []
   },
   "outputs": [
    {
     "data": {
      "text/plain": [
       "tensor([[ 0,  1,  2,  3,  4,  5,  6,  7,  8,  9, 10, 11, 12, 13],\n",
       "        [ 0,  1,  2,  3,  4,  5,  6,  7,  8,  9, 10, 11, 12, 13]],\n",
       "       device='cuda:0')"
      ]
     },
     "execution_count": 128,
     "metadata": {},
     "output_type": "execute_result"
    }
   ],
   "source": [
    "position"
   ]
  },
  {
   "cell_type": "code",
   "execution_count": 129,
   "metadata": {
    "execution": {
     "iopub.execute_input": "2022-03-11T11:39:08.435204Z",
     "iopub.status.busy": "2022-03-11T11:39:08.435117Z",
     "iopub.status.idle": "2022-03-11T11:39:08.437289Z",
     "shell.execute_reply": "2022-03-11T11:39:08.437053Z",
     "shell.execute_reply.started": "2022-03-11T11:39:08.435192Z"
    },
    "tags": []
   },
   "outputs": [],
   "source": [
    "max_length = 20\n",
    "position_embedding_layer_decoder = nn.Embedding(max_length, hid_dim).to(device)"
   ]
  },
  {
   "cell_type": "code",
   "execution_count": 130,
   "metadata": {
    "execution": {
     "iopub.execute_input": "2022-03-11T11:39:08.437900Z",
     "iopub.status.busy": "2022-03-11T11:39:08.437734Z",
     "iopub.status.idle": "2022-03-11T11:39:08.441250Z",
     "shell.execute_reply": "2022-03-11T11:39:08.441009Z",
     "shell.execute_reply.started": "2022-03-11T11:39:08.437887Z"
    },
    "tags": []
   },
   "outputs": [],
   "source": [
    "position_embedding = position_embedding_layer_decoder(position)"
   ]
  },
  {
   "cell_type": "code",
   "execution_count": 131,
   "metadata": {
    "execution": {
     "iopub.execute_input": "2022-03-11T11:39:08.441876Z",
     "iopub.status.busy": "2022-03-11T11:39:08.441718Z",
     "iopub.status.idle": "2022-03-11T11:39:08.444735Z",
     "shell.execute_reply": "2022-03-11T11:39:08.444505Z",
     "shell.execute_reply.started": "2022-03-11T11:39:08.441864Z"
    },
    "tags": []
   },
   "outputs": [
    {
     "data": {
      "text/plain": [
       "torch.Size([2, 14, 8])"
      ]
     },
     "execution_count": 131,
     "metadata": {},
     "output_type": "execute_result"
    }
   ],
   "source": [
    "position_embedding.shape\n",
    "#[Batch_size, seq_len, hid_dim]"
   ]
  },
  {
   "cell_type": "code",
   "execution_count": 132,
   "metadata": {
    "execution": {
     "iopub.execute_input": "2022-03-11T11:39:08.445295Z",
     "iopub.status.busy": "2022-03-11T11:39:08.445187Z",
     "iopub.status.idle": "2022-03-11T11:39:08.447654Z",
     "shell.execute_reply": "2022-03-11T11:39:08.447390Z",
     "shell.execute_reply.started": "2022-03-11T11:39:08.445283Z"
    },
    "tags": []
   },
   "outputs": [],
   "source": [
    "decoder_input_dropout = nn.Dropout(p=0.1)"
   ]
  },
  {
   "cell_type": "code",
   "execution_count": 133,
   "metadata": {
    "execution": {
     "iopub.execute_input": "2022-03-11T11:39:08.448159Z",
     "iopub.status.busy": "2022-03-11T11:39:08.448047Z",
     "iopub.status.idle": "2022-03-11T11:39:08.451741Z",
     "shell.execute_reply": "2022-03-11T11:39:08.451498Z",
     "shell.execute_reply.started": "2022-03-11T11:39:08.448147Z"
    },
    "tags": []
   },
   "outputs": [],
   "source": [
    "decoder_input_after_dropout = decoder_input_dropout(position_embedding + trg_embedding_scaled)"
   ]
  },
  {
   "cell_type": "code",
   "execution_count": 134,
   "metadata": {
    "execution": {
     "iopub.execute_input": "2022-03-11T11:39:08.452249Z",
     "iopub.status.busy": "2022-03-11T11:39:08.452137Z",
     "iopub.status.idle": "2022-03-11T11:39:08.454988Z",
     "shell.execute_reply": "2022-03-11T11:39:08.454753Z",
     "shell.execute_reply.started": "2022-03-11T11:39:08.452237Z"
    },
    "tags": []
   },
   "outputs": [
    {
     "data": {
      "text/plain": [
       "torch.Size([2, 14, 8])"
      ]
     },
     "execution_count": 134,
     "metadata": {},
     "output_type": "execute_result"
    }
   ],
   "source": [
    "decoder_input_after_dropout.shape"
   ]
  },
  {
   "cell_type": "markdown",
   "metadata": {},
   "source": [
    "## <font color = 'blue'> Decoder Layer"
   ]
  },
  {
   "cell_type": "markdown",
   "metadata": {
    "execution": {
     "iopub.execute_input": "2022-03-07T06:19:56.442785Z",
     "iopub.status.busy": "2022-03-07T06:19:56.442483Z",
     "iopub.status.idle": "2022-03-07T06:19:56.445103Z",
     "shell.execute_reply": "2022-03-07T06:19:56.444791Z",
     "shell.execute_reply.started": "2022-03-07T06:19:56.442683Z"
    }
   },
   "source": [
    "### <font color = 'blue'> Self Attention- Using nn.MultiheadAttention"
   ]
  },
  {
   "cell_type": "markdown",
   "metadata": {},
   "source": [
    "<font color = 'green'> Now we will use ```torch.nn.MultiheadAttention``` from pytorch. The limittaions is that the hid_dim = out_hid_dim. Threfore hid_dim must be divisible by num_heads. In encoder hid_dim = 8, out_hid_dim =9 and num_heads =3. To keep things simpler for decoder, we will use hid_dim = out_hid_dim = 8. We will use num_heads = 2."
   ]
  },
  {
   "cell_type": "code",
   "execution_count": 184,
   "metadata": {
    "execution": {
     "iopub.execute_input": "2022-03-11T11:39:41.983461Z",
     "iopub.status.busy": "2022-03-11T11:39:41.983321Z",
     "iopub.status.idle": "2022-03-11T11:39:42.002196Z",
     "shell.execute_reply": "2022-03-11T11:39:42.001768Z",
     "shell.execute_reply.started": "2022-03-11T11:39:41.983447Z"
    },
    "tags": []
   },
   "outputs": [],
   "source": [
    "decoder_self_attnetion_layer = torch.nn.MultiheadAttention(embed_dim=hid_dim, num_heads=2, \n",
    "                                                        dropout=0.0, \n",
    "                                                        bias=True, add_bias_kv=False, \n",
    "                                                        add_zero_attn=False, kdim=None, \n",
    "                                                        vdim=None, batch_first=True, \n",
    "                                                        device=device, dtype=None)"
   ]
  },
  {
   "cell_type": "code",
   "execution_count": 185,
   "metadata": {
    "collapsed": true,
    "execution": {
     "iopub.execute_input": "2022-03-11T11:39:42.371138Z",
     "iopub.status.busy": "2022-03-11T11:39:42.370994Z",
     "iopub.status.idle": "2022-03-11T11:39:42.379715Z",
     "shell.execute_reply": "2022-03-11T11:39:42.379351Z",
     "shell.execute_reply.started": "2022-03-11T11:39:42.371124Z"
    },
    "jupyter": {
     "outputs_hidden": true
    },
    "tags": []
   },
   "outputs": [
    {
     "name": "stdout",
     "output_type": "stream",
     "text": [
      "in_proj_weight Parameter containing:\n",
      "tensor([[ 1.8499e-01, -3.8478e-01,  7.1057e-02, -2.0518e-01, -3.1614e-02,\n",
      "          1.0148e-01, -2.9991e-01, -2.7026e-01],\n",
      "        [ 3.1315e-01, -2.5496e-01, -1.2828e-03, -3.8325e-01, -2.7335e-01,\n",
      "          3.9826e-01, -2.6683e-01, -1.3738e-01],\n",
      "        [-2.4088e-01, -2.8073e-01, -2.4275e-01, -3.1153e-01,  3.3613e-01,\n",
      "          4.3101e-01, -1.8319e-01,  5.1078e-03],\n",
      "        [-3.6488e-01, -2.4598e-02, -2.3206e-01,  2.5607e-01,  3.7520e-01,\n",
      "          4.0791e-01,  8.6049e-03, -1.2862e-01],\n",
      "        [-2.8392e-01,  1.9113e-01,  4.0404e-01, -2.3042e-01,  2.9782e-01,\n",
      "          1.0228e-01,  1.5998e-01,  1.0465e-01],\n",
      "        [ 2.0145e-01,  2.2270e-01,  1.2507e-01,  4.0968e-01, -2.3089e-01,\n",
      "          3.3614e-01,  4.0727e-01,  2.7571e-01],\n",
      "        [ 3.2707e-01, -3.5637e-01,  2.2451e-01, -3.0476e-01, -1.3932e-01,\n",
      "         -2.4374e-01,  3.4372e-01,  9.7149e-02],\n",
      "        [-2.5297e-01, -2.0734e-02,  3.1794e-01,  1.0522e-01,  6.3835e-02,\n",
      "         -2.3669e-01,  7.1881e-02, -2.2638e-01],\n",
      "        [ 2.9854e-01,  3.8304e-01,  3.6641e-01,  3.0907e-01, -2.2385e-01,\n",
      "         -3.4814e-01,  3.6308e-01,  2.4562e-01],\n",
      "        [-2.9056e-01,  3.3785e-01,  2.5176e-01, -4.0162e-01, -2.5759e-01,\n",
      "         -5.0032e-02, -2.8871e-01,  3.2792e-01],\n",
      "        [-1.2615e-01,  3.5618e-01,  4.2742e-01, -3.8937e-01, -2.3419e-01,\n",
      "         -5.0442e-02,  3.0135e-01,  8.9376e-02],\n",
      "        [-2.3427e-01,  2.7673e-01,  3.8930e-01, -1.9031e-01, -2.1825e-01,\n",
      "          1.4078e-01,  4.2734e-01,  1.5003e-01],\n",
      "        [ 3.2488e-01, -2.1302e-01,  2.8431e-01,  1.6697e-01,  1.6089e-01,\n",
      "          3.8279e-01,  2.2090e-01,  2.0194e-01],\n",
      "        [ 3.7816e-03, -4.1289e-01,  1.8195e-01,  3.3748e-01, -2.7405e-01,\n",
      "         -3.6860e-01, -1.6653e-01,  2.3971e-01],\n",
      "        [-4.1704e-01,  5.9181e-02, -2.1276e-01,  1.5481e-01, -3.6018e-01,\n",
      "         -2.9788e-01,  2.3760e-01,  3.0742e-01],\n",
      "        [ 3.5200e-01, -8.6208e-02, -1.7311e-01,  3.8533e-01,  1.5727e-01,\n",
      "          4.9688e-02, -2.0327e-01,  6.1428e-02],\n",
      "        [-2.4973e-01, -2.7177e-01, -5.6458e-02, -3.1782e-01, -2.1887e-01,\n",
      "          1.3040e-01,  2.0355e-01,  1.5309e-01],\n",
      "        [ 1.3054e-01,  1.6833e-01,  9.0505e-02, -1.8885e-01,  2.7652e-01,\n",
      "         -7.3397e-02, -1.6197e-02,  1.4630e-01],\n",
      "        [ 3.4320e-02,  2.2199e-01, -2.9434e-01, -1.0952e-01, -2.8894e-01,\n",
      "          2.1007e-01, -9.3049e-02,  1.6416e-01],\n",
      "        [ 2.4621e-02, -1.4539e-01, -3.7022e-02,  2.9981e-01, -1.3867e-01,\n",
      "          2.1805e-01,  2.9434e-01, -1.2928e-02],\n",
      "        [-3.8655e-01,  2.8785e-01,  2.5782e-01,  1.0498e-01, -2.7025e-01,\n",
      "          2.8540e-04, -5.7410e-02, -3.2042e-01],\n",
      "        [-2.3444e-01, -3.4577e-01,  1.9097e-01, -3.5385e-01, -2.7836e-01,\n",
      "         -3.9557e-01, -1.0862e-01,  2.9519e-01],\n",
      "        [ 5.0504e-02, -2.4758e-01,  2.5177e-01, -5.4291e-02, -6.0885e-02,\n",
      "          1.8232e-01, -4.1251e-01, -1.7729e-02],\n",
      "        [-4.0399e-01, -3.8897e-01, -2.8631e-01, -1.6947e-01, -8.0711e-02,\n",
      "         -8.0041e-02, -7.5626e-02, -1.0621e-01]], device='cuda:0',\n",
      "       requires_grad=True)\n",
      "in_proj_bias Parameter containing:\n",
      "tensor([0., 0., 0., 0., 0., 0., 0., 0., 0., 0., 0., 0., 0., 0., 0., 0., 0., 0., 0., 0., 0., 0., 0., 0.],\n",
      "       device='cuda:0', requires_grad=True)\n",
      "out_proj.weight Parameter containing:\n",
      "tensor([[ 0.3073,  0.2268, -0.3419, -0.2200,  0.3264, -0.3227, -0.0106,  0.1992],\n",
      "        [-0.0231, -0.1152, -0.2776,  0.2452, -0.1651, -0.0271, -0.1799,  0.1165],\n",
      "        [ 0.2908, -0.1879,  0.2437, -0.1677, -0.3395, -0.1987, -0.1430, -0.0004],\n",
      "        [ 0.2092, -0.1042,  0.0999,  0.2766,  0.3155, -0.1570, -0.1468, -0.1715],\n",
      "        [ 0.0373,  0.3285,  0.0616,  0.0057,  0.0457, -0.2534, -0.2507,  0.1994],\n",
      "        [ 0.2037,  0.2375, -0.2708, -0.1696,  0.1607, -0.2345,  0.1412, -0.0931],\n",
      "        [ 0.0733, -0.1727, -0.0976,  0.0093, -0.2668, -0.2439, -0.1830,  0.2035],\n",
      "        [ 0.0248, -0.0544,  0.0215, -0.0652, -0.3079, -0.0412, -0.3170,  0.3218]],\n",
      "       device='cuda:0', requires_grad=True)\n",
      "out_proj.bias Parameter containing:\n",
      "tensor([0., 0., 0., 0., 0., 0., 0., 0.], device='cuda:0', requires_grad=True)\n"
     ]
    }
   ],
   "source": [
    "for name, param in decoder_self_attnetion_layer.named_parameters():\n",
    "    print(name, param)"
   ]
  },
  {
   "cell_type": "markdown",
   "metadata": {},
   "source": [
    "<font size = 3, color = 'green'>**As we can see that this layers has two weight metrices. It combines $W^q, W^k and W^v$ into one matrix in_proj and $W^o$ is out_proj matrix.**"
   ]
  },
  {
   "cell_type": "code",
   "execution_count": 186,
   "metadata": {
    "execution": {
     "iopub.execute_input": "2022-03-11T11:39:42.970671Z",
     "iopub.status.busy": "2022-03-11T11:39:42.970409Z",
     "iopub.status.idle": "2022-03-11T11:39:42.973937Z",
     "shell.execute_reply": "2022-03-11T11:39:42.973594Z",
     "shell.execute_reply.started": "2022-03-11T11:39:42.970621Z"
    },
    "tags": []
   },
   "outputs": [
    {
     "name": "stdout",
     "output_type": "stream",
     "text": [
      "in_proj_weight torch.Size([24, 8])\n",
      "in_proj_bias torch.Size([24])\n",
      "out_proj.weight torch.Size([8, 8])\n",
      "out_proj.bias torch.Size([8])\n"
     ]
    }
   ],
   "source": [
    "for name, param in decoder_self_attnetion_layer.named_parameters():\n",
    "    print(name, param.shape)"
   ]
  },
  {
   "cell_type": "code",
   "execution_count": 187,
   "metadata": {
    "execution": {
     "iopub.execute_input": "2022-03-11T11:39:43.242225Z",
     "iopub.status.busy": "2022-03-11T11:39:43.242045Z",
     "iopub.status.idle": "2022-03-11T11:39:43.245951Z",
     "shell.execute_reply": "2022-03-11T11:39:43.245549Z",
     "shell.execute_reply.started": "2022-03-11T11:39:43.242211Z"
    },
    "tags": []
   },
   "outputs": [
    {
     "data": {
      "text/plain": [
       "tensor([[ 1, 21, 25, 26, 27, 28, 21, 29, 30, 14,  2,  3,  3,  3],\n",
       "        [ 1, 15, 16, 17, 18, 19,  9, 20, 21, 22, 23, 24, 14,  2]],\n",
       "       device='cuda:0')"
      ]
     },
     "execution_count": 187,
     "metadata": {},
     "output_type": "execute_result"
    }
   ],
   "source": [
    "trg"
   ]
  },
  {
   "cell_type": "markdown",
   "metadata": {},
   "source": [
    "#### <font color ='blue'> Target Pad Mask"
   ]
  },
  {
   "cell_type": "code",
   "execution_count": 188,
   "metadata": {
    "execution": {
     "iopub.execute_input": "2022-03-11T11:39:43.736079Z",
     "iopub.status.busy": "2022-03-11T11:39:43.735894Z",
     "iopub.status.idle": "2022-03-11T11:39:43.739391Z",
     "shell.execute_reply": "2022-03-11T11:39:43.739016Z",
     "shell.execute_reply.started": "2022-03-11T11:39:43.736064Z"
    },
    "tags": []
   },
   "outputs": [
    {
     "data": {
      "text/plain": [
       "3"
      ]
     },
     "execution_count": 188,
     "metadata": {},
     "output_type": "execute_result"
    }
   ],
   "source": [
    "TRG_PAD_IDX = target_vocab['<PAD>']\n",
    "TRG_PAD_IDX"
   ]
  },
  {
   "cell_type": "markdown",
   "metadata": {},
   "source": [
    "<font color = 'green'> The layer apply mask where mask values are True. In manual implementation we applied mask where values are False. Hence now we will use ```trg_mask = (trg==TRG_PAD_IDX)``` instead of ```trg_mask = (trg!=TRG_PAD_IDX)```"
   ]
  },
  {
   "cell_type": "code",
   "execution_count": 189,
   "metadata": {
    "execution": {
     "iopub.execute_input": "2022-03-11T11:39:44.169471Z",
     "iopub.status.busy": "2022-03-11T11:39:44.169302Z",
     "iopub.status.idle": "2022-03-11T11:39:44.172454Z",
     "shell.execute_reply": "2022-03-11T11:39:44.172062Z",
     "shell.execute_reply.started": "2022-03-11T11:39:44.169456Z"
    },
    "tags": []
   },
   "outputs": [],
   "source": [
    "trg_pad_mask = (trg==TRG_PAD_IDX)\n"
   ]
  },
  {
   "cell_type": "code",
   "execution_count": 190,
   "metadata": {
    "execution": {
     "iopub.execute_input": "2022-03-11T11:39:44.422169Z",
     "iopub.status.busy": "2022-03-11T11:39:44.421990Z",
     "iopub.status.idle": "2022-03-11T11:39:44.425156Z",
     "shell.execute_reply": "2022-03-11T11:39:44.424800Z",
     "shell.execute_reply.started": "2022-03-11T11:39:44.422155Z"
    },
    "tags": []
   },
   "outputs": [
    {
     "data": {
      "text/plain": [
       "torch.Size([2, 14])"
      ]
     },
     "execution_count": 190,
     "metadata": {},
     "output_type": "execute_result"
    }
   ],
   "source": [
    "trg_pad_mask.shape"
   ]
  },
  {
   "cell_type": "markdown",
   "metadata": {
    "execution": {
     "iopub.execute_input": "2022-03-11T11:36:45.505684Z",
     "iopub.status.busy": "2022-03-11T11:36:45.505392Z",
     "iopub.status.idle": "2022-03-11T11:36:45.507907Z",
     "shell.execute_reply": "2022-03-11T11:36:45.507561Z",
     "shell.execute_reply.started": "2022-03-11T11:36:45.505661Z"
    }
   },
   "source": [
    "#### <font color ='blue'> Target Attention Mask"
   ]
  },
  {
   "cell_type": "code",
   "execution_count": 191,
   "metadata": {
    "execution": {
     "iopub.execute_input": "2022-03-11T11:39:44.850095Z",
     "iopub.status.busy": "2022-03-11T11:39:44.849947Z",
     "iopub.status.idle": "2022-03-11T11:39:44.852752Z",
     "shell.execute_reply": "2022-03-11T11:39:44.852306Z",
     "shell.execute_reply.started": "2022-03-11T11:39:44.850081Z"
    },
    "tags": []
   },
   "outputs": [],
   "source": [
    "trg_att_mask =~ torch.tril(torch.ones((trg.shape[1], trg.shape[1]), device = device)).bool()"
   ]
  },
  {
   "cell_type": "code",
   "execution_count": 192,
   "metadata": {
    "execution": {
     "iopub.execute_input": "2022-03-11T11:39:45.041304Z",
     "iopub.status.busy": "2022-03-11T11:39:45.041157Z",
     "iopub.status.idle": "2022-03-11T11:39:45.047222Z",
     "shell.execute_reply": "2022-03-11T11:39:45.046859Z",
     "shell.execute_reply.started": "2022-03-11T11:39:45.041289Z"
    },
    "tags": []
   },
   "outputs": [
    {
     "data": {
      "text/plain": [
       "tensor([[False,  True,  True,  True,  True,  True,  True,  True,  True,  True,\n",
       "          True,  True,  True,  True],\n",
       "        [False, False,  True,  True,  True,  True,  True,  True,  True,  True,\n",
       "          True,  True,  True,  True],\n",
       "        [False, False, False,  True,  True,  True,  True,  True,  True,  True,\n",
       "          True,  True,  True,  True],\n",
       "        [False, False, False, False,  True,  True,  True,  True,  True,  True,\n",
       "          True,  True,  True,  True],\n",
       "        [False, False, False, False, False,  True,  True,  True,  True,  True,\n",
       "          True,  True,  True,  True],\n",
       "        [False, False, False, False, False, False,  True,  True,  True,  True,\n",
       "          True,  True,  True,  True],\n",
       "        [False, False, False, False, False, False, False,  True,  True,  True,\n",
       "          True,  True,  True,  True],\n",
       "        [False, False, False, False, False, False, False, False,  True,  True,\n",
       "          True,  True,  True,  True],\n",
       "        [False, False, False, False, False, False, False, False, False,  True,\n",
       "          True,  True,  True,  True],\n",
       "        [False, False, False, False, False, False, False, False, False, False,\n",
       "          True,  True,  True,  True],\n",
       "        [False, False, False, False, False, False, False, False, False, False,\n",
       "         False,  True,  True,  True],\n",
       "        [False, False, False, False, False, False, False, False, False, False,\n",
       "         False, False,  True,  True],\n",
       "        [False, False, False, False, False, False, False, False, False, False,\n",
       "         False, False, False,  True],\n",
       "        [False, False, False, False, False, False, False, False, False, False,\n",
       "         False, False, False, False]], device='cuda:0')"
      ]
     },
     "execution_count": 192,
     "metadata": {},
     "output_type": "execute_result"
    }
   ],
   "source": [
    "trg_att_mask "
   ]
  },
  {
   "cell_type": "code",
   "execution_count": 193,
   "metadata": {
    "execution": {
     "iopub.execute_input": "2022-03-11T11:39:45.249381Z",
     "iopub.status.busy": "2022-03-11T11:39:45.249232Z",
     "iopub.status.idle": "2022-03-11T11:39:45.253062Z",
     "shell.execute_reply": "2022-03-11T11:39:45.252379Z",
     "shell.execute_reply.started": "2022-03-11T11:39:45.249367Z"
    },
    "tags": []
   },
   "outputs": [],
   "source": [
    "decoder_contextulaized_embeddings, decoder_self_attention_probs = decoder_self_attnetion_layer(\n",
    "                                                     query=decoder_input_after_dropout, \n",
    "                                                     key= decoder_input_after_dropout,\n",
    "                                                     value= decoder_input_after_dropout, \n",
    "                                                     key_padding_mask=trg_pad_mask, \n",
    "                                                     need_weights=True, \n",
    "                                                     attn_mask=trg_att_mask )"
   ]
  },
  {
   "cell_type": "code",
   "execution_count": 194,
   "metadata": {
    "execution": {
     "iopub.execute_input": "2022-03-11T11:39:45.475737Z",
     "iopub.status.busy": "2022-03-11T11:39:45.475601Z",
     "iopub.status.idle": "2022-03-11T11:39:45.478521Z",
     "shell.execute_reply": "2022-03-11T11:39:45.478087Z",
     "shell.execute_reply.started": "2022-03-11T11:39:45.475724Z"
    },
    "tags": []
   },
   "outputs": [
    {
     "data": {
      "text/plain": [
       "torch.Size([2, 14, 8])"
      ]
     },
     "execution_count": 194,
     "metadata": {},
     "output_type": "execute_result"
    }
   ],
   "source": [
    "decoder_contextulaized_embeddings.shape"
   ]
  },
  {
   "cell_type": "code",
   "execution_count": 195,
   "metadata": {
    "execution": {
     "iopub.execute_input": "2022-03-11T11:39:45.670656Z",
     "iopub.status.busy": "2022-03-11T11:39:45.670505Z",
     "iopub.status.idle": "2022-03-11T11:39:45.674393Z",
     "shell.execute_reply": "2022-03-11T11:39:45.674083Z",
     "shell.execute_reply.started": "2022-03-11T11:39:45.670642Z"
    },
    "tags": []
   },
   "outputs": [
    {
     "data": {
      "text/plain": [
       "tensor([ 0.3303,  1.7884, -0.1772,  0.2327,  0.0448,  0.2538,  1.1147,  0.5120],\n",
       "       device='cuda:0', grad_fn=<SliceBackward0>)"
      ]
     },
     "execution_count": 195,
     "metadata": {},
     "output_type": "execute_result"
    }
   ],
   "source": [
    "decoder_contextulaized_embeddings[0, 0, :]\n",
    "#[batch_size, query_len, hid_dim]"
   ]
  },
  {
   "cell_type": "code",
   "execution_count": 196,
   "metadata": {
    "execution": {
     "iopub.execute_input": "2022-03-11T11:39:45.883339Z",
     "iopub.status.busy": "2022-03-11T11:39:45.883219Z",
     "iopub.status.idle": "2022-03-11T11:39:45.886499Z",
     "shell.execute_reply": "2022-03-11T11:39:45.886141Z",
     "shell.execute_reply.started": "2022-03-11T11:39:45.883325Z"
    },
    "tags": []
   },
   "outputs": [
    {
     "data": {
      "text/plain": [
       "torch.Size([2, 14, 14])"
      ]
     },
     "execution_count": 196,
     "metadata": {},
     "output_type": "execute_result"
    }
   ],
   "source": [
    "decoder_self_attention_probs.shape\n",
    "#[batch_size, query_len, key_len]"
   ]
  },
  {
   "cell_type": "code",
   "execution_count": 197,
   "metadata": {
    "execution": {
     "iopub.execute_input": "2022-03-11T11:39:46.091852Z",
     "iopub.status.busy": "2022-03-11T11:39:46.091355Z",
     "iopub.status.idle": "2022-03-11T11:39:46.095279Z",
     "shell.execute_reply": "2022-03-11T11:39:46.094996Z",
     "shell.execute_reply.started": "2022-03-11T11:39:46.091821Z"
    },
    "tags": []
   },
   "outputs": [
    {
     "data": {
      "text/plain": [
       "tensor([1., 0., 0., 0., 0., 0., 0., 0., 0., 0., 0., 0., 0., 0.],\n",
       "       device='cuda:0', grad_fn=<SliceBackward0>)"
      ]
     },
     "execution_count": 197,
     "metadata": {},
     "output_type": "execute_result"
    }
   ],
   "source": [
    "decoder_self_attention_probs[0,0,:]"
   ]
  },
  {
   "cell_type": "code",
   "execution_count": 198,
   "metadata": {
    "execution": {
     "iopub.execute_input": "2022-03-11T11:39:46.286158Z",
     "iopub.status.busy": "2022-03-11T11:39:46.285988Z",
     "iopub.status.idle": "2022-03-11T11:39:46.290471Z",
     "shell.execute_reply": "2022-03-11T11:39:46.290201Z",
     "shell.execute_reply.started": "2022-03-11T11:39:46.286130Z"
    },
    "tags": []
   },
   "outputs": [
    {
     "data": {
      "text/plain": [
       "tensor([0.2371, 0.0075, 0.0228, 0.0816, 0.0046, 0.4548, 0.0119, 0.0390, 0.0058,\n",
       "        0.0608, 0.0739, 0.0000, 0.0000, 0.0000], device='cuda:0',\n",
       "       grad_fn=<SliceBackward0>)"
      ]
     },
     "execution_count": 198,
     "metadata": {},
     "output_type": "execute_result"
    }
   ],
   "source": [
    "decoder_self_attention_probs[0,13,:]"
   ]
  },
  {
   "cell_type": "code",
   "execution_count": 199,
   "metadata": {
    "execution": {
     "iopub.execute_input": "2022-03-11T11:39:46.484893Z",
     "iopub.status.busy": "2022-03-11T11:39:46.484644Z",
     "iopub.status.idle": "2022-03-11T11:39:46.488792Z",
     "shell.execute_reply": "2022-03-11T11:39:46.488547Z",
     "shell.execute_reply.started": "2022-03-11T11:39:46.484854Z"
    },
    "tags": []
   },
   "outputs": [
    {
     "data": {
      "text/plain": [
       "tensor([6.2274e-01, 3.9103e-05, 6.3046e-03, 4.8590e-02, 2.7189e-02, 9.2773e-03,\n",
       "        3.4019e-04, 1.6828e-02, 2.4630e-04, 1.0557e-01, 6.4785e-06, 5.2949e-02,\n",
       "        1.0976e-01, 1.6127e-04], device='cuda:0', grad_fn=<SliceBackward0>)"
      ]
     },
     "execution_count": 199,
     "metadata": {},
     "output_type": "execute_result"
    }
   ],
   "source": [
    "decoder_self_attention_probs[1,13,:]"
   ]
  },
  {
   "cell_type": "markdown",
   "metadata": {},
   "source": [
    "### <font color = 'blue'> Method 1 - Self Attention- Without Using nn.MultiheadAttention"
   ]
  },
  {
   "cell_type": "markdown",
   "metadata": {
    "execution": {
     "iopub.execute_input": "2022-03-10T15:31:08.181514Z",
     "iopub.status.busy": "2022-03-10T15:31:08.181282Z",
     "iopub.status.idle": "2022-03-10T15:31:08.183826Z",
     "shell.execute_reply": "2022-03-10T15:31:08.183545Z",
     "shell.execute_reply.started": "2022-03-10T15:31:08.181475Z"
    }
   },
   "source": [
    "#### <font color = 'blue'> Manually initialize Weights and biases "
   ]
  },
  {
   "cell_type": "markdown",
   "metadata": {
    "execution": {
     "iopub.execute_input": "2022-03-10T15:31:08.181514Z",
     "iopub.status.busy": "2022-03-10T15:31:08.181282Z",
     "iopub.status.idle": "2022-03-10T15:31:08.183826Z",
     "shell.execute_reply": "2022-03-10T15:31:08.183545Z",
     "shell.execute_reply.started": "2022-03-10T15:31:08.181475Z"
    }
   },
   "source": [
    "<font color = 'green'> To compare results, we will use the weights and biases from nn.MultiHeadAttention layer we used earlier."
   ]
  },
  {
   "cell_type": "code",
   "execution_count": 200,
   "metadata": {
    "execution": {
     "iopub.execute_input": "2022-03-11T11:39:47.288933Z",
     "iopub.status.busy": "2022-03-11T11:39:47.288813Z",
     "iopub.status.idle": "2022-03-11T11:39:47.292491Z",
     "shell.execute_reply": "2022-03-11T11:39:47.292198Z",
     "shell.execute_reply.started": "2022-03-11T11:39:47.288919Z"
    },
    "tags": []
   },
   "outputs": [],
   "source": [
    "out_hid_dim = 8\n",
    "hid_dim = 8\n",
    "fc_q = nn.Linear(hid_dim, out_hid_dim).to(device)\n",
    "fc_k = nn.Linear(hid_dim, out_hid_dim).to(device)\n",
    "fc_v = nn.Linear(hid_dim, out_hid_dim).to(device)\n",
    "fc_o = nn.Linear(out_hid_dim, hid_dim).to(device)"
   ]
  },
  {
   "cell_type": "code",
   "execution_count": 201,
   "metadata": {
    "execution": {
     "iopub.execute_input": "2022-03-11T11:39:47.485865Z",
     "iopub.status.busy": "2022-03-11T11:39:47.485747Z",
     "iopub.status.idle": "2022-03-11T11:39:47.490696Z",
     "shell.execute_reply": "2022-03-11T11:39:47.490305Z",
     "shell.execute_reply.started": "2022-03-11T11:39:47.485852Z"
    },
    "tags": []
   },
   "outputs": [
    {
     "name": "stdout",
     "output_type": "stream",
     "text": [
      "tensor([[ 0.1850, -0.3848,  0.0711, -0.2052, -0.0316,  0.1015, -0.2999, -0.2703],\n",
      "        [ 0.3132, -0.2550, -0.0013, -0.3832, -0.2734,  0.3983, -0.2668, -0.1374],\n",
      "        [-0.2409, -0.2807, -0.2427, -0.3115,  0.3361,  0.4310, -0.1832,  0.0051],\n",
      "        [-0.3649, -0.0246, -0.2321,  0.2561,  0.3752,  0.4079,  0.0086, -0.1286],\n",
      "        [-0.2839,  0.1911,  0.4040, -0.2304,  0.2978,  0.1023,  0.1600,  0.1046],\n",
      "        [ 0.2014,  0.2227,  0.1251,  0.4097, -0.2309,  0.3361,  0.4073,  0.2757],\n",
      "        [ 0.3271, -0.3564,  0.2245, -0.3048, -0.1393, -0.2437,  0.3437,  0.0971],\n",
      "        [-0.2530, -0.0207,  0.3179,  0.1052,  0.0638, -0.2367,  0.0719, -0.2264]],\n",
      "       device='cuda:0')\n",
      "tensor([0., 0., 0., 0., 0., 0., 0., 0.], device='cuda:0')\n"
     ]
    }
   ],
   "source": [
    "fc_q.weight.data = decoder_self_attnetion_layer.in_proj_weight.data[0:8,:]\n",
    "fc_q.bias.data = decoder_self_attnetion_layer.in_proj_bias.data[0:8]\n",
    "print(fc_q.weight.data)\n",
    "print(fc_q.bias.data)"
   ]
  },
  {
   "cell_type": "code",
   "execution_count": 202,
   "metadata": {
    "execution": {
     "iopub.execute_input": "2022-03-11T11:39:47.682514Z",
     "iopub.status.busy": "2022-03-11T11:39:47.682362Z",
     "iopub.status.idle": "2022-03-11T11:39:47.688348Z",
     "shell.execute_reply": "2022-03-11T11:39:47.688031Z",
     "shell.execute_reply.started": "2022-03-11T11:39:47.682469Z"
    },
    "tags": []
   },
   "outputs": [
    {
     "name": "stdout",
     "output_type": "stream",
     "text": [
      "tensor([[ 0.2985,  0.3830,  0.3664,  0.3091, -0.2238, -0.3481,  0.3631,  0.2456],\n",
      "        [-0.2906,  0.3379,  0.2518, -0.4016, -0.2576, -0.0500, -0.2887,  0.3279],\n",
      "        [-0.1261,  0.3562,  0.4274, -0.3894, -0.2342, -0.0504,  0.3014,  0.0894],\n",
      "        [-0.2343,  0.2767,  0.3893, -0.1903, -0.2182,  0.1408,  0.4273,  0.1500],\n",
      "        [ 0.3249, -0.2130,  0.2843,  0.1670,  0.1609,  0.3828,  0.2209,  0.2019],\n",
      "        [ 0.0038, -0.4129,  0.1820,  0.3375, -0.2741, -0.3686, -0.1665,  0.2397],\n",
      "        [-0.4170,  0.0592, -0.2128,  0.1548, -0.3602, -0.2979,  0.2376,  0.3074],\n",
      "        [ 0.3520, -0.0862, -0.1731,  0.3853,  0.1573,  0.0497, -0.2033,  0.0614]],\n",
      "       device='cuda:0')\n",
      "tensor([0., 0., 0., 0., 0., 0., 0., 0.], device='cuda:0')\n"
     ]
    }
   ],
   "source": [
    "fc_k.weight.data = decoder_self_attnetion_layer.in_proj_weight.data[8:16,:]\n",
    "fc_k.bias.data = decoder_self_attnetion_layer.in_proj_bias.data[8:16]\n",
    "print(fc_k.weight.data)\n",
    "print(fc_k.bias.data)"
   ]
  },
  {
   "cell_type": "code",
   "execution_count": 203,
   "metadata": {
    "execution": {
     "iopub.execute_input": "2022-03-11T11:39:47.882450Z",
     "iopub.status.busy": "2022-03-11T11:39:47.882251Z",
     "iopub.status.idle": "2022-03-11T11:39:47.888067Z",
     "shell.execute_reply": "2022-03-11T11:39:47.887789Z",
     "shell.execute_reply.started": "2022-03-11T11:39:47.882411Z"
    },
    "tags": []
   },
   "outputs": [
    {
     "name": "stdout",
     "output_type": "stream",
     "text": [
      "tensor([[-2.4973e-01, -2.7177e-01, -5.6458e-02, -3.1782e-01, -2.1887e-01,\n",
      "          1.3040e-01,  2.0355e-01,  1.5309e-01],\n",
      "        [ 1.3054e-01,  1.6833e-01,  9.0505e-02, -1.8885e-01,  2.7652e-01,\n",
      "         -7.3397e-02, -1.6197e-02,  1.4630e-01],\n",
      "        [ 3.4320e-02,  2.2199e-01, -2.9434e-01, -1.0952e-01, -2.8894e-01,\n",
      "          2.1007e-01, -9.3049e-02,  1.6416e-01],\n",
      "        [ 2.4621e-02, -1.4539e-01, -3.7022e-02,  2.9981e-01, -1.3867e-01,\n",
      "          2.1805e-01,  2.9434e-01, -1.2928e-02],\n",
      "        [-3.8655e-01,  2.8785e-01,  2.5782e-01,  1.0498e-01, -2.7025e-01,\n",
      "          2.8540e-04, -5.7410e-02, -3.2042e-01],\n",
      "        [-2.3444e-01, -3.4577e-01,  1.9097e-01, -3.5385e-01, -2.7836e-01,\n",
      "         -3.9557e-01, -1.0862e-01,  2.9519e-01],\n",
      "        [ 5.0504e-02, -2.4758e-01,  2.5177e-01, -5.4291e-02, -6.0885e-02,\n",
      "          1.8232e-01, -4.1251e-01, -1.7729e-02],\n",
      "        [-4.0399e-01, -3.8897e-01, -2.8631e-01, -1.6947e-01, -8.0711e-02,\n",
      "         -8.0041e-02, -7.5626e-02, -1.0621e-01]], device='cuda:0')\n",
      "tensor([0., 0., 0., 0., 0., 0., 0., 0.], device='cuda:0')\n"
     ]
    }
   ],
   "source": [
    "fc_v.weight.data = decoder_self_attnetion_layer.in_proj_weight.data[16:,:]\n",
    "fc_v.bias.data = decoder_self_attnetion_layer.in_proj_bias.data[16:]\n",
    "print(fc_v.weight.data)\n",
    "print(fc_v.bias.data)"
   ]
  },
  {
   "cell_type": "code",
   "execution_count": 204,
   "metadata": {
    "execution": {
     "iopub.execute_input": "2022-03-11T11:39:48.085632Z",
     "iopub.status.busy": "2022-03-11T11:39:48.085414Z",
     "iopub.status.idle": "2022-03-11T11:39:48.090717Z",
     "shell.execute_reply": "2022-03-11T11:39:48.090403Z",
     "shell.execute_reply.started": "2022-03-11T11:39:48.085617Z"
    },
    "tags": []
   },
   "outputs": [
    {
     "name": "stdout",
     "output_type": "stream",
     "text": [
      "tensor([[ 0.3073,  0.2268, -0.3419, -0.2200,  0.3264, -0.3227, -0.0106,  0.1992],\n",
      "        [-0.0231, -0.1152, -0.2776,  0.2452, -0.1651, -0.0271, -0.1799,  0.1165],\n",
      "        [ 0.2908, -0.1879,  0.2437, -0.1677, -0.3395, -0.1987, -0.1430, -0.0004],\n",
      "        [ 0.2092, -0.1042,  0.0999,  0.2766,  0.3155, -0.1570, -0.1468, -0.1715],\n",
      "        [ 0.0373,  0.3285,  0.0616,  0.0057,  0.0457, -0.2534, -0.2507,  0.1994],\n",
      "        [ 0.2037,  0.2375, -0.2708, -0.1696,  0.1607, -0.2345,  0.1412, -0.0931],\n",
      "        [ 0.0733, -0.1727, -0.0976,  0.0093, -0.2668, -0.2439, -0.1830,  0.2035],\n",
      "        [ 0.0248, -0.0544,  0.0215, -0.0652, -0.3079, -0.0412, -0.3170,  0.3218]],\n",
      "       device='cuda:0')\n",
      "tensor([0., 0., 0., 0., 0., 0., 0., 0.], device='cuda:0')\n"
     ]
    }
   ],
   "source": [
    "fc_o.weight.data = decoder_self_attnetion_layer.out_proj.weight.data\n",
    "fc_o.bias.data = decoder_self_attnetion_layer.out_proj.bias.data\n",
    "print(fc_o.weight.data)\n",
    "print(fc_o.bias.data)"
   ]
  },
  {
   "cell_type": "code",
   "execution_count": 205,
   "metadata": {
    "execution": {
     "iopub.execute_input": "2022-03-11T11:39:48.265224Z",
     "iopub.status.busy": "2022-03-11T11:39:48.265067Z",
     "iopub.status.idle": "2022-03-11T11:39:48.268941Z",
     "shell.execute_reply": "2022-03-11T11:39:48.268602Z",
     "shell.execute_reply.started": "2022-03-11T11:39:48.265209Z"
    },
    "tags": []
   },
   "outputs": [
    {
     "data": {
      "text/plain": [
       "torch.Size([2, 14, 8])"
      ]
     },
     "execution_count": 205,
     "metadata": {},
     "output_type": "execute_result"
    }
   ],
   "source": [
    "input_decoder_self = decoder_input_after_dropout.clone()\n",
    "input_decoder_self.shape"
   ]
  },
  {
   "cell_type": "markdown",
   "metadata": {},
   "source": [
    "#### <font color = 'blue'> **Generate queries, keys and values**"
   ]
  },
  {
   "cell_type": "code",
   "execution_count": 206,
   "metadata": {
    "execution": {
     "iopub.execute_input": "2022-03-11T11:39:48.464083Z",
     "iopub.status.busy": "2022-03-11T11:39:48.463934Z",
     "iopub.status.idle": "2022-03-11T11:39:48.467140Z",
     "shell.execute_reply": "2022-03-11T11:39:48.466678Z",
     "shell.execute_reply.started": "2022-03-11T11:39:48.464068Z"
    },
    "tags": []
   },
   "outputs": [],
   "source": [
    "Q = fc_q(input_decoder_self )\n",
    "K = fc_k(input_decoder_self )\n",
    "V = fc_v(input_decoder_self )"
   ]
  },
  {
   "cell_type": "code",
   "execution_count": 207,
   "metadata": {
    "execution": {
     "iopub.execute_input": "2022-03-11T11:39:48.656796Z",
     "iopub.status.busy": "2022-03-11T11:39:48.656646Z",
     "iopub.status.idle": "2022-03-11T11:39:48.659709Z",
     "shell.execute_reply": "2022-03-11T11:39:48.659410Z",
     "shell.execute_reply.started": "2022-03-11T11:39:48.656782Z"
    },
    "tags": []
   },
   "outputs": [
    {
     "name": "stdout",
     "output_type": "stream",
     "text": [
      "4\n"
     ]
    }
   ],
   "source": [
    "n_heads = 2\n",
    "head_dim = out_hid_dim // n_heads\n",
    "print(head_dim)"
   ]
  },
  {
   "cell_type": "code",
   "execution_count": 208,
   "metadata": {
    "execution": {
     "iopub.execute_input": "2022-03-11T11:39:48.863721Z",
     "iopub.status.busy": "2022-03-11T11:39:48.863601Z",
     "iopub.status.idle": "2022-03-11T11:39:48.866024Z",
     "shell.execute_reply": "2022-03-11T11:39:48.865668Z",
     "shell.execute_reply.started": "2022-03-11T11:39:48.863707Z"
    },
    "tags": []
   },
   "outputs": [],
   "source": [
    "assert out_hid_dim % n_heads == 0"
   ]
  },
  {
   "cell_type": "code",
   "execution_count": 209,
   "metadata": {
    "execution": {
     "iopub.execute_input": "2022-03-11T11:39:49.080639Z",
     "iopub.status.busy": "2022-03-11T11:39:49.080490Z",
     "iopub.status.idle": "2022-03-11T11:39:49.083452Z",
     "shell.execute_reply": "2022-03-11T11:39:49.083149Z",
     "shell.execute_reply.started": "2022-03-11T11:39:49.080625Z"
    },
    "tags": []
   },
   "outputs": [],
   "source": [
    "Q = Q.view(batch_size, -1, n_heads, head_dim)\n",
    "K = K.view(batch_size, -1, n_heads, head_dim)\n",
    "V = V.view(batch_size, -1, n_heads, head_dim)"
   ]
  },
  {
   "cell_type": "code",
   "execution_count": 210,
   "metadata": {
    "execution": {
     "iopub.execute_input": "2022-03-11T11:39:49.257588Z",
     "iopub.status.busy": "2022-03-11T11:39:49.257376Z",
     "iopub.status.idle": "2022-03-11T11:39:49.260519Z",
     "shell.execute_reply": "2022-03-11T11:39:49.260246Z",
     "shell.execute_reply.started": "2022-03-11T11:39:49.257560Z"
    },
    "tags": []
   },
   "outputs": [
    {
     "data": {
      "text/plain": [
       "torch.Size([2, 14, 2, 4])"
      ]
     },
     "execution_count": 210,
     "metadata": {},
     "output_type": "execute_result"
    }
   ],
   "source": [
    "Q.shape\n",
    "#[batch_size, query_len, n_heads, head_dim]"
   ]
  },
  {
   "cell_type": "code",
   "execution_count": 211,
   "metadata": {
    "execution": {
     "iopub.execute_input": "2022-03-11T11:39:49.463741Z",
     "iopub.status.busy": "2022-03-11T11:39:49.463621Z",
     "iopub.status.idle": "2022-03-11T11:39:49.466380Z",
     "shell.execute_reply": "2022-03-11T11:39:49.465930Z",
     "shell.execute_reply.started": "2022-03-11T11:39:49.463727Z"
    },
    "tags": []
   },
   "outputs": [],
   "source": [
    "Q = Q.permute(0, 2, 1, 3)\n",
    "K = K.permute(0, 2, 1, 3)\n",
    "V = V.permute(0, 2, 1, 3)"
   ]
  },
  {
   "cell_type": "code",
   "execution_count": 212,
   "metadata": {
    "execution": {
     "iopub.execute_input": "2022-03-11T11:39:49.681163Z",
     "iopub.status.busy": "2022-03-11T11:39:49.680942Z",
     "iopub.status.idle": "2022-03-11T11:39:49.684625Z",
     "shell.execute_reply": "2022-03-11T11:39:49.684085Z",
     "shell.execute_reply.started": "2022-03-11T11:39:49.681148Z"
    },
    "tags": []
   },
   "outputs": [
    {
     "data": {
      "text/plain": [
       "torch.Size([2, 2, 14, 4])"
      ]
     },
     "execution_count": 212,
     "metadata": {},
     "output_type": "execute_result"
    }
   ],
   "source": [
    "Q.shape\n",
    "#[batch_size,num_heads, query_len, head_dim ]"
   ]
  },
  {
   "cell_type": "code",
   "execution_count": 213,
   "metadata": {
    "execution": {
     "iopub.execute_input": "2022-03-11T11:39:49.856026Z",
     "iopub.status.busy": "2022-03-11T11:39:49.855905Z",
     "iopub.status.idle": "2022-03-11T11:39:49.858567Z",
     "shell.execute_reply": "2022-03-11T11:39:49.858313Z",
     "shell.execute_reply.started": "2022-03-11T11:39:49.856013Z"
    },
    "tags": []
   },
   "outputs": [
    {
     "data": {
      "text/plain": [
       "torch.Size([2, 2, 14, 4])"
      ]
     },
     "execution_count": 213,
     "metadata": {},
     "output_type": "execute_result"
    }
   ],
   "source": [
    "K.shape\n",
    "#[batch_size,num_heads, key_len, head_dim ]"
   ]
  },
  {
   "cell_type": "markdown",
   "metadata": {},
   "source": [
    "#### <font color = 'blue'> **Scaled dot product of Queries and Keys**</font>"
   ]
  },
  {
   "cell_type": "code",
   "execution_count": 214,
   "metadata": {
    "execution": {
     "iopub.execute_input": "2022-03-11T11:39:50.278854Z",
     "iopub.status.busy": "2022-03-11T11:39:50.278288Z",
     "iopub.status.idle": "2022-03-11T11:39:50.281059Z",
     "shell.execute_reply": "2022-03-11T11:39:50.280770Z",
     "shell.execute_reply.started": "2022-03-11T11:39:50.278835Z"
    },
    "tags": []
   },
   "outputs": [],
   "source": [
    "scale = torch.sqrt(torch.FloatTensor([head_dim])).to(device)"
   ]
  },
  {
   "cell_type": "code",
   "execution_count": 215,
   "metadata": {
    "execution": {
     "iopub.execute_input": "2022-03-11T11:39:50.469933Z",
     "iopub.status.busy": "2022-03-11T11:39:50.469530Z",
     "iopub.status.idle": "2022-03-11T11:39:50.472847Z",
     "shell.execute_reply": "2022-03-11T11:39:50.472355Z",
     "shell.execute_reply.started": "2022-03-11T11:39:50.469898Z"
    },
    "tags": []
   },
   "outputs": [],
   "source": [
    "energy = torch.matmul(Q, K.permute(0, 1, 3, 2)) / scale"
   ]
  },
  {
   "cell_type": "code",
   "execution_count": 216,
   "metadata": {
    "execution": {
     "iopub.execute_input": "2022-03-11T11:39:50.666082Z",
     "iopub.status.busy": "2022-03-11T11:39:50.665619Z",
     "iopub.status.idle": "2022-03-11T11:39:50.668910Z",
     "shell.execute_reply": "2022-03-11T11:39:50.668632Z",
     "shell.execute_reply.started": "2022-03-11T11:39:50.666066Z"
    },
    "tags": []
   },
   "outputs": [
    {
     "data": {
      "text/plain": [
       "torch.Size([2, 2, 14, 14])"
      ]
     },
     "execution_count": 216,
     "metadata": {},
     "output_type": "execute_result"
    }
   ],
   "source": [
    "energy.shape\n",
    "#[batch_size, num_heads, query_len, key_len]"
   ]
  },
  {
   "cell_type": "markdown",
   "metadata": {
    "execution": {
     "iopub.execute_input": "2022-03-06T06:32:28.398682Z",
     "iopub.status.busy": "2022-03-06T06:32:28.398556Z",
     "iopub.status.idle": "2022-03-06T06:32:28.401868Z",
     "shell.execute_reply": "2022-03-06T06:32:28.401405Z",
     "shell.execute_reply.started": "2022-03-06T06:32:28.398668Z"
    }
   },
   "source": [
    "#### <font color = 'blue'> **Apply mask to output of Q, K dot product**</font><br>\n",
    "<font color = 'green'>**We do not want tokens to pay attention to pad tokens**</font>"
   ]
  },
  {
   "cell_type": "code",
   "execution_count": 217,
   "metadata": {
    "execution": {
     "iopub.execute_input": "2022-03-11T11:39:51.057009Z",
     "iopub.status.busy": "2022-03-11T11:39:51.056876Z",
     "iopub.status.idle": "2022-03-11T11:39:51.060504Z",
     "shell.execute_reply": "2022-03-11T11:39:51.060225Z",
     "shell.execute_reply.started": "2022-03-11T11:39:51.056996Z"
    },
    "tags": []
   },
   "outputs": [
    {
     "data": {
      "text/plain": [
       "tensor([[ 1, 21, 25, 26, 27, 28, 21, 29, 30, 14,  2,  3,  3,  3],\n",
       "        [ 1, 15, 16, 17, 18, 19,  9, 20, 21, 22, 23, 24, 14,  2]])"
      ]
     },
     "execution_count": 217,
     "metadata": {},
     "output_type": "execute_result"
    }
   ],
   "source": [
    "mask_input = target.clone()\n",
    "mask_input"
   ]
  },
  {
   "cell_type": "code",
   "execution_count": 218,
   "metadata": {
    "execution": {
     "iopub.execute_input": "2022-03-11T11:39:51.265294Z",
     "iopub.status.busy": "2022-03-11T11:39:51.265137Z",
     "iopub.status.idle": "2022-03-11T11:39:51.268705Z",
     "shell.execute_reply": "2022-03-11T11:39:51.268286Z",
     "shell.execute_reply.started": "2022-03-11T11:39:51.265281Z"
    },
    "tags": []
   },
   "outputs": [
    {
     "data": {
      "text/plain": [
       "3"
      ]
     },
     "execution_count": 218,
     "metadata": {},
     "output_type": "execute_result"
    }
   ],
   "source": [
    "TRG_PAD_IDX = target_vocab['<PAD>']\n",
    "TRG_PAD_IDX"
   ]
  },
  {
   "cell_type": "code",
   "execution_count": 219,
   "metadata": {
    "execution": {
     "iopub.execute_input": "2022-03-11T11:39:51.464281Z",
     "iopub.status.busy": "2022-03-11T11:39:51.463641Z",
     "iopub.status.idle": "2022-03-11T11:39:51.467275Z",
     "shell.execute_reply": "2022-03-11T11:39:51.467013Z",
     "shell.execute_reply.started": "2022-03-11T11:39:51.464261Z"
    },
    "tags": []
   },
   "outputs": [
    {
     "data": {
      "text/plain": [
       "tensor([[ True,  True,  True,  True,  True,  True,  True,  True,  True,  True,\n",
       "          True, False, False, False],\n",
       "        [ True,  True,  True,  True,  True,  True,  True,  True,  True,  True,\n",
       "          True,  True,  True,  True]])"
      ]
     },
     "execution_count": 219,
     "metadata": {},
     "output_type": "execute_result"
    }
   ],
   "source": [
    "trg_pad_mask = (mask_input!= TRG_PAD_IDX )\n",
    "trg_pad_mask"
   ]
  },
  {
   "cell_type": "code",
   "execution_count": 220,
   "metadata": {
    "execution": {
     "iopub.execute_input": "2022-03-11T11:39:51.671658Z",
     "iopub.status.busy": "2022-03-11T11:39:51.671535Z",
     "iopub.status.idle": "2022-03-11T11:39:51.674433Z",
     "shell.execute_reply": "2022-03-11T11:39:51.674192Z",
     "shell.execute_reply.started": "2022-03-11T11:39:51.671643Z"
    },
    "tags": []
   },
   "outputs": [
    {
     "data": {
      "text/plain": [
       "torch.Size([2, 14])"
      ]
     },
     "execution_count": 220,
     "metadata": {},
     "output_type": "execute_result"
    }
   ],
   "source": [
    "trg_pad_mask.shape"
   ]
  },
  {
   "cell_type": "code",
   "execution_count": 1,
   "metadata": {
    "execution": {
     "iopub.execute_input": "2022-03-26T19:16:50.093481Z",
     "iopub.status.busy": "2022-03-26T19:16:50.093293Z",
     "iopub.status.idle": "2022-03-26T19:16:50.128193Z",
     "shell.execute_reply": "2022-03-26T19:16:50.127723Z",
     "shell.execute_reply.started": "2022-03-26T19:16:50.093441Z"
    },
    "tags": []
   },
   "outputs": [
    {
     "ename": "NameError",
     "evalue": "name 'trg_pad_mask' is not defined",
     "output_type": "error",
     "traceback": [
      "\u001b[0;31m---------------------------------------------------------------------------\u001b[0m",
      "\u001b[0;31mNameError\u001b[0m                                 Traceback (most recent call last)",
      "\u001b[0;32m/tmp/ipykernel_28998/1452071020.py\u001b[0m in \u001b[0;36m<module>\u001b[0;34m\u001b[0m\n\u001b[0;32m----> 1\u001b[0;31m \u001b[0mtrg_pad_mask\u001b[0m \u001b[0;34m=\u001b[0m \u001b[0mtrg_pad_mask\u001b[0m\u001b[0;34m.\u001b[0m\u001b[0munsqueeze\u001b[0m\u001b[0;34m(\u001b[0m\u001b[0;36m1\u001b[0m\u001b[0;34m)\u001b[0m\u001b[0;34m.\u001b[0m\u001b[0munsqueeze\u001b[0m\u001b[0;34m(\u001b[0m\u001b[0;36m2\u001b[0m\u001b[0;34m)\u001b[0m\u001b[0;34m\u001b[0m\u001b[0;34m\u001b[0m\u001b[0m\n\u001b[0m\u001b[1;32m      2\u001b[0m \u001b[0;31m#batch, num_head, query_len, key_len\u001b[0m\u001b[0;34m\u001b[0m\u001b[0;34m\u001b[0m\u001b[0;34m\u001b[0m\u001b[0m\n\u001b[1;32m      3\u001b[0m \u001b[0;31m# ame mask will be applied for alll the heads\u001b[0m\u001b[0;34m\u001b[0m\u001b[0;34m\u001b[0m\u001b[0;34m\u001b[0m\u001b[0m\n",
      "\u001b[0;31mNameError\u001b[0m: name 'trg_pad_mask' is not defined"
     ]
    }
   ],
   "source": [
    "trg_pad_mask = trg_pad_mask.unsqueeze(1).unsqueeze(2)\n",
    "#batch, num_head, query_len, key_len\n",
    "# same mask will be applied for alll the heads"
   ]
  },
  {
   "cell_type": "code",
   "execution_count": 222,
   "metadata": {
    "execution": {
     "iopub.execute_input": "2022-03-11T11:39:52.063862Z",
     "iopub.status.busy": "2022-03-11T11:39:52.063416Z",
     "iopub.status.idle": "2022-03-11T11:39:52.066591Z",
     "shell.execute_reply": "2022-03-11T11:39:52.066219Z",
     "shell.execute_reply.started": "2022-03-11T11:39:52.063832Z"
    },
    "tags": []
   },
   "outputs": [
    {
     "data": {
      "text/plain": [
       "torch.Size([2, 1, 1, 14])"
      ]
     },
     "execution_count": 222,
     "metadata": {},
     "output_type": "execute_result"
    }
   ],
   "source": [
    "trg_pad_mask.shape"
   ]
  },
  {
   "cell_type": "code",
   "execution_count": 223,
   "metadata": {
    "execution": {
     "iopub.execute_input": "2022-03-11T11:39:52.284515Z",
     "iopub.status.busy": "2022-03-11T11:39:52.284393Z",
     "iopub.status.idle": "2022-03-11T11:39:52.286754Z",
     "shell.execute_reply": "2022-03-11T11:39:52.286336Z",
     "shell.execute_reply.started": "2022-03-11T11:39:52.284501Z"
    },
    "tags": []
   },
   "outputs": [],
   "source": [
    "trg_pad_mask= trg_pad_mask.to(device)"
   ]
  },
  {
   "cell_type": "code",
   "execution_count": 224,
   "metadata": {
    "execution": {
     "iopub.execute_input": "2022-03-11T11:39:52.463744Z",
     "iopub.status.busy": "2022-03-11T11:39:52.463623Z",
     "iopub.status.idle": "2022-03-11T11:39:52.466510Z",
     "shell.execute_reply": "2022-03-11T11:39:52.466170Z",
     "shell.execute_reply.started": "2022-03-11T11:39:52.463730Z"
    },
    "tags": []
   },
   "outputs": [],
   "source": [
    "trg_att_mask1 = torch.tril(torch.ones(trg.shape[1], trg.shape[1])).bool().to(device)"
   ]
  },
  {
   "cell_type": "code",
   "execution_count": 225,
   "metadata": {
    "execution": {
     "iopub.execute_input": "2022-03-11T11:39:52.678852Z",
     "iopub.status.busy": "2022-03-11T11:39:52.678710Z",
     "iopub.status.idle": "2022-03-11T11:39:52.685128Z",
     "shell.execute_reply": "2022-03-11T11:39:52.684749Z",
     "shell.execute_reply.started": "2022-03-11T11:39:52.678837Z"
    },
    "tags": []
   },
   "outputs": [
    {
     "data": {
      "text/plain": [
       "tensor([[ True, False, False, False, False, False, False, False, False, False,\n",
       "         False, False, False, False],\n",
       "        [ True,  True, False, False, False, False, False, False, False, False,\n",
       "         False, False, False, False],\n",
       "        [ True,  True,  True, False, False, False, False, False, False, False,\n",
       "         False, False, False, False],\n",
       "        [ True,  True,  True,  True, False, False, False, False, False, False,\n",
       "         False, False, False, False],\n",
       "        [ True,  True,  True,  True,  True, False, False, False, False, False,\n",
       "         False, False, False, False],\n",
       "        [ True,  True,  True,  True,  True,  True, False, False, False, False,\n",
       "         False, False, False, False],\n",
       "        [ True,  True,  True,  True,  True,  True,  True, False, False, False,\n",
       "         False, False, False, False],\n",
       "        [ True,  True,  True,  True,  True,  True,  True,  True, False, False,\n",
       "         False, False, False, False],\n",
       "        [ True,  True,  True,  True,  True,  True,  True,  True,  True, False,\n",
       "         False, False, False, False],\n",
       "        [ True,  True,  True,  True,  True,  True,  True,  True,  True,  True,\n",
       "         False, False, False, False],\n",
       "        [ True,  True,  True,  True,  True,  True,  True,  True,  True,  True,\n",
       "          True, False, False, False],\n",
       "        [ True,  True,  True,  True,  True,  True,  True,  True,  True,  True,\n",
       "          True,  True, False, False],\n",
       "        [ True,  True,  True,  True,  True,  True,  True,  True,  True,  True,\n",
       "          True,  True,  True, False],\n",
       "        [ True,  True,  True,  True,  True,  True,  True,  True,  True,  True,\n",
       "          True,  True,  True,  True]], device='cuda:0')"
      ]
     },
     "execution_count": 225,
     "metadata": {},
     "output_type": "execute_result"
    }
   ],
   "source": [
    "trg_att_mask1 "
   ]
  },
  {
   "cell_type": "code",
   "execution_count": 226,
   "metadata": {
    "execution": {
     "iopub.execute_input": "2022-03-11T11:39:52.886736Z",
     "iopub.status.busy": "2022-03-11T11:39:52.886616Z",
     "iopub.status.idle": "2022-03-11T11:39:52.889549Z",
     "shell.execute_reply": "2022-03-11T11:39:52.889263Z",
     "shell.execute_reply.started": "2022-03-11T11:39:52.886722Z"
    },
    "tags": []
   },
   "outputs": [
    {
     "data": {
      "text/plain": [
       "torch.Size([14, 14])"
      ]
     },
     "execution_count": 226,
     "metadata": {},
     "output_type": "execute_result"
    }
   ],
   "source": [
    "trg_att_mask1.shape"
   ]
  },
  {
   "cell_type": "code",
   "execution_count": 227,
   "metadata": {
    "execution": {
     "iopub.execute_input": "2022-03-11T11:39:53.079114Z",
     "iopub.status.busy": "2022-03-11T11:39:53.078964Z",
     "iopub.status.idle": "2022-03-11T11:39:53.081785Z",
     "shell.execute_reply": "2022-03-11T11:39:53.081416Z",
     "shell.execute_reply.started": "2022-03-11T11:39:53.079100Z"
    },
    "tags": []
   },
   "outputs": [],
   "source": [
    "trg_mask1 = trg_pad_mask & trg_att_mask1"
   ]
  },
  {
   "cell_type": "code",
   "execution_count": 228,
   "metadata": {
    "execution": {
     "iopub.execute_input": "2022-03-11T11:39:53.313195Z",
     "iopub.status.busy": "2022-03-11T11:39:53.312992Z",
     "iopub.status.idle": "2022-03-11T11:39:53.316531Z",
     "shell.execute_reply": "2022-03-11T11:39:53.316267Z",
     "shell.execute_reply.started": "2022-03-11T11:39:53.313160Z"
    },
    "tags": []
   },
   "outputs": [
    {
     "data": {
      "text/plain": [
       "torch.Size([2, 1, 14, 14])"
      ]
     },
     "execution_count": 228,
     "metadata": {},
     "output_type": "execute_result"
    }
   ],
   "source": [
    "trg_mask1.shape"
   ]
  },
  {
   "cell_type": "code",
   "execution_count": 229,
   "metadata": {
    "execution": {
     "iopub.execute_input": "2022-03-11T11:39:53.515764Z",
     "iopub.status.busy": "2022-03-11T11:39:53.515644Z",
     "iopub.status.idle": "2022-03-11T11:39:53.524079Z",
     "shell.execute_reply": "2022-03-11T11:39:53.523722Z",
     "shell.execute_reply.started": "2022-03-11T11:39:53.515750Z"
    },
    "tags": []
   },
   "outputs": [
    {
     "data": {
      "text/plain": [
       "tensor([[[[ True, False, False, False, False, False, False, False, False, False,\n",
       "           False, False, False, False],\n",
       "          [ True,  True, False, False, False, False, False, False, False, False,\n",
       "           False, False, False, False],\n",
       "          [ True,  True,  True, False, False, False, False, False, False, False,\n",
       "           False, False, False, False],\n",
       "          [ True,  True,  True,  True, False, False, False, False, False, False,\n",
       "           False, False, False, False],\n",
       "          [ True,  True,  True,  True,  True, False, False, False, False, False,\n",
       "           False, False, False, False],\n",
       "          [ True,  True,  True,  True,  True,  True, False, False, False, False,\n",
       "           False, False, False, False],\n",
       "          [ True,  True,  True,  True,  True,  True,  True, False, False, False,\n",
       "           False, False, False, False],\n",
       "          [ True,  True,  True,  True,  True,  True,  True,  True, False, False,\n",
       "           False, False, False, False],\n",
       "          [ True,  True,  True,  True,  True,  True,  True,  True,  True, False,\n",
       "           False, False, False, False],\n",
       "          [ True,  True,  True,  True,  True,  True,  True,  True,  True,  True,\n",
       "           False, False, False, False],\n",
       "          [ True,  True,  True,  True,  True,  True,  True,  True,  True,  True,\n",
       "            True, False, False, False],\n",
       "          [ True,  True,  True,  True,  True,  True,  True,  True,  True,  True,\n",
       "            True, False, False, False],\n",
       "          [ True,  True,  True,  True,  True,  True,  True,  True,  True,  True,\n",
       "            True, False, False, False],\n",
       "          [ True,  True,  True,  True,  True,  True,  True,  True,  True,  True,\n",
       "            True, False, False, False]]],\n",
       "\n",
       "\n",
       "        [[[ True, False, False, False, False, False, False, False, False, False,\n",
       "           False, False, False, False],\n",
       "          [ True,  True, False, False, False, False, False, False, False, False,\n",
       "           False, False, False, False],\n",
       "          [ True,  True,  True, False, False, False, False, False, False, False,\n",
       "           False, False, False, False],\n",
       "          [ True,  True,  True,  True, False, False, False, False, False, False,\n",
       "           False, False, False, False],\n",
       "          [ True,  True,  True,  True,  True, False, False, False, False, False,\n",
       "           False, False, False, False],\n",
       "          [ True,  True,  True,  True,  True,  True, False, False, False, False,\n",
       "           False, False, False, False],\n",
       "          [ True,  True,  True,  True,  True,  True,  True, False, False, False,\n",
       "           False, False, False, False],\n",
       "          [ True,  True,  True,  True,  True,  True,  True,  True, False, False,\n",
       "           False, False, False, False],\n",
       "          [ True,  True,  True,  True,  True,  True,  True,  True,  True, False,\n",
       "           False, False, False, False],\n",
       "          [ True,  True,  True,  True,  True,  True,  True,  True,  True,  True,\n",
       "           False, False, False, False],\n",
       "          [ True,  True,  True,  True,  True,  True,  True,  True,  True,  True,\n",
       "            True, False, False, False],\n",
       "          [ True,  True,  True,  True,  True,  True,  True,  True,  True,  True,\n",
       "            True,  True, False, False],\n",
       "          [ True,  True,  True,  True,  True,  True,  True,  True,  True,  True,\n",
       "            True,  True,  True, False],\n",
       "          [ True,  True,  True,  True,  True,  True,  True,  True,  True,  True,\n",
       "            True,  True,  True,  True]]]], device='cuda:0')"
      ]
     },
     "execution_count": 229,
     "metadata": {},
     "output_type": "execute_result"
    }
   ],
   "source": [
    "trg_mask1"
   ]
  },
  {
   "cell_type": "code",
   "execution_count": 230,
   "metadata": {
    "execution": {
     "iopub.execute_input": "2022-03-11T11:39:53.710903Z",
     "iopub.status.busy": "2022-03-11T11:39:53.710781Z",
     "iopub.status.idle": "2022-03-11T11:39:53.713937Z",
     "shell.execute_reply": "2022-03-11T11:39:53.713599Z",
     "shell.execute_reply.started": "2022-03-11T11:39:53.710889Z"
    },
    "tags": []
   },
   "outputs": [],
   "source": [
    "energy_masked = energy.masked_fill(trg_mask1 == 0, -1e10)"
   ]
  },
  {
   "cell_type": "code",
   "execution_count": 231,
   "metadata": {
    "execution": {
     "iopub.execute_input": "2022-03-11T11:39:53.914467Z",
     "iopub.status.busy": "2022-03-11T11:39:53.914342Z",
     "iopub.status.idle": "2022-03-11T11:39:53.917639Z",
     "shell.execute_reply": "2022-03-11T11:39:53.917301Z",
     "shell.execute_reply.started": "2022-03-11T11:39:53.914452Z"
    },
    "tags": []
   },
   "outputs": [
    {
     "data": {
      "text/plain": [
       "torch.Size([2, 2, 14, 14])"
      ]
     },
     "execution_count": 231,
     "metadata": {},
     "output_type": "execute_result"
    }
   ],
   "source": [
    "energy_masked.shape"
   ]
  },
  {
   "cell_type": "markdown",
   "metadata": {
    "execution": {
     "iopub.execute_input": "2022-03-06T18:33:44.838351Z",
     "iopub.status.busy": "2022-03-06T18:33:44.838200Z",
     "iopub.status.idle": "2022-03-06T18:33:44.840959Z",
     "shell.execute_reply": "2022-03-06T18:33:44.840599Z",
     "shell.execute_reply.started": "2022-03-06T18:33:44.838337Z"
    }
   },
   "source": [
    "#### <font color = 'blue'>**Apply softmax to convert QV dot product to probabilities**</font><br>"
   ]
  },
  {
   "cell_type": "code",
   "execution_count": 237,
   "metadata": {
    "execution": {
     "iopub.execute_input": "2022-03-11T11:40:30.206485Z",
     "iopub.status.busy": "2022-03-11T11:40:30.206346Z",
     "iopub.status.idle": "2022-03-11T11:40:30.224824Z",
     "shell.execute_reply": "2022-03-11T11:40:30.224439Z",
     "shell.execute_reply.started": "2022-03-11T11:40:30.206471Z"
    },
    "tags": []
   },
   "outputs": [],
   "source": [
    "attention_prob = torch.softmax(energy_masked, dim = -1)                 \n",
    "#attention_prob = [batch size, n heads, query len, key len]"
   ]
  },
  {
   "cell_type": "code",
   "execution_count": 238,
   "metadata": {
    "execution": {
     "iopub.execute_input": "2022-03-11T11:40:30.404259Z",
     "iopub.status.busy": "2022-03-11T11:40:30.404138Z",
     "iopub.status.idle": "2022-03-11T11:40:30.407253Z",
     "shell.execute_reply": "2022-03-11T11:40:30.406955Z",
     "shell.execute_reply.started": "2022-03-11T11:40:30.404245Z"
    },
    "tags": []
   },
   "outputs": [
    {
     "name": "stdout",
     "output_type": "stream",
     "text": [
      "tensor(0., device='cuda:0') tensor(0., device='cuda:0')\n"
     ]
    }
   ],
   "source": [
    "print(attention_prob [1,1,1,12].data, attention_prob [1,1,1,13].data)\n",
    "#[batch_size, num_heads, query_len, key_len]"
   ]
  },
  {
   "cell_type": "code",
   "execution_count": 239,
   "metadata": {
    "execution": {
     "iopub.execute_input": "2022-03-11T11:40:30.604025Z",
     "iopub.status.busy": "2022-03-11T11:40:30.603903Z",
     "iopub.status.idle": "2022-03-11T11:40:30.607285Z",
     "shell.execute_reply": "2022-03-11T11:40:30.606888Z",
     "shell.execute_reply.started": "2022-03-11T11:40:30.604010Z"
    },
    "tags": []
   },
   "outputs": [
    {
     "name": "stdout",
     "output_type": "stream",
     "text": [
      "tensor([9.9969e-01, 3.0840e-04, 0.0000e+00, 0.0000e+00, 0.0000e+00, 0.0000e+00,\n",
      "        0.0000e+00, 0.0000e+00, 0.0000e+00, 0.0000e+00, 0.0000e+00, 0.0000e+00,\n",
      "        0.0000e+00, 0.0000e+00], device='cuda:0', grad_fn=<SliceBackward0>)\n"
     ]
    }
   ],
   "source": [
    "print(attention_prob[0, 0,1, :])"
   ]
  },
  {
   "cell_type": "code",
   "execution_count": 240,
   "metadata": {
    "execution": {
     "iopub.execute_input": "2022-03-11T11:40:30.958555Z",
     "iopub.status.busy": "2022-03-11T11:40:30.958436Z",
     "iopub.status.idle": "2022-03-11T11:40:30.962364Z",
     "shell.execute_reply": "2022-03-11T11:40:30.962010Z",
     "shell.execute_reply.started": "2022-03-11T11:40:30.958542Z"
    },
    "tags": []
   },
   "outputs": [
    {
     "data": {
      "text/plain": [
       "tensor(1., device='cuda:0', grad_fn=<SumBackward0>)"
      ]
     },
     "execution_count": 240,
     "metadata": {},
     "output_type": "execute_result"
    }
   ],
   "source": [
    "attention_prob[0, 0,1, :].sum()"
   ]
  },
  {
   "cell_type": "markdown",
   "metadata": {
    "execution": {
     "iopub.execute_input": "2022-03-06T17:49:26.353174Z",
     "iopub.status.busy": "2022-03-06T17:49:26.353003Z",
     "iopub.status.idle": "2022-03-06T17:49:26.356619Z",
     "shell.execute_reply": "2022-03-06T17:49:26.356140Z",
     "shell.execute_reply.started": "2022-03-06T17:49:26.353143Z"
    }
   },
   "source": [
    "#### <font color = 'blue'>**Apply dropout layer to attention probabilities**</font><br>"
   ]
  },
  {
   "cell_type": "code",
   "execution_count": 244,
   "metadata": {
    "execution": {
     "iopub.execute_input": "2022-03-11T11:40:45.811254Z",
     "iopub.status.busy": "2022-03-11T11:40:45.811114Z",
     "iopub.status.idle": "2022-03-11T11:40:45.813507Z",
     "shell.execute_reply": "2022-03-11T11:40:45.813206Z",
     "shell.execute_reply.started": "2022-03-11T11:40:45.811240Z"
    },
    "tags": []
   },
   "outputs": [],
   "source": [
    "att_dec_dropout =  nn.Dropout(p=0.0)"
   ]
  },
  {
   "cell_type": "code",
   "execution_count": 245,
   "metadata": {
    "execution": {
     "iopub.execute_input": "2022-03-11T11:40:45.870104Z",
     "iopub.status.busy": "2022-03-11T11:40:45.869966Z",
     "iopub.status.idle": "2022-03-11T11:40:45.872581Z",
     "shell.execute_reply": "2022-03-11T11:40:45.872288Z",
     "shell.execute_reply.started": "2022-03-11T11:40:45.870090Z"
    },
    "tags": []
   },
   "outputs": [],
   "source": [
    "attention_prob_after_dropout= att_dec_dropout(attention_prob)"
   ]
  },
  {
   "cell_type": "code",
   "execution_count": 246,
   "metadata": {
    "execution": {
     "iopub.execute_input": "2022-03-11T11:40:46.041118Z",
     "iopub.status.busy": "2022-03-11T11:40:46.040965Z",
     "iopub.status.idle": "2022-03-11T11:40:46.044783Z",
     "shell.execute_reply": "2022-03-11T11:40:46.044472Z",
     "shell.execute_reply.started": "2022-03-11T11:40:46.041103Z"
    },
    "tags": []
   },
   "outputs": [
    {
     "name": "stdout",
     "output_type": "stream",
     "text": [
      "tensor([9.9969e-01, 3.0840e-04, 0.0000e+00, 0.0000e+00, 0.0000e+00, 0.0000e+00,\n",
      "        0.0000e+00, 0.0000e+00, 0.0000e+00, 0.0000e+00, 0.0000e+00, 0.0000e+00,\n",
      "        0.0000e+00, 0.0000e+00], device='cuda:0', grad_fn=<SliceBackward0>)\n"
     ]
    }
   ],
   "source": [
    "print(attention_prob_after_dropout [0, 0,1, :])"
   ]
  },
  {
   "cell_type": "code",
   "execution_count": 247,
   "metadata": {
    "execution": {
     "iopub.execute_input": "2022-03-11T11:40:46.706696Z",
     "iopub.status.busy": "2022-03-11T11:40:46.706507Z",
     "iopub.status.idle": "2022-03-11T11:40:46.710520Z",
     "shell.execute_reply": "2022-03-11T11:40:46.710222Z",
     "shell.execute_reply.started": "2022-03-11T11:40:46.706655Z"
    },
    "tags": []
   },
   "outputs": [
    {
     "data": {
      "text/plain": [
       "tensor(1., device='cuda:0', grad_fn=<SumBackward0>)"
      ]
     },
     "execution_count": 247,
     "metadata": {},
     "output_type": "execute_result"
    }
   ],
   "source": [
    "attention_prob_after_dropout[0, 0,1, :].sum()"
   ]
  },
  {
   "cell_type": "markdown",
   "metadata": {
    "execution": {
     "iopub.execute_input": "2022-03-06T18:30:59.789080Z",
     "iopub.status.busy": "2022-03-06T18:30:59.788942Z",
     "iopub.status.idle": "2022-03-06T18:30:59.792284Z",
     "shell.execute_reply": "2022-03-06T18:30:59.791922Z",
     "shell.execute_reply.started": "2022-03-06T18:30:59.789068Z"
    },
    "tags": []
   },
   "source": [
    "<font size = 3, color = 'red'>**Probs do not sum to 1, sometimes these are greater than one and sometimes these are less than one**</font>"
   ]
  },
  {
   "cell_type": "code",
   "execution_count": 248,
   "metadata": {
    "execution": {
     "iopub.execute_input": "2022-03-11T11:40:47.501394Z",
     "iopub.status.busy": "2022-03-11T11:40:47.501255Z",
     "iopub.status.idle": "2022-03-11T11:40:47.504460Z",
     "shell.execute_reply": "2022-03-11T11:40:47.504096Z",
     "shell.execute_reply.started": "2022-03-11T11:40:47.501381Z"
    },
    "tags": []
   },
   "outputs": [
    {
     "data": {
      "text/plain": [
       "torch.Size([2, 2, 14, 14])"
      ]
     },
     "execution_count": 248,
     "metadata": {},
     "output_type": "execute_result"
    }
   ],
   "source": [
    "attention_prob_after_dropout.shape"
   ]
  },
  {
   "cell_type": "code",
   "execution_count": 249,
   "metadata": {
    "execution": {
     "iopub.execute_input": "2022-03-11T11:40:48.026699Z",
     "iopub.status.busy": "2022-03-11T11:40:48.026560Z",
     "iopub.status.idle": "2022-03-11T11:40:48.029413Z",
     "shell.execute_reply": "2022-03-11T11:40:48.029014Z",
     "shell.execute_reply.started": "2022-03-11T11:40:48.026684Z"
    },
    "tags": []
   },
   "outputs": [],
   "source": [
    "attention_prob_after_dropout_mean = torch.mean(attention_prob_after_dropout, dim = 1)"
   ]
  },
  {
   "cell_type": "markdown",
   "metadata": {},
   "source": [
    "#### <font size = 4, color = 'blue'>**Self Attention Output**</font><br>"
   ]
  },
  {
   "cell_type": "code",
   "execution_count": 250,
   "metadata": {
    "execution": {
     "iopub.execute_input": "2022-03-11T11:40:48.471651Z",
     "iopub.status.busy": "2022-03-11T11:40:48.471489Z",
     "iopub.status.idle": "2022-03-11T11:40:48.474817Z",
     "shell.execute_reply": "2022-03-11T11:40:48.474440Z",
     "shell.execute_reply.started": "2022-03-11T11:40:48.471620Z"
    },
    "tags": []
   },
   "outputs": [
    {
     "data": {
      "text/plain": [
       "torch.Size([2, 2, 14, 4])"
      ]
     },
     "execution_count": 250,
     "metadata": {},
     "output_type": "execute_result"
    }
   ],
   "source": [
    "V.shape\n",
    "# [batch_size, num_heads, value_len, head_dim]"
   ]
  },
  {
   "cell_type": "code",
   "execution_count": 251,
   "metadata": {
    "execution": {
     "iopub.execute_input": "2022-03-11T11:40:48.626948Z",
     "iopub.status.busy": "2022-03-11T11:40:48.626825Z",
     "iopub.status.idle": "2022-03-11T11:40:48.629757Z",
     "shell.execute_reply": "2022-03-11T11:40:48.629395Z",
     "shell.execute_reply.started": "2022-03-11T11:40:48.626934Z"
    },
    "tags": []
   },
   "outputs": [
    {
     "data": {
      "text/plain": [
       "torch.Size([2, 2, 14, 14])"
      ]
     },
     "execution_count": 251,
     "metadata": {},
     "output_type": "execute_result"
    }
   ],
   "source": [
    "attention_prob_after_dropout.shape\n",
    "#[batch_size, num_heads, query_len, key_len]"
   ]
  },
  {
   "cell_type": "code",
   "execution_count": 252,
   "metadata": {
    "execution": {
     "iopub.execute_input": "2022-03-11T11:40:48.837917Z",
     "iopub.status.busy": "2022-03-11T11:40:48.837727Z",
     "iopub.status.idle": "2022-03-11T11:40:48.840481Z",
     "shell.execute_reply": "2022-03-11T11:40:48.840210Z",
     "shell.execute_reply.started": "2022-03-11T11:40:48.837883Z"
    },
    "tags": []
   },
   "outputs": [],
   "source": [
    "decoder_contextulaized_embeddings_m1 = torch.matmul(attention_prob_after_dropout, V)\n",
    "#[batch_size, num_heads, query_len, head_dim]"
   ]
  },
  {
   "cell_type": "code",
   "execution_count": 253,
   "metadata": {
    "execution": {
     "iopub.execute_input": "2022-03-11T11:40:49.257436Z",
     "iopub.status.busy": "2022-03-11T11:40:49.257285Z",
     "iopub.status.idle": "2022-03-11T11:40:49.260077Z",
     "shell.execute_reply": "2022-03-11T11:40:49.259821Z",
     "shell.execute_reply.started": "2022-03-11T11:40:49.257422Z"
    },
    "tags": []
   },
   "outputs": [
    {
     "data": {
      "text/plain": [
       "torch.Size([2, 2, 14, 4])"
      ]
     },
     "execution_count": 253,
     "metadata": {},
     "output_type": "execute_result"
    }
   ],
   "source": [
    "decoder_contextulaized_embeddings_m1.shape\n",
    "# [batch_size, number_of_heads, query_len, head_dim]"
   ]
  },
  {
   "cell_type": "code",
   "execution_count": 254,
   "metadata": {
    "execution": {
     "iopub.execute_input": "2022-03-11T11:40:49.654342Z",
     "iopub.status.busy": "2022-03-11T11:40:49.654215Z",
     "iopub.status.idle": "2022-03-11T11:40:49.656686Z",
     "shell.execute_reply": "2022-03-11T11:40:49.656399Z",
     "shell.execute_reply.started": "2022-03-11T11:40:49.654327Z"
    },
    "tags": []
   },
   "outputs": [],
   "source": [
    "decoder_contextulaized_embeddings_m1 = decoder_contextulaized_embeddings_m1.permute(0, 2, 1, 3)\n",
    "# [batch_size, query_len, number_of_heads, head_dim]"
   ]
  },
  {
   "cell_type": "code",
   "execution_count": 255,
   "metadata": {
    "execution": {
     "iopub.execute_input": "2022-03-11T11:40:50.006248Z",
     "iopub.status.busy": "2022-03-11T11:40:50.006123Z",
     "iopub.status.idle": "2022-03-11T11:40:50.008900Z",
     "shell.execute_reply": "2022-03-11T11:40:50.008637Z",
     "shell.execute_reply.started": "2022-03-11T11:40:50.006233Z"
    },
    "tags": []
   },
   "outputs": [
    {
     "data": {
      "text/plain": [
       "torch.Size([2, 14, 2, 4])"
      ]
     },
     "execution_count": 255,
     "metadata": {},
     "output_type": "execute_result"
    }
   ],
   "source": [
    "decoder_contextulaized_embeddings_m1.shape"
   ]
  },
  {
   "cell_type": "code",
   "execution_count": 256,
   "metadata": {
    "execution": {
     "iopub.execute_input": "2022-03-11T11:40:50.328718Z",
     "iopub.status.busy": "2022-03-11T11:40:50.328596Z",
     "iopub.status.idle": "2022-03-11T11:40:50.331431Z",
     "shell.execute_reply": "2022-03-11T11:40:50.330959Z",
     "shell.execute_reply.started": "2022-03-11T11:40:50.328704Z"
    },
    "tags": []
   },
   "outputs": [],
   "source": [
    "decoder_contextulaized_embeddings_m1 = decoder_contextulaized_embeddings_m1.reshape(batch_size, -1, out_hid_dim)"
   ]
  },
  {
   "cell_type": "code",
   "execution_count": 257,
   "metadata": {
    "execution": {
     "iopub.execute_input": "2022-03-11T11:40:50.703305Z",
     "iopub.status.busy": "2022-03-11T11:40:50.703136Z",
     "iopub.status.idle": "2022-03-11T11:40:50.707000Z",
     "shell.execute_reply": "2022-03-11T11:40:50.706567Z",
     "shell.execute_reply.started": "2022-03-11T11:40:50.703277Z"
    },
    "tags": []
   },
   "outputs": [
    {
     "data": {
      "text/plain": [
       "torch.Size([2, 14, 8])"
      ]
     },
     "execution_count": 257,
     "metadata": {},
     "output_type": "execute_result"
    }
   ],
   "source": [
    "decoder_contextulaized_embeddings_m1.shape\n",
    "#[batch_size, seq_len, out_hid_dim]"
   ]
  },
  {
   "cell_type": "markdown",
   "metadata": {},
   "source": [
    "<font size = 3, color = 'green'>We need to project the final values to have same shape as  input embedding. To accomplish this we will use fc_o linear layer we created earlier."
   ]
  },
  {
   "cell_type": "code",
   "execution_count": 258,
   "metadata": {
    "execution": {
     "iopub.execute_input": "2022-03-11T11:40:51.491472Z",
     "iopub.status.busy": "2022-03-11T11:40:51.491334Z",
     "iopub.status.idle": "2022-03-11T11:40:51.494099Z",
     "shell.execute_reply": "2022-03-11T11:40:51.493611Z",
     "shell.execute_reply.started": "2022-03-11T11:40:51.491458Z"
    },
    "tags": []
   },
   "outputs": [],
   "source": [
    "decoder_contextulaized_embeddings_m1 = fc_o(decoder_contextulaized_embeddings_m1)"
   ]
  },
  {
   "cell_type": "code",
   "execution_count": 259,
   "metadata": {
    "execution": {
     "iopub.execute_input": "2022-03-11T11:40:51.836445Z",
     "iopub.status.busy": "2022-03-11T11:40:51.836256Z",
     "iopub.status.idle": "2022-03-11T11:40:51.839345Z",
     "shell.execute_reply": "2022-03-11T11:40:51.838905Z",
     "shell.execute_reply.started": "2022-03-11T11:40:51.836407Z"
    },
    "tags": []
   },
   "outputs": [
    {
     "data": {
      "text/plain": [
       "torch.Size([2, 14, 8])"
      ]
     },
     "execution_count": 259,
     "metadata": {},
     "output_type": "execute_result"
    }
   ],
   "source": [
    "decoder_contextulaized_embeddings_m1.shape\n",
    "#[batch_size, seq_len, hid_dim]"
   ]
  },
  {
   "cell_type": "markdown",
   "metadata": {},
   "source": [
    "#### <font size = 4, color = 'blue'>**Compare results with PyTorch Layer**</font><br>"
   ]
  },
  {
   "cell_type": "code",
   "execution_count": 260,
   "metadata": {
    "execution": {
     "iopub.execute_input": "2022-03-11T11:40:52.886646Z",
     "iopub.status.busy": "2022-03-11T11:40:52.886523Z",
     "iopub.status.idle": "2022-03-11T11:40:52.890216Z",
     "shell.execute_reply": "2022-03-11T11:40:52.889952Z",
     "shell.execute_reply.started": "2022-03-11T11:40:52.886632Z"
    },
    "tags": []
   },
   "outputs": [
    {
     "data": {
      "text/plain": [
       "tensor([ 0.1758,  1.1652, -1.1273,  1.3802, -0.4835, -0.0651, -0.1384, -0.5934],\n",
       "       device='cuda:0', grad_fn=<SliceBackward0>)"
      ]
     },
     "execution_count": 260,
     "metadata": {},
     "output_type": "execute_result"
    }
   ],
   "source": [
    "decoder_contextulaized_embeddings_m1[1,9,:]"
   ]
  },
  {
   "cell_type": "code",
   "execution_count": 261,
   "metadata": {
    "execution": {
     "iopub.execute_input": "2022-03-11T11:40:53.533569Z",
     "iopub.status.busy": "2022-03-11T11:40:53.533353Z",
     "iopub.status.idle": "2022-03-11T11:40:53.538286Z",
     "shell.execute_reply": "2022-03-11T11:40:53.537770Z",
     "shell.execute_reply.started": "2022-03-11T11:40:53.533553Z"
    },
    "tags": []
   },
   "outputs": [
    {
     "data": {
      "text/plain": [
       "tensor([ 0.1758,  1.1652, -1.1273,  1.3802, -0.4835, -0.0651, -0.1384, -0.5934],\n",
       "       device='cuda:0', grad_fn=<SliceBackward0>)"
      ]
     },
     "execution_count": 261,
     "metadata": {},
     "output_type": "execute_result"
    }
   ],
   "source": [
    "decoder_contextulaized_embeddings[1,9,:]"
   ]
  },
  {
   "cell_type": "code",
   "execution_count": 262,
   "metadata": {
    "execution": {
     "iopub.execute_input": "2022-03-11T11:40:53.766334Z",
     "iopub.status.busy": "2022-03-11T11:40:53.766183Z",
     "iopub.status.idle": "2022-03-11T11:40:53.770600Z",
     "shell.execute_reply": "2022-03-11T11:40:53.770188Z",
     "shell.execute_reply.started": "2022-03-11T11:40:53.766319Z"
    },
    "tags": []
   },
   "outputs": [
    {
     "data": {
      "text/plain": [
       "tensor([0.1110, 0.0380, 0.0864, 0.5372, 0.1614, 0.0661, 0.0000, 0.0000, 0.0000,\n",
       "        0.0000, 0.0000, 0.0000, 0.0000, 0.0000], device='cuda:0',\n",
       "       grad_fn=<SliceBackward0>)"
      ]
     },
     "execution_count": 262,
     "metadata": {},
     "output_type": "execute_result"
    }
   ],
   "source": [
    "decoder_self_attention_probs[0,5,:]"
   ]
  },
  {
   "cell_type": "code",
   "execution_count": 263,
   "metadata": {
    "execution": {
     "iopub.execute_input": "2022-03-11T11:40:56.036468Z",
     "iopub.status.busy": "2022-03-11T11:40:56.036079Z",
     "iopub.status.idle": "2022-03-11T11:40:56.039636Z",
     "shell.execute_reply": "2022-03-11T11:40:56.039357Z",
     "shell.execute_reply.started": "2022-03-11T11:40:56.036450Z"
    },
    "tags": []
   },
   "outputs": [
    {
     "data": {
      "text/plain": [
       "tensor([0.1110, 0.0380, 0.0864, 0.5372, 0.1614, 0.0661, 0.0000, 0.0000, 0.0000,\n",
       "        0.0000, 0.0000, 0.0000, 0.0000, 0.0000], device='cuda:0',\n",
       "       grad_fn=<SliceBackward0>)"
      ]
     },
     "execution_count": 263,
     "metadata": {},
     "output_type": "execute_result"
    }
   ],
   "source": [
    "attention_prob_after_dropout_mean[0,5,:]"
   ]
  },
  {
   "cell_type": "markdown",
   "metadata": {
    "execution": {
     "iopub.execute_input": "2022-03-11T01:48:18.854529Z",
     "iopub.status.busy": "2022-03-11T01:48:18.854387Z",
     "iopub.status.idle": "2022-03-11T01:48:18.856887Z",
     "shell.execute_reply": "2022-03-11T01:48:18.856602Z",
     "shell.execute_reply.started": "2022-03-11T01:48:18.854515Z"
    }
   },
   "source": [
    "### <font color = 'blue'> Method 2 - Self Attention- Without Using nn.MultiheadAttention"
   ]
  },
  {
   "cell_type": "markdown",
   "metadata": {},
   "source": [
    "#### <font color = 'blue'> Manually initialize Weights and biases "
   ]
  },
  {
   "cell_type": "code",
   "execution_count": 264,
   "metadata": {
    "execution": {
     "iopub.execute_input": "2022-03-11T11:41:00.783587Z",
     "iopub.status.busy": "2022-03-11T11:41:00.783443Z",
     "iopub.status.idle": "2022-03-11T11:41:00.788282Z",
     "shell.execute_reply": "2022-03-11T11:41:00.787919Z",
     "shell.execute_reply.started": "2022-03-11T11:41:00.783572Z"
    },
    "tags": []
   },
   "outputs": [
    {
     "name": "stdout",
     "output_type": "stream",
     "text": [
      "tensor([[ 0.1850, -0.3848,  0.0711, -0.2052, -0.0316,  0.1015, -0.2999, -0.2703],\n",
      "        [ 0.3132, -0.2550, -0.0013, -0.3832, -0.2734,  0.3983, -0.2668, -0.1374],\n",
      "        [-0.2409, -0.2807, -0.2427, -0.3115,  0.3361,  0.4310, -0.1832,  0.0051],\n",
      "        [-0.3649, -0.0246, -0.2321,  0.2561,  0.3752,  0.4079,  0.0086, -0.1286],\n",
      "        [-0.2839,  0.1911,  0.4040, -0.2304,  0.2978,  0.1023,  0.1600,  0.1046],\n",
      "        [ 0.2014,  0.2227,  0.1251,  0.4097, -0.2309,  0.3361,  0.4073,  0.2757],\n",
      "        [ 0.3271, -0.3564,  0.2245, -0.3048, -0.1393, -0.2437,  0.3437,  0.0971],\n",
      "        [-0.2530, -0.0207,  0.3179,  0.1052,  0.0638, -0.2367,  0.0719, -0.2264]],\n",
      "       device='cuda:0')\n",
      "tensor([0., 0., 0., 0., 0., 0., 0., 0.], device='cuda:0')\n"
     ]
    }
   ],
   "source": [
    "Wq = decoder_self_attnetion_layer.in_proj_weight.data[0:8,:]\n",
    "bq = decoder_self_attnetion_layer.in_proj_bias.data[0:8]\n",
    "print(Wq)\n",
    "print(bq)"
   ]
  },
  {
   "cell_type": "code",
   "execution_count": 265,
   "metadata": {
    "execution": {
     "iopub.execute_input": "2022-03-11T11:41:00.945228Z",
     "iopub.status.busy": "2022-03-11T11:41:00.945072Z",
     "iopub.status.idle": "2022-03-11T11:41:00.950137Z",
     "shell.execute_reply": "2022-03-11T11:41:00.949762Z",
     "shell.execute_reply.started": "2022-03-11T11:41:00.945213Z"
    },
    "tags": []
   },
   "outputs": [
    {
     "name": "stdout",
     "output_type": "stream",
     "text": [
      "tensor([[ 0.2985,  0.3830,  0.3664,  0.3091, -0.2238, -0.3481,  0.3631,  0.2456],\n",
      "        [-0.2906,  0.3379,  0.2518, -0.4016, -0.2576, -0.0500, -0.2887,  0.3279],\n",
      "        [-0.1261,  0.3562,  0.4274, -0.3894, -0.2342, -0.0504,  0.3014,  0.0894],\n",
      "        [-0.2343,  0.2767,  0.3893, -0.1903, -0.2182,  0.1408,  0.4273,  0.1500],\n",
      "        [ 0.3249, -0.2130,  0.2843,  0.1670,  0.1609,  0.3828,  0.2209,  0.2019],\n",
      "        [ 0.0038, -0.4129,  0.1820,  0.3375, -0.2741, -0.3686, -0.1665,  0.2397],\n",
      "        [-0.4170,  0.0592, -0.2128,  0.1548, -0.3602, -0.2979,  0.2376,  0.3074],\n",
      "        [ 0.3520, -0.0862, -0.1731,  0.3853,  0.1573,  0.0497, -0.2033,  0.0614]],\n",
      "       device='cuda:0')\n",
      "tensor([0., 0., 0., 0., 0., 0., 0., 0.], device='cuda:0')\n"
     ]
    }
   ],
   "source": [
    "Wk = decoder_self_attnetion_layer.in_proj_weight.data[8:16,:]\n",
    "bk = decoder_self_attnetion_layer.in_proj_bias.data[8:16]\n",
    "print(Wk)\n",
    "print(bk)"
   ]
  },
  {
   "cell_type": "code",
   "execution_count": 266,
   "metadata": {
    "execution": {
     "iopub.execute_input": "2022-03-11T11:41:01.278824Z",
     "iopub.status.busy": "2022-03-11T11:41:01.278666Z",
     "iopub.status.idle": "2022-03-11T11:41:01.284225Z",
     "shell.execute_reply": "2022-03-11T11:41:01.283868Z",
     "shell.execute_reply.started": "2022-03-11T11:41:01.278809Z"
    },
    "tags": []
   },
   "outputs": [
    {
     "name": "stdout",
     "output_type": "stream",
     "text": [
      "tensor([[-2.4973e-01, -2.7177e-01, -5.6458e-02, -3.1782e-01, -2.1887e-01,\n",
      "          1.3040e-01,  2.0355e-01,  1.5309e-01],\n",
      "        [ 1.3054e-01,  1.6833e-01,  9.0505e-02, -1.8885e-01,  2.7652e-01,\n",
      "         -7.3397e-02, -1.6197e-02,  1.4630e-01],\n",
      "        [ 3.4320e-02,  2.2199e-01, -2.9434e-01, -1.0952e-01, -2.8894e-01,\n",
      "          2.1007e-01, -9.3049e-02,  1.6416e-01],\n",
      "        [ 2.4621e-02, -1.4539e-01, -3.7022e-02,  2.9981e-01, -1.3867e-01,\n",
      "          2.1805e-01,  2.9434e-01, -1.2928e-02],\n",
      "        [-3.8655e-01,  2.8785e-01,  2.5782e-01,  1.0498e-01, -2.7025e-01,\n",
      "          2.8540e-04, -5.7410e-02, -3.2042e-01],\n",
      "        [-2.3444e-01, -3.4577e-01,  1.9097e-01, -3.5385e-01, -2.7836e-01,\n",
      "         -3.9557e-01, -1.0862e-01,  2.9519e-01],\n",
      "        [ 5.0504e-02, -2.4758e-01,  2.5177e-01, -5.4291e-02, -6.0885e-02,\n",
      "          1.8232e-01, -4.1251e-01, -1.7729e-02],\n",
      "        [-4.0399e-01, -3.8897e-01, -2.8631e-01, -1.6947e-01, -8.0711e-02,\n",
      "         -8.0041e-02, -7.5626e-02, -1.0621e-01]], device='cuda:0')\n",
      "tensor([0., 0., 0., 0., 0., 0., 0., 0.], device='cuda:0')\n"
     ]
    }
   ],
   "source": [
    "Wv = decoder_self_attnetion_layer.in_proj_weight.data[16:,:]\n",
    "bv = decoder_self_attnetion_layer.in_proj_bias.data[16:]\n",
    "print(Wv)\n",
    "print(bv)"
   ]
  },
  {
   "cell_type": "code",
   "execution_count": 267,
   "metadata": {
    "execution": {
     "iopub.execute_input": "2022-03-11T11:41:01.595858Z",
     "iopub.status.busy": "2022-03-11T11:41:01.595708Z",
     "iopub.status.idle": "2022-03-11T11:41:01.600881Z",
     "shell.execute_reply": "2022-03-11T11:41:01.600511Z",
     "shell.execute_reply.started": "2022-03-11T11:41:01.595844Z"
    },
    "tags": []
   },
   "outputs": [
    {
     "name": "stdout",
     "output_type": "stream",
     "text": [
      "tensor([[ 0.3073,  0.2268, -0.3419, -0.2200,  0.3264, -0.3227, -0.0106,  0.1992],\n",
      "        [-0.0231, -0.1152, -0.2776,  0.2452, -0.1651, -0.0271, -0.1799,  0.1165],\n",
      "        [ 0.2908, -0.1879,  0.2437, -0.1677, -0.3395, -0.1987, -0.1430, -0.0004],\n",
      "        [ 0.2092, -0.1042,  0.0999,  0.2766,  0.3155, -0.1570, -0.1468, -0.1715],\n",
      "        [ 0.0373,  0.3285,  0.0616,  0.0057,  0.0457, -0.2534, -0.2507,  0.1994],\n",
      "        [ 0.2037,  0.2375, -0.2708, -0.1696,  0.1607, -0.2345,  0.1412, -0.0931],\n",
      "        [ 0.0733, -0.1727, -0.0976,  0.0093, -0.2668, -0.2439, -0.1830,  0.2035],\n",
      "        [ 0.0248, -0.0544,  0.0215, -0.0652, -0.3079, -0.0412, -0.3170,  0.3218]],\n",
      "       device='cuda:0')\n",
      "tensor([0., 0., 0., 0., 0., 0., 0., 0.], device='cuda:0')\n"
     ]
    }
   ],
   "source": [
    "Wo = decoder_self_attnetion_layer.out_proj.weight.data\n",
    "bo = decoder_self_attnetion_layer.out_proj.bias.data\n",
    "print(Wo)\n",
    "print(bo)"
   ]
  },
  {
   "cell_type": "code",
   "execution_count": 268,
   "metadata": {
    "execution": {
     "iopub.execute_input": "2022-03-11T11:41:01.829158Z",
     "iopub.status.busy": "2022-03-11T11:41:01.828646Z",
     "iopub.status.idle": "2022-03-11T11:41:01.831903Z",
     "shell.execute_reply": "2022-03-11T11:41:01.831642Z",
     "shell.execute_reply.started": "2022-03-11T11:41:01.829139Z"
    },
    "tags": []
   },
   "outputs": [
    {
     "data": {
      "text/plain": [
       "torch.Size([2, 14, 8])"
      ]
     },
     "execution_count": 268,
     "metadata": {},
     "output_type": "execute_result"
    }
   ],
   "source": [
    "input_decoder_self = decoder_input_after_dropout.clone()\n",
    "input_decoder_self.shape"
   ]
  },
  {
   "cell_type": "markdown",
   "metadata": {},
   "source": [
    "#### <font color = 'blue'> **Generate queries, keys and values**"
   ]
  },
  {
   "cell_type": "code",
   "execution_count": 269,
   "metadata": {
    "execution": {
     "iopub.execute_input": "2022-03-11T11:41:02.112618Z",
     "iopub.status.busy": "2022-03-11T11:41:02.112219Z",
     "iopub.status.idle": "2022-03-11T11:41:02.115354Z",
     "shell.execute_reply": "2022-03-11T11:41:02.114823Z",
     "shell.execute_reply.started": "2022-03-11T11:41:02.112602Z"
    },
    "tags": []
   },
   "outputs": [],
   "source": [
    "Q2 = input_decoder_self.matmul(Wq.T)  + bq\n",
    "K2 = input_decoder_self.matmul(Wk.T)  + bk\n",
    "V2 = input_decoder_self.matmul(Wv.T)  + bv"
   ]
  },
  {
   "cell_type": "code",
   "execution_count": 270,
   "metadata": {
    "execution": {
     "iopub.execute_input": "2022-03-11T11:41:02.361882Z",
     "iopub.status.busy": "2022-03-11T11:41:02.361585Z",
     "iopub.status.idle": "2022-03-11T11:41:02.365376Z",
     "shell.execute_reply": "2022-03-11T11:41:02.364974Z",
     "shell.execute_reply.started": "2022-03-11T11:41:02.361838Z"
    },
    "tags": []
   },
   "outputs": [
    {
     "data": {
      "text/plain": [
       "torch.Size([2, 14, 8])"
      ]
     },
     "execution_count": 270,
     "metadata": {},
     "output_type": "execute_result"
    }
   ],
   "source": [
    "Q2.shape"
   ]
  },
  {
   "cell_type": "code",
   "execution_count": 271,
   "metadata": {
    "execution": {
     "iopub.execute_input": "2022-03-11T11:41:02.662608Z",
     "iopub.status.busy": "2022-03-11T11:41:02.662463Z",
     "iopub.status.idle": "2022-03-11T11:41:02.665541Z",
     "shell.execute_reply": "2022-03-11T11:41:02.665213Z",
     "shell.execute_reply.started": "2022-03-11T11:41:02.662592Z"
    },
    "tags": []
   },
   "outputs": [
    {
     "name": "stdout",
     "output_type": "stream",
     "text": [
      "4\n"
     ]
    }
   ],
   "source": [
    "n_heads = 2\n",
    "head_dim = out_hid_dim // n_heads\n",
    "print(head_dim)"
   ]
  },
  {
   "cell_type": "code",
   "execution_count": 272,
   "metadata": {
    "execution": {
     "iopub.execute_input": "2022-03-11T11:41:02.928242Z",
     "iopub.status.busy": "2022-03-11T11:41:02.928093Z",
     "iopub.status.idle": "2022-03-11T11:41:02.930915Z",
     "shell.execute_reply": "2022-03-11T11:41:02.930388Z",
     "shell.execute_reply.started": "2022-03-11T11:41:02.928228Z"
    },
    "tags": []
   },
   "outputs": [],
   "source": [
    "assert out_hid_dim % n_heads == 0"
   ]
  },
  {
   "cell_type": "code",
   "execution_count": 273,
   "metadata": {
    "execution": {
     "iopub.execute_input": "2022-03-11T11:41:03.210471Z",
     "iopub.status.busy": "2022-03-11T11:41:03.210324Z",
     "iopub.status.idle": "2022-03-11T11:41:03.213767Z",
     "shell.execute_reply": "2022-03-11T11:41:03.213354Z",
     "shell.execute_reply.started": "2022-03-11T11:41:03.210454Z"
    },
    "tags": []
   },
   "outputs": [],
   "source": [
    "Q2 = Q2.view(batch_size, -1, n_heads, head_dim)\n",
    "K2 = K2.view(batch_size, -1, n_heads, head_dim)\n",
    "V2 = V2.view(batch_size, -1, n_heads, head_dim)"
   ]
  },
  {
   "cell_type": "code",
   "execution_count": 274,
   "metadata": {
    "execution": {
     "iopub.execute_input": "2022-03-11T11:41:03.511435Z",
     "iopub.status.busy": "2022-03-11T11:41:03.511243Z",
     "iopub.status.idle": "2022-03-11T11:41:03.514704Z",
     "shell.execute_reply": "2022-03-11T11:41:03.514437Z",
     "shell.execute_reply.started": "2022-03-11T11:41:03.511408Z"
    },
    "tags": []
   },
   "outputs": [
    {
     "data": {
      "text/plain": [
       "torch.Size([2, 14, 2, 4])"
      ]
     },
     "execution_count": 274,
     "metadata": {},
     "output_type": "execute_result"
    }
   ],
   "source": [
    "Q2.shape\n",
    "#[batch_size, query_len, n_heads, head_dim]"
   ]
  },
  {
   "cell_type": "code",
   "execution_count": 275,
   "metadata": {
    "execution": {
     "iopub.execute_input": "2022-03-11T11:41:03.810046Z",
     "iopub.status.busy": "2022-03-11T11:41:03.809884Z",
     "iopub.status.idle": "2022-03-11T11:41:03.812737Z",
     "shell.execute_reply": "2022-03-11T11:41:03.812432Z",
     "shell.execute_reply.started": "2022-03-11T11:41:03.810032Z"
    },
    "tags": []
   },
   "outputs": [],
   "source": [
    "Q2 = Q2.permute(0, 2, 1, 3)\n",
    "K2 = K2.permute(0, 2, 1, 3)\n",
    "V2 = V2.permute(0, 2, 1, 3)"
   ]
  },
  {
   "cell_type": "code",
   "execution_count": 276,
   "metadata": {
    "execution": {
     "iopub.execute_input": "2022-03-11T11:41:04.062655Z",
     "iopub.status.busy": "2022-03-11T11:41:04.062519Z",
     "iopub.status.idle": "2022-03-11T11:41:04.065917Z",
     "shell.execute_reply": "2022-03-11T11:41:04.065596Z",
     "shell.execute_reply.started": "2022-03-11T11:41:04.062642Z"
    },
    "tags": []
   },
   "outputs": [
    {
     "data": {
      "text/plain": [
       "torch.Size([2, 2, 14, 4])"
      ]
     },
     "execution_count": 276,
     "metadata": {},
     "output_type": "execute_result"
    }
   ],
   "source": [
    "Q2.shape\n",
    "#[batch_size,num_heads, query_len, head_dim ]"
   ]
  },
  {
   "cell_type": "code",
   "execution_count": 277,
   "metadata": {
    "execution": {
     "iopub.execute_input": "2022-03-11T11:41:04.342069Z",
     "iopub.status.busy": "2022-03-11T11:41:04.341938Z",
     "iopub.status.idle": "2022-03-11T11:41:04.345954Z",
     "shell.execute_reply": "2022-03-11T11:41:04.345368Z",
     "shell.execute_reply.started": "2022-03-11T11:41:04.342054Z"
    },
    "tags": []
   },
   "outputs": [
    {
     "data": {
      "text/plain": [
       "torch.Size([2, 2, 14, 4])"
      ]
     },
     "execution_count": 277,
     "metadata": {},
     "output_type": "execute_result"
    }
   ],
   "source": [
    "K2.shape\n",
    "#[batch_size,num_heads, key_len, head_dim ]"
   ]
  },
  {
   "cell_type": "code",
   "execution_count": 278,
   "metadata": {
    "execution": {
     "iopub.execute_input": "2022-03-11T11:41:04.624857Z",
     "iopub.status.busy": "2022-03-11T11:41:04.624730Z",
     "iopub.status.idle": "2022-03-11T11:41:04.629535Z",
     "shell.execute_reply": "2022-03-11T11:41:04.629242Z",
     "shell.execute_reply.started": "2022-03-11T11:41:04.624842Z"
    },
    "tags": []
   },
   "outputs": [
    {
     "data": {
      "text/plain": [
       "tensor([-3.4978,  0.3555,  0.9093, -2.7795], device='cuda:0',\n",
       "       grad_fn=<SliceBackward0>)"
      ]
     },
     "execution_count": 278,
     "metadata": {},
     "output_type": "execute_result"
    }
   ],
   "source": [
    "Q[1,1,5,:]"
   ]
  },
  {
   "cell_type": "code",
   "execution_count": 279,
   "metadata": {
    "execution": {
     "iopub.execute_input": "2022-03-11T11:41:04.892990Z",
     "iopub.status.busy": "2022-03-11T11:41:04.892698Z",
     "iopub.status.idle": "2022-03-11T11:41:04.897114Z",
     "shell.execute_reply": "2022-03-11T11:41:04.896771Z",
     "shell.execute_reply.started": "2022-03-11T11:41:04.892971Z"
    },
    "tags": []
   },
   "outputs": [
    {
     "data": {
      "text/plain": [
       "tensor([-3.4978,  0.3555,  0.9093, -2.7795], device='cuda:0',\n",
       "       grad_fn=<SliceBackward0>)"
      ]
     },
     "execution_count": 279,
     "metadata": {},
     "output_type": "execute_result"
    }
   ],
   "source": [
    "Q2[1,1,5,:]"
   ]
  },
  {
   "cell_type": "code",
   "execution_count": 280,
   "metadata": {
    "execution": {
     "iopub.execute_input": "2022-03-11T11:41:05.144664Z",
     "iopub.status.busy": "2022-03-11T11:41:05.144520Z",
     "iopub.status.idle": "2022-03-11T11:41:05.148731Z",
     "shell.execute_reply": "2022-03-11T11:41:05.148293Z",
     "shell.execute_reply.started": "2022-03-11T11:41:05.144649Z"
    },
    "tags": []
   },
   "outputs": [
    {
     "data": {
      "text/plain": [
       "tensor([-0.4501,  0.8560,  1.7086,  0.9939], device='cuda:0',\n",
       "       grad_fn=<SliceBackward0>)"
      ]
     },
     "execution_count": 280,
     "metadata": {},
     "output_type": "execute_result"
    }
   ],
   "source": [
    "K[1,1,5,:]"
   ]
  },
  {
   "cell_type": "code",
   "execution_count": 281,
   "metadata": {
    "execution": {
     "iopub.execute_input": "2022-03-11T11:41:05.412803Z",
     "iopub.status.busy": "2022-03-11T11:41:05.412648Z",
     "iopub.status.idle": "2022-03-11T11:41:05.416780Z",
     "shell.execute_reply": "2022-03-11T11:41:05.416469Z",
     "shell.execute_reply.started": "2022-03-11T11:41:05.412788Z"
    },
    "tags": []
   },
   "outputs": [
    {
     "data": {
      "text/plain": [
       "tensor([-0.4501,  0.8560,  1.7086,  0.9939], device='cuda:0',\n",
       "       grad_fn=<SliceBackward0>)"
      ]
     },
     "execution_count": 281,
     "metadata": {},
     "output_type": "execute_result"
    }
   ],
   "source": [
    "K2[1,1,5,:]"
   ]
  },
  {
   "cell_type": "code",
   "execution_count": 282,
   "metadata": {
    "execution": {
     "iopub.execute_input": "2022-03-11T11:41:05.712507Z",
     "iopub.status.busy": "2022-03-11T11:41:05.712360Z",
     "iopub.status.idle": "2022-03-11T11:41:05.716620Z",
     "shell.execute_reply": "2022-03-11T11:41:05.716169Z",
     "shell.execute_reply.started": "2022-03-11T11:41:05.712491Z"
    },
    "tags": []
   },
   "outputs": [
    {
     "data": {
      "text/plain": [
       "tensor([-2.3665,  0.8371, -0.3593,  1.8726], device='cuda:0',\n",
       "       grad_fn=<SliceBackward0>)"
      ]
     },
     "execution_count": 282,
     "metadata": {},
     "output_type": "execute_result"
    }
   ],
   "source": [
    "V[1,1,5,:]"
   ]
  },
  {
   "cell_type": "code",
   "execution_count": 283,
   "metadata": {
    "execution": {
     "iopub.execute_input": "2022-03-11T11:41:06.007463Z",
     "iopub.status.busy": "2022-03-11T11:41:06.007248Z",
     "iopub.status.idle": "2022-03-11T11:41:06.012182Z",
     "shell.execute_reply": "2022-03-11T11:41:06.011901Z",
     "shell.execute_reply.started": "2022-03-11T11:41:06.007445Z"
    },
    "tags": []
   },
   "outputs": [
    {
     "data": {
      "text/plain": [
       "tensor([-2.3665,  0.8371, -0.3593,  1.8726], device='cuda:0',\n",
       "       grad_fn=<SliceBackward0>)"
      ]
     },
     "execution_count": 283,
     "metadata": {},
     "output_type": "execute_result"
    }
   ],
   "source": [
    "V2[1,1,5,:]"
   ]
  },
  {
   "cell_type": "markdown",
   "metadata": {},
   "source": [
    "#### <font color = 'blue'> **Scaled dot product of Queries and Keys**</font>"
   ]
  },
  {
   "cell_type": "code",
   "execution_count": 284,
   "metadata": {
    "execution": {
     "iopub.execute_input": "2022-03-11T11:41:06.556908Z",
     "iopub.status.busy": "2022-03-11T11:41:06.556783Z",
     "iopub.status.idle": "2022-03-11T11:41:06.560038Z",
     "shell.execute_reply": "2022-03-11T11:41:06.559746Z",
     "shell.execute_reply.started": "2022-03-11T11:41:06.556893Z"
    },
    "tags": []
   },
   "outputs": [],
   "source": [
    "scale = torch.sqrt(torch.FloatTensor([head_dim])).to(device)"
   ]
  },
  {
   "cell_type": "code",
   "execution_count": 285,
   "metadata": {
    "execution": {
     "iopub.execute_input": "2022-03-11T11:41:06.824455Z",
     "iopub.status.busy": "2022-03-11T11:41:06.824287Z",
     "iopub.status.idle": "2022-03-11T11:41:06.827023Z",
     "shell.execute_reply": "2022-03-11T11:41:06.826732Z",
     "shell.execute_reply.started": "2022-03-11T11:41:06.824438Z"
    },
    "tags": []
   },
   "outputs": [],
   "source": [
    "energy2 = torch.matmul(Q2, K2.permute(0, 1, 3, 2)) / scale"
   ]
  },
  {
   "cell_type": "code",
   "execution_count": 286,
   "metadata": {
    "execution": {
     "iopub.execute_input": "2022-03-11T11:41:07.105943Z",
     "iopub.status.busy": "2022-03-11T11:41:07.105795Z",
     "iopub.status.idle": "2022-03-11T11:41:07.108935Z",
     "shell.execute_reply": "2022-03-11T11:41:07.108609Z",
     "shell.execute_reply.started": "2022-03-11T11:41:07.105929Z"
    },
    "tags": []
   },
   "outputs": [
    {
     "data": {
      "text/plain": [
       "torch.Size([2, 2, 14, 14])"
      ]
     },
     "execution_count": 286,
     "metadata": {},
     "output_type": "execute_result"
    }
   ],
   "source": [
    "energy2.shape\n",
    "#[batch_size, num_heads, query_len, key_len]"
   ]
  },
  {
   "cell_type": "code",
   "execution_count": 287,
   "metadata": {
    "execution": {
     "iopub.execute_input": "2022-03-11T11:41:07.376701Z",
     "iopub.status.busy": "2022-03-11T11:41:07.376561Z",
     "iopub.status.idle": "2022-03-11T11:41:07.380551Z",
     "shell.execute_reply": "2022-03-11T11:41:07.380304Z",
     "shell.execute_reply.started": "2022-03-11T11:41:07.376687Z"
    },
    "tags": []
   },
   "outputs": [
    {
     "data": {
      "text/plain": [
       "tensor([-10.1447,   2.2105,   2.8566,  -1.8356,  -3.2271,   0.3348,   4.1132,\n",
       "         -5.6259,   4.7959,  -1.5174,   6.9871,  -6.1813,  -5.2924,   2.2527],\n",
       "       device='cuda:0', grad_fn=<SliceBackward0>)"
      ]
     },
     "execution_count": 287,
     "metadata": {},
     "output_type": "execute_result"
    }
   ],
   "source": [
    "energy[1,1,5,:]"
   ]
  },
  {
   "cell_type": "code",
   "execution_count": 288,
   "metadata": {
    "execution": {
     "iopub.execute_input": "2022-03-11T11:41:07.661702Z",
     "iopub.status.busy": "2022-03-11T11:41:07.661550Z",
     "iopub.status.idle": "2022-03-11T11:41:07.665152Z",
     "shell.execute_reply": "2022-03-11T11:41:07.664888Z",
     "shell.execute_reply.started": "2022-03-11T11:41:07.661688Z"
    },
    "tags": []
   },
   "outputs": [
    {
     "data": {
      "text/plain": [
       "tensor([-10.1447,   2.2105,   2.8566,  -1.8356,  -3.2271,   0.3348,   4.1132,\n",
       "         -5.6259,   4.7959,  -1.5174,   6.9871,  -6.1813,  -5.2924,   2.2527],\n",
       "       device='cuda:0', grad_fn=<SliceBackward0>)"
      ]
     },
     "execution_count": 288,
     "metadata": {},
     "output_type": "execute_result"
    }
   ],
   "source": [
    "energy2[1,1,5,:]"
   ]
  },
  {
   "cell_type": "markdown",
   "metadata": {
    "execution": {
     "iopub.execute_input": "2022-03-06T06:32:28.398682Z",
     "iopub.status.busy": "2022-03-06T06:32:28.398556Z",
     "iopub.status.idle": "2022-03-06T06:32:28.401868Z",
     "shell.execute_reply": "2022-03-06T06:32:28.401405Z",
     "shell.execute_reply.started": "2022-03-06T06:32:28.398668Z"
    }
   },
   "source": [
    "#### <font color = 'blue'> **Apply mask to output of Q, K dot product**</font><br>\n",
    "<font color = 'green'>**We do not want tokens to pay attention to pad tokens**</font>"
   ]
  },
  {
   "cell_type": "code",
   "execution_count": 289,
   "metadata": {
    "execution": {
     "iopub.execute_input": "2022-03-11T11:41:08.220925Z",
     "iopub.status.busy": "2022-03-11T11:41:08.220801Z",
     "iopub.status.idle": "2022-03-11T11:41:08.224706Z",
     "shell.execute_reply": "2022-03-11T11:41:08.224311Z",
     "shell.execute_reply.started": "2022-03-11T11:41:08.220911Z"
    },
    "tags": []
   },
   "outputs": [
    {
     "data": {
      "text/plain": [
       "tensor([[ 1, 21, 25, 26, 27, 28, 21, 29, 30, 14,  2,  3,  3,  3],\n",
       "        [ 1, 15, 16, 17, 18, 19,  9, 20, 21, 22, 23, 24, 14,  2]])"
      ]
     },
     "execution_count": 289,
     "metadata": {},
     "output_type": "execute_result"
    }
   ],
   "source": [
    "mask_input2 = target.clone()\n",
    "mask_input2"
   ]
  },
  {
   "cell_type": "code",
   "execution_count": 290,
   "metadata": {
    "execution": {
     "iopub.execute_input": "2022-03-11T11:41:08.488051Z",
     "iopub.status.busy": "2022-03-11T11:41:08.487902Z",
     "iopub.status.idle": "2022-03-11T11:41:08.491035Z",
     "shell.execute_reply": "2022-03-11T11:41:08.490586Z",
     "shell.execute_reply.started": "2022-03-11T11:41:08.488037Z"
    },
    "tags": []
   },
   "outputs": [
    {
     "data": {
      "text/plain": [
       "3"
      ]
     },
     "execution_count": 290,
     "metadata": {},
     "output_type": "execute_result"
    }
   ],
   "source": [
    "TRG_PAD_IDX = target_vocab['<PAD>']\n",
    "TRG_PAD_IDX"
   ]
  },
  {
   "cell_type": "code",
   "execution_count": 291,
   "metadata": {
    "execution": {
     "iopub.execute_input": "2022-03-11T11:41:08.756847Z",
     "iopub.status.busy": "2022-03-11T11:41:08.756696Z",
     "iopub.status.idle": "2022-03-11T11:41:08.760369Z",
     "shell.execute_reply": "2022-03-11T11:41:08.760119Z",
     "shell.execute_reply.started": "2022-03-11T11:41:08.756833Z"
    },
    "tags": []
   },
   "outputs": [
    {
     "data": {
      "text/plain": [
       "tensor([[ True,  True,  True,  True,  True,  True,  True,  True,  True,  True,\n",
       "          True, False, False, False],\n",
       "        [ True,  True,  True,  True,  True,  True,  True,  True,  True,  True,\n",
       "          True,  True,  True,  True]])"
      ]
     },
     "execution_count": 291,
     "metadata": {},
     "output_type": "execute_result"
    }
   ],
   "source": [
    "trg_pad_mask2 = (mask_input2!= TRG_PAD_IDX )\n",
    "trg_pad_mask2"
   ]
  },
  {
   "cell_type": "code",
   "execution_count": 292,
   "metadata": {
    "execution": {
     "iopub.execute_input": "2022-03-11T11:41:09.042111Z",
     "iopub.status.busy": "2022-03-11T11:41:09.041955Z",
     "iopub.status.idle": "2022-03-11T11:41:09.045143Z",
     "shell.execute_reply": "2022-03-11T11:41:09.044754Z",
     "shell.execute_reply.started": "2022-03-11T11:41:09.042095Z"
    },
    "tags": []
   },
   "outputs": [
    {
     "data": {
      "text/plain": [
       "torch.Size([2, 14])"
      ]
     },
     "execution_count": 292,
     "metadata": {},
     "output_type": "execute_result"
    }
   ],
   "source": [
    "trg_pad_mask2.shape"
   ]
  },
  {
   "cell_type": "code",
   "execution_count": 293,
   "metadata": {
    "execution": {
     "iopub.execute_input": "2022-03-11T11:41:09.320987Z",
     "iopub.status.busy": "2022-03-11T11:41:09.320806Z",
     "iopub.status.idle": "2022-03-11T11:41:09.323888Z",
     "shell.execute_reply": "2022-03-11T11:41:09.323539Z",
     "shell.execute_reply.started": "2022-03-11T11:41:09.320973Z"
    },
    "tags": []
   },
   "outputs": [],
   "source": [
    "trg_pad_mask2 = trg_pad_mask2.unsqueeze(1).unsqueeze(2)"
   ]
  },
  {
   "cell_type": "code",
   "execution_count": 294,
   "metadata": {
    "execution": {
     "iopub.execute_input": "2022-03-11T11:41:09.588045Z",
     "iopub.status.busy": "2022-03-11T11:41:09.587860Z",
     "iopub.status.idle": "2022-03-11T11:41:09.591308Z",
     "shell.execute_reply": "2022-03-11T11:41:09.590934Z",
     "shell.execute_reply.started": "2022-03-11T11:41:09.588026Z"
    },
    "tags": []
   },
   "outputs": [
    {
     "data": {
      "text/plain": [
       "torch.Size([2, 1, 1, 14])"
      ]
     },
     "execution_count": 294,
     "metadata": {},
     "output_type": "execute_result"
    }
   ],
   "source": [
    "trg_pad_mask2.shape"
   ]
  },
  {
   "cell_type": "code",
   "execution_count": 295,
   "metadata": {
    "execution": {
     "iopub.execute_input": "2022-03-11T11:41:09.869622Z",
     "iopub.status.busy": "2022-03-11T11:41:09.869378Z",
     "iopub.status.idle": "2022-03-11T11:41:09.871733Z",
     "shell.execute_reply": "2022-03-11T11:41:09.871388Z",
     "shell.execute_reply.started": "2022-03-11T11:41:09.869607Z"
    },
    "tags": []
   },
   "outputs": [],
   "source": [
    "trg_pad_mask2 = trg_pad_mask2.to(device)"
   ]
  },
  {
   "cell_type": "code",
   "execution_count": 296,
   "metadata": {
    "execution": {
     "iopub.execute_input": "2022-03-11T11:41:10.153103Z",
     "iopub.status.busy": "2022-03-11T11:41:10.152950Z",
     "iopub.status.idle": "2022-03-11T11:41:10.156150Z",
     "shell.execute_reply": "2022-03-11T11:41:10.155784Z",
     "shell.execute_reply.started": "2022-03-11T11:41:10.153086Z"
    },
    "tags": []
   },
   "outputs": [],
   "source": [
    "trg_att_mask2 = torch.tril(torch.ones(trg.shape[1], trg.shape[1])).bool().to(device)"
   ]
  },
  {
   "cell_type": "code",
   "execution_count": 297,
   "metadata": {
    "execution": {
     "iopub.execute_input": "2022-03-11T11:41:10.421483Z",
     "iopub.status.busy": "2022-03-11T11:41:10.421289Z",
     "iopub.status.idle": "2022-03-11T11:41:10.427852Z",
     "shell.execute_reply": "2022-03-11T11:41:10.427460Z",
     "shell.execute_reply.started": "2022-03-11T11:41:10.421467Z"
    },
    "tags": []
   },
   "outputs": [
    {
     "data": {
      "text/plain": [
       "tensor([[ True, False, False, False, False, False, False, False, False, False,\n",
       "         False, False, False, False],\n",
       "        [ True,  True, False, False, False, False, False, False, False, False,\n",
       "         False, False, False, False],\n",
       "        [ True,  True,  True, False, False, False, False, False, False, False,\n",
       "         False, False, False, False],\n",
       "        [ True,  True,  True,  True, False, False, False, False, False, False,\n",
       "         False, False, False, False],\n",
       "        [ True,  True,  True,  True,  True, False, False, False, False, False,\n",
       "         False, False, False, False],\n",
       "        [ True,  True,  True,  True,  True,  True, False, False, False, False,\n",
       "         False, False, False, False],\n",
       "        [ True,  True,  True,  True,  True,  True,  True, False, False, False,\n",
       "         False, False, False, False],\n",
       "        [ True,  True,  True,  True,  True,  True,  True,  True, False, False,\n",
       "         False, False, False, False],\n",
       "        [ True,  True,  True,  True,  True,  True,  True,  True,  True, False,\n",
       "         False, False, False, False],\n",
       "        [ True,  True,  True,  True,  True,  True,  True,  True,  True,  True,\n",
       "         False, False, False, False],\n",
       "        [ True,  True,  True,  True,  True,  True,  True,  True,  True,  True,\n",
       "          True, False, False, False],\n",
       "        [ True,  True,  True,  True,  True,  True,  True,  True,  True,  True,\n",
       "          True,  True, False, False],\n",
       "        [ True,  True,  True,  True,  True,  True,  True,  True,  True,  True,\n",
       "          True,  True,  True, False],\n",
       "        [ True,  True,  True,  True,  True,  True,  True,  True,  True,  True,\n",
       "          True,  True,  True,  True]], device='cuda:0')"
      ]
     },
     "execution_count": 297,
     "metadata": {},
     "output_type": "execute_result"
    }
   ],
   "source": [
    "trg_att_mask2 "
   ]
  },
  {
   "cell_type": "code",
   "execution_count": 298,
   "metadata": {
    "execution": {
     "iopub.execute_input": "2022-03-11T11:41:10.692307Z",
     "iopub.status.busy": "2022-03-11T11:41:10.692182Z",
     "iopub.status.idle": "2022-03-11T11:41:10.695190Z",
     "shell.execute_reply": "2022-03-11T11:41:10.694931Z",
     "shell.execute_reply.started": "2022-03-11T11:41:10.692292Z"
    },
    "tags": []
   },
   "outputs": [
    {
     "data": {
      "text/plain": [
       "torch.Size([14, 14])"
      ]
     },
     "execution_count": 298,
     "metadata": {},
     "output_type": "execute_result"
    }
   ],
   "source": [
    "trg_att_mask2.shape"
   ]
  },
  {
   "cell_type": "code",
   "execution_count": 299,
   "metadata": {
    "execution": {
     "iopub.execute_input": "2022-03-11T11:41:10.992810Z",
     "iopub.status.busy": "2022-03-11T11:41:10.992477Z",
     "iopub.status.idle": "2022-03-11T11:41:10.995114Z",
     "shell.execute_reply": "2022-03-11T11:41:10.994829Z",
     "shell.execute_reply.started": "2022-03-11T11:41:10.992756Z"
    },
    "tags": []
   },
   "outputs": [],
   "source": [
    "trg_mask2 = trg_pad_mask2 & trg_att_mask2"
   ]
  },
  {
   "cell_type": "code",
   "execution_count": 300,
   "metadata": {
    "execution": {
     "iopub.execute_input": "2022-03-11T11:41:11.285289Z",
     "iopub.status.busy": "2022-03-11T11:41:11.284935Z",
     "iopub.status.idle": "2022-03-11T11:41:11.288125Z",
     "shell.execute_reply": "2022-03-11T11:41:11.287711Z",
     "shell.execute_reply.started": "2022-03-11T11:41:11.285272Z"
    },
    "tags": []
   },
   "outputs": [
    {
     "data": {
      "text/plain": [
       "torch.Size([2, 1, 14, 14])"
      ]
     },
     "execution_count": 300,
     "metadata": {},
     "output_type": "execute_result"
    }
   ],
   "source": [
    "trg_mask2.shape"
   ]
  },
  {
   "cell_type": "code",
   "execution_count": 301,
   "metadata": {
    "execution": {
     "iopub.execute_input": "2022-03-11T11:41:11.552097Z",
     "iopub.status.busy": "2022-03-11T11:41:11.551652Z",
     "iopub.status.idle": "2022-03-11T11:41:11.560411Z",
     "shell.execute_reply": "2022-03-11T11:41:11.560150Z",
     "shell.execute_reply.started": "2022-03-11T11:41:11.552040Z"
    },
    "tags": []
   },
   "outputs": [
    {
     "data": {
      "text/plain": [
       "tensor([[[[ True, False, False, False, False, False, False, False, False, False,\n",
       "           False, False, False, False],\n",
       "          [ True,  True, False, False, False, False, False, False, False, False,\n",
       "           False, False, False, False],\n",
       "          [ True,  True,  True, False, False, False, False, False, False, False,\n",
       "           False, False, False, False],\n",
       "          [ True,  True,  True,  True, False, False, False, False, False, False,\n",
       "           False, False, False, False],\n",
       "          [ True,  True,  True,  True,  True, False, False, False, False, False,\n",
       "           False, False, False, False],\n",
       "          [ True,  True,  True,  True,  True,  True, False, False, False, False,\n",
       "           False, False, False, False],\n",
       "          [ True,  True,  True,  True,  True,  True,  True, False, False, False,\n",
       "           False, False, False, False],\n",
       "          [ True,  True,  True,  True,  True,  True,  True,  True, False, False,\n",
       "           False, False, False, False],\n",
       "          [ True,  True,  True,  True,  True,  True,  True,  True,  True, False,\n",
       "           False, False, False, False],\n",
       "          [ True,  True,  True,  True,  True,  True,  True,  True,  True,  True,\n",
       "           False, False, False, False],\n",
       "          [ True,  True,  True,  True,  True,  True,  True,  True,  True,  True,\n",
       "            True, False, False, False],\n",
       "          [ True,  True,  True,  True,  True,  True,  True,  True,  True,  True,\n",
       "            True, False, False, False],\n",
       "          [ True,  True,  True,  True,  True,  True,  True,  True,  True,  True,\n",
       "            True, False, False, False],\n",
       "          [ True,  True,  True,  True,  True,  True,  True,  True,  True,  True,\n",
       "            True, False, False, False]]],\n",
       "\n",
       "\n",
       "        [[[ True, False, False, False, False, False, False, False, False, False,\n",
       "           False, False, False, False],\n",
       "          [ True,  True, False, False, False, False, False, False, False, False,\n",
       "           False, False, False, False],\n",
       "          [ True,  True,  True, False, False, False, False, False, False, False,\n",
       "           False, False, False, False],\n",
       "          [ True,  True,  True,  True, False, False, False, False, False, False,\n",
       "           False, False, False, False],\n",
       "          [ True,  True,  True,  True,  True, False, False, False, False, False,\n",
       "           False, False, False, False],\n",
       "          [ True,  True,  True,  True,  True,  True, False, False, False, False,\n",
       "           False, False, False, False],\n",
       "          [ True,  True,  True,  True,  True,  True,  True, False, False, False,\n",
       "           False, False, False, False],\n",
       "          [ True,  True,  True,  True,  True,  True,  True,  True, False, False,\n",
       "           False, False, False, False],\n",
       "          [ True,  True,  True,  True,  True,  True,  True,  True,  True, False,\n",
       "           False, False, False, False],\n",
       "          [ True,  True,  True,  True,  True,  True,  True,  True,  True,  True,\n",
       "           False, False, False, False],\n",
       "          [ True,  True,  True,  True,  True,  True,  True,  True,  True,  True,\n",
       "            True, False, False, False],\n",
       "          [ True,  True,  True,  True,  True,  True,  True,  True,  True,  True,\n",
       "            True,  True, False, False],\n",
       "          [ True,  True,  True,  True,  True,  True,  True,  True,  True,  True,\n",
       "            True,  True,  True, False],\n",
       "          [ True,  True,  True,  True,  True,  True,  True,  True,  True,  True,\n",
       "            True,  True,  True,  True]]]], device='cuda:0')"
      ]
     },
     "execution_count": 301,
     "metadata": {},
     "output_type": "execute_result"
    }
   ],
   "source": [
    "trg_mask2"
   ]
  },
  {
   "cell_type": "code",
   "execution_count": 302,
   "metadata": {
    "execution": {
     "iopub.execute_input": "2022-03-11T11:41:11.818498Z",
     "iopub.status.busy": "2022-03-11T11:41:11.817945Z",
     "iopub.status.idle": "2022-03-11T11:41:11.820942Z",
     "shell.execute_reply": "2022-03-11T11:41:11.820623Z",
     "shell.execute_reply.started": "2022-03-11T11:41:11.818464Z"
    },
    "tags": []
   },
   "outputs": [],
   "source": [
    "energy_masked2 = energy2.masked_fill(trg_mask2 == 0, -1e10)"
   ]
  },
  {
   "cell_type": "code",
   "execution_count": 303,
   "metadata": {
    "execution": {
     "iopub.execute_input": "2022-03-11T11:41:12.072244Z",
     "iopub.status.busy": "2022-03-11T11:41:12.072093Z",
     "iopub.status.idle": "2022-03-11T11:41:12.075583Z",
     "shell.execute_reply": "2022-03-11T11:41:12.075156Z",
     "shell.execute_reply.started": "2022-03-11T11:41:12.072230Z"
    },
    "tags": []
   },
   "outputs": [
    {
     "data": {
      "text/plain": [
       "torch.Size([2, 2, 14, 14])"
      ]
     },
     "execution_count": 303,
     "metadata": {},
     "output_type": "execute_result"
    }
   ],
   "source": [
    "energy_masked2.shape"
   ]
  },
  {
   "cell_type": "code",
   "execution_count": 304,
   "metadata": {
    "execution": {
     "iopub.execute_input": "2022-03-11T11:41:12.357526Z",
     "iopub.status.busy": "2022-03-11T11:41:12.357343Z",
     "iopub.status.idle": "2022-03-11T11:41:12.361261Z",
     "shell.execute_reply": "2022-03-11T11:41:12.360967Z",
     "shell.execute_reply.started": "2022-03-11T11:41:12.357482Z"
    },
    "tags": []
   },
   "outputs": [
    {
     "data": {
      "text/plain": [
       "tensor([-1.0145e+01,  2.2105e+00,  2.8566e+00, -1.8356e+00, -3.2271e+00,\n",
       "         3.3482e-01, -1.0000e+10, -1.0000e+10, -1.0000e+10, -1.0000e+10,\n",
       "        -1.0000e+10, -1.0000e+10, -1.0000e+10, -1.0000e+10], device='cuda:0',\n",
       "       grad_fn=<SliceBackward0>)"
      ]
     },
     "execution_count": 304,
     "metadata": {},
     "output_type": "execute_result"
    }
   ],
   "source": [
    "energy_masked[1,1,5,:]"
   ]
  },
  {
   "cell_type": "code",
   "execution_count": 305,
   "metadata": {
    "execution": {
     "iopub.execute_input": "2022-03-11T11:41:12.633272Z",
     "iopub.status.busy": "2022-03-11T11:41:12.633147Z",
     "iopub.status.idle": "2022-03-11T11:41:12.637996Z",
     "shell.execute_reply": "2022-03-11T11:41:12.637352Z",
     "shell.execute_reply.started": "2022-03-11T11:41:12.633258Z"
    },
    "tags": []
   },
   "outputs": [
    {
     "data": {
      "text/plain": [
       "tensor([-1.0145e+01,  2.2105e+00,  2.8566e+00, -1.8356e+00, -3.2271e+00,\n",
       "         3.3482e-01, -1.0000e+10, -1.0000e+10, -1.0000e+10, -1.0000e+10,\n",
       "        -1.0000e+10, -1.0000e+10, -1.0000e+10, -1.0000e+10], device='cuda:0',\n",
       "       grad_fn=<SliceBackward0>)"
      ]
     },
     "execution_count": 305,
     "metadata": {},
     "output_type": "execute_result"
    }
   ],
   "source": [
    "energy_masked2[1,1,5,:]"
   ]
  },
  {
   "cell_type": "markdown",
   "metadata": {
    "execution": {
     "iopub.execute_input": "2022-03-06T18:33:44.838351Z",
     "iopub.status.busy": "2022-03-06T18:33:44.838200Z",
     "iopub.status.idle": "2022-03-06T18:33:44.840959Z",
     "shell.execute_reply": "2022-03-06T18:33:44.840599Z",
     "shell.execute_reply.started": "2022-03-06T18:33:44.838337Z"
    }
   },
   "source": [
    "#### <font color = 'blue'>**Apply softmax to convert QV dot product to probabilities**</font><br>"
   ]
  },
  {
   "cell_type": "code",
   "execution_count": 306,
   "metadata": {
    "execution": {
     "iopub.execute_input": "2022-03-11T11:41:13.166335Z",
     "iopub.status.busy": "2022-03-11T11:41:13.166181Z",
     "iopub.status.idle": "2022-03-11T11:41:13.168708Z",
     "shell.execute_reply": "2022-03-11T11:41:13.168308Z",
     "shell.execute_reply.started": "2022-03-11T11:41:13.166320Z"
    },
    "tags": []
   },
   "outputs": [],
   "source": [
    "attention_prob2 = torch.softmax(energy_masked2, dim = -1)                 \n",
    "#attention_prob = [batch size, n heads, query len, key len]"
   ]
  },
  {
   "cell_type": "code",
   "execution_count": 307,
   "metadata": {
    "execution": {
     "iopub.execute_input": "2022-03-11T11:41:13.453203Z",
     "iopub.status.busy": "2022-03-11T11:41:13.453079Z",
     "iopub.status.idle": "2022-03-11T11:41:13.456659Z",
     "shell.execute_reply": "2022-03-11T11:41:13.456373Z",
     "shell.execute_reply.started": "2022-03-11T11:41:13.453189Z"
    },
    "tags": []
   },
   "outputs": [
    {
     "name": "stdout",
     "output_type": "stream",
     "text": [
      "tensor(0., device='cuda:0') tensor(0., device='cuda:0')\n"
     ]
    }
   ],
   "source": [
    "print(attention_prob2[0,1,1,12].data, attention_prob2[0,1,1,13].data)\n",
    "#[batch_size, num_heads, query_len, key_len]"
   ]
  },
  {
   "cell_type": "code",
   "execution_count": 308,
   "metadata": {
    "execution": {
     "iopub.execute_input": "2022-03-11T11:41:13.736878Z",
     "iopub.status.busy": "2022-03-11T11:41:13.736724Z",
     "iopub.status.idle": "2022-03-11T11:41:13.740329Z",
     "shell.execute_reply": "2022-03-11T11:41:13.739993Z",
     "shell.execute_reply.started": "2022-03-11T11:41:13.736862Z"
    },
    "tags": []
   },
   "outputs": [
    {
     "name": "stdout",
     "output_type": "stream",
     "text": [
      "tensor([9.9969e-01, 3.0840e-04, 0.0000e+00, 0.0000e+00, 0.0000e+00, 0.0000e+00,\n",
      "        0.0000e+00, 0.0000e+00, 0.0000e+00, 0.0000e+00, 0.0000e+00, 0.0000e+00,\n",
      "        0.0000e+00, 0.0000e+00], device='cuda:0', grad_fn=<SliceBackward0>)\n"
     ]
    }
   ],
   "source": [
    "print(attention_prob2[0, 0,1, :])"
   ]
  },
  {
   "cell_type": "code",
   "execution_count": 309,
   "metadata": {
    "execution": {
     "iopub.execute_input": "2022-03-11T11:41:13.999512Z",
     "iopub.status.busy": "2022-03-11T11:41:13.999375Z",
     "iopub.status.idle": "2022-03-11T11:41:14.003720Z",
     "shell.execute_reply": "2022-03-11T11:41:14.003326Z",
     "shell.execute_reply.started": "2022-03-11T11:41:13.999498Z"
    },
    "tags": []
   },
   "outputs": [
    {
     "data": {
      "text/plain": [
       "tensor(1., device='cuda:0', grad_fn=<SumBackward0>)"
      ]
     },
     "execution_count": 309,
     "metadata": {},
     "output_type": "execute_result"
    }
   ],
   "source": [
    "attention_prob2[0, 0,1, :].sum()"
   ]
  },
  {
   "cell_type": "markdown",
   "metadata": {
    "execution": {
     "iopub.execute_input": "2022-03-06T17:49:26.353174Z",
     "iopub.status.busy": "2022-03-06T17:49:26.353003Z",
     "iopub.status.idle": "2022-03-06T17:49:26.356619Z",
     "shell.execute_reply": "2022-03-06T17:49:26.356140Z",
     "shell.execute_reply.started": "2022-03-06T17:49:26.353143Z"
    }
   },
   "source": [
    "#### <font color = 'blue'>**Apply dropout layer to attention probabilities**</font><br>\n",
    "<font color = 'red'>**NOT UNDERSTOOD- why apply dropout here (probs will not sum to 1)**</font><br>\n",
    "<font color = 'green'>**Quotes from paper --We apply dropout [33] to the output of each sub-layer, before it is added to the sub-layer input and normalized.**</font>\n"
   ]
  },
  {
   "cell_type": "code",
   "execution_count": 310,
   "metadata": {
    "execution": {
     "iopub.execute_input": "2022-03-11T11:41:14.565263Z",
     "iopub.status.busy": "2022-03-11T11:41:14.564902Z",
     "iopub.status.idle": "2022-03-11T11:41:14.567439Z",
     "shell.execute_reply": "2022-03-11T11:41:14.567082Z",
     "shell.execute_reply.started": "2022-03-11T11:41:14.565246Z"
    },
    "tags": []
   },
   "outputs": [],
   "source": [
    "att_dec_dropout2 =  nn.Dropout(p=0.0)"
   ]
  },
  {
   "cell_type": "code",
   "execution_count": 311,
   "metadata": {
    "execution": {
     "iopub.execute_input": "2022-03-11T11:41:14.831932Z",
     "iopub.status.busy": "2022-03-11T11:41:14.831795Z",
     "iopub.status.idle": "2022-03-11T11:41:14.834312Z",
     "shell.execute_reply": "2022-03-11T11:41:14.833888Z",
     "shell.execute_reply.started": "2022-03-11T11:41:14.831919Z"
    },
    "tags": []
   },
   "outputs": [],
   "source": [
    "attention_prob_after_dropout2 = att_dec_dropout2(attention_prob2)"
   ]
  },
  {
   "cell_type": "code",
   "execution_count": 312,
   "metadata": {
    "execution": {
     "iopub.execute_input": "2022-03-11T11:41:15.086590Z",
     "iopub.status.busy": "2022-03-11T11:41:15.086449Z",
     "iopub.status.idle": "2022-03-11T11:41:15.089682Z",
     "shell.execute_reply": "2022-03-11T11:41:15.089391Z",
     "shell.execute_reply.started": "2022-03-11T11:41:15.086576Z"
    },
    "tags": []
   },
   "outputs": [
    {
     "name": "stdout",
     "output_type": "stream",
     "text": [
      "tensor([9.9969e-01, 3.0840e-04, 0.0000e+00, 0.0000e+00, 0.0000e+00, 0.0000e+00,\n",
      "        0.0000e+00, 0.0000e+00, 0.0000e+00, 0.0000e+00, 0.0000e+00, 0.0000e+00,\n",
      "        0.0000e+00, 0.0000e+00], device='cuda:0', grad_fn=<SliceBackward0>)\n"
     ]
    }
   ],
   "source": [
    "print(attention_prob_after_dropout2[0, 0,1, :])"
   ]
  },
  {
   "cell_type": "code",
   "execution_count": 313,
   "metadata": {
    "execution": {
     "iopub.execute_input": "2022-03-11T11:41:15.372474Z",
     "iopub.status.busy": "2022-03-11T11:41:15.372336Z",
     "iopub.status.idle": "2022-03-11T11:41:15.376421Z",
     "shell.execute_reply": "2022-03-11T11:41:15.376181Z",
     "shell.execute_reply.started": "2022-03-11T11:41:15.372460Z"
    },
    "tags": []
   },
   "outputs": [
    {
     "data": {
      "text/plain": [
       "tensor(1., device='cuda:0', grad_fn=<SumBackward0>)"
      ]
     },
     "execution_count": 313,
     "metadata": {},
     "output_type": "execute_result"
    }
   ],
   "source": [
    "attention_prob_after_dropout2[0, 0,1, :].sum()"
   ]
  },
  {
   "cell_type": "markdown",
   "metadata": {
    "execution": {
     "iopub.execute_input": "2022-03-06T18:30:59.789080Z",
     "iopub.status.busy": "2022-03-06T18:30:59.788942Z",
     "iopub.status.idle": "2022-03-06T18:30:59.792284Z",
     "shell.execute_reply": "2022-03-06T18:30:59.791922Z",
     "shell.execute_reply.started": "2022-03-06T18:30:59.789068Z"
    },
    "tags": []
   },
   "source": [
    "<font size = 3, color = 'red'>**Probs do not sum to 1, sometimes these are greater than one and sometimes these are less than one**</font>"
   ]
  },
  {
   "cell_type": "code",
   "execution_count": 314,
   "metadata": {
    "execution": {
     "iopub.execute_input": "2022-03-11T11:41:15.987150Z",
     "iopub.status.busy": "2022-03-11T11:41:15.987009Z",
     "iopub.status.idle": "2022-03-11T11:41:15.990319Z",
     "shell.execute_reply": "2022-03-11T11:41:15.989914Z",
     "shell.execute_reply.started": "2022-03-11T11:41:15.987136Z"
    },
    "tags": []
   },
   "outputs": [
    {
     "data": {
      "text/plain": [
       "torch.Size([2, 2, 14, 14])"
      ]
     },
     "execution_count": 314,
     "metadata": {},
     "output_type": "execute_result"
    }
   ],
   "source": [
    "attention_prob_after_dropout2.shape"
   ]
  },
  {
   "cell_type": "code",
   "execution_count": 315,
   "metadata": {
    "execution": {
     "iopub.execute_input": "2022-03-11T11:41:16.262990Z",
     "iopub.status.busy": "2022-03-11T11:41:16.262850Z",
     "iopub.status.idle": "2022-03-11T11:41:16.265535Z",
     "shell.execute_reply": "2022-03-11T11:41:16.265204Z",
     "shell.execute_reply.started": "2022-03-11T11:41:16.262975Z"
    },
    "tags": []
   },
   "outputs": [],
   "source": [
    "attention_prob_after_dropout_mean2 = torch.mean(attention_prob_after_dropout2, dim = 1)"
   ]
  },
  {
   "cell_type": "markdown",
   "metadata": {},
   "source": [
    "#### <font size = 4, color = 'blue'>**Self Attention Output**</font><br>"
   ]
  },
  {
   "cell_type": "code",
   "execution_count": 316,
   "metadata": {
    "execution": {
     "iopub.execute_input": "2022-03-11T11:41:16.847072Z",
     "iopub.status.busy": "2022-03-11T11:41:16.846931Z",
     "iopub.status.idle": "2022-03-11T11:41:16.850207Z",
     "shell.execute_reply": "2022-03-11T11:41:16.849908Z",
     "shell.execute_reply.started": "2022-03-11T11:41:16.847058Z"
    },
    "tags": []
   },
   "outputs": [
    {
     "data": {
      "text/plain": [
       "torch.Size([2, 2, 14, 4])"
      ]
     },
     "execution_count": 316,
     "metadata": {},
     "output_type": "execute_result"
    }
   ],
   "source": [
    "V2.shape\n",
    "# [batch_size, num_heads, value_len, head_dim]"
   ]
  },
  {
   "cell_type": "code",
   "execution_count": 317,
   "metadata": {
    "execution": {
     "iopub.execute_input": "2022-03-11T11:41:17.129071Z",
     "iopub.status.busy": "2022-03-11T11:41:17.128919Z",
     "iopub.status.idle": "2022-03-11T11:41:17.132463Z",
     "shell.execute_reply": "2022-03-11T11:41:17.132021Z",
     "shell.execute_reply.started": "2022-03-11T11:41:17.129056Z"
    },
    "tags": []
   },
   "outputs": [
    {
     "data": {
      "text/plain": [
       "torch.Size([2, 2, 14, 14])"
      ]
     },
     "execution_count": 317,
     "metadata": {},
     "output_type": "execute_result"
    }
   ],
   "source": [
    "attention_prob_after_dropout2.shape\n",
    "#[batch_size, num_heads, query_len, key_len]"
   ]
  },
  {
   "cell_type": "code",
   "execution_count": 318,
   "metadata": {
    "execution": {
     "iopub.execute_input": "2022-03-11T11:41:17.396076Z",
     "iopub.status.busy": "2022-03-11T11:41:17.395897Z",
     "iopub.status.idle": "2022-03-11T11:41:17.398395Z",
     "shell.execute_reply": "2022-03-11T11:41:17.397945Z",
     "shell.execute_reply.started": "2022-03-11T11:41:17.396062Z"
    },
    "tags": []
   },
   "outputs": [],
   "source": [
    "decoder_contextulaized_embeddings_m2 = torch.matmul(attention_prob_after_dropout2, V2)\n",
    "#[batch_size, num_heads, query_len, head_dim]"
   ]
  },
  {
   "cell_type": "code",
   "execution_count": 319,
   "metadata": {
    "execution": {
     "iopub.execute_input": "2022-03-11T11:41:17.681032Z",
     "iopub.status.busy": "2022-03-11T11:41:17.680869Z",
     "iopub.status.idle": "2022-03-11T11:41:17.684123Z",
     "shell.execute_reply": "2022-03-11T11:41:17.683808Z",
     "shell.execute_reply.started": "2022-03-11T11:41:17.681019Z"
    },
    "tags": []
   },
   "outputs": [
    {
     "data": {
      "text/plain": [
       "torch.Size([2, 2, 14, 4])"
      ]
     },
     "execution_count": 319,
     "metadata": {},
     "output_type": "execute_result"
    }
   ],
   "source": [
    "decoder_contextulaized_embeddings_m2.shape\n",
    "# [batch_size, number_of_heads, query_len, head_dim]"
   ]
  },
  {
   "cell_type": "code",
   "execution_count": 320,
   "metadata": {
    "execution": {
     "iopub.execute_input": "2022-03-11T11:41:17.936855Z",
     "iopub.status.busy": "2022-03-11T11:41:17.936731Z",
     "iopub.status.idle": "2022-03-11T11:41:17.939511Z",
     "shell.execute_reply": "2022-03-11T11:41:17.939109Z",
     "shell.execute_reply.started": "2022-03-11T11:41:17.936840Z"
    },
    "tags": []
   },
   "outputs": [],
   "source": [
    "decoder_contextulaized_embeddings_m2 = decoder_contextulaized_embeddings_m2.permute(0, 2, 1, 3)\n",
    "# [batch_size, query_len, number_of_heads, head_dim]"
   ]
  },
  {
   "cell_type": "code",
   "execution_count": 321,
   "metadata": {
    "execution": {
     "iopub.execute_input": "2022-03-11T11:41:18.211528Z",
     "iopub.status.busy": "2022-03-11T11:41:18.211389Z",
     "iopub.status.idle": "2022-03-11T11:41:18.214463Z",
     "shell.execute_reply": "2022-03-11T11:41:18.214202Z",
     "shell.execute_reply.started": "2022-03-11T11:41:18.211514Z"
    },
    "tags": []
   },
   "outputs": [
    {
     "data": {
      "text/plain": [
       "torch.Size([2, 14, 2, 4])"
      ]
     },
     "execution_count": 321,
     "metadata": {},
     "output_type": "execute_result"
    }
   ],
   "source": [
    "decoder_contextulaized_embeddings_m2.shape"
   ]
  },
  {
   "cell_type": "code",
   "execution_count": 322,
   "metadata": {
    "execution": {
     "iopub.execute_input": "2022-03-11T11:41:18.481783Z",
     "iopub.status.busy": "2022-03-11T11:41:18.481555Z",
     "iopub.status.idle": "2022-03-11T11:41:18.484619Z",
     "shell.execute_reply": "2022-03-11T11:41:18.484350Z",
     "shell.execute_reply.started": "2022-03-11T11:41:18.481753Z"
    },
    "tags": []
   },
   "outputs": [],
   "source": [
    "decoder_contextulaized_embeddings_m2 = decoder_contextulaized_embeddings_m2.reshape(batch_size, -1, out_hid_dim)"
   ]
  },
  {
   "cell_type": "code",
   "execution_count": 323,
   "metadata": {
    "execution": {
     "iopub.execute_input": "2022-03-11T11:41:18.746127Z",
     "iopub.status.busy": "2022-03-11T11:41:18.745985Z",
     "iopub.status.idle": "2022-03-11T11:41:18.749640Z",
     "shell.execute_reply": "2022-03-11T11:41:18.749275Z",
     "shell.execute_reply.started": "2022-03-11T11:41:18.746113Z"
    },
    "tags": []
   },
   "outputs": [
    {
     "data": {
      "text/plain": [
       "torch.Size([2, 14, 8])"
      ]
     },
     "execution_count": 323,
     "metadata": {},
     "output_type": "execute_result"
    }
   ],
   "source": [
    "decoder_contextulaized_embeddings_m2.shape\n",
    "#[batch_size, seq_len, out_hid_dim]"
   ]
  },
  {
   "cell_type": "markdown",
   "metadata": {},
   "source": [
    "<font size = 3, color = 'green'>We need to project the final values to have same shape as  input embedding. To accomplish this we will use fc_o linear layer we created earlier."
   ]
  },
  {
   "cell_type": "code",
   "execution_count": 324,
   "metadata": {
    "execution": {
     "iopub.execute_input": "2022-03-11T11:41:19.278202Z",
     "iopub.status.busy": "2022-03-11T11:41:19.278061Z",
     "iopub.status.idle": "2022-03-11T11:41:19.280989Z",
     "shell.execute_reply": "2022-03-11T11:41:19.280493Z",
     "shell.execute_reply.started": "2022-03-11T11:41:19.278187Z"
    },
    "tags": []
   },
   "outputs": [],
   "source": [
    "decoder_contextulaized_embeddings_m2 = decoder_contextulaized_embeddings_m2.matmul(Wo.T)  + bo"
   ]
  },
  {
   "cell_type": "code",
   "execution_count": 325,
   "metadata": {
    "execution": {
     "iopub.execute_input": "2022-03-11T11:41:19.577675Z",
     "iopub.status.busy": "2022-03-11T11:41:19.577475Z",
     "iopub.status.idle": "2022-03-11T11:41:19.580784Z",
     "shell.execute_reply": "2022-03-11T11:41:19.580377Z",
     "shell.execute_reply.started": "2022-03-11T11:41:19.577661Z"
    },
    "tags": []
   },
   "outputs": [
    {
     "data": {
      "text/plain": [
       "torch.Size([2, 14, 8])"
      ]
     },
     "execution_count": 325,
     "metadata": {},
     "output_type": "execute_result"
    }
   ],
   "source": [
    "decoder_contextulaized_embeddings_m2.shape\n",
    "#[batch_size, seq_len, hid_dim]"
   ]
  },
  {
   "cell_type": "markdown",
   "metadata": {},
   "source": [
    "#### <font size = 4, color = 'blue'>**Compare results with PyTorch Layer**</font><br>"
   ]
  },
  {
   "cell_type": "code",
   "execution_count": 326,
   "metadata": {
    "execution": {
     "iopub.execute_input": "2022-03-11T11:41:20.142552Z",
     "iopub.status.busy": "2022-03-11T11:41:20.142400Z",
     "iopub.status.idle": "2022-03-11T11:41:20.146192Z",
     "shell.execute_reply": "2022-03-11T11:41:20.145939Z",
     "shell.execute_reply.started": "2022-03-11T11:41:20.142538Z"
    },
    "tags": []
   },
   "outputs": [
    {
     "data": {
      "text/plain": [
       "tensor([ 0.1856, -0.6724, -0.3055,  0.5599,  0.3984,  0.2749, -0.3462, -0.6872],\n",
       "       device='cuda:0', grad_fn=<SliceBackward0>)"
      ]
     },
     "execution_count": 326,
     "metadata": {},
     "output_type": "execute_result"
    }
   ],
   "source": [
    "decoder_contextulaized_embeddings_m2[0,9,:]"
   ]
  },
  {
   "cell_type": "code",
   "execution_count": 327,
   "metadata": {
    "execution": {
     "iopub.execute_input": "2022-03-11T11:41:20.397298Z",
     "iopub.status.busy": "2022-03-11T11:41:20.396972Z",
     "iopub.status.idle": "2022-03-11T11:41:20.401363Z",
     "shell.execute_reply": "2022-03-11T11:41:20.401063Z",
     "shell.execute_reply.started": "2022-03-11T11:41:20.397275Z"
    },
    "tags": []
   },
   "outputs": [
    {
     "data": {
      "text/plain": [
       "tensor([ 0.1856, -0.6724, -0.3055,  0.5599,  0.3984,  0.2749, -0.3462, -0.6872],\n",
       "       device='cuda:0', grad_fn=<SliceBackward0>)"
      ]
     },
     "execution_count": 327,
     "metadata": {},
     "output_type": "execute_result"
    }
   ],
   "source": [
    "decoder_contextulaized_embeddings[0,9,:]"
   ]
  },
  {
   "cell_type": "code",
   "execution_count": 328,
   "metadata": {
    "execution": {
     "iopub.execute_input": "2022-03-11T11:41:20.712010Z",
     "iopub.status.busy": "2022-03-11T11:41:20.711856Z",
     "iopub.status.idle": "2022-03-11T11:41:20.716641Z",
     "shell.execute_reply": "2022-03-11T11:41:20.716397Z",
     "shell.execute_reply.started": "2022-03-11T11:41:20.711996Z"
    },
    "tags": []
   },
   "outputs": [
    {
     "data": {
      "text/plain": [
       "tensor([0.0171, 0.0268, 0.0152, 0.0186, 0.1621, 0.6170, 0.0103, 0.0814, 0.0357,\n",
       "        0.0158, 0.0000, 0.0000, 0.0000, 0.0000], device='cuda:0',\n",
       "       grad_fn=<SliceBackward0>)"
      ]
     },
     "execution_count": 328,
     "metadata": {},
     "output_type": "execute_result"
    }
   ],
   "source": [
    "decoder_self_attention_probs[0,9,:]"
   ]
  },
  {
   "cell_type": "code",
   "execution_count": 329,
   "metadata": {
    "execution": {
     "iopub.execute_input": "2022-03-11T11:41:21.102348Z",
     "iopub.status.busy": "2022-03-11T11:41:21.102226Z",
     "iopub.status.idle": "2022-03-11T11:41:21.106109Z",
     "shell.execute_reply": "2022-03-11T11:41:21.105852Z",
     "shell.execute_reply.started": "2022-03-11T11:41:21.102334Z"
    },
    "tags": []
   },
   "outputs": [
    {
     "data": {
      "text/plain": [
       "tensor([0.0171, 0.0268, 0.0152, 0.0186, 0.1621, 0.6170, 0.0103, 0.0814, 0.0357,\n",
       "        0.0158, 0.0000, 0.0000, 0.0000, 0.0000], device='cuda:0',\n",
       "       grad_fn=<SliceBackward0>)"
      ]
     },
     "execution_count": 329,
     "metadata": {},
     "output_type": "execute_result"
    }
   ],
   "source": [
    "attention_prob_after_dropout_mean2[0,9,:]"
   ]
  }
 ],
 "metadata": {
  "kernelspec": {
   "display_name": "pt10",
   "language": "python",
   "name": "pt10"
  },
  "language_info": {
   "codemirror_mode": {
    "name": "ipython",
    "version": 3
   },
   "file_extension": ".py",
   "mimetype": "text/x-python",
   "name": "python",
   "nbconvert_exporter": "python",
   "pygments_lexer": "ipython3",
   "version": "3.8.12"
  },
  "toc-autonumbering": false
 },
 "nbformat": 4,
 "nbformat_minor": 4
}
