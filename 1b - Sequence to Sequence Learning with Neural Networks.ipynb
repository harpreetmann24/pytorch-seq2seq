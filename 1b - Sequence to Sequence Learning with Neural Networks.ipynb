{
 "cells": [
  {
   "cell_type": "markdown",
   "metadata": {
    "id": "MjTMLaX0Un22"
   },
   "source": [
    "# 1 - Sequence to Sequence Learning with Neural Networks\n",
    "\n",
    "In this series we'll be building a machine learning model to go from once sequence to another, using PyTorch and torchtext. This will be done on German to English translations, but the models can be applied to any problem that involves going from one sequence to another, such as summarization, i.e. going from a sequence to a shorter sequence in the same language.\n",
    "\n",
    "In this first notebook, we'll start simple to understand the general concepts by implementing the model from the [Sequence to Sequence Learning with Neural Networks](https://arxiv.org/abs/1409.3215) paper. \n",
    "\n",
    "## Introduction\n",
    "\n",
    "The most common sequence-to-sequence (seq2seq) models are *encoder-decoder* models, which commonly use a *recurrent neural network* (RNN) to *encode* the source (input) sentence into a single vector. In this notebook, we'll refer to this single vector as a *context vector*. We can think of the context vector as being an abstract representation of the entire input sentence. This vector is then *decoded* by a second RNN which learns to output the target (output) sentence by generating it one word at a time.\n",
    "\n",
    "![](assets/seq2seq1.png)\n",
    "\n",
    "The above image shows an example translation. The input/source sentence, \"guten morgen\", is passed through the embedding layer (yellow) and then input into the encoder (green). We also append a *start of sequence* (`<sos>`) and *end of sequence* (`<eos>`) token to the start and end of sentence, respectively. At each time-step, the input to the encoder RNN is both the embedding, $e$, of the current word, $e(x_t)$, as well as the hidden state from the previous time-step, $h_{t-1}$, and the encoder RNN outputs a new hidden state $h_t$. <font color ='red'>We can think of the hidden state as a vector representation of the sentence so far. The RNN can be represented as a function of both of $e(x_t)$ and $h_{t-1}$:</font>\n",
    "\n",
    "$$h_t = \\text{EncoderRNN}(e(x_t), h_{t-1})$$\n",
    "\n",
    "<font color ='red'>We're using the term RNN generally here, it could be any recurrent architecture, such as an *LSTM* (Long Short-Term Memory) or a *GRU* (Gated Recurrent Unit). </font>\n",
    "\n",
    "Here, we have $X = \\{x_1, x_2, ..., x_T\\}$, where $x_1 = \\text{<sos>}, x_2 = \\text{guten}$, etc. The initial hidden state, $h_0$, is usually either initialized to zeros or a learned parameter.\n",
    "\n",
    "Once the final word, $x_T$, has been passed into the RNN via the embedding layer, we use the final hidden state, $h_T$, as the context vector, i.e. $h_T = z$. This is a vector representation of the entire source sentence.\n",
    "\n",
    "Now we have our context vector, $z$, we can start decoding it to get the output/target sentence, \"good morning\". Again, we append start and end of sequence tokens to the target sentence. At each time-step, the input to the decoder RNN (blue) is the embedding, $d$, of current word, $d(y_t)$, as well as the hidden state from the previous time-step, $s_{t-1}$, where the initial decoder hidden state, $s_0$, is the context vector, $s_0 = z = h_T$, i.e. the initial decoder hidden state is the final encoder hidden state. Thus, similar to the encoder, we can represent the decoder as:\n",
    "\n",
    "$$s_t = \\text{DecoderRNN}(d(y_t), s_{t-1})$$\n",
    "\n",
    "Although the input/source embedding layer, $e$, and the output/target embedding layer, $d$, are both shown in yellow in the diagram they are two different embedding layers with their own parameters.\n",
    "\n",
    "In the decoder, we need to go from the hidden state to an actual word, therefore at each time-step we use $s_t$ to predict (by passing it through a `Linear` layer, shown in purple) what we think is the next word in the sequence, $\\hat{y}_t$. \n",
    "\n",
    "$$\\hat{y}_t = f(s_t)$$\n",
    "\n",
    "The words in the decoder are always generated one after another, with one per time-step. <font color ='red'>**We always use `<sos>` for the first input to the decoder, $y_1$, but for subsequent inputs, $y_{t>1}$, we will sometimes use the actual, ground truth next word in the sequence, $y_t$ and sometimes use the word predicted by our decoder, $\\hat{y}_{t-1}$. This is called *teacher forcing*, see a bit more info about it [here]**</font>(https://machinelearningmastery.com/teacher-forcing-for-recurrent-neural-networks/). \n",
    "\n",
    "<font color ='red'>WWhen training/testing our model, we always know how many words are in our target sentence, so we stop generating words once we hit that many. During inference it is common to keep generating words until the model outputs an `<eos>` token or after a certain amount of words have been generated.</font>\n",
    "\n",
    "Once we have our predicted target sentence, $\\hat{Y} = \\{ \\hat{y}_1, \\hat{y}_2, ..., \\hat{y}_T \\}$, we compare it against our actual target sentence, $Y = \\{ y_1, y_2, ..., y_T \\}$, to calculate our loss. We then use this loss to update all of the parameters in our model."
   ]
  },
  {
   "cell_type": "markdown",
   "metadata": {
    "id": "jMIVwQyitAXd"
   },
   "source": [
    "## Import Libraries\n",
    "\n"
   ]
  },
  {
   "cell_type": "code",
   "execution_count": 1,
   "metadata": {
    "execution": {
     "iopub.execute_input": "2022-04-02T21:21:47.494174Z",
     "iopub.status.busy": "2022-04-02T21:21:47.493997Z",
     "iopub.status.idle": "2022-04-02T21:21:48.340803Z",
     "shell.execute_reply": "2022-04-02T21:21:48.340298Z",
     "shell.execute_reply.started": "2022-04-02T21:21:47.494132Z"
    },
    "id": "JiUqMdpCUn24",
    "tags": []
   },
   "outputs": [],
   "source": [
    "import torch\n",
    "import torch.nn as nn\n",
    "import torch.optim as optim\n",
    "\n",
    "import torchtext \n",
    "from torchtext.datasets import Multi30k\n",
    "from torchtext.vocab import vocab\n",
    "#from torchtext.legacy.data import Field, BucketIterator\n",
    "\n",
    "import spacy\n",
    "import numpy as np\n",
    "from collections import Counter, OrderedDict\n",
    "\n",
    "import random\n",
    "import math\n",
    "import time\n",
    "import pandas as pd\n",
    "from pathlib import Path\n",
    "from torch.utils.data import DataLoader, Dataset\n",
    "from torch.nn.utils.rnn import pad_sequence"
   ]
  },
  {
   "cell_type": "code",
   "execution_count": 2,
   "metadata": {
    "execution": {
     "iopub.execute_input": "2022-04-02T21:21:48.341728Z",
     "iopub.status.busy": "2022-04-02T21:21:48.341616Z",
     "iopub.status.idle": "2022-04-02T21:21:48.343763Z",
     "shell.execute_reply": "2022-04-02T21:21:48.343473Z",
     "shell.execute_reply.started": "2022-04-02T21:21:48.341696Z"
    },
    "id": "9uY_ZBxdtH_k",
    "tags": []
   },
   "outputs": [],
   "source": [
    "#from google.colab import drive\n",
    "#drive.mount('/content/drive')"
   ]
  },
  {
   "cell_type": "code",
   "execution_count": 3,
   "metadata": {
    "execution": {
     "iopub.execute_input": "2022-04-02T21:21:48.361010Z",
     "iopub.status.busy": "2022-04-02T21:21:48.360846Z",
     "iopub.status.idle": "2022-04-02T21:21:48.363666Z",
     "shell.execute_reply": "2022-04-02T21:21:48.362937Z",
     "shell.execute_reply.started": "2022-04-02T21:21:48.360981Z"
    },
    "id": "LLLu5aF_VkRw",
    "tags": []
   },
   "outputs": [],
   "source": [
    "data_folder = Path('/home/harpreet/Insync/google_drive_shaannoor/Data/NLP')\n",
    "project_folder = Path('/home/harpreet/Insync/google_drive_harpreet/Research/NLP/pytorch-seq2seq')\n",
    "#data_folder = Path('/content/drive/MyDrive/Data/NLP')"
   ]
  },
  {
   "cell_type": "code",
   "execution_count": 4,
   "metadata": {
    "execution": {
     "iopub.execute_input": "2022-04-02T21:21:48.579807Z",
     "iopub.status.busy": "2022-04-02T21:21:48.579655Z",
     "iopub.status.idle": "2022-04-02T21:21:48.582439Z",
     "shell.execute_reply": "2022-04-02T21:21:48.582148Z",
     "shell.execute_reply.started": "2022-04-02T21:21:48.579764Z"
    },
    "id": "91gNGmdCvrvp",
    "tags": []
   },
   "outputs": [],
   "source": [
    "#!pip install -U spacy"
   ]
  },
  {
   "cell_type": "code",
   "execution_count": 5,
   "metadata": {
    "colab": {
     "base_uri": "https://localhost:8080/"
    },
    "execution": {
     "iopub.execute_input": "2022-04-02T21:21:49.044356Z",
     "iopub.status.busy": "2022-04-02T21:21:49.044205Z",
     "iopub.status.idle": "2022-04-02T21:21:49.050388Z",
     "shell.execute_reply": "2022-04-02T21:21:49.050050Z",
     "shell.execute_reply.started": "2022-04-02T21:21:49.044342Z"
    },
    "executionInfo": {
     "elapsed": 103,
     "status": "ok",
     "timestamp": 1643995178240,
     "user": {
      "displayName": "Shaannoor Mann",
      "photoUrl": "https://lh3.googleusercontent.com/a/default-user=s64",
      "userId": "02520257695567980696"
     },
     "user_tz": 360
    },
    "id": "PY9-guO2Un25",
    "outputId": "1859f72c-9677-4072-d8aa-644fe11d8ec2",
    "tags": []
   },
   "outputs": [
    {
     "data": {
      "text/plain": [
       "('0.11.0', '1.10.0', True, '3.2.4')"
      ]
     },
     "execution_count": 5,
     "metadata": {},
     "output_type": "execute_result"
    }
   ],
   "source": [
    "torchtext.__version__, torch.__version__, torch.cuda.is_available(), spacy.__version__"
   ]
  },
  {
   "cell_type": "markdown",
   "metadata": {
    "id": "wRVU8aBPUn26"
   },
   "source": [
    "# Set Seeds"
   ]
  },
  {
   "cell_type": "code",
   "execution_count": 6,
   "metadata": {
    "execution": {
     "iopub.execute_input": "2022-04-02T21:21:49.992172Z",
     "iopub.status.busy": "2022-04-02T21:21:49.992030Z",
     "iopub.status.idle": "2022-04-02T21:21:49.995687Z",
     "shell.execute_reply": "2022-04-02T21:21:49.995440Z",
     "shell.execute_reply.started": "2022-04-02T21:21:49.992159Z"
    },
    "id": "vzCQltiuUn26",
    "tags": []
   },
   "outputs": [],
   "source": [
    "SEED = 1234\n",
    "\n",
    "random.seed(SEED)\n",
    "np.random.seed(SEED)\n",
    "torch.manual_seed(SEED)\n",
    "torch.cuda.manual_seed(SEED)\n",
    "torch.backends.cudnn.deterministic = True"
   ]
  },
  {
   "cell_type": "markdown",
   "metadata": {
    "execution": {
     "iopub.execute_input": "2022-02-01T00:00:54.606189Z",
     "iopub.status.busy": "2022-02-01T00:00:54.606047Z",
     "iopub.status.idle": "2022-02-01T00:00:54.608419Z",
     "shell.execute_reply": "2022-02-01T00:00:54.608102Z",
     "shell.execute_reply.started": "2022-02-01T00:00:54.606174Z"
    },
    "id": "7OKdOYoVUn28"
   },
   "source": [
    "## Load Data and Tokenize"
   ]
  },
  {
   "cell_type": "code",
   "execution_count": 7,
   "metadata": {
    "execution": {
     "iopub.execute_input": "2022-04-02T21:21:50.430033Z",
     "iopub.status.busy": "2022-04-02T21:21:50.429890Z",
     "iopub.status.idle": "2022-04-02T21:21:50.432204Z",
     "shell.execute_reply": "2022-04-02T21:21:50.431900Z",
     "shell.execute_reply.started": "2022-04-02T21:21:50.430019Z"
    },
    "id": "9soHmZzMtAXg",
    "tags": []
   },
   "outputs": [],
   "source": [
    "#!python -m spacy download en_core_web_sm"
   ]
  },
  {
   "cell_type": "code",
   "execution_count": 8,
   "metadata": {
    "execution": {
     "iopub.execute_input": "2022-04-02T21:21:50.630367Z",
     "iopub.status.busy": "2022-04-02T21:21:50.630209Z",
     "iopub.status.idle": "2022-04-02T21:21:50.633048Z",
     "shell.execute_reply": "2022-04-02T21:21:50.632522Z",
     "shell.execute_reply.started": "2022-04-02T21:21:50.630352Z"
    },
    "id": "qRspLoflUn28",
    "tags": []
   },
   "outputs": [],
   "source": [
    "#!python -m spacy download de_core_news_sm"
   ]
  },
  {
   "cell_type": "code",
   "execution_count": 9,
   "metadata": {
    "execution": {
     "iopub.execute_input": "2022-04-02T21:21:50.829556Z",
     "iopub.status.busy": "2022-04-02T21:21:50.829431Z",
     "iopub.status.idle": "2022-04-02T21:21:50.831457Z",
     "shell.execute_reply": "2022-04-02T21:21:50.831131Z",
     "shell.execute_reply.started": "2022-04-02T21:21:50.829543Z"
    },
    "id": "eboUqZ8HUn28",
    "tags": []
   },
   "outputs": [],
   "source": [
    "# need to run only once \n",
    "#nlp_de = spacy.load('de_core_news_sm')\n",
    "#nlp_en = spacy.load('en_core_web_sm')"
   ]
  },
  {
   "cell_type": "markdown",
   "metadata": {
    "id": "dqPoMmkOUn29"
   },
   "source": [
    "Next, we create the tokenizer functions. These can be passed to torchtext and will take in the sentence as a string and return the sentence as a list of tokens.\n",
    "\n",
    "<font color = 'red'>**In the paper we are implementing, they find it beneficial to reverse the order of the input which they believe \"introduces many short term dependencies in the data that make the optimization problem much easier\".We copy this by reversing the German sentence after it has been transformed into a list of tokens.**</font>"
   ]
  },
  {
   "cell_type": "markdown",
   "metadata": {
    "id": "BPVYRwB-Un29"
   },
   "source": [
    "Next, we download and load the train, validation and test data. \n",
    "\n",
    "The dataset we'll be using is the [Multi30k dataset](https://github.com/multi30k/dataset). This is a dataset with ~30,000 parallel English, German and French sentences, each with ~12 words per sentence. \n",
    "\n",
    "`exts` specifies which languages to use as the source and target (source goes first) and `fields` specifies which field to use for the source and target."
   ]
  },
  {
   "cell_type": "code",
   "execution_count": 10,
   "metadata": {
    "execution": {
     "iopub.execute_input": "2022-04-02T21:21:53.292927Z",
     "iopub.status.busy": "2022-04-02T21:21:53.292775Z",
     "iopub.status.idle": "2022-04-02T21:21:53.295105Z",
     "shell.execute_reply": "2022-04-02T21:21:53.294840Z",
     "shell.execute_reply.started": "2022-04-02T21:21:53.292912Z"
    },
    "id": "I6x_k8CDWBnS",
    "tags": []
   },
   "outputs": [],
   "source": [
    "#!mkdir /home/harpreet/Insync/google_drive_shaannoor/Data/NLP/Multi30k"
   ]
  },
  {
   "cell_type": "code",
   "execution_count": 11,
   "metadata": {
    "execution": {
     "iopub.execute_input": "2022-04-02T21:21:53.673449Z",
     "iopub.status.busy": "2022-04-02T21:21:53.673308Z",
     "iopub.status.idle": "2022-04-02T21:21:53.676690Z",
     "shell.execute_reply": "2022-04-02T21:21:53.676346Z",
     "shell.execute_reply.started": "2022-04-02T21:21:53.673437Z"
    },
    "id": "nKVEUK7JUn29",
    "outputId": "f6dd09b9-a680-4e9c-b9c2-cbde38cc517c",
    "tags": []
   },
   "outputs": [
    {
     "data": {
      "text/plain": [
       "\"\\ndf = {}\\nfor split in ['train', 'valid', 'test']:\\n    df[split] = pd.DataFrame(Multi30k(root= data_folder/'Multi30k', split=split,language_pair=('de', 'en')))\\n\""
      ]
     },
     "execution_count": 11,
     "metadata": {},
     "output_type": "execute_result"
    }
   ],
   "source": [
    "# need to run only once \n",
    "'''\n",
    "df = {}\n",
    "for split in ['train', 'valid', 'test']:\n",
    "    df[split] = pd.DataFrame(Multi30k(root= data_folder/'Multi30k', split=split,language_pair=('de', 'en')))\n",
    "'''"
   ]
  },
  {
   "cell_type": "code",
   "execution_count": 12,
   "metadata": {
    "execution": {
     "iopub.execute_input": "2022-04-02T21:21:54.042740Z",
     "iopub.status.busy": "2022-04-02T21:21:54.042534Z",
     "iopub.status.idle": "2022-04-02T21:21:54.044939Z",
     "shell.execute_reply": "2022-04-02T21:21:54.044660Z",
     "shell.execute_reply.started": "2022-04-02T21:21:54.042728Z"
    },
    "id": "tnMfvu1htAXi",
    "tags": []
   },
   "outputs": [],
   "source": [
    "#df['train']"
   ]
  },
  {
   "cell_type": "code",
   "execution_count": 13,
   "metadata": {
    "execution": {
     "iopub.execute_input": "2022-04-02T21:21:54.771832Z",
     "iopub.status.busy": "2022-04-02T21:21:54.771511Z",
     "iopub.status.idle": "2022-04-02T21:21:54.773683Z",
     "shell.execute_reply": "2022-04-02T21:21:54.773420Z",
     "shell.execute_reply.started": "2022-04-02T21:21:54.771815Z"
    },
    "id": "V4AiKVXgtAXi",
    "tags": []
   },
   "outputs": [],
   "source": [
    "#print(df['train'][0][0])"
   ]
  },
  {
   "cell_type": "code",
   "execution_count": 14,
   "metadata": {
    "execution": {
     "iopub.execute_input": "2022-04-02T21:21:55.006250Z",
     "iopub.status.busy": "2022-04-02T21:21:55.006105Z",
     "iopub.status.idle": "2022-04-02T21:21:55.009636Z",
     "shell.execute_reply": "2022-04-02T21:21:55.009296Z",
     "shell.execute_reply.started": "2022-04-02T21:21:55.006236Z"
    },
    "id": "EOXULalHtAXi",
    "outputId": "10f22891-1d0c-408f-9d64-419ade48bc34",
    "tags": []
   },
   "outputs": [
    {
     "data": {
      "text/plain": [
       "\"\\ndef tokenizer(data_array, spacy_model, reverse = False):\\n    token_list =[]\\n    disabled = spacy_model.select_pipes(disable= ['tok2vec', 'tagger', 'parser', 'attribute_ruler', 'lemmatizer', 'ner'])\\n    for doc in nlp_en.pipe(data_array, batch_size=1000, n_process=-1):\\n        tokens = [token.text.lower() for token in doc if token.text not in ['\\n']] \\n        if reverse:\\n            tokens.reverse()\\n        token_list.append(tokens)\\n    disabled.restore()\\n    return token_list \\n\""
      ]
     },
     "execution_count": 14,
     "metadata": {},
     "output_type": "execute_result"
    }
   ],
   "source": [
    "# need to run only once \n",
    "'''\n",
    "def tokenizer(data_array, spacy_model, reverse = False):\n",
    "    token_list =[]\n",
    "    disabled = spacy_model.select_pipes(disable= ['tok2vec', 'tagger', 'parser', 'attribute_ruler', 'lemmatizer', 'ner'])\n",
    "    for doc in nlp_en.pipe(data_array, batch_size=1000, n_process=-1):\n",
    "        tokens = [token.text.lower() for token in doc if token.text not in ['\\n']] \n",
    "        if reverse:\n",
    "            tokens.reverse()\n",
    "        token_list.append(tokens)\n",
    "    disabled.restore()\n",
    "    return token_list \n",
    "'''"
   ]
  },
  {
   "cell_type": "code",
   "execution_count": 15,
   "metadata": {
    "execution": {
     "iopub.execute_input": "2022-04-02T21:21:55.481200Z",
     "iopub.status.busy": "2022-04-02T21:21:55.481062Z",
     "iopub.status.idle": "2022-04-02T21:21:55.484224Z",
     "shell.execute_reply": "2022-04-02T21:21:55.483717Z",
     "shell.execute_reply.started": "2022-04-02T21:21:55.481187Z"
    },
    "id": "DZb6UUHltAXi",
    "outputId": "5199cdaf-f2cd-4697-9f51-ac4dab3872fe",
    "tags": []
   },
   "outputs": [
    {
     "data": {
      "text/plain": [
       "\"\\nfor split in ['train', 'valid', 'test']:\\n    df[split]['source_tokens'] = tokenizer(df[split].iloc[:,0].values, nlp_de, reverse = True)\\n    df[split]['target_tokens'] = tokenizer(df[split].iloc[:,1].values, nlp_en)\\n    df[split] = df[split][['source_tokens', 'target_tokens']]\\n\""
      ]
     },
     "execution_count": 15,
     "metadata": {},
     "output_type": "execute_result"
    }
   ],
   "source": [
    "# need to run only once \n",
    "'''\n",
    "for split in ['train', 'valid', 'test']:\n",
    "    df[split]['source_tokens'] = tokenizer(df[split].iloc[:,0].values, nlp_de, reverse = True)\n",
    "    df[split]['target_tokens'] = tokenizer(df[split].iloc[:,1].values, nlp_en)\n",
    "    df[split] = df[split][['source_tokens', 'target_tokens']]\n",
    "'''"
   ]
  },
  {
   "cell_type": "code",
   "execution_count": 16,
   "metadata": {
    "execution": {
     "iopub.execute_input": "2022-04-02T21:21:55.704579Z",
     "iopub.status.busy": "2022-04-02T21:21:55.704457Z",
     "iopub.status.idle": "2022-04-02T21:21:55.706914Z",
     "shell.execute_reply": "2022-04-02T21:21:55.706431Z",
     "shell.execute_reply.started": "2022-04-02T21:21:55.704567Z"
    },
    "id": "xB38G8N5Hd7U"
   },
   "outputs": [],
   "source": [
    "# need to run only once \n",
    "#for split in ['train', 'valid', 'test']:\n",
    "#  df[split]['source_tokens_reverse'] = df[split]['source_tokens'].swifter.apply(lambda x: x[::-1])"
   ]
  },
  {
   "cell_type": "code",
   "execution_count": 17,
   "metadata": {
    "execution": {
     "iopub.execute_input": "2022-04-02T21:21:56.330532Z",
     "iopub.status.busy": "2022-04-02T21:21:56.330359Z",
     "iopub.status.idle": "2022-04-02T21:21:56.332567Z",
     "shell.execute_reply": "2022-04-02T21:21:56.332317Z",
     "shell.execute_reply.started": "2022-04-02T21:21:56.330520Z"
    },
    "id": "tTNql10wHd7V",
    "tags": []
   },
   "outputs": [],
   "source": [
    "#df['train'].to_pickle(project_folder/'df_train_en_de.pickel')\n",
    "#df['test'].to_pickle(project_folder/'df_test_en_de.pickel')\n",
    "#df['valid'].to_pickle(project_folder/'df_valid_en_de.pickel')"
   ]
  },
  {
   "cell_type": "code",
   "execution_count": 18,
   "metadata": {
    "execution": {
     "iopub.execute_input": "2022-04-02T21:21:56.693011Z",
     "iopub.status.busy": "2022-04-02T21:21:56.692871Z",
     "iopub.status.idle": "2022-04-02T21:21:56.846048Z",
     "shell.execute_reply": "2022-04-02T21:21:56.845660Z",
     "shell.execute_reply.started": "2022-04-02T21:21:56.692998Z"
    },
    "id": "2PSlNL-tHd7V",
    "tags": []
   },
   "outputs": [],
   "source": [
    "# this was saved in 2a ---- we can ignore cells above  this\n",
    "df_train = pd.read_pickle(project_folder/'df_train_en_de.pickel')\n",
    "df_test =  pd.read_pickle(project_folder/'df_test_en_de.pickel')\n",
    "df_valid = pd.read_pickle(project_folder/'df_valid_en_de.pickel')"
   ]
  },
  {
   "cell_type": "code",
   "execution_count": 19,
   "metadata": {
    "execution": {
     "iopub.execute_input": "2022-04-02T21:22:01.994432Z",
     "iopub.status.busy": "2022-04-02T21:22:01.994292Z",
     "iopub.status.idle": "2022-04-02T21:22:02.285166Z",
     "shell.execute_reply": "2022-04-02T21:22:02.284802Z",
     "shell.execute_reply.started": "2022-04-02T21:22:01.994419Z"
    },
    "tags": []
   },
   "outputs": [
    {
     "data": {
      "application/vnd.jupyter.widget-view+json": {
       "model_id": "b23571c4f95449398412d0a602cd0a40",
       "version_major": 2,
       "version_minor": 0
      },
      "text/plain": [
       "Pandas Apply:   0%|          | 0/29000 [00:00<?, ?it/s]"
      ]
     },
     "metadata": {},
     "output_type": "display_data"
    }
   ],
   "source": [
    "import swifter\n",
    "df_train['source_tokens_len'] = df_train['source_tokens'].swifter.apply(lambda x: len(x))"
   ]
  },
  {
   "cell_type": "code",
   "execution_count": 20,
   "metadata": {
    "execution": {
     "iopub.execute_input": "2022-04-02T21:22:02.784744Z",
     "iopub.status.busy": "2022-04-02T21:22:02.784600Z",
     "iopub.status.idle": "2022-04-02T21:22:02.787804Z",
     "shell.execute_reply": "2022-04-02T21:22:02.787536Z",
     "shell.execute_reply.started": "2022-04-02T21:22:02.784730Z"
    },
    "tags": []
   },
   "outputs": [
    {
     "data": {
      "text/plain": [
       "12.713896551724138"
      ]
     },
     "execution_count": 20,
     "metadata": {},
     "output_type": "execute_result"
    }
   ],
   "source": [
    "df_train['source_tokens_len'].mean()"
   ]
  },
  {
   "cell_type": "code",
   "execution_count": 21,
   "metadata": {
    "execution": {
     "iopub.execute_input": "2022-04-02T21:22:03.334165Z",
     "iopub.status.busy": "2022-04-02T21:22:03.333993Z",
     "iopub.status.idle": "2022-04-02T21:22:03.337244Z",
     "shell.execute_reply": "2022-04-02T21:22:03.336973Z",
     "shell.execute_reply.started": "2022-04-02T21:22:03.334151Z"
    },
    "tags": []
   },
   "outputs": [
    {
     "data": {
      "text/plain": [
       "1"
      ]
     },
     "execution_count": 21,
     "metadata": {},
     "output_type": "execute_result"
    }
   ],
   "source": [
    "df_train['source_tokens_len'].min()"
   ]
  },
  {
   "cell_type": "code",
   "execution_count": 22,
   "metadata": {
    "execution": {
     "iopub.execute_input": "2022-04-02T21:22:04.456445Z",
     "iopub.status.busy": "2022-04-02T21:22:04.456303Z",
     "iopub.status.idle": "2022-04-02T21:22:04.459734Z",
     "shell.execute_reply": "2022-04-02T21:22:04.459466Z",
     "shell.execute_reply.started": "2022-04-02T21:22:04.456432Z"
    },
    "tags": []
   },
   "outputs": [
    {
     "data": {
      "text/plain": [
       "46"
      ]
     },
     "execution_count": 22,
     "metadata": {},
     "output_type": "execute_result"
    }
   ],
   "source": [
    "df_train['source_tokens_len'].max()"
   ]
  },
  {
   "cell_type": "code",
   "execution_count": 23,
   "metadata": {
    "colab": {
     "base_uri": "https://localhost:8080/",
     "height": 423
    },
    "execution": {
     "iopub.execute_input": "2022-04-02T21:22:04.777253Z",
     "iopub.status.busy": "2022-04-02T21:22:04.777111Z",
     "iopub.status.idle": "2022-04-02T21:22:04.790074Z",
     "shell.execute_reply": "2022-04-02T21:22:04.789670Z",
     "shell.execute_reply.started": "2022-04-02T21:22:04.777239Z"
    },
    "executionInfo": {
     "elapsed": 14,
     "status": "ok",
     "timestamp": 1643995379789,
     "user": {
      "displayName": "Shaannoor Mann",
      "photoUrl": "https://lh3.googleusercontent.com/a/default-user=s64",
      "userId": "02520257695567980696"
     },
     "user_tz": 360
    },
    "id": "fDKpYa7mtAXi",
    "outputId": "75144544-b313-42b2-cbad-cd3d108ea76f",
    "tags": []
   },
   "outputs": [
    {
     "data": {
      "text/html": [
       "<div>\n",
       "<style scoped>\n",
       "    .dataframe tbody tr th:only-of-type {\n",
       "        vertical-align: middle;\n",
       "    }\n",
       "\n",
       "    .dataframe tbody tr th {\n",
       "        vertical-align: top;\n",
       "    }\n",
       "\n",
       "    .dataframe thead th {\n",
       "        text-align: right;\n",
       "    }\n",
       "</style>\n",
       "<table border=\"1\" class=\"dataframe\">\n",
       "  <thead>\n",
       "    <tr style=\"text-align: right;\">\n",
       "      <th></th>\n",
       "      <th>source_tokens</th>\n",
       "      <th>target_tokens</th>\n",
       "      <th>source_tokens_reverse</th>\n",
       "      <th>source_tokens_len</th>\n",
       "    </tr>\n",
       "  </thead>\n",
       "  <tbody>\n",
       "    <tr>\n",
       "      <th>0</th>\n",
       "      <td>[zwei, junge, weiße, männer, sind, i, m, freie...</td>\n",
       "      <td>[two, young, ,, white, males, are, outside, ne...</td>\n",
       "      <td>[., büsche, vieler, nähe, der, in, freien, m, ...</td>\n",
       "      <td>14</td>\n",
       "    </tr>\n",
       "    <tr>\n",
       "      <th>1</th>\n",
       "      <td>[mehrere, männer, mit, schutzhelmen, bedienen,...</td>\n",
       "      <td>[several, men, in, hard, hats, are, operating,...</td>\n",
       "      <td>[., antriebsradsystem, ein, bedienen, schutzhe...</td>\n",
       "      <td>8</td>\n",
       "    </tr>\n",
       "    <tr>\n",
       "      <th>2</th>\n",
       "      <td>[ein, kleines, mädchen, klettert, in, ein, spi...</td>\n",
       "      <td>[a, little, girl, climbing, into, a, wooden, p...</td>\n",
       "      <td>[., holz, aus, spielhaus, ein, in, klettert, m...</td>\n",
       "      <td>10</td>\n",
       "    </tr>\n",
       "    <tr>\n",
       "      <th>3</th>\n",
       "      <td>[ein, mann, in, einem, blauen, hemd, steht, au...</td>\n",
       "      <td>[a, man, in, a, blue, shirt, is, standing, on,...</td>\n",
       "      <td>[., fenster, ein, putzt, und, leiter, einer, a...</td>\n",
       "      <td>15</td>\n",
       "    </tr>\n",
       "    <tr>\n",
       "      <th>4</th>\n",
       "      <td>[zwei, männer, stehen, am, herd, und, bereiten...</td>\n",
       "      <td>[two, men, are, at, the, stove, preparing, foo...</td>\n",
       "      <td>[., zu, essen, bereiten, und, herd, am, stehen...</td>\n",
       "      <td>10</td>\n",
       "    </tr>\n",
       "    <tr>\n",
       "      <th>...</th>\n",
       "      <td>...</td>\n",
       "      <td>...</td>\n",
       "      <td>...</td>\n",
       "      <td>...</td>\n",
       "    </tr>\n",
       "    <tr>\n",
       "      <th>28995</th>\n",
       "      <td>[., wand, verschnörkelten, einer, hinter, schr...</td>\n",
       "      <td>[a, woman, behind, a, scrolled, wall, is, writ...</td>\n",
       "      <td>[eine, frau, schreibt, hinter, einer, verschnö...</td>\n",
       "      <td>8</td>\n",
       "    </tr>\n",
       "    <tr>\n",
       "      <th>28996</th>\n",
       "      <td>[., kletterwand, einer, an, übt, bergsteiger, ...</td>\n",
       "      <td>[a, rock, climber, practices, on, a, rock, cli...</td>\n",
       "      <td>[ein, bergsteiger, übt, an, einer, kletterwand...</td>\n",
       "      <td>7</td>\n",
       "    </tr>\n",
       "    <tr>\n",
       "      <th>28997</th>\n",
       "      <td>[., hauses, einem, vor, straße, einer, auf, ar...</td>\n",
       "      <td>[two, male, construction, workers, are, workin...</td>\n",
       "      <td>[zwei, bauarbeiter, arbeiten, auf, einer, stra...</td>\n",
       "      <td>10</td>\n",
       "    </tr>\n",
       "    <tr>\n",
       "      <th>28998</th>\n",
       "      <td>[., fassade, einer, vor, wagen, einem, mit, ju...</td>\n",
       "      <td>[an, elderly, man, sits, outside, a, storefron...</td>\n",
       "      <td>[ein, älterer, mann, sitzt, mit, einem, jungen...</td>\n",
       "      <td>14</td>\n",
       "    </tr>\n",
       "    <tr>\n",
       "      <th>28999</th>\n",
       "      <td>[., hintergrund, m, i, bergen, und, nebel, mit...</td>\n",
       "      <td>[a, man, in, shorts, and, a, hawaiian, shirt, ...</td>\n",
       "      <td>[ein, mann, in, shorts, und, hawaiihemd, lehnt...</td>\n",
       "      <td>22</td>\n",
       "    </tr>\n",
       "  </tbody>\n",
       "</table>\n",
       "<p>29000 rows × 4 columns</p>\n",
       "</div>"
      ],
      "text/plain": [
       "                                           source_tokens  \\\n",
       "0      [zwei, junge, weiße, männer, sind, i, m, freie...   \n",
       "1      [mehrere, männer, mit, schutzhelmen, bedienen,...   \n",
       "2      [ein, kleines, mädchen, klettert, in, ein, spi...   \n",
       "3      [ein, mann, in, einem, blauen, hemd, steht, au...   \n",
       "4      [zwei, männer, stehen, am, herd, und, bereiten...   \n",
       "...                                                  ...   \n",
       "28995  [., wand, verschnörkelten, einer, hinter, schr...   \n",
       "28996  [., kletterwand, einer, an, übt, bergsteiger, ...   \n",
       "28997  [., hauses, einem, vor, straße, einer, auf, ar...   \n",
       "28998  [., fassade, einer, vor, wagen, einem, mit, ju...   \n",
       "28999  [., hintergrund, m, i, bergen, und, nebel, mit...   \n",
       "\n",
       "                                           target_tokens  \\\n",
       "0      [two, young, ,, white, males, are, outside, ne...   \n",
       "1      [several, men, in, hard, hats, are, operating,...   \n",
       "2      [a, little, girl, climbing, into, a, wooden, p...   \n",
       "3      [a, man, in, a, blue, shirt, is, standing, on,...   \n",
       "4      [two, men, are, at, the, stove, preparing, foo...   \n",
       "...                                                  ...   \n",
       "28995  [a, woman, behind, a, scrolled, wall, is, writ...   \n",
       "28996  [a, rock, climber, practices, on, a, rock, cli...   \n",
       "28997  [two, male, construction, workers, are, workin...   \n",
       "28998  [an, elderly, man, sits, outside, a, storefron...   \n",
       "28999  [a, man, in, shorts, and, a, hawaiian, shirt, ...   \n",
       "\n",
       "                                   source_tokens_reverse  source_tokens_len  \n",
       "0      [., büsche, vieler, nähe, der, in, freien, m, ...                 14  \n",
       "1      [., antriebsradsystem, ein, bedienen, schutzhe...                  8  \n",
       "2      [., holz, aus, spielhaus, ein, in, klettert, m...                 10  \n",
       "3      [., fenster, ein, putzt, und, leiter, einer, a...                 15  \n",
       "4      [., zu, essen, bereiten, und, herd, am, stehen...                 10  \n",
       "...                                                  ...                ...  \n",
       "28995  [eine, frau, schreibt, hinter, einer, verschnö...                  8  \n",
       "28996  [ein, bergsteiger, übt, an, einer, kletterwand...                  7  \n",
       "28997  [zwei, bauarbeiter, arbeiten, auf, einer, stra...                 10  \n",
       "28998  [ein, älterer, mann, sitzt, mit, einem, jungen...                 14  \n",
       "28999  [ein, mann, in, shorts, und, hawaiihemd, lehnt...                 22  \n",
       "\n",
       "[29000 rows x 4 columns]"
      ]
     },
     "execution_count": 23,
     "metadata": {},
     "output_type": "execute_result"
    }
   ],
   "source": [
    "df_train"
   ]
  },
  {
   "cell_type": "code",
   "execution_count": 24,
   "metadata": {
    "colab": {
     "base_uri": "https://localhost:8080/"
    },
    "execution": {
     "iopub.execute_input": "2022-04-02T21:22:05.406286Z",
     "iopub.status.busy": "2022-04-02T21:22:05.406159Z",
     "iopub.status.idle": "2022-04-02T21:22:05.409038Z",
     "shell.execute_reply": "2022-04-02T21:22:05.408735Z",
     "shell.execute_reply.started": "2022-04-02T21:22:05.406272Z"
    },
    "executionInfo": {
     "elapsed": 13,
     "status": "ok",
     "timestamp": 1643995379790,
     "user": {
      "displayName": "Shaannoor Mann",
      "photoUrl": "https://lh3.googleusercontent.com/a/default-user=s64",
      "userId": "02520257695567980696"
     },
     "user_tz": 360
    },
    "id": "BM1UfGJKtAXj",
    "outputId": "2cba46c8-282a-4c22-c262-580ec4cd091b",
    "tags": []
   },
   "outputs": [
    {
     "name": "stdout",
     "output_type": "stream",
     "text": [
      "['.', 'büsche', 'vieler', 'nähe', 'der', 'in', 'freien', 'm', 'i', 'sind', 'männer', 'weiße', 'junge', 'zwei']\n"
     ]
    }
   ],
   "source": [
    "print(df_train['source_tokens_reverse'][0])"
   ]
  },
  {
   "cell_type": "code",
   "execution_count": 25,
   "metadata": {
    "colab": {
     "base_uri": "https://localhost:8080/",
     "height": 423
    },
    "execution": {
     "iopub.execute_input": "2022-04-02T21:22:06.081239Z",
     "iopub.status.busy": "2022-04-02T21:22:06.081096Z",
     "iopub.status.idle": "2022-04-02T21:22:06.091705Z",
     "shell.execute_reply": "2022-04-02T21:22:06.091458Z",
     "shell.execute_reply.started": "2022-04-02T21:22:06.081226Z"
    },
    "executionInfo": {
     "elapsed": 11,
     "status": "ok",
     "timestamp": 1643995379790,
     "user": {
      "displayName": "Shaannoor Mann",
      "photoUrl": "https://lh3.googleusercontent.com/a/default-user=s64",
      "userId": "02520257695567980696"
     },
     "user_tz": 360
    },
    "id": "5vsLkCgKtAXj",
    "outputId": "49d3a2a1-fd8f-44e0-aa78-6937b054f3d0",
    "tags": []
   },
   "outputs": [
    {
     "data": {
      "text/html": [
       "<div>\n",
       "<style scoped>\n",
       "    .dataframe tbody tr th:only-of-type {\n",
       "        vertical-align: middle;\n",
       "    }\n",
       "\n",
       "    .dataframe tbody tr th {\n",
       "        vertical-align: top;\n",
       "    }\n",
       "\n",
       "    .dataframe thead th {\n",
       "        text-align: right;\n",
       "    }\n",
       "</style>\n",
       "<table border=\"1\" class=\"dataframe\">\n",
       "  <thead>\n",
       "    <tr style=\"text-align: right;\">\n",
       "      <th></th>\n",
       "      <th>source_tokens</th>\n",
       "      <th>target_tokens</th>\n",
       "      <th>source_tokens_reverse</th>\n",
       "    </tr>\n",
       "  </thead>\n",
       "  <tbody>\n",
       "    <tr>\n",
       "      <th>0</th>\n",
       "      <td>[ein, mann, mit, einem, orangefarbenen, hut, ,...</td>\n",
       "      <td>[a, man, in, an, orange, hat, starring, at, so...</td>\n",
       "      <td>[., anstarrt, etwas, der, ,, hut, orangefarben...</td>\n",
       "    </tr>\n",
       "    <tr>\n",
       "      <th>1</th>\n",
       "      <td>[ein, boston, terrier, läuft, über, saftig, -,...</td>\n",
       "      <td>[a, boston, terrier, is, running, on, lush, gr...</td>\n",
       "      <td>[., zaun, weißen, einem, vor, gras, grünes, -,...</td>\n",
       "    </tr>\n",
       "    <tr>\n",
       "      <th>2</th>\n",
       "      <td>[ein, mädchen, in, einem, karateanzug, bricht,...</td>\n",
       "      <td>[a, girl, in, karate, uniform, breaking, a, st...</td>\n",
       "      <td>[., tritt, einem, mit, stock, einen, bricht, k...</td>\n",
       "    </tr>\n",
       "    <tr>\n",
       "      <th>3</th>\n",
       "      <td>[fünf, leute, in, winterjacken, und, mit, helm...</td>\n",
       "      <td>[five, people, wearing, winter, jackets, and, ...</td>\n",
       "      <td>[., hintergrund, m, i, schneemobilen, mit, sch...</td>\n",
       "    </tr>\n",
       "    <tr>\n",
       "      <th>4</th>\n",
       "      <td>[leute, reparieren, das, dach, eines, hauses, .]</td>\n",
       "      <td>[people, are, fixing, the, roof, of, a, house, .]</td>\n",
       "      <td>[., hauses, eines, dach, das, reparieren, leute]</td>\n",
       "    </tr>\n",
       "    <tr>\n",
       "      <th>...</th>\n",
       "      <td>...</td>\n",
       "      <td>...</td>\n",
       "      <td>...</td>\n",
       "    </tr>\n",
       "    <tr>\n",
       "      <th>995</th>\n",
       "      <td>[., stehen, herum, sie, um, personen, andere, ...</td>\n",
       "      <td>[marathon, runners, are, racing, on, a, city, ...</td>\n",
       "      <td>[marathonläufer, laufen, auf, einer, städtisch...</td>\n",
       "    </tr>\n",
       "    <tr>\n",
       "      <th>996</th>\n",
       "      <td>[., fahrradfahren, beim, sonnenhut, einen, trä...</td>\n",
       "      <td>[asian, woman, wearing, a, sunhat, while, ridi...</td>\n",
       "      <td>[asiatische, frau, trägt, einen, sonnenhut, be...</td>\n",
       "    </tr>\n",
       "    <tr>\n",
       "      <th>997</th>\n",
       "      <td>[., bäumen, zwei, bei, boden, dem, auf, spiele...</td>\n",
       "      <td>[some, children, are, outside, playing, in, th...</td>\n",
       "      <td>[ein, paar, kinder, sind, i, m, freien, und, s...</td>\n",
       "    </tr>\n",
       "    <tr>\n",
       "      <th>998</th>\n",
       "      <td>[., videospiel, ein, spielt, mann, älterer, ein]</td>\n",
       "      <td>[an, older, man, is, playing, a, video, arcade...</td>\n",
       "      <td>[ein, älterer, mann, spielt, ein, videospiel, .]</td>\n",
       "    </tr>\n",
       "    <tr>\n",
       "      <th>999</th>\n",
       "      <td>[., hintergrund, m, i, berg, einem, mit, küste...</td>\n",
       "      <td>[a, girl, at, the, shore, of, a, beach, with, ...</td>\n",
       "      <td>[ein, mädchen, an, einer, küste, mit, einem, b...</td>\n",
       "    </tr>\n",
       "  </tbody>\n",
       "</table>\n",
       "<p>1000 rows × 3 columns</p>\n",
       "</div>"
      ],
      "text/plain": [
       "                                         source_tokens  \\\n",
       "0    [ein, mann, mit, einem, orangefarbenen, hut, ,...   \n",
       "1    [ein, boston, terrier, läuft, über, saftig, -,...   \n",
       "2    [ein, mädchen, in, einem, karateanzug, bricht,...   \n",
       "3    [fünf, leute, in, winterjacken, und, mit, helm...   \n",
       "4     [leute, reparieren, das, dach, eines, hauses, .]   \n",
       "..                                                 ...   \n",
       "995  [., stehen, herum, sie, um, personen, andere, ...   \n",
       "996  [., fahrradfahren, beim, sonnenhut, einen, trä...   \n",
       "997  [., bäumen, zwei, bei, boden, dem, auf, spiele...   \n",
       "998   [., videospiel, ein, spielt, mann, älterer, ein]   \n",
       "999  [., hintergrund, m, i, berg, einem, mit, küste...   \n",
       "\n",
       "                                         target_tokens  \\\n",
       "0    [a, man, in, an, orange, hat, starring, at, so...   \n",
       "1    [a, boston, terrier, is, running, on, lush, gr...   \n",
       "2    [a, girl, in, karate, uniform, breaking, a, st...   \n",
       "3    [five, people, wearing, winter, jackets, and, ...   \n",
       "4    [people, are, fixing, the, roof, of, a, house, .]   \n",
       "..                                                 ...   \n",
       "995  [marathon, runners, are, racing, on, a, city, ...   \n",
       "996  [asian, woman, wearing, a, sunhat, while, ridi...   \n",
       "997  [some, children, are, outside, playing, in, th...   \n",
       "998  [an, older, man, is, playing, a, video, arcade...   \n",
       "999  [a, girl, at, the, shore, of, a, beach, with, ...   \n",
       "\n",
       "                                 source_tokens_reverse  \n",
       "0    [., anstarrt, etwas, der, ,, hut, orangefarben...  \n",
       "1    [., zaun, weißen, einem, vor, gras, grünes, -,...  \n",
       "2    [., tritt, einem, mit, stock, einen, bricht, k...  \n",
       "3    [., hintergrund, m, i, schneemobilen, mit, sch...  \n",
       "4     [., hauses, eines, dach, das, reparieren, leute]  \n",
       "..                                                 ...  \n",
       "995  [marathonläufer, laufen, auf, einer, städtisch...  \n",
       "996  [asiatische, frau, trägt, einen, sonnenhut, be...  \n",
       "997  [ein, paar, kinder, sind, i, m, freien, und, s...  \n",
       "998   [ein, älterer, mann, spielt, ein, videospiel, .]  \n",
       "999  [ein, mädchen, an, einer, küste, mit, einem, b...  \n",
       "\n",
       "[1000 rows x 3 columns]"
      ]
     },
     "execution_count": 25,
     "metadata": {},
     "output_type": "execute_result"
    }
   ],
   "source": [
    "df_test"
   ]
  },
  {
   "cell_type": "code",
   "execution_count": 26,
   "metadata": {
    "colab": {
     "base_uri": "https://localhost:8080/",
     "height": 423
    },
    "execution": {
     "iopub.execute_input": "2022-04-02T21:22:06.369446Z",
     "iopub.status.busy": "2022-04-02T21:22:06.369305Z",
     "iopub.status.idle": "2022-04-02T21:22:06.380019Z",
     "shell.execute_reply": "2022-04-02T21:22:06.379770Z",
     "shell.execute_reply.started": "2022-04-02T21:22:06.369434Z"
    },
    "executionInfo": {
     "elapsed": 11,
     "status": "ok",
     "timestamp": 1643995379791,
     "user": {
      "displayName": "Shaannoor Mann",
      "photoUrl": "https://lh3.googleusercontent.com/a/default-user=s64",
      "userId": "02520257695567980696"
     },
     "user_tz": 360
    },
    "id": "R8CTtB6_tAXj",
    "outputId": "ff2776c4-1cc1-4c48-9fc3-7e01d47bd4cb",
    "tags": []
   },
   "outputs": [
    {
     "data": {
      "text/html": [
       "<div>\n",
       "<style scoped>\n",
       "    .dataframe tbody tr th:only-of-type {\n",
       "        vertical-align: middle;\n",
       "    }\n",
       "\n",
       "    .dataframe tbody tr th {\n",
       "        vertical-align: top;\n",
       "    }\n",
       "\n",
       "    .dataframe thead th {\n",
       "        text-align: right;\n",
       "    }\n",
       "</style>\n",
       "<table border=\"1\" class=\"dataframe\">\n",
       "  <thead>\n",
       "    <tr style=\"text-align: right;\">\n",
       "      <th></th>\n",
       "      <th>source_tokens</th>\n",
       "      <th>target_tokens</th>\n",
       "      <th>source_tokens_reverse</th>\n",
       "    </tr>\n",
       "  </thead>\n",
       "  <tbody>\n",
       "    <tr>\n",
       "      <th>0</th>\n",
       "      <td>[eine, gruppe, von, männern, lädt, baumwolle, ...</td>\n",
       "      <td>[a, group, of, men, are, loading, cotton, onto...</td>\n",
       "      <td>[lastwagen, einen, auf, baumwolle, lädt, männe...</td>\n",
       "    </tr>\n",
       "    <tr>\n",
       "      <th>1</th>\n",
       "      <td>[ein, mann, schläft, in, einem, grünen, raum, ...</td>\n",
       "      <td>[a, man, sleeping, in, a, green, room, on, a, ...</td>\n",
       "      <td>[., sofa, einem, auf, raum, grünen, einem, in,...</td>\n",
       "    </tr>\n",
       "    <tr>\n",
       "      <th>2</th>\n",
       "      <td>[ein, junge, mit, kopfhörern, sitzt, auf, den,...</td>\n",
       "      <td>[a, boy, wearing, headphones, sits, on, a, wom...</td>\n",
       "      <td>[., frau, einer, schultern, den, auf, sitzt, k...</td>\n",
       "    </tr>\n",
       "    <tr>\n",
       "      <th>3</th>\n",
       "      <td>[zwei, männer, bauen, eine, blaue, eisfischerh...</td>\n",
       "      <td>[two, men, setting, up, a, blue, ice, fishing,...</td>\n",
       "      <td>[auf, see, zugefrorenen, einem, auf, eisfische...</td>\n",
       "    </tr>\n",
       "    <tr>\n",
       "      <th>4</th>\n",
       "      <td>[ein, mann, mit, beginnender, glatze, ,, der, ...</td>\n",
       "      <td>[a, balding, man, wearing, a, red, life, jacke...</td>\n",
       "      <td>[., boot, kleinen, einem, in, sitzt, ,, trägt,...</td>\n",
       "    </tr>\n",
       "    <tr>\n",
       "      <th>...</th>\n",
       "      <td>...</td>\n",
       "      <td>...</td>\n",
       "      <td>...</td>\n",
       "    </tr>\n",
       "    <tr>\n",
       "      <th>1009</th>\n",
       "      <td>[., her, zuckerwatte, mann, ein, stellt, jahrm...</td>\n",
       "      <td>[at, some, sort, of, carnival, ,, a, man, is, ...</td>\n",
       "      <td>[bei, einer, art, jahrmarkt, stellt, ein, mann...</td>\n",
       "    </tr>\n",
       "    <tr>\n",
       "      <th>1010</th>\n",
       "      <td>[., bus, einem, vor, steht, polizisten, von, g...</td>\n",
       "      <td>[a, bunch, of, police, officers, are, standing...</td>\n",
       "      <td>[eine, gruppe, von, polizisten, steht, vor, ei...</td>\n",
       "    </tr>\n",
       "    <tr>\n",
       "      <th>1011</th>\n",
       "      <td>[., hindurch, brillengläser, ihre, durch, blic...</td>\n",
       "      <td>[a, elderly, white, -, haired, woman, is, look...</td>\n",
       "      <td>[eine, ältere, weißhaarige, frau, sieht, in, i...</td>\n",
       "    </tr>\n",
       "    <tr>\n",
       "      <th>1012</th>\n",
       "      <td>[., freien, m, i, telefonzellen, an, stehen, m...</td>\n",
       "      <td>[two, men, are, standing, at, telephone, booth...</td>\n",
       "      <td>[zwei, männer, stehen, an, telefonzellen, i, m...</td>\n",
       "    </tr>\n",
       "    <tr>\n",
       "      <th>1013</th>\n",
       "      <td>[., kommt, toilette, transportablen, einer, au...</td>\n",
       "      <td>[two, women, wearing, red, and, a, man, coming...</td>\n",
       "      <td>[zwei, frauen, in, rot, und, ein, mann, ,, der...</td>\n",
       "    </tr>\n",
       "  </tbody>\n",
       "</table>\n",
       "<p>1014 rows × 3 columns</p>\n",
       "</div>"
      ],
      "text/plain": [
       "                                          source_tokens  \\\n",
       "0     [eine, gruppe, von, männern, lädt, baumwolle, ...   \n",
       "1     [ein, mann, schläft, in, einem, grünen, raum, ...   \n",
       "2     [ein, junge, mit, kopfhörern, sitzt, auf, den,...   \n",
       "3     [zwei, männer, bauen, eine, blaue, eisfischerh...   \n",
       "4     [ein, mann, mit, beginnender, glatze, ,, der, ...   \n",
       "...                                                 ...   \n",
       "1009  [., her, zuckerwatte, mann, ein, stellt, jahrm...   \n",
       "1010  [., bus, einem, vor, steht, polizisten, von, g...   \n",
       "1011  [., hindurch, brillengläser, ihre, durch, blic...   \n",
       "1012  [., freien, m, i, telefonzellen, an, stehen, m...   \n",
       "1013  [., kommt, toilette, transportablen, einer, au...   \n",
       "\n",
       "                                          target_tokens  \\\n",
       "0     [a, group, of, men, are, loading, cotton, onto...   \n",
       "1     [a, man, sleeping, in, a, green, room, on, a, ...   \n",
       "2     [a, boy, wearing, headphones, sits, on, a, wom...   \n",
       "3     [two, men, setting, up, a, blue, ice, fishing,...   \n",
       "4     [a, balding, man, wearing, a, red, life, jacke...   \n",
       "...                                                 ...   \n",
       "1009  [at, some, sort, of, carnival, ,, a, man, is, ...   \n",
       "1010  [a, bunch, of, police, officers, are, standing...   \n",
       "1011  [a, elderly, white, -, haired, woman, is, look...   \n",
       "1012  [two, men, are, standing, at, telephone, booth...   \n",
       "1013  [two, women, wearing, red, and, a, man, coming...   \n",
       "\n",
       "                                  source_tokens_reverse  \n",
       "0     [lastwagen, einen, auf, baumwolle, lädt, männe...  \n",
       "1     [., sofa, einem, auf, raum, grünen, einem, in,...  \n",
       "2     [., frau, einer, schultern, den, auf, sitzt, k...  \n",
       "3     [auf, see, zugefrorenen, einem, auf, eisfische...  \n",
       "4     [., boot, kleinen, einem, in, sitzt, ,, trägt,...  \n",
       "...                                                 ...  \n",
       "1009  [bei, einer, art, jahrmarkt, stellt, ein, mann...  \n",
       "1010  [eine, gruppe, von, polizisten, steht, vor, ei...  \n",
       "1011  [eine, ältere, weißhaarige, frau, sieht, in, i...  \n",
       "1012  [zwei, männer, stehen, an, telefonzellen, i, m...  \n",
       "1013  [zwei, frauen, in, rot, und, ein, mann, ,, der...  \n",
       "\n",
       "[1014 rows x 3 columns]"
      ]
     },
     "execution_count": 26,
     "metadata": {},
     "output_type": "execute_result"
    }
   ],
   "source": [
    "df_valid"
   ]
  },
  {
   "cell_type": "markdown",
   "metadata": {
    "id": "If-BMrTctAXj"
   },
   "source": [
    "## Build Vocab"
   ]
  },
  {
   "cell_type": "code",
   "execution_count": 27,
   "metadata": {
    "execution": {
     "iopub.execute_input": "2022-04-02T21:22:07.466370Z",
     "iopub.status.busy": "2022-04-02T21:22:07.466232Z",
     "iopub.status.idle": "2022-04-02T21:22:07.469457Z",
     "shell.execute_reply": "2022-04-02T21:22:07.468982Z",
     "shell.execute_reply.started": "2022-04-02T21:22:07.466357Z"
    },
    "id": "GY9kL2JxtAXj",
    "tags": []
   },
   "outputs": [],
   "source": [
    "def create_vocab(text, min_freq, specials):\n",
    "    my_counter = Counter()\n",
    "    for line in text:\n",
    "       my_counter.update(line)\n",
    "    my_vocab = vocab(my_counter, min_freq=min_freq)\n",
    "    for i, special in enumerate(specials):\n",
    "        my_vocab.insert_token(special, i)\n",
    "    my_vocab.set_default_index(0)\n",
    "    return my_vocab"
   ]
  },
  {
   "cell_type": "code",
   "execution_count": 28,
   "metadata": {
    "execution": {
     "iopub.execute_input": "2022-04-02T21:22:08.144629Z",
     "iopub.status.busy": "2022-04-02T21:22:08.144489Z",
     "iopub.status.idle": "2022-04-02T21:22:08.221171Z",
     "shell.execute_reply": "2022-04-02T21:22:08.220679Z",
     "shell.execute_reply.started": "2022-04-02T21:22:08.144616Z"
    },
    "id": "dcvIJAIHtAXj",
    "tags": []
   },
   "outputs": [],
   "source": [
    "source_vocab = create_vocab(df_train['source_tokens_reverse'], 2, ['<unk>', '<BOS>', '<EOS>', '<PAD>'])"
   ]
  },
  {
   "cell_type": "code",
   "execution_count": 29,
   "metadata": {
    "colab": {
     "base_uri": "https://localhost:8080/"
    },
    "execution": {
     "iopub.execute_input": "2022-04-02T21:22:08.497407Z",
     "iopub.status.busy": "2022-04-02T21:22:08.497265Z",
     "iopub.status.idle": "2022-04-02T21:22:08.500207Z",
     "shell.execute_reply": "2022-04-02T21:22:08.499953Z",
     "shell.execute_reply.started": "2022-04-02T21:22:08.497394Z"
    },
    "executionInfo": {
     "elapsed": 4,
     "status": "ok",
     "timestamp": 1643995379915,
     "user": {
      "displayName": "Shaannoor Mann",
      "photoUrl": "https://lh3.googleusercontent.com/a/default-user=s64",
      "userId": "02520257695567980696"
     },
     "user_tz": 360
    },
    "id": "qtEt9Sh-tAXk",
    "outputId": "51fe0573-13db-4dd8-9bcc-444983e279ab",
    "tags": []
   },
   "outputs": [
    {
     "data": {
      "text/plain": [
       "7874"
      ]
     },
     "execution_count": 29,
     "metadata": {},
     "output_type": "execute_result"
    }
   ],
   "source": [
    "len(source_vocab)"
   ]
  },
  {
   "cell_type": "code",
   "execution_count": 30,
   "metadata": {
    "colab": {
     "base_uri": "https://localhost:8080/",
     "height": 423
    },
    "execution": {
     "iopub.execute_input": "2022-04-02T21:22:09.256341Z",
     "iopub.status.busy": "2022-04-02T21:22:09.256218Z",
     "iopub.status.idle": "2022-04-02T21:22:09.267667Z",
     "shell.execute_reply": "2022-04-02T21:22:09.267155Z",
     "shell.execute_reply.started": "2022-04-02T21:22:09.256327Z"
    },
    "executionInfo": {
     "elapsed": 135,
     "status": "ok",
     "timestamp": 1643995380047,
     "user": {
      "displayName": "Shaannoor Mann",
      "photoUrl": "https://lh3.googleusercontent.com/a/default-user=s64",
      "userId": "02520257695567980696"
     },
     "user_tz": 360
    },
    "id": "bf9fu5L2tAXk",
    "outputId": "36c7a483-69cd-4144-d3e7-9861f4313257",
    "tags": []
   },
   "outputs": [
    {
     "data": {
      "text/html": [
       "<div>\n",
       "<style scoped>\n",
       "    .dataframe tbody tr th:only-of-type {\n",
       "        vertical-align: middle;\n",
       "    }\n",
       "\n",
       "    .dataframe tbody tr th {\n",
       "        vertical-align: top;\n",
       "    }\n",
       "\n",
       "    .dataframe thead th {\n",
       "        text-align: right;\n",
       "    }\n",
       "</style>\n",
       "<table border=\"1\" class=\"dataframe\">\n",
       "  <thead>\n",
       "    <tr style=\"text-align: right;\">\n",
       "      <th></th>\n",
       "      <th>tokens</th>\n",
       "      <th>index</th>\n",
       "    </tr>\n",
       "  </thead>\n",
       "  <tbody>\n",
       "    <tr>\n",
       "      <th>4984</th>\n",
       "      <td>&lt;unk&gt;</td>\n",
       "      <td>0</td>\n",
       "    </tr>\n",
       "    <tr>\n",
       "      <th>3312</th>\n",
       "      <td>&lt;BOS&gt;</td>\n",
       "      <td>1</td>\n",
       "    </tr>\n",
       "    <tr>\n",
       "      <th>3863</th>\n",
       "      <td>&lt;EOS&gt;</td>\n",
       "      <td>2</td>\n",
       "    </tr>\n",
       "    <tr>\n",
       "      <th>4540</th>\n",
       "      <td>&lt;PAD&gt;</td>\n",
       "      <td>3</td>\n",
       "    </tr>\n",
       "    <tr>\n",
       "      <th>3777</th>\n",
       "      <td>.</td>\n",
       "      <td>4</td>\n",
       "    </tr>\n",
       "    <tr>\n",
       "      <th>...</th>\n",
       "      <td>...</td>\n",
       "      <td>...</td>\n",
       "    </tr>\n",
       "    <tr>\n",
       "      <th>2</th>\n",
       "      <td>geländefahrzeugs</td>\n",
       "      <td>7869</td>\n",
       "    </tr>\n",
       "    <tr>\n",
       "      <th>1</th>\n",
       "      <td>sonnentag</td>\n",
       "      <td>7870</td>\n",
       "    </tr>\n",
       "    <tr>\n",
       "      <th>0</th>\n",
       "      <td>lederoberteil</td>\n",
       "      <td>7871</td>\n",
       "    </tr>\n",
       "    <tr>\n",
       "      <th>2376</th>\n",
       "      <td>reisfeld</td>\n",
       "      <td>7872</td>\n",
       "    </tr>\n",
       "    <tr>\n",
       "      <th>276</th>\n",
       "      <td>garnelen</td>\n",
       "      <td>7873</td>\n",
       "    </tr>\n",
       "  </tbody>\n",
       "</table>\n",
       "<p>7874 rows × 2 columns</p>\n",
       "</div>"
      ],
      "text/plain": [
       "                tokens  index\n",
       "4984             <unk>      0\n",
       "3312             <BOS>      1\n",
       "3863             <EOS>      2\n",
       "4540             <PAD>      3\n",
       "3777                 .      4\n",
       "...                ...    ...\n",
       "2     geländefahrzeugs   7869\n",
       "1            sonnentag   7870\n",
       "0        lederoberteil   7871\n",
       "2376          reisfeld   7872\n",
       "276           garnelen   7873\n",
       "\n",
       "[7874 rows x 2 columns]"
      ]
     },
     "execution_count": 30,
     "metadata": {},
     "output_type": "execute_result"
    }
   ],
   "source": [
    "pd.DataFrame(source_vocab.get_stoi().items(), columns=['tokens', 'index']).sort_values(by = ['index'])"
   ]
  },
  {
   "cell_type": "code",
   "execution_count": 31,
   "metadata": {
    "colab": {
     "base_uri": "https://localhost:8080/"
    },
    "execution": {
     "iopub.execute_input": "2022-04-02T21:22:09.931508Z",
     "iopub.status.busy": "2022-04-02T21:22:09.931354Z",
     "iopub.status.idle": "2022-04-02T21:22:09.934881Z",
     "shell.execute_reply": "2022-04-02T21:22:09.934354Z",
     "shell.execute_reply.started": "2022-04-02T21:22:09.931495Z"
    },
    "executionInfo": {
     "elapsed": 2,
     "status": "ok",
     "timestamp": 1643995380047,
     "user": {
      "displayName": "Shaannoor Mann",
      "photoUrl": "https://lh3.googleusercontent.com/a/default-user=s64",
      "userId": "02520257695567980696"
     },
     "user_tz": 360
    },
    "id": "8pKCTbN6tAXk",
    "outputId": "07e63922-a91f-40ec-ce96-118c31d2d529",
    "tags": []
   },
   "outputs": [
    {
     "data": {
      "text/plain": [
       "0"
      ]
     },
     "execution_count": 31,
     "metadata": {},
     "output_type": "execute_result"
    }
   ],
   "source": [
    "# check index of unknown word - it should be zero\n",
    "source_vocab['abracdabra']"
   ]
  },
  {
   "cell_type": "code",
   "execution_count": 32,
   "metadata": {
    "execution": {
     "iopub.execute_input": "2022-04-02T21:22:10.358929Z",
     "iopub.status.busy": "2022-04-02T21:22:10.358784Z",
     "iopub.status.idle": "2022-04-02T21:22:10.434146Z",
     "shell.execute_reply": "2022-04-02T21:22:10.433648Z",
     "shell.execute_reply.started": "2022-04-02T21:22:10.358916Z"
    },
    "id": "qkXg6IratAXk",
    "tags": []
   },
   "outputs": [],
   "source": [
    "target_vocab = create_vocab(df_train['target_tokens'], 2, ['<unk>', '<BOS>', '<EOS>', '<PAD>'])"
   ]
  },
  {
   "cell_type": "code",
   "execution_count": 33,
   "metadata": {
    "colab": {
     "base_uri": "https://localhost:8080/"
    },
    "execution": {
     "iopub.execute_input": "2022-04-02T21:22:10.614325Z",
     "iopub.status.busy": "2022-04-02T21:22:10.614180Z",
     "iopub.status.idle": "2022-04-02T21:22:10.617888Z",
     "shell.execute_reply": "2022-04-02T21:22:10.617447Z",
     "shell.execute_reply.started": "2022-04-02T21:22:10.614311Z"
    },
    "executionInfo": {
     "elapsed": 3,
     "status": "ok",
     "timestamp": 1643995380202,
     "user": {
      "displayName": "Shaannoor Mann",
      "photoUrl": "https://lh3.googleusercontent.com/a/default-user=s64",
      "userId": "02520257695567980696"
     },
     "user_tz": 360
    },
    "id": "v_Y8C62GtAXk",
    "outputId": "5acd4d1a-89c8-4feb-f9e7-fbe0410de095",
    "tags": []
   },
   "outputs": [
    {
     "data": {
      "text/plain": [
       "5893"
      ]
     },
     "execution_count": 33,
     "metadata": {},
     "output_type": "execute_result"
    }
   ],
   "source": [
    "len(target_vocab)"
   ]
  },
  {
   "cell_type": "markdown",
   "metadata": {
    "id": "feccYoeWtAXk",
    "tags": []
   },
   "source": [
    "# Create Dataset and Dataloader"
   ]
  },
  {
   "cell_type": "code",
   "execution_count": 34,
   "metadata": {
    "execution": {
     "iopub.execute_input": "2022-04-02T21:22:12.041700Z",
     "iopub.status.busy": "2022-04-02T21:22:12.041563Z",
     "iopub.status.idle": "2022-04-02T21:22:12.044738Z",
     "shell.execute_reply": "2022-04-02T21:22:12.044303Z",
     "shell.execute_reply.started": "2022-04-02T21:22:12.041687Z"
    },
    "id": "fCMXepKUtAXk",
    "tags": []
   },
   "outputs": [],
   "source": [
    "class EngGerman(Dataset):\n",
    "    def __init__(self, X1, X2):\n",
    "        self.X1 = X1\n",
    "        self.X2 = X2\n",
    "        \n",
    "    def __len__(self):\n",
    "        return len(self.X1)\n",
    "    \n",
    "    def __getitem__(self, indices):\n",
    "        return (self.X1.iloc[indices] , self.X2.iloc[indices])         \n",
    "    "
   ]
  },
  {
   "cell_type": "code",
   "execution_count": 35,
   "metadata": {
    "execution": {
     "iopub.execute_input": "2022-04-02T21:22:12.629454Z",
     "iopub.status.busy": "2022-04-02T21:22:12.629276Z",
     "iopub.status.idle": "2022-04-02T21:22:12.633329Z",
     "shell.execute_reply": "2022-04-02T21:22:12.632801Z",
     "shell.execute_reply.started": "2022-04-02T21:22:12.629436Z"
    },
    "id": "-Q32VBamtAXl",
    "tags": []
   },
   "outputs": [],
   "source": [
    "trainset = EngGerman(df_train['source_tokens_reverse'], df_train['target_tokens'])\n",
    "testset = EngGerman(df_test['source_tokens_reverse'], df_test['target_tokens'])\n",
    "validset = EngGerman(df_valid['source_tokens_reverse'], df_valid['target_tokens'])"
   ]
  },
  {
   "cell_type": "code",
   "execution_count": 36,
   "metadata": {
    "colab": {
     "base_uri": "https://localhost:8080/"
    },
    "execution": {
     "iopub.execute_input": "2022-04-02T21:22:13.480949Z",
     "iopub.status.busy": "2022-04-02T21:22:13.480712Z",
     "iopub.status.idle": "2022-04-02T21:22:13.484002Z",
     "shell.execute_reply": "2022-04-02T21:22:13.483631Z",
     "shell.execute_reply.started": "2022-04-02T21:22:13.480920Z"
    },
    "executionInfo": {
     "elapsed": 1,
     "status": "ok",
     "timestamp": 1643997238474,
     "user": {
      "displayName": "Shaannoor Mann",
      "photoUrl": "https://lh3.googleusercontent.com/a/default-user=s64",
      "userId": "02520257695567980696"
     },
     "user_tz": 360
    },
    "id": "2md5tDSutAXl",
    "outputId": "26f38f06-89a8-43c2-8988-73f214e91b7e",
    "tags": []
   },
   "outputs": [
    {
     "data": {
      "text/plain": [
       "(['.',\n",
       "  'büsche',\n",
       "  'vieler',\n",
       "  'nähe',\n",
       "  'der',\n",
       "  'in',\n",
       "  'freien',\n",
       "  'm',\n",
       "  'i',\n",
       "  'sind',\n",
       "  'männer',\n",
       "  'weiße',\n",
       "  'junge',\n",
       "  'zwei'],\n",
       " ['two',\n",
       "  'young',\n",
       "  ',',\n",
       "  'white',\n",
       "  'males',\n",
       "  'are',\n",
       "  'outside',\n",
       "  'near',\n",
       "  'many',\n",
       "  'bushes',\n",
       "  '.'])"
      ]
     },
     "execution_count": 36,
     "metadata": {},
     "output_type": "execute_result"
    }
   ],
   "source": [
    "trainset.__getitem__(0)"
   ]
  },
  {
   "cell_type": "code",
   "execution_count": 37,
   "metadata": {
    "colab": {
     "base_uri": "https://localhost:8080/"
    },
    "execution": {
     "iopub.execute_input": "2022-04-02T21:22:13.710543Z",
     "iopub.status.busy": "2022-04-02T21:22:13.710390Z",
     "iopub.status.idle": "2022-04-02T21:22:13.713526Z",
     "shell.execute_reply": "2022-04-02T21:22:13.713226Z",
     "shell.execute_reply.started": "2022-04-02T21:22:13.710530Z"
    },
    "executionInfo": {
     "elapsed": 141,
     "status": "ok",
     "timestamp": 1643997241933,
     "user": {
      "displayName": "Shaannoor Mann",
      "photoUrl": "https://lh3.googleusercontent.com/a/default-user=s64",
      "userId": "02520257695567980696"
     },
     "user_tz": 360
    },
    "id": "L18xzZrltAXl",
    "outputId": "c90ada94-83bb-4fe3-ca77-8988c01b9199",
    "tags": []
   },
   "outputs": [
    {
     "data": {
      "text/plain": [
       "(29000, 1000, 1014)"
      ]
     },
     "execution_count": 37,
     "metadata": {},
     "output_type": "execute_result"
    }
   ],
   "source": [
    "len(trainset), len(testset), len(validset)"
   ]
  },
  {
   "cell_type": "code",
   "execution_count": 38,
   "metadata": {
    "execution": {
     "iopub.execute_input": "2022-04-02T21:22:14.391743Z",
     "iopub.status.busy": "2022-04-02T21:22:14.391591Z",
     "iopub.status.idle": "2022-04-02T21:22:14.394135Z",
     "shell.execute_reply": "2022-04-02T21:22:14.393849Z",
     "shell.execute_reply.started": "2022-04-02T21:22:14.391730Z"
    },
    "id": "bPg8WslltAXl",
    "tags": []
   },
   "outputs": [],
   "source": [
    "def text_transform (my_vocab, text):\n",
    "     text_numerical = [my_vocab[token] for token in text]\n",
    "     return torch.tensor([my_vocab['<BOS>']] + text_numerical + [my_vocab['<EOS>']])\n",
    "     #return list(my_vocab['<BOS>']) + text_numerical + list(my_vocab['<EOS>'])"
   ]
  },
  {
   "cell_type": "code",
   "execution_count": 39,
   "metadata": {
    "colab": {
     "base_uri": "https://localhost:8080/"
    },
    "execution": {
     "iopub.execute_input": "2022-04-02T21:22:14.669604Z",
     "iopub.status.busy": "2022-04-02T21:22:14.669479Z",
     "iopub.status.idle": "2022-04-02T21:22:14.673844Z",
     "shell.execute_reply": "2022-04-02T21:22:14.673588Z",
     "shell.execute_reply.started": "2022-04-02T21:22:14.669590Z"
    },
    "executionInfo": {
     "elapsed": 105,
     "status": "ok",
     "timestamp": 1643997245283,
     "user": {
      "displayName": "Shaannoor Mann",
      "photoUrl": "https://lh3.googleusercontent.com/a/default-user=s64",
      "userId": "02520257695567980696"
     },
     "user_tz": 360
    },
    "id": "bpQKiRHLtAXl",
    "outputId": "5ae6fbd3-f4ad-4726-de6d-0dcdf2d0bca4",
    "tags": []
   },
   "outputs": [
    {
     "name": "stdout",
     "output_type": "stream",
     "text": [
      "['a', 'black', 'dog', 'and', 'a', 'spotted', 'dog', 'are', 'fighting']\n"
     ]
    },
    {
     "data": {
      "text/plain": [
       "tensor([ 1, 21, 90, 91, 92, 21, 93, 91,  9, 94,  2])"
      ]
     },
     "execution_count": 39,
     "metadata": {},
     "output_type": "execute_result"
    }
   ],
   "source": [
    "text = trainset.__getitem__(12)[1]\n",
    "print(text)\n",
    "text_transform(target_vocab, text)"
   ]
  },
  {
   "cell_type": "code",
   "execution_count": 40,
   "metadata": {
    "execution": {
     "iopub.execute_input": "2022-04-02T21:22:15.005770Z",
     "iopub.status.busy": "2022-04-02T21:22:15.005613Z",
     "iopub.status.idle": "2022-04-02T21:22:15.008651Z",
     "shell.execute_reply": "2022-04-02T21:22:15.008370Z",
     "shell.execute_reply.started": "2022-04-02T21:22:15.005742Z"
    },
    "id": "CgKupdZ1Un2-",
    "tags": []
   },
   "outputs": [],
   "source": [
    "def collate_batch(batch):\n",
    "   source_list, target_list = [], []\n",
    "   for (source_text, target_text) in batch:\n",
    "        source_transform = text_transform(source_vocab, source_text)\n",
    "        source_list.append(source_transform)\n",
    "        target_transform =text_transform(target_vocab, target_text)\n",
    "        target_list.append(target_transform)\n",
    "        \n",
    "   source_pad = pad_sequence(source_list, padding_value=3)\n",
    "   target_pad = pad_sequence(target_list, padding_value=3)\n",
    "   #print(source_list)\n",
    "   return (source_pad, target_pad)"
   ]
  },
  {
   "cell_type": "code",
   "execution_count": 41,
   "metadata": {
    "execution": {
     "iopub.execute_input": "2022-04-02T21:22:15.721412Z",
     "iopub.status.busy": "2022-04-02T21:22:15.721240Z",
     "iopub.status.idle": "2022-04-02T21:22:15.723844Z",
     "shell.execute_reply": "2022-04-02T21:22:15.723552Z",
     "shell.execute_reply.started": "2022-04-02T21:22:15.721385Z"
    },
    "id": "EqHCA63DUn2_",
    "tags": []
   },
   "outputs": [],
   "source": [
    "batch_size = 2\n",
    "\n",
    "train_loader = DataLoader(trainset, batch_size=batch_size, shuffle=True, \n",
    "                              collate_fn=collate_batch)"
   ]
  },
  {
   "cell_type": "code",
   "execution_count": 42,
   "metadata": {
    "colab": {
     "base_uri": "https://localhost:8080/"
    },
    "execution": {
     "iopub.execute_input": "2022-04-02T21:22:16.039654Z",
     "iopub.status.busy": "2022-04-02T21:22:16.039499Z",
     "iopub.status.idle": "2022-04-02T21:22:16.062080Z",
     "shell.execute_reply": "2022-04-02T21:22:16.061621Z",
     "shell.execute_reply.started": "2022-04-02T21:22:16.039641Z"
    },
    "executionInfo": {
     "elapsed": 246,
     "status": "ok",
     "timestamp": 1643996461437,
     "user": {
      "displayName": "Shaannoor Mann",
      "photoUrl": "https://lh3.googleusercontent.com/a/default-user=s64",
      "userId": "02520257695567980696"
     },
     "user_tz": 360
    },
    "id": "-NUpXpJYtAXm",
    "outputId": "51e426c8-a4ff-4898-ba95-27cd06327fab",
    "tags": []
   },
   "outputs": [
    {
     "name": "stdout",
     "output_type": "stream",
     "text": [
      "tensor([[   1,    1],\n",
      "        [  18,   52],\n",
      "        [3864,   73],\n",
      "        [ 834,   21],\n",
      "        [ 205,  249],\n",
      "        [ 141,  253],\n",
      "        [ 562,   58],\n",
      "        [  50,    0],\n",
      "        [  49,  413],\n",
      "        [ 400,   41],\n",
      "        [ 194,   90],\n",
      "        [   9, 7538],\n",
      "        [   8,    4],\n",
      "        [ 657,    2],\n",
      "        [ 576,    3],\n",
      "        [   4,    3],\n",
      "        [   2,    3]])\n"
     ]
    }
   ],
   "source": [
    "for source, target in train_loader:\n",
    "  print(source)\n",
    "  break"
   ]
  },
  {
   "cell_type": "code",
   "execution_count": 43,
   "metadata": {
    "execution": {
     "iopub.execute_input": "2022-04-02T21:22:16.291786Z",
     "iopub.status.busy": "2022-04-02T21:22:16.291647Z",
     "iopub.status.idle": "2022-04-02T21:22:16.294941Z",
     "shell.execute_reply": "2022-04-02T21:22:16.294487Z",
     "shell.execute_reply.started": "2022-04-02T21:22:16.291773Z"
    },
    "id": "axyZQ-4z1B-z",
    "tags": []
   },
   "outputs": [],
   "source": [
    "BATCH_SIZE = 128\n",
    "\n",
    "train_loader = DataLoader(trainset, batch_size=BATCH_SIZE, shuffle=True, \n",
    "                              collate_fn=collate_batch)\n",
    "valid_loader = DataLoader(validset, batch_size=BATCH_SIZE, shuffle=True, \n",
    "                              collate_fn=collate_batch)\n",
    "test_loader = DataLoader(testset, batch_size=BATCH_SIZE, shuffle=True, \n",
    "                              collate_fn=collate_batch)"
   ]
  },
  {
   "cell_type": "markdown",
   "metadata": {
    "id": "Mhyhh7uCUn2_"
   },
   "source": [
    "## Building the Seq2Seq Model\n",
    "\n",
    "We'll be building our model in three parts. The encoder, the decoder and a seq2seq model that encapsulates the encoder and decoder and will provide a way to interface with each.\n",
    "\n",
    "### Encoder\n",
    "\n",
    "First, the encoder, a 2 layer LSTM. The paper we are implementing uses a 4-layer LSTM, but in the interest of training time we cut this down to 2-layers. The concept of multi-layer RNNs is easy to expand from 2 to 4 layers. \n",
    "\n",
    "For a multi-layer RNN, the input sentence, $X$, after being embedded goes into the first (bottom) layer of the RNN and hidden states, $H=\\{h_1, h_2, ..., h_T\\}$, output by this layer are used as inputs to the RNN in the layer above. Thus, representing each layer with a superscript, the hidden states in the first layer are given by:\n",
    "\n",
    "$$h_t^1 = \\text{EncoderRNN}^1(e(x_t), h_{t-1}^1)$$\n",
    "\n",
    "The hidden states in the second layer are given by:\n",
    "\n",
    "$$h_t^2 = \\text{EncoderRNN}^2(h_t^1, h_{t-1}^2)$$\n",
    "\n",
    "Using a multi-layer RNN also means we'll also need an initial hidden state as input per layer, $h_0^l$, and we will also output a context vector per layer, $z^l$.\n",
    "\n",
    "Without going into too much detail about LSTMs (see [this](https://colah.github.io/posts/2015-08-Understanding-LSTMs/) blog post to learn more about them), all we need to know is that they're a type of RNN which instead of just taking in a hidden state and returning a new hidden state per time-step, also take in and return a *cell state*, $c_t$, per time-step.\n",
    "\n",
    "$$\\begin{align*}\n",
    "h_t &= \\text{RNN}(e(x_t), h_{t-1})\\\\\n",
    "(h_t, c_t) &= \\text{LSTM}(e(x_t), h_{t-1}, c_{t-1})\n",
    "\\end{align*}$$\n",
    "\n",
    "We can just think of $c_t$ as another type of hidden state. Similar to $h_0^l$, $c_0^l$ will be initialized to a tensor of all zeros. Also, our context vector will now be both the final hidden state and the final cell state, i.e. $z^l = (h_T^l, c_T^l)$.\n",
    "\n",
    "Extending our multi-layer equations to LSTMs, we get:\n",
    "\n",
    "$$\\begin{align*}\n",
    "(h_t^1, c_t^1) &= \\text{EncoderLSTM}^1(e(x_t), (h_{t-1}^1, c_{t-1}^1))\\\\\n",
    "(h_t^2, c_t^2) &= \\text{EncoderLSTM}^2(h_t^1, (h_{t-1}^2, c_{t-1}^2))\n",
    "\\end{align*}$$\n",
    "\n",
    "Note how only our hidden state from the first layer is passed as input to the second layer, and not the cell state.\n",
    "\n",
    "So our encoder looks something like this: \n",
    "\n",
    "![](assets/seq2seq2.png)\n",
    "\n",
    "We create this in code by making an `Encoder` module, which requires we inherit from `torch.nn.Module` and use the `super().__init__()` as some boilerplate code. The encoder takes the following arguments:\n",
    "- `input_dim` is the size/dimensionality of the one-hot vectors that will be input to the encoder. This is equal to the input (source) vocabulary size.\n",
    "- `emb_dim` is the dimensionality of the embedding layer. This layer converts the one-hot vectors into dense vectors with `emb_dim` dimensions. \n",
    "- `hid_dim` is the dimensionality of the hidden and cell states.\n",
    "- `n_layers` is the number of layers in the RNN.\n",
    "- `dropout` is the amount of dropout to use. This is a regularization parameter to prevent overfitting. Check out [this](https://www.coursera.org/lecture/deep-neural-network/understanding-dropout-YaGbR) for more details about dropout.\n",
    "\n",
    "We aren't going to discuss the embedding layer in detail during these tutorials. All we need to know is that there is a step before the words - technically, the indexes of the words - are passed into the RNN, where the words are transformed into vectors. To read more about word embeddings, check these articles: [1](https://monkeylearn.com/blog/word-embeddings-transform-text-numbers/), [2](http://p.migdal.pl/2017/01/06/king-man-woman-queen-why.html), [3](http://mccormickml.com/2016/04/19/word2vec-tutorial-the-skip-gram-model/), [4](http://mccormickml.com/2017/01/11/word2vec-tutorial-part-2-negative-sampling/). \n",
    "\n",
    "The embedding layer is created using `nn.Embedding`, the LSTM with `nn.LSTM` and a dropout layer with `nn.Dropout`. Check the PyTorch [documentation](https://pytorch.org/docs/stable/nn.html) for more about these.\n",
    "\n",
    "One thing to note is that the `dropout` argument to the LSTM is how much dropout to apply between the layers of a multi-layer RNN, i.e. between the hidden states output from layer $l$ and those same hidden states being used for the input of layer $l+1$.\n",
    "\n",
    "In the `forward` method, we pass in the source sentence, $X$, which is converted into dense vectors using the `embedding` layer, and then dropout is applied. These embeddings are then passed into the RNN. As we pass a whole sequence to the RNN, it will automatically do the recurrent calculation of the hidden states over the whole sequence for us! Notice that we do not pass an initial hidden or cell state to the RNN. This is because, as noted in the [documentation](https://pytorch.org/docs/stable/nn.html#torch.nn.LSTM), that if no hidden/cell state is passed to the RNN, it will automatically create an initial hidden/cell state as a tensor of all zeros. \n",
    "\n",
    "The RNN returns: `outputs` (the top-layer hidden state for each time-step), `hidden` (the final hidden state for each layer, $h_T$, stacked on top of each other) and `cell` (the final cell state for each layer, $c_T$, stacked on top of each other).\n",
    "\n",
    "As we only need the final hidden and cell states (to make our context vector), `forward` only returns `hidden` and `cell`. \n",
    "\n",
    "The sizes of each of the tensors is left as comments in the code. In this implementation `n_directions` will always be 1, however note that bidirectional RNNs (covered in tutorial 3) will have `n_directions` as 2."
   ]
  },
  {
   "cell_type": "code",
   "execution_count": 44,
   "metadata": {
    "execution": {
     "iopub.execute_input": "2022-04-02T21:22:18.216191Z",
     "iopub.status.busy": "2022-04-02T21:22:18.216052Z",
     "iopub.status.idle": "2022-04-02T21:22:18.219573Z",
     "shell.execute_reply": "2022-04-02T21:22:18.219259Z",
     "shell.execute_reply.started": "2022-04-02T21:22:18.216178Z"
    },
    "executionInfo": {
     "elapsed": 188,
     "status": "aborted",
     "timestamp": 1644710476730,
     "user": {
      "displayName": "Harpreet Singh",
      "photoUrl": "https://lh3.googleusercontent.com/a-/AOh14GgoHXww3A9iD3K6JH0yfUWV-xv9zq1wI6_3E9i8yw=s64",
      "userId": "10443507700807192111"
     },
     "user_tz": 360
    },
    "id": "zabfsjZOUn3A",
    "tags": []
   },
   "outputs": [],
   "source": [
    "class Encoder(nn.Module):\n",
    "    def __init__(self, input_dim, emb_dim, hid_dim, n_layers, dropout):\n",
    "        super().__init__()\n",
    "        \n",
    "        self.hid_dim = hid_dim\n",
    "        self.n_layers = n_layers\n",
    "        \n",
    "        self.embedding = nn.Embedding(input_dim, emb_dim, padding_idx=3)\n",
    "        \n",
    "        self.rnn = nn.LSTM(emb_dim, hid_dim, n_layers, dropout = dropout)\n",
    "        \n",
    "        self.dropout = nn.Dropout(dropout)\n",
    "        \n",
    "    def forward(self, src):\n",
    "        \n",
    "        #src = [src len, batch size]\n",
    "        \n",
    "        embedded = self.dropout(self.embedding(src))\n",
    "        \n",
    "        #embedded = [src len, batch size, emb dim]\n",
    "        \n",
    "        outputs, (hidden, cell) = self.rnn(embedded)\n",
    "        \n",
    "        #outputs = [src len, batch size, hid dim * n directions]\n",
    "        #hidden = [n layers * n directions, batch size, hid dim]\n",
    "        #cell = [n layers * n directions, batch size, hid dim]\n",
    "        \n",
    "        #outputs are always from the top hidden layer\n",
    "        \n",
    "        return hidden, cell"
   ]
  },
  {
   "cell_type": "markdown",
   "metadata": {
    "id": "7esX6rp0Un3A"
   },
   "source": [
    "### Decoder\n",
    "\n",
    "Next, we'll build our decoder, which will also be a 2-layer (4 in the paper) LSTM.\n",
    "\n",
    "![](assets/seq2seq3.png)\n",
    "\n",
    "The `Decoder` class does a single step of decoding, i.e. it ouputs single token per time-step. The first layer will receive a hidden and cell state from the previous time-step, $(s_{t-1}^1, c_{t-1}^1)$, and feeds it through the LSTM with the current embedded token, $y_t$, to produce a new hidden and cell state, $(s_t^1, c_t^1)$. The subsequent layers will use the hidden state from the layer below, $s_t^{l-1}$, and the previous hidden and cell states from their layer, $(s_{t-1}^l, c_{t-1}^l)$. This provides equations very similar to those in the encoder.\n",
    "\n",
    "$$\\begin{align*}\n",
    "(s_t^1, c_t^1) = \\text{DecoderLSTM}^1(d(y_t), (s_{t-1}^1, c_{t-1}^1))\\\\\n",
    "(s_t^2, c_t^2) = \\text{DecoderLSTM}^2(s_t^1, (s_{t-1}^2, c_{t-1}^2))\n",
    "\\end{align*}$$\n",
    "\n",
    "Remember that the initial hidden and cell states to our decoder are our context vectors, which are the final hidden and cell states of our encoder from the same layer, i.e. $(s_0^l,c_0^l)=z^l=(h_T^l,c_T^l)$.\n",
    "\n",
    "We then pass the hidden state from the top layer of the RNN, $s_t^L$, through a linear layer, $f$, to make a prediction of what the next token in the target (output) sequence should be, $\\hat{y}_{t+1}$. \n",
    "\n",
    "$$\\hat{y}_{t+1} = f(s_t^L)$$\n",
    "\n",
    "The arguments and initialization are similar to the `Encoder` class, except we now have an `output_dim` which is the size of the vocabulary for the output/target. There is also the addition of the `Linear` layer, used to make the predictions from the top layer hidden state.\n",
    "\n",
    "Within the `forward` method, we accept a batch of input tokens, previous hidden states and previous cell states. As we are only decoding one token at a time, the input tokens will always have a sequence length of 1. We `unsqueeze` the input tokens to add a sentence length dimension of 1. Then, similar to the encoder, we pass through an embedding layer and apply dropout. This batch of embedded tokens is then passed into the RNN with the previous hidden and cell states. This produces an `output` (hidden state from the top layer of the RNN), a new `hidden` state (one for each layer, stacked on top of each other) and a new `cell` state (also one per layer, stacked on top of each other). We then pass the `output` (after getting rid of the sentence length dimension) through the linear layer to receive our `prediction`. We then return the `prediction`, the new `hidden` state and the new `cell` state.\n",
    "\n",
    "**Note**: as we always have a sequence length of 1, we could use `nn.LSTMCell`, instead of `nn.LSTM`, as it is designed to handle a batch of inputs that aren't necessarily in a sequence. `nn.LSTMCell` is just a single cell and `nn.LSTM` is a wrapper around potentially multiple cells. Using the `nn.LSTMCell` in this case would mean we don't have to `unsqueeze` to add a fake sequence length dimension, but we would need one `nn.LSTMCell` per layer in the decoder and to ensure each `nn.LSTMCell` receives the correct initial hidden state from the encoder. All of this makes the code less concise - hence the decision to stick with the regular `nn.LSTM`."
   ]
  },
  {
   "cell_type": "code",
   "execution_count": 45,
   "metadata": {
    "execution": {
     "iopub.execute_input": "2022-04-02T21:22:19.029010Z",
     "iopub.status.busy": "2022-04-02T21:22:19.028870Z",
     "iopub.status.idle": "2022-04-02T21:22:19.033399Z",
     "shell.execute_reply": "2022-04-02T21:22:19.033084Z",
     "shell.execute_reply.started": "2022-04-02T21:22:19.028997Z"
    },
    "executionInfo": {
     "elapsed": 189,
     "status": "aborted",
     "timestamp": 1644710476731,
     "user": {
      "displayName": "Harpreet Singh",
      "photoUrl": "https://lh3.googleusercontent.com/a-/AOh14GgoHXww3A9iD3K6JH0yfUWV-xv9zq1wI6_3E9i8yw=s64",
      "userId": "10443507700807192111"
     },
     "user_tz": 360
    },
    "id": "AVkx_S2fUn3A",
    "tags": []
   },
   "outputs": [],
   "source": [
    "class Decoder(nn.Module):\n",
    "    def __init__(self, output_dim, emb_dim, hid_dim, n_layers, dropout):\n",
    "        super().__init__()\n",
    "        \n",
    "        self.output_dim = output_dim\n",
    "        self.hid_dim = hid_dim\n",
    "        self.n_layers = n_layers\n",
    "        \n",
    "        self.embedding = nn.Embedding(output_dim, emb_dim, padding_idx=3)\n",
    "        \n",
    "        self.rnn = nn.LSTM(emb_dim, hid_dim, n_layers, dropout = dropout)\n",
    "        \n",
    "        self.fc_out = nn.Linear(hid_dim, output_dim)\n",
    "        \n",
    "        self.dropout = nn.Dropout(dropout)\n",
    "        \n",
    "    def forward(self, input, hidden, cell):\n",
    "        \n",
    "        #input = [batch size]\n",
    "        #hidden = [n layers * n directions, batch size, hid dim]\n",
    "        #cell = [n layers * n directions, batch size, hid dim]\n",
    "        \n",
    "        #n directions in the decoder will both always be 1, therefore:\n",
    "        #hidden = [n layers, batch size, hid dim]\n",
    "        #context = [n layers, batch size, hid dim]\n",
    "        \n",
    "        input = input.unsqueeze(0)\n",
    "        \n",
    "        #input = [1, batch size]\n",
    "        \n",
    "        embedded = self.dropout(self.embedding(input))\n",
    "        \n",
    "        #embedded = [1, batch size, emb dim]\n",
    "                \n",
    "        output, (hidden, cell) = self.rnn(embedded, (hidden, cell))\n",
    "        \n",
    "        #output = [seq len, batch size, hid dim * n directions]\n",
    "        #hidden = [n layers * n directions, batch size, hid dim]\n",
    "        #cell = [n layers * n directions, batch size, hid dim]\n",
    "        \n",
    "        #seq len and n directions will always be 1 in the decoder, therefore:\n",
    "        #output = [1, batch size, hid dim]\n",
    "        #hidden = [n layers, batch size, hid dim]\n",
    "        #cell = [n layers, batch size, hid dim]\n",
    "        \n",
    "        prediction = self.fc_out(output.squeeze(0))\n",
    "        \n",
    "        #prediction = [batch size, output dim]\n",
    "        \n",
    "        return prediction, hidden, cell"
   ]
  },
  {
   "cell_type": "markdown",
   "metadata": {
    "id": "VNxlQ5KYUn3A"
   },
   "source": [
    "### Seq2Seq\n",
    "\n",
    "For the final part of the implemenetation, we'll implement the seq2seq model. This will handle: \n",
    "- receiving the input/source sentence\n",
    "- using the encoder to produce the context vectors \n",
    "- using the decoder to produce the predicted output/target sentence\n",
    "\n",
    "Our full model will look like this:\n",
    "\n",
    "![](assets/seq2seq4.png)\n",
    "\n",
    "The `Seq2Seq` model takes in an `Encoder`, `Decoder`, and a `device` (used to place tensors on the GPU, if it exists).\n",
    "\n",
    "For this implementation, we have to ensure that the number of layers and the hidden (and cell) dimensions are equal in the `Encoder` and `Decoder`. This is not always the case, we do not necessarily need the same number of layers or the same hidden dimension sizes in a sequence-to-sequence model. However, if we did something like having a different number of layers then we would need to make decisions about how this is handled. For example, if our encoder has 2 layers and our decoder only has 1, how is this handled? Do we average the two context vectors output by the decoder? Do we pass both through a linear layer? Do we only use the context vector from the highest layer? Etc.\n",
    "\n",
    "Our `forward` method takes the source sentence, target sentence and a teacher-forcing ratio. The teacher forcing ratio is used when training our model. When decoding, at each time-step we will predict what the next token in the target sequence will be from the previous tokens decoded, $\\hat{y}_{t+1}=f(s_t^L)$. With probability equal to the teaching forcing ratio (`teacher_forcing_ratio`) we will use the actual ground-truth next token in the sequence as the input to the decoder during the next time-step. However, with probability `1 - teacher_forcing_ratio`, we will use the token that the model predicted as the next input to the model, even if it doesn't match the actual next token in the sequence.  \n",
    "\n",
    "The first thing we do in the `forward` method is to create an `outputs` tensor that will store all of our predictions, $\\hat{Y}$.\n",
    "\n",
    "We then feed the input/source sentence, `src`, into the encoder and receive out final hidden and cell states.\n",
    "\n",
    "The first input to the decoder is the start of sequence (`<sos>`) token. As our `trg` tensor already has the `<sos>` token appended (all the way back when we defined the `init_token` in our `TRG` field) we get our $y_1$ by slicing into it. We know how long our target sentences should be (`max_len`), so we loop that many times. The last token input into the decoder is the one **before** the `<eos>` token - the `<eos>` token is never input into the decoder. \n",
    "\n",
    "During each iteration of the loop, we:\n",
    "- pass the input, previous hidden and previous cell states ($y_t, s_{t-1}, c_{t-1}$) into the decoder\n",
    "- receive a prediction, next hidden state and next cell state ($\\hat{y}_{t+1}, s_{t}, c_{t}$) from the decoder\n",
    "- place our prediction, $\\hat{y}_{t+1}$/`output` in our tensor of predictions, $\\hat{Y}$/`outputs`\n",
    "- decide if we are going to \"teacher force\" or not\n",
    "    - if we do, the next `input` is the ground-truth next token in the sequence, $y_{t+1}$/`trg[t]`\n",
    "    - if we don't, the next `input` is the predicted next token in the sequence, $\\hat{y}_{t+1}$/`top1`, which we get by doing an `argmax` over the output tensor\n",
    "    \n",
    "Once we've made all of our predictions, we return our tensor full of predictions, $\\hat{Y}$/`outputs`.\n",
    "\n",
    "**Note**: our decoder loop starts at 1, not 0. This means the 0th element of our `outputs` tensor remains all zeros. So our `trg` and `outputs` look something like:\n",
    "\n",
    "$$\\begin{align*}\n",
    "\\text{trg} = [<sos>, &y_1, y_2, y_3, <eos>]\\\\\n",
    "\\text{outputs} = [0, &\\hat{y}_1, \\hat{y}_2, \\hat{y}_3, <eos>]\n",
    "\\end{align*}$$\n",
    "\n",
    "Later on when we calculate the loss, we cut off the first element of each tensor to get:\n",
    "\n",
    "$$\\begin{align*}\n",
    "\\text{trg} = [&y_1, y_2, y_3, <eos>]\\\\\n",
    "\\text{outputs} = [&\\hat{y}_1, \\hat{y}_2, \\hat{y}_3, <eos>]\n",
    "\\end{align*}$$"
   ]
  },
  {
   "cell_type": "code",
   "execution_count": 46,
   "metadata": {
    "colab": {
     "base_uri": "https://localhost:8080/",
     "height": 244
    },
    "execution": {
     "iopub.execute_input": "2022-04-02T21:22:19.457006Z",
     "iopub.status.busy": "2022-04-02T21:22:19.456866Z",
     "iopub.status.idle": "2022-04-02T21:22:19.461449Z",
     "shell.execute_reply": "2022-04-02T21:22:19.461097Z",
     "shell.execute_reply.started": "2022-04-02T21:22:19.456993Z"
    },
    "executionInfo": {
     "elapsed": 3,
     "status": "error",
     "timestamp": 1644710477068,
     "user": {
      "displayName": "Harpreet Singh",
      "photoUrl": "https://lh3.googleusercontent.com/a-/AOh14GgoHXww3A9iD3K6JH0yfUWV-xv9zq1wI6_3E9i8yw=s64",
      "userId": "10443507700807192111"
     },
     "user_tz": 360
    },
    "id": "kH4m5zk7Un3B",
    "outputId": "81af0dcf-b551-4897-a7eb-e084a6bc7f7c",
    "tags": []
   },
   "outputs": [],
   "source": [
    "class Seq2Seq(nn.Module):\n",
    "    def __init__(self, encoder, decoder, device):\n",
    "        super().__init__()\n",
    "        \n",
    "        self.encoder = encoder\n",
    "        self.decoder = decoder\n",
    "        self.device = device\n",
    "        \n",
    "        assert encoder.hid_dim == decoder.hid_dim, \\\n",
    "            \"Hidden dimensions of encoder and decoder must be equal!\"\n",
    "        assert encoder.n_layers == decoder.n_layers, \\\n",
    "            \"Encoder and decoder must have equal number of layers!\"\n",
    "        \n",
    "    def forward(self, src, trg, teacher_forcing_ratio = 0.5):\n",
    "        \n",
    "        #src = [src len, batch size]\n",
    "        #trg = [trg len, batch size]\n",
    "        #teacher_forcing_ratio is probability to use teacher forcing\n",
    "        #e.g. if teacher_forcing_ratio is 0.75 we use ground-truth inputs 75% of the time\n",
    "        \n",
    "        batch_size = trg.shape[1]\n",
    "        trg_len = trg.shape[0]\n",
    "        trg_vocab_size = self.decoder.output_dim\n",
    "        \n",
    "        #tensor to store decoder outputs\n",
    "        outputs = torch.zeros(trg_len, batch_size, trg_vocab_size).to(self.device)\n",
    "        \n",
    "        #last hidden state of the encoder is used as the initial hidden state of the decoder\n",
    "        hidden, cell = self.encoder(src)\n",
    "        \n",
    "        #first input to the decoder is the <sos> tokens\n",
    "        input = trg[0,:]\n",
    "        \n",
    "        for t in range(1, trg_len):\n",
    "            \n",
    "            #insert input token embedding, previous hidden and previous cell states\n",
    "            #receive output tensor (predictions) and new hidden and cell states\n",
    "            output, hidden, cell = self.decoder(input, hidden, cell)\n",
    "            \n",
    "            #place predictions in a tensor holding predictions for each token\n",
    "            outputs[t] = output\n",
    "            \n",
    "            #decide if we are going to use teacher forcing or not\n",
    "            teacher_force = random.random() < teacher_forcing_ratio\n",
    "            \n",
    "            #get the highest predicted token from our predictions\n",
    "            top1 = output.argmax(1) \n",
    "            \n",
    "            #if teacher forcing, use actual next token as next input\n",
    "            #if not, use predicted token\n",
    "            input = trg[t] if teacher_force else top1\n",
    "        \n",
    "        return outputs"
   ]
  },
  {
   "cell_type": "markdown",
   "metadata": {
    "id": "HyPbOrlHUn3B"
   },
   "source": [
    "# Training the Seq2Seq Model\n",
    "\n",
    "Now we have our model implemented, we can begin training it. \n",
    "\n",
    "First, we'll initialize our model. As mentioned before, the input and output dimensions are defined by the size of the vocabulary. The embedding dimesions and dropout for the encoder and decoder can be different, but the number of layers and the size of the hidden/cell states must be the same. \n",
    "\n",
    "We then define the encoder, decoder and then our Seq2Seq model, which we place on the `device`."
   ]
  },
  {
   "cell_type": "code",
   "execution_count": 57,
   "metadata": {
    "execution": {
     "iopub.execute_input": "2022-04-02T21:22:44.157757Z",
     "iopub.status.busy": "2022-04-02T21:22:44.157596Z",
     "iopub.status.idle": "2022-04-02T21:22:44.231404Z",
     "shell.execute_reply": "2022-04-02T21:22:44.231012Z",
     "shell.execute_reply.started": "2022-04-02T21:22:44.157744Z"
    },
    "id": "xg6tH3mDUn3B",
    "tags": []
   },
   "outputs": [],
   "source": [
    "INPUT_DIM = len(source_vocab)\n",
    "OUTPUT_DIM = len(target_vocab)\n",
    "ENC_EMB_DIM = 256\n",
    "DEC_EMB_DIM = 256\n",
    "HID_DIM = 512\n",
    "N_LAYERS = 2\n",
    "ENC_DROPOUT = 0.5\n",
    "DEC_DROPOUT = 0.5\n",
    "\n",
    "enc = Encoder(INPUT_DIM, ENC_EMB_DIM, HID_DIM, N_LAYERS, ENC_DROPOUT)\n",
    "dec = Decoder(OUTPUT_DIM, DEC_EMB_DIM, HID_DIM, N_LAYERS, DEC_DROPOUT)\n",
    "device = torch.device('cuda' if torch.cuda.is_available() else 'cpu')\n",
    "\n",
    "model = Seq2Seq(enc, dec, device).to(device)"
   ]
  },
  {
   "cell_type": "markdown",
   "metadata": {
    "id": "R8QiCSrzUn3B"
   },
   "source": [
    "Next up is initializing the weights of our model. In the paper they state they initialize all weights from a uniform distribution between -0.08 and +0.08, i.e. $\\mathcal{U}(-0.08, 0.08)$.\n",
    "\n",
    "We initialize weights in PyTorch by creating a function which we `apply` to our model. When using `apply`, the `init_weights` function will be called on every module and sub-module within our model. For each module we loop through all of the parameters and sample them from a uniform distribution with `nn.init.uniform_`."
   ]
  },
  {
   "cell_type": "code",
   "execution_count": 58,
   "metadata": {
    "execution": {
     "iopub.execute_input": "2022-04-02T21:22:44.931606Z",
     "iopub.status.busy": "2022-04-02T21:22:44.931464Z",
     "iopub.status.idle": "2022-04-02T21:22:44.934227Z",
     "shell.execute_reply": "2022-04-02T21:22:44.933911Z",
     "shell.execute_reply.started": "2022-04-02T21:22:44.931592Z"
    },
    "id": "8a9Kgdh5Un3B",
    "tags": []
   },
   "outputs": [],
   "source": [
    "def init_weights(m):\n",
    "    for name, param in m.named_parameters():\n",
    "        nn.init.uniform_(param.data, -0.08, 0.08)\n",
    "        \n",
    "#model.apply(init_weights)"
   ]
  },
  {
   "cell_type": "markdown",
   "metadata": {
    "id": "kX8djfNtUn3B"
   },
   "source": [
    "We also define a function that will calculate the number of trainable parameters in the model."
   ]
  },
  {
   "cell_type": "code",
   "execution_count": 59,
   "metadata": {
    "colab": {
     "base_uri": "https://localhost:8080/"
    },
    "execution": {
     "iopub.execute_input": "2022-04-02T21:22:45.832629Z",
     "iopub.status.busy": "2022-04-02T21:22:45.832491Z",
     "iopub.status.idle": "2022-04-02T21:22:45.835559Z",
     "shell.execute_reply": "2022-04-02T21:22:45.835285Z",
     "shell.execute_reply.started": "2022-04-02T21:22:45.832616Z"
    },
    "executionInfo": {
     "elapsed": 126,
     "status": "ok",
     "timestamp": 1643997258485,
     "user": {
      "displayName": "Shaannoor Mann",
      "photoUrl": "https://lh3.googleusercontent.com/a/default-user=s64",
      "userId": "02520257695567980696"
     },
     "user_tz": 360
    },
    "id": "SJW-AD6NUn3C",
    "outputId": "930a0bd1-91f4-4ba7-cff5-67e991876c75",
    "tags": []
   },
   "outputs": [
    {
     "name": "stdout",
     "output_type": "stream",
     "text": [
      "The model has 13,903,877 trainable parameters\n"
     ]
    }
   ],
   "source": [
    "def count_parameters(model):\n",
    "    return sum(p.numel() for p in model.parameters() if p.requires_grad)\n",
    "\n",
    "print(f'The model has {count_parameters(model):,} trainable parameters')"
   ]
  },
  {
   "cell_type": "markdown",
   "metadata": {
    "id": "kqFRDWy5Un3C"
   },
   "source": [
    "We define our optimizer, which we use to update our parameters in the training loop. Check out [this](http://ruder.io/optimizing-gradient-descent/) post for information about different optimizers. Here, we'll use Adam."
   ]
  },
  {
   "cell_type": "code",
   "execution_count": 60,
   "metadata": {
    "execution": {
     "iopub.execute_input": "2022-04-02T21:22:46.434901Z",
     "iopub.status.busy": "2022-04-02T21:22:46.434766Z",
     "iopub.status.idle": "2022-04-02T21:22:46.437206Z",
     "shell.execute_reply": "2022-04-02T21:22:46.436747Z",
     "shell.execute_reply.started": "2022-04-02T21:22:46.434889Z"
    },
    "id": "uQW8MwmpUn3C",
    "tags": []
   },
   "outputs": [],
   "source": [
    "optimizer = optim.Adam(model.parameters())"
   ]
  },
  {
   "cell_type": "markdown",
   "metadata": {
    "id": "vP8-nNUgUn3C"
   },
   "source": [
    "Next, we define our loss function. The `CrossEntropyLoss` function calculates both the log softmax as well as the negative log-likelihood of our predictions. \n",
    "\n",
    "Our loss function calculates the average loss per token, however by passing the index of the `<pad>` token as the `ignore_index` argument we ignore the loss whenever the target token is a padding token. "
   ]
  },
  {
   "cell_type": "code",
   "execution_count": 61,
   "metadata": {
    "colab": {
     "base_uri": "https://localhost:8080/"
    },
    "execution": {
     "iopub.execute_input": "2022-04-02T21:22:47.232675Z",
     "iopub.status.busy": "2022-04-02T21:22:47.232527Z",
     "iopub.status.idle": "2022-04-02T21:22:47.235543Z",
     "shell.execute_reply": "2022-04-02T21:22:47.235203Z",
     "shell.execute_reply.started": "2022-04-02T21:22:47.232654Z"
    },
    "executionInfo": {
     "elapsed": 178,
     "status": "ok",
     "timestamp": 1643997260194,
     "user": {
      "displayName": "Shaannoor Mann",
      "photoUrl": "https://lh3.googleusercontent.com/a/default-user=s64",
      "userId": "02520257695567980696"
     },
     "user_tz": 360
    },
    "id": "kwbug8VNUn3C",
    "outputId": "09da28c9-8a32-47c9-d4bf-b0d252a28548",
    "tags": []
   },
   "outputs": [
    {
     "data": {
      "text/plain": [
       "3"
      ]
     },
     "execution_count": 61,
     "metadata": {},
     "output_type": "execute_result"
    }
   ],
   "source": [
    "TRG_PAD_IDX = target_vocab['<PAD>']\n",
    "TRG_PAD_IDX"
   ]
  },
  {
   "cell_type": "code",
   "execution_count": 62,
   "metadata": {
    "execution": {
     "iopub.execute_input": "2022-04-02T21:22:47.693929Z",
     "iopub.status.busy": "2022-04-02T21:22:47.693787Z",
     "iopub.status.idle": "2022-04-02T21:22:47.696297Z",
     "shell.execute_reply": "2022-04-02T21:22:47.695965Z",
     "shell.execute_reply.started": "2022-04-02T21:22:47.693916Z"
    },
    "id": "HqDGxXU-2A7y",
    "tags": []
   },
   "outputs": [],
   "source": [
    "criterion = nn.CrossEntropyLoss(ignore_index = TRG_PAD_IDX)"
   ]
  },
  {
   "cell_type": "markdown",
   "metadata": {
    "id": "DTSE8TjRUn3C"
   },
   "source": [
    "Next, we'll define our training loop. \n",
    "\n",
    "First, we'll set the model into \"training mode\" with `model.train()`. This will turn on dropout (and batch normalization, which we aren't using) and then iterate through our data iterator.\n",
    "\n",
    "As stated before, our decoder loop starts at 1, not 0. This means the 0th element of our `outputs` tensor remains all zeros. So our `trg` and `outputs` look something like:\n",
    "\n",
    "$$\\begin{align*}\n",
    "\\text{trg} = [<sos>, &y_1, y_2, y_3, <eos>]\\\\\n",
    "\\text{outputs} = [0, &\\hat{y}_1, \\hat{y}_2, \\hat{y}_3, <eos>]\n",
    "\\end{align*}$$\n",
    "\n",
    "Here, when we calculate the loss, we cut off the first element of each tensor to get:\n",
    "\n",
    "$$\\begin{align*}\n",
    "\\text{trg} = [&y_1, y_2, y_3, <eos>]\\\\\n",
    "\\text{outputs} = [&\\hat{y}_1, \\hat{y}_2, \\hat{y}_3, <eos>]\n",
    "\\end{align*}$$\n",
    "\n",
    "At each iteration:\n",
    "- get the source and target sentences from the batch, $X$ and $Y$\n",
    "- zero the gradients calculated from the last batch\n",
    "- feed the source and target into the model to get the output, $\\hat{Y}$\n",
    "- as the loss function only works on 2d inputs with 1d targets we need to flatten each of them with `.view`\n",
    "    - we slice off the first column of the output and target tensors as mentioned above\n",
    "- calculate the gradients with `loss.backward()`\n",
    "- clip the gradients to prevent them from exploding (a common issue in RNNs)\n",
    "- update the parameters of our model by doing an optimizer step\n",
    "- sum the loss value to a running total\n",
    "\n",
    "Finally, we return the loss that is averaged over all batches."
   ]
  },
  {
   "cell_type": "code",
   "execution_count": 63,
   "metadata": {
    "execution": {
     "iopub.execute_input": "2022-04-02T21:22:52.733277Z",
     "iopub.status.busy": "2022-04-02T21:22:52.733139Z",
     "iopub.status.idle": "2022-04-02T21:22:52.737221Z",
     "shell.execute_reply": "2022-04-02T21:22:52.736777Z",
     "shell.execute_reply.started": "2022-04-02T21:22:52.733264Z"
    },
    "id": "BYKiriabUn3C",
    "tags": []
   },
   "outputs": [],
   "source": [
    "def train(model, iterator, optimizer, criterion, clip):\n",
    "    \n",
    "    model.train()\n",
    "    \n",
    "    epoch_loss = 0\n",
    "    \n",
    "    for src, trg in iterator:\n",
    "        \n",
    "        src = src.to(device)\n",
    "        trg = trg.to(device)\n",
    "        \n",
    "        optimizer.zero_grad()\n",
    "        \n",
    "        output = model(src, trg)\n",
    "        \n",
    "        #trg = [trg len, batch size]\n",
    "        #output = [trg len, batch size, output dim]\n",
    "        \n",
    "        output_dim = output.shape[-1]\n",
    "        \n",
    "        output = output[1:].view(-1, output_dim)\n",
    "        trg = trg[1:].view(-1)\n",
    "        \n",
    "        #trg = [(trg len - 1) * batch size]\n",
    "        #output = [(trg len - 1) * batch size, output dim]\n",
    "        \n",
    "        loss = criterion(output, trg)\n",
    "        \n",
    "        loss.backward()\n",
    "        \n",
    "        torch.nn.utils.clip_grad_norm_(model.parameters(), clip)\n",
    "        \n",
    "        optimizer.step()\n",
    "        \n",
    "        epoch_loss += loss.item()\n",
    "        \n",
    "    return epoch_loss / len(iterator)"
   ]
  },
  {
   "cell_type": "markdown",
   "metadata": {
    "id": "XEEHX3lcUn3C"
   },
   "source": [
    "Our evaluation loop is similar to our training loop, however as we aren't updating any parameters we don't need to pass an optimizer or a clip value.\n",
    "\n",
    "We must remember to set the model to evaluation mode with `model.eval()`. This will turn off dropout (and batch normalization, if used).\n",
    "\n",
    "We use the `with torch.no_grad()` block to ensure no gradients are calculated within the block. This reduces memory consumption and speeds things up. \n",
    "\n",
    "The iteration loop is similar (without the parameter updates), however we must ensure we turn teacher forcing off for evaluation. This will cause the model to only use it's own predictions to make further predictions within a sentence, which mirrors how it would be used in deployment."
   ]
  },
  {
   "cell_type": "code",
   "execution_count": 64,
   "metadata": {
    "execution": {
     "iopub.execute_input": "2022-04-02T21:22:54.643510Z",
     "iopub.status.busy": "2022-04-02T21:22:54.643368Z",
     "iopub.status.idle": "2022-04-02T21:22:54.647214Z",
     "shell.execute_reply": "2022-04-02T21:22:54.646752Z",
     "shell.execute_reply.started": "2022-04-02T21:22:54.643497Z"
    },
    "id": "q_0CMMb9Un3C",
    "tags": []
   },
   "outputs": [],
   "source": [
    "def evaluate(model, iterator, criterion):\n",
    "    \n",
    "    model.eval()\n",
    "    \n",
    "    epoch_loss = 0\n",
    "    \n",
    "    with torch.no_grad():\n",
    "    \n",
    "        for src, trg in iterator:\n",
    "\n",
    "            src = src.to(device)\n",
    "            trg = trg.to(device)\n",
    "\n",
    "            output = model(src, trg, 0) #turn off teacher forcing\n",
    "\n",
    "            #trg = [trg len, batch size]\n",
    "            #output = [trg len, batch size, output dim]\n",
    "\n",
    "            output_dim = output.shape[-1]\n",
    "            \n",
    "            output = output[1:].view(-1, output_dim)\n",
    "            trg = trg[1:].view(-1)\n",
    "\n",
    "            #trg = [(trg len - 1) * batch size]\n",
    "            #output = [(trg len - 1) * batch size, output dim]\n",
    "\n",
    "            loss = criterion(output, trg)\n",
    "            \n",
    "            epoch_loss += loss.item()\n",
    "        \n",
    "    return epoch_loss / len(iterator)"
   ]
  },
  {
   "cell_type": "markdown",
   "metadata": {
    "id": "dBWvFyRmUn3D"
   },
   "source": [
    "Next, we'll create a function that we'll use to tell us how long an epoch takes."
   ]
  },
  {
   "cell_type": "code",
   "execution_count": 65,
   "metadata": {
    "execution": {
     "iopub.execute_input": "2022-04-02T21:22:55.642999Z",
     "iopub.status.busy": "2022-04-02T21:22:55.642858Z",
     "iopub.status.idle": "2022-04-02T21:22:55.645686Z",
     "shell.execute_reply": "2022-04-02T21:22:55.645301Z",
     "shell.execute_reply.started": "2022-04-02T21:22:55.642986Z"
    },
    "id": "dwfIeh7XUn3D",
    "tags": []
   },
   "outputs": [],
   "source": [
    "def epoch_time(start_time, end_time):\n",
    "    elapsed_time = end_time - start_time\n",
    "    elapsed_mins = int(elapsed_time / 60)\n",
    "    elapsed_secs = int(elapsed_time - (elapsed_mins * 60))\n",
    "    return elapsed_mins, elapsed_secs"
   ]
  },
  {
   "cell_type": "markdown",
   "metadata": {
    "id": "n16Yz_VcUn3D"
   },
   "source": [
    "We can finally start training our model!\n",
    "\n",
    "At each epoch, we'll be checking if our model has achieved the best validation loss so far. If it has, we'll update our best validation loss and save the parameters of our model (called `state_dict` in PyTorch). Then, when we come to test our model, we'll use the saved parameters used to achieve the best validation loss. \n",
    "\n",
    "We'll be printing out both the loss and the perplexity at each epoch. It is easier to see a change in perplexity than a change in loss as the numbers are much bigger."
   ]
  },
  {
   "cell_type": "code",
   "execution_count": 66,
   "metadata": {
    "colab": {
     "base_uri": "https://localhost:8080/"
    },
    "execution": {
     "iopub.execute_input": "2022-04-02T21:23:15.560895Z",
     "iopub.status.busy": "2022-04-02T21:23:15.560726Z",
     "iopub.status.idle": "2022-04-02T21:27:13.059998Z",
     "shell.execute_reply": "2022-04-02T21:27:13.059664Z",
     "shell.execute_reply.started": "2022-04-02T21:23:15.560867Z"
    },
    "executionInfo": {
     "elapsed": 317246,
     "status": "ok",
     "timestamp": 1643997654441,
     "user": {
      "displayName": "Shaannoor Mann",
      "photoUrl": "https://lh3.googleusercontent.com/a/default-user=s64",
      "userId": "02520257695567980696"
     },
     "user_tz": 360
    },
    "id": "7vyJuNQzUn3D",
    "outputId": "e1eeefaf-3ed1-4ac3-ac02-e09dd5ed70c2",
    "tags": []
   },
   "outputs": [
    {
     "name": "stdout",
     "output_type": "stream",
     "text": [
      "Epoch: 01 | Time: 0m 23s\n",
      "\tTrain Loss: 5.077 | Train PPL: 160.250\n",
      "\t Val. Loss: 4.866 |  Val. PPL: 129.781\n",
      "Epoch: 02 | Time: 0m 23s\n",
      "\tTrain Loss: 4.510 | Train PPL:  90.948\n",
      "\t Val. Loss: 4.679 |  Val. PPL: 107.620\n",
      "Epoch: 03 | Time: 0m 23s\n",
      "\tTrain Loss: 4.227 | Train PPL:  68.534\n",
      "\t Val. Loss: 4.501 |  Val. PPL:  90.065\n",
      "Epoch: 04 | Time: 0m 23s\n",
      "\tTrain Loss: 3.988 | Train PPL:  53.968\n",
      "\t Val. Loss: 4.340 |  Val. PPL:  76.689\n",
      "Epoch: 05 | Time: 0m 23s\n",
      "\tTrain Loss: 3.779 | Train PPL:  43.755\n",
      "\t Val. Loss: 4.293 |  Val. PPL:  73.189\n",
      "Epoch: 06 | Time: 0m 23s\n",
      "\tTrain Loss: 3.621 | Train PPL:  37.361\n",
      "\t Val. Loss: 4.189 |  Val. PPL:  65.974\n",
      "Epoch: 07 | Time: 0m 23s\n",
      "\tTrain Loss: 3.504 | Train PPL:  33.259\n",
      "\t Val. Loss: 4.042 |  Val. PPL:  56.921\n",
      "Epoch: 08 | Time: 0m 23s\n",
      "\tTrain Loss: 3.365 | Train PPL:  28.947\n",
      "\t Val. Loss: 3.945 |  Val. PPL:  51.662\n",
      "Epoch: 09 | Time: 0m 23s\n",
      "\tTrain Loss: 3.262 | Train PPL:  26.102\n",
      "\t Val. Loss: 3.896 |  Val. PPL:  49.188\n",
      "Epoch: 10 | Time: 0m 23s\n",
      "\tTrain Loss: 3.193 | Train PPL:  24.373\n",
      "\t Val. Loss: 3.891 |  Val. PPL:  48.982\n"
     ]
    }
   ],
   "source": [
    "N_EPOCHS = 10\n",
    "CLIP = 1\n",
    "\n",
    "best_valid_loss = float('inf')\n",
    "\n",
    "for epoch in range(N_EPOCHS):\n",
    "    \n",
    "    start_time = time.time()\n",
    "    \n",
    "    train_loss = train(model, train_loader, optimizer, criterion, CLIP)\n",
    "    valid_loss = evaluate(model, valid_loader, criterion)\n",
    "    \n",
    "    end_time = time.time()\n",
    "    \n",
    "    epoch_mins, epoch_secs = epoch_time(start_time, end_time)\n",
    "    \n",
    "    if valid_loss < best_valid_loss:\n",
    "        best_valid_loss = valid_loss\n",
    "        torch.save(model.state_dict(), '1b-model.pt')\n",
    "    \n",
    "    print(f'Epoch: {epoch+1:02} | Time: {epoch_mins}m {epoch_secs}s')\n",
    "    print(f'\\tTrain Loss: {train_loss:.3f} | Train PPL: {math.exp(train_loss):7.3f}')\n",
    "    print(f'\\t Val. Loss: {valid_loss:.3f} |  Val. PPL: {math.exp(valid_loss):7.3f}')"
   ]
  },
  {
   "cell_type": "markdown",
   "metadata": {
    "id": "UeXMknRvUn3D"
   },
   "source": [
    "We'll load the parameters (`state_dict`) that gave our model the best validation loss and run it the model on the test set."
   ]
  },
  {
   "cell_type": "code",
   "execution_count": 67,
   "metadata": {
    "colab": {
     "base_uri": "https://localhost:8080/"
    },
    "execution": {
     "iopub.execute_input": "2022-04-02T21:29:14.544221Z",
     "iopub.status.busy": "2022-04-02T21:29:14.544099Z",
     "iopub.status.idle": "2022-04-02T21:29:14.909873Z",
     "shell.execute_reply": "2022-04-02T21:29:14.909541Z",
     "shell.execute_reply.started": "2022-04-02T21:29:14.544208Z"
    },
    "executionInfo": {
     "elapsed": 759,
     "status": "ok",
     "timestamp": 1643997703079,
     "user": {
      "displayName": "Shaannoor Mann",
      "photoUrl": "https://lh3.googleusercontent.com/a/default-user=s64",
      "userId": "02520257695567980696"
     },
     "user_tz": 360
    },
    "id": "YFz9w3KmUn3D",
    "outputId": "97b5d4f0-1290-4a1e-a6e4-b2d3a6018e70",
    "tags": []
   },
   "outputs": [
    {
     "name": "stdout",
     "output_type": "stream",
     "text": [
      "| Test Loss: 3.820 | Test PPL:  45.583 |\n"
     ]
    }
   ],
   "source": [
    "model.load_state_dict(torch.load('1b-model.pt'))\n",
    "\n",
    "test_loss = evaluate(model, test_loader, criterion)\n",
    "\n",
    "print(f'| Test Loss: {test_loss:.3f} | Test PPL: {math.exp(test_loss):7.3f} |')"
   ]
  },
  {
   "cell_type": "markdown",
   "metadata": {
    "id": "3d61-wekUn3D"
   },
   "source": [
    "In the following notebook we'll implement a model that achieves improved test perplexity, but only uses a single layer in the encoder and the decoder."
   ]
  }
 ],
 "metadata": {
  "accelerator": "GPU",
  "colab": {
   "collapsed_sections": [],
   "name": "1b - Sequence to Sequence Learning with Neural Networks.ipynb",
   "provenance": [],
   "toc_visible": true
  },
  "kernelspec": {
   "display_name": "pt10",
   "language": "python",
   "name": "pt10"
  },
  "language_info": {
   "codemirror_mode": {
    "name": "ipython",
    "version": 3
   },
   "file_extension": ".py",
   "mimetype": "text/x-python",
   "name": "python",
   "nbconvert_exporter": "python",
   "pygments_lexer": "ipython3",
   "version": "3.8.12"
  }
 },
 "nbformat": 4,
 "nbformat_minor": 4
}
