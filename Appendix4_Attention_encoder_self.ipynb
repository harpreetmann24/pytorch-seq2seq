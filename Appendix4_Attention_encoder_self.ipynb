{
 "cells": [
  {
   "cell_type": "markdown",
   "id": "7cb92314-dc0c-429e-be6f-77ace3cbd08f",
   "metadata": {},
   "source": [
    "# <font color = 'blue'> Self Attention Encoder"
   ]
  },
  {
   "cell_type": "markdown",
   "id": "77a21e7c-6c4f-4f61-ab02-0dda7090e82e",
   "metadata": {
    "execution": {
     "iopub.execute_input": "2022-02-27T08:35:50.289004Z",
     "iopub.status.busy": "2022-02-27T08:35:50.288736Z",
     "iopub.status.idle": "2022-02-27T08:35:50.291235Z",
     "shell.execute_reply": "2022-02-27T08:35:50.290917Z",
     "shell.execute_reply.started": "2022-02-27T08:35:50.288989Z"
    }
   },
   "source": [
    "# <font color = 'blue'> Import Libraries\n",
    "As always, let's import all the required modules and set the random seeds for reproducability."
   ]
  },
  {
   "cell_type": "code",
   "execution_count": 2,
   "id": "6adb201f-690b-48e7-bab1-62cae03bf00d",
   "metadata": {
    "execution": {
     "iopub.execute_input": "2022-03-11T10:25:59.371208Z",
     "iopub.status.busy": "2022-03-11T10:25:59.371066Z",
     "iopub.status.idle": "2022-03-11T10:25:59.374316Z",
     "shell.execute_reply": "2022-03-11T10:25:59.373736Z",
     "shell.execute_reply.started": "2022-03-11T10:25:59.371195Z"
    },
    "tags": []
   },
   "outputs": [],
   "source": [
    "import torch\n",
    "import torch.nn as nn\n",
    "from torch.utils.data import DataLoader, Dataset\n",
    "from torch.nn.utils.rnn import pad_sequence\n",
    "\n",
    "import torchtext \n",
    "from torchtext.datasets import Multi30k\n",
    "from torchtext.vocab import vocab\n",
    "\n",
    "import numpy as np\n",
    "from collections import Counter, OrderedDict\n",
    "\n",
    "import random\n",
    "\n",
    "import pandas as pd\n",
    "from pathlib import Path"
   ]
  },
  {
   "cell_type": "code",
   "execution_count": 3,
   "id": "b732a886-6c14-4980-8c3b-77fdcc700a56",
   "metadata": {
    "execution": {
     "iopub.execute_input": "2022-03-11T10:25:59.882210Z",
     "iopub.status.busy": "2022-03-11T10:25:59.882063Z",
     "iopub.status.idle": "2022-03-11T10:25:59.886172Z",
     "shell.execute_reply": "2022-03-11T10:25:59.885804Z",
     "shell.execute_reply.started": "2022-03-11T10:25:59.882174Z"
    },
    "tags": []
   },
   "outputs": [],
   "source": [
    "SEED = 1234\n",
    "\n",
    "random.seed(SEED)\n",
    "np.random.seed(SEED)\n",
    "torch.manual_seed(SEED)\n",
    "torch.cuda.manual_seed(SEED)\n",
    "torch.backends.cudnn.deterministic = True"
   ]
  },
  {
   "cell_type": "code",
   "execution_count": 4,
   "id": "9118d417-856f-459d-b3e1-554bcb89c771",
   "metadata": {
    "execution": {
     "iopub.execute_input": "2022-03-11T10:26:00.273264Z",
     "iopub.status.busy": "2022-03-11T10:26:00.273137Z",
     "iopub.status.idle": "2022-03-11T10:26:00.277505Z",
     "shell.execute_reply": "2022-03-11T10:26:00.277187Z",
     "shell.execute_reply.started": "2022-03-11T10:26:00.273252Z"
    },
    "tags": []
   },
   "outputs": [
    {
     "data": {
      "text/plain": [
       "('0.11.0', '1.10.0', True, '3.2.1')"
      ]
     },
     "execution_count": 4,
     "metadata": {},
     "output_type": "execute_result"
    }
   ],
   "source": [
    "torchtext.__version__, torch.__version__, torch.cuda.is_available(), spacy.__version__"
   ]
  },
  {
   "cell_type": "markdown",
   "id": "cbf9bd08-2b75-454e-b618-a92a9a33d5c9",
   "metadata": {},
   "source": [
    "# <font color = 'blue'>  Preparing the Data\n",
    "\n"
   ]
  },
  {
   "cell_type": "code",
   "execution_count": 5,
   "id": "4a68f149-573a-4474-ba1c-04a832146529",
   "metadata": {
    "execution": {
     "iopub.execute_input": "2022-03-11T10:26:09.372396Z",
     "iopub.status.busy": "2022-03-11T10:26:09.372251Z",
     "iopub.status.idle": "2022-03-11T10:26:09.374715Z",
     "shell.execute_reply": "2022-03-11T10:26:09.374252Z",
     "shell.execute_reply.started": "2022-03-11T10:26:09.372382Z"
    },
    "tags": []
   },
   "outputs": [],
   "source": [
    "data_folder = Path('/home/harpreet/Insync/google_drive_shaannoor/Data/NLP')\n",
    "project_folder = Path('/home/harpreet/Insync/google_drive_harpreet/Research/NLP/pytorch-seq2seq')"
   ]
  },
  {
   "cell_type": "code",
   "execution_count": 6,
   "id": "5a4e2f8b-0a21-4ff3-ad19-b860cbca2ec8",
   "metadata": {
    "execution": {
     "iopub.execute_input": "2022-03-11T10:26:09.740118Z",
     "iopub.status.busy": "2022-03-11T10:26:09.739537Z",
     "iopub.status.idle": "2022-03-11T10:26:09.742938Z",
     "shell.execute_reply": "2022-03-11T10:26:09.742643Z",
     "shell.execute_reply.started": "2022-03-11T10:26:09.740102Z"
    },
    "tags": []
   },
   "outputs": [
    {
     "data": {
      "text/plain": [
       "('0.11.0', '1.10.0', True, '3.2.1')"
      ]
     },
     "execution_count": 6,
     "metadata": {},
     "output_type": "execute_result"
    }
   ],
   "source": [
    "torchtext.__version__, torch.__version__, torch.cuda.is_available(), spacy.__version__"
   ]
  },
  {
   "cell_type": "markdown",
   "id": "96ebdbd5-eff4-4ef5-9ca7-412f91612fb1",
   "metadata": {},
   "source": [
    "We'll then create our tokenizers as before."
   ]
  },
  {
   "cell_type": "markdown",
   "id": "bad52392-b83c-4672-a935-f2c34865b89e",
   "metadata": {},
   "source": [
    "## <font color = 'blue'> Load tokenized data"
   ]
  },
  {
   "cell_type": "code",
   "execution_count": 7,
   "id": "c9d992f0-2439-4c95-9d04-829ec1a4396e",
   "metadata": {
    "execution": {
     "iopub.execute_input": "2022-03-11T10:26:11.357605Z",
     "iopub.status.busy": "2022-03-11T10:26:11.357397Z",
     "iopub.status.idle": "2022-03-11T10:26:11.508533Z",
     "shell.execute_reply": "2022-03-11T10:26:11.508055Z",
     "shell.execute_reply.started": "2022-03-11T10:26:11.357591Z"
    },
    "tags": []
   },
   "outputs": [],
   "source": [
    "df_train = pd.read_pickle(project_folder/'df_train_en_de.pickel')"
   ]
  },
  {
   "cell_type": "code",
   "execution_count": 8,
   "id": "6227dc11-ce6d-4f70-862d-5447e027674c",
   "metadata": {
    "execution": {
     "iopub.execute_input": "2022-03-11T10:26:12.008263Z",
     "iopub.status.busy": "2022-03-11T10:26:12.008083Z",
     "iopub.status.idle": "2022-03-11T10:26:12.020481Z",
     "shell.execute_reply": "2022-03-11T10:26:12.020181Z",
     "shell.execute_reply.started": "2022-03-11T10:26:12.008249Z"
    },
    "tags": []
   },
   "outputs": [
    {
     "data": {
      "text/html": [
       "<div>\n",
       "<style scoped>\n",
       "    .dataframe tbody tr th:only-of-type {\n",
       "        vertical-align: middle;\n",
       "    }\n",
       "\n",
       "    .dataframe tbody tr th {\n",
       "        vertical-align: top;\n",
       "    }\n",
       "\n",
       "    .dataframe thead th {\n",
       "        text-align: right;\n",
       "    }\n",
       "</style>\n",
       "<table border=\"1\" class=\"dataframe\">\n",
       "  <thead>\n",
       "    <tr style=\"text-align: right;\">\n",
       "      <th></th>\n",
       "      <th>source_tokens</th>\n",
       "      <th>target_tokens</th>\n",
       "      <th>source_tokens_reverse</th>\n",
       "    </tr>\n",
       "  </thead>\n",
       "  <tbody>\n",
       "    <tr>\n",
       "      <th>0</th>\n",
       "      <td>[zwei, junge, weiße, männer, sind, i, m, freie...</td>\n",
       "      <td>[two, young, ,, white, males, are, outside, ne...</td>\n",
       "      <td>[., büsche, vieler, nähe, der, in, freien, m, ...</td>\n",
       "    </tr>\n",
       "    <tr>\n",
       "      <th>1</th>\n",
       "      <td>[mehrere, männer, mit, schutzhelmen, bedienen,...</td>\n",
       "      <td>[several, men, in, hard, hats, are, operating,...</td>\n",
       "      <td>[., antriebsradsystem, ein, bedienen, schutzhe...</td>\n",
       "    </tr>\n",
       "    <tr>\n",
       "      <th>2</th>\n",
       "      <td>[ein, kleines, mädchen, klettert, in, ein, spi...</td>\n",
       "      <td>[a, little, girl, climbing, into, a, wooden, p...</td>\n",
       "      <td>[., holz, aus, spielhaus, ein, in, klettert, m...</td>\n",
       "    </tr>\n",
       "    <tr>\n",
       "      <th>3</th>\n",
       "      <td>[ein, mann, in, einem, blauen, hemd, steht, au...</td>\n",
       "      <td>[a, man, in, a, blue, shirt, is, standing, on,...</td>\n",
       "      <td>[., fenster, ein, putzt, und, leiter, einer, a...</td>\n",
       "    </tr>\n",
       "    <tr>\n",
       "      <th>4</th>\n",
       "      <td>[zwei, männer, stehen, am, herd, und, bereiten...</td>\n",
       "      <td>[two, men, are, at, the, stove, preparing, foo...</td>\n",
       "      <td>[., zu, essen, bereiten, und, herd, am, stehen...</td>\n",
       "    </tr>\n",
       "    <tr>\n",
       "      <th>...</th>\n",
       "      <td>...</td>\n",
       "      <td>...</td>\n",
       "      <td>...</td>\n",
       "    </tr>\n",
       "    <tr>\n",
       "      <th>28995</th>\n",
       "      <td>[., wand, verschnörkelten, einer, hinter, schr...</td>\n",
       "      <td>[a, woman, behind, a, scrolled, wall, is, writ...</td>\n",
       "      <td>[eine, frau, schreibt, hinter, einer, verschnö...</td>\n",
       "    </tr>\n",
       "    <tr>\n",
       "      <th>28996</th>\n",
       "      <td>[., kletterwand, einer, an, übt, bergsteiger, ...</td>\n",
       "      <td>[a, rock, climber, practices, on, a, rock, cli...</td>\n",
       "      <td>[ein, bergsteiger, übt, an, einer, kletterwand...</td>\n",
       "    </tr>\n",
       "    <tr>\n",
       "      <th>28997</th>\n",
       "      <td>[., hauses, einem, vor, straße, einer, auf, ar...</td>\n",
       "      <td>[two, male, construction, workers, are, workin...</td>\n",
       "      <td>[zwei, bauarbeiter, arbeiten, auf, einer, stra...</td>\n",
       "    </tr>\n",
       "    <tr>\n",
       "      <th>28998</th>\n",
       "      <td>[., fassade, einer, vor, wagen, einem, mit, ju...</td>\n",
       "      <td>[an, elderly, man, sits, outside, a, storefron...</td>\n",
       "      <td>[ein, älterer, mann, sitzt, mit, einem, jungen...</td>\n",
       "    </tr>\n",
       "    <tr>\n",
       "      <th>28999</th>\n",
       "      <td>[., hintergrund, m, i, bergen, und, nebel, mit...</td>\n",
       "      <td>[a, man, in, shorts, and, a, hawaiian, shirt, ...</td>\n",
       "      <td>[ein, mann, in, shorts, und, hawaiihemd, lehnt...</td>\n",
       "    </tr>\n",
       "  </tbody>\n",
       "</table>\n",
       "<p>29000 rows × 3 columns</p>\n",
       "</div>"
      ],
      "text/plain": [
       "                                           source_tokens  \\\n",
       "0      [zwei, junge, weiße, männer, sind, i, m, freie...   \n",
       "1      [mehrere, männer, mit, schutzhelmen, bedienen,...   \n",
       "2      [ein, kleines, mädchen, klettert, in, ein, spi...   \n",
       "3      [ein, mann, in, einem, blauen, hemd, steht, au...   \n",
       "4      [zwei, männer, stehen, am, herd, und, bereiten...   \n",
       "...                                                  ...   \n",
       "28995  [., wand, verschnörkelten, einer, hinter, schr...   \n",
       "28996  [., kletterwand, einer, an, übt, bergsteiger, ...   \n",
       "28997  [., hauses, einem, vor, straße, einer, auf, ar...   \n",
       "28998  [., fassade, einer, vor, wagen, einem, mit, ju...   \n",
       "28999  [., hintergrund, m, i, bergen, und, nebel, mit...   \n",
       "\n",
       "                                           target_tokens  \\\n",
       "0      [two, young, ,, white, males, are, outside, ne...   \n",
       "1      [several, men, in, hard, hats, are, operating,...   \n",
       "2      [a, little, girl, climbing, into, a, wooden, p...   \n",
       "3      [a, man, in, a, blue, shirt, is, standing, on,...   \n",
       "4      [two, men, are, at, the, stove, preparing, foo...   \n",
       "...                                                  ...   \n",
       "28995  [a, woman, behind, a, scrolled, wall, is, writ...   \n",
       "28996  [a, rock, climber, practices, on, a, rock, cli...   \n",
       "28997  [two, male, construction, workers, are, workin...   \n",
       "28998  [an, elderly, man, sits, outside, a, storefron...   \n",
       "28999  [a, man, in, shorts, and, a, hawaiian, shirt, ...   \n",
       "\n",
       "                                   source_tokens_reverse  \n",
       "0      [., büsche, vieler, nähe, der, in, freien, m, ...  \n",
       "1      [., antriebsradsystem, ein, bedienen, schutzhe...  \n",
       "2      [., holz, aus, spielhaus, ein, in, klettert, m...  \n",
       "3      [., fenster, ein, putzt, und, leiter, einer, a...  \n",
       "4      [., zu, essen, bereiten, und, herd, am, stehen...  \n",
       "...                                                  ...  \n",
       "28995  [eine, frau, schreibt, hinter, einer, verschnö...  \n",
       "28996  [ein, bergsteiger, übt, an, einer, kletterwand...  \n",
       "28997  [zwei, bauarbeiter, arbeiten, auf, einer, stra...  \n",
       "28998  [ein, älterer, mann, sitzt, mit, einem, jungen...  \n",
       "28999  [ein, mann, in, shorts, und, hawaiihemd, lehnt...  \n",
       "\n",
       "[29000 rows x 3 columns]"
      ]
     },
     "execution_count": 8,
     "metadata": {},
     "output_type": "execute_result"
    }
   ],
   "source": [
    "df_train"
   ]
  },
  {
   "cell_type": "markdown",
   "id": "fee78503-82af-4296-9ac5-d0bbddcda343",
   "metadata": {},
   "source": [
    "## <font color = 'blue'> Small subset of data"
   ]
  },
  {
   "cell_type": "code",
   "execution_count": 9,
   "id": "ea749873-d70f-40a0-9b63-0241cebc6318",
   "metadata": {
    "execution": {
     "iopub.execute_input": "2022-03-11T10:26:17.699958Z",
     "iopub.status.busy": "2022-03-11T10:26:17.699812Z",
     "iopub.status.idle": "2022-03-11T10:26:17.702390Z",
     "shell.execute_reply": "2022-03-11T10:26:17.702054Z",
     "shell.execute_reply.started": "2022-03-11T10:26:17.699944Z"
    },
    "tags": []
   },
   "outputs": [],
   "source": [
    "df_train_small= df_train[0:4]"
   ]
  },
  {
   "cell_type": "code",
   "execution_count": 10,
   "id": "219e2c73-ceae-4dd9-819a-9c68f347dfcb",
   "metadata": {
    "execution": {
     "iopub.execute_input": "2022-03-11T10:26:19.190567Z",
     "iopub.status.busy": "2022-03-11T10:26:19.190423Z",
     "iopub.status.idle": "2022-03-11T10:26:19.197600Z",
     "shell.execute_reply": "2022-03-11T10:26:19.197226Z",
     "shell.execute_reply.started": "2022-03-11T10:26:19.190554Z"
    },
    "tags": []
   },
   "outputs": [
    {
     "data": {
      "text/html": [
       "<div>\n",
       "<style scoped>\n",
       "    .dataframe tbody tr th:only-of-type {\n",
       "        vertical-align: middle;\n",
       "    }\n",
       "\n",
       "    .dataframe tbody tr th {\n",
       "        vertical-align: top;\n",
       "    }\n",
       "\n",
       "    .dataframe thead th {\n",
       "        text-align: right;\n",
       "    }\n",
       "</style>\n",
       "<table border=\"1\" class=\"dataframe\">\n",
       "  <thead>\n",
       "    <tr style=\"text-align: right;\">\n",
       "      <th></th>\n",
       "      <th>source_tokens</th>\n",
       "      <th>target_tokens</th>\n",
       "      <th>source_tokens_reverse</th>\n",
       "    </tr>\n",
       "  </thead>\n",
       "  <tbody>\n",
       "    <tr>\n",
       "      <th>0</th>\n",
       "      <td>[zwei, junge, weiße, männer, sind, i, m, freie...</td>\n",
       "      <td>[two, young, ,, white, males, are, outside, ne...</td>\n",
       "      <td>[., büsche, vieler, nähe, der, in, freien, m, ...</td>\n",
       "    </tr>\n",
       "    <tr>\n",
       "      <th>1</th>\n",
       "      <td>[mehrere, männer, mit, schutzhelmen, bedienen,...</td>\n",
       "      <td>[several, men, in, hard, hats, are, operating,...</td>\n",
       "      <td>[., antriebsradsystem, ein, bedienen, schutzhe...</td>\n",
       "    </tr>\n",
       "    <tr>\n",
       "      <th>2</th>\n",
       "      <td>[ein, kleines, mädchen, klettert, in, ein, spi...</td>\n",
       "      <td>[a, little, girl, climbing, into, a, wooden, p...</td>\n",
       "      <td>[., holz, aus, spielhaus, ein, in, klettert, m...</td>\n",
       "    </tr>\n",
       "    <tr>\n",
       "      <th>3</th>\n",
       "      <td>[ein, mann, in, einem, blauen, hemd, steht, au...</td>\n",
       "      <td>[a, man, in, a, blue, shirt, is, standing, on,...</td>\n",
       "      <td>[., fenster, ein, putzt, und, leiter, einer, a...</td>\n",
       "    </tr>\n",
       "  </tbody>\n",
       "</table>\n",
       "</div>"
      ],
      "text/plain": [
       "                                       source_tokens  \\\n",
       "0  [zwei, junge, weiße, männer, sind, i, m, freie...   \n",
       "1  [mehrere, männer, mit, schutzhelmen, bedienen,...   \n",
       "2  [ein, kleines, mädchen, klettert, in, ein, spi...   \n",
       "3  [ein, mann, in, einem, blauen, hemd, steht, au...   \n",
       "\n",
       "                                       target_tokens  \\\n",
       "0  [two, young, ,, white, males, are, outside, ne...   \n",
       "1  [several, men, in, hard, hats, are, operating,...   \n",
       "2  [a, little, girl, climbing, into, a, wooden, p...   \n",
       "3  [a, man, in, a, blue, shirt, is, standing, on,...   \n",
       "\n",
       "                               source_tokens_reverse  \n",
       "0  [., büsche, vieler, nähe, der, in, freien, m, ...  \n",
       "1  [., antriebsradsystem, ein, bedienen, schutzhe...  \n",
       "2  [., holz, aus, spielhaus, ein, in, klettert, m...  \n",
       "3  [., fenster, ein, putzt, und, leiter, einer, a...  "
      ]
     },
     "execution_count": 10,
     "metadata": {},
     "output_type": "execute_result"
    }
   ],
   "source": [
    "df_train_small"
   ]
  },
  {
   "cell_type": "code",
   "execution_count": 11,
   "id": "f71adeaf-f478-41cc-b117-2bc13a38dd57",
   "metadata": {
    "execution": {
     "iopub.execute_input": "2022-03-11T10:26:22.111901Z",
     "iopub.status.busy": "2022-03-11T10:26:22.111557Z",
     "iopub.status.idle": "2022-03-11T10:26:22.115118Z",
     "shell.execute_reply": "2022-03-11T10:26:22.114628Z",
     "shell.execute_reply.started": "2022-03-11T10:26:22.111885Z"
    },
    "tags": []
   },
   "outputs": [],
   "source": [
    "df_train_small= df_train_small.drop(columns=['source_tokens_reverse'])"
   ]
  },
  {
   "cell_type": "code",
   "execution_count": 12,
   "id": "3188a307-8587-4930-8f73-96ab3172d03e",
   "metadata": {
    "execution": {
     "iopub.execute_input": "2022-03-11T10:26:22.550016Z",
     "iopub.status.busy": "2022-03-11T10:26:22.549866Z",
     "iopub.status.idle": "2022-03-11T10:26:22.556698Z",
     "shell.execute_reply": "2022-03-11T10:26:22.556327Z",
     "shell.execute_reply.started": "2022-03-11T10:26:22.549998Z"
    },
    "tags": []
   },
   "outputs": [
    {
     "data": {
      "text/html": [
       "<div>\n",
       "<style scoped>\n",
       "    .dataframe tbody tr th:only-of-type {\n",
       "        vertical-align: middle;\n",
       "    }\n",
       "\n",
       "    .dataframe tbody tr th {\n",
       "        vertical-align: top;\n",
       "    }\n",
       "\n",
       "    .dataframe thead th {\n",
       "        text-align: right;\n",
       "    }\n",
       "</style>\n",
       "<table border=\"1\" class=\"dataframe\">\n",
       "  <thead>\n",
       "    <tr style=\"text-align: right;\">\n",
       "      <th></th>\n",
       "      <th>source_tokens</th>\n",
       "      <th>target_tokens</th>\n",
       "    </tr>\n",
       "  </thead>\n",
       "  <tbody>\n",
       "    <tr>\n",
       "      <th>0</th>\n",
       "      <td>[zwei, junge, weiße, männer, sind, i, m, freie...</td>\n",
       "      <td>[two, young, ,, white, males, are, outside, ne...</td>\n",
       "    </tr>\n",
       "    <tr>\n",
       "      <th>1</th>\n",
       "      <td>[mehrere, männer, mit, schutzhelmen, bedienen,...</td>\n",
       "      <td>[several, men, in, hard, hats, are, operating,...</td>\n",
       "    </tr>\n",
       "    <tr>\n",
       "      <th>2</th>\n",
       "      <td>[ein, kleines, mädchen, klettert, in, ein, spi...</td>\n",
       "      <td>[a, little, girl, climbing, into, a, wooden, p...</td>\n",
       "    </tr>\n",
       "    <tr>\n",
       "      <th>3</th>\n",
       "      <td>[ein, mann, in, einem, blauen, hemd, steht, au...</td>\n",
       "      <td>[a, man, in, a, blue, shirt, is, standing, on,...</td>\n",
       "    </tr>\n",
       "  </tbody>\n",
       "</table>\n",
       "</div>"
      ],
      "text/plain": [
       "                                       source_tokens  \\\n",
       "0  [zwei, junge, weiße, männer, sind, i, m, freie...   \n",
       "1  [mehrere, männer, mit, schutzhelmen, bedienen,...   \n",
       "2  [ein, kleines, mädchen, klettert, in, ein, spi...   \n",
       "3  [ein, mann, in, einem, blauen, hemd, steht, au...   \n",
       "\n",
       "                                       target_tokens  \n",
       "0  [two, young, ,, white, males, are, outside, ne...  \n",
       "1  [several, men, in, hard, hats, are, operating,...  \n",
       "2  [a, little, girl, climbing, into, a, wooden, p...  \n",
       "3  [a, man, in, a, blue, shirt, is, standing, on,...  "
      ]
     },
     "execution_count": 12,
     "metadata": {},
     "output_type": "execute_result"
    }
   ],
   "source": [
    "df_train_small"
   ]
  },
  {
   "cell_type": "markdown",
   "id": "81007b85-1102-4227-bb13-8cd7bdd4b9e4",
   "metadata": {
    "id": "If-BMrTctAXj"
   },
   "source": [
    "## <font color = 'blue'> Build Vocab"
   ]
  },
  {
   "cell_type": "code",
   "execution_count": 13,
   "id": "7632fa3b-2c2a-4712-ae16-a489a854595b",
   "metadata": {
    "execution": {
     "iopub.execute_input": "2022-03-11T10:26:27.705640Z",
     "iopub.status.busy": "2022-03-11T10:26:27.705474Z",
     "iopub.status.idle": "2022-03-11T10:26:27.708719Z",
     "shell.execute_reply": "2022-03-11T10:26:27.708385Z",
     "shell.execute_reply.started": "2022-03-11T10:26:27.705626Z"
    },
    "executionInfo": {
     "elapsed": 309,
     "status": "ok",
     "timestamp": 1644562027083,
     "user": {
      "displayName": "Shaannoor Mann",
      "photoUrl": "https://lh3.googleusercontent.com/a/default-user=s64",
      "userId": "02520257695567980696"
     },
     "user_tz": 360
    },
    "id": "GY9kL2JxtAXj",
    "tags": []
   },
   "outputs": [],
   "source": [
    "def create_vocab(text, min_freq, specials):\n",
    "    my_counter = Counter()\n",
    "    for line in text:\n",
    "       my_counter.update(line)\n",
    "    my_vocab = vocab(my_counter, min_freq=min_freq)\n",
    "    for i, special in enumerate(specials):\n",
    "        my_vocab.insert_token(special, i)\n",
    "    my_vocab.set_default_index(0)\n",
    "    return my_vocab"
   ]
  },
  {
   "cell_type": "markdown",
   "id": "61f5ca8a-cc65-4ab9-9687-9602199cf665",
   "metadata": {},
   "source": [
    "Create source vocab, We will add four special tokens - ```['<unk>', '<BOS>', '<EOS>', '<PAD>']```"
   ]
  },
  {
   "cell_type": "markdown",
   "id": "693cfbc2-1991-488d-80db-ae81455844ef",
   "metadata": {
    "execution": {
     "iopub.execute_input": "2022-03-06T18:47:09.646766Z",
     "iopub.status.busy": "2022-03-06T18:47:09.646608Z",
     "iopub.status.idle": "2022-03-06T18:47:09.649209Z",
     "shell.execute_reply": "2022-03-06T18:47:09.648843Z",
     "shell.execute_reply.started": "2022-03-06T18:47:09.646752Z"
    }
   },
   "source": [
    "### <font color = 'blue'> Source Vocab"
   ]
  },
  {
   "cell_type": "code",
   "execution_count": 14,
   "id": "dd865f19-348b-405b-bced-b5b0e3b194f4",
   "metadata": {
    "execution": {
     "iopub.execute_input": "2022-03-11T10:26:28.817646Z",
     "iopub.status.busy": "2022-03-11T10:26:28.817448Z",
     "iopub.status.idle": "2022-03-11T10:26:28.847359Z",
     "shell.execute_reply": "2022-03-11T10:26:28.847030Z",
     "shell.execute_reply.started": "2022-03-11T10:26:28.817632Z"
    },
    "executionInfo": {
     "elapsed": 1,
     "status": "ok",
     "timestamp": 1644562028109,
     "user": {
      "displayName": "Shaannoor Mann",
      "photoUrl": "https://lh3.googleusercontent.com/a/default-user=s64",
      "userId": "02520257695567980696"
     },
     "user_tz": 360
    },
    "id": "dcvIJAIHtAXj",
    "tags": []
   },
   "outputs": [],
   "source": [
    "source_vocab = create_vocab(df_train_small['source_tokens'], 1, ['<unk>', '<BOS>', '<EOS>', '<PAD>'])"
   ]
  },
  {
   "cell_type": "code",
   "execution_count": 15,
   "id": "1fb12c96-10dd-4464-8049-ce5c6832cd0f",
   "metadata": {
    "colab": {
     "base_uri": "https://localhost:8080/"
    },
    "execution": {
     "iopub.execute_input": "2022-03-11T10:26:29.118468Z",
     "iopub.status.busy": "2022-03-11T10:26:29.118310Z",
     "iopub.status.idle": "2022-03-11T10:26:29.121852Z",
     "shell.execute_reply": "2022-03-11T10:26:29.121505Z",
     "shell.execute_reply.started": "2022-03-11T10:26:29.118455Z"
    },
    "executionInfo": {
     "elapsed": 2,
     "status": "ok",
     "timestamp": 1644562029061,
     "user": {
      "displayName": "Shaannoor Mann",
      "photoUrl": "https://lh3.googleusercontent.com/a/default-user=s64",
      "userId": "02520257695567980696"
     },
     "user_tz": 360
    },
    "id": "qtEt9Sh-tAXk",
    "outputId": "1764add1-bf7a-4c9f-f38c-efff19b32b07",
    "tags": []
   },
   "outputs": [
    {
     "data": {
      "text/plain": [
       "41"
      ]
     },
     "execution_count": 15,
     "metadata": {},
     "output_type": "execute_result"
    }
   ],
   "source": [
    "len(source_vocab)"
   ]
  },
  {
   "cell_type": "code",
   "execution_count": 16,
   "id": "ecf7f74b-000c-4cb9-ae76-8bca87663777",
   "metadata": {
    "colab": {
     "base_uri": "https://localhost:8080/",
     "height": 423
    },
    "execution": {
     "iopub.execute_input": "2022-03-11T10:26:29.451458Z",
     "iopub.status.busy": "2022-03-11T10:26:29.451302Z",
     "iopub.status.idle": "2022-03-11T10:26:29.458031Z",
     "shell.execute_reply": "2022-03-11T10:26:29.457706Z",
     "shell.execute_reply.started": "2022-03-11T10:26:29.451445Z"
    },
    "executionInfo": {
     "elapsed": 3,
     "status": "ok",
     "timestamp": 1644562030020,
     "user": {
      "displayName": "Shaannoor Mann",
      "photoUrl": "https://lh3.googleusercontent.com/a/default-user=s64",
      "userId": "02520257695567980696"
     },
     "user_tz": 360
    },
    "id": "bf9fu5L2tAXk",
    "outputId": "35252b98-1fff-4186-8274-aadae1b1b0b4",
    "tags": []
   },
   "outputs": [
    {
     "data": {
      "text/html": [
       "<div>\n",
       "<style scoped>\n",
       "    .dataframe tbody tr th:only-of-type {\n",
       "        vertical-align: middle;\n",
       "    }\n",
       "\n",
       "    .dataframe tbody tr th {\n",
       "        vertical-align: top;\n",
       "    }\n",
       "\n",
       "    .dataframe thead th {\n",
       "        text-align: right;\n",
       "    }\n",
       "</style>\n",
       "<table border=\"1\" class=\"dataframe\">\n",
       "  <thead>\n",
       "    <tr style=\"text-align: right;\">\n",
       "      <th></th>\n",
       "      <th>tokens</th>\n",
       "      <th>index</th>\n",
       "    </tr>\n",
       "  </thead>\n",
       "  <tbody>\n",
       "    <tr>\n",
       "      <th>28</th>\n",
       "      <td>&lt;unk&gt;</td>\n",
       "      <td>0</td>\n",
       "    </tr>\n",
       "    <tr>\n",
       "      <th>34</th>\n",
       "      <td>&lt;BOS&gt;</td>\n",
       "      <td>1</td>\n",
       "    </tr>\n",
       "    <tr>\n",
       "      <th>23</th>\n",
       "      <td>&lt;EOS&gt;</td>\n",
       "      <td>2</td>\n",
       "    </tr>\n",
       "    <tr>\n",
       "      <th>19</th>\n",
       "      <td>&lt;PAD&gt;</td>\n",
       "      <td>3</td>\n",
       "    </tr>\n",
       "    <tr>\n",
       "      <th>17</th>\n",
       "      <td>zwei</td>\n",
       "      <td>4</td>\n",
       "    </tr>\n",
       "    <tr>\n",
       "      <th>27</th>\n",
       "      <td>junge</td>\n",
       "      <td>5</td>\n",
       "    </tr>\n",
       "    <tr>\n",
       "      <th>14</th>\n",
       "      <td>weiße</td>\n",
       "      <td>6</td>\n",
       "    </tr>\n",
       "    <tr>\n",
       "      <th>12</th>\n",
       "      <td>männer</td>\n",
       "      <td>7</td>\n",
       "    </tr>\n",
       "    <tr>\n",
       "      <th>16</th>\n",
       "      <td>sind</td>\n",
       "      <td>8</td>\n",
       "    </tr>\n",
       "    <tr>\n",
       "      <th>7</th>\n",
       "      <td>i</td>\n",
       "      <td>9</td>\n",
       "    </tr>\n",
       "  </tbody>\n",
       "</table>\n",
       "</div>"
      ],
      "text/plain": [
       "    tokens  index\n",
       "28   <unk>      0\n",
       "34   <BOS>      1\n",
       "23   <EOS>      2\n",
       "19   <PAD>      3\n",
       "17    zwei      4\n",
       "27   junge      5\n",
       "14   weiße      6\n",
       "12  männer      7\n",
       "16    sind      8\n",
       "7        i      9"
      ]
     },
     "execution_count": 16,
     "metadata": {},
     "output_type": "execute_result"
    }
   ],
   "source": [
    "pd.DataFrame(source_vocab.get_stoi().items(), columns=['tokens', 'index']).sort_values(by = ['index'])[0:10]"
   ]
  },
  {
   "cell_type": "code",
   "execution_count": 17,
   "id": "2e2a600e-4f3d-4281-8871-9ff6bfee86dc",
   "metadata": {
    "colab": {
     "base_uri": "https://localhost:8080/"
    },
    "execution": {
     "iopub.execute_input": "2022-03-11T10:26:29.898933Z",
     "iopub.status.busy": "2022-03-11T10:26:29.898735Z",
     "iopub.status.idle": "2022-03-11T10:26:29.901803Z",
     "shell.execute_reply": "2022-03-11T10:26:29.901475Z",
     "shell.execute_reply.started": "2022-03-11T10:26:29.898904Z"
    },
    "executionInfo": {
     "elapsed": 2,
     "status": "ok",
     "timestamp": 1644562031101,
     "user": {
      "displayName": "Shaannoor Mann",
      "photoUrl": "https://lh3.googleusercontent.com/a/default-user=s64",
      "userId": "02520257695567980696"
     },
     "user_tz": 360
    },
    "id": "8pKCTbN6tAXk",
    "outputId": "fd7c0bbb-562a-4313-fcb7-16a486abe4fd",
    "tags": []
   },
   "outputs": [
    {
     "data": {
      "text/plain": [
       "0"
      ]
     },
     "execution_count": 17,
     "metadata": {},
     "output_type": "execute_result"
    }
   ],
   "source": [
    "# check index of unknown word - it should be zero\n",
    "source_vocab['abracdabra']"
   ]
  },
  {
   "cell_type": "markdown",
   "id": "dc781ff6-3547-4db6-8b74-fd8c352ff68b",
   "metadata": {},
   "source": [
    "### <font color = 'blue'> Target Vocab"
   ]
  },
  {
   "cell_type": "code",
   "execution_count": 18,
   "id": "d38f80ff-64b1-4b07-b885-f0b358e00a84",
   "metadata": {
    "execution": {
     "iopub.execute_input": "2022-03-11T10:26:30.590179Z",
     "iopub.status.busy": "2022-03-11T10:26:30.590036Z",
     "iopub.status.idle": "2022-03-11T10:26:30.620649Z",
     "shell.execute_reply": "2022-03-11T10:26:30.620215Z",
     "shell.execute_reply.started": "2022-03-11T10:26:30.590166Z"
    },
    "executionInfo": {
     "elapsed": 637,
     "status": "ok",
     "timestamp": 1644562032737,
     "user": {
      "displayName": "Shaannoor Mann",
      "photoUrl": "https://lh3.googleusercontent.com/a/default-user=s64",
      "userId": "02520257695567980696"
     },
     "user_tz": 360
    },
    "id": "qkXg6IratAXk",
    "tags": []
   },
   "outputs": [],
   "source": [
    "target_vocab = create_vocab(df_train_small['target_tokens'], 1, ['<unk>', '<BOS>', '<EOS>', '<PAD>'])"
   ]
  },
  {
   "cell_type": "code",
   "execution_count": 19,
   "id": "9d8dc1e5-83c3-457e-99b6-24bf36378807",
   "metadata": {
    "colab": {
     "base_uri": "https://localhost:8080/"
    },
    "execution": {
     "iopub.execute_input": "2022-03-11T10:26:30.917841Z",
     "iopub.status.busy": "2022-03-11T10:26:30.917699Z",
     "iopub.status.idle": "2022-03-11T10:26:30.920853Z",
     "shell.execute_reply": "2022-03-11T10:26:30.920491Z",
     "shell.execute_reply.started": "2022-03-11T10:26:30.917828Z"
    },
    "executionInfo": {
     "elapsed": 2,
     "status": "ok",
     "timestamp": 1644562033264,
     "user": {
      "displayName": "Shaannoor Mann",
      "photoUrl": "https://lh3.googleusercontent.com/a/default-user=s64",
      "userId": "02520257695567980696"
     },
     "user_tz": 360
    },
    "id": "v_Y8C62GtAXk",
    "outputId": "e8c4cb40-b386-43c9-9f34-887f5f5c4ed1",
    "tags": []
   },
   "outputs": [
    {
     "data": {
      "text/plain": [
       "40"
      ]
     },
     "execution_count": 19,
     "metadata": {},
     "output_type": "execute_result"
    }
   ],
   "source": [
    "len(target_vocab)"
   ]
  },
  {
   "cell_type": "markdown",
   "id": "582580e0-4607-48a9-9d71-bce2a8262c87",
   "metadata": {
    "id": "feccYoeWtAXk"
   },
   "source": [
    "## <font color = 'blue'> Create Dataset and Dataloader"
   ]
  },
  {
   "cell_type": "code",
   "execution_count": 20,
   "id": "acf9514c-e3d8-4789-b714-6fdc8c769601",
   "metadata": {
    "execution": {
     "iopub.execute_input": "2022-03-11T10:26:33.991881Z",
     "iopub.status.busy": "2022-03-11T10:26:33.991727Z",
     "iopub.status.idle": "2022-03-11T10:26:33.994825Z",
     "shell.execute_reply": "2022-03-11T10:26:33.994374Z",
     "shell.execute_reply.started": "2022-03-11T10:26:33.991867Z"
    },
    "executionInfo": {
     "elapsed": 2,
     "status": "ok",
     "timestamp": 1644562046437,
     "user": {
      "displayName": "Shaannoor Mann",
      "photoUrl": "https://lh3.googleusercontent.com/a/default-user=s64",
      "userId": "02520257695567980696"
     },
     "user_tz": 360
    },
    "id": "fCMXepKUtAXk",
    "tags": []
   },
   "outputs": [],
   "source": [
    "class EngGerman(Dataset):\n",
    "    def __init__(self, X1, X2):\n",
    "        self.X1 = X1\n",
    "        self.X2 = X2\n",
    "        \n",
    "    def __len__(self):\n",
    "        return len(self.X1)\n",
    "    \n",
    "    def __getitem__(self, indices):\n",
    "        return (self.X1.iloc[indices] , self.X2.iloc[indices]) "
   ]
  },
  {
   "cell_type": "code",
   "execution_count": 21,
   "id": "683435d8-3861-4ac5-8c0c-7b75717b3e13",
   "metadata": {
    "execution": {
     "iopub.execute_input": "2022-03-11T10:26:34.261481Z",
     "iopub.status.busy": "2022-03-11T10:26:34.261305Z",
     "iopub.status.idle": "2022-03-11T10:26:34.264042Z",
     "shell.execute_reply": "2022-03-11T10:26:34.263641Z",
     "shell.execute_reply.started": "2022-03-11T10:26:34.261467Z"
    },
    "executionInfo": {
     "elapsed": 2,
     "status": "ok",
     "timestamp": 1644562047576,
     "user": {
      "displayName": "Shaannoor Mann",
      "photoUrl": "https://lh3.googleusercontent.com/a/default-user=s64",
      "userId": "02520257695567980696"
     },
     "user_tz": 360
    },
    "id": "-Q32VBamtAXl",
    "tags": []
   },
   "outputs": [],
   "source": [
    "trainset = EngGerman(df_train_small['source_tokens'], df_train['target_tokens'])"
   ]
  },
  {
   "cell_type": "code",
   "execution_count": 22,
   "id": "2c6def95-767d-4851-a5a1-dc363b853e2a",
   "metadata": {
    "colab": {
     "base_uri": "https://localhost:8080/"
    },
    "execution": {
     "iopub.execute_input": "2022-03-11T10:26:34.538050Z",
     "iopub.status.busy": "2022-03-11T10:26:34.537927Z",
     "iopub.status.idle": "2022-03-11T10:26:34.541817Z",
     "shell.execute_reply": "2022-03-11T10:26:34.541377Z",
     "shell.execute_reply.started": "2022-03-11T10:26:34.538036Z"
    },
    "executionInfo": {
     "elapsed": 2,
     "status": "ok",
     "timestamp": 1644562048806,
     "user": {
      "displayName": "Shaannoor Mann",
      "photoUrl": "https://lh3.googleusercontent.com/a/default-user=s64",
      "userId": "02520257695567980696"
     },
     "user_tz": 360
    },
    "id": "2md5tDSutAXl",
    "outputId": "e43ad22f-28f2-4edc-ca70-25d8c38e53db",
    "tags": []
   },
   "outputs": [
    {
     "data": {
      "text/plain": [
       "(['zwei',\n",
       "  'junge',\n",
       "  'weiße',\n",
       "  'männer',\n",
       "  'sind',\n",
       "  'i',\n",
       "  'm',\n",
       "  'freien',\n",
       "  'in',\n",
       "  'der',\n",
       "  'nähe',\n",
       "  'vieler',\n",
       "  'büsche',\n",
       "  '.'],\n",
       " ['two',\n",
       "  'young',\n",
       "  ',',\n",
       "  'white',\n",
       "  'males',\n",
       "  'are',\n",
       "  'outside',\n",
       "  'near',\n",
       "  'many',\n",
       "  'bushes',\n",
       "  '.'])"
      ]
     },
     "execution_count": 22,
     "metadata": {},
     "output_type": "execute_result"
    }
   ],
   "source": [
    "trainset[0]"
   ]
  },
  {
   "cell_type": "code",
   "execution_count": 23,
   "id": "ad472908-179d-4610-9a93-25bb58633c2e",
   "metadata": {
    "colab": {
     "base_uri": "https://localhost:8080/"
    },
    "execution": {
     "iopub.execute_input": "2022-03-11T10:26:34.893374Z",
     "iopub.status.busy": "2022-03-11T10:26:34.893227Z",
     "iopub.status.idle": "2022-03-11T10:26:34.897023Z",
     "shell.execute_reply": "2022-03-11T10:26:34.896671Z",
     "shell.execute_reply.started": "2022-03-11T10:26:34.893360Z"
    },
    "executionInfo": {
     "elapsed": 452,
     "status": "ok",
     "timestamp": 1644562050493,
     "user": {
      "displayName": "Shaannoor Mann",
      "photoUrl": "https://lh3.googleusercontent.com/a/default-user=s64",
      "userId": "02520257695567980696"
     },
     "user_tz": 360
    },
    "id": "L18xzZrltAXl",
    "outputId": "a12c767b-1970-48ac-b82e-86061d92c503",
    "tags": []
   },
   "outputs": [
    {
     "data": {
      "text/plain": [
       "(['mehrere',\n",
       "  'männer',\n",
       "  'mit',\n",
       "  'schutzhelmen',\n",
       "  'bedienen',\n",
       "  'ein',\n",
       "  'antriebsradsystem',\n",
       "  '.'],\n",
       " ['several',\n",
       "  'men',\n",
       "  'in',\n",
       "  'hard',\n",
       "  'hats',\n",
       "  'are',\n",
       "  'operating',\n",
       "  'a',\n",
       "  'giant',\n",
       "  'pulley',\n",
       "  'system',\n",
       "  '.'])"
      ]
     },
     "execution_count": 23,
     "metadata": {},
     "output_type": "execute_result"
    }
   ],
   "source": [
    "trainset[1]"
   ]
  },
  {
   "cell_type": "code",
   "execution_count": 24,
   "id": "d4871a54-c2e6-43a3-8746-9fd8fbb44a34",
   "metadata": {
    "execution": {
     "iopub.execute_input": "2022-03-11T10:26:35.328711Z",
     "iopub.status.busy": "2022-03-11T10:26:35.328523Z",
     "iopub.status.idle": "2022-03-11T10:26:35.332347Z",
     "shell.execute_reply": "2022-03-11T10:26:35.331954Z",
     "shell.execute_reply.started": "2022-03-11T10:26:35.328698Z"
    },
    "tags": []
   },
   "outputs": [
    {
     "data": {
      "text/plain": [
       "(['ein',\n",
       "  'kleines',\n",
       "  'mädchen',\n",
       "  'klettert',\n",
       "  'in',\n",
       "  'ein',\n",
       "  'spielhaus',\n",
       "  'aus',\n",
       "  'holz',\n",
       "  '.'],\n",
       " ['a', 'little', 'girl', 'climbing', 'into', 'a', 'wooden', 'playhouse', '.'])"
      ]
     },
     "execution_count": 24,
     "metadata": {},
     "output_type": "execute_result"
    }
   ],
   "source": [
    "trainset[2]"
   ]
  },
  {
   "cell_type": "code",
   "execution_count": 25,
   "id": "e06d2728-6952-40e9-8ff9-40373a932d90",
   "metadata": {
    "execution": {
     "iopub.execute_input": "2022-03-11T10:26:35.720252Z",
     "iopub.status.busy": "2022-03-11T10:26:35.720074Z",
     "iopub.status.idle": "2022-03-11T10:26:35.723763Z",
     "shell.execute_reply": "2022-03-11T10:26:35.723496Z",
     "shell.execute_reply.started": "2022-03-11T10:26:35.720240Z"
    },
    "tags": []
   },
   "outputs": [
    {
     "data": {
      "text/plain": [
       "(['ein',\n",
       "  'mann',\n",
       "  'in',\n",
       "  'einem',\n",
       "  'blauen',\n",
       "  'hemd',\n",
       "  'steht',\n",
       "  'auf',\n",
       "  'einer',\n",
       "  'leiter',\n",
       "  'und',\n",
       "  'putzt',\n",
       "  'ein',\n",
       "  'fenster',\n",
       "  '.'],\n",
       " ['a',\n",
       "  'man',\n",
       "  'in',\n",
       "  'a',\n",
       "  'blue',\n",
       "  'shirt',\n",
       "  'is',\n",
       "  'standing',\n",
       "  'on',\n",
       "  'a',\n",
       "  'ladder',\n",
       "  'cleaning',\n",
       "  'a',\n",
       "  'window',\n",
       "  '.'])"
      ]
     },
     "execution_count": 25,
     "metadata": {},
     "output_type": "execute_result"
    }
   ],
   "source": [
    "trainset[3]"
   ]
  },
  {
   "cell_type": "markdown",
   "id": "02cde7c7-fdce-4144-bbd7-cb482af79b9f",
   "metadata": {},
   "source": [
    "<font color = 'green'> **Function to replace words woth their index. Alaso add tokens BOS and EOS for beginning and end of sentences**"
   ]
  },
  {
   "cell_type": "code",
   "execution_count": 26,
   "id": "5d4b0300-853f-4236-85da-d840a3cdedaa",
   "metadata": {
    "execution": {
     "iopub.execute_input": "2022-03-11T10:26:36.511886Z",
     "iopub.status.busy": "2022-03-11T10:26:36.511745Z",
     "iopub.status.idle": "2022-03-11T10:26:36.514317Z",
     "shell.execute_reply": "2022-03-11T10:26:36.513988Z",
     "shell.execute_reply.started": "2022-03-11T10:26:36.511873Z"
    },
    "executionInfo": {
     "elapsed": 1,
     "status": "ok",
     "timestamp": 1644562051382,
     "user": {
      "displayName": "Shaannoor Mann",
      "photoUrl": "https://lh3.googleusercontent.com/a/default-user=s64",
      "userId": "02520257695567980696"
     },
     "user_tz": 360
    },
    "id": "bPg8WslltAXl",
    "tags": []
   },
   "outputs": [],
   "source": [
    "def text_transform (my_vocab, text):\n",
    "     text_numerical = [my_vocab[token] for token in text]\n",
    "     return torch.tensor([my_vocab['<BOS>']] + text_numerical + [my_vocab['<EOS>']])\n",
    "     #return list(my_vocab['<BOS>']) + text_numerical + list(my_vocab['<EOS>'])"
   ]
  },
  {
   "cell_type": "code",
   "execution_count": 27,
   "id": "af551a9e-30da-47c5-a4eb-88ad81d81a4b",
   "metadata": {
    "colab": {
     "base_uri": "https://localhost:8080/"
    },
    "execution": {
     "iopub.execute_input": "2022-03-11T10:26:37.071356Z",
     "iopub.status.busy": "2022-03-11T10:26:37.071217Z",
     "iopub.status.idle": "2022-03-11T10:26:37.075857Z",
     "shell.execute_reply": "2022-03-11T10:26:37.075490Z",
     "shell.execute_reply.started": "2022-03-11T10:26:37.071343Z"
    },
    "executionInfo": {
     "elapsed": 2,
     "status": "ok",
     "timestamp": 1644562052563,
     "user": {
      "displayName": "Shaannoor Mann",
      "photoUrl": "https://lh3.googleusercontent.com/a/default-user=s64",
      "userId": "02520257695567980696"
     },
     "user_tz": 360
    },
    "id": "bpQKiRHLtAXl",
    "outputId": "d949e909-118d-49b6-dfcd-0e54a4790b7a",
    "tags": []
   },
   "outputs": [
    {
     "name": "stdout",
     "output_type": "stream",
     "text": [
      "['two', 'young', ',', 'white', 'males', 'are', 'outside', 'near', 'many', 'bushes', '.']\n"
     ]
    },
    {
     "data": {
      "text/plain": [
       "tensor([ 1,  4,  5,  6,  7,  8,  9, 10, 11, 12, 13, 14,  2])"
      ]
     },
     "execution_count": 27,
     "metadata": {},
     "output_type": "execute_result"
    }
   ],
   "source": [
    "text = trainset[0][1]\n",
    "print(text)\n",
    "text_transform(target_vocab, text)"
   ]
  },
  {
   "cell_type": "code",
   "execution_count": 28,
   "id": "5da5e554-05bd-4b16-ade1-d28ab0b413b7",
   "metadata": {
    "execution": {
     "iopub.execute_input": "2022-03-11T10:26:37.444175Z",
     "iopub.status.busy": "2022-03-11T10:26:37.444022Z",
     "iopub.status.idle": "2022-03-11T10:26:37.447700Z",
     "shell.execute_reply": "2022-03-11T10:26:37.447364Z",
     "shell.execute_reply.started": "2022-03-11T10:26:37.444161Z"
    },
    "tags": []
   },
   "outputs": [
    {
     "name": "stdout",
     "output_type": "stream",
     "text": [
      "['several', 'men', 'in', 'hard', 'hats', 'are', 'operating', 'a', 'giant', 'pulley', 'system', '.']\n"
     ]
    },
    {
     "data": {
      "text/plain": [
       "tensor([ 1, 15, 16, 17, 18, 19,  9, 20, 21, 22, 23, 24, 14,  2])"
      ]
     },
     "execution_count": 28,
     "metadata": {},
     "output_type": "execute_result"
    }
   ],
   "source": [
    "text = trainset[1][1]\n",
    "print(text)\n",
    "text_transform(target_vocab, text)"
   ]
  },
  {
   "cell_type": "markdown",
   "id": "f8fc0256-8405-40f7-b0e2-0ee2a8451955",
   "metadata": {},
   "source": [
    "<font color = 'green'> Create a function that will be use by dataloaders to group obsevations. We will first use transform function to add eos and bos tokens and replace words with indexes. Finally we will add pad tokens for smaller sentences in a batch."
   ]
  },
  {
   "cell_type": "code",
   "execution_count": 29,
   "id": "47192a3a-94dd-47d3-9b51-44f4ef3e2941",
   "metadata": {
    "execution": {
     "iopub.execute_input": "2022-03-11T10:27:14.918978Z",
     "iopub.status.busy": "2022-03-11T10:27:14.918838Z",
     "iopub.status.idle": "2022-03-11T10:27:14.922090Z",
     "shell.execute_reply": "2022-03-11T10:27:14.921761Z",
     "shell.execute_reply.started": "2022-03-11T10:27:14.918965Z"
    },
    "executionInfo": {
     "elapsed": 452,
     "status": "ok",
     "timestamp": 1644562054119,
     "user": {
      "displayName": "Shaannoor Mann",
      "photoUrl": "https://lh3.googleusercontent.com/a/default-user=s64",
      "userId": "02520257695567980696"
     },
     "user_tz": 360
    },
    "id": "CgKupdZ1Un2-",
    "tags": []
   },
   "outputs": [],
   "source": [
    "def collate_batch(batch):\n",
    "   source_list, target_list = [], []\n",
    "   for (source_text, target_text) in batch:\n",
    "        source_transform = text_transform(source_vocab, source_text)\n",
    "        source_list.append(source_transform)\n",
    "        target_transform =text_transform(target_vocab, target_text)\n",
    "        target_list.append(target_transform)\n",
    "        \n",
    "   source_pad = pad_sequence(source_list, padding_value=3.0, batch_first = True)\n",
    "   target_pad = pad_sequence(target_list, padding_value=3.0, batch_first = True)\n",
    "   #print(source_list)\n",
    "   return (source_pad, target_pad)"
   ]
  },
  {
   "cell_type": "code",
   "execution_count": 30,
   "id": "60dae86d-89a8-419e-b186-e989dcbadba2",
   "metadata": {
    "execution": {
     "iopub.execute_input": "2022-03-11T10:27:15.648098Z",
     "iopub.status.busy": "2022-03-11T10:27:15.647957Z",
     "iopub.status.idle": "2022-03-11T10:27:15.650406Z",
     "shell.execute_reply": "2022-03-11T10:27:15.650091Z",
     "shell.execute_reply.started": "2022-03-11T10:27:15.648085Z"
    },
    "executionInfo": {
     "elapsed": 2,
     "status": "ok",
     "timestamp": 1644562055245,
     "user": {
      "displayName": "Shaannoor Mann",
      "photoUrl": "https://lh3.googleusercontent.com/a/default-user=s64",
      "userId": "02520257695567980696"
     },
     "user_tz": 360
    },
    "id": "EqHCA63DUn2_",
    "tags": []
   },
   "outputs": [],
   "source": [
    "batch_size = 2\n",
    "\n",
    "train_loader = DataLoader(trainset, batch_size=batch_size, shuffle=True, \n",
    "                              collate_fn=collate_batch)"
   ]
  },
  {
   "cell_type": "code",
   "execution_count": 31,
   "id": "a36435f6-2f68-4e61-b1ce-3f05c718ae47",
   "metadata": {
    "colab": {
     "base_uri": "https://localhost:8080/"
    },
    "execution": {
     "iopub.execute_input": "2022-03-11T10:27:20.491727Z",
     "iopub.status.busy": "2022-03-11T10:27:20.491455Z",
     "iopub.status.idle": "2022-03-11T10:27:20.513118Z",
     "shell.execute_reply": "2022-03-11T10:27:20.512720Z",
     "shell.execute_reply.started": "2022-03-11T10:27:20.491711Z"
    },
    "executionInfo": {
     "elapsed": 321,
     "status": "ok",
     "timestamp": 1644562056795,
     "user": {
      "displayName": "Shaannoor Mann",
      "photoUrl": "https://lh3.googleusercontent.com/a/default-user=s64",
      "userId": "02520257695567980696"
     },
     "user_tz": 360
    },
    "id": "-NUpXpJYtAXm",
    "outputId": "fffcd026-2cb5-4d9a-b657-d0f15136ff02",
    "tags": []
   },
   "outputs": [
    {
     "name": "stdout",
     "output_type": "stream",
     "text": [
      "batch number: 0\n",
      "tensor([[ 1,  4,  5,  6,  7,  8,  9, 10, 11, 12, 13, 14, 15, 16, 17,  2],\n",
      "        [ 1, 18,  7, 19, 20, 21, 22, 23, 17,  2,  3,  3,  3,  3,  3,  3]])\n",
      "batch number: 1\n",
      "tensor([[ 1, 22, 30, 12, 31, 32, 33, 34, 35, 36, 37, 38, 39, 22, 40, 17,  2],\n",
      "        [ 1, 22, 24, 25, 26, 12, 22, 27, 28, 29, 17,  2,  3,  3,  3,  3,  3]])\n"
     ]
    }
   ],
   "source": [
    "for i, (source, target) in enumerate(train_loader):\n",
    "  print('batch number:' ,i)\n",
    "  print(source)"
   ]
  },
  {
   "cell_type": "code",
   "execution_count": 32,
   "id": "7fa840da-a54d-46a0-96bf-72fd6d86e7c7",
   "metadata": {
    "execution": {
     "iopub.execute_input": "2022-03-11T10:27:21.169288Z",
     "iopub.status.busy": "2022-03-11T10:27:21.168936Z",
     "iopub.status.idle": "2022-03-11T10:27:21.172182Z",
     "shell.execute_reply": "2022-03-11T10:27:21.171940Z",
     "shell.execute_reply.started": "2022-03-11T10:27:21.169272Z"
    },
    "tags": []
   },
   "outputs": [
    {
     "data": {
      "text/plain": [
       "device(type='cuda')"
      ]
     },
     "execution_count": 32,
     "metadata": {},
     "output_type": "execute_result"
    }
   ],
   "source": [
    "device = torch.device('cuda' if torch.cuda.is_available() else 'cpu')\n",
    "#device = torch.device('cpu')\n",
    "device"
   ]
  },
  {
   "cell_type": "code",
   "execution_count": 33,
   "id": "e8c394a8-90ae-477c-90bb-3af298edcf89",
   "metadata": {
    "execution": {
     "iopub.execute_input": "2022-03-11T10:27:24.845474Z",
     "iopub.status.busy": "2022-03-11T10:27:24.845325Z",
     "iopub.status.idle": "2022-03-11T10:27:24.848352Z",
     "shell.execute_reply": "2022-03-11T10:27:24.847986Z",
     "shell.execute_reply.started": "2022-03-11T10:27:24.845461Z"
    },
    "tags": []
   },
   "outputs": [
    {
     "name": "stdout",
     "output_type": "stream",
     "text": [
      "tensor([[ 1, 22, 30, 12, 31, 32, 33, 34, 35, 36, 37, 38, 39, 22, 40, 17,  2],\n",
      "        [ 1, 22, 24, 25, 26, 12, 22, 27, 28, 29, 17,  2,  3,  3,  3,  3,  3]])\n",
      "torch.Size([2, 17])\n"
     ]
    }
   ],
   "source": [
    "src = source.clone()\n",
    "print(src)\n",
    "print(src.shape)"
   ]
  },
  {
   "cell_type": "code",
   "execution_count": 34,
   "id": "cd6858d6-7567-4e4c-be3e-6bf2b4c55af8",
   "metadata": {
    "execution": {
     "iopub.execute_input": "2022-03-11T10:27:25.250565Z",
     "iopub.status.busy": "2022-03-11T10:27:25.250409Z",
     "iopub.status.idle": "2022-03-11T10:27:25.254042Z",
     "shell.execute_reply": "2022-03-11T10:27:25.253649Z",
     "shell.execute_reply.started": "2022-03-11T10:27:25.250552Z"
    },
    "tags": []
   },
   "outputs": [
    {
     "name": "stdout",
     "output_type": "stream",
     "text": [
      "tensor([[ 1, 22, 30, 12, 31, 32, 33, 34, 35, 36, 37, 38, 39, 22, 40, 17,  2],\n",
      "        [ 1, 22, 24, 25, 26, 12, 22, 27, 28, 29, 17,  2,  3,  3,  3,  3,  3]])\n",
      "torch.Size([2, 17])\n"
     ]
    }
   ],
   "source": [
    "trg= target.clone\n",
    "print(src)\n",
    "print(src.shape)"
   ]
  },
  {
   "cell_type": "markdown",
   "id": "083c06a7-0228-4083-b0bb-ca4587bcfd87",
   "metadata": {},
   "source": [
    "# <font color = 'blue'> Building the Model"
   ]
  },
  {
   "cell_type": "markdown",
   "id": "5b8aeae4-f086-403c-b5e5-c43e72819f2b",
   "metadata": {},
   "source": [
    "## <font color = 'blue'> Encoder"
   ]
  },
  {
   "cell_type": "markdown",
   "id": "32f91c87-cdf9-4f19-9e50-e4e8c025ed5b",
   "metadata": {},
   "source": [
    "Similar to the ConvSeq2Seq model, the Transformer's encoder does not attempt to compress the entire source sentence, $X = (x_1, ... ,x_n)$, into a single context vector, $z$. Instead it produces a sequence of context vectors, $Z = (z_1, ... , z_n)$. So, if our input sequence was 5 tokens long we would have $Z = (z_1, z_2, z_3, z_4, z_5)$. Why do we call this a sequence of context vectors and not a sequence of hidden states? A hidden state at time $t$ in an RNN has only seen tokens $x_t$ and all the tokens before it. However, each context vector here has seen all tokens at all positions within the input sequence.\n",
    "\n",
    "![](assets/transformer-encoder.png)"
   ]
  },
  {
   "cell_type": "markdown",
   "id": "2fa8a0fc-5190-416c-8776-1c113a9d2e30",
   "metadata": {},
   "source": [
    "### <font color = 'blue'>  **Embeddings**"
   ]
  },
  {
   "cell_type": "markdown",
   "id": "9c000298-774b-4647-a7ed-9aa670d71e96",
   "metadata": {},
   "source": [
    "1. First, the tokens are passed through a standard embedding layer. \n",
    "2. the token embeddings are multiplied by a scaling factor which is $\\sqrt{d_{model}}$, where $d_{model}$ is the hidden dimension size, `hid_dim`.This supposedly reduces variance in the embeddings and the model is difficult to train reliably without this scaling factor. \n",
    "3.Next, the position of the token within the sequence (starting with the first token, the `<sos>` (start of sequence) token, in position 0) is passed through another embedding layer called a *positional embedding layer*. This is a standard embedding layer where the input is not the token itself but teh position. FOr our small example, the position embedding has a \"vocabulary\" size of 20, which means our model can accept sentences up to 20 tokens long. This can be increased if we want to handle longer sentences.<font color = 'red'> **Checked the fixed static embeddings used in the original paper** </font>\n",
    "\n",
    "4. Next, the token and positional embeddings are elementwise summed together to get a vector which contains information about the token and also its position with in the sequence.  <font color = 'red'>*Dropout is then applied to the combined embeddings.**>/font>\n",
    "\n",
    "5. The combined embeddings are then passed through $N$ *encoder layers* to get $Z$, which is then used by the decoder. We will use 2 layers for our smal example.    \n",
    "   "
   ]
  },
  {
   "cell_type": "markdown",
   "id": "1415b8a5-b4eb-4620-9c52-220325082d77",
   "metadata": {},
   "source": [
    "#### <font color = 'blue'>  Step 1 Token embedding"
   ]
  },
  {
   "cell_type": "code",
   "execution_count": 35,
   "id": "e22f1280-f4d0-43d6-88fd-97d4b169d066",
   "metadata": {
    "execution": {
     "iopub.execute_input": "2022-03-11T10:27:46.952277Z",
     "iopub.status.busy": "2022-03-11T10:27:46.952137Z",
     "iopub.status.idle": "2022-03-11T10:27:46.955169Z",
     "shell.execute_reply": "2022-03-11T10:27:46.954770Z",
     "shell.execute_reply.started": "2022-03-11T10:27:46.952264Z"
    },
    "tags": []
   },
   "outputs": [
    {
     "data": {
      "text/plain": [
       "device(type='cpu')"
      ]
     },
     "execution_count": 35,
     "metadata": {},
     "output_type": "execute_result"
    }
   ],
   "source": [
    "src.device"
   ]
  },
  {
   "cell_type": "code",
   "execution_count": 36,
   "id": "c077617c-a652-43f7-9dab-65a7b31a5846",
   "metadata": {
    "execution": {
     "iopub.execute_input": "2022-03-11T10:27:47.315502Z",
     "iopub.status.busy": "2022-03-11T10:27:47.315339Z",
     "iopub.status.idle": "2022-03-11T10:27:48.857008Z",
     "shell.execute_reply": "2022-03-11T10:27:48.856580Z",
     "shell.execute_reply.started": "2022-03-11T10:27:47.315489Z"
    },
    "tags": []
   },
   "outputs": [
    {
     "data": {
      "text/plain": [
       "device(type='cuda', index=0)"
      ]
     },
     "execution_count": 36,
     "metadata": {},
     "output_type": "execute_result"
    }
   ],
   "source": [
    "src = src.to(device)\n",
    "src.device"
   ]
  },
  {
   "cell_type": "code",
   "execution_count": 37,
   "id": "b237213f-c5a9-4b83-b757-49ce0ce76106",
   "metadata": {
    "execution": {
     "iopub.execute_input": "2022-03-11T10:27:48.857848Z",
     "iopub.status.busy": "2022-03-11T10:27:48.857656Z",
     "iopub.status.idle": "2022-03-11T10:27:48.860402Z",
     "shell.execute_reply": "2022-03-11T10:27:48.860149Z",
     "shell.execute_reply.started": "2022-03-11T10:27:48.857822Z"
    },
    "tags": []
   },
   "outputs": [],
   "source": [
    "input_dim = len(source_vocab)\n",
    "hid_dim = 8\n",
    "torch.manual_seed(0)\n",
    "token_embedding_layer = nn.Embedding(input_dim, hid_dim)"
   ]
  },
  {
   "cell_type": "code",
   "execution_count": 38,
   "id": "007e57af-f8e5-4152-8265-a7c3c52739fd",
   "metadata": {
    "execution": {
     "iopub.execute_input": "2022-03-11T10:27:48.860881Z",
     "iopub.status.busy": "2022-03-11T10:27:48.860795Z",
     "iopub.status.idle": "2022-03-11T10:27:48.865802Z",
     "shell.execute_reply": "2022-03-11T10:27:48.865527Z",
     "shell.execute_reply.started": "2022-03-11T10:27:48.860869Z"
    },
    "tags": []
   },
   "outputs": [
    {
     "data": {
      "text/plain": [
       "Embedding(41, 8)"
      ]
     },
     "execution_count": 38,
     "metadata": {},
     "output_type": "execute_result"
    }
   ],
   "source": [
    "token_embedding_layer.to(device)"
   ]
  },
  {
   "cell_type": "code",
   "execution_count": 39,
   "id": "40247479-11af-4fc1-a13c-5dc98ae63ad3",
   "metadata": {
    "execution": {
     "iopub.execute_input": "2022-03-11T10:27:51.905091Z",
     "iopub.status.busy": "2022-03-11T10:27:51.904949Z",
     "iopub.status.idle": "2022-03-11T10:27:51.909035Z",
     "shell.execute_reply": "2022-03-11T10:27:51.908758Z",
     "shell.execute_reply.started": "2022-03-11T10:27:51.905078Z"
    },
    "tags": []
   },
   "outputs": [
    {
     "name": "stdout",
     "output_type": "stream",
     "text": [
      "tensor([[-1.1258, -1.1524, -0.2506, -0.4339,  0.8487,  0.6920, -0.3160, -2.1152],\n",
      "        [ 0.3223, -1.2633,  0.3500,  0.3081,  0.1198,  1.2377,  1.1168, -0.2473],\n",
      "        [-1.3527, -1.6959,  0.5667,  0.7935,  0.5988, -1.5551, -0.3414,  1.8530],\n",
      "        [ 0.7502, -0.5855, -0.1734,  0.1835,  1.3894,  1.5863,  0.9463, -0.8437],\n",
      "        [-0.6136,  0.0316, -0.4927,  0.2484,  0.4397,  0.1124,  0.6408,  0.4412]],\n",
      "       device='cuda:0', grad_fn=<SliceBackward0>)\n"
     ]
    }
   ],
   "source": [
    "print(f'{token_embedding_layer.weight[0:5]}')"
   ]
  },
  {
   "cell_type": "code",
   "execution_count": 40,
   "id": "5923a28a-7940-4a2b-8c78-9165bb9b9948",
   "metadata": {
    "execution": {
     "iopub.execute_input": "2022-03-11T10:27:52.179109Z",
     "iopub.status.busy": "2022-03-11T10:27:52.178967Z",
     "iopub.status.idle": "2022-03-11T10:27:52.182528Z",
     "shell.execute_reply": "2022-03-11T10:27:52.182254Z",
     "shell.execute_reply.started": "2022-03-11T10:27:52.179096Z"
    },
    "tags": []
   },
   "outputs": [
    {
     "data": {
      "text/plain": [
       "tensor(1, device='cuda:0')"
      ]
     },
     "execution_count": 40,
     "metadata": {},
     "output_type": "execute_result"
    }
   ],
   "source": [
    "src[0][0]\n",
    "# batch_size, src_len"
   ]
  },
  {
   "cell_type": "code",
   "execution_count": 41,
   "id": "478de334-d8ed-4a9c-bdd8-a7d69af3428e",
   "metadata": {
    "execution": {
     "iopub.execute_input": "2022-03-11T10:27:52.444829Z",
     "iopub.status.busy": "2022-03-11T10:27:52.444597Z",
     "iopub.status.idle": "2022-03-11T10:27:52.447148Z",
     "shell.execute_reply": "2022-03-11T10:27:52.446778Z",
     "shell.execute_reply.started": "2022-03-11T10:27:52.444815Z"
    },
    "tags": []
   },
   "outputs": [],
   "source": [
    "src_embedding = token_embedding_layer(src)"
   ]
  },
  {
   "cell_type": "code",
   "execution_count": 42,
   "id": "003eeed2-a546-498f-a139-b2c2f234ce77",
   "metadata": {
    "execution": {
     "iopub.execute_input": "2022-03-11T10:27:52.685691Z",
     "iopub.status.busy": "2022-03-11T10:27:52.685444Z",
     "iopub.status.idle": "2022-03-11T10:27:52.688423Z",
     "shell.execute_reply": "2022-03-11T10:27:52.688159Z",
     "shell.execute_reply.started": "2022-03-11T10:27:52.685677Z"
    },
    "tags": []
   },
   "outputs": [
    {
     "data": {
      "text/plain": [
       "torch.Size([2, 17, 8])"
      ]
     },
     "execution_count": 42,
     "metadata": {},
     "output_type": "execute_result"
    }
   ],
   "source": [
    "src_embedding.shape\n",
    "# batch_size, seq_len, hid_dim"
   ]
  },
  {
   "cell_type": "code",
   "execution_count": 43,
   "id": "b864050c-35a4-4e89-a06f-66846b628264",
   "metadata": {
    "execution": {
     "iopub.execute_input": "2022-03-11T10:27:52.930832Z",
     "iopub.status.busy": "2022-03-11T10:27:52.930631Z",
     "iopub.status.idle": "2022-03-11T10:27:52.934514Z",
     "shell.execute_reply": "2022-03-11T10:27:52.934204Z",
     "shell.execute_reply.started": "2022-03-11T10:27:52.930818Z"
    },
    "tags": []
   },
   "outputs": [
    {
     "data": {
      "text/plain": [
       "tensor([ 0.3223, -1.2633,  0.3500,  0.3081,  0.1198,  1.2377,  1.1168, -0.2473],\n",
       "       device='cuda:0', grad_fn=<SelectBackward0>)"
      ]
     },
     "execution_count": 43,
     "metadata": {},
     "output_type": "execute_result"
    }
   ],
   "source": [
    "src_embedding[0][0]"
   ]
  },
  {
   "cell_type": "markdown",
   "id": "90a9af59-0d16-40ad-8f11-2a7681a49000",
   "metadata": {},
   "source": [
    "#### <font color = 'blue'>  Step 2 - scale output of embedding\n",
    "<font color = 'red'> **NOT UNDERSTOOD**</font>"
   ]
  },
  {
   "cell_type": "code",
   "execution_count": 44,
   "id": "e7499cf7-ae20-4d5f-b64b-5bffbd042745",
   "metadata": {
    "execution": {
     "iopub.execute_input": "2022-03-11T10:27:55.746241Z",
     "iopub.status.busy": "2022-03-11T10:27:55.746103Z",
     "iopub.status.idle": "2022-03-11T10:27:55.750302Z",
     "shell.execute_reply": "2022-03-11T10:27:55.749900Z",
     "shell.execute_reply.started": "2022-03-11T10:27:55.746228Z"
    },
    "tags": []
   },
   "outputs": [
    {
     "data": {
      "text/plain": [
       "tensor(0.6142, device='cuda:0', grad_fn=<VarBackward0>)"
      ]
     },
     "execution_count": 44,
     "metadata": {},
     "output_type": "execute_result"
    }
   ],
   "source": [
    "torch.var(src_embedding [0][0])"
   ]
  },
  {
   "cell_type": "code",
   "execution_count": 45,
   "id": "550f52bb-807f-4b42-8a07-eebd365079d5",
   "metadata": {
    "execution": {
     "iopub.execute_input": "2022-03-11T10:27:55.970249Z",
     "iopub.status.busy": "2022-03-11T10:27:55.970115Z",
     "iopub.status.idle": "2022-03-11T10:27:55.974201Z",
     "shell.execute_reply": "2022-03-11T10:27:55.973827Z",
     "shell.execute_reply.started": "2022-03-11T10:27:55.970236Z"
    },
    "tags": []
   },
   "outputs": [
    {
     "data": {
      "text/plain": [
       "tensor([2.8284], device='cuda:0')"
      ]
     },
     "execution_count": 45,
     "metadata": {},
     "output_type": "execute_result"
    }
   ],
   "source": [
    "scale = torch.sqrt(torch.FloatTensor([hid_dim])).to(device)\n",
    "scale"
   ]
  },
  {
   "cell_type": "code",
   "execution_count": 46,
   "id": "6fc520d7-d25e-4873-a209-081412b4df24",
   "metadata": {
    "execution": {
     "iopub.execute_input": "2022-03-11T10:27:56.179078Z",
     "iopub.status.busy": "2022-03-11T10:27:56.178954Z",
     "iopub.status.idle": "2022-03-11T10:27:56.182214Z",
     "shell.execute_reply": "2022-03-11T10:27:56.181509Z",
     "shell.execute_reply.started": "2022-03-11T10:27:56.179064Z"
    },
    "tags": []
   },
   "outputs": [],
   "source": [
    "src_embedding_scaled = src_embedding*scale"
   ]
  },
  {
   "cell_type": "code",
   "execution_count": 47,
   "id": "6f639ec2-a746-4399-bde0-ca5738a1287f",
   "metadata": {
    "execution": {
     "iopub.execute_input": "2022-03-11T10:27:56.435297Z",
     "iopub.status.busy": "2022-03-11T10:27:56.435174Z",
     "iopub.status.idle": "2022-03-11T10:27:56.438875Z",
     "shell.execute_reply": "2022-03-11T10:27:56.438517Z",
     "shell.execute_reply.started": "2022-03-11T10:27:56.435284Z"
    },
    "tags": []
   },
   "outputs": [
    {
     "data": {
      "text/plain": [
       "tensor(4.9136, device='cuda:0', grad_fn=<VarBackward0>)"
      ]
     },
     "execution_count": 47,
     "metadata": {},
     "output_type": "execute_result"
    }
   ],
   "source": [
    "torch.var(src_embedding_scaled[0][0])"
   ]
  },
  {
   "cell_type": "markdown",
   "id": "17fd1c5c-bd23-49bb-b7a0-0ff4914c3467",
   "metadata": {},
   "source": [
    "#### <font color = 'blue'>  Step 3 Positional Embedding"
   ]
  },
  {
   "cell_type": "code",
   "execution_count": 48,
   "id": "4e91fcec-e987-40d8-8a65-4b929ad2e564",
   "metadata": {
    "execution": {
     "iopub.execute_input": "2022-03-11T10:30:03.266385Z",
     "iopub.status.busy": "2022-03-11T10:30:03.266226Z",
     "iopub.status.idle": "2022-03-11T10:30:03.269090Z",
     "shell.execute_reply": "2022-03-11T10:30:03.268731Z",
     "shell.execute_reply.started": "2022-03-11T10:30:03.266372Z"
    },
    "tags": []
   },
   "outputs": [],
   "source": [
    "max_length = 20\n",
    "position_embedding_layer = nn.Embedding(max_length, hid_dim)"
   ]
  },
  {
   "cell_type": "code",
   "execution_count": 49,
   "id": "bbfc331f-4674-472e-9622-50bf285f77d1",
   "metadata": {
    "execution": {
     "iopub.execute_input": "2022-03-11T10:30:17.277851Z",
     "iopub.status.busy": "2022-03-11T10:30:17.277713Z",
     "iopub.status.idle": "2022-03-11T10:30:17.296213Z",
     "shell.execute_reply": "2022-03-11T10:30:17.295903Z",
     "shell.execute_reply.started": "2022-03-11T10:30:17.277838Z"
    },
    "tags": []
   },
   "outputs": [
    {
     "data": {
      "text/plain": [
       "Embedding(20, 8)"
      ]
     },
     "execution_count": 49,
     "metadata": {},
     "output_type": "execute_result"
    }
   ],
   "source": [
    "position_embedding_layer.to(device)"
   ]
  },
  {
   "cell_type": "code",
   "execution_count": 50,
   "id": "b557dcc6-3cc5-4d53-b50a-847e21f40c69",
   "metadata": {
    "execution": {
     "iopub.execute_input": "2022-03-11T10:30:18.073218Z",
     "iopub.status.busy": "2022-03-11T10:30:18.073076Z",
     "iopub.status.idle": "2022-03-11T10:30:18.077784Z",
     "shell.execute_reply": "2022-03-11T10:30:18.077332Z",
     "shell.execute_reply.started": "2022-03-11T10:30:18.073206Z"
    },
    "tags": []
   },
   "outputs": [
    {
     "data": {
      "text/plain": [
       "tensor([[-0.5627, -0.8328, -1.3955, -0.3993, -0.3099, -0.0561,  0.5174, -1.5962],\n",
       "        [ 0.3570, -2.2975, -0.8711, -1.6740,  0.5631, -1.4351,  0.7194, -1.3707],\n",
       "        [ 0.3221, -0.1016,  0.2060,  1.2168,  1.2359, -0.1002,  2.1364,  0.0700],\n",
       "        [ 0.4990,  0.0565,  0.4061, -1.7384,  1.1901,  2.6352,  0.2284,  0.3241],\n",
       "        [-1.1154,  2.1914,  0.1158,  0.7773, -1.0921, -0.0611, -1.4928, -1.7644]],\n",
       "       device='cuda:0', grad_fn=<SliceBackward0>)"
      ]
     },
     "execution_count": 50,
     "metadata": {},
     "output_type": "execute_result"
    }
   ],
   "source": [
    "position_embedding_layer.weight[0:5]"
   ]
  },
  {
   "cell_type": "code",
   "execution_count": 51,
   "id": "76793ff7-c738-4b12-bddc-56140f79a9fe",
   "metadata": {
    "execution": {
     "iopub.execute_input": "2022-03-11T10:30:21.282001Z",
     "iopub.status.busy": "2022-03-11T10:30:21.281867Z",
     "iopub.status.idle": "2022-03-11T10:30:21.284272Z",
     "shell.execute_reply": "2022-03-11T10:30:21.284008Z",
     "shell.execute_reply.started": "2022-03-11T10:30:21.281989Z"
    },
    "tags": []
   },
   "outputs": [],
   "source": [
    "batch_size = src_embedding_scaled.shape[0]\n",
    "src_len = src_embedding_scaled.shape[1]"
   ]
  },
  {
   "cell_type": "code",
   "execution_count": 52,
   "id": "9acf42bb-ae59-41fb-8611-c7c9ae017e09",
   "metadata": {
    "execution": {
     "iopub.execute_input": "2022-03-11T10:30:21.782860Z",
     "iopub.status.busy": "2022-03-11T10:30:21.782708Z",
     "iopub.status.idle": "2022-03-11T10:30:21.785880Z",
     "shell.execute_reply": "2022-03-11T10:30:21.785513Z",
     "shell.execute_reply.started": "2022-03-11T10:30:21.782847Z"
    },
    "tags": []
   },
   "outputs": [
    {
     "name": "stdout",
     "output_type": "stream",
     "text": [
      "2\n",
      "17\n"
     ]
    }
   ],
   "source": [
    "print(batch_size)\n",
    "print(src_len)"
   ]
  },
  {
   "cell_type": "code",
   "execution_count": 53,
   "id": "ac5d22dc-a7ba-4694-bce7-be0beb1f4fb1",
   "metadata": {
    "execution": {
     "iopub.execute_input": "2022-03-11T10:30:22.302258Z",
     "iopub.status.busy": "2022-03-11T10:30:22.302085Z",
     "iopub.status.idle": "2022-03-11T10:30:22.305359Z",
     "shell.execute_reply": "2022-03-11T10:30:22.305013Z",
     "shell.execute_reply.started": "2022-03-11T10:30:22.302227Z"
    },
    "tags": []
   },
   "outputs": [
    {
     "name": "stdout",
     "output_type": "stream",
     "text": [
      "tensor([ 0,  1,  2,  3,  4,  5,  6,  7,  8,  9, 10, 11, 12, 13, 14, 15, 16])\n",
      "torch.Size([17])\n"
     ]
    }
   ],
   "source": [
    "position = torch.arange(0, src_len)\n",
    "print(position)\n",
    "print(position.shape)"
   ]
  },
  {
   "cell_type": "code",
   "execution_count": 54,
   "id": "a6c78f18-64a9-44a4-ac66-2e3c5a15802d",
   "metadata": {
    "execution": {
     "iopub.execute_input": "2022-03-11T10:30:23.112010Z",
     "iopub.status.busy": "2022-03-11T10:30:23.111875Z",
     "iopub.status.idle": "2022-03-11T10:30:23.114678Z",
     "shell.execute_reply": "2022-03-11T10:30:23.114417Z",
     "shell.execute_reply.started": "2022-03-11T10:30:23.111997Z"
    },
    "tags": []
   },
   "outputs": [
    {
     "name": "stdout",
     "output_type": "stream",
     "text": [
      "torch.Size([1, 17])\n"
     ]
    }
   ],
   "source": [
    "position = position.unsqueeze(0)\n",
    "print(position.shape)"
   ]
  },
  {
   "cell_type": "code",
   "execution_count": 55,
   "id": "cda249c3-594f-4f92-b56d-20dae71e3c89",
   "metadata": {
    "execution": {
     "iopub.execute_input": "2022-03-11T10:30:23.501572Z",
     "iopub.status.busy": "2022-03-11T10:30:23.501429Z",
     "iopub.status.idle": "2022-03-11T10:30:23.504327Z",
     "shell.execute_reply": "2022-03-11T10:30:23.504042Z",
     "shell.execute_reply.started": "2022-03-11T10:30:23.501559Z"
    },
    "tags": []
   },
   "outputs": [],
   "source": [
    "position = position.repeat(batch_size,1)\n",
    "position = position.to(device)\n",
    "# [batch_size, seq_len]"
   ]
  },
  {
   "cell_type": "code",
   "execution_count": 56,
   "id": "37a96989-fb79-4d7d-b0a6-662c6b3cb2fd",
   "metadata": {
    "execution": {
     "iopub.execute_input": "2022-03-11T10:30:23.848563Z",
     "iopub.status.busy": "2022-03-11T10:30:23.848427Z",
     "iopub.status.idle": "2022-03-11T10:30:23.852297Z",
     "shell.execute_reply": "2022-03-11T10:30:23.851651Z",
     "shell.execute_reply.started": "2022-03-11T10:30:23.848551Z"
    },
    "tags": []
   },
   "outputs": [
    {
     "data": {
      "text/plain": [
       "torch.Size([2, 17])"
      ]
     },
     "execution_count": 56,
     "metadata": {},
     "output_type": "execute_result"
    }
   ],
   "source": [
    "position.shape"
   ]
  },
  {
   "cell_type": "code",
   "execution_count": 57,
   "id": "fcd4b431-4347-4048-9ecc-c55fce3c5a0f",
   "metadata": {
    "execution": {
     "iopub.execute_input": "2022-03-11T10:30:24.447128Z",
     "iopub.status.busy": "2022-03-11T10:30:24.446980Z",
     "iopub.status.idle": "2022-03-11T10:30:24.451241Z",
     "shell.execute_reply": "2022-03-11T10:30:24.450892Z",
     "shell.execute_reply.started": "2022-03-11T10:30:24.447114Z"
    },
    "tags": []
   },
   "outputs": [
    {
     "data": {
      "text/plain": [
       "tensor([[ 0,  1,  2,  3,  4,  5,  6,  7,  8,  9, 10, 11, 12, 13, 14, 15, 16],\n",
       "        [ 0,  1,  2,  3,  4,  5,  6,  7,  8,  9, 10, 11, 12, 13, 14, 15, 16]],\n",
       "       device='cuda:0')"
      ]
     },
     "execution_count": 57,
     "metadata": {},
     "output_type": "execute_result"
    }
   ],
   "source": [
    "position"
   ]
  },
  {
   "cell_type": "code",
   "execution_count": 58,
   "id": "95562cd2-a656-412e-88fe-f279e7bc7ab0",
   "metadata": {
    "execution": {
     "iopub.execute_input": "2022-03-11T10:30:25.045868Z",
     "iopub.status.busy": "2022-03-11T10:30:25.045731Z",
     "iopub.status.idle": "2022-03-11T10:30:25.048480Z",
     "shell.execute_reply": "2022-03-11T10:30:25.048059Z",
     "shell.execute_reply.started": "2022-03-11T10:30:25.045855Z"
    },
    "tags": []
   },
   "outputs": [],
   "source": [
    "position_embedding = position_embedding_layer(position)"
   ]
  },
  {
   "cell_type": "code",
   "execution_count": 59,
   "id": "6cf230d2-626d-4257-8ada-8b321dcdca33",
   "metadata": {
    "execution": {
     "iopub.execute_input": "2022-03-11T10:30:25.302489Z",
     "iopub.status.busy": "2022-03-11T10:30:25.302366Z",
     "iopub.status.idle": "2022-03-11T10:30:25.305210Z",
     "shell.execute_reply": "2022-03-11T10:30:25.304961Z",
     "shell.execute_reply.started": "2022-03-11T10:30:25.302476Z"
    },
    "tags": []
   },
   "outputs": [
    {
     "data": {
      "text/plain": [
       "torch.Size([2, 17, 8])"
      ]
     },
     "execution_count": 59,
     "metadata": {},
     "output_type": "execute_result"
    }
   ],
   "source": [
    "position_embedding.shape\n",
    "# [ batch_size, seq_len, hid_dim]"
   ]
  },
  {
   "cell_type": "code",
   "execution_count": 60,
   "id": "67545174-87f1-44a9-a126-c933cb5e5d4f",
   "metadata": {
    "execution": {
     "iopub.execute_input": "2022-03-11T10:30:25.531250Z",
     "iopub.status.busy": "2022-03-11T10:30:25.531099Z",
     "iopub.status.idle": "2022-03-11T10:30:25.534123Z",
     "shell.execute_reply": "2022-03-11T10:30:25.533578Z",
     "shell.execute_reply.started": "2022-03-11T10:30:25.531236Z"
    },
    "tags": []
   },
   "outputs": [],
   "source": [
    "encoder_input = position_embedding + src_embedding"
   ]
  },
  {
   "cell_type": "code",
   "execution_count": 61,
   "id": "ce251242-4d60-43ca-9fe1-049da54d3c8c",
   "metadata": {
    "execution": {
     "iopub.execute_input": "2022-03-11T10:30:25.888346Z",
     "iopub.status.busy": "2022-03-11T10:30:25.888163Z",
     "iopub.status.idle": "2022-03-11T10:30:25.892729Z",
     "shell.execute_reply": "2022-03-11T10:30:25.892322Z",
     "shell.execute_reply.started": "2022-03-11T10:30:25.888312Z"
    },
    "tags": []
   },
   "outputs": [
    {
     "data": {
      "text/plain": [
       "tensor([-0.2404, -2.0961, -1.0456, -0.0912, -0.1901,  1.1816,  1.6342, -1.8435],\n",
       "       device='cuda:0', grad_fn=<SelectBackward0>)"
      ]
     },
     "execution_count": 61,
     "metadata": {},
     "output_type": "execute_result"
    }
   ],
   "source": [
    "encoder_input[0][0]"
   ]
  },
  {
   "cell_type": "code",
   "execution_count": 62,
   "id": "84d33431-44b6-4a7d-8bc9-69a11515dc7e",
   "metadata": {
    "execution": {
     "iopub.execute_input": "2022-03-11T10:30:26.666730Z",
     "iopub.status.busy": "2022-03-11T10:30:26.666527Z",
     "iopub.status.idle": "2022-03-11T10:30:26.669554Z",
     "shell.execute_reply": "2022-03-11T10:30:26.669169Z",
     "shell.execute_reply.started": "2022-03-11T10:30:26.666698Z"
    },
    "tags": []
   },
   "outputs": [],
   "source": [
    "encoder_input_dropout_layer = nn.Dropout(p=0.1)"
   ]
  },
  {
   "cell_type": "code",
   "execution_count": 63,
   "id": "a3dd34c3-4435-42de-84b5-aa2e6939c9e7",
   "metadata": {
    "execution": {
     "iopub.execute_input": "2022-03-11T10:30:26.951497Z",
     "iopub.status.busy": "2022-03-11T10:30:26.951282Z",
     "iopub.status.idle": "2022-03-11T10:30:26.954480Z",
     "shell.execute_reply": "2022-03-11T10:30:26.954026Z",
     "shell.execute_reply.started": "2022-03-11T10:30:26.951465Z"
    },
    "tags": []
   },
   "outputs": [],
   "source": [
    "encoder_input_after_dropout = encoder_input_dropout_layer(encoder_input)"
   ]
  },
  {
   "cell_type": "code",
   "execution_count": 64,
   "id": "40b19ef2-ec7b-45db-b1e9-9d9cd909e21b",
   "metadata": {
    "execution": {
     "iopub.execute_input": "2022-03-11T10:30:27.282893Z",
     "iopub.status.busy": "2022-03-11T10:30:27.282676Z",
     "iopub.status.idle": "2022-03-11T10:30:27.287335Z",
     "shell.execute_reply": "2022-03-11T10:30:27.287024Z",
     "shell.execute_reply.started": "2022-03-11T10:30:27.282860Z"
    },
    "tags": []
   },
   "outputs": [
    {
     "data": {
      "text/plain": [
       "tensor([-0.2672, -2.3290, -1.1617, -0.1013, -0.2112,  0.0000,  1.8158, -2.0484],\n",
       "       device='cuda:0', grad_fn=<SelectBackward0>)"
      ]
     },
     "execution_count": 64,
     "metadata": {},
     "output_type": "execute_result"
    }
   ],
   "source": [
    "encoder_input_after_dropout[0][0]\n",
    "# [batch_size, seq_len, hid_dim]"
   ]
  },
  {
   "cell_type": "markdown",
   "id": "627ad58b-b5e1-4939-a791-d9f3468f1d18",
   "metadata": {
    "tags": []
   },
   "source": [
    "### <font color = 'blue'>  <font size =5> **Encoder Layer**\n",
    "\n",
    "The encoder layers are where all of the \"meat\" of the encoder is contained. We first pass the source sentence and its mask into the *multi-head attention layer*, then perform dropout on it, apply a residual connection and pass it through a [Layer Normalization](https://arxiv.org/abs/1607.06450) layer. We then pass it through a *position-wise feedforward* layer and then, again, apply dropout, a residual connection and then layer normalization to get the output of this layer which is fed into the next layer. The parameters are not shared between layers. \n",
    "\n",
    "The mutli head attention layer is used by the encoder layer to attend to the source sentence, i.e. it is calculating and applying attention over itself instead of another sequence, hence we call it *self attention*.\n",
    "\n",
    "[This](https://mlexplained.com/2018/01/13/weight-normalization-and-layer-normalization-explained-normalization-in-deep-learning-part-2/) article goes into more detail about layer normalization, but the gist is that it normalizes the values of the features, i.e. across the hidden dimension, so each feature has a mean of 0 and a standard deviation of 1. This allows neural networks with a larger number of layers, like the Transformer, to be trained easier."
   ]
  },
  {
   "cell_type": "markdown",
   "id": "0e3b8fe9-a0aa-43b9-a440-2f449f5792aa",
   "metadata": {},
   "source": [
    "#### <font color = 'blue'> **Sublayer - Attention**"
   ]
  },
  {
   "cell_type": "markdown",
   "id": "da738962-6c1f-46a4-835e-a503faf1e1d8",
   "metadata": {},
   "source": [
    "**Mutli Head Attention Layer**\n",
    "\n",
    "One of the key, novel concepts introduced by the Transformer paper is the *multi-head attention layer*. \n",
    "\n",
    "![](assets/transformer-attention.png)\n",
    "\n",
    "Attention can be though of as *queries*, *keys* and *values* - where the query is used with the key to get an attention vector (usually the output of a *softmax* operation and has all values between 0 and 1 which sum to 1) which is then used to get a weighted sum of the values.\n",
    "\n",
    "The Transformer uses *scaled dot-product attention*, where the query and key are combined by taking the dot product between them, then applying the softmax operation and scaling by $d_k$ before finally then multiplying by the value. $d_k$ is the *head dimension*, `head_dim`, which we will shortly explain further.\n",
    "\n",
    "$$ \\text{Attention}(Q, K, V) = \\text{Softmax} \\big( \\frac{QK^T}{\\sqrt{d_k}} \\big)V $$ \n",
    "\n",
    "This is similar to standard *dot product attention* but is scaled by $d_k$, which the paper states is used to stop the results of the dot products growing large, causing gradients to become too small.\n",
    "\n",
    "However, the scaled dot-product attention isn't simply applied to the queries, keys and values. Instead of doing a single attention application the queries, keys and values have their `hid_dim` split into $h$ *heads* and the scaled dot-product attention is calculated over all heads in parallel. This means instead of paying attention to one concept per attention application, we pay attention to $h$. We then re-combine the heads into their `hid_dim` shape, thus each `hid_dim` is potentially paying attention to $h$ different concepts.\n",
    "\n",
    "$$ \\text{MultiHead}(Q, K, V) = \\text{Concat}(\\text{head}_1,...,\\text{head}_h)W^O $$\n",
    "\n",
    "$$\\text{head}_i = \\text{Attention}(QW_i^Q, KW_i^K, VW_i^V) $$\n",
    "\n",
    "$W^O$ is the linear layer applied at the end of the multi-head attention layer, `fc`. $W^Q, W^K, W^V$ are the linear layers `fc_q`, `fc_k` and `fc_v`.\n",
    "\n",
    "Walking through the module, first we calculate $QW^Q$, $KW^K$ and $VW^V$ with the linear layers, `fc_q`, `fc_k` and `fc_v`, to give us `Q`, `K` and `V`. Next, we split the `hid_dim` of the query, key and value into `n_heads` using `.view` and correctly permute them so they can be multiplied together. We then calculate the `energy` (the un-normalized attention) by multiplying `Q` and `K` together and scaling it by the square root of `head_dim`, which is calulated as `hid_dim // n_heads`. We then mask the energy so we do not pay attention over any elements of the sequeuence we shouldn't, then apply the softmax and dropout. We then apply the attention to the value heads, `V`, before combining the `n_heads` together. Finally, we multiply this $W^O$, represented by `fc_o`. "
   ]
  },
  {
   "cell_type": "markdown",
   "id": "55f58cdd-416b-4b43-afcc-e257373e75c5",
   "metadata": {},
   "source": [
    "##### <font color = 'blue'>**Linear Transformation of embeddings to generate Queries, Keys and values**</font>"
   ]
  },
  {
   "cell_type": "code",
   "execution_count": 65,
   "id": "b56db2da-17fb-4af7-b07e-f7987d3179c7",
   "metadata": {
    "execution": {
     "iopub.execute_input": "2022-03-11T10:30:41.174222Z",
     "iopub.status.busy": "2022-03-11T10:30:41.174068Z",
     "iopub.status.idle": "2022-03-11T10:30:41.178031Z",
     "shell.execute_reply": "2022-03-11T10:30:41.177526Z",
     "shell.execute_reply.started": "2022-03-11T10:30:41.174209Z"
    },
    "tags": []
   },
   "outputs": [],
   "source": [
    "out_hid_dim = 8\n",
    "hid_dim = 8\n",
    "fc_q = nn.Linear(hid_dim, out_hid_dim).to(device)\n",
    "fc_k = nn.Linear(hid_dim, out_hid_dim).to(device)\n",
    "fc_v = nn.Linear(hid_dim, out_hid_dim).to(device)\n",
    "fc_o = nn.Linear(out_hid_dim, hid_dim).to(device)"
   ]
  },
  {
   "cell_type": "code",
   "execution_count": 66,
   "id": "20b8559b-209f-477f-9195-c1094196f34d",
   "metadata": {
    "execution": {
     "iopub.execute_input": "2022-03-11T10:30:41.608680Z",
     "iopub.status.busy": "2022-03-11T10:30:41.608239Z",
     "iopub.status.idle": "2022-03-11T10:30:41.612352Z",
     "shell.execute_reply": "2022-03-11T10:30:41.612025Z",
     "shell.execute_reply.started": "2022-03-11T10:30:41.608627Z"
    },
    "tags": []
   },
   "outputs": [
    {
     "data": {
      "text/plain": [
       "torch.Size([8, 8])"
      ]
     },
     "execution_count": 66,
     "metadata": {},
     "output_type": "execute_result"
    }
   ],
   "source": [
    "fc_q.weight.shape"
   ]
  },
  {
   "cell_type": "code",
   "execution_count": 67,
   "id": "abe98a14-6b63-4c48-abc0-8afe3488d0aa",
   "metadata": {
    "execution": {
     "iopub.execute_input": "2022-03-11T10:30:42.135209Z",
     "iopub.status.busy": "2022-03-11T10:30:42.135082Z",
     "iopub.status.idle": "2022-03-11T10:30:42.138393Z",
     "shell.execute_reply": "2022-03-11T10:30:42.137908Z",
     "shell.execute_reply.started": "2022-03-11T10:30:42.135195Z"
    },
    "tags": []
   },
   "outputs": [
    {
     "data": {
      "text/plain": [
       "torch.Size([8])"
      ]
     },
     "execution_count": 67,
     "metadata": {},
     "output_type": "execute_result"
    }
   ],
   "source": [
    "fc_q.bias.shape"
   ]
  },
  {
   "cell_type": "markdown",
   "id": "d0bdcbad-8edd-4ba7-be28-9bc33c5d2bfa",
   "metadata": {
    "execution": {
     "iopub.execute_input": "2022-03-11T12:47:22.170396Z",
     "iopub.status.busy": "2022-03-11T12:47:22.169899Z",
     "iopub.status.idle": "2022-03-11T12:47:22.172517Z",
     "shell.execute_reply": "2022-03-11T12:47:22.172211Z",
     "shell.execute_reply.started": "2022-03-11T12:47:22.170380Z"
    }
   },
   "source": [
    "##### <font color = 'blue'> **Generate queries, keys and values**"
   ]
  },
  {
   "cell_type": "code",
   "execution_count": 68,
   "id": "eba15b4b-1e67-4744-8d74-beda4a4c9635",
   "metadata": {
    "execution": {
     "iopub.execute_input": "2022-03-11T10:30:42.552670Z",
     "iopub.status.busy": "2022-03-11T10:30:42.552528Z",
     "iopub.status.idle": "2022-03-11T10:30:42.906147Z",
     "shell.execute_reply": "2022-03-11T10:30:42.905682Z",
     "shell.execute_reply.started": "2022-03-11T10:30:42.552657Z"
    },
    "tags": []
   },
   "outputs": [],
   "source": [
    "Q = fc_q(encoder_input_after_dropout)\n",
    "K = fc_k(encoder_input_after_dropout)\n",
    "V = fc_v(encoder_input_after_dropout)"
   ]
  },
  {
   "cell_type": "code",
   "execution_count": 69,
   "id": "e4230a2f-4e1b-4593-891f-b247e10f31eb",
   "metadata": {
    "execution": {
     "iopub.execute_input": "2022-03-11T10:30:42.906974Z",
     "iopub.status.busy": "2022-03-11T10:30:42.906879Z",
     "iopub.status.idle": "2022-03-11T10:30:42.910409Z",
     "shell.execute_reply": "2022-03-11T10:30:42.909975Z",
     "shell.execute_reply.started": "2022-03-11T10:30:42.906961Z"
    },
    "tags": []
   },
   "outputs": [
    {
     "data": {
      "text/plain": [
       "torch.Size([2, 17, 8])"
      ]
     },
     "execution_count": 69,
     "metadata": {},
     "output_type": "execute_result"
    }
   ],
   "source": [
    "Q.shape\n",
    "#[batch_size, query_len, hid_dim]"
   ]
  },
  {
   "cell_type": "code",
   "execution_count": 70,
   "id": "295df73b-0efe-4796-9b8a-87c8e022805a",
   "metadata": {
    "execution": {
     "iopub.execute_input": "2022-03-11T10:30:43.367712Z",
     "iopub.status.busy": "2022-03-11T10:30:43.367571Z",
     "iopub.status.idle": "2022-03-11T10:30:43.370368Z",
     "shell.execute_reply": "2022-03-11T10:30:43.370059Z",
     "shell.execute_reply.started": "2022-03-11T10:30:43.367698Z"
    },
    "tags": []
   },
   "outputs": [
    {
     "name": "stdout",
     "output_type": "stream",
     "text": [
      "4\n"
     ]
    }
   ],
   "source": [
    "n_heads = 2\n",
    "head_dim = out_hid_dim // n_heads\n",
    "print(head_dim)"
   ]
  },
  {
   "cell_type": "code",
   "execution_count": 71,
   "id": "f928e6d5-1955-4203-9d1d-1e200d493dbf",
   "metadata": {
    "execution": {
     "iopub.execute_input": "2022-03-11T10:30:43.765921Z",
     "iopub.status.busy": "2022-03-11T10:30:43.765776Z",
     "iopub.status.idle": "2022-03-11T10:30:43.768409Z",
     "shell.execute_reply": "2022-03-11T10:30:43.768079Z",
     "shell.execute_reply.started": "2022-03-11T10:30:43.765907Z"
    },
    "tags": []
   },
   "outputs": [],
   "source": [
    "assert out_hid_dim % n_heads == 0"
   ]
  },
  {
   "cell_type": "code",
   "execution_count": 72,
   "id": "55774cbb-f8d7-4ea0-a7bd-ae2d864948a1",
   "metadata": {
    "execution": {
     "iopub.execute_input": "2022-03-11T10:30:44.051453Z",
     "iopub.status.busy": "2022-03-11T10:30:44.051308Z",
     "iopub.status.idle": "2022-03-11T10:30:44.054591Z",
     "shell.execute_reply": "2022-03-11T10:30:44.054268Z",
     "shell.execute_reply.started": "2022-03-11T10:30:44.051439Z"
    },
    "tags": []
   },
   "outputs": [],
   "source": [
    "Q = Q.view(batch_size, -1, n_heads, head_dim)\n",
    "K = K.view(batch_size, -1, n_heads, head_dim)\n",
    "V = V.view(batch_size, -1, n_heads, head_dim)"
   ]
  },
  {
   "cell_type": "code",
   "execution_count": 73,
   "id": "b42f882e-c13a-4f3d-abd4-ef741d03f859",
   "metadata": {
    "execution": {
     "iopub.execute_input": "2022-03-11T10:30:44.400027Z",
     "iopub.status.busy": "2022-03-11T10:30:44.399889Z",
     "iopub.status.idle": "2022-03-11T10:30:44.402953Z",
     "shell.execute_reply": "2022-03-11T10:30:44.402497Z",
     "shell.execute_reply.started": "2022-03-11T10:30:44.400014Z"
    },
    "tags": []
   },
   "outputs": [
    {
     "data": {
      "text/plain": [
       "torch.Size([2, 17, 2, 4])"
      ]
     },
     "execution_count": 73,
     "metadata": {},
     "output_type": "execute_result"
    }
   ],
   "source": [
    "Q.shape\n",
    "#[batch_size, query_len, n_heads, head_dim]"
   ]
  },
  {
   "cell_type": "code",
   "execution_count": 74,
   "id": "da67ecd2-ff4d-491e-b65e-2c17b288fa90",
   "metadata": {
    "execution": {
     "iopub.execute_input": "2022-03-11T10:30:45.164433Z",
     "iopub.status.busy": "2022-03-11T10:30:45.164297Z",
     "iopub.status.idle": "2022-03-11T10:30:45.167406Z",
     "shell.execute_reply": "2022-03-11T10:30:45.167014Z",
     "shell.execute_reply.started": "2022-03-11T10:30:45.164420Z"
    },
    "tags": []
   },
   "outputs": [],
   "source": [
    "Q = Q.permute(0, 2, 1, 3)\n",
    "K = K.permute(0, 2, 1, 3)\n",
    "V = V.permute(0, 2, 1, 3)"
   ]
  },
  {
   "cell_type": "code",
   "execution_count": 75,
   "id": "b34dd920-6df9-4d36-aedc-7acbcdac70e8",
   "metadata": {
    "execution": {
     "iopub.execute_input": "2022-03-11T10:30:45.567735Z",
     "iopub.status.busy": "2022-03-11T10:30:45.567579Z",
     "iopub.status.idle": "2022-03-11T10:30:45.570370Z",
     "shell.execute_reply": "2022-03-11T10:30:45.570021Z",
     "shell.execute_reply.started": "2022-03-11T10:30:45.567686Z"
    },
    "tags": []
   },
   "outputs": [
    {
     "data": {
      "text/plain": [
       "torch.Size([2, 2, 17, 4])"
      ]
     },
     "execution_count": 75,
     "metadata": {},
     "output_type": "execute_result"
    }
   ],
   "source": [
    "Q.shape\n",
    "#[batch_size,num_heads, query_len, head_dim ]"
   ]
  },
  {
   "cell_type": "code",
   "execution_count": 76,
   "id": "ebf559fd-08a4-4323-8d2f-2f34a3b794a6",
   "metadata": {
    "execution": {
     "iopub.execute_input": "2022-03-11T10:30:46.018139Z",
     "iopub.status.busy": "2022-03-11T10:30:46.017935Z",
     "iopub.status.idle": "2022-03-11T10:30:46.021325Z",
     "shell.execute_reply": "2022-03-11T10:30:46.020960Z",
     "shell.execute_reply.started": "2022-03-11T10:30:46.018119Z"
    },
    "tags": []
   },
   "outputs": [
    {
     "data": {
      "text/plain": [
       "torch.Size([2, 2, 17, 4])"
      ]
     },
     "execution_count": 76,
     "metadata": {},
     "output_type": "execute_result"
    }
   ],
   "source": [
    "K.shape\n",
    "#[batch_size,num_heads, key_len, head_dim ]"
   ]
  },
  {
   "cell_type": "markdown",
   "id": "ca97aec6-7d5d-429b-af4d-0795cbbd8087",
   "metadata": {},
   "source": [
    "##### <font color = 'blue'> **Scaled dot product of Queries and Keys**</font>"
   ]
  },
  {
   "cell_type": "code",
   "execution_count": 77,
   "id": "b18d2851-c4ed-44db-8536-7f45e3bfd4f7",
   "metadata": {
    "execution": {
     "iopub.execute_input": "2022-03-11T10:30:50.771968Z",
     "iopub.status.busy": "2022-03-11T10:30:50.771831Z",
     "iopub.status.idle": "2022-03-11T10:30:50.774404Z",
     "shell.execute_reply": "2022-03-11T10:30:50.773976Z",
     "shell.execute_reply.started": "2022-03-11T10:30:50.771955Z"
    },
    "tags": []
   },
   "outputs": [],
   "source": [
    "scale = torch.sqrt(torch.FloatTensor([head_dim])).to(device)"
   ]
  },
  {
   "cell_type": "code",
   "execution_count": 78,
   "id": "c2c20bd2-5173-4676-be2f-090dc27aa9c8",
   "metadata": {
    "execution": {
     "iopub.execute_input": "2022-03-11T10:30:50.996711Z",
     "iopub.status.busy": "2022-03-11T10:30:50.996479Z",
     "iopub.status.idle": "2022-03-11T10:30:50.999709Z",
     "shell.execute_reply": "2022-03-11T10:30:50.999314Z",
     "shell.execute_reply.started": "2022-03-11T10:30:50.996697Z"
    },
    "tags": []
   },
   "outputs": [],
   "source": [
    "energy = torch.matmul(Q, K.permute(0, 1, 3, 2)) / scale"
   ]
  },
  {
   "cell_type": "code",
   "execution_count": 79,
   "id": "b161aec0-285a-45dd-b91c-a306da24ae2e",
   "metadata": {
    "execution": {
     "iopub.execute_input": "2022-03-11T10:30:51.328392Z",
     "iopub.status.busy": "2022-03-11T10:30:51.328254Z",
     "iopub.status.idle": "2022-03-11T10:30:51.331498Z",
     "shell.execute_reply": "2022-03-11T10:30:51.331096Z",
     "shell.execute_reply.started": "2022-03-11T10:30:51.328379Z"
    },
    "tags": []
   },
   "outputs": [
    {
     "data": {
      "text/plain": [
       "torch.Size([2, 2, 17, 17])"
      ]
     },
     "execution_count": 79,
     "metadata": {},
     "output_type": "execute_result"
    }
   ],
   "source": [
    "energy.shape\n",
    "#[batch_size, num_heads, query_len, key_len]"
   ]
  },
  {
   "cell_type": "markdown",
   "id": "60c391d2-1ef6-4f58-95c9-66daf3b073e1",
   "metadata": {
    "execution": {
     "iopub.execute_input": "2022-03-06T06:32:28.398682Z",
     "iopub.status.busy": "2022-03-06T06:32:28.398556Z",
     "iopub.status.idle": "2022-03-06T06:32:28.401868Z",
     "shell.execute_reply": "2022-03-06T06:32:28.401405Z",
     "shell.execute_reply.started": "2022-03-06T06:32:28.398668Z"
    }
   },
   "source": [
    "##### <font color = 'blue'> **Apply mask to output of Q, K dot product**</font><br>\n",
    "<font color = 'green'>**We do not want tokens to pay attention to pad tokens**</font>"
   ]
  },
  {
   "cell_type": "code",
   "execution_count": 80,
   "id": "8952b589-a87e-4190-9b91-1b88c2de535e",
   "metadata": {
    "execution": {
     "iopub.execute_input": "2022-03-11T10:30:52.092703Z",
     "iopub.status.busy": "2022-03-11T10:30:52.092513Z",
     "iopub.status.idle": "2022-03-11T10:30:52.096370Z",
     "shell.execute_reply": "2022-03-11T10:30:52.095999Z",
     "shell.execute_reply.started": "2022-03-11T10:30:52.092674Z"
    },
    "tags": []
   },
   "outputs": [
    {
     "data": {
      "text/plain": [
       "tensor([[ 1, 22, 30, 12, 31, 32, 33, 34, 35, 36, 37, 38, 39, 22, 40, 17,  2],\n",
       "        [ 1, 22, 24, 25, 26, 12, 22, 27, 28, 29, 17,  2,  3,  3,  3,  3,  3]])"
      ]
     },
     "execution_count": 80,
     "metadata": {},
     "output_type": "execute_result"
    }
   ],
   "source": [
    "mask_input = source.clone()\n",
    "mask_input"
   ]
  },
  {
   "cell_type": "code",
   "execution_count": 81,
   "id": "d424a66c-1ec0-409a-9560-54167d82229e",
   "metadata": {
    "execution": {
     "iopub.execute_input": "2022-03-11T10:30:52.499023Z",
     "iopub.status.busy": "2022-03-11T10:30:52.498871Z",
     "iopub.status.idle": "2022-03-11T10:30:52.502116Z",
     "shell.execute_reply": "2022-03-11T10:30:52.501862Z",
     "shell.execute_reply.started": "2022-03-11T10:30:52.498996Z"
    },
    "tags": []
   },
   "outputs": [
    {
     "data": {
      "text/plain": [
       "3"
      ]
     },
     "execution_count": 81,
     "metadata": {},
     "output_type": "execute_result"
    }
   ],
   "source": [
    "SRC_PAD_IDX = source_vocab['<PAD>']\n",
    "SRC_PAD_IDX"
   ]
  },
  {
   "cell_type": "code",
   "execution_count": 82,
   "id": "fd57b2f1-d37c-4d51-9818-81b480f65d5e",
   "metadata": {
    "execution": {
     "iopub.execute_input": "2022-03-11T10:30:53.042778Z",
     "iopub.status.busy": "2022-03-11T10:30:53.042620Z",
     "iopub.status.idle": "2022-03-11T10:30:53.046278Z",
     "shell.execute_reply": "2022-03-11T10:30:53.045932Z",
     "shell.execute_reply.started": "2022-03-11T10:30:53.042764Z"
    },
    "tags": []
   },
   "outputs": [
    {
     "data": {
      "text/plain": [
       "tensor([[ True,  True,  True,  True,  True,  True,  True,  True,  True,  True,\n",
       "          True,  True,  True,  True,  True,  True,  True],\n",
       "        [ True,  True,  True,  True,  True,  True,  True,  True,  True,  True,\n",
       "          True,  True, False, False, False, False, False]])"
      ]
     },
     "execution_count": 82,
     "metadata": {},
     "output_type": "execute_result"
    }
   ],
   "source": [
    "src_mask = (mask_input!= SRC_PAD_IDX )\n",
    "src_mask"
   ]
  },
  {
   "cell_type": "code",
   "execution_count": 83,
   "id": "336f144e-0770-45d7-b33a-3198b39b1fab",
   "metadata": {
    "execution": {
     "iopub.execute_input": "2022-03-11T10:30:53.347311Z",
     "iopub.status.busy": "2022-03-11T10:30:53.347154Z",
     "iopub.status.idle": "2022-03-11T10:30:53.350293Z",
     "shell.execute_reply": "2022-03-11T10:30:53.349898Z",
     "shell.execute_reply.started": "2022-03-11T10:30:53.347283Z"
    },
    "tags": []
   },
   "outputs": [
    {
     "data": {
      "text/plain": [
       "torch.Size([2, 17])"
      ]
     },
     "execution_count": 83,
     "metadata": {},
     "output_type": "execute_result"
    }
   ],
   "source": [
    "src_mask.shape"
   ]
  },
  {
   "cell_type": "code",
   "execution_count": 84,
   "id": "65938cf6-e783-4ff0-a62a-e00a9a277b4a",
   "metadata": {
    "execution": {
     "iopub.execute_input": "2022-03-11T10:30:53.607825Z",
     "iopub.status.busy": "2022-03-11T10:30:53.607685Z",
     "iopub.status.idle": "2022-03-11T10:30:53.610357Z",
     "shell.execute_reply": "2022-03-11T10:30:53.610026Z",
     "shell.execute_reply.started": "2022-03-11T10:30:53.607813Z"
    },
    "tags": []
   },
   "outputs": [],
   "source": [
    "src_mask = src_mask.unsqueeze(1).unsqueeze(2)"
   ]
  },
  {
   "cell_type": "code",
   "execution_count": 85,
   "id": "e2a831b2-9823-4211-9ed5-4857d368dba8",
   "metadata": {
    "execution": {
     "iopub.execute_input": "2022-03-11T10:30:54.178004Z",
     "iopub.status.busy": "2022-03-11T10:30:54.177859Z",
     "iopub.status.idle": "2022-03-11T10:30:54.180981Z",
     "shell.execute_reply": "2022-03-11T10:30:54.180684Z",
     "shell.execute_reply.started": "2022-03-11T10:30:54.177969Z"
    },
    "tags": []
   },
   "outputs": [
    {
     "data": {
      "text/plain": [
       "torch.Size([2, 1, 1, 17])"
      ]
     },
     "execution_count": 85,
     "metadata": {},
     "output_type": "execute_result"
    }
   ],
   "source": [
    "src_mask.shape"
   ]
  },
  {
   "cell_type": "code",
   "execution_count": 86,
   "id": "9cdad347-e0ff-458a-8ffb-b958f5d868a6",
   "metadata": {
    "execution": {
     "iopub.execute_input": "2022-03-11T10:30:54.476798Z",
     "iopub.status.busy": "2022-03-11T10:30:54.476670Z",
     "iopub.status.idle": "2022-03-11T10:30:54.479439Z",
     "shell.execute_reply": "2022-03-11T10:30:54.479152Z",
     "shell.execute_reply.started": "2022-03-11T10:30:54.476785Z"
    },
    "tags": []
   },
   "outputs": [],
   "source": [
    "src_mask = src_mask.to(device)"
   ]
  },
  {
   "cell_type": "code",
   "execution_count": 87,
   "id": "cc073d84-7551-4474-a101-042a3b2d807c",
   "metadata": {
    "execution": {
     "iopub.execute_input": "2022-03-11T10:30:54.731403Z",
     "iopub.status.busy": "2022-03-11T10:30:54.731239Z",
     "iopub.status.idle": "2022-03-11T10:30:54.733962Z",
     "shell.execute_reply": "2022-03-11T10:30:54.733444Z",
     "shell.execute_reply.started": "2022-03-11T10:30:54.731383Z"
    },
    "tags": []
   },
   "outputs": [],
   "source": [
    "energy_masked = energy.masked_fill(src_mask == 0, -1e10)"
   ]
  },
  {
   "cell_type": "markdown",
   "id": "ef27ce6f-4c38-48f1-aa3b-16fdf1ec7103",
   "metadata": {},
   "source": [
    "<font color = 'red'>**Print energy values for second sentence**</font>"
   ]
  },
  {
   "cell_type": "code",
   "execution_count": 92,
   "id": "24673754-caf4-4d5d-ae80-c5d5b2c03df4",
   "metadata": {
    "execution": {
     "iopub.execute_input": "2022-03-11T10:32:07.220182Z",
     "iopub.status.busy": "2022-03-11T10:32:07.220030Z",
     "iopub.status.idle": "2022-03-11T10:32:07.240890Z",
     "shell.execute_reply": "2022-03-11T10:32:07.240479Z",
     "shell.execute_reply.started": "2022-03-11T10:32:07.220168Z"
    },
    "tags": []
   },
   "outputs": [
    {
     "name": "stdout",
     "output_type": "stream",
     "text": [
      "tensor(-1.0000e+10, device='cuda:0') tensor(-1.0000e+10, device='cuda:0')\n"
     ]
    }
   ],
   "source": [
    "print(energy_masked[1,1,1,15].data, energy_masked[1,1,1,16].data)\n",
    "      \n",
    "#[batch_size, num_heads, query_len, key_len]"
   ]
  },
  {
   "cell_type": "code",
   "execution_count": 93,
   "id": "44c4608a-7bfe-452d-95fc-ce2cf3e77a84",
   "metadata": {
    "execution": {
     "iopub.execute_input": "2022-03-11T10:32:29.105289Z",
     "iopub.status.busy": "2022-03-11T10:32:29.105134Z",
     "iopub.status.idle": "2022-03-11T10:32:29.126437Z",
     "shell.execute_reply": "2022-03-11T10:32:29.126129Z",
     "shell.execute_reply.started": "2022-03-11T10:32:29.105275Z"
    },
    "tags": []
   },
   "outputs": [
    {
     "name": "stdout",
     "output_type": "stream",
     "text": [
      "tensor(-1.0000e+10, device='cuda:0') tensor(-1.0000e+10, device='cuda:0')\n"
     ]
    }
   ],
   "source": [
    "print(energy_masked[1,0,5,15].data, energy_masked[1,0,5,16].data)\n",
    "      \n",
    "#[batch_size, num_heads, query_len, key_len]"
   ]
  },
  {
   "cell_type": "markdown",
   "id": "50cf36b0-6543-4f6e-a9fd-ac4b3767dbca",
   "metadata": {
    "execution": {
     "iopub.execute_input": "2022-03-06T06:40:33.100053Z",
     "iopub.status.busy": "2022-03-06T06:40:33.099853Z",
     "iopub.status.idle": "2022-03-06T06:40:33.103065Z",
     "shell.execute_reply": "2022-03-06T06:40:33.102543Z",
     "shell.execute_reply.started": "2022-03-06T06:40:33.100033Z"
    }
   },
   "source": [
    "<font size = 4, color = 'red'> **NOT UNDERSTOOD**</font><br>\n",
    "<font color = 'green'> **We are not ignoring pad tokens completely - we are ignoring pad tokens in keys and not queries**"
   ]
  },
  {
   "cell_type": "code",
   "execution_count": 94,
   "id": "9f79a6e5-8a1b-405a-8441-d7475240a978",
   "metadata": {
    "execution": {
     "iopub.execute_input": "2022-03-11T10:32:41.195223Z",
     "iopub.status.busy": "2022-03-11T10:32:41.195069Z",
     "iopub.status.idle": "2022-03-11T10:32:41.198905Z",
     "shell.execute_reply": "2022-03-11T10:32:41.198634Z",
     "shell.execute_reply.started": "2022-03-11T10:32:41.195210Z"
    },
    "tags": []
   },
   "outputs": [
    {
     "name": "stdout",
     "output_type": "stream",
     "text": [
      "tensor(0.0861, device='cuda:0') tensor(-0.9556, device='cuda:0')\n"
     ]
    }
   ],
   "source": [
    "print(energy_masked[1,0,15,1].data, energy_masked[1,0,16,1].data)      \n",
    "#[batch_size, num_heads, query_len, key_len]"
   ]
  },
  {
   "cell_type": "markdown",
   "id": "b0cc8cdf-3b3d-4796-9d18-212635bcdc37",
   "metadata": {
    "execution": {
     "iopub.execute_input": "2022-03-06T06:19:41.356628Z",
     "iopub.status.busy": "2022-03-06T06:19:41.356490Z",
     "iopub.status.idle": "2022-03-06T06:19:41.359837Z",
     "shell.execute_reply": "2022-03-06T06:19:41.359442Z",
     "shell.execute_reply.started": "2022-03-06T06:19:41.356616Z"
    }
   },
   "source": [
    "<font color = 'red'>**Print energy values for first sentence**</font>"
   ]
  },
  {
   "cell_type": "code",
   "execution_count": 95,
   "id": "879f0d17-679a-4e8c-8580-81274331af02",
   "metadata": {
    "execution": {
     "iopub.execute_input": "2022-03-11T10:33:24.410607Z",
     "iopub.status.busy": "2022-03-11T10:33:24.410168Z",
     "iopub.status.idle": "2022-03-11T10:33:24.428315Z",
     "shell.execute_reply": "2022-03-11T10:33:24.428013Z",
     "shell.execute_reply.started": "2022-03-11T10:33:24.410590Z"
    },
    "tags": []
   },
   "outputs": [
    {
     "name": "stdout",
     "output_type": "stream",
     "text": [
      "tensor(-0.7212, device='cuda:0') tensor(-0.6631, device='cuda:0') tensor(0.2438, device='cuda:0') tensor(2.6890, device='cuda:0')\n"
     ]
    }
   ],
   "source": [
    "print(energy_masked[0,0,5,15].data, energy_masked[0,1,5,16].data, \n",
    "      energy_masked[0,0,15,5].data, energy_masked[0,1,16,5].data)\n",
    "#[batch_size, num_heads, query_len, key_len]"
   ]
  },
  {
   "cell_type": "markdown",
   "id": "3ec3e8cc-a31d-4a79-b7f9-b664a56bacab",
   "metadata": {
    "execution": {
     "iopub.execute_input": "2022-03-06T18:33:44.838351Z",
     "iopub.status.busy": "2022-03-06T18:33:44.838200Z",
     "iopub.status.idle": "2022-03-06T18:33:44.840959Z",
     "shell.execute_reply": "2022-03-06T18:33:44.840599Z",
     "shell.execute_reply.started": "2022-03-06T18:33:44.838337Z"
    }
   },
   "source": [
    "##### <font color = 'blue'>**Apply softmax to convert QV dot product to probabilities**</font><br>"
   ]
  },
  {
   "cell_type": "code",
   "execution_count": 96,
   "id": "1082f252-912a-4d12-be13-06fd38102f00",
   "metadata": {
    "execution": {
     "iopub.execute_input": "2022-03-11T10:33:39.984012Z",
     "iopub.status.busy": "2022-03-11T10:33:39.983874Z",
     "iopub.status.idle": "2022-03-11T10:33:39.990123Z",
     "shell.execute_reply": "2022-03-11T10:33:39.989743Z",
     "shell.execute_reply.started": "2022-03-11T10:33:39.983998Z"
    },
    "tags": []
   },
   "outputs": [],
   "source": [
    "attention_prob = torch.softmax(energy_masked, dim = -1)                 \n",
    "#attention_prob = [batch size, n heads, query len, key len]"
   ]
  },
  {
   "cell_type": "code",
   "execution_count": 97,
   "id": "6d67d001-9bb5-46f6-b00d-1461a0d2f15c",
   "metadata": {
    "execution": {
     "iopub.execute_input": "2022-03-11T10:33:51.308104Z",
     "iopub.status.busy": "2022-03-11T10:33:51.307777Z",
     "iopub.status.idle": "2022-03-11T10:33:51.311452Z",
     "shell.execute_reply": "2022-03-11T10:33:51.311064Z",
     "shell.execute_reply.started": "2022-03-11T10:33:51.308088Z"
    },
    "tags": []
   },
   "outputs": [
    {
     "name": "stdout",
     "output_type": "stream",
     "text": [
      "tensor(0., device='cuda:0') tensor(0., device='cuda:0')\n"
     ]
    }
   ],
   "source": [
    "print(attention_prob [1,1,1,15].data, attention_prob [1,1,1,16].data)\n",
    "#[batch_size, num_heads, query_len, key_len]"
   ]
  },
  {
   "cell_type": "code",
   "execution_count": 99,
   "id": "48119a97-837c-4fe2-b394-83de78282ee0",
   "metadata": {
    "execution": {
     "iopub.execute_input": "2022-03-11T10:34:13.518496Z",
     "iopub.status.busy": "2022-03-11T10:34:13.518356Z",
     "iopub.status.idle": "2022-03-11T10:34:13.522155Z",
     "shell.execute_reply": "2022-03-11T10:34:13.521863Z",
     "shell.execute_reply.started": "2022-03-11T10:34:13.518483Z"
    },
    "tags": []
   },
   "outputs": [
    {
     "name": "stdout",
     "output_type": "stream",
     "text": [
      "tensor([0.0125, 0.0131, 0.2209, 0.1472, 0.0973, 0.0100, 0.0705, 0.0569, 0.0548,\n",
      "        0.0793, 0.1370, 0.1005, 0.0000, 0.0000, 0.0000, 0.0000, 0.0000],\n",
      "       device='cuda:0', grad_fn=<SliceBackward0>)\n"
     ]
    }
   ],
   "source": [
    "print(attention_prob[1, 0,1, :])"
   ]
  },
  {
   "cell_type": "code",
   "execution_count": 100,
   "id": "0fe5b82a-315f-4577-907e-9ceafc9e00d7",
   "metadata": {
    "execution": {
     "iopub.execute_input": "2022-03-11T10:34:25.479091Z",
     "iopub.status.busy": "2022-03-11T10:34:25.478939Z",
     "iopub.status.idle": "2022-03-11T10:34:25.482934Z",
     "shell.execute_reply": "2022-03-11T10:34:25.482574Z",
     "shell.execute_reply.started": "2022-03-11T10:34:25.479077Z"
    },
    "tags": []
   },
   "outputs": [
    {
     "data": {
      "text/plain": [
       "tensor(1., device='cuda:0', grad_fn=<SumBackward0>)"
      ]
     },
     "execution_count": 100,
     "metadata": {},
     "output_type": "execute_result"
    }
   ],
   "source": [
    "attention_prob[0, 0,1, :].sum()"
   ]
  },
  {
   "cell_type": "markdown",
   "id": "0d32017c-276b-4e10-930b-cc1be415d49b",
   "metadata": {
    "execution": {
     "iopub.execute_input": "2022-03-06T17:49:26.353174Z",
     "iopub.status.busy": "2022-03-06T17:49:26.353003Z",
     "iopub.status.idle": "2022-03-06T17:49:26.356619Z",
     "shell.execute_reply": "2022-03-06T17:49:26.356140Z",
     "shell.execute_reply.started": "2022-03-06T17:49:26.353143Z"
    }
   },
   "source": [
    "##### <font color = 'blue'>**Apply dropout layer to attention probabilities**</font><br>\n",
    "<font color = 'red'>**NOT UNDERSTOOD- why apply dropout here (probs will not sum to 1)**</font><br>\n",
    "<font color = 'green'>**Quotes from paper --We apply dropout [33] to the output of each sub-layer, before it is added to the sub-layer input and normalized.**</font>\n"
   ]
  },
  {
   "cell_type": "code",
   "execution_count": 101,
   "id": "670a94fa-c685-4979-88fe-9a69d8f0b27a",
   "metadata": {
    "execution": {
     "iopub.execute_input": "2022-03-11T10:34:37.944715Z",
     "iopub.status.busy": "2022-03-11T10:34:37.944500Z",
     "iopub.status.idle": "2022-03-11T10:34:37.947424Z",
     "shell.execute_reply": "2022-03-11T10:34:37.946976Z",
     "shell.execute_reply.started": "2022-03-11T10:34:37.944682Z"
    },
    "tags": []
   },
   "outputs": [],
   "source": [
    "att_enc_dropout =  nn.Dropout(p=0.0)"
   ]
  },
  {
   "cell_type": "code",
   "execution_count": 102,
   "id": "0931e2f8-503f-49b8-9df7-62439a083960",
   "metadata": {
    "execution": {
     "iopub.execute_input": "2022-03-11T10:34:38.361043Z",
     "iopub.status.busy": "2022-03-11T10:34:38.360834Z",
     "iopub.status.idle": "2022-03-11T10:34:38.363687Z",
     "shell.execute_reply": "2022-03-11T10:34:38.363236Z",
     "shell.execute_reply.started": "2022-03-11T10:34:38.361012Z"
    },
    "tags": []
   },
   "outputs": [],
   "source": [
    "attention_prob_after_dropout = att_enc_dropout(attention_prob)"
   ]
  },
  {
   "cell_type": "code",
   "execution_count": 103,
   "id": "1173819a-4017-4c9f-8f14-b508f44079b6",
   "metadata": {
    "execution": {
     "iopub.execute_input": "2022-03-11T10:34:38.691687Z",
     "iopub.status.busy": "2022-03-11T10:34:38.691537Z",
     "iopub.status.idle": "2022-03-11T10:34:38.695610Z",
     "shell.execute_reply": "2022-03-11T10:34:38.695208Z",
     "shell.execute_reply.started": "2022-03-11T10:34:38.691672Z"
    },
    "tags": []
   },
   "outputs": [
    {
     "name": "stdout",
     "output_type": "stream",
     "text": [
      "tensor([0.0069, 0.0031, 0.0177, 0.0442, 0.2607, 0.0039, 0.2280, 0.0592, 0.0332,\n",
      "        0.0391, 0.0719, 0.0232, 0.1246, 0.0076, 0.0227, 0.0091, 0.0450],\n",
      "       device='cuda:0', grad_fn=<SliceBackward0>)\n"
     ]
    }
   ],
   "source": [
    "print(attention_prob_after_dropout [0, 0,1, :])"
   ]
  },
  {
   "cell_type": "code",
   "execution_count": 104,
   "id": "b2c3292c-f974-4584-b3a6-ab39ba564455",
   "metadata": {
    "execution": {
     "iopub.execute_input": "2022-03-11T10:34:43.927025Z",
     "iopub.status.busy": "2022-03-11T10:34:43.926887Z",
     "iopub.status.idle": "2022-03-11T10:34:43.931134Z",
     "shell.execute_reply": "2022-03-11T10:34:43.930786Z",
     "shell.execute_reply.started": "2022-03-11T10:34:43.927012Z"
    },
    "tags": []
   },
   "outputs": [
    {
     "data": {
      "text/plain": [
       "tensor(1., device='cuda:0', grad_fn=<SumBackward0>)"
      ]
     },
     "execution_count": 104,
     "metadata": {},
     "output_type": "execute_result"
    }
   ],
   "source": [
    "attention_prob_after_dropout[0, 0,1, :].sum()"
   ]
  },
  {
   "cell_type": "markdown",
   "id": "9614b021-bbc8-4f69-bef5-8e41058dbdb0",
   "metadata": {
    "execution": {
     "iopub.execute_input": "2022-03-06T18:30:59.789080Z",
     "iopub.status.busy": "2022-03-06T18:30:59.788942Z",
     "iopub.status.idle": "2022-03-06T18:30:59.792284Z",
     "shell.execute_reply": "2022-03-06T18:30:59.791922Z",
     "shell.execute_reply.started": "2022-03-06T18:30:59.789068Z"
    },
    "tags": []
   },
   "source": [
    "<font size = 3, color = 'red'>**Probs do not sum to 1, sometimes these are greater than one and sometimes these are less than one**</font>"
   ]
  },
  {
   "cell_type": "markdown",
   "id": "898cc11e-8553-4928-8a18-65b976920b90",
   "metadata": {},
   "source": [
    "##### <font size = 4, color = 'blue'>**Encoder Self Attention Output**</font><br>\n",
    "<font size = 3, color = 'green'>**Final vectors are wighted sum of values. This gives us the final embeddings afer considering the context words. These represent the contextualized embeddings for the tokens**</font><br>"
   ]
  },
  {
   "cell_type": "code",
   "execution_count": 105,
   "id": "ee7c01d1-d96e-4c5a-ab6d-c4f2e0749732",
   "metadata": {
    "execution": {
     "iopub.execute_input": "2022-03-11T10:34:54.110958Z",
     "iopub.status.busy": "2022-03-11T10:34:54.110816Z",
     "iopub.status.idle": "2022-03-11T10:34:54.114537Z",
     "shell.execute_reply": "2022-03-11T10:34:54.114157Z",
     "shell.execute_reply.started": "2022-03-11T10:34:54.110945Z"
    },
    "tags": []
   },
   "outputs": [
    {
     "data": {
      "text/plain": [
       "torch.Size([2, 2, 17, 4])"
      ]
     },
     "execution_count": 105,
     "metadata": {},
     "output_type": "execute_result"
    }
   ],
   "source": [
    "V.shape\n",
    "# [batch_size, num_heads, value_len, head_dim]"
   ]
  },
  {
   "cell_type": "code",
   "execution_count": 106,
   "id": "85d8b522-b790-4e65-8f88-9d0a1cb42044",
   "metadata": {
    "execution": {
     "iopub.execute_input": "2022-03-11T10:34:54.996697Z",
     "iopub.status.busy": "2022-03-11T10:34:54.996557Z",
     "iopub.status.idle": "2022-03-11T10:34:55.000244Z",
     "shell.execute_reply": "2022-03-11T10:34:54.999827Z",
     "shell.execute_reply.started": "2022-03-11T10:34:54.996684Z"
    },
    "tags": []
   },
   "outputs": [
    {
     "data": {
      "text/plain": [
       "torch.Size([2, 2, 17, 17])"
      ]
     },
     "execution_count": 106,
     "metadata": {},
     "output_type": "execute_result"
    }
   ],
   "source": [
    "attention_prob_after_dropout.shape\n",
    "#[batch_size, num_heads, query_len, key_len]"
   ]
  },
  {
   "cell_type": "markdown",
   "id": "58fd56ce-91d1-458c-96f8-fb45f9de8a28",
   "metadata": {
    "execution": {
     "iopub.execute_input": "2022-03-06T20:32:06.562614Z",
     "iopub.status.busy": "2022-03-06T20:32:06.562473Z",
     "iopub.status.idle": "2022-03-06T20:32:06.565543Z",
     "shell.execute_reply": "2022-03-06T20:32:06.565175Z",
     "shell.execute_reply.started": "2022-03-06T20:32:06.562601Z"
    }
   },
   "source": [
    "<font size = 3, color = 'green'>**NOTE: key_len will be same as value_len**.<br>\n",
    "- Query comes from focal word (sentence), keys and values are from context.\n",
    "- In self attention both focal words and context are based on same sentence and hence same length.\n",
    "- In encoder-decoder attention of machine translation - focal word is target sentence and context word comes from source language. Hence queries are generated from target language. Whereas keys and values are generated from source language. We are trying to find which focal word in target language should pay attention to which words in source language.\n",
    "\n",
    "<font size = 3, color = 'red'>**Not Understood** - Since keys and values both capture context, why can we not use same matrix for Values and Keys i.e fc_k = fc_v. This is exacyly what we did in seq2seq paper with attention (without self attention). The source vectors were used both as keys and values."
   ]
  },
  {
   "cell_type": "code",
   "execution_count": 107,
   "id": "f7facd2c-0d9d-462b-9642-de7f886bcf5f",
   "metadata": {
    "execution": {
     "iopub.execute_input": "2022-03-11T11:21:33.478589Z",
     "iopub.status.busy": "2022-03-11T11:21:33.478374Z",
     "iopub.status.idle": "2022-03-11T11:21:33.501264Z",
     "shell.execute_reply": "2022-03-11T11:21:33.500888Z",
     "shell.execute_reply.started": "2022-03-11T11:21:33.478569Z"
    },
    "tags": []
   },
   "outputs": [],
   "source": [
    "# We can do this batch multiplication of the matrices of shape \n",
    "# [query_len, key_len] and [value_len, head_dim] as key_len = value_len\n",
    "encoder_contextulaized_embeddings = torch.matmul(attention_prob_after_dropout, V)\n",
    "#[batch_size, num_heads, query_len, head_dim]"
   ]
  },
  {
   "cell_type": "code",
   "execution_count": 108,
   "id": "40ef615c-5561-4b50-8344-41cbf6275528",
   "metadata": {
    "execution": {
     "iopub.execute_input": "2022-03-11T11:21:34.655281Z",
     "iopub.status.busy": "2022-03-11T11:21:34.655161Z",
     "iopub.status.idle": "2022-03-11T11:21:34.658155Z",
     "shell.execute_reply": "2022-03-11T11:21:34.657747Z",
     "shell.execute_reply.started": "2022-03-11T11:21:34.655268Z"
    },
    "tags": []
   },
   "outputs": [
    {
     "data": {
      "text/plain": [
       "torch.Size([2, 2, 17, 4])"
      ]
     },
     "execution_count": 108,
     "metadata": {},
     "output_type": "execute_result"
    }
   ],
   "source": [
    "encoder_contextulaized_embeddings.shape\n",
    "# [batch_size, number_of_heads, query_len, head_dim]"
   ]
  },
  {
   "cell_type": "code",
   "execution_count": 109,
   "id": "ff527ac1-3312-4fa9-a43c-ed4c12243569",
   "metadata": {
    "execution": {
     "iopub.execute_input": "2022-03-11T11:21:35.103667Z",
     "iopub.status.busy": "2022-03-11T11:21:35.103546Z",
     "iopub.status.idle": "2022-03-11T11:21:35.105978Z",
     "shell.execute_reply": "2022-03-11T11:21:35.105671Z",
     "shell.execute_reply.started": "2022-03-11T11:21:35.103654Z"
    },
    "tags": []
   },
   "outputs": [],
   "source": [
    "encoder_contextulaized_embeddings = encoder_contextulaized_embeddings.permute(0, 2, 1, 3)\n",
    "# [batch_size, query_len, number_of_heads, head_dim]"
   ]
  },
  {
   "cell_type": "code",
   "execution_count": 110,
   "id": "73ee7d14-da26-4695-85ba-8c2d037f6a87",
   "metadata": {
    "execution": {
     "iopub.execute_input": "2022-03-11T11:21:35.900172Z",
     "iopub.status.busy": "2022-03-11T11:21:35.900048Z",
     "iopub.status.idle": "2022-03-11T11:21:35.902977Z",
     "shell.execute_reply": "2022-03-11T11:21:35.902668Z",
     "shell.execute_reply.started": "2022-03-11T11:21:35.900158Z"
    },
    "tags": []
   },
   "outputs": [
    {
     "data": {
      "text/plain": [
       "torch.Size([2, 17, 2, 4])"
      ]
     },
     "execution_count": 110,
     "metadata": {},
     "output_type": "execute_result"
    }
   ],
   "source": [
    "encoder_contextulaized_embeddings.shape"
   ]
  },
  {
   "cell_type": "code",
   "execution_count": 111,
   "id": "7a7db5ac-fcd3-4866-a9dc-10845dad56ce",
   "metadata": {
    "execution": {
     "iopub.execute_input": "2022-03-11T11:21:36.230827Z",
     "iopub.status.busy": "2022-03-11T11:21:36.230649Z",
     "iopub.status.idle": "2022-03-11T11:21:36.329805Z",
     "shell.execute_reply": "2022-03-11T11:21:36.329159Z",
     "shell.execute_reply.started": "2022-03-11T11:21:36.230800Z"
    },
    "tags": []
   },
   "outputs": [
    {
     "ename": "RuntimeError",
     "evalue": "view size is not compatible with input tensor's size and stride (at least one dimension spans across two contiguous subspaces). Use .reshape(...) instead.",
     "output_type": "error",
     "traceback": [
      "\u001b[0;31m---------------------------------------------------------------------------\u001b[0m",
      "\u001b[0;31mRuntimeError\u001b[0m                              Traceback (most recent call last)",
      "\u001b[0;32m/tmp/ipykernel_58547/3635749625.py\u001b[0m in \u001b[0;36m<module>\u001b[0;34m\u001b[0m\n\u001b[0;32m----> 1\u001b[0;31m \u001b[0mencoder_contextulaized_embeddings\u001b[0m \u001b[0;34m=\u001b[0m \u001b[0mencoder_contextulaized_embeddings\u001b[0m\u001b[0;34m.\u001b[0m\u001b[0mview\u001b[0m\u001b[0;34m(\u001b[0m\u001b[0mbatch_size\u001b[0m\u001b[0;34m,\u001b[0m \u001b[0;34m-\u001b[0m\u001b[0;36m1\u001b[0m\u001b[0;34m,\u001b[0m \u001b[0mout_hid_dim\u001b[0m\u001b[0;34m)\u001b[0m\u001b[0;34m\u001b[0m\u001b[0;34m\u001b[0m\u001b[0m\n\u001b[0m",
      "\u001b[0;31mRuntimeError\u001b[0m: view size is not compatible with input tensor's size and stride (at least one dimension spans across two contiguous subspaces). Use .reshape(...) instead."
     ]
    }
   ],
   "source": [
    "encoder_contextulaized_embeddings = encoder_contextulaized_embeddings.view(batch_size, -1, out_hid_dim)"
   ]
  },
  {
   "cell_type": "markdown",
   "id": "00215af6-fdf0-4cda-b536-f1c22ee4740c",
   "metadata": {},
   "source": [
    "We cannot use .view because the tensor is no londer contiguous. We can use reshape which will create a copy and make a contiguous tensor."
   ]
  },
  {
   "cell_type": "code",
   "execution_count": 112,
   "id": "9f9df9a3-9f30-4c81-a74d-82946314a3a6",
   "metadata": {
    "execution": {
     "iopub.execute_input": "2022-03-11T11:21:37.624262Z",
     "iopub.status.busy": "2022-03-11T11:21:37.623923Z",
     "iopub.status.idle": "2022-03-11T11:21:37.626171Z",
     "shell.execute_reply": "2022-03-11T11:21:37.625856Z",
     "shell.execute_reply.started": "2022-03-11T11:21:37.624247Z"
    },
    "tags": []
   },
   "outputs": [],
   "source": [
    "encoder_contextulaized_embeddings = encoder_contextulaized_embeddings.reshape(batch_size, -1, out_hid_dim)"
   ]
  },
  {
   "cell_type": "code",
   "execution_count": 113,
   "id": "2dcaee67-b8f4-40bb-83c5-dfceeab01bcd",
   "metadata": {
    "execution": {
     "iopub.execute_input": "2022-03-11T11:21:38.000623Z",
     "iopub.status.busy": "2022-03-11T11:21:38.000485Z",
     "iopub.status.idle": "2022-03-11T11:21:38.003594Z",
     "shell.execute_reply": "2022-03-11T11:21:38.003343Z",
     "shell.execute_reply.started": "2022-03-11T11:21:38.000611Z"
    },
    "tags": []
   },
   "outputs": [
    {
     "data": {
      "text/plain": [
       "torch.Size([2, 17, 8])"
      ]
     },
     "execution_count": 113,
     "metadata": {},
     "output_type": "execute_result"
    }
   ],
   "source": [
    "encoder_contextulaized_embeddings.shape\n",
    "#[batch_size, seq_len, out_hid_dim]"
   ]
  },
  {
   "cell_type": "markdown",
   "id": "0626b40f-d429-469c-872f-670daa3cbb3c",
   "metadata": {},
   "source": [
    "<font size = 3, color = 'green'>We need to project the final values to have same shape as  input embedding. To accomplish this we will use fc_o linear layer we created earlier."
   ]
  },
  {
   "cell_type": "code",
   "execution_count": 114,
   "id": "2ef6e4ba-d13f-4c39-9ba4-87c196c0974e",
   "metadata": {
    "execution": {
     "iopub.execute_input": "2022-03-11T11:21:38.659051Z",
     "iopub.status.busy": "2022-03-11T11:21:38.658678Z",
     "iopub.status.idle": "2022-03-11T11:21:38.661302Z",
     "shell.execute_reply": "2022-03-11T11:21:38.660883Z",
     "shell.execute_reply.started": "2022-03-11T11:21:38.659036Z"
    },
    "tags": []
   },
   "outputs": [],
   "source": [
    "encoder_contextulaized_embeddings = fc_o(encoder_contextulaized_embeddings)"
   ]
  },
  {
   "cell_type": "code",
   "execution_count": 115,
   "id": "77b7c97f-6c72-48b3-ac68-ee9a5e97a5de",
   "metadata": {
    "execution": {
     "iopub.execute_input": "2022-03-11T11:21:40.325958Z",
     "iopub.status.busy": "2022-03-11T11:21:40.325406Z",
     "iopub.status.idle": "2022-03-11T11:21:40.329152Z",
     "shell.execute_reply": "2022-03-11T11:21:40.328713Z",
     "shell.execute_reply.started": "2022-03-11T11:21:40.325942Z"
    },
    "tags": []
   },
   "outputs": [
    {
     "data": {
      "text/plain": [
       "torch.Size([2, 17, 8])"
      ]
     },
     "execution_count": 115,
     "metadata": {},
     "output_type": "execute_result"
    }
   ],
   "source": [
    "encoder_contextulaized_embeddings.shape\n",
    "#[batch_size, seq_len, hid_dim]"
   ]
  },
  {
   "cell_type": "code",
   "execution_count": 116,
   "id": "94200026-a457-46c2-b90c-4791bb7fa8bf",
   "metadata": {
    "execution": {
     "iopub.execute_input": "2022-03-11T11:21:42.441009Z",
     "iopub.status.busy": "2022-03-11T11:21:42.440445Z",
     "iopub.status.idle": "2022-03-11T11:21:42.444933Z",
     "shell.execute_reply": "2022-03-11T11:21:42.444613Z",
     "shell.execute_reply.started": "2022-03-11T11:21:42.440994Z"
    },
    "tags": []
   },
   "outputs": [
    {
     "data": {
      "text/plain": [
       "tensor([-0.3837, -0.2911,  0.0199, -0.3197, -0.1372, -0.0581,  0.0435, -0.0631],\n",
       "       device='cuda:0', grad_fn=<SliceBackward0>)"
      ]
     },
     "execution_count": 116,
     "metadata": {},
     "output_type": "execute_result"
    }
   ],
   "source": [
    "encoder_contextulaized_embeddings[0,0,:]"
   ]
  },
  {
   "cell_type": "markdown",
   "id": "bfc5a3f2-4b6e-41a5-bb7e-d36f9a8bb7f9",
   "metadata": {
    "execution": {
     "iopub.execute_input": "2022-03-07T00:06:41.510426Z",
     "iopub.status.busy": "2022-03-07T00:06:41.510268Z",
     "iopub.status.idle": "2022-03-07T00:06:41.513328Z",
     "shell.execute_reply": "2022-03-07T00:06:41.512871Z",
     "shell.execute_reply.started": "2022-03-07T00:06:41.510413Z"
    }
   },
   "source": [
    "#### <font color ='blue'>**Implementing MultiHeadAttention using Pytorch Layer**\n",
    "Limitation: hid_dim == output_hid_dim.\n",
    "    "
   ]
  },
  {
   "cell_type": "code",
   "execution_count": 117,
   "id": "dbd635f5-1518-4dc0-9cbf-ce19119892c6",
   "metadata": {
    "execution": {
     "iopub.execute_input": "2022-03-11T11:21:43.579238Z",
     "iopub.status.busy": "2022-03-11T11:21:43.579111Z",
     "iopub.status.idle": "2022-03-11T11:21:43.582222Z",
     "shell.execute_reply": "2022-03-11T11:21:43.581819Z",
     "shell.execute_reply.started": "2022-03-11T11:21:43.579225Z"
    },
    "tags": []
   },
   "outputs": [],
   "source": [
    "multihead_attnetion_layer = torch.nn.MultiheadAttention(embed_dim=hid_dim, num_heads=n_heads, dropout=0.0, \n",
    "                                                        bias=True, add_bias_kv=False, \n",
    "                                                        add_zero_attn=False, kdim=None, \n",
    "                                                        vdim=None, batch_first=True, \n",
    "                                                        device=device, dtype=None)"
   ]
  },
  {
   "cell_type": "code",
   "execution_count": 118,
   "id": "6f31ff95-4d1c-40d5-b4fd-d8f34dcd24c3",
   "metadata": {
    "execution": {
     "iopub.execute_input": "2022-03-11T11:21:44.029965Z",
     "iopub.status.busy": "2022-03-11T11:21:44.029791Z",
     "iopub.status.idle": "2022-03-11T11:21:44.033341Z",
     "shell.execute_reply": "2022-03-11T11:21:44.032985Z",
     "shell.execute_reply.started": "2022-03-11T11:21:44.029932Z"
    },
    "tags": []
   },
   "outputs": [
    {
     "name": "stdout",
     "output_type": "stream",
     "text": [
      "in_proj_weight torch.Size([24, 8])\n",
      "in_proj_bias torch.Size([24])\n",
      "out_proj.weight torch.Size([8, 8])\n",
      "out_proj.bias torch.Size([8])\n"
     ]
    }
   ],
   "source": [
    "for name, parameter in multihead_attnetion_layer.named_parameters():\n",
    "    print(name, parameter.data.shape)"
   ]
  },
  {
   "cell_type": "markdown",
   "id": "7c883a5c-b7f3-4ddc-944d-fbd9864dd598",
   "metadata": {},
   "source": [
    "<font size = 3, color = 'green'>It combines Q, Kand V into one metrics. To compare the results, we need to make sure that initial merices are the same"
   ]
  },
  {
   "cell_type": "code",
   "execution_count": 119,
   "id": "1c27a77f-c684-4c6c-bc64-d3f98fc4f4f4",
   "metadata": {
    "execution": {
     "iopub.execute_input": "2022-03-11T11:21:44.838846Z",
     "iopub.status.busy": "2022-03-11T11:21:44.838686Z",
     "iopub.status.idle": "2022-03-11T11:21:44.841578Z",
     "shell.execute_reply": "2022-03-11T11:21:44.841225Z",
     "shell.execute_reply.started": "2022-03-11T11:21:44.838819Z"
    },
    "tags": []
   },
   "outputs": [],
   "source": [
    "multihead_attnetion_layer.in_proj_weight.data = torch.concat((fc_q.weight.data,fc_k.weight.data,\n",
    "                                                             fc_v.weight.data))"
   ]
  },
  {
   "cell_type": "code",
   "execution_count": 120,
   "id": "15c44069-18f0-477d-bba6-c6e84f0d2fa0",
   "metadata": {
    "execution": {
     "iopub.execute_input": "2022-03-11T11:21:45.071723Z",
     "iopub.status.busy": "2022-03-11T11:21:45.071563Z",
     "iopub.status.idle": "2022-03-11T11:21:45.075038Z",
     "shell.execute_reply": "2022-03-11T11:21:45.074519Z",
     "shell.execute_reply.started": "2022-03-11T11:21:45.071709Z"
    },
    "tags": []
   },
   "outputs": [
    {
     "data": {
      "text/plain": [
       "torch.Size([24, 8])"
      ]
     },
     "execution_count": 120,
     "metadata": {},
     "output_type": "execute_result"
    }
   ],
   "source": [
    "multihead_attnetion_layer.in_proj_weight.data.shape"
   ]
  },
  {
   "cell_type": "code",
   "execution_count": 121,
   "id": "5f6af03e-9145-4a99-9f7a-acb4eba3eb2c",
   "metadata": {
    "execution": {
     "iopub.execute_input": "2022-03-11T11:21:45.274485Z",
     "iopub.status.busy": "2022-03-11T11:21:45.274308Z",
     "iopub.status.idle": "2022-03-11T11:21:45.277272Z",
     "shell.execute_reply": "2022-03-11T11:21:45.276965Z",
     "shell.execute_reply.started": "2022-03-11T11:21:45.274456Z"
    },
    "tags": []
   },
   "outputs": [],
   "source": [
    "multihead_attnetion_layer.in_proj_bias.data = torch.concat((fc_q.bias.data,fc_k.bias.data,\n",
    "                                                             fc_v.bias.data))"
   ]
  },
  {
   "cell_type": "code",
   "execution_count": 122,
   "id": "632899e4-f674-4990-a76b-2005b4391192",
   "metadata": {
    "execution": {
     "iopub.execute_input": "2022-03-11T11:21:45.695352Z",
     "iopub.status.busy": "2022-03-11T11:21:45.695193Z",
     "iopub.status.idle": "2022-03-11T11:21:45.699245Z",
     "shell.execute_reply": "2022-03-11T11:21:45.698787Z",
     "shell.execute_reply.started": "2022-03-11T11:21:45.695333Z"
    },
    "tags": []
   },
   "outputs": [
    {
     "data": {
      "text/plain": [
       "torch.Size([24])"
      ]
     },
     "execution_count": 122,
     "metadata": {},
     "output_type": "execute_result"
    }
   ],
   "source": [
    "multihead_attnetion_layer.in_proj_bias.shape"
   ]
  },
  {
   "cell_type": "code",
   "execution_count": 123,
   "id": "e394616c-539a-4fa5-b418-af8ca66ca413",
   "metadata": {
    "execution": {
     "iopub.execute_input": "2022-03-11T11:21:45.979538Z",
     "iopub.status.busy": "2022-03-11T11:21:45.979395Z",
     "iopub.status.idle": "2022-03-11T11:21:45.982356Z",
     "shell.execute_reply": "2022-03-11T11:21:45.981736Z",
     "shell.execute_reply.started": "2022-03-11T11:21:45.979524Z"
    },
    "tags": []
   },
   "outputs": [],
   "source": [
    "multihead_attnetion_layer.out_proj.weight.data = fc_o.weight.data"
   ]
  },
  {
   "cell_type": "code",
   "execution_count": 124,
   "id": "ad24710c-320d-40dc-9b69-f6ce575a63eb",
   "metadata": {
    "execution": {
     "iopub.execute_input": "2022-03-11T11:21:46.219188Z",
     "iopub.status.busy": "2022-03-11T11:21:46.219061Z",
     "iopub.status.idle": "2022-03-11T11:21:46.221578Z",
     "shell.execute_reply": "2022-03-11T11:21:46.221199Z",
     "shell.execute_reply.started": "2022-03-11T11:21:46.219174Z"
    },
    "tags": []
   },
   "outputs": [],
   "source": [
    "multihead_attnetion_layer.out_proj.bias.data = fc_o.bias.data"
   ]
  },
  {
   "cell_type": "code",
   "execution_count": 125,
   "id": "f2dda68f-0242-431c-9d13-d3a141c82727",
   "metadata": {
    "execution": {
     "iopub.execute_input": "2022-03-11T11:21:46.435419Z",
     "iopub.status.busy": "2022-03-11T11:21:46.434913Z",
     "iopub.status.idle": "2022-03-11T11:21:46.437910Z",
     "shell.execute_reply": "2022-03-11T11:21:46.437291Z",
     "shell.execute_reply.started": "2022-03-11T11:21:46.435402Z"
    },
    "tags": []
   },
   "outputs": [],
   "source": [
    "src_mask = (mask_input== SRC_PAD_IDX )\n",
    "src_mask=src_mask.to(device)"
   ]
  },
  {
   "cell_type": "code",
   "execution_count": 126,
   "id": "69096c57-3b77-4e38-b841-8bab4b101e7f",
   "metadata": {
    "execution": {
     "iopub.execute_input": "2022-03-11T11:21:46.655492Z",
     "iopub.status.busy": "2022-03-11T11:21:46.655021Z",
     "iopub.status.idle": "2022-03-11T11:21:46.658496Z",
     "shell.execute_reply": "2022-03-11T11:21:46.658203Z",
     "shell.execute_reply.started": "2022-03-11T11:21:46.655476Z"
    },
    "tags": []
   },
   "outputs": [
    {
     "data": {
      "text/plain": [
       "torch.Size([2, 17])"
      ]
     },
     "execution_count": 126,
     "metadata": {},
     "output_type": "execute_result"
    }
   ],
   "source": [
    "src_mask.shape"
   ]
  },
  {
   "cell_type": "code",
   "execution_count": 127,
   "id": "e4c4ec95-4fed-4a99-a756-0593e9843e64",
   "metadata": {
    "execution": {
     "iopub.execute_input": "2022-03-11T11:21:46.852596Z",
     "iopub.status.busy": "2022-03-11T11:21:46.852248Z",
     "iopub.status.idle": "2022-03-11T11:21:46.856513Z",
     "shell.execute_reply": "2022-03-11T11:21:46.856193Z",
     "shell.execute_reply.started": "2022-03-11T11:21:46.852580Z"
    },
    "tags": []
   },
   "outputs": [
    {
     "data": {
      "text/plain": [
       "tensor([[False, False, False, False, False, False, False, False, False, False,\n",
       "         False, False, False, False, False, False, False],\n",
       "        [False, False, False, False, False, False, False, False, False, False,\n",
       "         False, False,  True,  True,  True,  True,  True]], device='cuda:0')"
      ]
     },
     "execution_count": 127,
     "metadata": {},
     "output_type": "execute_result"
    }
   ],
   "source": [
    "src_mask"
   ]
  },
  {
   "cell_type": "code",
   "execution_count": 128,
   "id": "b13c81ad-ab73-4ea0-adbd-5fc0b793d0e1",
   "metadata": {
    "execution": {
     "iopub.execute_input": "2022-03-11T11:21:47.209345Z",
     "iopub.status.busy": "2022-03-11T11:21:47.209194Z",
     "iopub.status.idle": "2022-03-11T11:21:47.212516Z",
     "shell.execute_reply": "2022-03-11T11:21:47.212246Z",
     "shell.execute_reply.started": "2022-03-11T11:21:47.209332Z"
    },
    "tags": []
   },
   "outputs": [],
   "source": [
    "output, attn_prob =multihead_attnetion_layer (query=encoder_input_after_dropout, \n",
    "                                              key= encoder_input_after_dropout,\n",
    "                                              value= encoder_input_after_dropout, \n",
    "                                              key_padding_mask=src_mask, \n",
    "                                              need_weights=True, \n",
    "                                              attn_mask=None)"
   ]
  },
  {
   "cell_type": "code",
   "execution_count": 129,
   "id": "a428b75b-0f9c-403f-9942-7c5b2382de90",
   "metadata": {
    "execution": {
     "iopub.execute_input": "2022-03-11T11:21:47.375452Z",
     "iopub.status.busy": "2022-03-11T11:21:47.375329Z",
     "iopub.status.idle": "2022-03-11T11:21:47.379390Z",
     "shell.execute_reply": "2022-03-11T11:21:47.378994Z",
     "shell.execute_reply.started": "2022-03-11T11:21:47.375439Z"
    },
    "tags": []
   },
   "outputs": [
    {
     "data": {
      "text/plain": [
       "tensor([-0.1993, -0.2112,  0.1667, -0.5761, -0.4725, -0.0408,  0.1955,  0.1250],\n",
       "       device='cuda:0', grad_fn=<SliceBackward0>)"
      ]
     },
     "execution_count": 129,
     "metadata": {},
     "output_type": "execute_result"
    }
   ],
   "source": [
    "output[1,12,:]"
   ]
  },
  {
   "cell_type": "code",
   "execution_count": 130,
   "id": "9576597b-55ed-45e5-a9a9-e3a547e78363",
   "metadata": {
    "execution": {
     "iopub.execute_input": "2022-03-11T11:21:48.234324Z",
     "iopub.status.busy": "2022-03-11T11:21:48.234185Z",
     "iopub.status.idle": "2022-03-11T11:21:48.238243Z",
     "shell.execute_reply": "2022-03-11T11:21:48.237739Z",
     "shell.execute_reply.started": "2022-03-11T11:21:48.234311Z"
    },
    "tags": []
   },
   "outputs": [
    {
     "data": {
      "text/plain": [
       "tensor([-0.1993, -0.2112,  0.1667, -0.5761, -0.4725, -0.0408,  0.1955,  0.1250],\n",
       "       device='cuda:0', grad_fn=<SliceBackward0>)"
      ]
     },
     "execution_count": 130,
     "metadata": {},
     "output_type": "execute_result"
    }
   ],
   "source": [
    "encoder_contextulaized_embeddings[1,12,:]"
   ]
  },
  {
   "cell_type": "code",
   "execution_count": null,
   "id": "0ab0c199-b4f0-4075-8fce-4830ead9eaef",
   "metadata": {},
   "outputs": [],
   "source": []
  },
  {
   "cell_type": "code",
   "execution_count": null,
   "id": "5a56bfc0-76f9-417c-96b1-6025b1a55bf2",
   "metadata": {},
   "outputs": [],
   "source": []
  }
 ],
 "metadata": {
  "kernelspec": {
   "display_name": "pt10",
   "language": "python",
   "name": "pt10"
  },
  "language_info": {
   "codemirror_mode": {
    "name": "ipython",
    "version": 3
   },
   "file_extension": ".py",
   "mimetype": "text/x-python",
   "name": "python",
   "nbconvert_exporter": "python",
   "pygments_lexer": "ipython3",
   "version": "3.8.12"
  }
 },
 "nbformat": 4,
 "nbformat_minor": 5
}
