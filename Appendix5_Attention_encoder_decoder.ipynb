{
 "cells": [
  {
   "cell_type": "markdown",
   "metadata": {},
   "source": [
    "# <font color = 'blue'> 6 - Attention Encoder-Decoder"
   ]
  },
  {
   "cell_type": "markdown",
   "metadata": {
    "execution": {
     "iopub.execute_input": "2022-02-27T08:35:50.289004Z",
     "iopub.status.busy": "2022-02-27T08:35:50.288736Z",
     "iopub.status.idle": "2022-02-27T08:35:50.291235Z",
     "shell.execute_reply": "2022-02-27T08:35:50.290917Z",
     "shell.execute_reply.started": "2022-02-27T08:35:50.288989Z"
    }
   },
   "source": [
    "# <font color = 'blue'> Import Libraries\n",
    "As always, let's import all the required modules and set the random seeds for reproducability."
   ]
  },
  {
   "cell_type": "code",
   "execution_count": 1,
   "metadata": {
    "execution": {
     "iopub.execute_input": "2022-03-11T11:43:51.685264Z",
     "iopub.status.busy": "2022-03-11T11:43:51.685065Z",
     "iopub.status.idle": "2022-03-11T11:43:52.210020Z",
     "shell.execute_reply": "2022-03-11T11:43:52.209626Z",
     "shell.execute_reply.started": "2022-03-11T11:43:51.685223Z"
    },
    "tags": []
   },
   "outputs": [],
   "source": [
    "import torch\n",
    "import torch.nn as nn\n",
    "from torch.utils.data import DataLoader, Dataset\n",
    "from torch.nn.utils.rnn import pad_sequence\n",
    "\n",
    "import torchtext \n",
    "from torchtext.datasets import Multi30k\n",
    "from torchtext.vocab import vocab\n",
    "\n",
    "\n",
    "import numpy as np\n",
    "from collections import Counter, OrderedDict\n",
    "\n",
    "import random\n",
    "import pandas as pd\n",
    "from pathlib import Path"
   ]
  },
  {
   "cell_type": "code",
   "execution_count": 2,
   "metadata": {
    "execution": {
     "iopub.execute_input": "2022-03-11T11:43:52.220379Z",
     "iopub.status.busy": "2022-03-11T11:43:52.220242Z",
     "iopub.status.idle": "2022-03-11T11:43:52.223919Z",
     "shell.execute_reply": "2022-03-11T11:43:52.223547Z",
     "shell.execute_reply.started": "2022-03-11T11:43:52.220367Z"
    },
    "tags": []
   },
   "outputs": [],
   "source": [
    "SEED = 1234\n",
    "\n",
    "random.seed(SEED)\n",
    "np.random.seed(SEED)\n",
    "torch.manual_seed(SEED)\n",
    "torch.cuda.manual_seed(SEED)\n",
    "torch.backends.cudnn.deterministic = True"
   ]
  },
  {
   "cell_type": "code",
   "execution_count": 3,
   "metadata": {
    "execution": {
     "iopub.execute_input": "2022-03-11T11:43:57.666800Z",
     "iopub.status.busy": "2022-03-11T11:43:57.666659Z",
     "iopub.status.idle": "2022-03-11T11:43:57.713019Z",
     "shell.execute_reply": "2022-03-11T11:43:57.712520Z",
     "shell.execute_reply.started": "2022-03-11T11:43:57.666786Z"
    },
    "tags": []
   },
   "outputs": [
    {
     "data": {
      "text/plain": [
       "('0.11.0', '1.10.0', True)"
      ]
     },
     "execution_count": 3,
     "metadata": {},
     "output_type": "execute_result"
    }
   ],
   "source": [
    "torchtext.__version__, torch.__version__, torch.cuda.is_available()"
   ]
  },
  {
   "cell_type": "markdown",
   "metadata": {},
   "source": [
    "# <font color = 'blue'>  Preparing the Data\n",
    "\n"
   ]
  },
  {
   "cell_type": "code",
   "execution_count": 6,
   "metadata": {
    "execution": {
     "iopub.execute_input": "2022-03-11T11:44:09.068331Z",
     "iopub.status.busy": "2022-03-11T11:44:09.068121Z",
     "iopub.status.idle": "2022-03-11T11:44:09.070506Z",
     "shell.execute_reply": "2022-03-11T11:44:09.070247Z",
     "shell.execute_reply.started": "2022-03-11T11:44:09.068301Z"
    },
    "tags": []
   },
   "outputs": [],
   "source": [
    "data_folder = Path('/home/harpreet/Insync/google_drive_shaannoor/Data/NLP')\n",
    "project_folder = Path('/home/harpreet/Insync/google_drive_harpreet/Research/NLP/pytorch-seq2seq')"
   ]
  },
  {
   "cell_type": "markdown",
   "metadata": {},
   "source": [
    "We'll then create our tokenizers as before."
   ]
  },
  {
   "cell_type": "markdown",
   "metadata": {
    "tags": []
   },
   "source": [
    "## <font color = 'blue'> Load tokenized data"
   ]
  },
  {
   "cell_type": "code",
   "execution_count": 7,
   "metadata": {
    "execution": {
     "iopub.execute_input": "2022-03-11T11:44:10.474669Z",
     "iopub.status.busy": "2022-03-11T11:44:10.474519Z",
     "iopub.status.idle": "2022-03-11T11:44:10.612711Z",
     "shell.execute_reply": "2022-03-11T11:44:10.612337Z",
     "shell.execute_reply.started": "2022-03-11T11:44:10.474655Z"
    },
    "tags": []
   },
   "outputs": [],
   "source": [
    "df_train = pd.read_pickle(project_folder/'df_train_en_de.pickel')"
   ]
  },
  {
   "cell_type": "code",
   "execution_count": 8,
   "metadata": {
    "execution": {
     "iopub.execute_input": "2022-03-11T11:44:11.016251Z",
     "iopub.status.busy": "2022-03-11T11:44:11.016112Z",
     "iopub.status.idle": "2022-03-11T11:44:11.028523Z",
     "shell.execute_reply": "2022-03-11T11:44:11.028263Z",
     "shell.execute_reply.started": "2022-03-11T11:44:11.016238Z"
    },
    "tags": []
   },
   "outputs": [
    {
     "data": {
      "text/html": [
       "<div>\n",
       "<style scoped>\n",
       "    .dataframe tbody tr th:only-of-type {\n",
       "        vertical-align: middle;\n",
       "    }\n",
       "\n",
       "    .dataframe tbody tr th {\n",
       "        vertical-align: top;\n",
       "    }\n",
       "\n",
       "    .dataframe thead th {\n",
       "        text-align: right;\n",
       "    }\n",
       "</style>\n",
       "<table border=\"1\" class=\"dataframe\">\n",
       "  <thead>\n",
       "    <tr style=\"text-align: right;\">\n",
       "      <th></th>\n",
       "      <th>source_tokens</th>\n",
       "      <th>target_tokens</th>\n",
       "      <th>source_tokens_reverse</th>\n",
       "    </tr>\n",
       "  </thead>\n",
       "  <tbody>\n",
       "    <tr>\n",
       "      <th>0</th>\n",
       "      <td>[zwei, junge, weiße, männer, sind, i, m, freie...</td>\n",
       "      <td>[two, young, ,, white, males, are, outside, ne...</td>\n",
       "      <td>[., büsche, vieler, nähe, der, in, freien, m, ...</td>\n",
       "    </tr>\n",
       "    <tr>\n",
       "      <th>1</th>\n",
       "      <td>[mehrere, männer, mit, schutzhelmen, bedienen,...</td>\n",
       "      <td>[several, men, in, hard, hats, are, operating,...</td>\n",
       "      <td>[., antriebsradsystem, ein, bedienen, schutzhe...</td>\n",
       "    </tr>\n",
       "    <tr>\n",
       "      <th>2</th>\n",
       "      <td>[ein, kleines, mädchen, klettert, in, ein, spi...</td>\n",
       "      <td>[a, little, girl, climbing, into, a, wooden, p...</td>\n",
       "      <td>[., holz, aus, spielhaus, ein, in, klettert, m...</td>\n",
       "    </tr>\n",
       "    <tr>\n",
       "      <th>3</th>\n",
       "      <td>[ein, mann, in, einem, blauen, hemd, steht, au...</td>\n",
       "      <td>[a, man, in, a, blue, shirt, is, standing, on,...</td>\n",
       "      <td>[., fenster, ein, putzt, und, leiter, einer, a...</td>\n",
       "    </tr>\n",
       "    <tr>\n",
       "      <th>4</th>\n",
       "      <td>[zwei, männer, stehen, am, herd, und, bereiten...</td>\n",
       "      <td>[two, men, are, at, the, stove, preparing, foo...</td>\n",
       "      <td>[., zu, essen, bereiten, und, herd, am, stehen...</td>\n",
       "    </tr>\n",
       "    <tr>\n",
       "      <th>...</th>\n",
       "      <td>...</td>\n",
       "      <td>...</td>\n",
       "      <td>...</td>\n",
       "    </tr>\n",
       "    <tr>\n",
       "      <th>28995</th>\n",
       "      <td>[., wand, verschnörkelten, einer, hinter, schr...</td>\n",
       "      <td>[a, woman, behind, a, scrolled, wall, is, writ...</td>\n",
       "      <td>[eine, frau, schreibt, hinter, einer, verschnö...</td>\n",
       "    </tr>\n",
       "    <tr>\n",
       "      <th>28996</th>\n",
       "      <td>[., kletterwand, einer, an, übt, bergsteiger, ...</td>\n",
       "      <td>[a, rock, climber, practices, on, a, rock, cli...</td>\n",
       "      <td>[ein, bergsteiger, übt, an, einer, kletterwand...</td>\n",
       "    </tr>\n",
       "    <tr>\n",
       "      <th>28997</th>\n",
       "      <td>[., hauses, einem, vor, straße, einer, auf, ar...</td>\n",
       "      <td>[two, male, construction, workers, are, workin...</td>\n",
       "      <td>[zwei, bauarbeiter, arbeiten, auf, einer, stra...</td>\n",
       "    </tr>\n",
       "    <tr>\n",
       "      <th>28998</th>\n",
       "      <td>[., fassade, einer, vor, wagen, einem, mit, ju...</td>\n",
       "      <td>[an, elderly, man, sits, outside, a, storefron...</td>\n",
       "      <td>[ein, älterer, mann, sitzt, mit, einem, jungen...</td>\n",
       "    </tr>\n",
       "    <tr>\n",
       "      <th>28999</th>\n",
       "      <td>[., hintergrund, m, i, bergen, und, nebel, mit...</td>\n",
       "      <td>[a, man, in, shorts, and, a, hawaiian, shirt, ...</td>\n",
       "      <td>[ein, mann, in, shorts, und, hawaiihemd, lehnt...</td>\n",
       "    </tr>\n",
       "  </tbody>\n",
       "</table>\n",
       "<p>29000 rows × 3 columns</p>\n",
       "</div>"
      ],
      "text/plain": [
       "                                           source_tokens  \\\n",
       "0      [zwei, junge, weiße, männer, sind, i, m, freie...   \n",
       "1      [mehrere, männer, mit, schutzhelmen, bedienen,...   \n",
       "2      [ein, kleines, mädchen, klettert, in, ein, spi...   \n",
       "3      [ein, mann, in, einem, blauen, hemd, steht, au...   \n",
       "4      [zwei, männer, stehen, am, herd, und, bereiten...   \n",
       "...                                                  ...   \n",
       "28995  [., wand, verschnörkelten, einer, hinter, schr...   \n",
       "28996  [., kletterwand, einer, an, übt, bergsteiger, ...   \n",
       "28997  [., hauses, einem, vor, straße, einer, auf, ar...   \n",
       "28998  [., fassade, einer, vor, wagen, einem, mit, ju...   \n",
       "28999  [., hintergrund, m, i, bergen, und, nebel, mit...   \n",
       "\n",
       "                                           target_tokens  \\\n",
       "0      [two, young, ,, white, males, are, outside, ne...   \n",
       "1      [several, men, in, hard, hats, are, operating,...   \n",
       "2      [a, little, girl, climbing, into, a, wooden, p...   \n",
       "3      [a, man, in, a, blue, shirt, is, standing, on,...   \n",
       "4      [two, men, are, at, the, stove, preparing, foo...   \n",
       "...                                                  ...   \n",
       "28995  [a, woman, behind, a, scrolled, wall, is, writ...   \n",
       "28996  [a, rock, climber, practices, on, a, rock, cli...   \n",
       "28997  [two, male, construction, workers, are, workin...   \n",
       "28998  [an, elderly, man, sits, outside, a, storefron...   \n",
       "28999  [a, man, in, shorts, and, a, hawaiian, shirt, ...   \n",
       "\n",
       "                                   source_tokens_reverse  \n",
       "0      [., büsche, vieler, nähe, der, in, freien, m, ...  \n",
       "1      [., antriebsradsystem, ein, bedienen, schutzhe...  \n",
       "2      [., holz, aus, spielhaus, ein, in, klettert, m...  \n",
       "3      [., fenster, ein, putzt, und, leiter, einer, a...  \n",
       "4      [., zu, essen, bereiten, und, herd, am, stehen...  \n",
       "...                                                  ...  \n",
       "28995  [eine, frau, schreibt, hinter, einer, verschnö...  \n",
       "28996  [ein, bergsteiger, übt, an, einer, kletterwand...  \n",
       "28997  [zwei, bauarbeiter, arbeiten, auf, einer, stra...  \n",
       "28998  [ein, älterer, mann, sitzt, mit, einem, jungen...  \n",
       "28999  [ein, mann, in, shorts, und, hawaiihemd, lehnt...  \n",
       "\n",
       "[29000 rows x 3 columns]"
      ]
     },
     "execution_count": 8,
     "metadata": {},
     "output_type": "execute_result"
    }
   ],
   "source": [
    "df_train"
   ]
  },
  {
   "cell_type": "markdown",
   "metadata": {},
   "source": [
    "## <font color = 'blue'> Small subset of data"
   ]
  },
  {
   "cell_type": "code",
   "execution_count": 9,
   "metadata": {
    "execution": {
     "iopub.execute_input": "2022-03-11T11:44:12.110570Z",
     "iopub.status.busy": "2022-03-11T11:44:12.110078Z",
     "iopub.status.idle": "2022-03-11T11:44:12.112662Z",
     "shell.execute_reply": "2022-03-11T11:44:12.112367Z",
     "shell.execute_reply.started": "2022-03-11T11:44:12.110555Z"
    },
    "tags": []
   },
   "outputs": [],
   "source": [
    "df_train_small= df_train[0:4]"
   ]
  },
  {
   "cell_type": "code",
   "execution_count": 10,
   "metadata": {
    "execution": {
     "iopub.execute_input": "2022-03-11T11:44:12.546743Z",
     "iopub.status.busy": "2022-03-11T11:44:12.546287Z",
     "iopub.status.idle": "2022-03-11T11:44:12.553760Z",
     "shell.execute_reply": "2022-03-11T11:44:12.553439Z",
     "shell.execute_reply.started": "2022-03-11T11:44:12.546728Z"
    },
    "tags": []
   },
   "outputs": [
    {
     "data": {
      "text/html": [
       "<div>\n",
       "<style scoped>\n",
       "    .dataframe tbody tr th:only-of-type {\n",
       "        vertical-align: middle;\n",
       "    }\n",
       "\n",
       "    .dataframe tbody tr th {\n",
       "        vertical-align: top;\n",
       "    }\n",
       "\n",
       "    .dataframe thead th {\n",
       "        text-align: right;\n",
       "    }\n",
       "</style>\n",
       "<table border=\"1\" class=\"dataframe\">\n",
       "  <thead>\n",
       "    <tr style=\"text-align: right;\">\n",
       "      <th></th>\n",
       "      <th>source_tokens</th>\n",
       "      <th>target_tokens</th>\n",
       "      <th>source_tokens_reverse</th>\n",
       "    </tr>\n",
       "  </thead>\n",
       "  <tbody>\n",
       "    <tr>\n",
       "      <th>0</th>\n",
       "      <td>[zwei, junge, weiße, männer, sind, i, m, freie...</td>\n",
       "      <td>[two, young, ,, white, males, are, outside, ne...</td>\n",
       "      <td>[., büsche, vieler, nähe, der, in, freien, m, ...</td>\n",
       "    </tr>\n",
       "    <tr>\n",
       "      <th>1</th>\n",
       "      <td>[mehrere, männer, mit, schutzhelmen, bedienen,...</td>\n",
       "      <td>[several, men, in, hard, hats, are, operating,...</td>\n",
       "      <td>[., antriebsradsystem, ein, bedienen, schutzhe...</td>\n",
       "    </tr>\n",
       "    <tr>\n",
       "      <th>2</th>\n",
       "      <td>[ein, kleines, mädchen, klettert, in, ein, spi...</td>\n",
       "      <td>[a, little, girl, climbing, into, a, wooden, p...</td>\n",
       "      <td>[., holz, aus, spielhaus, ein, in, klettert, m...</td>\n",
       "    </tr>\n",
       "    <tr>\n",
       "      <th>3</th>\n",
       "      <td>[ein, mann, in, einem, blauen, hemd, steht, au...</td>\n",
       "      <td>[a, man, in, a, blue, shirt, is, standing, on,...</td>\n",
       "      <td>[., fenster, ein, putzt, und, leiter, einer, a...</td>\n",
       "    </tr>\n",
       "  </tbody>\n",
       "</table>\n",
       "</div>"
      ],
      "text/plain": [
       "                                       source_tokens  \\\n",
       "0  [zwei, junge, weiße, männer, sind, i, m, freie...   \n",
       "1  [mehrere, männer, mit, schutzhelmen, bedienen,...   \n",
       "2  [ein, kleines, mädchen, klettert, in, ein, spi...   \n",
       "3  [ein, mann, in, einem, blauen, hemd, steht, au...   \n",
       "\n",
       "                                       target_tokens  \\\n",
       "0  [two, young, ,, white, males, are, outside, ne...   \n",
       "1  [several, men, in, hard, hats, are, operating,...   \n",
       "2  [a, little, girl, climbing, into, a, wooden, p...   \n",
       "3  [a, man, in, a, blue, shirt, is, standing, on,...   \n",
       "\n",
       "                               source_tokens_reverse  \n",
       "0  [., büsche, vieler, nähe, der, in, freien, m, ...  \n",
       "1  [., antriebsradsystem, ein, bedienen, schutzhe...  \n",
       "2  [., holz, aus, spielhaus, ein, in, klettert, m...  \n",
       "3  [., fenster, ein, putzt, und, leiter, einer, a...  "
      ]
     },
     "execution_count": 10,
     "metadata": {},
     "output_type": "execute_result"
    }
   ],
   "source": [
    "df_train_small"
   ]
  },
  {
   "cell_type": "code",
   "execution_count": 11,
   "metadata": {
    "execution": {
     "iopub.execute_input": "2022-03-11T11:44:12.919719Z",
     "iopub.status.busy": "2022-03-11T11:44:12.919600Z",
     "iopub.status.idle": "2022-03-11T11:44:12.923356Z",
     "shell.execute_reply": "2022-03-11T11:44:12.922992Z",
     "shell.execute_reply.started": "2022-03-11T11:44:12.919705Z"
    },
    "tags": []
   },
   "outputs": [],
   "source": [
    "df_train_small= df_train_small.drop(columns=['source_tokens_reverse'])"
   ]
  },
  {
   "cell_type": "code",
   "execution_count": 12,
   "metadata": {
    "execution": {
     "iopub.execute_input": "2022-03-11T11:44:13.222288Z",
     "iopub.status.busy": "2022-03-11T11:44:13.222171Z",
     "iopub.status.idle": "2022-03-11T11:44:13.227744Z",
     "shell.execute_reply": "2022-03-11T11:44:13.227423Z",
     "shell.execute_reply.started": "2022-03-11T11:44:13.222275Z"
    },
    "tags": []
   },
   "outputs": [
    {
     "data": {
      "text/html": [
       "<div>\n",
       "<style scoped>\n",
       "    .dataframe tbody tr th:only-of-type {\n",
       "        vertical-align: middle;\n",
       "    }\n",
       "\n",
       "    .dataframe tbody tr th {\n",
       "        vertical-align: top;\n",
       "    }\n",
       "\n",
       "    .dataframe thead th {\n",
       "        text-align: right;\n",
       "    }\n",
       "</style>\n",
       "<table border=\"1\" class=\"dataframe\">\n",
       "  <thead>\n",
       "    <tr style=\"text-align: right;\">\n",
       "      <th></th>\n",
       "      <th>source_tokens</th>\n",
       "      <th>target_tokens</th>\n",
       "    </tr>\n",
       "  </thead>\n",
       "  <tbody>\n",
       "    <tr>\n",
       "      <th>0</th>\n",
       "      <td>[zwei, junge, weiße, männer, sind, i, m, freie...</td>\n",
       "      <td>[two, young, ,, white, males, are, outside, ne...</td>\n",
       "    </tr>\n",
       "    <tr>\n",
       "      <th>1</th>\n",
       "      <td>[mehrere, männer, mit, schutzhelmen, bedienen,...</td>\n",
       "      <td>[several, men, in, hard, hats, are, operating,...</td>\n",
       "    </tr>\n",
       "    <tr>\n",
       "      <th>2</th>\n",
       "      <td>[ein, kleines, mädchen, klettert, in, ein, spi...</td>\n",
       "      <td>[a, little, girl, climbing, into, a, wooden, p...</td>\n",
       "    </tr>\n",
       "    <tr>\n",
       "      <th>3</th>\n",
       "      <td>[ein, mann, in, einem, blauen, hemd, steht, au...</td>\n",
       "      <td>[a, man, in, a, blue, shirt, is, standing, on,...</td>\n",
       "    </tr>\n",
       "  </tbody>\n",
       "</table>\n",
       "</div>"
      ],
      "text/plain": [
       "                                       source_tokens  \\\n",
       "0  [zwei, junge, weiße, männer, sind, i, m, freie...   \n",
       "1  [mehrere, männer, mit, schutzhelmen, bedienen,...   \n",
       "2  [ein, kleines, mädchen, klettert, in, ein, spi...   \n",
       "3  [ein, mann, in, einem, blauen, hemd, steht, au...   \n",
       "\n",
       "                                       target_tokens  \n",
       "0  [two, young, ,, white, males, are, outside, ne...  \n",
       "1  [several, men, in, hard, hats, are, operating,...  \n",
       "2  [a, little, girl, climbing, into, a, wooden, p...  \n",
       "3  [a, man, in, a, blue, shirt, is, standing, on,...  "
      ]
     },
     "execution_count": 12,
     "metadata": {},
     "output_type": "execute_result"
    }
   ],
   "source": [
    "df_train_small"
   ]
  },
  {
   "cell_type": "markdown",
   "metadata": {
    "id": "If-BMrTctAXj"
   },
   "source": [
    "## <font color = 'blue'> Build Vocab"
   ]
  },
  {
   "cell_type": "code",
   "execution_count": 13,
   "metadata": {
    "execution": {
     "iopub.execute_input": "2022-03-11T11:44:14.465561Z",
     "iopub.status.busy": "2022-03-11T11:44:14.465365Z",
     "iopub.status.idle": "2022-03-11T11:44:14.468340Z",
     "shell.execute_reply": "2022-03-11T11:44:14.468031Z",
     "shell.execute_reply.started": "2022-03-11T11:44:14.465546Z"
    },
    "executionInfo": {
     "elapsed": 309,
     "status": "ok",
     "timestamp": 1644562027083,
     "user": {
      "displayName": "Shaannoor Mann",
      "photoUrl": "https://lh3.googleusercontent.com/a/default-user=s64",
      "userId": "02520257695567980696"
     },
     "user_tz": 360
    },
    "id": "GY9kL2JxtAXj",
    "tags": []
   },
   "outputs": [],
   "source": [
    "def create_vocab(text, min_freq, specials):\n",
    "    my_counter = Counter()\n",
    "    for line in text:\n",
    "       my_counter.update(line)\n",
    "    my_vocab = vocab(my_counter, min_freq=min_freq)\n",
    "    for i, special in enumerate(specials):\n",
    "        my_vocab.insert_token(special, i)\n",
    "    my_vocab.set_default_index(0)\n",
    "    return my_vocab"
   ]
  },
  {
   "cell_type": "markdown",
   "metadata": {},
   "source": [
    "Create source vocab, We will add four special tokens - ```['<unk>', '<BOS>', '<EOS>', '<PAD>']```"
   ]
  },
  {
   "cell_type": "markdown",
   "metadata": {
    "execution": {
     "iopub.execute_input": "2022-03-06T18:47:09.646766Z",
     "iopub.status.busy": "2022-03-06T18:47:09.646608Z",
     "iopub.status.idle": "2022-03-06T18:47:09.649209Z",
     "shell.execute_reply": "2022-03-06T18:47:09.648843Z",
     "shell.execute_reply.started": "2022-03-06T18:47:09.646752Z"
    }
   },
   "source": [
    "### <font color = 'blue'> Source Vocab"
   ]
  },
  {
   "cell_type": "code",
   "execution_count": 14,
   "metadata": {
    "execution": {
     "iopub.execute_input": "2022-03-11T11:44:15.797895Z",
     "iopub.status.busy": "2022-03-11T11:44:15.797773Z",
     "iopub.status.idle": "2022-03-11T11:44:15.826733Z",
     "shell.execute_reply": "2022-03-11T11:44:15.825986Z",
     "shell.execute_reply.started": "2022-03-11T11:44:15.797881Z"
    },
    "executionInfo": {
     "elapsed": 1,
     "status": "ok",
     "timestamp": 1644562028109,
     "user": {
      "displayName": "Shaannoor Mann",
      "photoUrl": "https://lh3.googleusercontent.com/a/default-user=s64",
      "userId": "02520257695567980696"
     },
     "user_tz": 360
    },
    "id": "dcvIJAIHtAXj",
    "tags": []
   },
   "outputs": [],
   "source": [
    "source_vocab = create_vocab(df_train_small['source_tokens'], 1, ['<unk>', '<BOS>', '<EOS>', '<PAD>'])"
   ]
  },
  {
   "cell_type": "code",
   "execution_count": 15,
   "metadata": {
    "colab": {
     "base_uri": "https://localhost:8080/"
    },
    "execution": {
     "iopub.execute_input": "2022-03-11T11:44:16.080063Z",
     "iopub.status.busy": "2022-03-11T11:44:16.079928Z",
     "iopub.status.idle": "2022-03-11T11:44:16.082954Z",
     "shell.execute_reply": "2022-03-11T11:44:16.082598Z",
     "shell.execute_reply.started": "2022-03-11T11:44:16.080049Z"
    },
    "executionInfo": {
     "elapsed": 2,
     "status": "ok",
     "timestamp": 1644562029061,
     "user": {
      "displayName": "Shaannoor Mann",
      "photoUrl": "https://lh3.googleusercontent.com/a/default-user=s64",
      "userId": "02520257695567980696"
     },
     "user_tz": 360
    },
    "id": "qtEt9Sh-tAXk",
    "outputId": "1764add1-bf7a-4c9f-f38c-efff19b32b07",
    "tags": []
   },
   "outputs": [
    {
     "data": {
      "text/plain": [
       "41"
      ]
     },
     "execution_count": 15,
     "metadata": {},
     "output_type": "execute_result"
    }
   ],
   "source": [
    "len(source_vocab)"
   ]
  },
  {
   "cell_type": "code",
   "execution_count": 16,
   "metadata": {
    "colab": {
     "base_uri": "https://localhost:8080/",
     "height": 423
    },
    "execution": {
     "iopub.execute_input": "2022-03-11T11:44:16.494928Z",
     "iopub.status.busy": "2022-03-11T11:44:16.494528Z",
     "iopub.status.idle": "2022-03-11T11:44:16.501345Z",
     "shell.execute_reply": "2022-03-11T11:44:16.501047Z",
     "shell.execute_reply.started": "2022-03-11T11:44:16.494912Z"
    },
    "executionInfo": {
     "elapsed": 3,
     "status": "ok",
     "timestamp": 1644562030020,
     "user": {
      "displayName": "Shaannoor Mann",
      "photoUrl": "https://lh3.googleusercontent.com/a/default-user=s64",
      "userId": "02520257695567980696"
     },
     "user_tz": 360
    },
    "id": "bf9fu5L2tAXk",
    "outputId": "35252b98-1fff-4186-8274-aadae1b1b0b4",
    "tags": []
   },
   "outputs": [
    {
     "data": {
      "text/html": [
       "<div>\n",
       "<style scoped>\n",
       "    .dataframe tbody tr th:only-of-type {\n",
       "        vertical-align: middle;\n",
       "    }\n",
       "\n",
       "    .dataframe tbody tr th {\n",
       "        vertical-align: top;\n",
       "    }\n",
       "\n",
       "    .dataframe thead th {\n",
       "        text-align: right;\n",
       "    }\n",
       "</style>\n",
       "<table border=\"1\" class=\"dataframe\">\n",
       "  <thead>\n",
       "    <tr style=\"text-align: right;\">\n",
       "      <th></th>\n",
       "      <th>tokens</th>\n",
       "      <th>index</th>\n",
       "    </tr>\n",
       "  </thead>\n",
       "  <tbody>\n",
       "    <tr>\n",
       "      <th>28</th>\n",
       "      <td>&lt;unk&gt;</td>\n",
       "      <td>0</td>\n",
       "    </tr>\n",
       "    <tr>\n",
       "      <th>34</th>\n",
       "      <td>&lt;BOS&gt;</td>\n",
       "      <td>1</td>\n",
       "    </tr>\n",
       "    <tr>\n",
       "      <th>23</th>\n",
       "      <td>&lt;EOS&gt;</td>\n",
       "      <td>2</td>\n",
       "    </tr>\n",
       "    <tr>\n",
       "      <th>19</th>\n",
       "      <td>&lt;PAD&gt;</td>\n",
       "      <td>3</td>\n",
       "    </tr>\n",
       "    <tr>\n",
       "      <th>17</th>\n",
       "      <td>zwei</td>\n",
       "      <td>4</td>\n",
       "    </tr>\n",
       "    <tr>\n",
       "      <th>27</th>\n",
       "      <td>junge</td>\n",
       "      <td>5</td>\n",
       "    </tr>\n",
       "    <tr>\n",
       "      <th>14</th>\n",
       "      <td>weiße</td>\n",
       "      <td>6</td>\n",
       "    </tr>\n",
       "    <tr>\n",
       "      <th>12</th>\n",
       "      <td>männer</td>\n",
       "      <td>7</td>\n",
       "    </tr>\n",
       "    <tr>\n",
       "      <th>16</th>\n",
       "      <td>sind</td>\n",
       "      <td>8</td>\n",
       "    </tr>\n",
       "    <tr>\n",
       "      <th>7</th>\n",
       "      <td>i</td>\n",
       "      <td>9</td>\n",
       "    </tr>\n",
       "  </tbody>\n",
       "</table>\n",
       "</div>"
      ],
      "text/plain": [
       "    tokens  index\n",
       "28   <unk>      0\n",
       "34   <BOS>      1\n",
       "23   <EOS>      2\n",
       "19   <PAD>      3\n",
       "17    zwei      4\n",
       "27   junge      5\n",
       "14   weiße      6\n",
       "12  männer      7\n",
       "16    sind      8\n",
       "7        i      9"
      ]
     },
     "execution_count": 16,
     "metadata": {},
     "output_type": "execute_result"
    }
   ],
   "source": [
    "pd.DataFrame(source_vocab.get_stoi().items(), columns=['tokens', 'index']).sort_values(by = ['index'])[0:10]"
   ]
  },
  {
   "cell_type": "code",
   "execution_count": 17,
   "metadata": {
    "colab": {
     "base_uri": "https://localhost:8080/"
    },
    "execution": {
     "iopub.execute_input": "2022-03-11T11:44:16.882051Z",
     "iopub.status.busy": "2022-03-11T11:44:16.881900Z",
     "iopub.status.idle": "2022-03-11T11:44:16.885565Z",
     "shell.execute_reply": "2022-03-11T11:44:16.885233Z",
     "shell.execute_reply.started": "2022-03-11T11:44:16.882024Z"
    },
    "executionInfo": {
     "elapsed": 2,
     "status": "ok",
     "timestamp": 1644562031101,
     "user": {
      "displayName": "Shaannoor Mann",
      "photoUrl": "https://lh3.googleusercontent.com/a/default-user=s64",
      "userId": "02520257695567980696"
     },
     "user_tz": 360
    },
    "id": "8pKCTbN6tAXk",
    "outputId": "fd7c0bbb-562a-4313-fcb7-16a486abe4fd",
    "tags": []
   },
   "outputs": [
    {
     "data": {
      "text/plain": [
       "0"
      ]
     },
     "execution_count": 17,
     "metadata": {},
     "output_type": "execute_result"
    }
   ],
   "source": [
    "# check index of unknown word - it should be zero\n",
    "source_vocab['abracdabra']"
   ]
  },
  {
   "cell_type": "markdown",
   "metadata": {},
   "source": [
    "### <font color = 'blue'> Target Vocab"
   ]
  },
  {
   "cell_type": "code",
   "execution_count": 18,
   "metadata": {
    "execution": {
     "iopub.execute_input": "2022-03-11T11:44:18.215069Z",
     "iopub.status.busy": "2022-03-11T11:44:18.214932Z",
     "iopub.status.idle": "2022-03-11T11:44:18.244028Z",
     "shell.execute_reply": "2022-03-11T11:44:18.243592Z",
     "shell.execute_reply.started": "2022-03-11T11:44:18.215055Z"
    },
    "executionInfo": {
     "elapsed": 637,
     "status": "ok",
     "timestamp": 1644562032737,
     "user": {
      "displayName": "Shaannoor Mann",
      "photoUrl": "https://lh3.googleusercontent.com/a/default-user=s64",
      "userId": "02520257695567980696"
     },
     "user_tz": 360
    },
    "id": "qkXg6IratAXk",
    "tags": []
   },
   "outputs": [],
   "source": [
    "target_vocab = create_vocab(df_train_small['target_tokens'], 1, ['<unk>', '<BOS>', '<EOS>', '<PAD>'])"
   ]
  },
  {
   "cell_type": "code",
   "execution_count": 19,
   "metadata": {
    "colab": {
     "base_uri": "https://localhost:8080/"
    },
    "execution": {
     "iopub.execute_input": "2022-03-11T11:44:18.546783Z",
     "iopub.status.busy": "2022-03-11T11:44:18.546644Z",
     "iopub.status.idle": "2022-03-11T11:44:18.550493Z",
     "shell.execute_reply": "2022-03-11T11:44:18.549963Z",
     "shell.execute_reply.started": "2022-03-11T11:44:18.546770Z"
    },
    "executionInfo": {
     "elapsed": 2,
     "status": "ok",
     "timestamp": 1644562033264,
     "user": {
      "displayName": "Shaannoor Mann",
      "photoUrl": "https://lh3.googleusercontent.com/a/default-user=s64",
      "userId": "02520257695567980696"
     },
     "user_tz": 360
    },
    "id": "v_Y8C62GtAXk",
    "outputId": "e8c4cb40-b386-43c9-9f34-887f5f5c4ed1",
    "tags": []
   },
   "outputs": [
    {
     "data": {
      "text/plain": [
       "40"
      ]
     },
     "execution_count": 19,
     "metadata": {},
     "output_type": "execute_result"
    }
   ],
   "source": [
    "len(target_vocab)"
   ]
  },
  {
   "cell_type": "markdown",
   "metadata": {
    "id": "feccYoeWtAXk",
    "tags": []
   },
   "source": [
    "## <font color = 'blue'> Create Dataset and Dataloader"
   ]
  },
  {
   "cell_type": "code",
   "execution_count": 20,
   "metadata": {
    "execution": {
     "iopub.execute_input": "2022-03-11T11:44:19.416305Z",
     "iopub.status.busy": "2022-03-11T11:44:19.416184Z",
     "iopub.status.idle": "2022-03-11T11:44:19.420682Z",
     "shell.execute_reply": "2022-03-11T11:44:19.420308Z",
     "shell.execute_reply.started": "2022-03-11T11:44:19.416292Z"
    },
    "executionInfo": {
     "elapsed": 2,
     "status": "ok",
     "timestamp": 1644562046437,
     "user": {
      "displayName": "Shaannoor Mann",
      "photoUrl": "https://lh3.googleusercontent.com/a/default-user=s64",
      "userId": "02520257695567980696"
     },
     "user_tz": 360
    },
    "id": "fCMXepKUtAXk",
    "tags": []
   },
   "outputs": [],
   "source": [
    "class EngGerman(Dataset):\n",
    "    def __init__(self, X1, X2):\n",
    "        self.X1 = X1\n",
    "        self.X2 = X2\n",
    "        \n",
    "    def __len__(self):\n",
    "        return len(self.X1)\n",
    "    \n",
    "    def __getitem__(self, indices):\n",
    "        return (self.X1.iloc[indices] , self.X2.iloc[indices]) "
   ]
  },
  {
   "cell_type": "code",
   "execution_count": 21,
   "metadata": {
    "execution": {
     "iopub.execute_input": "2022-03-11T11:44:19.957456Z",
     "iopub.status.busy": "2022-03-11T11:44:19.957299Z",
     "iopub.status.idle": "2022-03-11T11:44:19.960345Z",
     "shell.execute_reply": "2022-03-11T11:44:19.959989Z",
     "shell.execute_reply.started": "2022-03-11T11:44:19.957441Z"
    },
    "executionInfo": {
     "elapsed": 2,
     "status": "ok",
     "timestamp": 1644562047576,
     "user": {
      "displayName": "Shaannoor Mann",
      "photoUrl": "https://lh3.googleusercontent.com/a/default-user=s64",
      "userId": "02520257695567980696"
     },
     "user_tz": 360
    },
    "id": "-Q32VBamtAXl",
    "tags": []
   },
   "outputs": [],
   "source": [
    "trainset = EngGerman(df_train_small['source_tokens'], df_train['target_tokens'])"
   ]
  },
  {
   "cell_type": "code",
   "execution_count": 22,
   "metadata": {
    "colab": {
     "base_uri": "https://localhost:8080/"
    },
    "execution": {
     "iopub.execute_input": "2022-03-11T11:44:20.242554Z",
     "iopub.status.busy": "2022-03-11T11:44:20.242414Z",
     "iopub.status.idle": "2022-03-11T11:44:20.246235Z",
     "shell.execute_reply": "2022-03-11T11:44:20.245934Z",
     "shell.execute_reply.started": "2022-03-11T11:44:20.242540Z"
    },
    "executionInfo": {
     "elapsed": 2,
     "status": "ok",
     "timestamp": 1644562048806,
     "user": {
      "displayName": "Shaannoor Mann",
      "photoUrl": "https://lh3.googleusercontent.com/a/default-user=s64",
      "userId": "02520257695567980696"
     },
     "user_tz": 360
    },
    "id": "2md5tDSutAXl",
    "outputId": "e43ad22f-28f2-4edc-ca70-25d8c38e53db",
    "tags": []
   },
   "outputs": [
    {
     "data": {
      "text/plain": [
       "(['zwei',\n",
       "  'junge',\n",
       "  'weiße',\n",
       "  'männer',\n",
       "  'sind',\n",
       "  'i',\n",
       "  'm',\n",
       "  'freien',\n",
       "  'in',\n",
       "  'der',\n",
       "  'nähe',\n",
       "  'vieler',\n",
       "  'büsche',\n",
       "  '.'],\n",
       " ['two',\n",
       "  'young',\n",
       "  ',',\n",
       "  'white',\n",
       "  'males',\n",
       "  'are',\n",
       "  'outside',\n",
       "  'near',\n",
       "  'many',\n",
       "  'bushes',\n",
       "  '.'])"
      ]
     },
     "execution_count": 22,
     "metadata": {},
     "output_type": "execute_result"
    }
   ],
   "source": [
    "trainset[0]"
   ]
  },
  {
   "cell_type": "code",
   "execution_count": 23,
   "metadata": {
    "colab": {
     "base_uri": "https://localhost:8080/"
    },
    "execution": {
     "iopub.execute_input": "2022-03-11T11:44:20.691002Z",
     "iopub.status.busy": "2022-03-11T11:44:20.690839Z",
     "iopub.status.idle": "2022-03-11T11:44:20.694620Z",
     "shell.execute_reply": "2022-03-11T11:44:20.694240Z",
     "shell.execute_reply.started": "2022-03-11T11:44:20.690974Z"
    },
    "executionInfo": {
     "elapsed": 452,
     "status": "ok",
     "timestamp": 1644562050493,
     "user": {
      "displayName": "Shaannoor Mann",
      "photoUrl": "https://lh3.googleusercontent.com/a/default-user=s64",
      "userId": "02520257695567980696"
     },
     "user_tz": 360
    },
    "id": "L18xzZrltAXl",
    "outputId": "a12c767b-1970-48ac-b82e-86061d92c503",
    "tags": []
   },
   "outputs": [
    {
     "data": {
      "text/plain": [
       "(['mehrere',\n",
       "  'männer',\n",
       "  'mit',\n",
       "  'schutzhelmen',\n",
       "  'bedienen',\n",
       "  'ein',\n",
       "  'antriebsradsystem',\n",
       "  '.'],\n",
       " ['several',\n",
       "  'men',\n",
       "  'in',\n",
       "  'hard',\n",
       "  'hats',\n",
       "  'are',\n",
       "  'operating',\n",
       "  'a',\n",
       "  'giant',\n",
       "  'pulley',\n",
       "  'system',\n",
       "  '.'])"
      ]
     },
     "execution_count": 23,
     "metadata": {},
     "output_type": "execute_result"
    }
   ],
   "source": [
    "trainset[1]"
   ]
  },
  {
   "cell_type": "code",
   "execution_count": 24,
   "metadata": {
    "execution": {
     "iopub.execute_input": "2022-03-11T11:44:21.292039Z",
     "iopub.status.busy": "2022-03-11T11:44:21.291900Z",
     "iopub.status.idle": "2022-03-11T11:44:21.295681Z",
     "shell.execute_reply": "2022-03-11T11:44:21.295319Z",
     "shell.execute_reply.started": "2022-03-11T11:44:21.292026Z"
    },
    "tags": []
   },
   "outputs": [
    {
     "data": {
      "text/plain": [
       "(['ein',\n",
       "  'kleines',\n",
       "  'mädchen',\n",
       "  'klettert',\n",
       "  'in',\n",
       "  'ein',\n",
       "  'spielhaus',\n",
       "  'aus',\n",
       "  'holz',\n",
       "  '.'],\n",
       " ['a', 'little', 'girl', 'climbing', 'into', 'a', 'wooden', 'playhouse', '.'])"
      ]
     },
     "execution_count": 24,
     "metadata": {},
     "output_type": "execute_result"
    }
   ],
   "source": [
    "trainset[2]"
   ]
  },
  {
   "cell_type": "code",
   "execution_count": 25,
   "metadata": {
    "execution": {
     "iopub.execute_input": "2022-03-11T11:44:21.546738Z",
     "iopub.status.busy": "2022-03-11T11:44:21.546617Z",
     "iopub.status.idle": "2022-03-11T11:44:21.550022Z",
     "shell.execute_reply": "2022-03-11T11:44:21.549741Z",
     "shell.execute_reply.started": "2022-03-11T11:44:21.546724Z"
    },
    "tags": []
   },
   "outputs": [
    {
     "data": {
      "text/plain": [
       "(['ein',\n",
       "  'mann',\n",
       "  'in',\n",
       "  'einem',\n",
       "  'blauen',\n",
       "  'hemd',\n",
       "  'steht',\n",
       "  'auf',\n",
       "  'einer',\n",
       "  'leiter',\n",
       "  'und',\n",
       "  'putzt',\n",
       "  'ein',\n",
       "  'fenster',\n",
       "  '.'],\n",
       " ['a',\n",
       "  'man',\n",
       "  'in',\n",
       "  'a',\n",
       "  'blue',\n",
       "  'shirt',\n",
       "  'is',\n",
       "  'standing',\n",
       "  'on',\n",
       "  'a',\n",
       "  'ladder',\n",
       "  'cleaning',\n",
       "  'a',\n",
       "  'window',\n",
       "  '.'])"
      ]
     },
     "execution_count": 25,
     "metadata": {},
     "output_type": "execute_result"
    }
   ],
   "source": [
    "trainset[3]"
   ]
  },
  {
   "cell_type": "markdown",
   "metadata": {},
   "source": [
    "<font color = 'green'> **Function to replace words woth their index. Alaso add tokens BOS and EOS for beginning and end of sentences**"
   ]
  },
  {
   "cell_type": "code",
   "execution_count": 26,
   "metadata": {
    "execution": {
     "iopub.execute_input": "2022-03-11T11:44:23.315068Z",
     "iopub.status.busy": "2022-03-11T11:44:23.314929Z",
     "iopub.status.idle": "2022-03-11T11:44:23.318144Z",
     "shell.execute_reply": "2022-03-11T11:44:23.317668Z",
     "shell.execute_reply.started": "2022-03-11T11:44:23.315054Z"
    },
    "executionInfo": {
     "elapsed": 1,
     "status": "ok",
     "timestamp": 1644562051382,
     "user": {
      "displayName": "Shaannoor Mann",
      "photoUrl": "https://lh3.googleusercontent.com/a/default-user=s64",
      "userId": "02520257695567980696"
     },
     "user_tz": 360
    },
    "id": "bPg8WslltAXl",
    "tags": []
   },
   "outputs": [],
   "source": [
    "def text_transform (my_vocab, text):\n",
    "     text_numerical = [my_vocab[token] for token in text]\n",
    "     return torch.tensor([my_vocab['<BOS>']] + text_numerical + [my_vocab['<EOS>']])\n",
    "     #return list(my_vocab['<BOS>']) + text_numerical + list(my_vocab['<EOS>'])"
   ]
  },
  {
   "cell_type": "code",
   "execution_count": 27,
   "metadata": {
    "colab": {
     "base_uri": "https://localhost:8080/"
    },
    "execution": {
     "iopub.execute_input": "2022-03-11T11:44:23.706669Z",
     "iopub.status.busy": "2022-03-11T11:44:23.706548Z",
     "iopub.status.idle": "2022-03-11T11:44:23.710924Z",
     "shell.execute_reply": "2022-03-11T11:44:23.710637Z",
     "shell.execute_reply.started": "2022-03-11T11:44:23.706656Z"
    },
    "executionInfo": {
     "elapsed": 2,
     "status": "ok",
     "timestamp": 1644562052563,
     "user": {
      "displayName": "Shaannoor Mann",
      "photoUrl": "https://lh3.googleusercontent.com/a/default-user=s64",
      "userId": "02520257695567980696"
     },
     "user_tz": 360
    },
    "id": "bpQKiRHLtAXl",
    "outputId": "d949e909-118d-49b6-dfcd-0e54a4790b7a",
    "tags": []
   },
   "outputs": [
    {
     "name": "stdout",
     "output_type": "stream",
     "text": [
      "['two', 'young', ',', 'white', 'males', 'are', 'outside', 'near', 'many', 'bushes', '.']\n"
     ]
    },
    {
     "data": {
      "text/plain": [
       "tensor([ 1,  4,  5,  6,  7,  8,  9, 10, 11, 12, 13, 14,  2])"
      ]
     },
     "execution_count": 27,
     "metadata": {},
     "output_type": "execute_result"
    }
   ],
   "source": [
    "text = trainset[0][1]\n",
    "print(text)\n",
    "text_transform(target_vocab, text)"
   ]
  },
  {
   "cell_type": "code",
   "execution_count": 28,
   "metadata": {
    "execution": {
     "iopub.execute_input": "2022-03-11T11:44:24.291418Z",
     "iopub.status.busy": "2022-03-11T11:44:24.291264Z",
     "iopub.status.idle": "2022-03-11T11:44:24.295383Z",
     "shell.execute_reply": "2022-03-11T11:44:24.294990Z",
     "shell.execute_reply.started": "2022-03-11T11:44:24.291405Z"
    },
    "tags": []
   },
   "outputs": [
    {
     "name": "stdout",
     "output_type": "stream",
     "text": [
      "['several', 'men', 'in', 'hard', 'hats', 'are', 'operating', 'a', 'giant', 'pulley', 'system', '.']\n"
     ]
    },
    {
     "data": {
      "text/plain": [
       "tensor([ 1, 15, 16, 17, 18, 19,  9, 20, 21, 22, 23, 24, 14,  2])"
      ]
     },
     "execution_count": 28,
     "metadata": {},
     "output_type": "execute_result"
    }
   ],
   "source": [
    "text = trainset[1][1]\n",
    "print(text)\n",
    "text_transform(target_vocab, text)"
   ]
  },
  {
   "cell_type": "markdown",
   "metadata": {},
   "source": [
    "<font color = 'green'> Create a function that will be use by dataloaders to group obsevations. We will first use transform function to add eos and bos tokens and replace words with indexes. Finally we will add pad tokens for smaller sentences in a batch."
   ]
  },
  {
   "cell_type": "code",
   "execution_count": 29,
   "metadata": {
    "execution": {
     "iopub.execute_input": "2022-03-11T11:44:25.234479Z",
     "iopub.status.busy": "2022-03-11T11:44:25.234358Z",
     "iopub.status.idle": "2022-03-11T11:44:25.237693Z",
     "shell.execute_reply": "2022-03-11T11:44:25.237308Z",
     "shell.execute_reply.started": "2022-03-11T11:44:25.234466Z"
    },
    "executionInfo": {
     "elapsed": 452,
     "status": "ok",
     "timestamp": 1644562054119,
     "user": {
      "displayName": "Shaannoor Mann",
      "photoUrl": "https://lh3.googleusercontent.com/a/default-user=s64",
      "userId": "02520257695567980696"
     },
     "user_tz": 360
    },
    "id": "CgKupdZ1Un2-",
    "tags": []
   },
   "outputs": [],
   "source": [
    "def collate_batch(batch):\n",
    "   source_list, target_list = [], []\n",
    "   for (source_text, target_text) in batch:\n",
    "        source_transform = text_transform(source_vocab, source_text)\n",
    "        source_list.append(source_transform)\n",
    "        target_transform =text_transform(target_vocab, target_text)\n",
    "        target_list.append(target_transform)\n",
    "        \n",
    "   source_pad = pad_sequence(source_list, padding_value=3.0, batch_first = True)\n",
    "   target_pad = pad_sequence(target_list, padding_value=3.0, batch_first = True)\n",
    "   #print(source_list)\n",
    "   return (source_pad, target_pad)"
   ]
  },
  {
   "cell_type": "code",
   "execution_count": 30,
   "metadata": {
    "execution": {
     "iopub.execute_input": "2022-03-11T11:44:25.535838Z",
     "iopub.status.busy": "2022-03-11T11:44:25.535715Z",
     "iopub.status.idle": "2022-03-11T11:44:25.538505Z",
     "shell.execute_reply": "2022-03-11T11:44:25.537913Z",
     "shell.execute_reply.started": "2022-03-11T11:44:25.535825Z"
    },
    "executionInfo": {
     "elapsed": 2,
     "status": "ok",
     "timestamp": 1644562055245,
     "user": {
      "displayName": "Shaannoor Mann",
      "photoUrl": "https://lh3.googleusercontent.com/a/default-user=s64",
      "userId": "02520257695567980696"
     },
     "user_tz": 360
    },
    "id": "EqHCA63DUn2_",
    "tags": []
   },
   "outputs": [],
   "source": [
    "batch_size = 2\n",
    "\n",
    "train_loader = DataLoader(trainset, batch_size=batch_size, shuffle=True, \n",
    "                              collate_fn=collate_batch)"
   ]
  },
  {
   "cell_type": "code",
   "execution_count": 31,
   "metadata": {
    "colab": {
     "base_uri": "https://localhost:8080/"
    },
    "execution": {
     "iopub.execute_input": "2022-03-11T11:44:25.971925Z",
     "iopub.status.busy": "2022-03-11T11:44:25.971691Z",
     "iopub.status.idle": "2022-03-11T11:44:26.001285Z",
     "shell.execute_reply": "2022-03-11T11:44:26.000957Z",
     "shell.execute_reply.started": "2022-03-11T11:44:25.971910Z"
    },
    "executionInfo": {
     "elapsed": 321,
     "status": "ok",
     "timestamp": 1644562056795,
     "user": {
      "displayName": "Shaannoor Mann",
      "photoUrl": "https://lh3.googleusercontent.com/a/default-user=s64",
      "userId": "02520257695567980696"
     },
     "user_tz": 360
    },
    "id": "-NUpXpJYtAXm",
    "outputId": "fffcd026-2cb5-4d9a-b657-d0f15136ff02",
    "tags": []
   },
   "outputs": [
    {
     "name": "stdout",
     "output_type": "stream",
     "text": [
      "batch number: 0\n",
      "source\n",
      "tensor([[ 1,  4,  5,  6,  7,  8,  9, 10, 11, 12, 13, 14, 15, 16, 17,  2,  3],\n",
      "        [ 1, 22, 30, 12, 31, 32, 33, 34, 35, 36, 37, 38, 39, 22, 40, 17,  2]])\n",
      "target\n",
      "tensor([[ 1,  4,  5,  6,  7,  8,  9, 10, 11, 12, 13, 14,  2,  3,  3,  3,  3],\n",
      "        [ 1, 21, 31, 17, 21, 32, 33, 34, 35, 36, 21, 37, 38, 21, 39, 14,  2]])\n",
      "batch number: 1\n",
      "source\n",
      "tensor([[ 1, 22, 24, 25, 26, 12, 22, 27, 28, 29, 17,  2],\n",
      "        [ 1, 18,  7, 19, 20, 21, 22, 23, 17,  2,  3,  3]])\n",
      "target\n",
      "tensor([[ 1, 21, 25, 26, 27, 28, 21, 29, 30, 14,  2,  3,  3,  3],\n",
      "        [ 1, 15, 16, 17, 18, 19,  9, 20, 21, 22, 23, 24, 14,  2]])\n"
     ]
    }
   ],
   "source": [
    "torch.manual_seed(456)\n",
    "for i, (source, target) in enumerate(train_loader):\n",
    "   \n",
    "  print('batch number:' ,i)\n",
    "  print('source')  \n",
    "  print(source)\n",
    "  print('target')  \n",
    "  print(target)"
   ]
  },
  {
   "cell_type": "code",
   "execution_count": 32,
   "metadata": {
    "execution": {
     "iopub.execute_input": "2022-03-11T11:44:26.505152Z",
     "iopub.status.busy": "2022-03-11T11:44:26.504996Z",
     "iopub.status.idle": "2022-03-11T11:44:26.508466Z",
     "shell.execute_reply": "2022-03-11T11:44:26.508150Z",
     "shell.execute_reply.started": "2022-03-11T11:44:26.505109Z"
    },
    "tags": []
   },
   "outputs": [
    {
     "data": {
      "text/plain": [
       "device(type='cuda')"
      ]
     },
     "execution_count": 32,
     "metadata": {},
     "output_type": "execute_result"
    }
   ],
   "source": [
    "device = torch.device('cuda' if torch.cuda.is_available() else 'cpu')\n",
    "#device = torch.device('cpu')\n",
    "device"
   ]
  },
  {
   "cell_type": "code",
   "execution_count": 33,
   "metadata": {
    "execution": {
     "iopub.execute_input": "2022-03-11T11:44:27.291241Z",
     "iopub.status.busy": "2022-03-11T11:44:27.291121Z",
     "iopub.status.idle": "2022-03-11T11:44:27.294131Z",
     "shell.execute_reply": "2022-03-11T11:44:27.293874Z",
     "shell.execute_reply.started": "2022-03-11T11:44:27.291227Z"
    },
    "tags": []
   },
   "outputs": [
    {
     "name": "stdout",
     "output_type": "stream",
     "text": [
      "tensor([[ 1, 22, 24, 25, 26, 12, 22, 27, 28, 29, 17,  2],\n",
      "        [ 1, 18,  7, 19, 20, 21, 22, 23, 17,  2,  3,  3]])\n",
      "torch.Size([2, 12])\n"
     ]
    }
   ],
   "source": [
    "src = source.clone()\n",
    "print(src)\n",
    "print(src.shape)"
   ]
  },
  {
   "cell_type": "code",
   "execution_count": 34,
   "metadata": {
    "execution": {
     "iopub.execute_input": "2022-03-11T11:44:28.268652Z",
     "iopub.status.busy": "2022-03-11T11:44:28.268533Z",
     "iopub.status.idle": "2022-03-11T11:44:28.271542Z",
     "shell.execute_reply": "2022-03-11T11:44:28.271192Z",
     "shell.execute_reply.started": "2022-03-11T11:44:28.268639Z"
    },
    "tags": []
   },
   "outputs": [
    {
     "name": "stdout",
     "output_type": "stream",
     "text": [
      "tensor([[ 1, 22, 24, 25, 26, 12, 22, 27, 28, 29, 17,  2],\n",
      "        [ 1, 18,  7, 19, 20, 21, 22, 23, 17,  2,  3,  3]])\n",
      "torch.Size([2, 12])\n"
     ]
    }
   ],
   "source": [
    "trg= target.clone\n",
    "print(src)\n",
    "print(src.shape)"
   ]
  },
  {
   "cell_type": "markdown",
   "metadata": {},
   "source": [
    "# <font color = 'blue'>  **Embeddings**"
   ]
  },
  {
   "cell_type": "code",
   "execution_count": 35,
   "metadata": {
    "execution": {
     "iopub.execute_input": "2022-03-11T11:44:54.699874Z",
     "iopub.status.busy": "2022-03-11T11:44:54.699719Z",
     "iopub.status.idle": "2022-03-11T11:44:56.196678Z",
     "shell.execute_reply": "2022-03-11T11:44:56.196191Z",
     "shell.execute_reply.started": "2022-03-11T11:44:54.699846Z"
    },
    "tags": []
   },
   "outputs": [],
   "source": [
    "src = source.clone().to(device)\n",
    "trg = target.clone().to(device)"
   ]
  },
  {
   "cell_type": "code",
   "execution_count": 36,
   "metadata": {
    "execution": {
     "iopub.execute_input": "2022-03-11T11:45:03.722779Z",
     "iopub.status.busy": "2022-03-11T11:45:03.722625Z",
     "iopub.status.idle": "2022-03-11T11:45:03.726281Z",
     "shell.execute_reply": "2022-03-11T11:45:03.726001Z",
     "shell.execute_reply.started": "2022-03-11T11:45:03.722752Z"
    }
   },
   "outputs": [
    {
     "data": {
      "text/plain": [
       "tensor([[ 1, 22, 24, 25, 26, 12, 22, 27, 28, 29, 17,  2],\n",
       "        [ 1, 18,  7, 19, 20, 21, 22, 23, 17,  2,  3,  3]], device='cuda:0')"
      ]
     },
     "execution_count": 36,
     "metadata": {},
     "output_type": "execute_result"
    }
   ],
   "source": [
    "src"
   ]
  },
  {
   "cell_type": "code",
   "execution_count": 37,
   "metadata": {
    "execution": {
     "iopub.execute_input": "2022-03-11T11:45:04.507679Z",
     "iopub.status.busy": "2022-03-11T11:45:04.507538Z",
     "iopub.status.idle": "2022-03-11T11:45:04.511589Z",
     "shell.execute_reply": "2022-03-11T11:45:04.511317Z",
     "shell.execute_reply.started": "2022-03-11T11:45:04.507665Z"
    },
    "tags": []
   },
   "outputs": [
    {
     "data": {
      "text/plain": [
       "tensor([[ 1, 21, 25, 26, 27, 28, 21, 29, 30, 14,  2,  3,  3,  3],\n",
       "        [ 1, 15, 16, 17, 18, 19,  9, 20, 21, 22, 23, 24, 14,  2]],\n",
       "       device='cuda:0')"
      ]
     },
     "execution_count": 37,
     "metadata": {},
     "output_type": "execute_result"
    }
   ],
   "source": [
    "trg"
   ]
  },
  {
   "cell_type": "code",
   "execution_count": 39,
   "metadata": {
    "execution": {
     "iopub.execute_input": "2022-03-11T11:45:57.544291Z",
     "iopub.status.busy": "2022-03-11T11:45:57.544136Z",
     "iopub.status.idle": "2022-03-11T11:45:57.563258Z",
     "shell.execute_reply": "2022-03-11T11:45:57.562856Z",
     "shell.execute_reply.started": "2022-03-11T11:45:57.544265Z"
    },
    "tags": []
   },
   "outputs": [],
   "source": [
    "hid_dim = 8\n",
    "torch.manual_seed(0)\n",
    "src_token_embedding_layer = nn.Embedding(len(source_vocab), hid_dim).to(device)\n",
    "trg_token_embedding_layer = nn.Embedding(len(target_vocab), hid_dim).to(device)"
   ]
  },
  {
   "cell_type": "code",
   "execution_count": 40,
   "metadata": {
    "execution": {
     "iopub.execute_input": "2022-03-11T11:46:37.095197Z",
     "iopub.status.busy": "2022-03-11T11:46:37.095044Z",
     "iopub.status.idle": "2022-03-11T11:46:37.113546Z",
     "shell.execute_reply": "2022-03-11T11:46:37.113174Z",
     "shell.execute_reply.started": "2022-03-11T11:46:37.095171Z"
    },
    "tags": []
   },
   "outputs": [],
   "source": [
    "src_embedding = src_token_embedding_layer(src)\n",
    "trg_embedding = trg_token_embedding_layer(trg)"
   ]
  },
  {
   "cell_type": "code",
   "execution_count": 41,
   "metadata": {
    "execution": {
     "iopub.execute_input": "2022-03-11T11:46:38.617377Z",
     "iopub.status.busy": "2022-03-11T11:46:38.617226Z",
     "iopub.status.idle": "2022-03-11T11:46:38.620032Z",
     "shell.execute_reply": "2022-03-11T11:46:38.619599Z",
     "shell.execute_reply.started": "2022-03-11T11:46:38.617362Z"
    },
    "tags": []
   },
   "outputs": [],
   "source": [
    "scale = torch.sqrt(torch.FloatTensor([hid_dim])).to(device)"
   ]
  },
  {
   "cell_type": "code",
   "execution_count": 42,
   "metadata": {
    "execution": {
     "iopub.execute_input": "2022-03-11T11:47:23.527942Z",
     "iopub.status.busy": "2022-03-11T11:47:23.527804Z",
     "iopub.status.idle": "2022-03-11T11:47:23.546723Z",
     "shell.execute_reply": "2022-03-11T11:47:23.546289Z",
     "shell.execute_reply.started": "2022-03-11T11:47:23.527929Z"
    },
    "tags": []
   },
   "outputs": [],
   "source": [
    "src_embedding_scaled = src_embedding * scale\n",
    "trg_embedding_scaled = trg_embedding * scale"
   ]
  },
  {
   "cell_type": "code",
   "execution_count": 43,
   "metadata": {
    "execution": {
     "iopub.execute_input": "2022-03-11T11:47:44.090606Z",
     "iopub.status.busy": "2022-03-11T11:47:44.090485Z",
     "iopub.status.idle": "2022-03-11T11:47:44.094047Z",
     "shell.execute_reply": "2022-03-11T11:47:44.093640Z",
     "shell.execute_reply.started": "2022-03-11T11:47:44.090593Z"
    },
    "tags": []
   },
   "outputs": [
    {
     "name": "stdout",
     "output_type": "stream",
     "text": [
      "torch.Size([2, 12, 8])\n"
     ]
    },
    {
     "data": {
      "text/plain": [
       "torch.Size([2, 14, 8])"
      ]
     },
     "execution_count": 43,
     "metadata": {},
     "output_type": "execute_result"
    }
   ],
   "source": [
    "print(src_embedding_scaled.shape)\n",
    "trg_embedding_scaled.shape\n",
    "#[Batch_size, seq_len, hid_dim]"
   ]
  },
  {
   "cell_type": "code",
   "execution_count": 44,
   "metadata": {
    "execution": {
     "iopub.execute_input": "2022-03-11T11:49:44.759455Z",
     "iopub.status.busy": "2022-03-11T11:49:44.759314Z",
     "iopub.status.idle": "2022-03-11T11:49:44.780969Z",
     "shell.execute_reply": "2022-03-11T11:49:44.780561Z",
     "shell.execute_reply.started": "2022-03-11T11:49:44.759441Z"
    },
    "tags": []
   },
   "outputs": [],
   "source": [
    "src_position = torch.arange(src.shape[1]).view(1,-1).repeat(src.shape[0], 1).to(device)\n",
    "trg_position = torch.arange(trg.shape[1]).view(1,-1).repeat(trg.shape[0], 1).to(device)"
   ]
  },
  {
   "cell_type": "code",
   "execution_count": 45,
   "metadata": {
    "execution": {
     "iopub.execute_input": "2022-03-11T11:49:45.345151Z",
     "iopub.status.busy": "2022-03-11T11:49:45.345001Z",
     "iopub.status.idle": "2022-03-11T11:49:45.348921Z",
     "shell.execute_reply": "2022-03-11T11:49:45.348634Z",
     "shell.execute_reply.started": "2022-03-11T11:49:45.345137Z"
    },
    "tags": []
   },
   "outputs": [
    {
     "name": "stdout",
     "output_type": "stream",
     "text": [
      "tensor([[ 0,  1,  2,  3,  4,  5,  6,  7,  8,  9, 10, 11],\n",
      "        [ 0,  1,  2,  3,  4,  5,  6,  7,  8,  9, 10, 11]], device='cuda:0')\n",
      "tensor([[ 0,  1,  2,  3,  4,  5,  6,  7,  8,  9, 10, 11, 12, 13],\n",
      "        [ 0,  1,  2,  3,  4,  5,  6,  7,  8,  9, 10, 11, 12, 13]],\n",
      "       device='cuda:0')\n"
     ]
    }
   ],
   "source": [
    "print(src_position)\n",
    "print(trg_position)"
   ]
  },
  {
   "cell_type": "code",
   "execution_count": 46,
   "metadata": {
    "execution": {
     "iopub.execute_input": "2022-03-11T11:51:16.133890Z",
     "iopub.status.busy": "2022-03-11T11:51:16.133749Z",
     "iopub.status.idle": "2022-03-11T11:51:16.152638Z",
     "shell.execute_reply": "2022-03-11T11:51:16.152270Z",
     "shell.execute_reply.started": "2022-03-11T11:51:16.133876Z"
    },
    "tags": []
   },
   "outputs": [],
   "source": [
    "max_length = 20\n",
    "torch.manual_seed(0)\n",
    "src_position_embedding_layer = nn.Embedding(max_length, hid_dim).to(device)\n",
    "trg_position_embedding_layer = nn.Embedding(max_length, hid_dim).to(device)"
   ]
  },
  {
   "cell_type": "code",
   "execution_count": 47,
   "metadata": {
    "execution": {
     "iopub.execute_input": "2022-03-11T11:52:10.386794Z",
     "iopub.status.busy": "2022-03-11T11:52:10.386645Z",
     "iopub.status.idle": "2022-03-11T11:52:10.405311Z",
     "shell.execute_reply": "2022-03-11T11:52:10.405037Z",
     "shell.execute_reply.started": "2022-03-11T11:52:10.386781Z"
    },
    "tags": []
   },
   "outputs": [],
   "source": [
    "src_position_embedding = src_position_embedding_layer(src_position)\n",
    "trg_position_embedding = src_position_embedding_layer(trg_position)"
   ]
  },
  {
   "cell_type": "code",
   "execution_count": 48,
   "metadata": {
    "execution": {
     "iopub.execute_input": "2022-03-11T11:52:39.725598Z",
     "iopub.status.busy": "2022-03-11T11:52:39.725415Z",
     "iopub.status.idle": "2022-03-11T11:52:39.728401Z",
     "shell.execute_reply": "2022-03-11T11:52:39.728122Z",
     "shell.execute_reply.started": "2022-03-11T11:52:39.725585Z"
    },
    "tags": []
   },
   "outputs": [
    {
     "name": "stdout",
     "output_type": "stream",
     "text": [
      "torch.Size([2, 12, 8])\n",
      "torch.Size([2, 14, 8])\n"
     ]
    }
   ],
   "source": [
    "print(src_position_embedding.shape)\n",
    "print(trg_position_embedding.shape)\n",
    "#[Batch_size, seq_len, hid_dim]"
   ]
  },
  {
   "cell_type": "code",
   "execution_count": 49,
   "metadata": {
    "execution": {
     "iopub.execute_input": "2022-03-11T11:53:42.702553Z",
     "iopub.status.busy": "2022-03-11T11:53:42.702415Z",
     "iopub.status.idle": "2022-03-11T11:53:42.705209Z",
     "shell.execute_reply": "2022-03-11T11:53:42.704900Z",
     "shell.execute_reply.started": "2022-03-11T11:53:42.702539Z"
    },
    "tags": []
   },
   "outputs": [],
   "source": [
    "torch.manual_seed(0)\n",
    "encoder_input_dropout = nn.Dropout(p=0.1)\n",
    "decoder_input_dropout = nn.Dropout(p=0.1)"
   ]
  },
  {
   "cell_type": "code",
   "execution_count": 50,
   "metadata": {
    "execution": {
     "iopub.execute_input": "2022-03-11T11:54:52.564498Z",
     "iopub.status.busy": "2022-03-11T11:54:52.564358Z",
     "iopub.status.idle": "2022-03-11T11:54:52.584344Z",
     "shell.execute_reply": "2022-03-11T11:54:52.583917Z",
     "shell.execute_reply.started": "2022-03-11T11:54:52.564485Z"
    },
    "tags": []
   },
   "outputs": [],
   "source": [
    "encoder_input_after_dropout = encoder_input_dropout(src_position_embedding + src_embedding_scaled)\n",
    "decoder_input_after_dropout = decoder_input_dropout(trg_position_embedding + trg_embedding_scaled)"
   ]
  },
  {
   "cell_type": "code",
   "execution_count": 51,
   "metadata": {
    "execution": {
     "iopub.execute_input": "2022-03-11T11:55:06.350966Z",
     "iopub.status.busy": "2022-03-11T11:55:06.350828Z",
     "iopub.status.idle": "2022-03-11T11:55:06.353773Z",
     "shell.execute_reply": "2022-03-11T11:55:06.353479Z",
     "shell.execute_reply.started": "2022-03-11T11:55:06.350952Z"
    }
   },
   "outputs": [
    {
     "data": {
      "text/plain": [
       "torch.Size([2, 12, 8])"
      ]
     },
     "execution_count": 51,
     "metadata": {},
     "output_type": "execute_result"
    }
   ],
   "source": [
    "encoder_input_after_dropout.shape"
   ]
  },
  {
   "cell_type": "code",
   "execution_count": 52,
   "metadata": {
    "execution": {
     "iopub.execute_input": "2022-03-11T11:55:07.133592Z",
     "iopub.status.busy": "2022-03-11T11:55:07.133418Z",
     "iopub.status.idle": "2022-03-11T11:55:07.136970Z",
     "shell.execute_reply": "2022-03-11T11:55:07.136603Z",
     "shell.execute_reply.started": "2022-03-11T11:55:07.133577Z"
    },
    "tags": []
   },
   "outputs": [
    {
     "data": {
      "text/plain": [
       "torch.Size([2, 14, 8])"
      ]
     },
     "execution_count": 52,
     "metadata": {},
     "output_type": "execute_result"
    }
   ],
   "source": [
    "decoder_input_after_dropout.shape"
   ]
  },
  {
   "cell_type": "markdown",
   "metadata": {},
   "source": [
    "# <font color = 'blue'> Encoder-Decoder Attention"
   ]
  },
  {
   "cell_type": "markdown",
   "metadata": {},
   "source": [
    "<font color = 'green'> We will use the encoder and decoder input embeddings for encoder decoder attention. In teh complete model encoder output and decoder self attention output will be teh inputs to encoder-decoder attention"
   ]
  },
  {
   "cell_type": "markdown",
   "metadata": {
    "execution": {
     "iopub.execute_input": "2022-03-07T06:19:56.442785Z",
     "iopub.status.busy": "2022-03-07T06:19:56.442483Z",
     "iopub.status.idle": "2022-03-07T06:19:56.445103Z",
     "shell.execute_reply": "2022-03-07T06:19:56.444791Z",
     "shell.execute_reply.started": "2022-03-07T06:19:56.442683Z"
    }
   },
   "source": [
    "## <font color = 'blue'> Encoder-Decoder attention using nn.MultiheadAttention"
   ]
  },
  {
   "cell_type": "markdown",
   "metadata": {},
   "source": [
    "<font color = 'green'> Now we will use ```torch.nn.MultiheadAttention``` from pytorch. The limittaions is that the hid_dim = out_hid_dim. Threfore hid_dim must be divisible by num_heads. In encoder hid_dim = 8, out_hid_dim =9 and num_heads =3. To keep things simpler for decoder, we will use hid_dim = out_hid_dim = 8. We will use num_heads = 2."
   ]
  },
  {
   "cell_type": "code",
   "execution_count": 53,
   "metadata": {
    "execution": {
     "iopub.execute_input": "2022-03-11T12:35:12.656741Z",
     "iopub.status.busy": "2022-03-11T12:35:12.656604Z",
     "iopub.status.idle": "2022-03-11T12:35:12.676040Z",
     "shell.execute_reply": "2022-03-11T12:35:12.675670Z",
     "shell.execute_reply.started": "2022-03-11T12:35:12.656728Z"
    },
    "tags": []
   },
   "outputs": [],
   "source": [
    "enc_dec_attnetion_layer = torch.nn.MultiheadAttention(embed_dim=hid_dim, num_heads=2, \n",
    "                                                        dropout=0.0, \n",
    "                                                        bias=True, add_bias_kv=False, \n",
    "                                                        add_zero_attn=False, kdim=None, \n",
    "                                                        vdim=None, batch_first=True, \n",
    "                                                        device=device, dtype=None)"
   ]
  },
  {
   "cell_type": "code",
   "execution_count": 55,
   "metadata": {
    "execution": {
     "iopub.execute_input": "2022-03-11T12:35:31.441749Z",
     "iopub.status.busy": "2022-03-11T12:35:31.441594Z",
     "iopub.status.idle": "2022-03-11T12:35:31.465439Z",
     "shell.execute_reply": "2022-03-11T12:35:31.465063Z",
     "shell.execute_reply.started": "2022-03-11T12:35:31.441736Z"
    },
    "tags": []
   },
   "outputs": [
    {
     "name": "stdout",
     "output_type": "stream",
     "text": [
      "in_proj_weight Parameter containing:\n",
      "tensor([[ 0.3763,  0.2778, -0.4188, -0.2694,  0.3997, -0.3953, -0.0130,  0.2440],\n",
      "        [-0.0283, -0.1411, -0.3400,  0.3003, -0.2023, -0.0332, -0.2203,  0.1427],\n",
      "        [ 0.3561, -0.2301,  0.2985, -0.2054, -0.4158, -0.2433, -0.1752, -0.0005],\n",
      "        [ 0.2562, -0.1277,  0.1224,  0.3388,  0.3865, -0.1923, -0.1799, -0.2100],\n",
      "        [ 0.0457,  0.4024,  0.0755,  0.0069,  0.0560, -0.3103, -0.3071,  0.2443],\n",
      "        [ 0.2494,  0.2909, -0.3317, -0.2078,  0.1968, -0.2872,  0.1729, -0.1140],\n",
      "        [ 0.0898, -0.2116, -0.1195,  0.0113, -0.3267, -0.2988, -0.2241,  0.2493],\n",
      "        [ 0.0304, -0.0666,  0.0263, -0.0798, -0.3771, -0.0504, -0.3882,  0.3941],\n",
      "        [-0.2509,  0.3624, -0.4034, -0.2466, -0.4142,  0.3088, -0.0350,  0.1387],\n",
      "        [-0.4063, -0.2667, -0.3524,  0.0971,  0.2161,  0.0450, -0.4052,  0.3519],\n",
      "        [-0.3766,  0.3414,  0.0444,  0.2520,  0.1527, -0.3914,  0.2546, -0.2493],\n",
      "        [-0.2519, -0.2988, -0.2055,  0.3408,  0.1452, -0.2501,  0.3149,  0.3838],\n",
      "        [ 0.0048, -0.1765,  0.2560, -0.0106, -0.2261,  0.1781,  0.0745,  0.2857],\n",
      "        [-0.0765,  0.2502,  0.2493,  0.0801, -0.1353, -0.1036,  0.1332,  0.2318],\n",
      "        [ 0.4233,  0.3586, -0.2676, -0.2466, -0.1674,  0.3708, -0.0955,  0.0112],\n",
      "        [-0.1462, -0.2138, -0.1292,  0.3666,  0.3280,  0.2984, -0.1094, -0.2439],\n",
      "        [ 0.4032,  0.2661, -0.0876, -0.4138, -0.1970,  0.0984,  0.3258,  0.0302],\n",
      "        [ 0.0678, -0.0233, -0.3942, -0.3782,  0.0286, -0.1126,  0.0703,  0.4220],\n",
      "        [-0.3806,  0.1810,  0.1914,  0.2954,  0.0498, -0.3115,  0.3695,  0.1538],\n",
      "        [-0.4105,  0.2072,  0.1600, -0.1192,  0.1370,  0.2916, -0.2625, -0.3464],\n",
      "        [ 0.4321,  0.1024,  0.0788,  0.2816, -0.0996, -0.4232,  0.3214,  0.1239],\n",
      "        [-0.3858, -0.3703,  0.3832, -0.1266, -0.1693,  0.1821,  0.1343, -0.1489],\n",
      "        [ 0.1633,  0.1020,  0.2901, -0.3135, -0.2798,  0.2624,  0.0754, -0.0908],\n",
      "        [-0.1181, -0.3744,  0.3527,  0.2048, -0.3104, -0.2376,  0.2671, -0.3707]],\n",
      "       device='cuda:0', requires_grad=True)\n",
      "in_proj_bias Parameter containing:\n",
      "tensor([0., 0., 0., 0., 0., 0., 0., 0., 0., 0., 0., 0., 0., 0., 0., 0., 0., 0., 0., 0., 0., 0., 0., 0.],\n",
      "       device='cuda:0', requires_grad=True)\n",
      "out_proj.weight Parameter containing:\n",
      "tensor([[-0.3398,  0.1933,  0.2581,  0.2190,  0.1178, -0.0953, -0.0964,  0.0481],\n",
      "        [-0.1671,  0.1613, -0.3391,  0.1987, -0.2557,  0.2815, -0.2839, -0.3338],\n",
      "        [ 0.3252,  0.2891, -0.2454,  0.1039, -0.0680,  0.1597, -0.1212, -0.1963],\n",
      "        [-0.1580, -0.2998, -0.0987, -0.1872,  0.0870,  0.2023,  0.2119, -0.2741],\n",
      "        [-0.1120, -0.3063, -0.0368, -0.2990,  0.1855,  0.1990, -0.2176,  0.3324],\n",
      "        [-0.1558, -0.0212, -0.0969,  0.1274, -0.2628,  0.1756,  0.1212,  0.2329],\n",
      "        [-0.2689, -0.0370,  0.0462, -0.2464, -0.0516, -0.2242,  0.0455, -0.0850],\n",
      "        [-0.0727, -0.0087, -0.1862,  0.0398, -0.0506, -0.2583,  0.1757, -0.1860]],\n",
      "       device='cuda:0', requires_grad=True)\n",
      "out_proj.bias Parameter containing:\n",
      "tensor([0., 0., 0., 0., 0., 0., 0., 0.], device='cuda:0', requires_grad=True)\n"
     ]
    }
   ],
   "source": [
    "for name, param in enc_dec_attnetion_layer.named_parameters():\n",
    "    print(name, param)"
   ]
  },
  {
   "cell_type": "markdown",
   "metadata": {},
   "source": [
    "<font size = 3, color = 'green'>**As we can see that this layers has two weight metrices. It combines $W^q, W^k and W^v$ into one matrix in_proj and $W^o$ is out_proj matrix.**"
   ]
  },
  {
   "cell_type": "code",
   "execution_count": 56,
   "metadata": {
    "execution": {
     "iopub.execute_input": "2022-03-11T12:35:44.703233Z",
     "iopub.status.busy": "2022-03-11T12:35:44.703091Z",
     "iopub.status.idle": "2022-03-11T12:35:44.706477Z",
     "shell.execute_reply": "2022-03-11T12:35:44.706198Z",
     "shell.execute_reply.started": "2022-03-11T12:35:44.703220Z"
    },
    "tags": []
   },
   "outputs": [
    {
     "name": "stdout",
     "output_type": "stream",
     "text": [
      "in_proj_weight torch.Size([24, 8])\n",
      "in_proj_bias torch.Size([24])\n",
      "out_proj.weight torch.Size([8, 8])\n",
      "out_proj.bias torch.Size([8])\n"
     ]
    }
   ],
   "source": [
    "for name, param in enc_dec_attnetion_layer.named_parameters():\n",
    "    print(name, param.shape)"
   ]
  },
  {
   "cell_type": "code",
   "execution_count": 57,
   "metadata": {
    "execution": {
     "iopub.execute_input": "2022-03-11T12:35:53.655544Z",
     "iopub.status.busy": "2022-03-11T12:35:53.655406Z",
     "iopub.status.idle": "2022-03-11T12:35:53.677237Z",
     "shell.execute_reply": "2022-03-11T12:35:53.676884Z",
     "shell.execute_reply.started": "2022-03-11T12:35:53.655531Z"
    },
    "tags": []
   },
   "outputs": [
    {
     "data": {
      "text/plain": [
       "tensor([[ 1, 22, 24, 25, 26, 12, 22, 27, 28, 29, 17,  2],\n",
       "        [ 1, 18,  7, 19, 20, 21, 22, 23, 17,  2,  3,  3]], device='cuda:0')"
      ]
     },
     "execution_count": 57,
     "metadata": {},
     "output_type": "execute_result"
    }
   ],
   "source": [
    "src"
   ]
  },
  {
   "cell_type": "code",
   "execution_count": 58,
   "metadata": {
    "execution": {
     "iopub.execute_input": "2022-03-11T12:36:08.881588Z",
     "iopub.status.busy": "2022-03-11T12:36:08.881413Z",
     "iopub.status.idle": "2022-03-11T12:36:08.884911Z",
     "shell.execute_reply": "2022-03-11T12:36:08.884523Z",
     "shell.execute_reply.started": "2022-03-11T12:36:08.881574Z"
    },
    "tags": []
   },
   "outputs": [
    {
     "data": {
      "text/plain": [
       "3"
      ]
     },
     "execution_count": 58,
     "metadata": {},
     "output_type": "execute_result"
    }
   ],
   "source": [
    "SRC_PAD_IDX = target_vocab['<PAD>']\n",
    "SRC_PAD_IDX"
   ]
  },
  {
   "cell_type": "markdown",
   "metadata": {},
   "source": [
    "<font color = 'green'> The layer apply mask where mask values are True. In manual implementation we applied mask where values are False. Hence now we will use ```trg_mask = (trg==TRG_PAD_IDX)``` instead of ```trg_mask = (trg!=TRG_PAD_IDX)```"
   ]
  },
  {
   "cell_type": "code",
   "execution_count": 59,
   "metadata": {
    "execution": {
     "iopub.execute_input": "2022-03-11T12:36:29.335465Z",
     "iopub.status.busy": "2022-03-11T12:36:29.335323Z",
     "iopub.status.idle": "2022-03-11T12:36:29.353008Z",
     "shell.execute_reply": "2022-03-11T12:36:29.352563Z",
     "shell.execute_reply.started": "2022-03-11T12:36:29.335451Z"
    },
    "tags": []
   },
   "outputs": [],
   "source": [
    "src_pad_mask = (src==SRC_PAD_IDX)\n"
   ]
  },
  {
   "cell_type": "code",
   "execution_count": 60,
   "metadata": {
    "execution": {
     "iopub.execute_input": "2022-03-11T12:36:35.134098Z",
     "iopub.status.busy": "2022-03-11T12:36:35.133593Z",
     "iopub.status.idle": "2022-03-11T12:36:35.136946Z",
     "shell.execute_reply": "2022-03-11T12:36:35.136677Z",
     "shell.execute_reply.started": "2022-03-11T12:36:35.134083Z"
    },
    "tags": []
   },
   "outputs": [
    {
     "data": {
      "text/plain": [
       "torch.Size([2, 12])"
      ]
     },
     "execution_count": 60,
     "metadata": {},
     "output_type": "execute_result"
    }
   ],
   "source": [
    "src_pad_mask.shape"
   ]
  },
  {
   "cell_type": "code",
   "execution_count": 61,
   "metadata": {
    "execution": {
     "iopub.execute_input": "2022-03-11T12:39:56.484321Z",
     "iopub.status.busy": "2022-03-11T12:39:56.484169Z",
     "iopub.status.idle": "2022-03-11T12:39:56.837969Z",
     "shell.execute_reply": "2022-03-11T12:39:56.837455Z",
     "shell.execute_reply.started": "2022-03-11T12:39:56.484305Z"
    },
    "tags": []
   },
   "outputs": [],
   "source": [
    "decoder_contextulaized_embeddings, decoder_self_attention_probs = enc_dec_attnetion_layer(\n",
    "                                                     query=decoder_input_after_dropout, \n",
    "                                                     key= encoder_input_after_dropout,\n",
    "                                                     value= encoder_input_after_dropout, \n",
    "                                                     key_padding_mask=src_pad_mask, \n",
    "                                                     need_weights=True, \n",
    "                                                     attn_mask=None)"
   ]
  },
  {
   "cell_type": "code",
   "execution_count": 62,
   "metadata": {
    "execution": {
     "iopub.execute_input": "2022-03-11T12:39:57.209959Z",
     "iopub.status.busy": "2022-03-11T12:39:57.209759Z",
     "iopub.status.idle": "2022-03-11T12:39:57.213254Z",
     "shell.execute_reply": "2022-03-11T12:39:57.212864Z",
     "shell.execute_reply.started": "2022-03-11T12:39:57.209927Z"
    },
    "tags": []
   },
   "outputs": [
    {
     "data": {
      "text/plain": [
       "torch.Size([2, 14, 8])"
      ]
     },
     "execution_count": 62,
     "metadata": {},
     "output_type": "execute_result"
    }
   ],
   "source": [
    "decoder_contextulaized_embeddings.shape"
   ]
  },
  {
   "cell_type": "code",
   "execution_count": 70,
   "metadata": {
    "execution": {
     "iopub.execute_input": "2022-03-11T12:42:13.900547Z",
     "iopub.status.busy": "2022-03-11T12:42:13.900408Z",
     "iopub.status.idle": "2022-03-11T12:42:13.921086Z",
     "shell.execute_reply": "2022-03-11T12:42:13.920703Z",
     "shell.execute_reply.started": "2022-03-11T12:42:13.900533Z"
    },
    "tags": []
   },
   "outputs": [
    {
     "data": {
      "text/plain": [
       "tensor([ 1.1555, -4.0577, -5.0036,  2.1264,  2.8235, -0.7168,  2.4416, -1.2822],\n",
       "       device='cuda:0', grad_fn=<SliceBackward0>)"
      ]
     },
     "execution_count": 70,
     "metadata": {},
     "output_type": "execute_result"
    }
   ],
   "source": [
    "decoder_contextulaized_embeddings[1, 0, :]\n",
    "#[batch_size, query_len, hid_dim]"
   ]
  },
  {
   "cell_type": "code",
   "execution_count": 68,
   "metadata": {
    "execution": {
     "iopub.execute_input": "2022-03-11T12:41:16.927071Z",
     "iopub.status.busy": "2022-03-11T12:41:16.926691Z",
     "iopub.status.idle": "2022-03-11T12:41:16.930040Z",
     "shell.execute_reply": "2022-03-11T12:41:16.929635Z",
     "shell.execute_reply.started": "2022-03-11T12:41:16.927054Z"
    },
    "tags": []
   },
   "outputs": [
    {
     "data": {
      "text/plain": [
       "torch.Size([2, 14, 12])"
      ]
     },
     "execution_count": 68,
     "metadata": {},
     "output_type": "execute_result"
    }
   ],
   "source": [
    "decoder_self_attention_probs.shape\n",
    "#[batch_size, query_len, key_len]"
   ]
  },
  {
   "cell_type": "code",
   "execution_count": 71,
   "metadata": {
    "execution": {
     "iopub.execute_input": "2022-03-11T12:42:24.635144Z",
     "iopub.status.busy": "2022-03-11T12:42:24.635004Z",
     "iopub.status.idle": "2022-03-11T12:42:24.639283Z",
     "shell.execute_reply": "2022-03-11T12:42:24.638932Z",
     "shell.execute_reply.started": "2022-03-11T12:42:24.635130Z"
    },
    "tags": []
   },
   "outputs": [
    {
     "data": {
      "text/plain": [
       "tensor([1.3277e-02, 3.1367e-04, 1.3624e-04, 1.8799e-01, 1.6538e-05, 2.9840e-01,\n",
       "        6.8699e-05, 3.1859e-03, 2.8897e-05, 4.9659e-01, 0.0000e+00, 0.0000e+00],\n",
       "       device='cuda:0', grad_fn=<SliceBackward0>)"
      ]
     },
     "execution_count": 71,
     "metadata": {},
     "output_type": "execute_result"
    }
   ],
   "source": [
    "decoder_self_attention_probs[1,1,:]"
   ]
  },
  {
   "cell_type": "code",
   "execution_count": 72,
   "metadata": {
    "execution": {
     "iopub.execute_input": "2022-03-11T12:42:49.956556Z",
     "iopub.status.busy": "2022-03-11T12:42:49.956417Z",
     "iopub.status.idle": "2022-03-11T12:42:49.975987Z",
     "shell.execute_reply": "2022-03-11T12:42:49.975593Z",
     "shell.execute_reply.started": "2022-03-11T12:42:49.956543Z"
    }
   },
   "outputs": [
    {
     "data": {
      "text/plain": [
       "tensor([1.2413e-04, 1.1850e-04, 5.3116e-01, 1.3379e-03, 4.7481e-03, 7.4040e-02,\n",
       "        6.1360e-02, 3.6862e-03, 3.2327e-01, 1.5939e-04, 0.0000e+00, 0.0000e+00],\n",
       "       device='cuda:0', grad_fn=<SliceBackward0>)"
      ]
     },
     "execution_count": 72,
     "metadata": {},
     "output_type": "execute_result"
    }
   ],
   "source": [
    "decoder_self_attention_probs[1,0,:]"
   ]
  },
  {
   "cell_type": "code",
   "execution_count": 73,
   "metadata": {
    "execution": {
     "iopub.execute_input": "2022-03-11T12:43:17.005258Z",
     "iopub.status.busy": "2022-03-11T12:43:17.005075Z",
     "iopub.status.idle": "2022-03-11T12:43:17.025432Z",
     "shell.execute_reply": "2022-03-11T12:43:17.025058Z",
     "shell.execute_reply.started": "2022-03-11T12:43:17.005240Z"
    },
    "tags": []
   },
   "outputs": [
    {
     "data": {
      "text/plain": [
       "tensor([6.9798e-03, 1.8109e-03, 4.8646e-01, 1.3657e-01, 2.4348e-01, 2.1808e-05,\n",
       "        8.8134e-02, 2.6209e-03, 1.8633e-03, 3.2055e-02, 0.0000e+00, 0.0000e+00],\n",
       "       device='cuda:0', grad_fn=<SliceBackward0>)"
      ]
     },
     "execution_count": 73,
     "metadata": {},
     "output_type": "execute_result"
    }
   ],
   "source": [
    "decoder_self_attention_probs[1,13,:]"
   ]
  },
  {
   "cell_type": "code",
   "execution_count": 74,
   "metadata": {
    "execution": {
     "iopub.execute_input": "2022-03-11T12:43:28.585969Z",
     "iopub.status.busy": "2022-03-11T12:43:28.585811Z",
     "iopub.status.idle": "2022-03-11T12:43:28.589716Z",
     "shell.execute_reply": "2022-03-11T12:43:28.589398Z",
     "shell.execute_reply.started": "2022-03-11T12:43:28.585954Z"
    },
    "tags": []
   },
   "outputs": [
    {
     "data": {
      "text/plain": [
       "tensor([9.5464e-03, 1.2221e-03, 6.9953e-04, 1.1335e-02, 4.8589e-02, 4.3403e-01,\n",
       "        1.2982e-04, 1.1177e-04, 8.8061e-06, 2.8275e-04, 6.0540e-04, 4.9344e-01],\n",
       "       device='cuda:0', grad_fn=<SliceBackward0>)"
      ]
     },
     "execution_count": 74,
     "metadata": {},
     "output_type": "execute_result"
    }
   ],
   "source": [
    "decoder_self_attention_probs[0,13,:]"
   ]
  },
  {
   "cell_type": "markdown",
   "metadata": {},
   "source": [
    "### <font color = 'blue'> Method 1 - Self Attention- Without Using nn.MultiheadAttention"
   ]
  },
  {
   "cell_type": "markdown",
   "metadata": {
    "execution": {
     "iopub.execute_input": "2022-03-10T15:31:08.181514Z",
     "iopub.status.busy": "2022-03-10T15:31:08.181282Z",
     "iopub.status.idle": "2022-03-10T15:31:08.183826Z",
     "shell.execute_reply": "2022-03-10T15:31:08.183545Z",
     "shell.execute_reply.started": "2022-03-10T15:31:08.181475Z"
    }
   },
   "source": [
    "#### <font color = 'blue'> Manually initialize Weights and biases "
   ]
  },
  {
   "cell_type": "markdown",
   "metadata": {
    "execution": {
     "iopub.execute_input": "2022-03-10T15:31:08.181514Z",
     "iopub.status.busy": "2022-03-10T15:31:08.181282Z",
     "iopub.status.idle": "2022-03-10T15:31:08.183826Z",
     "shell.execute_reply": "2022-03-10T15:31:08.183545Z",
     "shell.execute_reply.started": "2022-03-10T15:31:08.181475Z"
    }
   },
   "source": [
    "<font color = 'green'> To compare results, we will use the weights and biases from nn.MultiHeadAttention layer we used earlier."
   ]
  },
  {
   "cell_type": "code",
   "execution_count": 75,
   "metadata": {
    "execution": {
     "iopub.execute_input": "2022-03-11T12:44:01.777099Z",
     "iopub.status.busy": "2022-03-11T12:44:01.776684Z",
     "iopub.status.idle": "2022-03-11T12:44:01.797976Z",
     "shell.execute_reply": "2022-03-11T12:44:01.797542Z",
     "shell.execute_reply.started": "2022-03-11T12:44:01.777083Z"
    },
    "tags": []
   },
   "outputs": [],
   "source": [
    "out_hid_dim = 8\n",
    "hid_dim = 8\n",
    "fc_q = nn.Linear(hid_dim, out_hid_dim).to(device)\n",
    "fc_k = nn.Linear(hid_dim, out_hid_dim).to(device)\n",
    "fc_v = nn.Linear(hid_dim, out_hid_dim).to(device)\n",
    "fc_o = nn.Linear(out_hid_dim, hid_dim).to(device)"
   ]
  },
  {
   "cell_type": "code",
   "execution_count": 77,
   "metadata": {
    "execution": {
     "iopub.execute_input": "2022-03-11T12:44:26.352753Z",
     "iopub.status.busy": "2022-03-11T12:44:26.352608Z",
     "iopub.status.idle": "2022-03-11T12:44:26.373740Z",
     "shell.execute_reply": "2022-03-11T12:44:26.373204Z",
     "shell.execute_reply.started": "2022-03-11T12:44:26.352738Z"
    },
    "tags": []
   },
   "outputs": [
    {
     "name": "stdout",
     "output_type": "stream",
     "text": [
      "tensor([[ 0.3763,  0.2778, -0.4188, -0.2694,  0.3997, -0.3953, -0.0130,  0.2440],\n",
      "        [-0.0283, -0.1411, -0.3400,  0.3003, -0.2023, -0.0332, -0.2203,  0.1427],\n",
      "        [ 0.3561, -0.2301,  0.2985, -0.2054, -0.4158, -0.2433, -0.1752, -0.0005],\n",
      "        [ 0.2562, -0.1277,  0.1224,  0.3388,  0.3865, -0.1923, -0.1799, -0.2100],\n",
      "        [ 0.0457,  0.4024,  0.0755,  0.0069,  0.0560, -0.3103, -0.3071,  0.2443],\n",
      "        [ 0.2494,  0.2909, -0.3317, -0.2078,  0.1968, -0.2872,  0.1729, -0.1140],\n",
      "        [ 0.0898, -0.2116, -0.1195,  0.0113, -0.3267, -0.2988, -0.2241,  0.2493],\n",
      "        [ 0.0304, -0.0666,  0.0263, -0.0798, -0.3771, -0.0504, -0.3882,  0.3941]],\n",
      "       device='cuda:0')\n",
      "tensor([0., 0., 0., 0., 0., 0., 0., 0.], device='cuda:0')\n"
     ]
    }
   ],
   "source": [
    "fc_q.weight.data = enc_dec_attnetion_layer.in_proj_weight.data[0:8,:]\n",
    "fc_q.bias.data = enc_dec_attnetion_layer.in_proj_bias.data[0:8]\n",
    "print(fc_q.weight.data)\n",
    "print(fc_q.bias.data)"
   ]
  },
  {
   "cell_type": "code",
   "execution_count": 78,
   "metadata": {
    "execution": {
     "iopub.execute_input": "2022-03-11T12:44:42.311375Z",
     "iopub.status.busy": "2022-03-11T12:44:42.311222Z",
     "iopub.status.idle": "2022-03-11T12:44:42.320310Z",
     "shell.execute_reply": "2022-03-11T12:44:42.319976Z",
     "shell.execute_reply.started": "2022-03-11T12:44:42.311360Z"
    },
    "tags": []
   },
   "outputs": [
    {
     "name": "stdout",
     "output_type": "stream",
     "text": [
      "tensor([[-0.2509,  0.3624, -0.4034, -0.2466, -0.4142,  0.3088, -0.0350,  0.1387],\n",
      "        [-0.4063, -0.2667, -0.3524,  0.0971,  0.2161,  0.0450, -0.4052,  0.3519],\n",
      "        [-0.3766,  0.3414,  0.0444,  0.2520,  0.1527, -0.3914,  0.2546, -0.2493],\n",
      "        [-0.2519, -0.2988, -0.2055,  0.3408,  0.1452, -0.2501,  0.3149,  0.3838],\n",
      "        [ 0.0048, -0.1765,  0.2560, -0.0106, -0.2261,  0.1781,  0.0745,  0.2857],\n",
      "        [-0.0765,  0.2502,  0.2493,  0.0801, -0.1353, -0.1036,  0.1332,  0.2318],\n",
      "        [ 0.4233,  0.3586, -0.2676, -0.2466, -0.1674,  0.3708, -0.0955,  0.0112],\n",
      "        [-0.1462, -0.2138, -0.1292,  0.3666,  0.3280,  0.2984, -0.1094, -0.2439]],\n",
      "       device='cuda:0')\n",
      "tensor([0., 0., 0., 0., 0., 0., 0., 0.], device='cuda:0')\n"
     ]
    }
   ],
   "source": [
    "fc_k.weight.data = enc_dec_attnetion_layer.in_proj_weight.data[8:16,:]\n",
    "fc_k.bias.data = enc_dec_attnetion_layer.in_proj_bias.data[8:16]\n",
    "print(fc_k.weight.data)\n",
    "print(fc_k.bias.data)"
   ]
  },
  {
   "cell_type": "code",
   "execution_count": 79,
   "metadata": {
    "execution": {
     "iopub.execute_input": "2022-03-11T12:44:54.003478Z",
     "iopub.status.busy": "2022-03-11T12:44:54.003275Z",
     "iopub.status.idle": "2022-03-11T12:44:54.009457Z",
     "shell.execute_reply": "2022-03-11T12:44:54.009098Z",
     "shell.execute_reply.started": "2022-03-11T12:44:54.003446Z"
    },
    "tags": []
   },
   "outputs": [
    {
     "name": "stdout",
     "output_type": "stream",
     "text": [
      "tensor([[ 0.4032,  0.2661, -0.0876, -0.4138, -0.1970,  0.0984,  0.3258,  0.0302],\n",
      "        [ 0.0678, -0.0233, -0.3942, -0.3782,  0.0286, -0.1126,  0.0703,  0.4220],\n",
      "        [-0.3806,  0.1810,  0.1914,  0.2954,  0.0498, -0.3115,  0.3695,  0.1538],\n",
      "        [-0.4105,  0.2072,  0.1600, -0.1192,  0.1370,  0.2916, -0.2625, -0.3464],\n",
      "        [ 0.4321,  0.1024,  0.0788,  0.2816, -0.0996, -0.4232,  0.3214,  0.1239],\n",
      "        [-0.3858, -0.3703,  0.3832, -0.1266, -0.1693,  0.1821,  0.1343, -0.1489],\n",
      "        [ 0.1633,  0.1020,  0.2901, -0.3135, -0.2798,  0.2624,  0.0754, -0.0908],\n",
      "        [-0.1181, -0.3744,  0.3527,  0.2048, -0.3104, -0.2376,  0.2671, -0.3707]],\n",
      "       device='cuda:0')\n",
      "tensor([0., 0., 0., 0., 0., 0., 0., 0.], device='cuda:0')\n"
     ]
    }
   ],
   "source": [
    "fc_v.weight.data = enc_dec_attnetion_layer.in_proj_weight.data[16:,:]\n",
    "fc_v.bias.data = enc_dec_attnetion_layer.in_proj_bias.data[16:]\n",
    "print(fc_v.weight.data)\n",
    "print(fc_v.bias.data)"
   ]
  },
  {
   "cell_type": "code",
   "execution_count": 80,
   "metadata": {
    "execution": {
     "iopub.execute_input": "2022-03-11T12:45:06.778235Z",
     "iopub.status.busy": "2022-03-11T12:45:06.778096Z",
     "iopub.status.idle": "2022-03-11T12:45:06.783221Z",
     "shell.execute_reply": "2022-03-11T12:45:06.782818Z",
     "shell.execute_reply.started": "2022-03-11T12:45:06.778221Z"
    },
    "tags": []
   },
   "outputs": [
    {
     "name": "stdout",
     "output_type": "stream",
     "text": [
      "tensor([[-0.3398,  0.1933,  0.2581,  0.2190,  0.1178, -0.0953, -0.0964,  0.0481],\n",
      "        [-0.1671,  0.1613, -0.3391,  0.1987, -0.2557,  0.2815, -0.2839, -0.3338],\n",
      "        [ 0.3252,  0.2891, -0.2454,  0.1039, -0.0680,  0.1597, -0.1212, -0.1963],\n",
      "        [-0.1580, -0.2998, -0.0987, -0.1872,  0.0870,  0.2023,  0.2119, -0.2741],\n",
      "        [-0.1120, -0.3063, -0.0368, -0.2990,  0.1855,  0.1990, -0.2176,  0.3324],\n",
      "        [-0.1558, -0.0212, -0.0969,  0.1274, -0.2628,  0.1756,  0.1212,  0.2329],\n",
      "        [-0.2689, -0.0370,  0.0462, -0.2464, -0.0516, -0.2242,  0.0455, -0.0850],\n",
      "        [-0.0727, -0.0087, -0.1862,  0.0398, -0.0506, -0.2583,  0.1757, -0.1860]],\n",
      "       device='cuda:0')\n",
      "tensor([0., 0., 0., 0., 0., 0., 0., 0.], device='cuda:0')\n"
     ]
    }
   ],
   "source": [
    "fc_o.weight.data = enc_dec_attnetion_layer.out_proj.weight.data\n",
    "fc_o.bias.data = enc_dec_attnetion_layer.out_proj.bias.data\n",
    "print(fc_o.weight.data)\n",
    "print(fc_o.bias.data)"
   ]
  },
  {
   "cell_type": "markdown",
   "metadata": {},
   "source": [
    "#### <font color = 'blue'> **Generate queries, keys and values**"
   ]
  },
  {
   "cell_type": "markdown",
   "metadata": {},
   "source": [
    "<font size =3, color = 'green'> Here the queries will be generated based on decoder input whereas keys and values are generated based on encoder input. Target should pay attention to words in source."
   ]
  },
  {
   "cell_type": "code",
   "execution_count": 81,
   "metadata": {
    "execution": {
     "iopub.execute_input": "2022-03-11T12:52:44.723958Z",
     "iopub.status.busy": "2022-03-11T12:52:44.723817Z",
     "iopub.status.idle": "2022-03-11T12:52:44.741541Z",
     "shell.execute_reply": "2022-03-11T12:52:44.741172Z",
     "shell.execute_reply.started": "2022-03-11T12:52:44.723944Z"
    },
    "tags": []
   },
   "outputs": [],
   "source": [
    "Q = fc_q(decoder_input_after_dropout )\n",
    "K = fc_k(encoder_input_after_dropout )\n",
    "V = fc_v(encoder_input_after_dropout )"
   ]
  },
  {
   "cell_type": "code",
   "execution_count": 82,
   "metadata": {
    "execution": {
     "iopub.execute_input": "2022-03-11T12:52:45.673986Z",
     "iopub.status.busy": "2022-03-11T12:52:45.673864Z",
     "iopub.status.idle": "2022-03-11T12:52:45.676826Z",
     "shell.execute_reply": "2022-03-11T12:52:45.676516Z",
     "shell.execute_reply.started": "2022-03-11T12:52:45.673972Z"
    },
    "tags": []
   },
   "outputs": [
    {
     "name": "stdout",
     "output_type": "stream",
     "text": [
      "4\n"
     ]
    }
   ],
   "source": [
    "n_heads = 2\n",
    "head_dim = out_hid_dim // n_heads\n",
    "print(head_dim)"
   ]
  },
  {
   "cell_type": "code",
   "execution_count": 83,
   "metadata": {
    "execution": {
     "iopub.execute_input": "2022-03-11T12:52:46.392147Z",
     "iopub.status.busy": "2022-03-11T12:52:46.392006Z",
     "iopub.status.idle": "2022-03-11T12:52:46.394433Z",
     "shell.execute_reply": "2022-03-11T12:52:46.394017Z",
     "shell.execute_reply.started": "2022-03-11T12:52:46.392133Z"
    },
    "tags": []
   },
   "outputs": [],
   "source": [
    "assert out_hid_dim % n_heads == 0"
   ]
  },
  {
   "cell_type": "code",
   "execution_count": 84,
   "metadata": {
    "execution": {
     "iopub.execute_input": "2022-03-11T12:52:47.893047Z",
     "iopub.status.busy": "2022-03-11T12:52:47.892894Z",
     "iopub.status.idle": "2022-03-11T12:52:47.895710Z",
     "shell.execute_reply": "2022-03-11T12:52:47.895417Z",
     "shell.execute_reply.started": "2022-03-11T12:52:47.893034Z"
    },
    "tags": []
   },
   "outputs": [],
   "source": [
    "Q = Q.view(batch_size, -1, n_heads, head_dim)\n",
    "K = K.view(batch_size, -1, n_heads, head_dim)\n",
    "V = V.view(batch_size, -1, n_heads, head_dim)"
   ]
  },
  {
   "cell_type": "code",
   "execution_count": 85,
   "metadata": {
    "execution": {
     "iopub.execute_input": "2022-03-11T12:52:49.139097Z",
     "iopub.status.busy": "2022-03-11T12:52:49.138833Z",
     "iopub.status.idle": "2022-03-11T12:52:49.142172Z",
     "shell.execute_reply": "2022-03-11T12:52:49.141757Z",
     "shell.execute_reply.started": "2022-03-11T12:52:49.139082Z"
    },
    "tags": []
   },
   "outputs": [
    {
     "data": {
      "text/plain": [
       "torch.Size([2, 14, 2, 4])"
      ]
     },
     "execution_count": 85,
     "metadata": {},
     "output_type": "execute_result"
    }
   ],
   "source": [
    "Q.shape\n",
    "#[batch_size, query_len, n_heads, head_dim]"
   ]
  },
  {
   "cell_type": "code",
   "execution_count": 86,
   "metadata": {
    "execution": {
     "iopub.execute_input": "2022-03-11T12:52:49.947231Z",
     "iopub.status.busy": "2022-03-11T12:52:49.947063Z",
     "iopub.status.idle": "2022-03-11T12:52:49.949844Z",
     "shell.execute_reply": "2022-03-11T12:52:49.949436Z",
     "shell.execute_reply.started": "2022-03-11T12:52:49.947202Z"
    },
    "tags": []
   },
   "outputs": [],
   "source": [
    "Q = Q.permute(0, 2, 1, 3)\n",
    "K = K.permute(0, 2, 1, 3)\n",
    "V = V.permute(0, 2, 1, 3)"
   ]
  },
  {
   "cell_type": "code",
   "execution_count": 87,
   "metadata": {
    "execution": {
     "iopub.execute_input": "2022-03-11T12:52:50.759015Z",
     "iopub.status.busy": "2022-03-11T12:52:50.758875Z",
     "iopub.status.idle": "2022-03-11T12:52:50.762067Z",
     "shell.execute_reply": "2022-03-11T12:52:50.761633Z",
     "shell.execute_reply.started": "2022-03-11T12:52:50.759001Z"
    },
    "tags": []
   },
   "outputs": [
    {
     "data": {
      "text/plain": [
       "torch.Size([2, 2, 14, 4])"
      ]
     },
     "execution_count": 87,
     "metadata": {},
     "output_type": "execute_result"
    }
   ],
   "source": [
    "Q.shape\n",
    "#[batch_size,num_heads, query_len, head_dim ]"
   ]
  },
  {
   "cell_type": "code",
   "execution_count": 88,
   "metadata": {
    "execution": {
     "iopub.execute_input": "2022-03-11T12:52:51.615147Z",
     "iopub.status.busy": "2022-03-11T12:52:51.614995Z",
     "iopub.status.idle": "2022-03-11T12:52:51.618113Z",
     "shell.execute_reply": "2022-03-11T12:52:51.617685Z",
     "shell.execute_reply.started": "2022-03-11T12:52:51.615133Z"
    },
    "tags": []
   },
   "outputs": [
    {
     "data": {
      "text/plain": [
       "torch.Size([2, 2, 12, 4])"
      ]
     },
     "execution_count": 88,
     "metadata": {},
     "output_type": "execute_result"
    }
   ],
   "source": [
    "K.shape\n",
    "#[batch_size,num_heads, key_len, head_dim ]"
   ]
  },
  {
   "cell_type": "markdown",
   "metadata": {},
   "source": [
    "#### <font color = 'blue'> **Scaled dot product of Queries and Keys**</font>"
   ]
  },
  {
   "cell_type": "code",
   "execution_count": 89,
   "metadata": {
    "execution": {
     "iopub.execute_input": "2022-03-11T12:52:54.297990Z",
     "iopub.status.busy": "2022-03-11T12:52:54.297849Z",
     "iopub.status.idle": "2022-03-11T12:52:54.300685Z",
     "shell.execute_reply": "2022-03-11T12:52:54.300254Z",
     "shell.execute_reply.started": "2022-03-11T12:52:54.297976Z"
    },
    "tags": []
   },
   "outputs": [],
   "source": [
    "scale = torch.sqrt(torch.FloatTensor([head_dim])).to(device)"
   ]
  },
  {
   "cell_type": "code",
   "execution_count": 90,
   "metadata": {
    "execution": {
     "iopub.execute_input": "2022-03-11T12:52:55.079163Z",
     "iopub.status.busy": "2022-03-11T12:52:55.078578Z",
     "iopub.status.idle": "2022-03-11T12:52:55.081562Z",
     "shell.execute_reply": "2022-03-11T12:52:55.081186Z",
     "shell.execute_reply.started": "2022-03-11T12:52:55.079146Z"
    },
    "tags": []
   },
   "outputs": [],
   "source": [
    "energy = torch.matmul(Q, K.permute(0, 1, 3, 2)) / scale"
   ]
  },
  {
   "cell_type": "code",
   "execution_count": 91,
   "metadata": {
    "execution": {
     "iopub.execute_input": "2022-03-11T12:52:57.809345Z",
     "iopub.status.busy": "2022-03-11T12:52:57.809203Z",
     "iopub.status.idle": "2022-03-11T12:52:57.812349Z",
     "shell.execute_reply": "2022-03-11T12:52:57.812031Z",
     "shell.execute_reply.started": "2022-03-11T12:52:57.809331Z"
    },
    "tags": []
   },
   "outputs": [
    {
     "data": {
      "text/plain": [
       "torch.Size([2, 2, 14, 12])"
      ]
     },
     "execution_count": 91,
     "metadata": {},
     "output_type": "execute_result"
    }
   ],
   "source": [
    "energy.shape\n",
    "#[batch_size, num_heads, query_len, key_len]"
   ]
  },
  {
   "cell_type": "markdown",
   "metadata": {
    "execution": {
     "iopub.execute_input": "2022-03-06T06:32:28.398682Z",
     "iopub.status.busy": "2022-03-06T06:32:28.398556Z",
     "iopub.status.idle": "2022-03-06T06:32:28.401868Z",
     "shell.execute_reply": "2022-03-06T06:32:28.401405Z",
     "shell.execute_reply.started": "2022-03-06T06:32:28.398668Z"
    }
   },
   "source": [
    "#### <font color = 'blue'> **Apply mask to output of Q, K dot product**</font><br>\n",
    "<font color = 'green'>**We do not want tokens to pay attention to pad tokens**</font>"
   ]
  },
  {
   "cell_type": "code",
   "execution_count": 92,
   "metadata": {
    "execution": {
     "iopub.execute_input": "2022-03-11T12:53:23.837168Z",
     "iopub.status.busy": "2022-03-11T12:53:23.837023Z",
     "iopub.status.idle": "2022-03-11T12:53:23.840835Z",
     "shell.execute_reply": "2022-03-11T12:53:23.840503Z",
     "shell.execute_reply.started": "2022-03-11T12:53:23.837153Z"
    },
    "tags": []
   },
   "outputs": [
    {
     "data": {
      "text/plain": [
       "tensor([[ 1, 22, 24, 25, 26, 12, 22, 27, 28, 29, 17,  2],\n",
       "        [ 1, 18,  7, 19, 20, 21, 22, 23, 17,  2,  3,  3]])"
      ]
     },
     "execution_count": 92,
     "metadata": {},
     "output_type": "execute_result"
    }
   ],
   "source": [
    "mask_input = source.clone()\n",
    "mask_input"
   ]
  },
  {
   "cell_type": "code",
   "execution_count": 93,
   "metadata": {
    "execution": {
     "iopub.execute_input": "2022-03-11T12:53:37.550392Z",
     "iopub.status.busy": "2022-03-11T12:53:37.550238Z",
     "iopub.status.idle": "2022-03-11T12:53:37.553259Z",
     "shell.execute_reply": "2022-03-11T12:53:37.552995Z",
     "shell.execute_reply.started": "2022-03-11T12:53:37.550379Z"
    },
    "tags": []
   },
   "outputs": [
    {
     "data": {
      "text/plain": [
       "3"
      ]
     },
     "execution_count": 93,
     "metadata": {},
     "output_type": "execute_result"
    }
   ],
   "source": [
    "SRC_PAD_IDX = source_vocab['<PAD>']\n",
    "SRC_PAD_IDX"
   ]
  },
  {
   "cell_type": "code",
   "execution_count": 94,
   "metadata": {
    "execution": {
     "iopub.execute_input": "2022-03-11T12:54:09.599486Z",
     "iopub.status.busy": "2022-03-11T12:54:09.599342Z",
     "iopub.status.idle": "2022-03-11T12:54:09.603381Z",
     "shell.execute_reply": "2022-03-11T12:54:09.603071Z",
     "shell.execute_reply.started": "2022-03-11T12:54:09.599471Z"
    },
    "tags": []
   },
   "outputs": [
    {
     "data": {
      "text/plain": [
       "tensor([[ True,  True,  True,  True,  True,  True,  True,  True,  True,  True,\n",
       "          True,  True],\n",
       "        [ True,  True,  True,  True,  True,  True,  True,  True,  True,  True,\n",
       "         False, False]])"
      ]
     },
     "execution_count": 94,
     "metadata": {},
     "output_type": "execute_result"
    }
   ],
   "source": [
    "src_pad_mask = (mask_input!= SRC_PAD_IDX )\n",
    "src_pad_mask"
   ]
  },
  {
   "cell_type": "code",
   "execution_count": 95,
   "metadata": {
    "execution": {
     "iopub.execute_input": "2022-03-11T12:54:21.586707Z",
     "iopub.status.busy": "2022-03-11T12:54:21.586553Z",
     "iopub.status.idle": "2022-03-11T12:54:21.589629Z",
     "shell.execute_reply": "2022-03-11T12:54:21.589339Z",
     "shell.execute_reply.started": "2022-03-11T12:54:21.586681Z"
    },
    "tags": []
   },
   "outputs": [
    {
     "data": {
      "text/plain": [
       "torch.Size([2, 12])"
      ]
     },
     "execution_count": 95,
     "metadata": {},
     "output_type": "execute_result"
    }
   ],
   "source": [
    "src_pad_mask.shape"
   ]
  },
  {
   "cell_type": "code",
   "execution_count": 96,
   "metadata": {
    "execution": {
     "iopub.execute_input": "2022-03-11T12:54:33.329724Z",
     "iopub.status.busy": "2022-03-11T12:54:33.329307Z",
     "iopub.status.idle": "2022-03-11T12:54:33.332250Z",
     "shell.execute_reply": "2022-03-11T12:54:33.331908Z",
     "shell.execute_reply.started": "2022-03-11T12:54:33.329709Z"
    },
    "tags": []
   },
   "outputs": [],
   "source": [
    "src_pad_mask = src_pad_mask.unsqueeze(1).unsqueeze(2)"
   ]
  },
  {
   "cell_type": "code",
   "execution_count": 97,
   "metadata": {
    "execution": {
     "iopub.execute_input": "2022-03-11T12:54:39.047083Z",
     "iopub.status.busy": "2022-03-11T12:54:39.046929Z",
     "iopub.status.idle": "2022-03-11T12:54:39.050263Z",
     "shell.execute_reply": "2022-03-11T12:54:39.049891Z",
     "shell.execute_reply.started": "2022-03-11T12:54:39.047057Z"
    },
    "tags": []
   },
   "outputs": [
    {
     "data": {
      "text/plain": [
       "torch.Size([2, 1, 1, 12])"
      ]
     },
     "execution_count": 97,
     "metadata": {},
     "output_type": "execute_result"
    }
   ],
   "source": [
    "src_pad_mask.shape"
   ]
  },
  {
   "cell_type": "code",
   "execution_count": 98,
   "metadata": {
    "execution": {
     "iopub.execute_input": "2022-03-11T12:54:51.275581Z",
     "iopub.status.busy": "2022-03-11T12:54:51.275425Z",
     "iopub.status.idle": "2022-03-11T12:54:51.293780Z",
     "shell.execute_reply": "2022-03-11T12:54:51.293305Z",
     "shell.execute_reply.started": "2022-03-11T12:54:51.275567Z"
    },
    "tags": []
   },
   "outputs": [],
   "source": [
    "src_pad_mask = src_pad_mask.to(device)"
   ]
  },
  {
   "cell_type": "code",
   "execution_count": 99,
   "metadata": {
    "execution": {
     "iopub.execute_input": "2022-03-11T12:55:19.128163Z",
     "iopub.status.busy": "2022-03-11T12:55:19.128023Z",
     "iopub.status.idle": "2022-03-11T12:55:19.147848Z",
     "shell.execute_reply": "2022-03-11T12:55:19.147444Z",
     "shell.execute_reply.started": "2022-03-11T12:55:19.128149Z"
    },
    "tags": []
   },
   "outputs": [],
   "source": [
    "energy_masked = energy.masked_fill(src_pad_mask == 0, -1e10)"
   ]
  },
  {
   "cell_type": "code",
   "execution_count": 100,
   "metadata": {
    "execution": {
     "iopub.execute_input": "2022-03-11T12:55:20.974864Z",
     "iopub.status.busy": "2022-03-11T12:55:20.974726Z",
     "iopub.status.idle": "2022-03-11T12:55:20.977692Z",
     "shell.execute_reply": "2022-03-11T12:55:20.977379Z",
     "shell.execute_reply.started": "2022-03-11T12:55:20.974850Z"
    },
    "tags": []
   },
   "outputs": [
    {
     "data": {
      "text/plain": [
       "torch.Size([2, 2, 14, 12])"
      ]
     },
     "execution_count": 100,
     "metadata": {},
     "output_type": "execute_result"
    }
   ],
   "source": [
    "energy_masked.shape"
   ]
  },
  {
   "cell_type": "markdown",
   "metadata": {
    "execution": {
     "iopub.execute_input": "2022-03-06T18:33:44.838351Z",
     "iopub.status.busy": "2022-03-06T18:33:44.838200Z",
     "iopub.status.idle": "2022-03-06T18:33:44.840959Z",
     "shell.execute_reply": "2022-03-06T18:33:44.840599Z",
     "shell.execute_reply.started": "2022-03-06T18:33:44.838337Z"
    }
   },
   "source": [
    "#### <font color = 'blue'>**Apply softmax to convert QV dot product to probabilities**</font><br>"
   ]
  },
  {
   "cell_type": "code",
   "execution_count": 101,
   "metadata": {
    "execution": {
     "iopub.execute_input": "2022-03-11T12:55:36.170849Z",
     "iopub.status.busy": "2022-03-11T12:55:36.170711Z",
     "iopub.status.idle": "2022-03-11T12:55:36.176765Z",
     "shell.execute_reply": "2022-03-11T12:55:36.176367Z",
     "shell.execute_reply.started": "2022-03-11T12:55:36.170836Z"
    },
    "tags": []
   },
   "outputs": [],
   "source": [
    "attention_prob = torch.softmax(energy_masked, dim = -1)                 \n",
    "#attention_prob = [batch size, n heads, query len, key len]"
   ]
  },
  {
   "cell_type": "code",
   "execution_count": 103,
   "metadata": {
    "execution": {
     "iopub.execute_input": "2022-03-11T12:55:51.050751Z",
     "iopub.status.busy": "2022-03-11T12:55:51.050613Z",
     "iopub.status.idle": "2022-03-11T12:55:51.054487Z",
     "shell.execute_reply": "2022-03-11T12:55:51.054155Z",
     "shell.execute_reply.started": "2022-03-11T12:55:51.050737Z"
    },
    "tags": []
   },
   "outputs": [
    {
     "name": "stdout",
     "output_type": "stream",
     "text": [
      "tensor(0., device='cuda:0') tensor(0., device='cuda:0')\n"
     ]
    }
   ],
   "source": [
    "print(attention_prob [1,1,1,10].data, attention_prob [1,1,1,11].data)\n",
    "#[batch_size, num_heads, query_len, key_len]"
   ]
  },
  {
   "cell_type": "code",
   "execution_count": 105,
   "metadata": {
    "execution": {
     "iopub.execute_input": "2022-03-11T12:56:18.815161Z",
     "iopub.status.busy": "2022-03-11T12:56:18.815005Z",
     "iopub.status.idle": "2022-03-11T12:56:18.822212Z",
     "shell.execute_reply": "2022-03-11T12:56:18.821608Z",
     "shell.execute_reply.started": "2022-03-11T12:56:18.815134Z"
    },
    "tags": []
   },
   "outputs": [
    {
     "name": "stdout",
     "output_type": "stream",
     "text": [
      "tensor([1.6849e-04, 6.3200e-06, 2.7247e-04, 1.9907e-07, 2.3001e-05, 7.1706e-10,\n",
      "        2.3023e-09, 6.3591e-03, 2.4307e-10, 9.9317e-01, 0.0000e+00, 0.0000e+00],\n",
      "       device='cuda:0', grad_fn=<SliceBackward0>)\n"
     ]
    }
   ],
   "source": [
    "print(attention_prob[1, 0,1, :])"
   ]
  },
  {
   "cell_type": "code",
   "execution_count": 106,
   "metadata": {
    "execution": {
     "iopub.execute_input": "2022-03-11T12:56:23.379870Z",
     "iopub.status.busy": "2022-03-11T12:56:23.379732Z",
     "iopub.status.idle": "2022-03-11T12:56:23.383896Z",
     "shell.execute_reply": "2022-03-11T12:56:23.383478Z",
     "shell.execute_reply.started": "2022-03-11T12:56:23.379857Z"
    },
    "tags": []
   },
   "outputs": [
    {
     "data": {
      "text/plain": [
       "tensor(1.0000, device='cuda:0', grad_fn=<SumBackward0>)"
      ]
     },
     "execution_count": 106,
     "metadata": {},
     "output_type": "execute_result"
    }
   ],
   "source": [
    "attention_prob[0, 0,1, :].sum()"
   ]
  },
  {
   "cell_type": "markdown",
   "metadata": {
    "execution": {
     "iopub.execute_input": "2022-03-06T17:49:26.353174Z",
     "iopub.status.busy": "2022-03-06T17:49:26.353003Z",
     "iopub.status.idle": "2022-03-06T17:49:26.356619Z",
     "shell.execute_reply": "2022-03-06T17:49:26.356140Z",
     "shell.execute_reply.started": "2022-03-06T17:49:26.353143Z"
    }
   },
   "source": [
    "#### <font color = 'blue'>**Apply dropout layer to attention probabilities**</font><br>"
   ]
  },
  {
   "cell_type": "code",
   "execution_count": 107,
   "metadata": {
    "execution": {
     "iopub.execute_input": "2022-03-11T12:56:41.069879Z",
     "iopub.status.busy": "2022-03-11T12:56:41.069741Z",
     "iopub.status.idle": "2022-03-11T12:56:41.072436Z",
     "shell.execute_reply": "2022-03-11T12:56:41.072162Z",
     "shell.execute_reply.started": "2022-03-11T12:56:41.069866Z"
    },
    "tags": []
   },
   "outputs": [],
   "source": [
    "att_dropout =  nn.Dropout(p=0.0)"
   ]
  },
  {
   "cell_type": "code",
   "execution_count": 108,
   "metadata": {
    "execution": {
     "iopub.execute_input": "2022-03-11T12:56:48.843877Z",
     "iopub.status.busy": "2022-03-11T12:56:48.843328Z",
     "iopub.status.idle": "2022-03-11T12:56:48.846193Z",
     "shell.execute_reply": "2022-03-11T12:56:48.845750Z",
     "shell.execute_reply.started": "2022-03-11T12:56:48.843861Z"
    },
    "tags": []
   },
   "outputs": [],
   "source": [
    "attention_prob_after_dropout= att_dropout(attention_prob)"
   ]
  },
  {
   "cell_type": "code",
   "execution_count": 110,
   "metadata": {
    "execution": {
     "iopub.execute_input": "2022-03-11T12:57:02.598026Z",
     "iopub.status.busy": "2022-03-11T12:57:02.597885Z",
     "iopub.status.idle": "2022-03-11T12:57:02.601345Z",
     "shell.execute_reply": "2022-03-11T12:57:02.601027Z",
     "shell.execute_reply.started": "2022-03-11T12:57:02.598012Z"
    },
    "tags": []
   },
   "outputs": [
    {
     "name": "stdout",
     "output_type": "stream",
     "text": [
      "tensor([1.6849e-04, 6.3200e-06, 2.7247e-04, 1.9907e-07, 2.3001e-05, 7.1706e-10,\n",
      "        2.3023e-09, 6.3591e-03, 2.4307e-10, 9.9317e-01, 0.0000e+00, 0.0000e+00],\n",
      "       device='cuda:0', grad_fn=<SliceBackward0>)\n"
     ]
    }
   ],
   "source": [
    "print(attention_prob_after_dropout [1, 0,1, :])"
   ]
  },
  {
   "cell_type": "code",
   "execution_count": 111,
   "metadata": {
    "execution": {
     "iopub.execute_input": "2022-03-11T12:57:06.761931Z",
     "iopub.status.busy": "2022-03-11T12:57:06.761793Z",
     "iopub.status.idle": "2022-03-11T12:57:06.765934Z",
     "shell.execute_reply": "2022-03-11T12:57:06.765575Z",
     "shell.execute_reply.started": "2022-03-11T12:57:06.761917Z"
    },
    "tags": []
   },
   "outputs": [
    {
     "data": {
      "text/plain": [
       "tensor(1.0000, device='cuda:0', grad_fn=<SumBackward0>)"
      ]
     },
     "execution_count": 111,
     "metadata": {},
     "output_type": "execute_result"
    }
   ],
   "source": [
    "attention_prob_after_dropout[0, 0,1, :].sum()"
   ]
  },
  {
   "cell_type": "markdown",
   "metadata": {
    "execution": {
     "iopub.execute_input": "2022-03-06T18:30:59.789080Z",
     "iopub.status.busy": "2022-03-06T18:30:59.788942Z",
     "iopub.status.idle": "2022-03-06T18:30:59.792284Z",
     "shell.execute_reply": "2022-03-06T18:30:59.791922Z",
     "shell.execute_reply.started": "2022-03-06T18:30:59.789068Z"
    },
    "tags": []
   },
   "source": [
    "<font size = 3, color = 'red'>**Probs do not sum to 1, sometimes these are greater than one and sometimes these are less than one**</font>"
   ]
  },
  {
   "cell_type": "code",
   "execution_count": 112,
   "metadata": {
    "execution": {
     "iopub.execute_input": "2022-03-11T12:57:10.434390Z",
     "iopub.status.busy": "2022-03-11T12:57:10.434243Z",
     "iopub.status.idle": "2022-03-11T12:57:10.437777Z",
     "shell.execute_reply": "2022-03-11T12:57:10.437330Z",
     "shell.execute_reply.started": "2022-03-11T12:57:10.434376Z"
    },
    "tags": []
   },
   "outputs": [
    {
     "data": {
      "text/plain": [
       "torch.Size([2, 2, 14, 12])"
      ]
     },
     "execution_count": 112,
     "metadata": {},
     "output_type": "execute_result"
    }
   ],
   "source": [
    "attention_prob_after_dropout.shape"
   ]
  },
  {
   "cell_type": "code",
   "execution_count": 113,
   "metadata": {
    "execution": {
     "iopub.execute_input": "2022-03-11T12:57:19.582076Z",
     "iopub.status.busy": "2022-03-11T12:57:19.581932Z",
     "iopub.status.idle": "2022-03-11T12:57:19.584926Z",
     "shell.execute_reply": "2022-03-11T12:57:19.584495Z",
     "shell.execute_reply.started": "2022-03-11T12:57:19.582062Z"
    },
    "tags": []
   },
   "outputs": [],
   "source": [
    "attention_prob_after_dropout_mean = torch.mean(attention_prob_after_dropout, dim = 1)"
   ]
  },
  {
   "cell_type": "markdown",
   "metadata": {},
   "source": [
    "#### <font size = 4, color = 'blue'>**Self Attention Output**</font><br>"
   ]
  },
  {
   "cell_type": "code",
   "execution_count": 114,
   "metadata": {
    "execution": {
     "iopub.execute_input": "2022-03-11T12:57:27.746590Z",
     "iopub.status.busy": "2022-03-11T12:57:27.746084Z",
     "iopub.status.idle": "2022-03-11T12:57:27.749046Z",
     "shell.execute_reply": "2022-03-11T12:57:27.748787Z",
     "shell.execute_reply.started": "2022-03-11T12:57:27.746573Z"
    },
    "tags": []
   },
   "outputs": [
    {
     "data": {
      "text/plain": [
       "torch.Size([2, 2, 12, 4])"
      ]
     },
     "execution_count": 114,
     "metadata": {},
     "output_type": "execute_result"
    }
   ],
   "source": [
    "V.shape\n",
    "# [batch_size, num_heads, value_len, head_dim]"
   ]
  },
  {
   "cell_type": "code",
   "execution_count": 115,
   "metadata": {
    "execution": {
     "iopub.execute_input": "2022-03-11T12:57:29.289685Z",
     "iopub.status.busy": "2022-03-11T12:57:29.289530Z",
     "iopub.status.idle": "2022-03-11T12:57:29.292786Z",
     "shell.execute_reply": "2022-03-11T12:57:29.292525Z",
     "shell.execute_reply.started": "2022-03-11T12:57:29.289672Z"
    },
    "tags": []
   },
   "outputs": [
    {
     "data": {
      "text/plain": [
       "torch.Size([2, 2, 14, 12])"
      ]
     },
     "execution_count": 115,
     "metadata": {},
     "output_type": "execute_result"
    }
   ],
   "source": [
    "attention_prob_after_dropout.shape\n",
    "#[batch_size, num_heads, query_len, key_len]"
   ]
  },
  {
   "cell_type": "code",
   "execution_count": 116,
   "metadata": {
    "execution": {
     "iopub.execute_input": "2022-03-11T12:57:30.697398Z",
     "iopub.status.busy": "2022-03-11T12:57:30.697246Z",
     "iopub.status.idle": "2022-03-11T12:57:30.700130Z",
     "shell.execute_reply": "2022-03-11T12:57:30.699784Z",
     "shell.execute_reply.started": "2022-03-11T12:57:30.697384Z"
    },
    "tags": []
   },
   "outputs": [],
   "source": [
    "decoder_contextulaized_embeddings_m1 = torch.matmul(attention_prob_after_dropout, V)\n",
    "#[batch_size, num_heads, query_len, head_dim]"
   ]
  },
  {
   "cell_type": "code",
   "execution_count": 117,
   "metadata": {
    "execution": {
     "iopub.execute_input": "2022-03-11T12:57:37.766515Z",
     "iopub.status.busy": "2022-03-11T12:57:37.765938Z",
     "iopub.status.idle": "2022-03-11T12:57:37.769008Z",
     "shell.execute_reply": "2022-03-11T12:57:37.768738Z",
     "shell.execute_reply.started": "2022-03-11T12:57:37.766499Z"
    },
    "tags": []
   },
   "outputs": [
    {
     "data": {
      "text/plain": [
       "torch.Size([2, 2, 14, 4])"
      ]
     },
     "execution_count": 117,
     "metadata": {},
     "output_type": "execute_result"
    }
   ],
   "source": [
    "decoder_contextulaized_embeddings_m1.shape\n",
    "# [batch_size, number_of_heads, query_len, head_dim]"
   ]
  },
  {
   "cell_type": "code",
   "execution_count": 118,
   "metadata": {
    "execution": {
     "iopub.execute_input": "2022-03-11T12:57:39.502771Z",
     "iopub.status.busy": "2022-03-11T12:57:39.502632Z",
     "iopub.status.idle": "2022-03-11T12:57:39.505791Z",
     "shell.execute_reply": "2022-03-11T12:57:39.505382Z",
     "shell.execute_reply.started": "2022-03-11T12:57:39.502758Z"
    },
    "tags": []
   },
   "outputs": [],
   "source": [
    "decoder_contextulaized_embeddings_m1 = decoder_contextulaized_embeddings_m1.permute(0, 2, 1, 3)\n",
    "# [batch_size, query_len, number_of_heads, head_dim]"
   ]
  },
  {
   "cell_type": "code",
   "execution_count": 119,
   "metadata": {
    "execution": {
     "iopub.execute_input": "2022-03-11T12:57:40.248152Z",
     "iopub.status.busy": "2022-03-11T12:57:40.248010Z",
     "iopub.status.idle": "2022-03-11T12:57:40.251014Z",
     "shell.execute_reply": "2022-03-11T12:57:40.250622Z",
     "shell.execute_reply.started": "2022-03-11T12:57:40.248138Z"
    },
    "tags": []
   },
   "outputs": [
    {
     "data": {
      "text/plain": [
       "torch.Size([2, 14, 2, 4])"
      ]
     },
     "execution_count": 119,
     "metadata": {},
     "output_type": "execute_result"
    }
   ],
   "source": [
    "decoder_contextulaized_embeddings_m1.shape"
   ]
  },
  {
   "cell_type": "code",
   "execution_count": 120,
   "metadata": {
    "execution": {
     "iopub.execute_input": "2022-03-11T12:57:44.633252Z",
     "iopub.status.busy": "2022-03-11T12:57:44.633111Z",
     "iopub.status.idle": "2022-03-11T12:57:44.636018Z",
     "shell.execute_reply": "2022-03-11T12:57:44.635689Z",
     "shell.execute_reply.started": "2022-03-11T12:57:44.633238Z"
    },
    "tags": []
   },
   "outputs": [],
   "source": [
    "decoder_contextulaized_embeddings_m1 = decoder_contextulaized_embeddings_m1.reshape(batch_size, -1, out_hid_dim)"
   ]
  },
  {
   "cell_type": "code",
   "execution_count": 121,
   "metadata": {
    "execution": {
     "iopub.execute_input": "2022-03-11T12:57:45.100172Z",
     "iopub.status.busy": "2022-03-11T12:57:45.100046Z",
     "iopub.status.idle": "2022-03-11T12:57:45.102880Z",
     "shell.execute_reply": "2022-03-11T12:57:45.102572Z",
     "shell.execute_reply.started": "2022-03-11T12:57:45.100158Z"
    },
    "tags": []
   },
   "outputs": [
    {
     "data": {
      "text/plain": [
       "torch.Size([2, 14, 8])"
      ]
     },
     "execution_count": 121,
     "metadata": {},
     "output_type": "execute_result"
    }
   ],
   "source": [
    "decoder_contextulaized_embeddings_m1.shape\n",
    "#[batch_size, seq_len, out_hid_dim]"
   ]
  },
  {
   "cell_type": "markdown",
   "metadata": {},
   "source": [
    "<font size = 3, color = 'green'>We need to project the final values to have same shape as  input embedding. To accomplish this we will use fc_o linear layer we created earlier."
   ]
  },
  {
   "cell_type": "code",
   "execution_count": 122,
   "metadata": {
    "execution": {
     "iopub.execute_input": "2022-03-11T12:57:50.456269Z",
     "iopub.status.busy": "2022-03-11T12:57:50.456008Z",
     "iopub.status.idle": "2022-03-11T12:57:50.458516Z",
     "shell.execute_reply": "2022-03-11T12:57:50.458091Z",
     "shell.execute_reply.started": "2022-03-11T12:57:50.456254Z"
    },
    "tags": []
   },
   "outputs": [],
   "source": [
    "decoder_contextulaized_embeddings_m1 = fc_o(decoder_contextulaized_embeddings_m1)"
   ]
  },
  {
   "cell_type": "code",
   "execution_count": 123,
   "metadata": {
    "execution": {
     "iopub.execute_input": "2022-03-11T12:57:50.956770Z",
     "iopub.status.busy": "2022-03-11T12:57:50.956332Z",
     "iopub.status.idle": "2022-03-11T12:57:50.959963Z",
     "shell.execute_reply": "2022-03-11T12:57:50.959527Z",
     "shell.execute_reply.started": "2022-03-11T12:57:50.956753Z"
    },
    "tags": []
   },
   "outputs": [
    {
     "data": {
      "text/plain": [
       "torch.Size([2, 14, 8])"
      ]
     },
     "execution_count": 123,
     "metadata": {},
     "output_type": "execute_result"
    }
   ],
   "source": [
    "decoder_contextulaized_embeddings_m1.shape\n",
    "#[batch_size, seq_len, hid_dim]"
   ]
  },
  {
   "cell_type": "markdown",
   "metadata": {},
   "source": [
    "#### <font size = 4, color = 'blue'>**Compare results with PyTorch Layer**</font><br>"
   ]
  },
  {
   "cell_type": "code",
   "execution_count": 124,
   "metadata": {
    "execution": {
     "iopub.execute_input": "2022-03-11T12:57:55.681254Z",
     "iopub.status.busy": "2022-03-11T12:57:55.681111Z",
     "iopub.status.idle": "2022-03-11T12:57:55.685362Z",
     "shell.execute_reply": "2022-03-11T12:57:55.685081Z",
     "shell.execute_reply.started": "2022-03-11T12:57:55.681241Z"
    },
    "tags": []
   },
   "outputs": [
    {
     "data": {
      "text/plain": [
       "tensor([ 1.7619, -1.3666, -3.5892,  0.2569,  4.2740,  2.1638, -0.2373, -2.3390],\n",
       "       device='cuda:0', grad_fn=<SliceBackward0>)"
      ]
     },
     "execution_count": 124,
     "metadata": {},
     "output_type": "execute_result"
    }
   ],
   "source": [
    "decoder_contextulaized_embeddings_m1[1,9,:]"
   ]
  },
  {
   "cell_type": "code",
   "execution_count": 125,
   "metadata": {
    "execution": {
     "iopub.execute_input": "2022-03-11T12:57:56.874774Z",
     "iopub.status.busy": "2022-03-11T12:57:56.874633Z",
     "iopub.status.idle": "2022-03-11T12:57:56.878353Z",
     "shell.execute_reply": "2022-03-11T12:57:56.878117Z",
     "shell.execute_reply.started": "2022-03-11T12:57:56.874760Z"
    },
    "tags": []
   },
   "outputs": [
    {
     "data": {
      "text/plain": [
       "tensor([ 1.7619, -1.3666, -3.5892,  0.2569,  4.2740,  2.1638, -0.2373, -2.3390],\n",
       "       device='cuda:0', grad_fn=<SliceBackward0>)"
      ]
     },
     "execution_count": 125,
     "metadata": {},
     "output_type": "execute_result"
    }
   ],
   "source": [
    "decoder_contextulaized_embeddings[1,9,:]"
   ]
  },
  {
   "cell_type": "code",
   "execution_count": 126,
   "metadata": {
    "execution": {
     "iopub.execute_input": "2022-03-11T12:57:58.705346Z",
     "iopub.status.busy": "2022-03-11T12:57:58.705207Z",
     "iopub.status.idle": "2022-03-11T12:57:58.709237Z",
     "shell.execute_reply": "2022-03-11T12:57:58.708938Z",
     "shell.execute_reply.started": "2022-03-11T12:57:58.705332Z"
    },
    "tags": []
   },
   "outputs": [
    {
     "data": {
      "text/plain": [
       "tensor([3.7179e-02, 4.1577e-04, 2.3379e-02, 1.2573e-01, 2.5657e-04, 7.4071e-03,\n",
       "        4.0060e-03, 1.4204e-03, 1.7374e-05, 1.6990e-05, 3.6617e-01, 4.3400e-01],\n",
       "       device='cuda:0', grad_fn=<SliceBackward0>)"
      ]
     },
     "execution_count": 126,
     "metadata": {},
     "output_type": "execute_result"
    }
   ],
   "source": [
    "decoder_self_attention_probs[0,5,:]"
   ]
  },
  {
   "cell_type": "code",
   "execution_count": 127,
   "metadata": {
    "execution": {
     "iopub.execute_input": "2022-03-11T12:57:59.514399Z",
     "iopub.status.busy": "2022-03-11T12:57:59.514261Z",
     "iopub.status.idle": "2022-03-11T12:57:59.518232Z",
     "shell.execute_reply": "2022-03-11T12:57:59.517978Z",
     "shell.execute_reply.started": "2022-03-11T12:57:59.514385Z"
    },
    "tags": []
   },
   "outputs": [
    {
     "data": {
      "text/plain": [
       "tensor([3.7179e-02, 4.1577e-04, 2.3379e-02, 1.2573e-01, 2.5657e-04, 7.4071e-03,\n",
       "        4.0060e-03, 1.4204e-03, 1.7374e-05, 1.6990e-05, 3.6617e-01, 4.3400e-01],\n",
       "       device='cuda:0', grad_fn=<SliceBackward0>)"
      ]
     },
     "execution_count": 127,
     "metadata": {},
     "output_type": "execute_result"
    }
   ],
   "source": [
    "attention_prob_after_dropout_mean[0,5,:]"
   ]
  },
  {
   "cell_type": "markdown",
   "metadata": {
    "execution": {
     "iopub.execute_input": "2022-03-11T01:48:18.854529Z",
     "iopub.status.busy": "2022-03-11T01:48:18.854387Z",
     "iopub.status.idle": "2022-03-11T01:48:18.856887Z",
     "shell.execute_reply": "2022-03-11T01:48:18.856602Z",
     "shell.execute_reply.started": "2022-03-11T01:48:18.854515Z"
    }
   },
   "source": [
    "### <font color = 'blue'> Method 2 - Self Attention- Without Using nn.MultiheadAttention"
   ]
  },
  {
   "cell_type": "markdown",
   "metadata": {},
   "source": [
    "#### <font color = 'blue'> Manually initialize Weights and biases "
   ]
  },
  {
   "cell_type": "code",
   "execution_count": 129,
   "metadata": {
    "execution": {
     "iopub.execute_input": "2022-03-11T12:58:54.121674Z",
     "iopub.status.busy": "2022-03-11T12:58:54.121468Z",
     "iopub.status.idle": "2022-03-11T12:58:54.144413Z",
     "shell.execute_reply": "2022-03-11T12:58:54.144147Z",
     "shell.execute_reply.started": "2022-03-11T12:58:54.121660Z"
    },
    "tags": []
   },
   "outputs": [
    {
     "name": "stdout",
     "output_type": "stream",
     "text": [
      "tensor([[ 0.3763,  0.2778, -0.4188, -0.2694,  0.3997, -0.3953, -0.0130,  0.2440],\n",
      "        [-0.0283, -0.1411, -0.3400,  0.3003, -0.2023, -0.0332, -0.2203,  0.1427],\n",
      "        [ 0.3561, -0.2301,  0.2985, -0.2054, -0.4158, -0.2433, -0.1752, -0.0005],\n",
      "        [ 0.2562, -0.1277,  0.1224,  0.3388,  0.3865, -0.1923, -0.1799, -0.2100],\n",
      "        [ 0.0457,  0.4024,  0.0755,  0.0069,  0.0560, -0.3103, -0.3071,  0.2443],\n",
      "        [ 0.2494,  0.2909, -0.3317, -0.2078,  0.1968, -0.2872,  0.1729, -0.1140],\n",
      "        [ 0.0898, -0.2116, -0.1195,  0.0113, -0.3267, -0.2988, -0.2241,  0.2493],\n",
      "        [ 0.0304, -0.0666,  0.0263, -0.0798, -0.3771, -0.0504, -0.3882,  0.3941]],\n",
      "       device='cuda:0')\n",
      "tensor([0., 0., 0., 0., 0., 0., 0., 0.], device='cuda:0')\n"
     ]
    }
   ],
   "source": [
    "Wq = enc_dec_attnetion_layer.in_proj_weight.data[0:8,:]\n",
    "bq = enc_dec_attnetion_layer.in_proj_bias.data[0:8]\n",
    "print(Wq)\n",
    "print(bq)"
   ]
  },
  {
   "cell_type": "code",
   "execution_count": 130,
   "metadata": {
    "execution": {
     "iopub.execute_input": "2022-03-11T12:59:10.571018Z",
     "iopub.status.busy": "2022-03-11T12:59:10.570878Z",
     "iopub.status.idle": "2022-03-11T12:59:10.580578Z",
     "shell.execute_reply": "2022-03-11T12:59:10.580312Z",
     "shell.execute_reply.started": "2022-03-11T12:59:10.571004Z"
    },
    "tags": []
   },
   "outputs": [
    {
     "name": "stdout",
     "output_type": "stream",
     "text": [
      "tensor([[-0.2509,  0.3624, -0.4034, -0.2466, -0.4142,  0.3088, -0.0350,  0.1387],\n",
      "        [-0.4063, -0.2667, -0.3524,  0.0971,  0.2161,  0.0450, -0.4052,  0.3519],\n",
      "        [-0.3766,  0.3414,  0.0444,  0.2520,  0.1527, -0.3914,  0.2546, -0.2493],\n",
      "        [-0.2519, -0.2988, -0.2055,  0.3408,  0.1452, -0.2501,  0.3149,  0.3838],\n",
      "        [ 0.0048, -0.1765,  0.2560, -0.0106, -0.2261,  0.1781,  0.0745,  0.2857],\n",
      "        [-0.0765,  0.2502,  0.2493,  0.0801, -0.1353, -0.1036,  0.1332,  0.2318],\n",
      "        [ 0.4233,  0.3586, -0.2676, -0.2466, -0.1674,  0.3708, -0.0955,  0.0112],\n",
      "        [-0.1462, -0.2138, -0.1292,  0.3666,  0.3280,  0.2984, -0.1094, -0.2439]],\n",
      "       device='cuda:0')\n",
      "tensor([0., 0., 0., 0., 0., 0., 0., 0.], device='cuda:0')\n"
     ]
    }
   ],
   "source": [
    "Wk = enc_dec_attnetion_layer.in_proj_weight.data[8:16,:]\n",
    "bk = enc_dec_attnetion_layer.in_proj_bias.data[8:16]\n",
    "print(Wk)\n",
    "print(bk)"
   ]
  },
  {
   "cell_type": "code",
   "execution_count": 131,
   "metadata": {
    "execution": {
     "iopub.execute_input": "2022-03-11T12:59:25.838158Z",
     "iopub.status.busy": "2022-03-11T12:59:25.838012Z",
     "iopub.status.idle": "2022-03-11T12:59:25.842838Z",
     "shell.execute_reply": "2022-03-11T12:59:25.842512Z",
     "shell.execute_reply.started": "2022-03-11T12:59:25.838143Z"
    },
    "tags": []
   },
   "outputs": [
    {
     "name": "stdout",
     "output_type": "stream",
     "text": [
      "tensor([[ 0.4032,  0.2661, -0.0876, -0.4138, -0.1970,  0.0984,  0.3258,  0.0302],\n",
      "        [ 0.0678, -0.0233, -0.3942, -0.3782,  0.0286, -0.1126,  0.0703,  0.4220],\n",
      "        [-0.3806,  0.1810,  0.1914,  0.2954,  0.0498, -0.3115,  0.3695,  0.1538],\n",
      "        [-0.4105,  0.2072,  0.1600, -0.1192,  0.1370,  0.2916, -0.2625, -0.3464],\n",
      "        [ 0.4321,  0.1024,  0.0788,  0.2816, -0.0996, -0.4232,  0.3214,  0.1239],\n",
      "        [-0.3858, -0.3703,  0.3832, -0.1266, -0.1693,  0.1821,  0.1343, -0.1489],\n",
      "        [ 0.1633,  0.1020,  0.2901, -0.3135, -0.2798,  0.2624,  0.0754, -0.0908],\n",
      "        [-0.1181, -0.3744,  0.3527,  0.2048, -0.3104, -0.2376,  0.2671, -0.3707]],\n",
      "       device='cuda:0')\n",
      "tensor([0., 0., 0., 0., 0., 0., 0., 0.], device='cuda:0')\n"
     ]
    }
   ],
   "source": [
    "Wv = enc_dec_attnetion_layer.in_proj_weight.data[16:,:]\n",
    "bv = enc_dec_attnetion_layer.in_proj_bias.data[16:]\n",
    "print(Wv)\n",
    "print(bv)"
   ]
  },
  {
   "cell_type": "code",
   "execution_count": 132,
   "metadata": {
    "execution": {
     "iopub.execute_input": "2022-03-11T12:59:39.837107Z",
     "iopub.status.busy": "2022-03-11T12:59:39.836965Z",
     "iopub.status.idle": "2022-03-11T12:59:39.841844Z",
     "shell.execute_reply": "2022-03-11T12:59:39.841527Z",
     "shell.execute_reply.started": "2022-03-11T12:59:39.837094Z"
    },
    "tags": []
   },
   "outputs": [
    {
     "name": "stdout",
     "output_type": "stream",
     "text": [
      "tensor([[-0.3398,  0.1933,  0.2581,  0.2190,  0.1178, -0.0953, -0.0964,  0.0481],\n",
      "        [-0.1671,  0.1613, -0.3391,  0.1987, -0.2557,  0.2815, -0.2839, -0.3338],\n",
      "        [ 0.3252,  0.2891, -0.2454,  0.1039, -0.0680,  0.1597, -0.1212, -0.1963],\n",
      "        [-0.1580, -0.2998, -0.0987, -0.1872,  0.0870,  0.2023,  0.2119, -0.2741],\n",
      "        [-0.1120, -0.3063, -0.0368, -0.2990,  0.1855,  0.1990, -0.2176,  0.3324],\n",
      "        [-0.1558, -0.0212, -0.0969,  0.1274, -0.2628,  0.1756,  0.1212,  0.2329],\n",
      "        [-0.2689, -0.0370,  0.0462, -0.2464, -0.0516, -0.2242,  0.0455, -0.0850],\n",
      "        [-0.0727, -0.0087, -0.1862,  0.0398, -0.0506, -0.2583,  0.1757, -0.1860]],\n",
      "       device='cuda:0')\n",
      "tensor([0., 0., 0., 0., 0., 0., 0., 0.], device='cuda:0')\n"
     ]
    }
   ],
   "source": [
    "Wo = enc_dec_attnetion_layer.out_proj.weight.data\n",
    "bo = enc_dec_attnetion_layer.out_proj.bias.data\n",
    "print(Wo)\n",
    "print(bo)"
   ]
  },
  {
   "cell_type": "markdown",
   "metadata": {},
   "source": [
    "#### <font color = 'blue'> **Generate queries, keys and values**"
   ]
  },
  {
   "cell_type": "markdown",
   "metadata": {},
   "source": [
    "<font size =3, color = 'green'> Here the queries will be generated based on decoder input whereas keys and values are generated based on encoder input. Target should pay attention to words in source."
   ]
  },
  {
   "cell_type": "code",
   "execution_count": 133,
   "metadata": {
    "execution": {
     "iopub.execute_input": "2022-03-11T13:06:49.267572Z",
     "iopub.status.busy": "2022-03-11T13:06:49.267425Z",
     "iopub.status.idle": "2022-03-11T13:06:49.285919Z",
     "shell.execute_reply": "2022-03-11T13:06:49.285427Z",
     "shell.execute_reply.started": "2022-03-11T13:06:49.267558Z"
    },
    "tags": []
   },
   "outputs": [],
   "source": [
    "Q2 = decoder_input_after_dropout.matmul(Wq.T)  + bq\n",
    "K2 = encoder_input_after_dropout.matmul(Wk.T)  + bk\n",
    "V2 = encoder_input_after_dropout.matmul(Wv.T)  + bv"
   ]
  },
  {
   "cell_type": "code",
   "execution_count": 134,
   "metadata": {
    "execution": {
     "iopub.execute_input": "2022-03-11T13:06:50.900654Z",
     "iopub.status.busy": "2022-03-11T13:06:50.900513Z",
     "iopub.status.idle": "2022-03-11T13:06:50.904083Z",
     "shell.execute_reply": "2022-03-11T13:06:50.903769Z",
     "shell.execute_reply.started": "2022-03-11T13:06:50.900640Z"
    },
    "tags": []
   },
   "outputs": [
    {
     "data": {
      "text/plain": [
       "torch.Size([2, 14, 8])"
      ]
     },
     "execution_count": 134,
     "metadata": {},
     "output_type": "execute_result"
    }
   ],
   "source": [
    "Q2.shape"
   ]
  },
  {
   "cell_type": "code",
   "execution_count": 135,
   "metadata": {
    "execution": {
     "iopub.execute_input": "2022-03-11T13:06:52.310865Z",
     "iopub.status.busy": "2022-03-11T13:06:52.310691Z",
     "iopub.status.idle": "2022-03-11T13:06:52.314105Z",
     "shell.execute_reply": "2022-03-11T13:06:52.313663Z",
     "shell.execute_reply.started": "2022-03-11T13:06:52.310850Z"
    },
    "tags": []
   },
   "outputs": [
    {
     "name": "stdout",
     "output_type": "stream",
     "text": [
      "4\n"
     ]
    }
   ],
   "source": [
    "n_heads = 2\n",
    "head_dim = out_hid_dim // n_heads\n",
    "print(head_dim)"
   ]
  },
  {
   "cell_type": "code",
   "execution_count": 136,
   "metadata": {
    "execution": {
     "iopub.execute_input": "2022-03-11T13:06:53.554639Z",
     "iopub.status.busy": "2022-03-11T13:06:53.554496Z",
     "iopub.status.idle": "2022-03-11T13:06:53.557053Z",
     "shell.execute_reply": "2022-03-11T13:06:53.556709Z",
     "shell.execute_reply.started": "2022-03-11T13:06:53.554624Z"
    },
    "tags": []
   },
   "outputs": [],
   "source": [
    "assert out_hid_dim % n_heads == 0"
   ]
  },
  {
   "cell_type": "code",
   "execution_count": 137,
   "metadata": {
    "execution": {
     "iopub.execute_input": "2022-03-11T13:06:53.973928Z",
     "iopub.status.busy": "2022-03-11T13:06:53.973417Z",
     "iopub.status.idle": "2022-03-11T13:06:53.976762Z",
     "shell.execute_reply": "2022-03-11T13:06:53.976434Z",
     "shell.execute_reply.started": "2022-03-11T13:06:53.973911Z"
    },
    "tags": []
   },
   "outputs": [],
   "source": [
    "Q2 = Q2.view(batch_size, -1, n_heads, head_dim)\n",
    "K2 = K2.view(batch_size, -1, n_heads, head_dim)\n",
    "V2 = V2.view(batch_size, -1, n_heads, head_dim)"
   ]
  },
  {
   "cell_type": "code",
   "execution_count": 138,
   "metadata": {
    "execution": {
     "iopub.execute_input": "2022-03-11T13:06:54.547278Z",
     "iopub.status.busy": "2022-03-11T13:06:54.547136Z",
     "iopub.status.idle": "2022-03-11T13:06:54.550181Z",
     "shell.execute_reply": "2022-03-11T13:06:54.549896Z",
     "shell.execute_reply.started": "2022-03-11T13:06:54.547264Z"
    },
    "tags": []
   },
   "outputs": [
    {
     "data": {
      "text/plain": [
       "torch.Size([2, 14, 2, 4])"
      ]
     },
     "execution_count": 138,
     "metadata": {},
     "output_type": "execute_result"
    }
   ],
   "source": [
    "Q2.shape\n",
    "#[batch_size, query_len, n_heads, head_dim]"
   ]
  },
  {
   "cell_type": "code",
   "execution_count": 139,
   "metadata": {
    "execution": {
     "iopub.execute_input": "2022-03-11T13:06:55.609116Z",
     "iopub.status.busy": "2022-03-11T13:06:55.608858Z",
     "iopub.status.idle": "2022-03-11T13:06:55.612076Z",
     "shell.execute_reply": "2022-03-11T13:06:55.611612Z",
     "shell.execute_reply.started": "2022-03-11T13:06:55.609100Z"
    },
    "tags": []
   },
   "outputs": [],
   "source": [
    "Q2 = Q2.permute(0, 2, 1, 3)\n",
    "K2 = K2.permute(0, 2, 1, 3)\n",
    "V2 = V2.permute(0, 2, 1, 3)"
   ]
  },
  {
   "cell_type": "code",
   "execution_count": 140,
   "metadata": {
    "execution": {
     "iopub.execute_input": "2022-03-11T13:06:55.991560Z",
     "iopub.status.busy": "2022-03-11T13:06:55.991067Z",
     "iopub.status.idle": "2022-03-11T13:06:55.994453Z",
     "shell.execute_reply": "2022-03-11T13:06:55.994098Z",
     "shell.execute_reply.started": "2022-03-11T13:06:55.991544Z"
    },
    "tags": []
   },
   "outputs": [
    {
     "data": {
      "text/plain": [
       "torch.Size([2, 2, 14, 4])"
      ]
     },
     "execution_count": 140,
     "metadata": {},
     "output_type": "execute_result"
    }
   ],
   "source": [
    "Q2.shape\n",
    "#[batch_size,num_heads, query_len, head_dim ]"
   ]
  },
  {
   "cell_type": "code",
   "execution_count": 141,
   "metadata": {
    "execution": {
     "iopub.execute_input": "2022-03-11T13:06:56.361148Z",
     "iopub.status.busy": "2022-03-11T13:06:56.360966Z",
     "iopub.status.idle": "2022-03-11T13:06:56.364362Z",
     "shell.execute_reply": "2022-03-11T13:06:56.363925Z",
     "shell.execute_reply.started": "2022-03-11T13:06:56.361114Z"
    },
    "tags": []
   },
   "outputs": [
    {
     "data": {
      "text/plain": [
       "torch.Size([2, 2, 12, 4])"
      ]
     },
     "execution_count": 141,
     "metadata": {},
     "output_type": "execute_result"
    }
   ],
   "source": [
    "K2.shape\n",
    "#[batch_size,num_heads, key_len, head_dim ]"
   ]
  },
  {
   "cell_type": "code",
   "execution_count": 142,
   "metadata": {
    "execution": {
     "iopub.execute_input": "2022-03-11T13:06:59.945910Z",
     "iopub.status.busy": "2022-03-11T13:06:59.945770Z",
     "iopub.status.idle": "2022-03-11T13:06:59.949713Z",
     "shell.execute_reply": "2022-03-11T13:06:59.949408Z",
     "shell.execute_reply.started": "2022-03-11T13:06:59.945896Z"
    },
    "tags": []
   },
   "outputs": [
    {
     "data": {
      "text/plain": [
       "tensor([ 2.6609,  1.3068, -0.7045,  0.5076], device='cuda:0',\n",
       "       grad_fn=<SliceBackward0>)"
      ]
     },
     "execution_count": 142,
     "metadata": {},
     "output_type": "execute_result"
    }
   ],
   "source": [
    "Q[1,1,5,:]"
   ]
  },
  {
   "cell_type": "code",
   "execution_count": 143,
   "metadata": {
    "execution": {
     "iopub.execute_input": "2022-03-11T13:07:00.395208Z",
     "iopub.status.busy": "2022-03-11T13:07:00.395068Z",
     "iopub.status.idle": "2022-03-11T13:07:00.399467Z",
     "shell.execute_reply": "2022-03-11T13:07:00.399007Z",
     "shell.execute_reply.started": "2022-03-11T13:07:00.395195Z"
    },
    "tags": []
   },
   "outputs": [
    {
     "data": {
      "text/plain": [
       "tensor([ 2.6609,  1.3068, -0.7045,  0.5076], device='cuda:0',\n",
       "       grad_fn=<SliceBackward0>)"
      ]
     },
     "execution_count": 143,
     "metadata": {},
     "output_type": "execute_result"
    }
   ],
   "source": [
    "Q2[1,1,5,:]"
   ]
  },
  {
   "cell_type": "code",
   "execution_count": 144,
   "metadata": {
    "execution": {
     "iopub.execute_input": "2022-03-11T13:07:00.836935Z",
     "iopub.status.busy": "2022-03-11T13:07:00.836677Z",
     "iopub.status.idle": "2022-03-11T13:07:00.840415Z",
     "shell.execute_reply": "2022-03-11T13:07:00.840172Z",
     "shell.execute_reply.started": "2022-03-11T13:07:00.836919Z"
    },
    "tags": []
   },
   "outputs": [
    {
     "data": {
      "text/plain": [
       "tensor([-2.1791, -1.3406,  1.1957,  1.0938], device='cuda:0',\n",
       "       grad_fn=<SliceBackward0>)"
      ]
     },
     "execution_count": 144,
     "metadata": {},
     "output_type": "execute_result"
    }
   ],
   "source": [
    "K[1,1,5,:]"
   ]
  },
  {
   "cell_type": "code",
   "execution_count": 145,
   "metadata": {
    "execution": {
     "iopub.execute_input": "2022-03-11T13:07:01.269436Z",
     "iopub.status.busy": "2022-03-11T13:07:01.269082Z",
     "iopub.status.idle": "2022-03-11T13:07:01.273842Z",
     "shell.execute_reply": "2022-03-11T13:07:01.273518Z",
     "shell.execute_reply.started": "2022-03-11T13:07:01.269419Z"
    },
    "tags": []
   },
   "outputs": [
    {
     "data": {
      "text/plain": [
       "tensor([-2.1791, -1.3406,  1.1957,  1.0938], device='cuda:0',\n",
       "       grad_fn=<SliceBackward0>)"
      ]
     },
     "execution_count": 145,
     "metadata": {},
     "output_type": "execute_result"
    }
   ],
   "source": [
    "K2[1,1,5,:]"
   ]
  },
  {
   "cell_type": "code",
   "execution_count": 146,
   "metadata": {
    "execution": {
     "iopub.execute_input": "2022-03-11T13:07:02.075423Z",
     "iopub.status.busy": "2022-03-11T13:07:02.075280Z",
     "iopub.status.idle": "2022-03-11T13:07:02.079148Z",
     "shell.execute_reply": "2022-03-11T13:07:02.078893Z",
     "shell.execute_reply.started": "2022-03-11T13:07:02.075409Z"
    },
    "tags": []
   },
   "outputs": [
    {
     "data": {
      "text/plain": [
       "tensor([-0.5218, -0.3120,  0.7041,  1.2420], device='cuda:0',\n",
       "       grad_fn=<SliceBackward0>)"
      ]
     },
     "execution_count": 146,
     "metadata": {},
     "output_type": "execute_result"
    }
   ],
   "source": [
    "V[1,1,5,:]"
   ]
  },
  {
   "cell_type": "code",
   "execution_count": 147,
   "metadata": {
    "execution": {
     "iopub.execute_input": "2022-03-11T13:07:03.079760Z",
     "iopub.status.busy": "2022-03-11T13:07:03.079621Z",
     "iopub.status.idle": "2022-03-11T13:07:03.083356Z",
     "shell.execute_reply": "2022-03-11T13:07:03.083112Z",
     "shell.execute_reply.started": "2022-03-11T13:07:03.079746Z"
    },
    "tags": []
   },
   "outputs": [
    {
     "data": {
      "text/plain": [
       "tensor([-0.5218, -0.3120,  0.7041,  1.2420], device='cuda:0',\n",
       "       grad_fn=<SliceBackward0>)"
      ]
     },
     "execution_count": 147,
     "metadata": {},
     "output_type": "execute_result"
    }
   ],
   "source": [
    "V2[1,1,5,:]"
   ]
  },
  {
   "cell_type": "markdown",
   "metadata": {},
   "source": [
    "#### <font color = 'blue'> **Scaled dot product of Queries and Keys**</font>"
   ]
  },
  {
   "cell_type": "code",
   "execution_count": 148,
   "metadata": {
    "execution": {
     "iopub.execute_input": "2022-03-11T13:07:08.145149Z",
     "iopub.status.busy": "2022-03-11T13:07:08.145010Z",
     "iopub.status.idle": "2022-03-11T13:07:08.148516Z",
     "shell.execute_reply": "2022-03-11T13:07:08.147876Z",
     "shell.execute_reply.started": "2022-03-11T13:07:08.145135Z"
    },
    "tags": []
   },
   "outputs": [],
   "source": [
    "scale = torch.sqrt(torch.FloatTensor([head_dim])).to(device)"
   ]
  },
  {
   "cell_type": "code",
   "execution_count": 149,
   "metadata": {
    "execution": {
     "iopub.execute_input": "2022-03-11T13:07:09.250187Z",
     "iopub.status.busy": "2022-03-11T13:07:09.250050Z",
     "iopub.status.idle": "2022-03-11T13:07:09.252973Z",
     "shell.execute_reply": "2022-03-11T13:07:09.252619Z",
     "shell.execute_reply.started": "2022-03-11T13:07:09.250175Z"
    },
    "tags": []
   },
   "outputs": [],
   "source": [
    "energy2 = torch.matmul(Q2, K2.permute(0, 1, 3, 2)) / scale"
   ]
  },
  {
   "cell_type": "code",
   "execution_count": 150,
   "metadata": {
    "execution": {
     "iopub.execute_input": "2022-03-11T13:07:10.940464Z",
     "iopub.status.busy": "2022-03-11T13:07:10.940327Z",
     "iopub.status.idle": "2022-03-11T13:07:10.943227Z",
     "shell.execute_reply": "2022-03-11T13:07:10.942976Z",
     "shell.execute_reply.started": "2022-03-11T13:07:10.940451Z"
    },
    "tags": []
   },
   "outputs": [
    {
     "data": {
      "text/plain": [
       "torch.Size([2, 2, 14, 12])"
      ]
     },
     "execution_count": 150,
     "metadata": {},
     "output_type": "execute_result"
    }
   ],
   "source": [
    "energy2.shape\n",
    "#[batch_size, num_heads, query_len, key_len]"
   ]
  },
  {
   "cell_type": "code",
   "execution_count": 151,
   "metadata": {
    "execution": {
     "iopub.execute_input": "2022-03-11T13:07:11.427637Z",
     "iopub.status.busy": "2022-03-11T13:07:11.427450Z",
     "iopub.status.idle": "2022-03-11T13:07:11.431522Z",
     "shell.execute_reply": "2022-03-11T13:07:11.431242Z",
     "shell.execute_reply.started": "2022-03-11T13:07:11.427622Z"
    },
    "tags": []
   },
   "outputs": [
    {
     "data": {
      "text/plain": [
       "tensor([ 0.3080,  1.7470,  7.0328, -2.4411,  2.0112, -3.9187, -0.0461,  2.8605,\n",
       "        -0.3626,  6.3214, -1.4837, -3.2299], device='cuda:0',\n",
       "       grad_fn=<SliceBackward0>)"
      ]
     },
     "execution_count": 151,
     "metadata": {},
     "output_type": "execute_result"
    }
   ],
   "source": [
    "energy[1,1,5,:]"
   ]
  },
  {
   "cell_type": "code",
   "execution_count": 152,
   "metadata": {
    "execution": {
     "iopub.execute_input": "2022-03-11T13:07:11.931145Z",
     "iopub.status.busy": "2022-03-11T13:07:11.930974Z",
     "iopub.status.idle": "2022-03-11T13:07:11.935031Z",
     "shell.execute_reply": "2022-03-11T13:07:11.934744Z",
     "shell.execute_reply.started": "2022-03-11T13:07:11.931118Z"
    },
    "tags": []
   },
   "outputs": [
    {
     "data": {
      "text/plain": [
       "tensor([ 0.3080,  1.7470,  7.0328, -2.4411,  2.0112, -3.9187, -0.0461,  2.8605,\n",
       "        -0.3626,  6.3214, -1.4837, -3.2299], device='cuda:0',\n",
       "       grad_fn=<SliceBackward0>)"
      ]
     },
     "execution_count": 152,
     "metadata": {},
     "output_type": "execute_result"
    }
   ],
   "source": [
    "energy2[1,1,5,:]"
   ]
  },
  {
   "cell_type": "markdown",
   "metadata": {
    "execution": {
     "iopub.execute_input": "2022-03-06T06:32:28.398682Z",
     "iopub.status.busy": "2022-03-06T06:32:28.398556Z",
     "iopub.status.idle": "2022-03-06T06:32:28.401868Z",
     "shell.execute_reply": "2022-03-06T06:32:28.401405Z",
     "shell.execute_reply.started": "2022-03-06T06:32:28.398668Z"
    }
   },
   "source": [
    "#### <font color = 'blue'> **Apply mask to output of Q, K dot product**</font><br>\n",
    "<font color = 'green'>**We do not want tokens to pay attention to pad tokens**</font>"
   ]
  },
  {
   "cell_type": "code",
   "execution_count": 155,
   "metadata": {
    "execution": {
     "iopub.execute_input": "2022-03-11T13:07:49.117944Z",
     "iopub.status.busy": "2022-03-11T13:07:49.117802Z",
     "iopub.status.idle": "2022-03-11T13:07:49.121373Z",
     "shell.execute_reply": "2022-03-11T13:07:49.121127Z",
     "shell.execute_reply.started": "2022-03-11T13:07:49.117931Z"
    },
    "tags": []
   },
   "outputs": [
    {
     "data": {
      "text/plain": [
       "tensor([[ 1, 22, 24, 25, 26, 12, 22, 27, 28, 29, 17,  2],\n",
       "        [ 1, 18,  7, 19, 20, 21, 22, 23, 17,  2,  3,  3]])"
      ]
     },
     "execution_count": 155,
     "metadata": {},
     "output_type": "execute_result"
    }
   ],
   "source": [
    "mask_input2 = source.clone()\n",
    "mask_input2"
   ]
  },
  {
   "cell_type": "code",
   "execution_count": 156,
   "metadata": {
    "execution": {
     "iopub.execute_input": "2022-03-11T13:07:49.658217Z",
     "iopub.status.busy": "2022-03-11T13:07:49.658066Z",
     "iopub.status.idle": "2022-03-11T13:07:49.661094Z",
     "shell.execute_reply": "2022-03-11T13:07:49.660851Z",
     "shell.execute_reply.started": "2022-03-11T13:07:49.658203Z"
    },
    "tags": []
   },
   "outputs": [
    {
     "data": {
      "text/plain": [
       "3"
      ]
     },
     "execution_count": 156,
     "metadata": {},
     "output_type": "execute_result"
    }
   ],
   "source": [
    "SRC_PAD_IDX = source_vocab['<PAD>']\n",
    "SRC_PAD_IDX"
   ]
  },
  {
   "cell_type": "code",
   "execution_count": 157,
   "metadata": {
    "execution": {
     "iopub.execute_input": "2022-03-11T13:08:06.153743Z",
     "iopub.status.busy": "2022-03-11T13:08:06.153475Z",
     "iopub.status.idle": "2022-03-11T13:08:06.156883Z",
     "shell.execute_reply": "2022-03-11T13:08:06.156638Z",
     "shell.execute_reply.started": "2022-03-11T13:08:06.153726Z"
    },
    "tags": []
   },
   "outputs": [
    {
     "data": {
      "text/plain": [
       "tensor([[ True,  True,  True,  True,  True,  True,  True,  True,  True,  True,\n",
       "          True,  True],\n",
       "        [ True,  True,  True,  True,  True,  True,  True,  True,  True,  True,\n",
       "         False, False]])"
      ]
     },
     "execution_count": 157,
     "metadata": {},
     "output_type": "execute_result"
    }
   ],
   "source": [
    "src_pad_mask2 = (mask_input2!= SRC_PAD_IDX )\n",
    "src_pad_mask2"
   ]
  },
  {
   "cell_type": "code",
   "execution_count": 159,
   "metadata": {
    "execution": {
     "iopub.execute_input": "2022-03-11T13:08:27.200846Z",
     "iopub.status.busy": "2022-03-11T13:08:27.200701Z",
     "iopub.status.idle": "2022-03-11T13:08:27.203713Z",
     "shell.execute_reply": "2022-03-11T13:08:27.203443Z",
     "shell.execute_reply.started": "2022-03-11T13:08:27.200832Z"
    },
    "tags": []
   },
   "outputs": [
    {
     "data": {
      "text/plain": [
       "torch.Size([2, 12])"
      ]
     },
     "execution_count": 159,
     "metadata": {},
     "output_type": "execute_result"
    }
   ],
   "source": [
    "src_pad_mask2.shape"
   ]
  },
  {
   "cell_type": "code",
   "execution_count": 160,
   "metadata": {
    "execution": {
     "iopub.execute_input": "2022-03-11T13:08:27.651854Z",
     "iopub.status.busy": "2022-03-11T13:08:27.651712Z",
     "iopub.status.idle": "2022-03-11T13:08:27.654558Z",
     "shell.execute_reply": "2022-03-11T13:08:27.654084Z",
     "shell.execute_reply.started": "2022-03-11T13:08:27.651840Z"
    },
    "tags": []
   },
   "outputs": [],
   "source": [
    "src_pad_mask2 = src_pad_mask2.unsqueeze(1).unsqueeze(2)"
   ]
  },
  {
   "cell_type": "code",
   "execution_count": 161,
   "metadata": {
    "execution": {
     "iopub.execute_input": "2022-03-11T13:08:28.193721Z",
     "iopub.status.busy": "2022-03-11T13:08:28.193362Z",
     "iopub.status.idle": "2022-03-11T13:08:28.196723Z",
     "shell.execute_reply": "2022-03-11T13:08:28.196445Z",
     "shell.execute_reply.started": "2022-03-11T13:08:28.193692Z"
    },
    "tags": []
   },
   "outputs": [
    {
     "data": {
      "text/plain": [
       "torch.Size([2, 1, 1, 12])"
      ]
     },
     "execution_count": 161,
     "metadata": {},
     "output_type": "execute_result"
    }
   ],
   "source": [
    "src_pad_mask2.shape"
   ]
  },
  {
   "cell_type": "code",
   "execution_count": 164,
   "metadata": {
    "execution": {
     "iopub.execute_input": "2022-03-11T13:09:17.761957Z",
     "iopub.status.busy": "2022-03-11T13:09:17.761820Z",
     "iopub.status.idle": "2022-03-11T13:09:17.783451Z",
     "shell.execute_reply": "2022-03-11T13:09:17.783088Z",
     "shell.execute_reply.started": "2022-03-11T13:09:17.761944Z"
    },
    "tags": []
   },
   "outputs": [],
   "source": [
    "src_pad_mask2 = src_pad_mask2.to(device)"
   ]
  },
  {
   "cell_type": "code",
   "execution_count": 165,
   "metadata": {
    "execution": {
     "iopub.execute_input": "2022-03-11T13:09:18.371165Z",
     "iopub.status.busy": "2022-03-11T13:09:18.371013Z",
     "iopub.status.idle": "2022-03-11T13:09:18.373887Z",
     "shell.execute_reply": "2022-03-11T13:09:18.373482Z",
     "shell.execute_reply.started": "2022-03-11T13:09:18.371151Z"
    },
    "tags": []
   },
   "outputs": [],
   "source": [
    "energy_masked2 = energy2.masked_fill(src_pad_mask2 == 0, -1e10)"
   ]
  },
  {
   "cell_type": "code",
   "execution_count": 166,
   "metadata": {
    "execution": {
     "iopub.execute_input": "2022-03-11T13:09:19.179416Z",
     "iopub.status.busy": "2022-03-11T13:09:19.179296Z",
     "iopub.status.idle": "2022-03-11T13:09:19.182605Z",
     "shell.execute_reply": "2022-03-11T13:09:19.182188Z",
     "shell.execute_reply.started": "2022-03-11T13:09:19.179402Z"
    },
    "tags": []
   },
   "outputs": [
    {
     "data": {
      "text/plain": [
       "torch.Size([2, 2, 14, 12])"
      ]
     },
     "execution_count": 166,
     "metadata": {},
     "output_type": "execute_result"
    }
   ],
   "source": [
    "energy_masked2.shape"
   ]
  },
  {
   "cell_type": "code",
   "execution_count": 167,
   "metadata": {
    "execution": {
     "iopub.execute_input": "2022-03-11T13:09:19.735838Z",
     "iopub.status.busy": "2022-03-11T13:09:19.735567Z",
     "iopub.status.idle": "2022-03-11T13:09:19.739968Z",
     "shell.execute_reply": "2022-03-11T13:09:19.739605Z",
     "shell.execute_reply.started": "2022-03-11T13:09:19.735821Z"
    },
    "tags": []
   },
   "outputs": [
    {
     "data": {
      "text/plain": [
       "tensor([ 3.0805e-01,  1.7470e+00,  7.0328e+00, -2.4411e+00,  2.0112e+00,\n",
       "        -3.9187e+00, -4.6059e-02,  2.8605e+00, -3.6260e-01,  6.3214e+00,\n",
       "        -1.0000e+10, -1.0000e+10], device='cuda:0', grad_fn=<SliceBackward0>)"
      ]
     },
     "execution_count": 167,
     "metadata": {},
     "output_type": "execute_result"
    }
   ],
   "source": [
    "energy_masked[1,1,5,:]"
   ]
  },
  {
   "cell_type": "code",
   "execution_count": 168,
   "metadata": {
    "execution": {
     "iopub.execute_input": "2022-03-11T13:09:20.350669Z",
     "iopub.status.busy": "2022-03-11T13:09:20.350223Z",
     "iopub.status.idle": "2022-03-11T13:09:20.354380Z",
     "shell.execute_reply": "2022-03-11T13:09:20.354004Z",
     "shell.execute_reply.started": "2022-03-11T13:09:20.350653Z"
    },
    "tags": []
   },
   "outputs": [
    {
     "data": {
      "text/plain": [
       "tensor([ 3.0805e-01,  1.7470e+00,  7.0328e+00, -2.4411e+00,  2.0112e+00,\n",
       "        -3.9187e+00, -4.6059e-02,  2.8605e+00, -3.6260e-01,  6.3214e+00,\n",
       "        -1.0000e+10, -1.0000e+10], device='cuda:0', grad_fn=<SliceBackward0>)"
      ]
     },
     "execution_count": 168,
     "metadata": {},
     "output_type": "execute_result"
    }
   ],
   "source": [
    "energy_masked2[1,1,5,:]"
   ]
  },
  {
   "cell_type": "markdown",
   "metadata": {
    "execution": {
     "iopub.execute_input": "2022-03-06T18:33:44.838351Z",
     "iopub.status.busy": "2022-03-06T18:33:44.838200Z",
     "iopub.status.idle": "2022-03-06T18:33:44.840959Z",
     "shell.execute_reply": "2022-03-06T18:33:44.840599Z",
     "shell.execute_reply.started": "2022-03-06T18:33:44.838337Z"
    }
   },
   "source": [
    "#### <font color = 'blue'>**Apply softmax to convert QV dot product to probabilities**</font><br>"
   ]
  },
  {
   "cell_type": "code",
   "execution_count": 169,
   "metadata": {
    "execution": {
     "iopub.execute_input": "2022-03-11T13:09:24.789020Z",
     "iopub.status.busy": "2022-03-11T13:09:24.788754Z",
     "iopub.status.idle": "2022-03-11T13:09:24.791638Z",
     "shell.execute_reply": "2022-03-11T13:09:24.791335Z",
     "shell.execute_reply.started": "2022-03-11T13:09:24.789004Z"
    },
    "tags": []
   },
   "outputs": [],
   "source": [
    "attention_prob2 = torch.softmax(energy_masked2, dim = -1)                 \n",
    "#attention_prob = [batch size, n heads, query len, key len]"
   ]
  },
  {
   "cell_type": "code",
   "execution_count": 173,
   "metadata": {
    "execution": {
     "iopub.execute_input": "2022-03-11T13:09:47.886841Z",
     "iopub.status.busy": "2022-03-11T13:09:47.886698Z",
     "iopub.status.idle": "2022-03-11T13:09:47.890291Z",
     "shell.execute_reply": "2022-03-11T13:09:47.890036Z",
     "shell.execute_reply.started": "2022-03-11T13:09:47.886826Z"
    },
    "tags": []
   },
   "outputs": [
    {
     "name": "stdout",
     "output_type": "stream",
     "text": [
      "tensor(0., device='cuda:0') tensor(0., device='cuda:0')\n"
     ]
    }
   ],
   "source": [
    "print(attention_prob2[1,1,1,10].data, attention_prob2[1,1,1,11].data)\n",
    "#[batch_size, num_heads, query_len, key_len]"
   ]
  },
  {
   "cell_type": "code",
   "execution_count": 174,
   "metadata": {
    "execution": {
     "iopub.execute_input": "2022-03-11T13:09:54.370057Z",
     "iopub.status.busy": "2022-03-11T13:09:54.369406Z",
     "iopub.status.idle": "2022-03-11T13:09:54.373366Z",
     "shell.execute_reply": "2022-03-11T13:09:54.372930Z",
     "shell.execute_reply.started": "2022-03-11T13:09:54.370040Z"
    },
    "tags": []
   },
   "outputs": [
    {
     "name": "stdout",
     "output_type": "stream",
     "text": [
      "tensor([1.6849e-04, 6.3200e-06, 2.7247e-04, 1.9907e-07, 2.3001e-05, 7.1706e-10,\n",
      "        2.3023e-09, 6.3591e-03, 2.4307e-10, 9.9317e-01, 0.0000e+00, 0.0000e+00],\n",
      "       device='cuda:0', grad_fn=<SliceBackward0>)\n"
     ]
    }
   ],
   "source": [
    "print(attention_prob2[1, 0,1, :])"
   ]
  },
  {
   "cell_type": "code",
   "execution_count": 175,
   "metadata": {
    "execution": {
     "iopub.execute_input": "2022-03-11T13:09:55.375650Z",
     "iopub.status.busy": "2022-03-11T13:09:55.375527Z",
     "iopub.status.idle": "2022-03-11T13:09:55.379537Z",
     "shell.execute_reply": "2022-03-11T13:09:55.379291Z",
     "shell.execute_reply.started": "2022-03-11T13:09:55.375637Z"
    },
    "tags": []
   },
   "outputs": [
    {
     "data": {
      "text/plain": [
       "tensor(1.0000, device='cuda:0', grad_fn=<SumBackward0>)"
      ]
     },
     "execution_count": 175,
     "metadata": {},
     "output_type": "execute_result"
    }
   ],
   "source": [
    "attention_prob2[0, 0,1, :].sum()"
   ]
  },
  {
   "cell_type": "markdown",
   "metadata": {
    "execution": {
     "iopub.execute_input": "2022-03-06T17:49:26.353174Z",
     "iopub.status.busy": "2022-03-06T17:49:26.353003Z",
     "iopub.status.idle": "2022-03-06T17:49:26.356619Z",
     "shell.execute_reply": "2022-03-06T17:49:26.356140Z",
     "shell.execute_reply.started": "2022-03-06T17:49:26.353143Z"
    }
   },
   "source": [
    "#### <font color = 'blue'>**Apply dropout layer to attention probabilities**</font><br>\n",
    "<font color = 'red'>**NOT UNDERSTOOD- why apply dropout here (probs will not sum to 1)**</font><br>\n",
    "<font color = 'green'>**Quotes from paper --We apply dropout [33] to the output of each sub-layer, before it is added to the sub-layer input and normalized.**</font>\n"
   ]
  },
  {
   "cell_type": "code",
   "execution_count": 176,
   "metadata": {
    "execution": {
     "iopub.execute_input": "2022-03-11T13:10:04.422773Z",
     "iopub.status.busy": "2022-03-11T13:10:04.422603Z",
     "iopub.status.idle": "2022-03-11T13:10:04.425245Z",
     "shell.execute_reply": "2022-03-11T13:10:04.424778Z",
     "shell.execute_reply.started": "2022-03-11T13:10:04.422758Z"
    },
    "tags": []
   },
   "outputs": [],
   "source": [
    "att_dropout2 =  nn.Dropout(p=0.0)"
   ]
  },
  {
   "cell_type": "code",
   "execution_count": 177,
   "metadata": {
    "execution": {
     "iopub.execute_input": "2022-03-11T13:10:14.211235Z",
     "iopub.status.busy": "2022-03-11T13:10:14.210823Z",
     "iopub.status.idle": "2022-03-11T13:10:14.213738Z",
     "shell.execute_reply": "2022-03-11T13:10:14.213313Z",
     "shell.execute_reply.started": "2022-03-11T13:10:14.211218Z"
    },
    "tags": []
   },
   "outputs": [],
   "source": [
    "attention_prob_after_dropout2 = att_dropout2(attention_prob2)"
   ]
  },
  {
   "cell_type": "code",
   "execution_count": 178,
   "metadata": {
    "execution": {
     "iopub.execute_input": "2022-03-11T13:10:15.911976Z",
     "iopub.status.busy": "2022-03-11T13:10:15.911833Z",
     "iopub.status.idle": "2022-03-11T13:10:15.921990Z",
     "shell.execute_reply": "2022-03-11T13:10:15.921474Z",
     "shell.execute_reply.started": "2022-03-11T13:10:15.911963Z"
    },
    "tags": []
   },
   "outputs": [
    {
     "name": "stdout",
     "output_type": "stream",
     "text": [
      "tensor([2.9166e-10, 1.6071e-03, 1.7196e-07, 8.2590e-12, 3.9455e-07, 1.9409e-07,\n",
      "        7.3817e-03, 4.6745e-06, 9.8184e-01, 8.8270e-03, 3.3416e-04, 3.4758e-08],\n",
      "       device='cuda:0', grad_fn=<SliceBackward0>)\n"
     ]
    }
   ],
   "source": [
    "print(attention_prob_after_dropout2[0, 0,1, :])"
   ]
  },
  {
   "cell_type": "code",
   "execution_count": 179,
   "metadata": {
    "execution": {
     "iopub.execute_input": "2022-03-11T13:10:16.811728Z",
     "iopub.status.busy": "2022-03-11T13:10:16.811580Z",
     "iopub.status.idle": "2022-03-11T13:10:16.815522Z",
     "shell.execute_reply": "2022-03-11T13:10:16.815148Z",
     "shell.execute_reply.started": "2022-03-11T13:10:16.811691Z"
    },
    "tags": []
   },
   "outputs": [
    {
     "data": {
      "text/plain": [
       "tensor(1.0000, device='cuda:0', grad_fn=<SumBackward0>)"
      ]
     },
     "execution_count": 179,
     "metadata": {},
     "output_type": "execute_result"
    }
   ],
   "source": [
    "attention_prob_after_dropout2[0, 0,1, :].sum()"
   ]
  },
  {
   "cell_type": "markdown",
   "metadata": {
    "execution": {
     "iopub.execute_input": "2022-03-06T18:30:59.789080Z",
     "iopub.status.busy": "2022-03-06T18:30:59.788942Z",
     "iopub.status.idle": "2022-03-06T18:30:59.792284Z",
     "shell.execute_reply": "2022-03-06T18:30:59.791922Z",
     "shell.execute_reply.started": "2022-03-06T18:30:59.789068Z"
    },
    "tags": []
   },
   "source": [
    "<font size = 3, color = 'red'>**Probs do not sum to 1, sometimes these are greater than one and sometimes these are less than one**</font>"
   ]
  },
  {
   "cell_type": "code",
   "execution_count": 180,
   "metadata": {
    "execution": {
     "iopub.execute_input": "2022-03-11T13:10:20.382220Z",
     "iopub.status.busy": "2022-03-11T13:10:20.382065Z",
     "iopub.status.idle": "2022-03-11T13:10:20.385608Z",
     "shell.execute_reply": "2022-03-11T13:10:20.385094Z",
     "shell.execute_reply.started": "2022-03-11T13:10:20.382207Z"
    },
    "tags": []
   },
   "outputs": [
    {
     "data": {
      "text/plain": [
       "torch.Size([2, 2, 14, 12])"
      ]
     },
     "execution_count": 180,
     "metadata": {},
     "output_type": "execute_result"
    }
   ],
   "source": [
    "attention_prob_after_dropout2.shape"
   ]
  },
  {
   "cell_type": "code",
   "execution_count": 181,
   "metadata": {
    "execution": {
     "iopub.execute_input": "2022-03-11T13:10:20.936154Z",
     "iopub.status.busy": "2022-03-11T13:10:20.936000Z",
     "iopub.status.idle": "2022-03-11T13:10:20.938581Z",
     "shell.execute_reply": "2022-03-11T13:10:20.938233Z",
     "shell.execute_reply.started": "2022-03-11T13:10:20.936117Z"
    },
    "tags": []
   },
   "outputs": [],
   "source": [
    "attention_prob_after_dropout_mean2 = torch.mean(attention_prob_after_dropout2, dim = 1)"
   ]
  },
  {
   "cell_type": "markdown",
   "metadata": {},
   "source": [
    "#### <font size = 4, color = 'blue'>**Self Attention Output**</font><br>"
   ]
  },
  {
   "cell_type": "code",
   "execution_count": 182,
   "metadata": {
    "execution": {
     "iopub.execute_input": "2022-03-11T13:10:24.702535Z",
     "iopub.status.busy": "2022-03-11T13:10:24.702383Z",
     "iopub.status.idle": "2022-03-11T13:10:24.705672Z",
     "shell.execute_reply": "2022-03-11T13:10:24.705213Z",
     "shell.execute_reply.started": "2022-03-11T13:10:24.702522Z"
    },
    "tags": []
   },
   "outputs": [
    {
     "data": {
      "text/plain": [
       "torch.Size([2, 2, 12, 4])"
      ]
     },
     "execution_count": 182,
     "metadata": {},
     "output_type": "execute_result"
    }
   ],
   "source": [
    "V2.shape\n",
    "# [batch_size, num_heads, value_len, head_dim]"
   ]
  },
  {
   "cell_type": "code",
   "execution_count": 183,
   "metadata": {
    "execution": {
     "iopub.execute_input": "2022-03-11T13:10:25.215324Z",
     "iopub.status.busy": "2022-03-11T13:10:25.215170Z",
     "iopub.status.idle": "2022-03-11T13:10:25.218491Z",
     "shell.execute_reply": "2022-03-11T13:10:25.218143Z",
     "shell.execute_reply.started": "2022-03-11T13:10:25.215310Z"
    },
    "tags": []
   },
   "outputs": [
    {
     "data": {
      "text/plain": [
       "torch.Size([2, 2, 14, 12])"
      ]
     },
     "execution_count": 183,
     "metadata": {},
     "output_type": "execute_result"
    }
   ],
   "source": [
    "attention_prob_after_dropout2.shape\n",
    "#[batch_size, num_heads, query_len, key_len]"
   ]
  },
  {
   "cell_type": "code",
   "execution_count": 184,
   "metadata": {
    "execution": {
     "iopub.execute_input": "2022-03-11T13:10:25.662028Z",
     "iopub.status.busy": "2022-03-11T13:10:25.661909Z",
     "iopub.status.idle": "2022-03-11T13:10:25.664256Z",
     "shell.execute_reply": "2022-03-11T13:10:25.663963Z",
     "shell.execute_reply.started": "2022-03-11T13:10:25.662015Z"
    },
    "tags": []
   },
   "outputs": [],
   "source": [
    "decoder_contextulaized_embeddings_m2 = torch.matmul(attention_prob_after_dropout2, V2)\n",
    "#[batch_size, num_heads, query_len, head_dim]"
   ]
  },
  {
   "cell_type": "code",
   "execution_count": 185,
   "metadata": {
    "execution": {
     "iopub.execute_input": "2022-03-11T13:10:29.862544Z",
     "iopub.status.busy": "2022-03-11T13:10:29.862405Z",
     "iopub.status.idle": "2022-03-11T13:10:29.865222Z",
     "shell.execute_reply": "2022-03-11T13:10:29.864974Z",
     "shell.execute_reply.started": "2022-03-11T13:10:29.862530Z"
    },
    "tags": []
   },
   "outputs": [
    {
     "data": {
      "text/plain": [
       "torch.Size([2, 2, 14, 4])"
      ]
     },
     "execution_count": 185,
     "metadata": {},
     "output_type": "execute_result"
    }
   ],
   "source": [
    "decoder_contextulaized_embeddings_m2.shape\n",
    "# [batch_size, number_of_heads, query_len, head_dim]"
   ]
  },
  {
   "cell_type": "code",
   "execution_count": 186,
   "metadata": {
    "execution": {
     "iopub.execute_input": "2022-03-11T13:10:30.280370Z",
     "iopub.status.busy": "2022-03-11T13:10:30.280249Z",
     "iopub.status.idle": "2022-03-11T13:10:30.282417Z",
     "shell.execute_reply": "2022-03-11T13:10:30.282091Z",
     "shell.execute_reply.started": "2022-03-11T13:10:30.280357Z"
    },
    "tags": []
   },
   "outputs": [],
   "source": [
    "decoder_contextulaized_embeddings_m2 = decoder_contextulaized_embeddings_m2.permute(0, 2, 1, 3)\n",
    "# [batch_size, query_len, number_of_heads, head_dim]"
   ]
  },
  {
   "cell_type": "code",
   "execution_count": 187,
   "metadata": {
    "execution": {
     "iopub.execute_input": "2022-03-11T13:10:30.747805Z",
     "iopub.status.busy": "2022-03-11T13:10:30.747231Z",
     "iopub.status.idle": "2022-03-11T13:10:30.750436Z",
     "shell.execute_reply": "2022-03-11T13:10:30.750052Z",
     "shell.execute_reply.started": "2022-03-11T13:10:30.747789Z"
    },
    "tags": []
   },
   "outputs": [
    {
     "data": {
      "text/plain": [
       "torch.Size([2, 14, 2, 4])"
      ]
     },
     "execution_count": 187,
     "metadata": {},
     "output_type": "execute_result"
    }
   ],
   "source": [
    "decoder_contextulaized_embeddings_m2.shape"
   ]
  },
  {
   "cell_type": "code",
   "execution_count": 188,
   "metadata": {
    "execution": {
     "iopub.execute_input": "2022-03-11T13:10:31.210578Z",
     "iopub.status.busy": "2022-03-11T13:10:31.210434Z",
     "iopub.status.idle": "2022-03-11T13:10:31.213461Z",
     "shell.execute_reply": "2022-03-11T13:10:31.213132Z",
     "shell.execute_reply.started": "2022-03-11T13:10:31.210564Z"
    },
    "tags": []
   },
   "outputs": [],
   "source": [
    "decoder_contextulaized_embeddings_m2 = decoder_contextulaized_embeddings_m2.reshape(batch_size, -1, out_hid_dim)"
   ]
  },
  {
   "cell_type": "code",
   "execution_count": 189,
   "metadata": {
    "execution": {
     "iopub.execute_input": "2022-03-11T13:10:31.677732Z",
     "iopub.status.busy": "2022-03-11T13:10:31.677543Z",
     "iopub.status.idle": "2022-03-11T13:10:31.680991Z",
     "shell.execute_reply": "2022-03-11T13:10:31.680689Z",
     "shell.execute_reply.started": "2022-03-11T13:10:31.677717Z"
    },
    "tags": []
   },
   "outputs": [
    {
     "data": {
      "text/plain": [
       "torch.Size([2, 14, 8])"
      ]
     },
     "execution_count": 189,
     "metadata": {},
     "output_type": "execute_result"
    }
   ],
   "source": [
    "decoder_contextulaized_embeddings_m2.shape\n",
    "#[batch_size, seq_len, out_hid_dim]"
   ]
  },
  {
   "cell_type": "markdown",
   "metadata": {},
   "source": [
    "<font size = 3, color = 'green'>We need to project the final values to have same shape as  input embedding. To accomplish this we will use fc_o linear layer we created earlier."
   ]
  },
  {
   "cell_type": "code",
   "execution_count": 190,
   "metadata": {
    "execution": {
     "iopub.execute_input": "2022-03-11T13:10:37.510563Z",
     "iopub.status.busy": "2022-03-11T13:10:37.510427Z",
     "iopub.status.idle": "2022-03-11T13:10:37.513222Z",
     "shell.execute_reply": "2022-03-11T13:10:37.512910Z",
     "shell.execute_reply.started": "2022-03-11T13:10:37.510550Z"
    },
    "tags": []
   },
   "outputs": [],
   "source": [
    "decoder_contextulaized_embeddings_m2 = decoder_contextulaized_embeddings_m2.matmul(Wo.T)  + bo"
   ]
  },
  {
   "cell_type": "code",
   "execution_count": 191,
   "metadata": {
    "execution": {
     "iopub.execute_input": "2022-03-11T13:10:37.977249Z",
     "iopub.status.busy": "2022-03-11T13:10:37.977099Z",
     "iopub.status.idle": "2022-03-11T13:10:37.980433Z",
     "shell.execute_reply": "2022-03-11T13:10:37.980050Z",
     "shell.execute_reply.started": "2022-03-11T13:10:37.977208Z"
    },
    "tags": []
   },
   "outputs": [
    {
     "data": {
      "text/plain": [
       "torch.Size([2, 14, 8])"
      ]
     },
     "execution_count": 191,
     "metadata": {},
     "output_type": "execute_result"
    }
   ],
   "source": [
    "decoder_contextulaized_embeddings_m2.shape\n",
    "#[batch_size, seq_len, hid_dim]"
   ]
  },
  {
   "cell_type": "markdown",
   "metadata": {},
   "source": [
    "#### <font size = 4, color = 'blue'>**Compare results with PyTorch Layer and method1**</font><br>"
   ]
  },
  {
   "cell_type": "code",
   "execution_count": 192,
   "metadata": {
    "execution": {
     "iopub.execute_input": "2022-03-11T13:10:39.642527Z",
     "iopub.status.busy": "2022-03-11T13:10:39.642378Z",
     "iopub.status.idle": "2022-03-11T13:10:39.646316Z",
     "shell.execute_reply": "2022-03-11T13:10:39.646062Z",
     "shell.execute_reply.started": "2022-03-11T13:10:39.642514Z"
    },
    "tags": []
   },
   "outputs": [
    {
     "data": {
      "text/plain": [
       "tensor([-0.8930, -0.0810, -0.0353,  0.3941,  0.7499,  0.8224, -0.1756, -0.2079],\n",
       "       device='cuda:0', grad_fn=<SliceBackward0>)"
      ]
     },
     "execution_count": 192,
     "metadata": {},
     "output_type": "execute_result"
    }
   ],
   "source": [
    "decoder_contextulaized_embeddings_m2[0,9,:]"
   ]
  },
  {
   "cell_type": "code",
   "execution_count": 196,
   "metadata": {
    "execution": {
     "iopub.execute_input": "2022-03-11T13:11:11.586518Z",
     "iopub.status.busy": "2022-03-11T13:11:11.586338Z",
     "iopub.status.idle": "2022-03-11T13:11:11.607914Z",
     "shell.execute_reply": "2022-03-11T13:11:11.607568Z",
     "shell.execute_reply.started": "2022-03-11T13:11:11.586504Z"
    }
   },
   "outputs": [
    {
     "data": {
      "text/plain": [
       "tensor([-0.8930, -0.0810, -0.0353,  0.3941,  0.7499,  0.8224, -0.1756, -0.2079],\n",
       "       device='cuda:0', grad_fn=<SliceBackward0>)"
      ]
     },
     "execution_count": 196,
     "metadata": {},
     "output_type": "execute_result"
    }
   ],
   "source": [
    "decoder_contextulaized_embeddings_m1[0,9,:]"
   ]
  },
  {
   "cell_type": "code",
   "execution_count": 193,
   "metadata": {
    "execution": {
     "iopub.execute_input": "2022-03-11T13:10:42.673200Z",
     "iopub.status.busy": "2022-03-11T13:10:42.672731Z",
     "iopub.status.idle": "2022-03-11T13:10:42.676863Z",
     "shell.execute_reply": "2022-03-11T13:10:42.676434Z",
     "shell.execute_reply.started": "2022-03-11T13:10:42.673184Z"
    },
    "tags": []
   },
   "outputs": [
    {
     "data": {
      "text/plain": [
       "tensor([-0.8930, -0.0810, -0.0353,  0.3941,  0.7499,  0.8224, -0.1756, -0.2079],\n",
       "       device='cuda:0', grad_fn=<SliceBackward0>)"
      ]
     },
     "execution_count": 193,
     "metadata": {},
     "output_type": "execute_result"
    }
   ],
   "source": [
    "decoder_contextulaized_embeddings[0,9,:]"
   ]
  },
  {
   "cell_type": "code",
   "execution_count": 201,
   "metadata": {
    "execution": {
     "iopub.execute_input": "2022-03-11T13:11:47.684584Z",
     "iopub.status.busy": "2022-03-11T13:11:47.684447Z",
     "iopub.status.idle": "2022-03-11T13:11:47.689048Z",
     "shell.execute_reply": "2022-03-11T13:11:47.688592Z",
     "shell.execute_reply.started": "2022-03-11T13:11:47.684570Z"
    },
    "tags": []
   },
   "outputs": [
    {
     "data": {
      "text/plain": [
       "tensor([0.0390, 0.0418, 0.1368, 0.0167, 0.2915, 0.1070, 0.0087, 0.0115, 0.1452,\n",
       "        0.1808, 0.0137, 0.0074], device='cuda:0', grad_fn=<SliceBackward0>)"
      ]
     },
     "execution_count": 201,
     "metadata": {},
     "output_type": "execute_result"
    }
   ],
   "source": [
    "attention_prob_after_dropout_mean2[0,9,:]"
   ]
  },
  {
   "cell_type": "code",
   "execution_count": 202,
   "metadata": {
    "execution": {
     "iopub.execute_input": "2022-03-11T13:11:50.864461Z",
     "iopub.status.busy": "2022-03-11T13:11:50.864321Z",
     "iopub.status.idle": "2022-03-11T13:11:50.868590Z",
     "shell.execute_reply": "2022-03-11T13:11:50.868281Z",
     "shell.execute_reply.started": "2022-03-11T13:11:50.864448Z"
    },
    "tags": []
   },
   "outputs": [
    {
     "data": {
      "text/plain": [
       "tensor([0.0390, 0.0418, 0.1368, 0.0167, 0.2915, 0.1070, 0.0087, 0.0115, 0.1452,\n",
       "        0.1808, 0.0137, 0.0074], device='cuda:0', grad_fn=<SliceBackward0>)"
      ]
     },
     "execution_count": 202,
     "metadata": {},
     "output_type": "execute_result"
    }
   ],
   "source": [
    "attention_prob_after_dropout_mean[0,9,:]"
   ]
  },
  {
   "cell_type": "code",
   "execution_count": 203,
   "metadata": {
    "execution": {
     "iopub.execute_input": "2022-03-11T13:11:52.740044Z",
     "iopub.status.busy": "2022-03-11T13:11:52.739324Z",
     "iopub.status.idle": "2022-03-11T13:11:52.743425Z",
     "shell.execute_reply": "2022-03-11T13:11:52.743167Z",
     "shell.execute_reply.started": "2022-03-11T13:11:52.740027Z"
    },
    "tags": []
   },
   "outputs": [
    {
     "data": {
      "text/plain": [
       "tensor([0.0390, 0.0418, 0.1368, 0.0167, 0.2915, 0.1070, 0.0087, 0.0115, 0.1452,\n",
       "        0.1808, 0.0137, 0.0074], device='cuda:0', grad_fn=<SliceBackward0>)"
      ]
     },
     "execution_count": 203,
     "metadata": {},
     "output_type": "execute_result"
    }
   ],
   "source": [
    "decoder_self_attention_probs[0,9,:]"
   ]
  },
  {
   "cell_type": "code",
   "execution_count": null,
   "metadata": {},
   "outputs": [],
   "source": []
  }
 ],
 "metadata": {
  "kernelspec": {
   "display_name": "pt10",
   "language": "python",
   "name": "pt10"
  },
  "language_info": {
   "codemirror_mode": {
    "name": "ipython",
    "version": 3
   },
   "file_extension": ".py",
   "mimetype": "text/x-python",
   "name": "python",
   "nbconvert_exporter": "python",
   "pygments_lexer": "ipython3",
   "version": "3.8.12"
  },
  "toc-autonumbering": false
 },
 "nbformat": 4,
 "nbformat_minor": 4
}
