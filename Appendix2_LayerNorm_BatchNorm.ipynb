{
 "cells": [
  {
   "cell_type": "code",
   "execution_count": 4,
   "id": "14e8450c-7f34-4499-a9af-86cfbe06e9d0",
   "metadata": {
    "execution": {
     "iopub.execute_input": "2022-02-27T09:08:11.655855Z",
     "iopub.status.busy": "2022-02-27T09:08:11.655707Z",
     "iopub.status.idle": "2022-02-27T09:08:11.658477Z",
     "shell.execute_reply": "2022-02-27T09:08:11.657861Z",
     "shell.execute_reply.started": "2022-02-27T09:08:11.655842Z"
    },
    "tags": []
   },
   "outputs": [],
   "source": [
    "import torch\n",
    "import torch.nn as nn"
   ]
  },
  {
   "cell_type": "code",
   "execution_count": 60,
   "id": "1185a663-d15b-4b3f-9205-1de5a98f11b0",
   "metadata": {
    "execution": {
     "iopub.execute_input": "2022-02-27T09:59:30.628492Z",
     "iopub.status.busy": "2022-02-27T09:59:30.628352Z",
     "iopub.status.idle": "2022-02-27T09:59:30.634556Z",
     "shell.execute_reply": "2022-02-27T09:59:30.634141Z",
     "shell.execute_reply.started": "2022-02-27T09:59:30.628479Z"
    },
    "tags": []
   },
   "outputs": [
    {
     "name": "stdout",
     "output_type": "stream",
     "text": [
      "tensor([[[-1.1258, -1.1524, -0.2506, -0.4339],\n",
      "         [ 0.8487,  0.6920, -0.3160, -2.1152],\n",
      "         [ 0.4681, -0.1577,  1.4437,  0.2660]],\n",
      "\n",
      "        [[ 0.1665,  0.8744, -0.1435, -0.1116],\n",
      "         [ 0.9318,  1.2590,  2.0050,  0.0537],\n",
      "         [ 0.6181, -0.4128, -0.8411, -2.3160]]])\n"
     ]
    },
    {
     "data": {
      "text/plain": [
       "tensor([[[-0.9539, -1.0196,  1.2137,  0.7598],\n",
       "         [ 0.9075,  0.7747, -0.0791, -1.6031],\n",
       "         [-0.0629, -1.1288,  1.5988, -0.4070]],\n",
       "\n",
       "        [[-0.0732,  1.6553, -0.8300, -0.7522],\n",
       "         [-0.1864,  0.2808,  1.3460, -1.4404],\n",
       "         [ 1.2863,  0.3084, -0.0978, -1.4969]]])"
      ]
     },
     "execution_count": 60,
     "metadata": {},
     "output_type": "execute_result"
    }
   ],
   "source": [
    "# NLP Example\n",
    "torch.manual_seed(0)\n",
    "batch, sentence_length, embedding_dim = 2, 3, 4\n",
    "embedding = torch.randn(batch, sentence_length, embedding_dim)\n",
    "print(embedding)\n",
    "layer_norm = nn.LayerNorm(4, eps=0, elementwise_affine=False)\n",
    "# Activate module\n",
    "layer_norm(embedding)\n"
   ]
  },
  {
   "cell_type": "code",
   "execution_count": 61,
   "id": "bd136661-624f-4f6d-a392-c7f2aa97f6dc",
   "metadata": {
    "execution": {
     "iopub.execute_input": "2022-02-27T10:00:33.928575Z",
     "iopub.status.busy": "2022-02-27T10:00:33.928127Z",
     "iopub.status.idle": "2022-02-27T10:00:33.933085Z",
     "shell.execute_reply": "2022-02-27T10:00:33.932749Z",
     "shell.execute_reply.started": "2022-02-27T10:00:33.928560Z"
    },
    "tags": []
   },
   "outputs": [
    {
     "name": "stdout",
     "output_type": "stream",
     "text": [
      "tensor([[[-1.1258, -1.1524, -0.2506, -0.4339],\n",
      "         [ 0.8487,  0.6920, -0.3160, -2.1152],\n",
      "         [ 0.4681, -0.1577,  1.4437,  0.2660]],\n",
      "\n",
      "        [[ 0.1665,  0.8744, -0.1435, -0.1116],\n",
      "         [ 0.9318,  1.2590,  2.0050,  0.0537],\n",
      "         [ 0.6181, -0.4128, -0.8411, -2.3160]]])\n",
      "tensor([[[-0.7407],\n",
      "         [-0.2226],\n",
      "         [ 0.5050]],\n",
      "\n",
      "        [[ 0.1964],\n",
      "         [ 1.0624],\n",
      "         [-0.7380]]])\n"
     ]
    }
   ],
   "source": [
    "torch.manual_seed(0)\n",
    "batch, sentence_length, embedding_dim = 2, 3, 4\n",
    "embedding = torch.randn(batch, sentence_length, embedding_dim)\n",
    "print(embedding)\n",
    "mean = embedding.mean(-1, keepdim=True)\n",
    "print(mean)\n",
    "std = embedding.std(-1, keepdim=True, unbiased = False)\n",
    "#print(std)"
   ]
  },
  {
   "cell_type": "code",
   "execution_count": 59,
   "id": "4009a118-f3ba-421e-a8bb-193e778e561a",
   "metadata": {
    "execution": {
     "iopub.execute_input": "2022-02-27T09:59:17.681415Z",
     "iopub.status.busy": "2022-02-27T09:59:17.681278Z",
     "iopub.status.idle": "2022-02-27T09:59:17.685284Z",
     "shell.execute_reply": "2022-02-27T09:59:17.684918Z",
     "shell.execute_reply.started": "2022-02-27T09:59:17.681401Z"
    },
    "tags": []
   },
   "outputs": [
    {
     "data": {
      "text/plain": [
       "tensor([[[-0.9539, -1.0196,  1.2137,  0.7598],\n",
       "         [ 0.9075,  0.7747, -0.0791, -1.6031],\n",
       "         [-0.0629, -1.1288,  1.5988, -0.4070]],\n",
       "\n",
       "        [[-0.0732,  1.6553, -0.8300, -0.7522],\n",
       "         [-0.1864,  0.2808,  1.3460, -1.4404],\n",
       "         [ 1.2863,  0.3084, -0.0978, -1.4969]]])"
      ]
     },
     "execution_count": 59,
     "metadata": {},
     "output_type": "execute_result"
    }
   ],
   "source": [
    "(embedding - mean) / (std)"
   ]
  },
  {
   "cell_type": "code",
   "execution_count": 62,
   "id": "e055f3ac-7511-4bad-bff1-3cc167360297",
   "metadata": {
    "execution": {
     "iopub.execute_input": "2022-02-27T10:42:50.008341Z",
     "iopub.status.busy": "2022-02-27T10:42:50.008198Z",
     "iopub.status.idle": "2022-02-27T10:42:50.010552Z",
     "shell.execute_reply": "2022-02-27T10:42:50.010148Z",
     "shell.execute_reply.started": "2022-02-27T10:42:50.008327Z"
    }
   },
   "outputs": [],
   "source": [
    "## Pytorch Offical Examples"
   ]
  },
  {
   "cell_type": "code",
   "execution_count": 67,
   "id": "beddf5ed-c676-4563-b024-4b982d623b99",
   "metadata": {
    "execution": {
     "iopub.execute_input": "2022-02-27T10:43:49.562486Z",
     "iopub.status.busy": "2022-02-27T10:43:49.562344Z",
     "iopub.status.idle": "2022-02-27T10:43:49.567296Z",
     "shell.execute_reply": "2022-02-27T10:43:49.566846Z",
     "shell.execute_reply.started": "2022-02-27T10:43:49.562473Z"
    },
    "tags": []
   },
   "outputs": [
    {
     "data": {
      "text/plain": [
       "tensor([[[ 0.8230, -1.4074,  0.5844],\n",
       "         [-0.8869, -0.5104,  1.3973],\n",
       "         [ 1.3689, -0.9919, -0.3771],\n",
       "         [-0.6800, -0.7335,  1.4135],\n",
       "         [ 1.1326, -1.2726,  0.1401]],\n",
       "\n",
       "        [[ 0.4724,  0.9181, -1.3906],\n",
       "         [-0.1572,  1.2958, -1.1385],\n",
       "         [ 1.4088, -0.8118, -0.5970],\n",
       "         [ 1.4140, -0.7282, -0.6858],\n",
       "         [-0.0269, -1.2111,  1.2380]]], grad_fn=<NativeLayerNormBackward0>)"
      ]
     },
     "execution_count": 67,
     "metadata": {},
     "output_type": "execute_result"
    }
   ],
   "source": [
    "# NLP Example\n",
    "batch, sentence_length, embedding_dim = 2, 5, 3\n",
    "embedding = torch.randn(batch, sentence_length, embedding_dim)\n",
    "layer_norm = nn.LayerNorm(embedding_dim)\n",
    "# Activate module\n",
    "layer_norm(embedding)"
   ]
  },
  {
   "cell_type": "code",
   "execution_count": null,
   "id": "1a0b7920-2cc4-487d-ab62-0901f0207d01",
   "metadata": {},
   "outputs": [],
   "source": []
  },
  {
   "cell_type": "code",
   "execution_count": 81,
   "id": "eb6186c0-a392-46ce-8880-59ad4afdaa33",
   "metadata": {
    "execution": {
     "iopub.execute_input": "2022-02-27T10:54:05.463856Z",
     "iopub.status.busy": "2022-02-27T10:54:05.463712Z",
     "iopub.status.idle": "2022-02-27T10:54:05.468992Z",
     "shell.execute_reply": "2022-02-27T10:54:05.468568Z",
     "shell.execute_reply.started": "2022-02-27T10:54:05.463821Z"
    },
    "tags": []
   },
   "outputs": [
    {
     "data": {
      "text/plain": [
       "tensor([[[[-1.2777, -0.3132, -0.1935],\n",
       "          [-1.3820,  0.4954, -0.1378]],\n",
       "\n",
       "         [[-0.5987, -1.3815, -0.2658],\n",
       "          [ 0.9978, -0.3469,  0.3072]],\n",
       "\n",
       "         [[ 0.3435,  2.7185,  0.9041],\n",
       "          [ 1.2016, -0.2470, -0.8239]]],\n",
       "\n",
       "\n",
       "        [[[ 0.2966, -0.1406, -0.1407],\n",
       "          [-0.2746, -0.1809, -0.7302]],\n",
       "\n",
       "         [[-1.9590, -0.9930,  1.4539],\n",
       "          [-0.3902,  1.7448, -1.2209]],\n",
       "\n",
       "         [[ 1.0613, -0.8649,  1.7884],\n",
       "          [-0.0712, -0.0990,  0.7202]]]])"
      ]
     },
     "execution_count": 81,
     "metadata": {},
     "output_type": "execute_result"
    }
   ],
   "source": [
    "# Image Example\n",
    "torch.manual_seed(1)\n",
    "N, C, H, W = 2, 3, 2, 3\n",
    "image = torch.randn(N, C, H, W)\n",
    "# Normalize over the last three dimensions (i.e. the channel and spatial dimensions)\n",
    "# as shown in the image below\n",
    "layer_norm = nn.LayerNorm([C, H, W], elementwise_affine=False)\n",
    "output = layer_norm(image)\n",
    "output"
   ]
  },
  {
   "cell_type": "code",
   "execution_count": 82,
   "id": "c240ee94-0ef2-45d4-b56b-19720baf9a67",
   "metadata": {
    "execution": {
     "iopub.execute_input": "2022-02-27T10:54:11.989342Z",
     "iopub.status.busy": "2022-02-27T10:54:11.988815Z",
     "iopub.status.idle": "2022-02-27T10:54:11.993229Z",
     "shell.execute_reply": "2022-02-27T10:54:11.992845Z",
     "shell.execute_reply.started": "2022-02-27T10:54:11.989327Z"
    },
    "tags": []
   },
   "outputs": [
    {
     "data": {
      "text/plain": [
       "tensor([[[[-1.7121, -0.5643, -0.4219],\n",
       "          [-1.8363,  0.3980, -0.3556]],\n",
       "\n",
       "         [[-0.5558, -1.0596, -0.3415],\n",
       "          [ 0.4718, -0.3937,  0.0273]],\n",
       "\n",
       "         [[-0.6478,  1.2001, -0.2116],\n",
       "          [ 0.0199, -1.1072, -1.5560]]],\n",
       "\n",
       "\n",
       "        [[[ 1.5818,  0.8409,  0.8409],\n",
       "          [ 0.6139,  0.7727, -0.1579]],\n",
       "\n",
       "         [[-1.2783, -0.3931,  1.8493],\n",
       "          [ 0.1594,  2.1159, -0.6019]],\n",
       "\n",
       "         [[ 1.0914, -1.0422,  1.8967],\n",
       "          [-0.1631, -0.1939,  0.7135]]]])"
      ]
     },
     "execution_count": 82,
     "metadata": {},
     "output_type": "execute_result"
    }
   ],
   "source": [
    "# With Learnable Parameters\n",
    "m = nn.BatchNorm2d(3, affine=False)\n",
    "output = m(image)\n",
    "output"
   ]
  },
  {
   "cell_type": "code",
   "execution_count": 84,
   "id": "bc35bd12-25ec-4506-9f39-b2c1dacd2d07",
   "metadata": {
    "execution": {
     "iopub.execute_input": "2022-02-27T10:55:14.478241Z",
     "iopub.status.busy": "2022-02-27T10:55:14.478079Z",
     "iopub.status.idle": "2022-02-27T10:55:14.482179Z",
     "shell.execute_reply": "2022-02-27T10:55:14.481848Z",
     "shell.execute_reply.started": "2022-02-27T10:55:14.478211Z"
    },
    "tags": []
   },
   "outputs": [
    {
     "data": {
      "text/plain": [
       "tensor([[[[-0.4984]]],\n",
       "\n",
       "\n",
       "        [[[ 0.3601]]]])"
      ]
     },
     "execution_count": 84,
     "metadata": {},
     "output_type": "execute_result"
    }
   ],
   "source": [
    "mean_layer_norm = image.mean((1,2,3), keepdim=True)\n",
    "std_layer_norm = image.std((1,2,3), unbiased = False, keepdim=True)\n",
    "mean_layer_norm "
   ]
  },
  {
   "cell_type": "code",
   "execution_count": 83,
   "id": "8cfda472-3471-431c-ae35-4d6146feeadf",
   "metadata": {
    "execution": {
     "iopub.execute_input": "2022-02-27T10:54:34.128091Z",
     "iopub.status.busy": "2022-02-27T10:54:34.127952Z",
     "iopub.status.idle": "2022-02-27T10:54:34.131780Z",
     "shell.execute_reply": "2022-02-27T10:54:34.131397Z",
     "shell.execute_reply.started": "2022-02-27T10:54:34.128077Z"
    }
   },
   "outputs": [
    {
     "data": {
      "text/plain": [
       "tensor([[[[-1.2777, -0.3132, -0.1935],\n",
       "          [-1.3820,  0.4954, -0.1378]],\n",
       "\n",
       "         [[-0.5987, -1.3815, -0.2658],\n",
       "          [ 0.9978, -0.3469,  0.3072]],\n",
       "\n",
       "         [[ 0.3435,  2.7185,  0.9041],\n",
       "          [ 1.2017, -0.2470, -0.8239]]],\n",
       "\n",
       "\n",
       "        [[[ 0.2966, -0.1406, -0.1407],\n",
       "          [-0.2746, -0.1809, -0.7302]],\n",
       "\n",
       "         [[-1.9590, -0.9930,  1.4540],\n",
       "          [-0.3902,  1.7448, -1.2209]],\n",
       "\n",
       "         [[ 1.0613, -0.8649,  1.7884],\n",
       "          [-0.0712, -0.0990,  0.7202]]]])"
      ]
     },
     "execution_count": 83,
     "metadata": {},
     "output_type": "execute_result"
    }
   ],
   "source": [
    "(image-mean_layer_norm)/std_layer_norm "
   ]
  },
  {
   "cell_type": "code",
   "execution_count": 85,
   "id": "54282cee-f68a-4a18-ab5e-a131b9274caa",
   "metadata": {
    "execution": {
     "iopub.execute_input": "2022-02-27T10:56:49.146533Z",
     "iopub.status.busy": "2022-02-27T10:56:49.146195Z",
     "iopub.status.idle": "2022-02-27T10:56:49.151132Z",
     "shell.execute_reply": "2022-02-27T10:56:49.150716Z",
     "shell.execute_reply.started": "2022-02-27T10:56:49.146517Z"
    }
   },
   "outputs": [
    {
     "data": {
      "text/plain": [
       "tensor([[[[-0.3690]],\n",
       "\n",
       "         [[-0.2856]],\n",
       "\n",
       "         [[ 0.4471]]]])"
      ]
     },
     "execution_count": 85,
     "metadata": {},
     "output_type": "execute_result"
    }
   ],
   "source": [
    "mean_batch_norm = image.mean((0,2,3), keepdim=True)\n",
    "std_batch_norm = image.std((0,2,3), unbiased = False, keepdim=True)\n",
    "mean_batch_norm "
   ]
  },
  {
   "cell_type": "code",
   "execution_count": 86,
   "id": "d9c40d36-73fa-4ca5-bf6e-c6426a69922b",
   "metadata": {
    "execution": {
     "iopub.execute_input": "2022-02-27T10:57:50.643200Z",
     "iopub.status.busy": "2022-02-27T10:57:50.643023Z",
     "iopub.status.idle": "2022-02-27T10:57:50.646996Z",
     "shell.execute_reply": "2022-02-27T10:57:50.646709Z",
     "shell.execute_reply.started": "2022-02-27T10:57:50.643180Z"
    }
   },
   "outputs": [
    {
     "data": {
      "text/plain": [
       "tensor([[[[-1.7121, -0.5644, -0.4219],\n",
       "          [-1.8363,  0.3980, -0.3556]],\n",
       "\n",
       "         [[-0.5558, -1.0597, -0.3415],\n",
       "          [ 0.4718, -0.3937,  0.0273]],\n",
       "\n",
       "         [[-0.6478,  1.2001, -0.2116],\n",
       "          [ 0.0199, -1.1072, -1.5560]]],\n",
       "\n",
       "\n",
       "        [[[ 1.5818,  0.8409,  0.8409],\n",
       "          [ 0.6139,  0.7727, -0.1579]],\n",
       "\n",
       "         [[-1.2783, -0.3931,  1.8494],\n",
       "          [ 0.1594,  2.1159, -0.6019]],\n",
       "\n",
       "         [[ 1.0914, -1.0422,  1.8967],\n",
       "          [-0.1631, -0.1939,  0.7135]]]])"
      ]
     },
     "execution_count": 86,
     "metadata": {},
     "output_type": "execute_result"
    }
   ],
   "source": [
    "(image-mean_batch_norm)/std_batch_norm "
   ]
  },
  {
   "cell_type": "code",
   "execution_count": null,
   "id": "e576c3f6-361b-411a-ba4a-ba52d0352797",
   "metadata": {},
   "outputs": [],
   "source": []
  }
 ],
 "metadata": {
  "kernelspec": {
   "display_name": "pt10",
   "language": "python",
   "name": "pt10"
  },
  "language_info": {
   "codemirror_mode": {
    "name": "ipython",
    "version": 3
   },
   "file_extension": ".py",
   "mimetype": "text/x-python",
   "name": "python",
   "nbconvert_exporter": "python",
   "pygments_lexer": "ipython3",
   "version": "3.8.12"
  }
 },
 "nbformat": 4,
 "nbformat_minor": 5
}
