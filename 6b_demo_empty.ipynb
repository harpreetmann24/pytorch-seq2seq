{
 "cells": [
  {
   "cell_type": "markdown",
   "metadata": {},
   "source": [
    "# 6 - Attention is All You Need\n",
    "\n",
    "In this notebook we will be implementing a (slightly modified version) of the Transformer model from the [Attention is All You Need](https://arxiv.org/abs/1706.03762) paper. All images in this notebook will be taken from the Transformer paper. For more information about the Transformer, [see](https://www.mihaileric.com/posts/transformers-attention-in-disguise/) [these](https://jalammar.github.io/illustrated-transformer/) [three](http://nlp.seas.harvard.edu/2018/04/03/attention.html) articles.\n",
    "\n",
    "![](assets/transformer1.png)\n",
    "\n",
    "## Introduction\n",
    "\n",
    "Similar to the Convolutional Sequence-to-Sequence model, the Transformer does not use any recurrence. It also does not use any convolutional layers. Instead the model is entirely made up of linear layers, attention mechanisms and normalization. \n",
    "\n",
    "As of January 2020, Transformers are the dominant architecture in NLP and are used to achieve state-of-the-art results for many tasks and it appears as if they will be for the near future. \n",
    "\n",
    "The most popular Transformer variant is [BERT](https://arxiv.org/abs/1810.04805) (**B**idirectional **E**ncoder **R**epresentations from **T**ransformers) and pre-trained versions of BERT are commonly used to replace the embedding layers - if not more - in NLP models. \n",
    "\n",
    "A common library used when dealing with pre-trained transformers is the [Transformers](https://huggingface.co/transformers/) library, see [here](https://huggingface.co/transformers/pretrained_models.html) for a list of all pre-trained models available.\n",
    "\n",
    "The differences between the implementation in this notebook and the paper are:\n",
    "- we use a learned positional encoding instead of a static one\n",
    "- we use the standard Adam optimizer with a static learning rate instead of one with warm-up and cool-down steps\n",
    "- we do not use label smoothing\n",
    "\n",
    "We make all of these changes as they closely follow BERT's set-up and the majority of Transformer variants use a similar set-up."
   ]
  },
  {
   "cell_type": "markdown",
   "metadata": {
    "execution": {
     "iopub.execute_input": "2022-02-27T08:35:50.289004Z",
     "iopub.status.busy": "2022-02-27T08:35:50.288736Z",
     "iopub.status.idle": "2022-02-27T08:35:50.291235Z",
     "shell.execute_reply": "2022-02-27T08:35:50.290917Z",
     "shell.execute_reply.started": "2022-02-27T08:35:50.288989Z"
    }
   },
   "source": [
    "## Import Libraries\n",
    "As always, let's import all the required modules and set the random seeds for reproducability."
   ]
  },
  {
   "cell_type": "code",
   "execution_count": 78,
   "metadata": {
    "execution": {
     "iopub.execute_input": "2022-03-05T17:35:45.053889Z",
     "iopub.status.busy": "2022-03-05T17:35:45.053652Z",
     "iopub.status.idle": "2022-03-05T17:35:45.060332Z",
     "shell.execute_reply": "2022-03-05T17:35:45.059875Z",
     "shell.execute_reply.started": "2022-03-05T17:35:45.053845Z"
    },
    "tags": []
   },
   "outputs": [],
   "source": [
    "import torch\n",
    "import torch.nn as nn\n",
    "import torch.optim as optim\n",
    "from torch.utils.data import DataLoader, Dataset\n",
    "from torch.nn.utils.rnn import pad_sequence\n",
    "\n",
    "import torchtext \n",
    "from torchtext.datasets import Multi30k\n",
    "from torchtext.vocab import vocab\n",
    "#from torchtext.legacy.data import Field, BucketIterator\n",
    "\n",
    "import spacy\n",
    "import numpy as np\n",
    "from collections import Counter, OrderedDict\n",
    "\n",
    "import random\n",
    "import math\n",
    "import time\n",
    "import pandas as pd\n",
    "from pathlib import Path\n",
    "\n",
    "import matplotlib.pyplot as plt\n",
    "import matplotlib.ticker as ticker\n",
    "\n",
    "import swifter"
   ]
  },
  {
   "cell_type": "code",
   "execution_count": 79,
   "metadata": {
    "execution": {
     "iopub.execute_input": "2022-03-05T17:35:45.655593Z",
     "iopub.status.busy": "2022-03-05T17:35:45.655371Z",
     "iopub.status.idle": "2022-03-05T17:35:45.660773Z",
     "shell.execute_reply": "2022-03-05T17:35:45.660377Z",
     "shell.execute_reply.started": "2022-03-05T17:35:45.655564Z"
    },
    "tags": []
   },
   "outputs": [],
   "source": [
    "SEED = 1234\n",
    "\n",
    "random.seed(SEED)\n",
    "np.random.seed(SEED)\n",
    "torch.manual_seed(SEED)\n",
    "torch.cuda.manual_seed(SEED)\n",
    "torch.backends.cudnn.deterministic = True"
   ]
  },
  {
   "cell_type": "code",
   "execution_count": 80,
   "metadata": {
    "execution": {
     "iopub.execute_input": "2022-03-05T17:35:46.212781Z",
     "iopub.status.busy": "2022-03-05T17:35:46.212545Z",
     "iopub.status.idle": "2022-03-05T17:35:46.217676Z",
     "shell.execute_reply": "2022-03-05T17:35:46.217133Z",
     "shell.execute_reply.started": "2022-03-05T17:35:46.212737Z"
    },
    "tags": []
   },
   "outputs": [
    {
     "data": {
      "text/plain": [
       "('0.11.0', '1.10.0', True, '3.2.1')"
      ]
     },
     "execution_count": 80,
     "metadata": {},
     "output_type": "execute_result"
    }
   ],
   "source": [
    "torchtext.__version__, torch.__version__, torch.cuda.is_available(), spacy.__version__"
   ]
  },
  {
   "cell_type": "markdown",
   "metadata": {},
   "source": [
    "## Preparing the Data\n",
    "\n"
   ]
  },
  {
   "cell_type": "code",
   "execution_count": 81,
   "metadata": {
    "execution": {
     "iopub.execute_input": "2022-03-05T17:35:47.170953Z",
     "iopub.status.busy": "2022-03-05T17:35:47.170718Z",
     "iopub.status.idle": "2022-03-05T17:35:47.174766Z",
     "shell.execute_reply": "2022-03-05T17:35:47.174297Z",
     "shell.execute_reply.started": "2022-03-05T17:35:47.170911Z"
    },
    "tags": []
   },
   "outputs": [],
   "source": [
    "data_folder = Path('/home/harpreet/Insync/google_drive_shaannoor/Data/NLP')\n",
    "project_folder = Path('/home/harpreet/Insync/google_drive_harpreet/Research/NLP/pytorch-seq2seq')"
   ]
  },
  {
   "cell_type": "code",
   "execution_count": 82,
   "metadata": {
    "execution": {
     "iopub.execute_input": "2022-03-05T17:35:47.666125Z",
     "iopub.status.busy": "2022-03-05T17:35:47.665878Z",
     "iopub.status.idle": "2022-03-05T17:35:47.671764Z",
     "shell.execute_reply": "2022-03-05T17:35:47.671305Z",
     "shell.execute_reply.started": "2022-03-05T17:35:47.666080Z"
    },
    "tags": []
   },
   "outputs": [
    {
     "data": {
      "text/plain": [
       "('0.11.0', '1.10.0', True, '3.2.1')"
      ]
     },
     "execution_count": 82,
     "metadata": {},
     "output_type": "execute_result"
    }
   ],
   "source": [
    "torchtext.__version__, torch.__version__, torch.cuda.is_available(), spacy.__version__"
   ]
  },
  {
   "cell_type": "markdown",
   "metadata": {},
   "source": [
    "We'll then create our tokenizers as before."
   ]
  },
  {
   "cell_type": "markdown",
   "metadata": {},
   "source": [
    "### Load tokenized data"
   ]
  },
  {
   "cell_type": "code",
   "execution_count": 83,
   "metadata": {
    "execution": {
     "iopub.execute_input": "2022-03-05T17:35:48.730439Z",
     "iopub.status.busy": "2022-03-05T17:35:48.730199Z",
     "iopub.status.idle": "2022-03-05T17:35:48.935530Z",
     "shell.execute_reply": "2022-03-05T17:35:48.934993Z",
     "shell.execute_reply.started": "2022-03-05T17:35:48.730410Z"
    },
    "tags": []
   },
   "outputs": [],
   "source": [
    "df_train = pd.read_pickle(project_folder/'df_train_en_de.pickel')\n",
    "df_test =  pd.read_pickle(project_folder/'df_test_en_de.pickel')\n",
    "df_valid = pd.read_pickle(project_folder/'df_valid_en_de.pickel')"
   ]
  },
  {
   "cell_type": "code",
   "execution_count": 84,
   "metadata": {
    "execution": {
     "iopub.execute_input": "2022-03-05T17:35:49.131291Z",
     "iopub.status.busy": "2022-03-05T17:35:49.131050Z",
     "iopub.status.idle": "2022-03-05T17:35:49.159609Z",
     "shell.execute_reply": "2022-03-05T17:35:49.159073Z",
     "shell.execute_reply.started": "2022-03-05T17:35:49.131260Z"
    },
    "tags": []
   },
   "outputs": [
    {
     "data": {
      "text/html": [
       "<div>\n",
       "<style scoped>\n",
       "    .dataframe tbody tr th:only-of-type {\n",
       "        vertical-align: middle;\n",
       "    }\n",
       "\n",
       "    .dataframe tbody tr th {\n",
       "        vertical-align: top;\n",
       "    }\n",
       "\n",
       "    .dataframe thead th {\n",
       "        text-align: right;\n",
       "    }\n",
       "</style>\n",
       "<table border=\"1\" class=\"dataframe\">\n",
       "  <thead>\n",
       "    <tr style=\"text-align: right;\">\n",
       "      <th></th>\n",
       "      <th>source_tokens</th>\n",
       "      <th>target_tokens</th>\n",
       "      <th>source_tokens_reverse</th>\n",
       "    </tr>\n",
       "  </thead>\n",
       "  <tbody>\n",
       "    <tr>\n",
       "      <th>0</th>\n",
       "      <td>[zwei, junge, weiße, männer, sind, i, m, freie...</td>\n",
       "      <td>[two, young, ,, white, males, are, outside, ne...</td>\n",
       "      <td>[., büsche, vieler, nähe, der, in, freien, m, ...</td>\n",
       "    </tr>\n",
       "    <tr>\n",
       "      <th>1</th>\n",
       "      <td>[mehrere, männer, mit, schutzhelmen, bedienen,...</td>\n",
       "      <td>[several, men, in, hard, hats, are, operating,...</td>\n",
       "      <td>[., antriebsradsystem, ein, bedienen, schutzhe...</td>\n",
       "    </tr>\n",
       "    <tr>\n",
       "      <th>2</th>\n",
       "      <td>[ein, kleines, mädchen, klettert, in, ein, spi...</td>\n",
       "      <td>[a, little, girl, climbing, into, a, wooden, p...</td>\n",
       "      <td>[., holz, aus, spielhaus, ein, in, klettert, m...</td>\n",
       "    </tr>\n",
       "    <tr>\n",
       "      <th>3</th>\n",
       "      <td>[ein, mann, in, einem, blauen, hemd, steht, au...</td>\n",
       "      <td>[a, man, in, a, blue, shirt, is, standing, on,...</td>\n",
       "      <td>[., fenster, ein, putzt, und, leiter, einer, a...</td>\n",
       "    </tr>\n",
       "    <tr>\n",
       "      <th>4</th>\n",
       "      <td>[zwei, männer, stehen, am, herd, und, bereiten...</td>\n",
       "      <td>[two, men, are, at, the, stove, preparing, foo...</td>\n",
       "      <td>[., zu, essen, bereiten, und, herd, am, stehen...</td>\n",
       "    </tr>\n",
       "    <tr>\n",
       "      <th>...</th>\n",
       "      <td>...</td>\n",
       "      <td>...</td>\n",
       "      <td>...</td>\n",
       "    </tr>\n",
       "    <tr>\n",
       "      <th>28995</th>\n",
       "      <td>[., wand, verschnörkelten, einer, hinter, schr...</td>\n",
       "      <td>[a, woman, behind, a, scrolled, wall, is, writ...</td>\n",
       "      <td>[eine, frau, schreibt, hinter, einer, verschnö...</td>\n",
       "    </tr>\n",
       "    <tr>\n",
       "      <th>28996</th>\n",
       "      <td>[., kletterwand, einer, an, übt, bergsteiger, ...</td>\n",
       "      <td>[a, rock, climber, practices, on, a, rock, cli...</td>\n",
       "      <td>[ein, bergsteiger, übt, an, einer, kletterwand...</td>\n",
       "    </tr>\n",
       "    <tr>\n",
       "      <th>28997</th>\n",
       "      <td>[., hauses, einem, vor, straße, einer, auf, ar...</td>\n",
       "      <td>[two, male, construction, workers, are, workin...</td>\n",
       "      <td>[zwei, bauarbeiter, arbeiten, auf, einer, stra...</td>\n",
       "    </tr>\n",
       "    <tr>\n",
       "      <th>28998</th>\n",
       "      <td>[., fassade, einer, vor, wagen, einem, mit, ju...</td>\n",
       "      <td>[an, elderly, man, sits, outside, a, storefron...</td>\n",
       "      <td>[ein, älterer, mann, sitzt, mit, einem, jungen...</td>\n",
       "    </tr>\n",
       "    <tr>\n",
       "      <th>28999</th>\n",
       "      <td>[., hintergrund, m, i, bergen, und, nebel, mit...</td>\n",
       "      <td>[a, man, in, shorts, and, a, hawaiian, shirt, ...</td>\n",
       "      <td>[ein, mann, in, shorts, und, hawaiihemd, lehnt...</td>\n",
       "    </tr>\n",
       "  </tbody>\n",
       "</table>\n",
       "<p>29000 rows × 3 columns</p>\n",
       "</div>"
      ],
      "text/plain": [
       "                                           source_tokens  \\\n",
       "0      [zwei, junge, weiße, männer, sind, i, m, freie...   \n",
       "1      [mehrere, männer, mit, schutzhelmen, bedienen,...   \n",
       "2      [ein, kleines, mädchen, klettert, in, ein, spi...   \n",
       "3      [ein, mann, in, einem, blauen, hemd, steht, au...   \n",
       "4      [zwei, männer, stehen, am, herd, und, bereiten...   \n",
       "...                                                  ...   \n",
       "28995  [., wand, verschnörkelten, einer, hinter, schr...   \n",
       "28996  [., kletterwand, einer, an, übt, bergsteiger, ...   \n",
       "28997  [., hauses, einem, vor, straße, einer, auf, ar...   \n",
       "28998  [., fassade, einer, vor, wagen, einem, mit, ju...   \n",
       "28999  [., hintergrund, m, i, bergen, und, nebel, mit...   \n",
       "\n",
       "                                           target_tokens  \\\n",
       "0      [two, young, ,, white, males, are, outside, ne...   \n",
       "1      [several, men, in, hard, hats, are, operating,...   \n",
       "2      [a, little, girl, climbing, into, a, wooden, p...   \n",
       "3      [a, man, in, a, blue, shirt, is, standing, on,...   \n",
       "4      [two, men, are, at, the, stove, preparing, foo...   \n",
       "...                                                  ...   \n",
       "28995  [a, woman, behind, a, scrolled, wall, is, writ...   \n",
       "28996  [a, rock, climber, practices, on, a, rock, cli...   \n",
       "28997  [two, male, construction, workers, are, workin...   \n",
       "28998  [an, elderly, man, sits, outside, a, storefron...   \n",
       "28999  [a, man, in, shorts, and, a, hawaiian, shirt, ...   \n",
       "\n",
       "                                   source_tokens_reverse  \n",
       "0      [., büsche, vieler, nähe, der, in, freien, m, ...  \n",
       "1      [., antriebsradsystem, ein, bedienen, schutzhe...  \n",
       "2      [., holz, aus, spielhaus, ein, in, klettert, m...  \n",
       "3      [., fenster, ein, putzt, und, leiter, einer, a...  \n",
       "4      [., zu, essen, bereiten, und, herd, am, stehen...  \n",
       "...                                                  ...  \n",
       "28995  [eine, frau, schreibt, hinter, einer, verschnö...  \n",
       "28996  [ein, bergsteiger, übt, an, einer, kletterwand...  \n",
       "28997  [zwei, bauarbeiter, arbeiten, auf, einer, stra...  \n",
       "28998  [ein, älterer, mann, sitzt, mit, einem, jungen...  \n",
       "28999  [ein, mann, in, shorts, und, hawaiihemd, lehnt...  \n",
       "\n",
       "[29000 rows x 3 columns]"
      ]
     },
     "execution_count": 84,
     "metadata": {},
     "output_type": "execute_result"
    }
   ],
   "source": [
    "df_train_small = df_train"
   ]
  },
  {
   "cell_type": "code",
   "execution_count": 85,
   "metadata": {
    "execution": {
     "iopub.execute_input": "2022-03-05T17:35:49.649321Z",
     "iopub.status.busy": "2022-03-05T17:35:49.649081Z",
     "iopub.status.idle": "2022-03-05T17:35:49.676487Z",
     "shell.execute_reply": "2022-03-05T17:35:49.675961Z",
     "shell.execute_reply.started": "2022-03-05T17:35:49.649292Z"
    },
    "tags": []
   },
   "outputs": [
    {
     "data": {
      "text/html": [
       "<div>\n",
       "<style scoped>\n",
       "    .dataframe tbody tr th:only-of-type {\n",
       "        vertical-align: middle;\n",
       "    }\n",
       "\n",
       "    .dataframe tbody tr th {\n",
       "        vertical-align: top;\n",
       "    }\n",
       "\n",
       "    .dataframe thead th {\n",
       "        text-align: right;\n",
       "    }\n",
       "</style>\n",
       "<table border=\"1\" class=\"dataframe\">\n",
       "  <thead>\n",
       "    <tr style=\"text-align: right;\">\n",
       "      <th></th>\n",
       "      <th>source_tokens</th>\n",
       "      <th>target_tokens</th>\n",
       "      <th>source_tokens_reverse</th>\n",
       "    </tr>\n",
       "  </thead>\n",
       "  <tbody>\n",
       "    <tr>\n",
       "      <th>0</th>\n",
       "      <td>[eine, gruppe, von, männern, lädt, baumwolle, ...</td>\n",
       "      <td>[a, group, of, men, are, loading, cotton, onto...</td>\n",
       "      <td>[lastwagen, einen, auf, baumwolle, lädt, männe...</td>\n",
       "    </tr>\n",
       "    <tr>\n",
       "      <th>1</th>\n",
       "      <td>[ein, mann, schläft, in, einem, grünen, raum, ...</td>\n",
       "      <td>[a, man, sleeping, in, a, green, room, on, a, ...</td>\n",
       "      <td>[., sofa, einem, auf, raum, grünen, einem, in,...</td>\n",
       "    </tr>\n",
       "    <tr>\n",
       "      <th>2</th>\n",
       "      <td>[ein, junge, mit, kopfhörern, sitzt, auf, den,...</td>\n",
       "      <td>[a, boy, wearing, headphones, sits, on, a, wom...</td>\n",
       "      <td>[., frau, einer, schultern, den, auf, sitzt, k...</td>\n",
       "    </tr>\n",
       "    <tr>\n",
       "      <th>3</th>\n",
       "      <td>[zwei, männer, bauen, eine, blaue, eisfischerh...</td>\n",
       "      <td>[two, men, setting, up, a, blue, ice, fishing,...</td>\n",
       "      <td>[auf, see, zugefrorenen, einem, auf, eisfische...</td>\n",
       "    </tr>\n",
       "    <tr>\n",
       "      <th>4</th>\n",
       "      <td>[ein, mann, mit, beginnender, glatze, ,, der, ...</td>\n",
       "      <td>[a, balding, man, wearing, a, red, life, jacke...</td>\n",
       "      <td>[., boot, kleinen, einem, in, sitzt, ,, trägt,...</td>\n",
       "    </tr>\n",
       "    <tr>\n",
       "      <th>...</th>\n",
       "      <td>...</td>\n",
       "      <td>...</td>\n",
       "      <td>...</td>\n",
       "    </tr>\n",
       "    <tr>\n",
       "      <th>1009</th>\n",
       "      <td>[., her, zuckerwatte, mann, ein, stellt, jahrm...</td>\n",
       "      <td>[at, some, sort, of, carnival, ,, a, man, is, ...</td>\n",
       "      <td>[bei, einer, art, jahrmarkt, stellt, ein, mann...</td>\n",
       "    </tr>\n",
       "    <tr>\n",
       "      <th>1010</th>\n",
       "      <td>[., bus, einem, vor, steht, polizisten, von, g...</td>\n",
       "      <td>[a, bunch, of, police, officers, are, standing...</td>\n",
       "      <td>[eine, gruppe, von, polizisten, steht, vor, ei...</td>\n",
       "    </tr>\n",
       "    <tr>\n",
       "      <th>1011</th>\n",
       "      <td>[., hindurch, brillengläser, ihre, durch, blic...</td>\n",
       "      <td>[a, elderly, white, -, haired, woman, is, look...</td>\n",
       "      <td>[eine, ältere, weißhaarige, frau, sieht, in, i...</td>\n",
       "    </tr>\n",
       "    <tr>\n",
       "      <th>1012</th>\n",
       "      <td>[., freien, m, i, telefonzellen, an, stehen, m...</td>\n",
       "      <td>[two, men, are, standing, at, telephone, booth...</td>\n",
       "      <td>[zwei, männer, stehen, an, telefonzellen, i, m...</td>\n",
       "    </tr>\n",
       "    <tr>\n",
       "      <th>1013</th>\n",
       "      <td>[., kommt, toilette, transportablen, einer, au...</td>\n",
       "      <td>[two, women, wearing, red, and, a, man, coming...</td>\n",
       "      <td>[zwei, frauen, in, rot, und, ein, mann, ,, der...</td>\n",
       "    </tr>\n",
       "  </tbody>\n",
       "</table>\n",
       "<p>1014 rows × 3 columns</p>\n",
       "</div>"
      ],
      "text/plain": [
       "                                          source_tokens  \\\n",
       "0     [eine, gruppe, von, männern, lädt, baumwolle, ...   \n",
       "1     [ein, mann, schläft, in, einem, grünen, raum, ...   \n",
       "2     [ein, junge, mit, kopfhörern, sitzt, auf, den,...   \n",
       "3     [zwei, männer, bauen, eine, blaue, eisfischerh...   \n",
       "4     [ein, mann, mit, beginnender, glatze, ,, der, ...   \n",
       "...                                                 ...   \n",
       "1009  [., her, zuckerwatte, mann, ein, stellt, jahrm...   \n",
       "1010  [., bus, einem, vor, steht, polizisten, von, g...   \n",
       "1011  [., hindurch, brillengläser, ihre, durch, blic...   \n",
       "1012  [., freien, m, i, telefonzellen, an, stehen, m...   \n",
       "1013  [., kommt, toilette, transportablen, einer, au...   \n",
       "\n",
       "                                          target_tokens  \\\n",
       "0     [a, group, of, men, are, loading, cotton, onto...   \n",
       "1     [a, man, sleeping, in, a, green, room, on, a, ...   \n",
       "2     [a, boy, wearing, headphones, sits, on, a, wom...   \n",
       "3     [two, men, setting, up, a, blue, ice, fishing,...   \n",
       "4     [a, balding, man, wearing, a, red, life, jacke...   \n",
       "...                                                 ...   \n",
       "1009  [at, some, sort, of, carnival, ,, a, man, is, ...   \n",
       "1010  [a, bunch, of, police, officers, are, standing...   \n",
       "1011  [a, elderly, white, -, haired, woman, is, look...   \n",
       "1012  [two, men, are, standing, at, telephone, booth...   \n",
       "1013  [two, women, wearing, red, and, a, man, coming...   \n",
       "\n",
       "                                  source_tokens_reverse  \n",
       "0     [lastwagen, einen, auf, baumwolle, lädt, männe...  \n",
       "1     [., sofa, einem, auf, raum, grünen, einem, in,...  \n",
       "2     [., frau, einer, schultern, den, auf, sitzt, k...  \n",
       "3     [auf, see, zugefrorenen, einem, auf, eisfische...  \n",
       "4     [., boot, kleinen, einem, in, sitzt, ,, trägt,...  \n",
       "...                                                 ...  \n",
       "1009  [bei, einer, art, jahrmarkt, stellt, ein, mann...  \n",
       "1010  [eine, gruppe, von, polizisten, steht, vor, ei...  \n",
       "1011  [eine, ältere, weißhaarige, frau, sieht, in, i...  \n",
       "1012  [zwei, männer, stehen, an, telefonzellen, i, m...  \n",
       "1013  [zwei, frauen, in, rot, und, ein, mann, ,, der...  \n",
       "\n",
       "[1014 rows x 3 columns]"
      ]
     },
     "execution_count": 85,
     "metadata": {},
     "output_type": "execute_result"
    }
   ],
   "source": [
    "df_valid"
   ]
  },
  {
   "cell_type": "code",
   "execution_count": 86,
   "metadata": {
    "execution": {
     "iopub.execute_input": "2022-03-05T17:35:49.847698Z",
     "iopub.status.busy": "2022-03-05T17:35:49.847409Z",
     "iopub.status.idle": "2022-03-05T17:35:49.875317Z",
     "shell.execute_reply": "2022-03-05T17:35:49.874881Z",
     "shell.execute_reply.started": "2022-03-05T17:35:49.847665Z"
    },
    "tags": []
   },
   "outputs": [
    {
     "data": {
      "text/html": [
       "<div>\n",
       "<style scoped>\n",
       "    .dataframe tbody tr th:only-of-type {\n",
       "        vertical-align: middle;\n",
       "    }\n",
       "\n",
       "    .dataframe tbody tr th {\n",
       "        vertical-align: top;\n",
       "    }\n",
       "\n",
       "    .dataframe thead th {\n",
       "        text-align: right;\n",
       "    }\n",
       "</style>\n",
       "<table border=\"1\" class=\"dataframe\">\n",
       "  <thead>\n",
       "    <tr style=\"text-align: right;\">\n",
       "      <th></th>\n",
       "      <th>source_tokens</th>\n",
       "      <th>target_tokens</th>\n",
       "      <th>source_tokens_reverse</th>\n",
       "    </tr>\n",
       "  </thead>\n",
       "  <tbody>\n",
       "    <tr>\n",
       "      <th>0</th>\n",
       "      <td>[ein, mann, mit, einem, orangefarbenen, hut, ,...</td>\n",
       "      <td>[a, man, in, an, orange, hat, starring, at, so...</td>\n",
       "      <td>[., anstarrt, etwas, der, ,, hut, orangefarben...</td>\n",
       "    </tr>\n",
       "    <tr>\n",
       "      <th>1</th>\n",
       "      <td>[ein, boston, terrier, läuft, über, saftig, -,...</td>\n",
       "      <td>[a, boston, terrier, is, running, on, lush, gr...</td>\n",
       "      <td>[., zaun, weißen, einem, vor, gras, grünes, -,...</td>\n",
       "    </tr>\n",
       "    <tr>\n",
       "      <th>2</th>\n",
       "      <td>[ein, mädchen, in, einem, karateanzug, bricht,...</td>\n",
       "      <td>[a, girl, in, karate, uniform, breaking, a, st...</td>\n",
       "      <td>[., tritt, einem, mit, stock, einen, bricht, k...</td>\n",
       "    </tr>\n",
       "    <tr>\n",
       "      <th>3</th>\n",
       "      <td>[fünf, leute, in, winterjacken, und, mit, helm...</td>\n",
       "      <td>[five, people, wearing, winter, jackets, and, ...</td>\n",
       "      <td>[., hintergrund, m, i, schneemobilen, mit, sch...</td>\n",
       "    </tr>\n",
       "    <tr>\n",
       "      <th>4</th>\n",
       "      <td>[leute, reparieren, das, dach, eines, hauses, .]</td>\n",
       "      <td>[people, are, fixing, the, roof, of, a, house, .]</td>\n",
       "      <td>[., hauses, eines, dach, das, reparieren, leute]</td>\n",
       "    </tr>\n",
       "    <tr>\n",
       "      <th>...</th>\n",
       "      <td>...</td>\n",
       "      <td>...</td>\n",
       "      <td>...</td>\n",
       "    </tr>\n",
       "    <tr>\n",
       "      <th>995</th>\n",
       "      <td>[., stehen, herum, sie, um, personen, andere, ...</td>\n",
       "      <td>[marathon, runners, are, racing, on, a, city, ...</td>\n",
       "      <td>[marathonläufer, laufen, auf, einer, städtisch...</td>\n",
       "    </tr>\n",
       "    <tr>\n",
       "      <th>996</th>\n",
       "      <td>[., fahrradfahren, beim, sonnenhut, einen, trä...</td>\n",
       "      <td>[asian, woman, wearing, a, sunhat, while, ridi...</td>\n",
       "      <td>[asiatische, frau, trägt, einen, sonnenhut, be...</td>\n",
       "    </tr>\n",
       "    <tr>\n",
       "      <th>997</th>\n",
       "      <td>[., bäumen, zwei, bei, boden, dem, auf, spiele...</td>\n",
       "      <td>[some, children, are, outside, playing, in, th...</td>\n",
       "      <td>[ein, paar, kinder, sind, i, m, freien, und, s...</td>\n",
       "    </tr>\n",
       "    <tr>\n",
       "      <th>998</th>\n",
       "      <td>[., videospiel, ein, spielt, mann, älterer, ein]</td>\n",
       "      <td>[an, older, man, is, playing, a, video, arcade...</td>\n",
       "      <td>[ein, älterer, mann, spielt, ein, videospiel, .]</td>\n",
       "    </tr>\n",
       "    <tr>\n",
       "      <th>999</th>\n",
       "      <td>[., hintergrund, m, i, berg, einem, mit, küste...</td>\n",
       "      <td>[a, girl, at, the, shore, of, a, beach, with, ...</td>\n",
       "      <td>[ein, mädchen, an, einer, küste, mit, einem, b...</td>\n",
       "    </tr>\n",
       "  </tbody>\n",
       "</table>\n",
       "<p>1000 rows × 3 columns</p>\n",
       "</div>"
      ],
      "text/plain": [
       "                                         source_tokens  \\\n",
       "0    [ein, mann, mit, einem, orangefarbenen, hut, ,...   \n",
       "1    [ein, boston, terrier, läuft, über, saftig, -,...   \n",
       "2    [ein, mädchen, in, einem, karateanzug, bricht,...   \n",
       "3    [fünf, leute, in, winterjacken, und, mit, helm...   \n",
       "4     [leute, reparieren, das, dach, eines, hauses, .]   \n",
       "..                                                 ...   \n",
       "995  [., stehen, herum, sie, um, personen, andere, ...   \n",
       "996  [., fahrradfahren, beim, sonnenhut, einen, trä...   \n",
       "997  [., bäumen, zwei, bei, boden, dem, auf, spiele...   \n",
       "998   [., videospiel, ein, spielt, mann, älterer, ein]   \n",
       "999  [., hintergrund, m, i, berg, einem, mit, küste...   \n",
       "\n",
       "                                         target_tokens  \\\n",
       "0    [a, man, in, an, orange, hat, starring, at, so...   \n",
       "1    [a, boston, terrier, is, running, on, lush, gr...   \n",
       "2    [a, girl, in, karate, uniform, breaking, a, st...   \n",
       "3    [five, people, wearing, winter, jackets, and, ...   \n",
       "4    [people, are, fixing, the, roof, of, a, house, .]   \n",
       "..                                                 ...   \n",
       "995  [marathon, runners, are, racing, on, a, city, ...   \n",
       "996  [asian, woman, wearing, a, sunhat, while, ridi...   \n",
       "997  [some, children, are, outside, playing, in, th...   \n",
       "998  [an, older, man, is, playing, a, video, arcade...   \n",
       "999  [a, girl, at, the, shore, of, a, beach, with, ...   \n",
       "\n",
       "                                 source_tokens_reverse  \n",
       "0    [., anstarrt, etwas, der, ,, hut, orangefarben...  \n",
       "1    [., zaun, weißen, einem, vor, gras, grünes, -,...  \n",
       "2    [., tritt, einem, mit, stock, einen, bricht, k...  \n",
       "3    [., hintergrund, m, i, schneemobilen, mit, sch...  \n",
       "4     [., hauses, eines, dach, das, reparieren, leute]  \n",
       "..                                                 ...  \n",
       "995  [marathonläufer, laufen, auf, einer, städtisch...  \n",
       "996  [asiatische, frau, trägt, einen, sonnenhut, be...  \n",
       "997  [ein, paar, kinder, sind, i, m, freien, und, s...  \n",
       "998   [ein, älterer, mann, spielt, ein, videospiel, .]  \n",
       "999  [ein, mädchen, an, einer, küste, mit, einem, b...  \n",
       "\n",
       "[1000 rows x 3 columns]"
      ]
     },
     "execution_count": 86,
     "metadata": {},
     "output_type": "execute_result"
    }
   ],
   "source": [
    "df_test"
   ]
  },
  {
   "cell_type": "markdown",
   "metadata": {
    "id": "If-BMrTctAXj"
   },
   "source": [
    "### Build Vocab"
   ]
  },
  {
   "cell_type": "code",
   "execution_count": 87,
   "metadata": {
    "execution": {
     "iopub.execute_input": "2022-03-05T17:35:50.395976Z",
     "iopub.status.busy": "2022-03-05T17:35:50.395727Z",
     "iopub.status.idle": "2022-03-05T17:35:50.401416Z",
     "shell.execute_reply": "2022-03-05T17:35:50.400958Z",
     "shell.execute_reply.started": "2022-03-05T17:35:50.395947Z"
    },
    "executionInfo": {
     "elapsed": 309,
     "status": "ok",
     "timestamp": 1644562027083,
     "user": {
      "displayName": "Shaannoor Mann",
      "photoUrl": "https://lh3.googleusercontent.com/a/default-user=s64",
      "userId": "02520257695567980696"
     },
     "user_tz": 360
    },
    "id": "GY9kL2JxtAXj",
    "tags": []
   },
   "outputs": [],
   "source": [
    "def create_vocab(text, min_freq, specials):\n",
    "    my_counter = Counter()\n",
    "    for line in text:\n",
    "       my_counter.update(line)\n",
    "    my_vocab = vocab(my_counter, min_freq=min_freq)\n",
    "    for i, special in enumerate(specials):\n",
    "        my_vocab.insert_token(special, i)\n",
    "    my_vocab.set_default_index(0)\n",
    "    return my_vocab"
   ]
  },
  {
   "cell_type": "code",
   "execution_count": 88,
   "metadata": {
    "execution": {
     "iopub.execute_input": "2022-03-05T17:35:50.830855Z",
     "iopub.status.busy": "2022-03-05T17:35:50.830630Z",
     "iopub.status.idle": "2022-03-05T17:35:50.937984Z",
     "shell.execute_reply": "2022-03-05T17:35:50.937538Z",
     "shell.execute_reply.started": "2022-03-05T17:35:50.830826Z"
    },
    "executionInfo": {
     "elapsed": 1,
     "status": "ok",
     "timestamp": 1644562028109,
     "user": {
      "displayName": "Shaannoor Mann",
      "photoUrl": "https://lh3.googleusercontent.com/a/default-user=s64",
      "userId": "02520257695567980696"
     },
     "user_tz": 360
    },
    "id": "dcvIJAIHtAXj",
    "tags": []
   },
   "outputs": [],
   "source": [
    "source_vocab = create_vocab(df_train['source_tokens'], 2, ['<unk>', '<BOS>', '<EOS>', '<PAD>'])"
   ]
  },
  {
   "cell_type": "code",
   "execution_count": 89,
   "metadata": {
    "colab": {
     "base_uri": "https://localhost:8080/"
    },
    "execution": {
     "iopub.execute_input": "2022-03-05T17:35:51.282315Z",
     "iopub.status.busy": "2022-03-05T17:35:51.282111Z",
     "iopub.status.idle": "2022-03-05T17:35:51.287122Z",
     "shell.execute_reply": "2022-03-05T17:35:51.286638Z",
     "shell.execute_reply.started": "2022-03-05T17:35:51.282287Z"
    },
    "executionInfo": {
     "elapsed": 2,
     "status": "ok",
     "timestamp": 1644562029061,
     "user": {
      "displayName": "Shaannoor Mann",
      "photoUrl": "https://lh3.googleusercontent.com/a/default-user=s64",
      "userId": "02520257695567980696"
     },
     "user_tz": 360
    },
    "id": "qtEt9Sh-tAXk",
    "outputId": "1764add1-bf7a-4c9f-f38c-efff19b32b07",
    "tags": []
   },
   "outputs": [
    {
     "data": {
      "text/plain": [
       "7874"
      ]
     },
     "execution_count": 89,
     "metadata": {},
     "output_type": "execute_result"
    }
   ],
   "source": [
    "len(source_vocab)"
   ]
  },
  {
   "cell_type": "code",
   "execution_count": 90,
   "metadata": {
    "colab": {
     "base_uri": "https://localhost:8080/",
     "height": 423
    },
    "execution": {
     "iopub.execute_input": "2022-03-05T17:35:51.720218Z",
     "iopub.status.busy": "2022-03-05T17:35:51.719955Z",
     "iopub.status.idle": "2022-03-05T17:35:51.739824Z",
     "shell.execute_reply": "2022-03-05T17:35:51.739418Z",
     "shell.execute_reply.started": "2022-03-05T17:35:51.720188Z"
    },
    "executionInfo": {
     "elapsed": 3,
     "status": "ok",
     "timestamp": 1644562030020,
     "user": {
      "displayName": "Shaannoor Mann",
      "photoUrl": "https://lh3.googleusercontent.com/a/default-user=s64",
      "userId": "02520257695567980696"
     },
     "user_tz": 360
    },
    "id": "bf9fu5L2tAXk",
    "outputId": "35252b98-1fff-4186-8274-aadae1b1b0b4",
    "tags": []
   },
   "outputs": [
    {
     "data": {
      "text/html": [
       "<div>\n",
       "<style scoped>\n",
       "    .dataframe tbody tr th:only-of-type {\n",
       "        vertical-align: middle;\n",
       "    }\n",
       "\n",
       "    .dataframe tbody tr th {\n",
       "        vertical-align: top;\n",
       "    }\n",
       "\n",
       "    .dataframe thead th {\n",
       "        text-align: right;\n",
       "    }\n",
       "</style>\n",
       "<table border=\"1\" class=\"dataframe\">\n",
       "  <thead>\n",
       "    <tr style=\"text-align: right;\">\n",
       "      <th></th>\n",
       "      <th>tokens</th>\n",
       "      <th>index</th>\n",
       "    </tr>\n",
       "  </thead>\n",
       "  <tbody>\n",
       "    <tr>\n",
       "      <th>4986</th>\n",
       "      <td>&lt;unk&gt;</td>\n",
       "      <td>0</td>\n",
       "    </tr>\n",
       "    <tr>\n",
       "      <th>3333</th>\n",
       "      <td>&lt;BOS&gt;</td>\n",
       "      <td>1</td>\n",
       "    </tr>\n",
       "    <tr>\n",
       "      <th>3840</th>\n",
       "      <td>&lt;EOS&gt;</td>\n",
       "      <td>2</td>\n",
       "    </tr>\n",
       "    <tr>\n",
       "      <th>4539</th>\n",
       "      <td>&lt;PAD&gt;</td>\n",
       "      <td>3</td>\n",
       "    </tr>\n",
       "    <tr>\n",
       "      <th>3551</th>\n",
       "      <td>zwei</td>\n",
       "      <td>4</td>\n",
       "    </tr>\n",
       "    <tr>\n",
       "      <th>...</th>\n",
       "      <td>...</td>\n",
       "      <td>...</td>\n",
       "    </tr>\n",
       "    <tr>\n",
       "      <th>2</th>\n",
       "      <td>geländefahrzeugs</td>\n",
       "      <td>7869</td>\n",
       "    </tr>\n",
       "    <tr>\n",
       "      <th>1</th>\n",
       "      <td>sonnentag</td>\n",
       "      <td>7870</td>\n",
       "    </tr>\n",
       "    <tr>\n",
       "      <th>0</th>\n",
       "      <td>lederoberteil</td>\n",
       "      <td>7871</td>\n",
       "    </tr>\n",
       "    <tr>\n",
       "      <th>2376</th>\n",
       "      <td>reisfeld</td>\n",
       "      <td>7872</td>\n",
       "    </tr>\n",
       "    <tr>\n",
       "      <th>276</th>\n",
       "      <td>garnelen</td>\n",
       "      <td>7873</td>\n",
       "    </tr>\n",
       "  </tbody>\n",
       "</table>\n",
       "<p>7874 rows × 2 columns</p>\n",
       "</div>"
      ],
      "text/plain": [
       "                tokens  index\n",
       "4986             <unk>      0\n",
       "3333             <BOS>      1\n",
       "3840             <EOS>      2\n",
       "4539             <PAD>      3\n",
       "3551              zwei      4\n",
       "...                ...    ...\n",
       "2     geländefahrzeugs   7869\n",
       "1            sonnentag   7870\n",
       "0        lederoberteil   7871\n",
       "2376          reisfeld   7872\n",
       "276           garnelen   7873\n",
       "\n",
       "[7874 rows x 2 columns]"
      ]
     },
     "execution_count": 90,
     "metadata": {},
     "output_type": "execute_result"
    }
   ],
   "source": [
    "pd.DataFrame(source_vocab.get_stoi().items(), columns=['tokens', 'index']).sort_values(by = ['index'])"
   ]
  },
  {
   "cell_type": "code",
   "execution_count": 91,
   "metadata": {
    "colab": {
     "base_uri": "https://localhost:8080/"
    },
    "execution": {
     "iopub.execute_input": "2022-03-05T17:35:52.275408Z",
     "iopub.status.busy": "2022-03-05T17:35:52.275171Z",
     "iopub.status.idle": "2022-03-05T17:35:52.280022Z",
     "shell.execute_reply": "2022-03-05T17:35:52.279518Z",
     "shell.execute_reply.started": "2022-03-05T17:35:52.275380Z"
    },
    "executionInfo": {
     "elapsed": 2,
     "status": "ok",
     "timestamp": 1644562031101,
     "user": {
      "displayName": "Shaannoor Mann",
      "photoUrl": "https://lh3.googleusercontent.com/a/default-user=s64",
      "userId": "02520257695567980696"
     },
     "user_tz": 360
    },
    "id": "8pKCTbN6tAXk",
    "outputId": "fd7c0bbb-562a-4313-fcb7-16a486abe4fd",
    "tags": []
   },
   "outputs": [
    {
     "data": {
      "text/plain": [
       "0"
      ]
     },
     "execution_count": 91,
     "metadata": {},
     "output_type": "execute_result"
    }
   ],
   "source": [
    "# check index of unknown word - it should be zero\n",
    "source_vocab['abracdabra']"
   ]
  },
  {
   "cell_type": "code",
   "execution_count": 92,
   "metadata": {
    "execution": {
     "iopub.execute_input": "2022-03-05T17:35:52.480743Z",
     "iopub.status.busy": "2022-03-05T17:35:52.480506Z",
     "iopub.status.idle": "2022-03-05T17:35:52.584774Z",
     "shell.execute_reply": "2022-03-05T17:35:52.584336Z",
     "shell.execute_reply.started": "2022-03-05T17:35:52.480714Z"
    },
    "executionInfo": {
     "elapsed": 637,
     "status": "ok",
     "timestamp": 1644562032737,
     "user": {
      "displayName": "Shaannoor Mann",
      "photoUrl": "https://lh3.googleusercontent.com/a/default-user=s64",
      "userId": "02520257695567980696"
     },
     "user_tz": 360
    },
    "id": "qkXg6IratAXk",
    "tags": []
   },
   "outputs": [],
   "source": [
    "target_vocab = create_vocab(df_train['target_tokens'], 2, ['<unk>', '<BOS>', '<EOS>', '<PAD>'])"
   ]
  },
  {
   "cell_type": "code",
   "execution_count": 93,
   "metadata": {
    "colab": {
     "base_uri": "https://localhost:8080/"
    },
    "execution": {
     "iopub.execute_input": "2022-03-05T17:35:52.947260Z",
     "iopub.status.busy": "2022-03-05T17:35:52.947054Z",
     "iopub.status.idle": "2022-03-05T17:35:52.951963Z",
     "shell.execute_reply": "2022-03-05T17:35:52.951534Z",
     "shell.execute_reply.started": "2022-03-05T17:35:52.947231Z"
    },
    "executionInfo": {
     "elapsed": 2,
     "status": "ok",
     "timestamp": 1644562033264,
     "user": {
      "displayName": "Shaannoor Mann",
      "photoUrl": "https://lh3.googleusercontent.com/a/default-user=s64",
      "userId": "02520257695567980696"
     },
     "user_tz": 360
    },
    "id": "v_Y8C62GtAXk",
    "outputId": "e8c4cb40-b386-43c9-9f34-887f5f5c4ed1",
    "tags": []
   },
   "outputs": [
    {
     "data": {
      "text/plain": [
       "5893"
      ]
     },
     "execution_count": 93,
     "metadata": {},
     "output_type": "execute_result"
    }
   ],
   "source": [
    "len(target_vocab)"
   ]
  },
  {
   "cell_type": "markdown",
   "metadata": {
    "id": "feccYoeWtAXk"
   },
   "source": [
    "### Create Dataset and Dataloader"
   ]
  },
  {
   "cell_type": "code",
   "execution_count": 94,
   "metadata": {
    "execution": {
     "iopub.execute_input": "2022-03-05T17:35:53.473470Z",
     "iopub.status.busy": "2022-03-05T17:35:53.473236Z",
     "iopub.status.idle": "2022-03-05T17:35:53.478513Z",
     "shell.execute_reply": "2022-03-05T17:35:53.477924Z",
     "shell.execute_reply.started": "2022-03-05T17:35:53.473442Z"
    },
    "executionInfo": {
     "elapsed": 2,
     "status": "ok",
     "timestamp": 1644562046437,
     "user": {
      "displayName": "Shaannoor Mann",
      "photoUrl": "https://lh3.googleusercontent.com/a/default-user=s64",
      "userId": "02520257695567980696"
     },
     "user_tz": 360
    },
    "id": "fCMXepKUtAXk",
    "tags": []
   },
   "outputs": [],
   "source": [
    "class EngGerman(Dataset):\n",
    "    def __init__(self, X1, X2):\n",
    "        self.X1 = X1\n",
    "        self.X2 = X2\n",
    "        \n",
    "    def __len__(self):\n",
    "        return len(self.X1)\n",
    "    \n",
    "    def __getitem__(self, indices):\n",
    "        return (self.X1.iloc[indices] , self.X2.iloc[indices]) "
   ]
  },
  {
   "cell_type": "code",
   "execution_count": 95,
   "metadata": {
    "execution": {
     "iopub.execute_input": "2022-03-05T17:35:53.965884Z",
     "iopub.status.busy": "2022-03-05T17:35:53.965683Z",
     "iopub.status.idle": "2022-03-05T17:35:53.970780Z",
     "shell.execute_reply": "2022-03-05T17:35:53.970201Z",
     "shell.execute_reply.started": "2022-03-05T17:35:53.965856Z"
    },
    "executionInfo": {
     "elapsed": 2,
     "status": "ok",
     "timestamp": 1644562047576,
     "user": {
      "displayName": "Shaannoor Mann",
      "photoUrl": "https://lh3.googleusercontent.com/a/default-user=s64",
      "userId": "02520257695567980696"
     },
     "user_tz": 360
    },
    "id": "-Q32VBamtAXl",
    "tags": []
   },
   "outputs": [],
   "source": [
    "trainset = EngGerman(df_train['source_tokens'], df_train['target_tokens'])\n",
    "testset = EngGerman(df_test['source_tokens'], df_test['target_tokens'])\n",
    "validset = EngGerman(df_valid['source_tokens'], df_valid['target_tokens'])"
   ]
  },
  {
   "cell_type": "code",
   "execution_count": 96,
   "metadata": {
    "colab": {
     "base_uri": "https://localhost:8080/"
    },
    "execution": {
     "iopub.execute_input": "2022-03-05T17:35:54.161708Z",
     "iopub.status.busy": "2022-03-05T17:35:54.161472Z",
     "iopub.status.idle": "2022-03-05T17:35:54.167599Z",
     "shell.execute_reply": "2022-03-05T17:35:54.167073Z",
     "shell.execute_reply.started": "2022-03-05T17:35:54.161679Z"
    },
    "executionInfo": {
     "elapsed": 2,
     "status": "ok",
     "timestamp": 1644562048806,
     "user": {
      "displayName": "Shaannoor Mann",
      "photoUrl": "https://lh3.googleusercontent.com/a/default-user=s64",
      "userId": "02520257695567980696"
     },
     "user_tz": 360
    },
    "id": "2md5tDSutAXl",
    "outputId": "e43ad22f-28f2-4edc-ca70-25d8c38e53db",
    "tags": []
   },
   "outputs": [
    {
     "data": {
      "text/plain": [
       "(['zwei',\n",
       "  'junge',\n",
       "  'weiße',\n",
       "  'männer',\n",
       "  'sind',\n",
       "  'i',\n",
       "  'm',\n",
       "  'freien',\n",
       "  'in',\n",
       "  'der',\n",
       "  'nähe',\n",
       "  'vieler',\n",
       "  'büsche',\n",
       "  '.'],\n",
       " ['two',\n",
       "  'young',\n",
       "  ',',\n",
       "  'white',\n",
       "  'males',\n",
       "  'are',\n",
       "  'outside',\n",
       "  'near',\n",
       "  'many',\n",
       "  'bushes',\n",
       "  '.'])"
      ]
     },
     "execution_count": 96,
     "metadata": {},
     "output_type": "execute_result"
    }
   ],
   "source": [
    "trainset[0]"
   ]
  },
  {
   "cell_type": "code",
   "execution_count": 97,
   "metadata": {
    "colab": {
     "base_uri": "https://localhost:8080/"
    },
    "execution": {
     "iopub.execute_input": "2022-03-05T17:35:54.374384Z",
     "iopub.status.busy": "2022-03-05T17:35:54.374176Z",
     "iopub.status.idle": "2022-03-05T17:35:54.379614Z",
     "shell.execute_reply": "2022-03-05T17:35:54.379185Z",
     "shell.execute_reply.started": "2022-03-05T17:35:54.374354Z"
    },
    "executionInfo": {
     "elapsed": 452,
     "status": "ok",
     "timestamp": 1644562050493,
     "user": {
      "displayName": "Shaannoor Mann",
      "photoUrl": "https://lh3.googleusercontent.com/a/default-user=s64",
      "userId": "02520257695567980696"
     },
     "user_tz": 360
    },
    "id": "L18xzZrltAXl",
    "outputId": "a12c767b-1970-48ac-b82e-86061d92c503",
    "tags": []
   },
   "outputs": [
    {
     "data": {
      "text/plain": [
       "(29000, 1000, 1014)"
      ]
     },
     "execution_count": 97,
     "metadata": {},
     "output_type": "execute_result"
    }
   ],
   "source": [
    "len(trainset), len(testset), len(validset)"
   ]
  },
  {
   "cell_type": "code",
   "execution_count": 98,
   "metadata": {
    "execution": {
     "iopub.execute_input": "2022-03-05T17:35:54.910854Z",
     "iopub.status.busy": "2022-03-05T17:35:54.910655Z",
     "iopub.status.idle": "2022-03-05T17:35:54.915615Z",
     "shell.execute_reply": "2022-03-05T17:35:54.915032Z",
     "shell.execute_reply.started": "2022-03-05T17:35:54.910826Z"
    },
    "executionInfo": {
     "elapsed": 1,
     "status": "ok",
     "timestamp": 1644562051382,
     "user": {
      "displayName": "Shaannoor Mann",
      "photoUrl": "https://lh3.googleusercontent.com/a/default-user=s64",
      "userId": "02520257695567980696"
     },
     "user_tz": 360
    },
    "id": "bPg8WslltAXl",
    "tags": []
   },
   "outputs": [],
   "source": [
    "def text_transform (my_vocab, text):\n",
    "     text_numerical = [my_vocab[token] for token in text]\n",
    "     return torch.tensor([my_vocab['<BOS>']] + text_numerical + [my_vocab['<EOS>']])\n",
    "     #return list(my_vocab['<BOS>']) + text_numerical + list(my_vocab['<EOS>'])"
   ]
  },
  {
   "cell_type": "code",
   "execution_count": 99,
   "metadata": {
    "colab": {
     "base_uri": "https://localhost:8080/"
    },
    "execution": {
     "iopub.execute_input": "2022-03-05T17:35:55.107630Z",
     "iopub.status.busy": "2022-03-05T17:35:55.107373Z",
     "iopub.status.idle": "2022-03-05T17:35:55.114134Z",
     "shell.execute_reply": "2022-03-05T17:35:55.113727Z",
     "shell.execute_reply.started": "2022-03-05T17:35:55.107600Z"
    },
    "executionInfo": {
     "elapsed": 2,
     "status": "ok",
     "timestamp": 1644562052563,
     "user": {
      "displayName": "Shaannoor Mann",
      "photoUrl": "https://lh3.googleusercontent.com/a/default-user=s64",
      "userId": "02520257695567980696"
     },
     "user_tz": 360
    },
    "id": "bpQKiRHLtAXl",
    "outputId": "d949e909-118d-49b6-dfcd-0e54a4790b7a",
    "tags": []
   },
   "outputs": [
    {
     "name": "stdout",
     "output_type": "stream",
     "text": [
      "['a', 'black', 'dog', 'and', 'a', 'spotted', 'dog', 'are', 'fighting']\n"
     ]
    },
    {
     "data": {
      "text/plain": [
       "tensor([ 1, 21, 90, 91, 92, 21, 93, 91,  9, 94,  2])"
      ]
     },
     "execution_count": 99,
     "metadata": {},
     "output_type": "execute_result"
    }
   ],
   "source": [
    "text = trainset.__getitem__(12)[1]\n",
    "print(text)\n",
    "text_transform(target_vocab, text)"
   ]
  },
  {
   "cell_type": "code",
   "execution_count": 100,
   "metadata": {
    "execution": {
     "iopub.execute_input": "2022-03-05T17:35:55.289543Z",
     "iopub.status.busy": "2022-03-05T17:35:55.289297Z",
     "iopub.status.idle": "2022-03-05T17:35:55.295565Z",
     "shell.execute_reply": "2022-03-05T17:35:55.295051Z",
     "shell.execute_reply.started": "2022-03-05T17:35:55.289514Z"
    },
    "executionInfo": {
     "elapsed": 452,
     "status": "ok",
     "timestamp": 1644562054119,
     "user": {
      "displayName": "Shaannoor Mann",
      "photoUrl": "https://lh3.googleusercontent.com/a/default-user=s64",
      "userId": "02520257695567980696"
     },
     "user_tz": 360
    },
    "id": "CgKupdZ1Un2-",
    "tags": []
   },
   "outputs": [],
   "source": [
    "def collate_batch(batch):\n",
    "   source_list, target_list = [], []\n",
    "   for (source_text, target_text) in batch:\n",
    "        source_transform = text_transform(source_vocab, source_text)\n",
    "        source_list.append(source_transform)\n",
    "        target_transform =text_transform(target_vocab, target_text)\n",
    "        target_list.append(target_transform)\n",
    "        \n",
    "   source_pad = pad_sequence(source_list, padding_value=3.0, batch_first = True)\n",
    "   target_pad = pad_sequence(target_list, padding_value=3.0, batch_first = True)\n",
    "   #print(source_list)\n",
    "   return (source_pad, target_pad)"
   ]
  },
  {
   "cell_type": "code",
   "execution_count": 101,
   "metadata": {
    "execution": {
     "iopub.execute_input": "2022-03-05T17:35:55.811219Z",
     "iopub.status.busy": "2022-03-05T17:35:55.810983Z",
     "iopub.status.idle": "2022-03-05T17:35:55.815878Z",
     "shell.execute_reply": "2022-03-05T17:35:55.815298Z",
     "shell.execute_reply.started": "2022-03-05T17:35:55.811177Z"
    },
    "executionInfo": {
     "elapsed": 2,
     "status": "ok",
     "timestamp": 1644562055245,
     "user": {
      "displayName": "Shaannoor Mann",
      "photoUrl": "https://lh3.googleusercontent.com/a/default-user=s64",
      "userId": "02520257695567980696"
     },
     "user_tz": 360
    },
    "id": "EqHCA63DUn2_",
    "tags": []
   },
   "outputs": [],
   "source": [
    "batch_size = 2\n",
    "\n",
    "train_loader = DataLoader(trainset, batch_size=batch_size, shuffle=True, \n",
    "                              collate_fn=collate_batch)"
   ]
  },
  {
   "cell_type": "code",
   "execution_count": 102,
   "metadata": {
    "colab": {
     "base_uri": "https://localhost:8080/"
    },
    "execution": {
     "iopub.execute_input": "2022-03-05T17:35:56.006704Z",
     "iopub.status.busy": "2022-03-05T17:35:56.006467Z",
     "iopub.status.idle": "2022-03-05T17:35:56.012669Z",
     "shell.execute_reply": "2022-03-05T17:35:56.012005Z",
     "shell.execute_reply.started": "2022-03-05T17:35:56.006675Z"
    },
    "executionInfo": {
     "elapsed": 321,
     "status": "ok",
     "timestamp": 1644562056795,
     "user": {
      "displayName": "Shaannoor Mann",
      "photoUrl": "https://lh3.googleusercontent.com/a/default-user=s64",
      "userId": "02520257695567980696"
     },
     "user_tz": 360
    },
    "id": "-NUpXpJYtAXm",
    "outputId": "fffcd026-2cb5-4d9a-b657-d0f15136ff02",
    "tags": []
   },
   "outputs": [
    {
     "name": "stdout",
     "output_type": "stream",
     "text": [
      "tensor([[   1,   17,  575,  656,   13,   12,  197,  399,   51,   50,  563,  140,\n",
      "          200,  841, 3864,   22,    2],\n",
      "        [   1,   17, 7538,   85,   44,  419,    0,   56,  253,  244,   19,   68,\n",
      "           48,    2,    3,    3,    3]])\n"
     ]
    }
   ],
   "source": [
    "for source, target in train_loader:\n",
    "  print(source)\n",
    "  break"
   ]
  },
  {
   "cell_type": "code",
   "execution_count": 103,
   "metadata": {
    "execution": {
     "iopub.execute_input": "2022-03-05T17:35:56.205800Z",
     "iopub.status.busy": "2022-03-05T17:35:56.205568Z",
     "iopub.status.idle": "2022-03-05T17:35:56.211295Z",
     "shell.execute_reply": "2022-03-05T17:35:56.210663Z",
     "shell.execute_reply.started": "2022-03-05T17:35:56.205758Z"
    },
    "executionInfo": {
     "elapsed": 322,
     "status": "ok",
     "timestamp": 1644562060058,
     "user": {
      "displayName": "Shaannoor Mann",
      "photoUrl": "https://lh3.googleusercontent.com/a/default-user=s64",
      "userId": "02520257695567980696"
     },
     "user_tz": 360
    },
    "id": "axyZQ-4z1B-z",
    "tags": []
   },
   "outputs": [],
   "source": [
    "batch_size = 128\n",
    "\n",
    "train_loader = DataLoader(trainset, batch_size=batch_size, shuffle=True, \n",
    "                              collate_fn=collate_batch)\n",
    "valid_loader = DataLoader(validset, batch_size=batch_size, shuffle=True, \n",
    "                              collate_fn=collate_batch)\n",
    "test_loader = DataLoader(testset, batch_size=batch_size, shuffle=True, \n",
    "                              collate_fn=collate_batch)"
   ]
  },
  {
   "cell_type": "code",
   "execution_count": 104,
   "metadata": {
    "execution": {
     "iopub.execute_input": "2022-03-05T17:35:56.757423Z",
     "iopub.status.busy": "2022-03-05T17:35:56.757186Z",
     "iopub.status.idle": "2022-03-05T17:35:56.763065Z",
     "shell.execute_reply": "2022-03-05T17:35:56.762590Z",
     "shell.execute_reply.started": "2022-03-05T17:35:56.757379Z"
    },
    "tags": []
   },
   "outputs": [
    {
     "data": {
      "text/plain": [
       "device(type='cuda')"
      ]
     },
     "execution_count": 104,
     "metadata": {},
     "output_type": "execute_result"
    }
   ],
   "source": [
    "device = torch.device('cuda' if torch.cuda.is_available() else 'cpu')\n",
    "#device = torch.device('cpu')\n",
    "device"
   ]
  },
  {
   "cell_type": "markdown",
   "metadata": {},
   "source": [
    "## Building the Model\n",
    "\n",
    "Next, we'll build the model. Like previous notebooks it is made up of an *encoder* and a *decoder*, with the encoder *encoding* the input/source sentence (in German) into *context vector* and the decoder then *decoding* this context vector to output our output/target sentence (in English). \n",
    "\n",
    "### Encoder\n",
    "\n",
    "Similar to the ConvSeq2Seq model, the Transformer's encoder does not attempt to compress the entire source sentence, $X = (x_1, ... ,x_n)$, into a single context vector, $z$. Instead it produces a sequence of context vectors, $Z = (z_1, ... , z_n)$. So, if our input sequence was 5 tokens long we would have $Z = (z_1, z_2, z_3, z_4, z_5)$. Why do we call this a sequence of context vectors and not a sequence of hidden states? A hidden state at time $t$ in an RNN has only seen tokens $x_t$ and all the tokens before it. However, each context vector here has seen all tokens at all positions within the input sequence.\n",
    "\n",
    "![](assets/transformer-encoder.png)\n",
    "\n",
    "First, the tokens are passed through a standard embedding layer. Next, as the model has no recurrent it has no idea about the order of the tokens within the sequence. We solve this by using a second embedding layer called a *positional embedding layer*. This is a standard embedding layer where the input is not the token itself but the position of the token within the sequence, starting with the first token, the `<sos>` (start of sequence) token, in position 0. The position embedding has a \"vocabulary\" size of 100, which means our model can accept sentences up to 100 tokens long. This can be increased if we want to handle longer sentences.\n",
    "\n",
    "The original Transformer implementation from the Attention is All You Need paper does not learn positional embeddings. Instead it uses a fixed static embedding. Modern Transformer architectures, like BERT, use positional embeddings instead, hence we have decided to use them in these tutorials. Check out [this](http://nlp.seas.harvard.edu/2018/04/03/attention.html#positional-encoding) section to read more about the positional embeddings used in the original Transformer model.\n",
    "\n",
    "Next, the token and positional embeddings are elementwise summed together to get a vector which contains information about the token and also its position with in the sequence.  <font color = 'red'>**However, before they are summed, the token embeddings are multiplied by a scaling factor which is $\\sqrt{d_{model}}$, where $d_{model}$ is the hidden dimension size, `hid_dim`.This supposedly reduces variance in the embeddings and the model is difficult to train reliably without this scaling factor. Dropout is then applied to the combined embeddings.**>/font>\n",
    "\n",
    "The combined embeddings are then passed through $N$ *encoder layers* to get $Z$, which is then output and can be used by the decoder.\n",
    "\n",
    "<font color = 'green'>The source mask, `src_mask`, is simply the same shape as the source sentence but has a value of 1 when the token in the source sentence is not a `<pad>` token and 0 when it is a `<pad>` token. This is used in the encoder layers to mask the multi-head attention mechanisms, which are used to calculate and apply attention over the source sentence, so the model does not pay attention to `<pad>` tokens, which contain no useful information.</font>"
   ]
  },
  {
   "cell_type": "code",
   "execution_count": 105,
   "metadata": {
    "execution": {
     "iopub.execute_input": "2022-03-05T17:35:57.161038Z",
     "iopub.status.busy": "2022-03-05T17:35:57.160800Z",
     "iopub.status.idle": "2022-03-05T17:35:57.171442Z",
     "shell.execute_reply": "2022-03-05T17:35:57.170938Z",
     "shell.execute_reply.started": "2022-03-05T17:35:57.160995Z"
    },
    "tags": []
   },
   "outputs": [],
   "source": [
    "class Encoder(nn.Module):\n"
   ]
  },
  {
   "cell_type": "markdown",
   "metadata": {
    "tags": []
   },
   "source": [
    "### Encoder Layer\n",
    "\n",
    "The encoder layers are where all of the \"meat\" of the encoder is contained. We first pass the source sentence and its mask into the *multi-head attention layer*, then perform dropout on it, apply a residual connection and pass it through a [Layer Normalization](https://arxiv.org/abs/1607.06450) layer. We then pass it through a *position-wise feedforward* layer and then, again, apply dropout, a residual connection and then layer normalization to get the output of this layer which is fed into the next layer. The parameters are not shared between layers. \n",
    "\n",
    "The mutli head attention layer is used by the encoder layer to attend to the source sentence, i.e. it is calculating and applying attention over itself instead of another sequence, hence we call it *self attention*.\n",
    "\n",
    "[This](https://mlexplained.com/2018/01/13/weight-normalization-and-layer-normalization-explained-normalization-in-deep-learning-part-2/) article goes into more detail about layer normalization, but the gist is that it normalizes the values of the features, i.e. across the hidden dimension, so each feature has a mean of 0 and a standard deviation of 1. This allows neural networks with a larger number of layers, like the Transformer, to be trained easier."
   ]
  },
  {
   "cell_type": "code",
   "execution_count": null,
   "metadata": {
    "execution": {
     "iopub.execute_input": "2022-03-05T17:35:57.895761Z",
     "iopub.status.busy": "2022-03-05T17:35:57.895538Z",
     "iopub.status.idle": "2022-03-05T17:35:57.904004Z",
     "shell.execute_reply": "2022-03-05T17:35:57.903501Z",
     "shell.execute_reply.started": "2022-03-05T17:35:57.895732Z"
    },
    "tags": []
   },
   "outputs": [],
   "source": [
    "class EncoderLayer(nn.Module):\n",
    "    def __init__(self, \n",
    "                 hid_dim, \n",
    "                 n_heads, \n",
    "                 pf_dim,  \n",
    "                 dropout, \n",
    "                 device):\n",
    "        super().__init__()\n",
    "        \n",
    "        self.self_attn_layer_norm = nn.LayerNorm(hid_dim)\n",
    "        self.ff_layer_norm = nn.LayerNorm(hid_dim)\n",
    "        self.self_attention = MultiHeadAttentionLayer(hid_dim, n_heads, dropout, device)\n",
    "        self.positionwise_feedforward = PositionwiseFeedforwardLayer(hid_dim, \n",
    "                                                                     pf_dim, \n",
    "                                                                     dropout)\n",
    "        self.dropout = nn.Dropout(dropout)\n",
    "        \n",
    "    def forward(self, src, src_mask):\n",
    "        \n",
    "        #src = [batch size, src len, hid dim]\n",
    "        #src_mask = [batch size, 1, 1, src len] \n",
    "                \n",
    "        #self attention\n",
    "        _src, _ = self.self_attention(src, src, src, src_mask)\n",
    "        \n",
    "        #dropout, residual connection and layer norm\n",
    "        src = self.self_attn_layer_norm(src + self.dropout(_src))\n",
    "        \n",
    "        #src = [batch size, src len, hid dim]\n",
    "        \n",
    "        #positionwise feedforward\n",
    "        _src = self.positionwise_feedforward(src)\n",
    "        \n",
    "        #dropout, residual and layer norm\n",
    "        src = self.ff_layer_norm(src + self.dropout(_src))\n",
    "        \n",
    "        #src = [batch size, src len, hid dim]\n",
    "        \n",
    "        return src"
   ]
  },
  {
   "cell_type": "markdown",
   "metadata": {},
   "source": [
    "### Mutli Head Attention Layer\n",
    "\n",
    "One of the key, novel concepts introduced by the Transformer paper is the *multi-head attention layer*. \n",
    "\n",
    "![](assets/transformer-attention.png)\n",
    "\n",
    "Attention can be though of as *queries*, *keys* and *values* - where the query is used with the key to get an attention vector (usually the output of a *softmax* operation and has all values between 0 and 1 which sum to 1) which is then used to get a weighted sum of the values.\n",
    "\n",
    "The Transformer uses *scaled dot-product attention*, where the query and key are combined by taking the dot product between them, then applying the softmax operation and scaling by $d_k$ before finally then multiplying by the value. $d_k$ is the *head dimension*, `head_dim`, which we will shortly explain further.\n",
    "\n",
    "$$ \\text{Attention}(Q, K, V) = \\text{Softmax} \\big( \\frac{QK^T}{\\sqrt{d_k}} \\big)V $$ \n",
    "\n",
    "This is similar to standard *dot product attention* but is scaled by $d_k$, which the paper states is used to stop the results of the dot products growing large, causing gradients to become too small.\n",
    "\n",
    "However, the scaled dot-product attention isn't simply applied to the queries, keys and values. Instead of doing a single attention application the queries, keys and values have their `hid_dim` split into $h$ *heads* and the scaled dot-product attention is calculated over all heads in parallel. This means instead of paying attention to one concept per attention application, we pay attention to $h$. We then re-combine the heads into their `hid_dim` shape, thus each `hid_dim` is potentially paying attention to $h$ different concepts.\n",
    "\n",
    "$$ \\text{MultiHead}(Q, K, V) = \\text{Concat}(\\text{head}_1,...,\\text{head}_h)W^O $$\n",
    "\n",
    "$$\\text{head}_i = \\text{Attention}(QW_i^Q, KW_i^K, VW_i^V) $$\n",
    "\n",
    "$W^O$ is the linear layer applied at the end of the multi-head attention layer, `fc`. $W^Q, W^K, W^V$ are the linear layers `fc_q`, `fc_k` and `fc_v`.\n",
    "\n",
    "Walking through the module, first we calculate $QW^Q$, $KW^K$ and $VW^V$ with the linear layers, `fc_q`, `fc_k` and `fc_v`, to give us `Q`, `K` and `V`. Next, we split the `hid_dim` of the query, key and value into `n_heads` using `.view` and correctly permute them so they can be multiplied together. We then calculate the `energy` (the un-normalized attention) by multiplying `Q` and `K` together and scaling it by the square root of `head_dim`, which is calulated as `hid_dim // n_heads`. We then mask the energy so we do not pay attention over any elements of the sequeuence we shouldn't, then apply the softmax and dropout. We then apply the attention to the value heads, `V`, before combining the `n_heads` together. Finally, we multiply this $W^O$, represented by `fc_o`. \n",
    "\n",
    "Note that in our implementation the lengths of the keys and values are always the same, thus when matrix multiplying the output of the softmax, `attention`, with `V` we will always have valid dimension sizes for matrix multiplication. This multiplication is carried out using `torch.matmul` which, when both tensors are >2-dimensional, does a batched matrix multiplication over the last two dimensions of each tensor. This will be a **[query len, key len] x [value len, head dim]** batched matrix multiplication over the batch size and each head which provides the **[batch size, n heads, query len, head dim]** result.\n",
    "\n",
    "<font color = 'darkred'>**One thing that looks strange at first is that dropout is applied directly to the attention. This means that our attention vector will most probably not sum to 1 and we may pay full attention to a token but the attention over that token is set to 0 by dropout. This is never explained, or even mentioned, in the paper however is used by the [official implementation](https://github.com/tensorflow/tensor2tensor/) and every Transformer implementation since, [including BERT](https://github.com/google-research/bert/).**</font>"
   ]
  },
  {
   "cell_type": "code",
   "execution_count": null,
   "metadata": {
    "execution": {
     "iopub.execute_input": "2022-03-05T17:35:58.541087Z",
     "iopub.status.busy": "2022-03-05T17:35:58.540848Z",
     "iopub.status.idle": "2022-03-05T17:35:58.555781Z",
     "shell.execute_reply": "2022-03-05T17:35:58.555232Z",
     "shell.execute_reply.started": "2022-03-05T17:35:58.541044Z"
    },
    "tags": []
   },
   "outputs": [],
   "source": [
    "class MultiHeadAttentionLayer(nn.Module):\n",
    " "
   ]
  },
  {
   "cell_type": "markdown",
   "metadata": {},
   "source": [
    "### Position-wise Feedforward Layer\n",
    "\n",
    "The other main block inside the encoder layer is the *position-wise feedforward layer* This is relatively simple compared to the multi-head attention layer. The input is transformed from `hid_dim` to `pf_dim`, where `pf_dim` is usually a lot larger than `hid_dim`. The original Transformer used a `hid_dim` of 512 and a `pf_dim` of 2048. The ReLU activation function and dropout are applied before it is transformed back into a `hid_dim` representation. \n",
    "\n",
    "Why is this used? Unfortunately, it is never explained in the paper.\n",
    "\n",
    "BERT uses the [GELU](https://arxiv.org/abs/1606.08415) activation function, which can be used by simply switching `torch.relu` for `F.gelu`. Why did they use GELU? Again, it is never explained."
   ]
  },
  {
   "cell_type": "code",
   "execution_count": 108,
   "metadata": {
    "execution": {
     "iopub.execute_input": "2022-03-05T17:35:59.126084Z",
     "iopub.status.busy": "2022-03-05T17:35:59.125847Z",
     "iopub.status.idle": "2022-03-05T17:35:59.131938Z",
     "shell.execute_reply": "2022-03-05T17:35:59.131470Z",
     "shell.execute_reply.started": "2022-03-05T17:35:59.126040Z"
    },
    "tags": []
   },
   "outputs": [],
   "source": [
    "class PositionwiseFeedforwardLayer(nn.Module):\n"
   ]
  },
  {
   "cell_type": "markdown",
   "metadata": {},
   "source": [
    "### Decoder\n",
    "\n",
    "The objective of the decoder is to take the encoded representation of the source sentence, $Z$, and convert it into predicted tokens in the target sentence, $\\hat{Y}$. We then compare $\\hat{Y}$ with the actual tokens in the target sentence, $Y$, to calculate our loss, which will be used to calculate the gradients of our parameters and then use our optimizer to update our weights in order to improve our predictions. \n",
    "\n",
    "![](assets/transformer-decoder.png)\n",
    "\n",
    "The decoder is similar to encoder, however it now has two multi-head attention layers. A *masked multi-head attention layer* over the target sequence, and a multi-head attention layer which uses the decoder representation as the query and the encoder representation as the key and value.\n",
    "\n",
    "The decoder uses positional embeddings and combines - via an elementwise sum - them with the scaled embedded target tokens, followed by dropout. Again, our positional encodings have a \"vocabulary\" of 100, which means they can accept sequences up to 100 tokens long. This can be increased if desired.\n",
    "\n",
    "The combined embeddings are then passed through the $N$ decoder layers, along with the encoded source, `enc_src`, and the source and target masks. Note that the number of layers in the encoder does not have to be equal to the number of layers in the decoder, even though they are both denoted by $N$.\n",
    "\n",
    "The decoder representation after the $N^{th}$ layer is then passed through a linear layer, `fc_out`. In PyTorch, the softmax operation is contained within our loss function, so we do not explicitly need to use a softmax layer here.\n",
    "\n",
    "As well as using the source mask, as we did in the encoder to prevent our model attending to `<pad>` tokens, we also use a target mask. This will be explained further in the `Seq2Seq` model which encapsulates both the encoder and decoder, but the gist of it is that it performs a similar operation as the decoder padding in the convolutional sequence-to-sequence model. As we are processing all of the target tokens at once in parallel we need a method of stopping the decoder from \"cheating\" by simply \"looking\" at what the next token in the target sequence is and outputting it. \n",
    "\n",
    "Our decoder layer also outputs the normalized attention values so we can later plot them to see what our model is actually paying attention to."
   ]
  },
  {
   "cell_type": "code",
   "execution_count": 109,
   "metadata": {
    "execution": {
     "iopub.execute_input": "2022-03-05T17:36:00.311271Z",
     "iopub.status.busy": "2022-03-05T17:36:00.310943Z",
     "iopub.status.idle": "2022-03-05T17:36:00.329285Z",
     "shell.execute_reply": "2022-03-05T17:36:00.328527Z",
     "shell.execute_reply.started": "2022-03-05T17:36:00.311227Z"
    },
    "tags": []
   },
   "outputs": [],
   "source": [
    "class Decoder(nn.Module):\n"
   ]
  },
  {
   "cell_type": "markdown",
   "metadata": {},
   "source": [
    "### Decoder Layer\n",
    "\n",
    "As mentioned previously, the decoder layer is similar to the encoder layer except that it now has two multi-head attention layers, `self_attention` and `encoder_attention`. \n",
    "\n",
    "The first performs self-attention, as in the encoder, by using the decoder representation so far as the query, key and value. This is followed by dropout, residual connection and layer normalization. This `self_attention` layer uses the target sequence mask, `trg_mask`, in order to prevent the decoder from \"cheating\" by paying attention to tokens that are \"ahead\" of the one it is currently processing as it processes all tokens in the target sentence in parallel.\n",
    "\n",
    "The second is how we actually feed the encoded source sentence, `enc_src`, into our decoder. In this multi-head attention layer the queries are the decoder representations and the keys and values are the encoder representations. Here, the source mask, `src_mask` is used to prevent the multi-head attention layer from attending to `<pad>` tokens within the source sentence. This is then followed by the dropout, residual connection and layer normalization layers. \n",
    "\n",
    "Finally, we pass this through the position-wise feedforward layer and yet another sequence of dropout, residual connection and layer normalization.\n",
    "\n",
    "The decoder layer isn't introducing any new concepts, just using the same set of layers as the encoder in a slightly different way."
   ]
  },
  {
   "cell_type": "code",
   "execution_count": 110,
   "metadata": {
    "execution": {
     "iopub.execute_input": "2022-03-05T17:36:02.276325Z",
     "iopub.status.busy": "2022-03-05T17:36:02.275940Z",
     "iopub.status.idle": "2022-03-05T17:36:02.292364Z",
     "shell.execute_reply": "2022-03-05T17:36:02.291748Z",
     "shell.execute_reply.started": "2022-03-05T17:36:02.276281Z"
    },
    "tags": []
   },
   "outputs": [],
   "source": [
    "class DecoderLayer(nn.Module):\n"
   ]
  },
  {
   "cell_type": "markdown",
   "metadata": {},
   "source": [
    "### Seq2Seq\n",
    "\n",
    "Finally, we have the `Seq2Seq` module which encapsulates the encoder and decoder, as well as handling the creation of the masks.\n",
    "\n",
    "The source mask is created by checking where the source sequence is not equal to a `<pad>` token. It is 1 where the token is not a `<pad>` token and 0 when it is. It is then unsqueezed so it can be correctly broadcast when applying the mask to the `energy`, which of shape **_[batch size, n heads, seq len, seq len]_**.\n",
    "\n",
    "The target mask is slightly more complicated. First, we create a mask for the `<pad>` tokens, as we did for the source mask. Next, we create a \"subsequent\" mask, `trg_sub_mask`, using `torch.tril`. This creates a diagonal matrix where the elements above the diagonal will be zero and the elements below the diagonal will be set to whatever the input tensor is. In this case, the input tensor will be a tensor filled with ones. So this means our `trg_sub_mask` will look something like this (for a target with 5 tokens):\n",
    "\n",
    "$$\\begin{matrix}\n",
    "1 & 0 & 0 & 0 & 0\\\\\n",
    "1 & 1 & 0 & 0 & 0\\\\\n",
    "1 & 1 & 1 & 0 & 0\\\\\n",
    "1 & 1 & 1 & 1 & 0\\\\\n",
    "1 & 1 & 1 & 1 & 1\\\\\n",
    "\\end{matrix}$$\n",
    "\n",
    "This shows what each target token (row) is allowed to look at (column). The first target token has a mask of **_[1, 0, 0, 0, 0]_** which means it can only look at the first target token. The second target token has a mask of **_[1, 1, 0, 0, 0]_** which it means it can look at both the first and second target tokens. \n",
    "\n",
    "The \"subsequent\" mask is then logically anded with the padding mask, this combines the two masks ensuring both the subsequent tokens and the padding tokens cannot be attended to. For example if the last two tokens were `<pad>` tokens the mask would look like:\n",
    "\n",
    "$$\\begin{matrix}\n",
    "1 & 0 & 0 & 0 & 0\\\\\n",
    "1 & 1 & 0 & 0 & 0\\\\\n",
    "1 & 1 & 1 & 0 & 0\\\\\n",
    "1 & 1 & 1 & 0 & 0\\\\\n",
    "1 & 1 & 1 & 0 & 0\\\\\n",
    "\\end{matrix}$$\n",
    "\n",
    "After the masks are created, they used with the encoder and decoder along with the source and target sentences to get our predicted target sentence, `output`, along with the decoder's attention over the source sequence."
   ]
  },
  {
   "cell_type": "code",
   "execution_count": 170,
   "metadata": {
    "execution": {
     "iopub.execute_input": "2022-03-06T17:26:55.025368Z",
     "iopub.status.busy": "2022-03-06T17:26:55.025039Z",
     "iopub.status.idle": "2022-03-06T17:26:55.042411Z",
     "shell.execute_reply": "2022-03-06T17:26:55.041633Z",
     "shell.execute_reply.started": "2022-03-06T17:26:55.025315Z"
    },
    "tags": []
   },
   "outputs": [],
   "source": [
    "class Seq2Seq(nn.Module):\n"
   ]
  },
  {
   "cell_type": "markdown",
   "metadata": {},
   "source": [
    "## Training the Seq2Seq Model\n",
    "\n",
    "We can now define our encoder and decoders. This model is significantly smaller than Transformers used in research today, but is able to be run on a single GPU quickly."
   ]
  },
  {
   "cell_type": "code",
   "execution_count": 112,
   "metadata": {
    "execution": {
     "iopub.execute_input": "2022-03-05T17:36:04.421464Z",
     "iopub.status.busy": "2022-03-05T17:36:04.421135Z",
     "iopub.status.idle": "2022-03-05T17:36:04.508468Z",
     "shell.execute_reply": "2022-03-05T17:36:04.507828Z",
     "shell.execute_reply.started": "2022-03-05T17:36:04.421420Z"
    },
    "tags": []
   },
   "outputs": [],
   "source": [
    "INPUT_DIM = len(source_vocab)\n",
    "OUTPUT_DIM = len(target_vocab)\n",
    "HID_DIM = 256\n",
    "ENC_LAYERS = 3\n",
    "DEC_LAYERS = 3\n",
    "ENC_HEADS = 8\n",
    "DEC_HEADS = 8\n",
    "ENC_PF_DIM = 512\n",
    "DEC_PF_DIM = 512\n",
    "ENC_DROPOUT = 0.1\n",
    "DEC_DROPOUT = 0.1\n",
    "\n",
    "enc = Encoder(INPUT_DIM, \n",
    "              HID_DIM, \n",
    "              ENC_LAYERS, \n",
    "              ENC_HEADS, \n",
    "              ENC_PF_DIM, \n",
    "              ENC_DROPOUT, \n",
    "              device)\n",
    "\n",
    "dec = Decoder(OUTPUT_DIM, \n",
    "              HID_DIM, \n",
    "              DEC_LAYERS, \n",
    "              DEC_HEADS, \n",
    "              DEC_PF_DIM, \n",
    "              DEC_DROPOUT, \n",
    "              device)"
   ]
  },
  {
   "cell_type": "code",
   "execution_count": 113,
   "metadata": {
    "execution": {
     "iopub.execute_input": "2022-03-05T17:36:13.995892Z",
     "iopub.status.busy": "2022-03-05T17:36:13.995669Z",
     "iopub.status.idle": "2022-03-05T17:36:14.000433Z",
     "shell.execute_reply": "2022-03-05T17:36:13.999900Z",
     "shell.execute_reply.started": "2022-03-05T17:36:13.995862Z"
    }
   },
   "outputs": [
    {
     "data": {
      "text/plain": [
       "device(type='cuda')"
      ]
     },
     "execution_count": 113,
     "metadata": {},
     "output_type": "execute_result"
    }
   ],
   "source": [
    "device"
   ]
  },
  {
   "cell_type": "markdown",
   "metadata": {},
   "source": [
    "Then, use them to define our whole sequence-to-sequence encapsulating model."
   ]
  },
  {
   "cell_type": "code",
   "execution_count": 114,
   "metadata": {
    "execution": {
     "iopub.execute_input": "2022-03-05T17:36:15.566997Z",
     "iopub.status.busy": "2022-03-05T17:36:15.566759Z",
     "iopub.status.idle": "2022-03-05T17:36:15.580924Z",
     "shell.execute_reply": "2022-03-05T17:36:15.580377Z",
     "shell.execute_reply.started": "2022-03-05T17:36:15.566955Z"
    },
    "tags": []
   },
   "outputs": [],
   "source": [
    "SRC_PAD_IDX = source_vocab['<PAD>']\n",
    "TRG_PAD_IDX = target_vocab['<PAD>']\n",
    "\n",
    "model = Seq2Seq(enc, dec, SRC_PAD_IDX, TRG_PAD_IDX, device).to(device)"
   ]
  },
  {
   "cell_type": "markdown",
   "metadata": {},
   "source": [
    "We can check the number of parameters, noticing it is significantly less than the 37M for the convolutional sequence-to-sequence model."
   ]
  },
  {
   "cell_type": "code",
   "execution_count": 115,
   "metadata": {
    "execution": {
     "iopub.execute_input": "2022-03-05T17:36:16.573739Z",
     "iopub.status.busy": "2022-03-05T17:36:16.573506Z",
     "iopub.status.idle": "2022-03-05T17:36:16.581060Z",
     "shell.execute_reply": "2022-03-05T17:36:16.580586Z",
     "shell.execute_reply.started": "2022-03-05T17:36:16.573698Z"
    },
    "tags": []
   },
   "outputs": [
    {
     "name": "stdout",
     "output_type": "stream",
     "text": [
      "The model has 9,043,717 trainable parameters\n"
     ]
    }
   ],
   "source": [
    "def count_parameters(model):\n",
    "    return sum(p.numel() for p in model.parameters() if p.requires_grad)\n",
    "\n",
    "print(f'The model has {count_parameters(model):,} trainable parameters')"
   ]
  },
  {
   "cell_type": "markdown",
   "metadata": {},
   "source": [
    "The paper does not mention which weight initialization scheme was used, however Xavier uniform seems to be common amongst Transformer models, so we use it here."
   ]
  },
  {
   "cell_type": "code",
   "execution_count": 116,
   "metadata": {
    "execution": {
     "iopub.execute_input": "2022-03-05T17:36:17.561876Z",
     "iopub.status.busy": "2022-03-05T17:36:17.561637Z",
     "iopub.status.idle": "2022-03-05T17:36:17.565618Z",
     "shell.execute_reply": "2022-03-05T17:36:17.565147Z",
     "shell.execute_reply.started": "2022-03-05T17:36:17.561833Z"
    },
    "tags": []
   },
   "outputs": [],
   "source": [
    "def initialize_weights(m):\n",
    "    if hasattr(m, 'weight') and m.weight.dim() > 1:\n",
    "        nn.init.xavier_uniform_(m.weight.data)"
   ]
  },
  {
   "cell_type": "code",
   "execution_count": 117,
   "metadata": {
    "execution": {
     "iopub.execute_input": "2022-03-05T17:36:17.861428Z",
     "iopub.status.busy": "2022-03-05T17:36:17.861194Z",
     "iopub.status.idle": "2022-03-05T17:36:17.868392Z",
     "shell.execute_reply": "2022-03-05T17:36:17.867856Z",
     "shell.execute_reply.started": "2022-03-05T17:36:17.861386Z"
    },
    "tags": []
   },
   "outputs": [],
   "source": [
    "model.apply(initialize_weights);"
   ]
  },
  {
   "cell_type": "markdown",
   "metadata": {},
   "source": [
    "The optimizer used in the original Transformer paper uses Adam with a learning rate that has a \"warm-up\" and then a \"cool-down\" period. BERT and other Transformer models use Adam with a fixed learning rate, so we will implement that. Check [this](http://nlp.seas.harvard.edu/2018/04/03/attention.html#optimizer) link for more details about the original Transformer's learning rate schedule.\n",
    "\n",
    "Note that the learning rate needs to be lower than the default used by Adam or else learning is unstable."
   ]
  },
  {
   "cell_type": "code",
   "execution_count": 118,
   "metadata": {
    "execution": {
     "iopub.execute_input": "2022-03-05T17:36:21.836303Z",
     "iopub.status.busy": "2022-03-05T17:36:21.835882Z",
     "iopub.status.idle": "2022-03-05T17:36:21.843773Z",
     "shell.execute_reply": "2022-03-05T17:36:21.843306Z",
     "shell.execute_reply.started": "2022-03-05T17:36:21.836271Z"
    },
    "tags": []
   },
   "outputs": [],
   "source": [
    "LEARNING_RATE = 0.0005\n",
    "\n",
    "optimizer = torch.optim.Adam(model.parameters(), lr = LEARNING_RATE)"
   ]
  },
  {
   "cell_type": "markdown",
   "metadata": {},
   "source": [
    "Next, we define our loss function, making sure to ignore losses calculated over `<pad>` tokens."
   ]
  },
  {
   "cell_type": "code",
   "execution_count": 119,
   "metadata": {
    "execution": {
     "iopub.execute_input": "2022-03-05T17:36:23.427337Z",
     "iopub.status.busy": "2022-03-05T17:36:23.427100Z",
     "iopub.status.idle": "2022-03-05T17:36:23.431013Z",
     "shell.execute_reply": "2022-03-05T17:36:23.430642Z",
     "shell.execute_reply.started": "2022-03-05T17:36:23.427295Z"
    },
    "tags": []
   },
   "outputs": [],
   "source": [
    "criterion = nn.CrossEntropyLoss(ignore_index = TRG_PAD_IDX)"
   ]
  },
  {
   "cell_type": "markdown",
   "metadata": {},
   "source": [
    "Then, we'll define our training loop. This is the exact same as the one used in the previous tutorial.\n",
    "\n",
    "As we want our model to predict the `<eos>` token but not have it be an input into our model we simply slice the `<eos>` token off the end of the sequence. Thus:\n",
    "\n",
    "$$\\begin{align*}\n",
    "\\text{trg} &= [sos, x_1, x_2, x_3, eos]\\\\\n",
    "\\text{trg[:-1]} &= [sos, x_1, x_2, x_3]\n",
    "\\end{align*}$$\n",
    "\n",
    "$x_i$ denotes actual target sequence element. We then feed this into the model to get a predicted sequence that should hopefully predict the `<eos>` token:\n",
    "\n",
    "$$\\begin{align*}\n",
    "\\text{output} &= [y_1, y_2, y_3, eos]\n",
    "\\end{align*}$$\n",
    "\n",
    "$y_i$ denotes predicted target sequence element. We then calculate our loss using the original `trg` tensor with the `<sos>` token sliced off the front, leaving the `<eos>` token:\n",
    "\n",
    "$$\\begin{align*}\n",
    "\\text{output} &= [y_1, y_2, y_3, eos]\\\\\n",
    "\\text{trg[1:]} &= [x_1, x_2, x_3, eos]\n",
    "\\end{align*}$$\n",
    "\n",
    "We then calculate our losses and update our parameters as is standard."
   ]
  },
  {
   "cell_type": "code",
   "execution_count": 120,
   "metadata": {
    "execution": {
     "iopub.execute_input": "2022-03-05T17:36:24.251734Z",
     "iopub.status.busy": "2022-03-05T17:36:24.251510Z",
     "iopub.status.idle": "2022-03-05T17:36:24.259742Z",
     "shell.execute_reply": "2022-03-05T17:36:24.259255Z",
     "shell.execute_reply.started": "2022-03-05T17:36:24.251704Z"
    },
    "tags": []
   },
   "outputs": [],
   "source": [
    "def train(model, iterator, optimizer, criterion, clip):\n",
    "    \n",
    "   "
   ]
  },
  {
   "cell_type": "markdown",
   "metadata": {},
   "source": [
    "The evaluation loop is the same as the training loop, just without the gradient calculations and parameter updates."
   ]
  },
  {
   "cell_type": "code",
   "execution_count": 121,
   "metadata": {
    "execution": {
     "iopub.execute_input": "2022-03-05T17:36:31.857870Z",
     "iopub.status.busy": "2022-03-05T17:36:31.857634Z",
     "iopub.status.idle": "2022-03-05T17:36:31.864829Z",
     "shell.execute_reply": "2022-03-05T17:36:31.864316Z",
     "shell.execute_reply.started": "2022-03-05T17:36:31.857827Z"
    },
    "tags": []
   },
   "outputs": [],
   "source": [
    "def evaluate(model, iterator, criterion):\n",
    "    \n",
    "   \n"
   ]
  },
  {
   "cell_type": "markdown",
   "metadata": {},
   "source": [
    "We then define a small function that we can use to tell us how long an epoch takes."
   ]
  },
  {
   "cell_type": "code",
   "execution_count": 122,
   "metadata": {
    "execution": {
     "iopub.execute_input": "2022-03-05T17:36:32.577524Z",
     "iopub.status.busy": "2022-03-05T17:36:32.577289Z",
     "iopub.status.idle": "2022-03-05T17:36:32.581686Z",
     "shell.execute_reply": "2022-03-05T17:36:32.581144Z",
     "shell.execute_reply.started": "2022-03-05T17:36:32.577482Z"
    },
    "tags": []
   },
   "outputs": [],
   "source": [
    "def epoch_time(start_time, end_time):\n",
    "    elapsed_time = end_time - start_time\n",
    "    elapsed_mins = int(elapsed_time / 60)\n",
    "    elapsed_secs = int(elapsed_time - (elapsed_mins * 60))\n",
    "    return elapsed_mins, elapsed_secs"
   ]
  },
  {
   "cell_type": "markdown",
   "metadata": {},
   "source": [
    "Finally, we train our actual model. This model is almost 3x faster than the convolutional sequence-to-sequence model and also achieves a lower validation perplexity!"
   ]
  },
  {
   "cell_type": "code",
   "execution_count": 123,
   "metadata": {
    "execution": {
     "iopub.execute_input": "2022-03-05T17:36:33.261170Z",
     "iopub.status.busy": "2022-03-05T17:36:33.260916Z",
     "iopub.status.idle": "2022-03-05T17:38:52.322197Z",
     "shell.execute_reply": "2022-03-05T17:38:52.321622Z",
     "shell.execute_reply.started": "2022-03-05T17:36:33.261140Z"
    },
    "tags": []
   },
   "outputs": [
    {
     "name": "stdout",
     "output_type": "stream",
     "text": [
      "Epoch: 01 | Time: 0m 13s\n",
      "\tTrain Loss: 4.224 | Train PPL:  68.287\n",
      "\t Val. Loss: 3.106 |  Val. PPL:  22.327\n",
      "Epoch: 02 | Time: 0m 13s\n",
      "\tTrain Loss: 2.860 | Train PPL:  17.464\n",
      "\t Val. Loss: 2.424 |  Val. PPL:  11.291\n",
      "Epoch: 03 | Time: 0m 13s\n",
      "\tTrain Loss: 2.285 | Train PPL:   9.828\n",
      "\t Val. Loss: 2.100 |  Val. PPL:   8.167\n",
      "Epoch: 04 | Time: 0m 13s\n",
      "\tTrain Loss: 1.930 | Train PPL:   6.888\n",
      "\t Val. Loss: 1.914 |  Val. PPL:   6.778\n",
      "Epoch: 05 | Time: 0m 13s\n",
      "\tTrain Loss: 1.679 | Train PPL:   5.361\n",
      "\t Val. Loss: 1.813 |  Val. PPL:   6.129\n",
      "Epoch: 06 | Time: 0m 13s\n",
      "\tTrain Loss: 1.486 | Train PPL:   4.418\n",
      "\t Val. Loss: 1.729 |  Val. PPL:   5.635\n",
      "Epoch: 07 | Time: 0m 13s\n",
      "\tTrain Loss: 1.328 | Train PPL:   3.774\n",
      "\t Val. Loss: 1.704 |  Val. PPL:   5.495\n",
      "Epoch: 08 | Time: 0m 13s\n",
      "\tTrain Loss: 1.199 | Train PPL:   3.317\n",
      "\t Val. Loss: 1.678 |  Val. PPL:   5.357\n",
      "Epoch: 09 | Time: 0m 13s\n",
      "\tTrain Loss: 1.087 | Train PPL:   2.965\n",
      "\t Val. Loss: 1.678 |  Val. PPL:   5.354\n",
      "Epoch: 10 | Time: 0m 13s\n",
      "\tTrain Loss: 0.990 | Train PPL:   2.691\n",
      "\t Val. Loss: 1.701 |  Val. PPL:   5.480\n"
     ]
    }
   ],
   "source": [
    "#device = torch.device('cpu')\n",
    "N_EPOCHS = 10\n",
    "CLIP = 1\n",
    "\n",
    "best_valid_loss = float('inf')\n",
    "\n",
    "for epoch in range(N_EPOCHS):\n",
    "    \n",
    "    start_time = time.time()\n",
    "    \n",
    "    train_loss = train(model, train_loader, optimizer, criterion, CLIP)\n",
    "    valid_loss = evaluate(model, valid_loader, criterion)\n",
    "    \n",
    "    end_time = time.time()\n",
    "    \n",
    "    epoch_mins, epoch_secs = epoch_time(start_time, end_time)\n",
    "    \n",
    "    if valid_loss < best_valid_loss:\n",
    "        best_valid_loss = valid_loss\n",
    "        torch.save(model.state_dict(), '6b_en_de.pt')\n",
    "    \n",
    "    print(f'Epoch: {epoch+1:02} | Time: {epoch_mins}m {epoch_secs}s')\n",
    "    print(f'\\tTrain Loss: {train_loss:.3f} | Train PPL: {math.exp(train_loss):7.3f}')\n",
    "    print(f'\\t Val. Loss: {valid_loss:.3f} |  Val. PPL: {math.exp(valid_loss):7.3f}')"
   ]
  },
  {
   "cell_type": "markdown",
   "metadata": {},
   "source": [
    "We load our \"best\" parameters and manage to achieve a better test perplexity than all previous models."
   ]
  },
  {
   "cell_type": "code",
   "execution_count": 124,
   "metadata": {
    "execution": {
     "iopub.execute_input": "2022-03-05T17:38:52.323436Z",
     "iopub.status.busy": "2022-03-05T17:38:52.323264Z",
     "iopub.status.idle": "2022-03-05T17:38:52.327625Z",
     "shell.execute_reply": "2022-03-05T17:38:52.327130Z",
     "shell.execute_reply.started": "2022-03-05T17:38:52.323409Z"
    },
    "tags": []
   },
   "outputs": [
    {
     "data": {
      "text/plain": [
       "device(type='cuda')"
      ]
     },
     "execution_count": 124,
     "metadata": {},
     "output_type": "execute_result"
    }
   ],
   "source": [
    "device"
   ]
  },
  {
   "cell_type": "code",
   "execution_count": 125,
   "metadata": {
    "execution": {
     "iopub.execute_input": "2022-03-05T17:39:02.655037Z",
     "iopub.status.busy": "2022-03-05T17:39:02.654800Z",
     "iopub.status.idle": "2022-03-05T17:39:02.690031Z",
     "shell.execute_reply": "2022-03-05T17:39:02.689489Z",
     "shell.execute_reply.started": "2022-03-05T17:39:02.654994Z"
    },
    "tags": []
   },
   "outputs": [],
   "source": [
    "model.load_state_dict(torch.load('6b_en_de.pt'))\n",
    "model = model.to(device)"
   ]
  },
  {
   "cell_type": "code",
   "execution_count": 126,
   "metadata": {
    "execution": {
     "iopub.execute_input": "2022-03-05T17:39:03.147538Z",
     "iopub.status.busy": "2022-03-05T17:39:03.147303Z",
     "iopub.status.idle": "2022-03-05T17:39:03.375151Z",
     "shell.execute_reply": "2022-03-05T17:39:03.374618Z",
     "shell.execute_reply.started": "2022-03-05T17:39:03.147496Z"
    },
    "tags": []
   },
   "outputs": [
    {
     "name": "stdout",
     "output_type": "stream",
     "text": [
      "| Test Loss: 1.742 | Test PPL:   5.710 |\n"
     ]
    }
   ],
   "source": [
    "test_loss = evaluate(model, test_loader, criterion)\n",
    "\n",
    "print(f'| Test Loss: {test_loss:.3f} | Test PPL: {math.exp(test_loss):7.3f} |')"
   ]
  },
  {
   "cell_type": "markdown",
   "metadata": {},
   "source": [
    "## Inference\n",
    "\n",
    "Now we can can translations from our model with the `translate_sentence` function below.\n",
    "\n",
    "The steps taken are:\n",
    "- tokenize the source sentence if it has not been tokenized (is a string)\n",
    "- append the `<sos>` and `<eos>` tokens\n",
    "- numericalize the source sentence\n",
    "- convert it to a tensor and add a batch dimension\n",
    "- create the source sentence mask\n",
    "- feed the source sentence and mask into the encoder\n",
    "- create a list to hold the output sentence, initialized with an `<sos>` token\n",
    "- while we have not hit a maximum length\n",
    "  - convert the current output sentence prediction into a tensor with a batch dimension\n",
    "  - create a target sentence mask\n",
    "  - place the current output, encoder output and both masks into the decoder\n",
    "  - get next output token prediction from decoder along with attention\n",
    "  - add prediction to current output sentence prediction\n",
    "  - break if the prediction was an `<eos>` token\n",
    "- convert the output sentence from indexes to tokens\n",
    "- return the output sentence (with the `<sos>` token removed) and the attention from the last layer"
   ]
  },
  {
   "cell_type": "code",
   "execution_count": 127,
   "metadata": {
    "execution": {
     "iopub.execute_input": "2022-03-05T17:39:05.706889Z",
     "iopub.status.busy": "2022-03-05T17:39:05.706662Z",
     "iopub.status.idle": "2022-03-05T17:39:05.711700Z",
     "shell.execute_reply": "2022-03-05T17:39:05.711117Z",
     "shell.execute_reply.started": "2022-03-05T17:39:05.706848Z"
    },
    "tags": []
   },
   "outputs": [
    {
     "data": {
      "text/plain": [
       "Vocab()"
      ]
     },
     "execution_count": 127,
     "metadata": {},
     "output_type": "execute_result"
    }
   ],
   "source": [
    "source_vocab"
   ]
  },
  {
   "cell_type": "markdown",
   "metadata": {},
   "source": [
    "## Inference\n",
    "\n",
    "Now we can can translations from our model with the `translate_sentence` function below.\n",
    "\n",
    "The steps taken are:\n",
    "- tokenize the source sentence if it has not been tokenized (is a string)\n",
    "- append the `<sos>` and `<eos>` tokens\n",
    "- numericalize the source sentence\n",
    "- convert it to a tensor and add a batch dimension\n",
    "- create the source sentence mask\n",
    "- feed the source sentence and mask into the encoder\n",
    "- create a list to hold the output sentence, initialized with an `<sos>` token\n",
    "- while we have not hit a maximum length\n",
    "  - convert the current output sentence prediction into a tensor with a batch dimension\n",
    "  - create a target sentence mask\n",
    "  - place the current output, encoder output and both masks into the decoder\n",
    "  - get next output token prediction from decoder along with attention\n",
    "  - add prediction to current output sentence prediction\n",
    "  - break if the prediction was an `<eos>` token\n",
    "- convert the output sentence from indexes to tokens\n",
    "- return the output sentence (with the `<sos>` token removed) and the attention from the last layer"
   ]
  },
  {
   "cell_type": "code",
   "execution_count": 128,
   "metadata": {
    "execution": {
     "iopub.execute_input": "2022-03-05T17:39:05.900967Z",
     "iopub.status.busy": "2022-03-05T17:39:05.900730Z",
     "iopub.status.idle": "2022-03-05T17:39:05.911971Z",
     "shell.execute_reply": "2022-03-05T17:39:05.911453Z",
     "shell.execute_reply.started": "2022-03-05T17:39:05.900938Z"
    },
    "tags": []
   },
   "outputs": [],
   "source": [
    "def translate_sentence(sentence, source_vocab, target_vocab, model, device, max_len = 50):\n",
    "    \n"
   ]
  },
  {
   "cell_type": "markdown",
   "metadata": {},
   "source": [
    "We'll now define a function that displays the attention over the source sentence for each step of the decoding. As this model has 8 heads our model we can view the attention for each of the heads."
   ]
  },
  {
   "cell_type": "code",
   "execution_count": 129,
   "metadata": {
    "execution": {
     "iopub.execute_input": "2022-03-05T17:39:06.544558Z",
     "iopub.status.busy": "2022-03-05T17:39:06.544322Z",
     "iopub.status.idle": "2022-03-05T17:39:06.554201Z",
     "shell.execute_reply": "2022-03-05T17:39:06.553565Z",
     "shell.execute_reply.started": "2022-03-05T17:39:06.544516Z"
    },
    "tags": []
   },
   "outputs": [],
   "source": [
    "def display_attention(sentence, translation, attention, n_heads = 8, n_rows = 4, n_cols = 2):\n",
    "    \n",
    "    assert n_rows * n_cols == n_heads\n",
    "    \n",
    "    fig = plt.figure(figsize=(15,25))\n",
    "    \n",
    "    for i in range(n_heads):\n",
    "        \n",
    "        ax = fig.add_subplot(n_rows, n_cols, i+1)\n",
    "        \n",
    "        _attention = attention.squeeze(0)[i].cpu().detach().numpy()\n",
    "\n",
    "        cax = ax.matshow(_attention, cmap='bone')\n",
    "\n",
    "        ax.tick_params(labelsize=12)\n",
    "        \n",
    "        x_labels= np.array(['']+['<sos>']+[t.lower() for t in sentence]+['<eos>'])\n",
    "        #ax.set_xticks(x_labels)\n",
    "        ax.set_xticklabels(x_labels, rotation=45)\n",
    "       \n",
    "        y_labels = np.array(['']+translation)\n",
    "        #ax.set_yticks(['']+translation)\n",
    "        ax.set_yticklabels(['']+translation)\n",
    "\n",
    "        ax.xaxis.set_major_locator(ticker.MultipleLocator(1))\n",
    "        ax.yaxis.set_major_locator(ticker.MultipleLocator(1))\n",
    "        \n",
    "        \n",
    "\n",
    "    plt.show()\n",
    "    plt.close()"
   ]
  },
  {
   "cell_type": "markdown",
   "metadata": {},
   "source": [
    "First, we'll get an example from the training set."
   ]
  },
  {
   "cell_type": "code",
   "execution_count": 130,
   "metadata": {
    "execution": {
     "iopub.execute_input": "2022-03-05T17:39:06.911568Z",
     "iopub.status.busy": "2022-03-05T17:39:06.911329Z",
     "iopub.status.idle": "2022-03-05T17:39:06.916251Z",
     "shell.execute_reply": "2022-03-05T17:39:06.915704Z",
     "shell.execute_reply.started": "2022-03-05T17:39:06.911539Z"
    },
    "tags": []
   },
   "outputs": [
    {
     "name": "stdout",
     "output_type": "stream",
     "text": [
      "src = ['eine', 'frau', 'mit', 'einer', 'großen', 'geldbörse', 'geht', 'an', 'einem', 'tor', 'vorbei', '.']\n",
      "trg = ['a', 'woman', 'with', 'a', 'large', 'purse', 'is', 'walking', 'by', 'a', 'gate', '.']\n"
     ]
    }
   ],
   "source": [
    "example_idx = 8\n",
    "\n",
    "src = trainset[example_idx][0]\n",
    "trg = trainset[example_idx][1]\n",
    "\n",
    "print(f'src = {src}')\n",
    "print(f'trg = {trg}')"
   ]
  },
  {
   "cell_type": "markdown",
   "metadata": {},
   "source": [
    "Our translation looks pretty good, although our model changes *is walking by* to *walks by*. The meaning is still the same."
   ]
  },
  {
   "cell_type": "code",
   "execution_count": 131,
   "metadata": {
    "execution": {
     "iopub.execute_input": "2022-03-05T17:39:07.911099Z",
     "iopub.status.busy": "2022-03-05T17:39:07.910860Z",
     "iopub.status.idle": "2022-03-05T17:39:07.915876Z",
     "shell.execute_reply": "2022-03-05T17:39:07.915260Z",
     "shell.execute_reply.started": "2022-03-05T17:39:07.911057Z"
    },
    "tags": []
   },
   "outputs": [
    {
     "data": {
      "text/plain": [
       "device(type='cuda')"
      ]
     },
     "execution_count": 131,
     "metadata": {},
     "output_type": "execute_result"
    }
   ],
   "source": [
    "device"
   ]
  },
  {
   "cell_type": "code",
   "execution_count": 132,
   "metadata": {
    "execution": {
     "iopub.execute_input": "2022-03-05T17:39:08.408927Z",
     "iopub.status.busy": "2022-03-05T17:39:08.408702Z",
     "iopub.status.idle": "2022-03-05T17:39:08.455322Z",
     "shell.execute_reply": "2022-03-05T17:39:08.454778Z",
     "shell.execute_reply.started": "2022-03-05T17:39:08.408896Z"
    },
    "tags": []
   },
   "outputs": [
    {
     "name": "stdout",
     "output_type": "stream",
     "text": [
      "predicted trg = ['a', 'woman', 'with', 'a', 'large', 'purse', 'walks', 'by', 'a', 'gate', '.', '<EOS>']\n"
     ]
    }
   ],
   "source": [
    "translation, attention = translate_sentence(src, source_vocab, target_vocab, model, device)\n",
    "\n",
    "print(f'predicted trg = {translation}')"
   ]
  },
  {
   "cell_type": "markdown",
   "metadata": {},
   "source": [
    "We can see the attention from each head below. Each is certainly different, but it's difficult (perhaps impossible) to reason about what head has actually learned to pay attention to. Some heads pay full attention to \"eine\" when translating \"a\", some don't at all, and some do a little. They all seem to follow the similar \"downward staircase\" pattern and the attention when outputting the last two tokens is equally spread over the final two tokens in the input sentence."
   ]
  },
  {
   "cell_type": "code",
   "execution_count": 133,
   "metadata": {
    "execution": {
     "iopub.execute_input": "2022-03-05T17:39:08.842231Z",
     "iopub.status.busy": "2022-03-05T17:39:08.841959Z",
     "iopub.status.idle": "2022-03-05T17:39:10.606437Z",
     "shell.execute_reply": "2022-03-05T17:39:10.605911Z",
     "shell.execute_reply.started": "2022-03-05T17:39:08.842188Z"
    },
    "tags": []
   },
   "outputs": [
    {
     "name": "stderr",
     "output_type": "stream",
     "text": [
      "/tmp/ipykernel_6267/1194617511.py:19: UserWarning: FixedFormatter should only be used together with FixedLocator\n",
      "  ax.set_xticklabels(x_labels, rotation=45)\n",
      "/tmp/ipykernel_6267/1194617511.py:23: UserWarning: FixedFormatter should only be used together with FixedLocator\n",
      "  ax.set_yticklabels(['']+translation)\n"
     ]
    },
    {
     "data": {
      "image/png": "[encoded data removed]",
      "text/plain": [
       "<Figure size 1080x1800 with 8 Axes>"
      ]
     },
     "metadata": {
      "needs_background": "light"
     },
     "output_type": "display_data"
    }
   ],
   "source": [
    "display_attention(src, translation, attention)"
   ]
  },
  {
   "cell_type": "markdown",
   "metadata": {},
   "source": [
    "Next, let's get an example the model has not been trained on from the validation set."
   ]
  },
  {
   "cell_type": "code",
   "execution_count": 134,
   "metadata": {
    "execution": {
     "iopub.execute_input": "2022-03-05T17:39:10.607728Z",
     "iopub.status.busy": "2022-03-05T17:39:10.607491Z",
     "iopub.status.idle": "2022-03-05T17:39:10.612347Z",
     "shell.execute_reply": "2022-03-05T17:39:10.611884Z",
     "shell.execute_reply.started": "2022-03-05T17:39:10.607699Z"
    },
    "tags": []
   },
   "outputs": [
    {
     "name": "stdout",
     "output_type": "stream",
     "text": [
      "src = ['ein', 'brauner', 'hund', 'rennt', 'dem', 'schwarzen', 'hund', 'hinterher', '.']\n",
      "trg = ['a', 'brown', 'dog', 'is', 'running', 'after', 'the', 'black', 'dog', '.']\n"
     ]
    }
   ],
   "source": [
    "example_idx = 6\n",
    "\n",
    "src = validset[example_idx][0]\n",
    "trg = validset[example_idx][1]\n",
    "\n",
    "print(f'src = {src}')\n",
    "print(f'trg = {trg}')"
   ]
  },
  {
   "cell_type": "markdown",
   "metadata": {},
   "source": [
    "The model translates it by switching *is running* to just *runs*, but it is an acceptable swap."
   ]
  },
  {
   "cell_type": "code",
   "execution_count": 135,
   "metadata": {
    "execution": {
     "iopub.execute_input": "2022-03-05T17:39:10.613325Z",
     "iopub.status.busy": "2022-03-05T17:39:10.613138Z",
     "iopub.status.idle": "2022-03-05T17:39:10.659147Z",
     "shell.execute_reply": "2022-03-05T17:39:10.658547Z",
     "shell.execute_reply.started": "2022-03-05T17:39:10.613297Z"
    },
    "tags": []
   },
   "outputs": [
    {
     "name": "stdout",
     "output_type": "stream",
     "text": [
      "predicted trg = ['a', 'brown', 'dog', 'is', 'running', 'after', 'the', 'black', 'dog', '.', '<EOS>']\n"
     ]
    }
   ],
   "source": [
    "translation, attention = translate_sentence(src, source_vocab, target_vocab, model, device)\n",
    "\n",
    "print(f'predicted trg = {translation}')"
   ]
  },
  {
   "cell_type": "markdown",
   "metadata": {},
   "source": [
    "Again, some heads pay full attention to \"ein\" whilst some pay no attention to it. Again, most of the heads seem to spread their attention over both the period and `<eos>` tokens in the source sentence when outputting the period and `<eos>` sentence in the predicted target sentence, though some seem to pay attention to tokens from near the start of the sentence."
   ]
  },
  {
   "cell_type": "code",
   "execution_count": 136,
   "metadata": {
    "execution": {
     "iopub.execute_input": "2022-03-05T17:39:11.289814Z",
     "iopub.status.busy": "2022-03-05T17:39:11.289574Z",
     "iopub.status.idle": "2022-03-05T17:39:12.952569Z",
     "shell.execute_reply": "2022-03-05T17:39:12.952043Z",
     "shell.execute_reply.started": "2022-03-05T17:39:11.289771Z"
    },
    "tags": []
   },
   "outputs": [
    {
     "name": "stderr",
     "output_type": "stream",
     "text": [
      "/tmp/ipykernel_6267/1194617511.py:19: UserWarning: FixedFormatter should only be used together with FixedLocator\n",
      "  ax.set_xticklabels(x_labels, rotation=45)\n",
      "/tmp/ipykernel_6267/1194617511.py:23: UserWarning: FixedFormatter should only be used together with FixedLocator\n",
      "  ax.set_yticklabels(['']+translation)\n"
     ]
    },
    {
     "data": {
      "image/png": "[encoded data removed]",
      "text/plain": [
       "<Figure size 1080x1800 with 8 Axes>"
      ]
     },
     "metadata": {
      "needs_background": "light"
     },
     "output_type": "display_data"
    }
   ],
   "source": [
    "display_attention(src, translation, attention)"
   ]
  },
  {
   "cell_type": "markdown",
   "metadata": {},
   "source": [
    "Finally, we'll look at an example from the test data."
   ]
  },
  {
   "cell_type": "code",
   "execution_count": 137,
   "metadata": {
    "execution": {
     "iopub.execute_input": "2022-03-05T17:39:12.954079Z",
     "iopub.status.busy": "2022-03-05T17:39:12.953715Z",
     "iopub.status.idle": "2022-03-05T17:39:12.958494Z",
     "shell.execute_reply": "2022-03-05T17:39:12.958107Z",
     "shell.execute_reply.started": "2022-03-05T17:39:12.954051Z"
    },
    "tags": []
   },
   "outputs": [
    {
     "name": "stdout",
     "output_type": "stream",
     "text": [
      "src = ['eine', 'mutter', 'und', 'ihr', 'kleiner', 'sohn', 'genießen', 'einen', 'schönen', 'tag', 'i', 'm', 'freien', '.']\n",
      "trg = ['a', 'mother', 'and', 'her', 'young', 'song', 'enjoying', 'a', 'beautiful', 'day', 'outside', '.']\n"
     ]
    }
   ],
   "source": [
    "example_idx = 10\n",
    "\n",
    "src = testset[example_idx][0]\n",
    "trg = testset[example_idx][1]\n",
    "\n",
    "print(f'src = {src}')\n",
    "print(f'trg = {trg}')"
   ]
  },
  {
   "cell_type": "markdown",
   "metadata": {},
   "source": [
    "A perfect translation!"
   ]
  },
  {
   "cell_type": "code",
   "execution_count": 138,
   "metadata": {
    "execution": {
     "iopub.execute_input": "2022-03-05T17:39:12.959530Z",
     "iopub.status.busy": "2022-03-05T17:39:12.959332Z",
     "iopub.status.idle": "2022-03-05T17:39:13.011011Z",
     "shell.execute_reply": "2022-03-05T17:39:13.010437Z",
     "shell.execute_reply.started": "2022-03-05T17:39:12.959501Z"
    },
    "tags": []
   },
   "outputs": [
    {
     "name": "stdout",
     "output_type": "stream",
     "text": [
      "predicted trg = ['a', 'young', 'mother', 'and', 'son', 'are', 'enjoying', 'a', 'beautiful', 'day', 'outside', '.', '<EOS>']\n"
     ]
    }
   ],
   "source": [
    "translation, attention = translate_sentence(src, source_vocab, target_vocab, model, device)\n",
    "\n",
    "print(f'predicted trg = {translation}')"
   ]
  },
  {
   "cell_type": "code",
   "execution_count": 139,
   "metadata": {
    "execution": {
     "iopub.execute_input": "2022-03-05T17:39:13.012524Z",
     "iopub.status.busy": "2022-03-05T17:39:13.012307Z",
     "iopub.status.idle": "2022-03-05T17:39:14.930737Z",
     "shell.execute_reply": "2022-03-05T17:39:14.930226Z",
     "shell.execute_reply.started": "2022-03-05T17:39:13.012482Z"
    },
    "tags": []
   },
   "outputs": [
    {
     "name": "stderr",
     "output_type": "stream",
     "text": [
      "/tmp/ipykernel_6267/1194617511.py:19: UserWarning: FixedFormatter should only be used together with FixedLocator\n",
      "  ax.set_xticklabels(x_labels, rotation=45)\n",
      "/tmp/ipykernel_6267/1194617511.py:23: UserWarning: FixedFormatter should only be used together with FixedLocator\n",
      "  ax.set_yticklabels(['']+translation)\n"
     ]
    },
    {
     "data": {
      "image/png": "[encoded data removed]",
      "text/plain": [
       "<Figure size 1080x1800 with 8 Axes>"
      ]
     },
     "metadata": {
      "needs_background": "light"
     },
     "output_type": "display_data"
    }
   ],
   "source": [
    "display_attention(src, translation, attention)"
   ]
  },
  {
   "cell_type": "markdown",
   "metadata": {},
   "source": [
    "## BLEU\n",
    "\n",
    "Finally we calculate the BLEU score for the Transformer."
   ]
  },
  {
   "cell_type": "code",
   "execution_count": 166,
   "metadata": {
    "execution": {
     "iopub.execute_input": "2022-03-05T17:55:45.293928Z",
     "iopub.status.busy": "2022-03-05T17:55:45.293368Z",
     "iopub.status.idle": "2022-03-05T17:55:45.300252Z",
     "shell.execute_reply": "2022-03-05T17:55:45.299745Z",
     "shell.execute_reply.started": "2022-03-05T17:55:45.293897Z"
    },
    "tags": []
   },
   "outputs": [],
   "source": [
    "from torchtext.data.metrics import bleu_score\n",
    "\n",
    "def calculate_bleu(data, src_field, trg_field, model, device, max_len = 50):\n",
    "    \n",
    "    trgs = []\n",
    "    pred_trgs = []\n",
    "    i=0\n",
    "    \n",
    "    for datum in data:\n",
    "        \n",
    "        src = datum[0]\n",
    "        trg = datum[1]\n",
    "       \n",
    "        \n",
    "        pred_trg, _ = translate_sentence(src, source_vocab, target_vocab, model, device, max_len)\n",
    "        \n",
    "        #cut off <eos> token\n",
    "        pred_trg = pred_trg[:-1]\n",
    "       \n",
    "        \n",
    "        pred_trgs.append(pred_trg)\n",
    "        trgs.append([trg])\n",
    "    \n",
    "        \n",
    "    return bleu_score(pred_trgs, trgs)"
   ]
  },
  {
   "cell_type": "markdown",
   "metadata": {},
   "source": [
    "We get a BLEU score of 36.52, which beats the ~34 of the convolutional sequence-to-sequence model and ~28 of the attention based RNN model. All this whilst having the least amount of parameters and the fastest training time!"
   ]
  },
  {
   "cell_type": "code",
   "execution_count": 167,
   "metadata": {
    "execution": {
     "iopub.execute_input": "2022-03-05T17:55:57.188898Z",
     "iopub.status.busy": "2022-03-05T17:55:57.188657Z",
     "iopub.status.idle": "2022-03-05T17:56:40.681778Z",
     "shell.execute_reply": "2022-03-05T17:56:40.681217Z",
     "shell.execute_reply.started": "2022-03-05T17:55:57.188854Z"
    },
    "tags": []
   },
   "outputs": [],
   "source": [
    "bleu_score = calculate_bleu(testset, source_vocab, target_vocab, model, device)"
   ]
  },
  {
   "cell_type": "code",
   "execution_count": 169,
   "metadata": {
    "execution": {
     "iopub.execute_input": "2022-03-05T17:56:55.437450Z",
     "iopub.status.busy": "2022-03-05T17:56:55.437111Z",
     "iopub.status.idle": "2022-03-05T17:56:55.441593Z",
     "shell.execute_reply": "2022-03-05T17:56:55.440986Z",
     "shell.execute_reply.started": "2022-03-05T17:56:55.437404Z"
    },
    "tags": []
   },
   "outputs": [
    {
     "name": "stdout",
     "output_type": "stream",
     "text": [
      "BLEU score = 34.55\n"
     ]
    }
   ],
   "source": [
    "print(f'BLEU score = {bleu_score*100:.2f}')"
   ]
  },
  {
   "cell_type": "markdown",
   "metadata": {},
   "source": [
    "Congratulations for finishing these tutorials! I hope you've found them useful.\n",
    "\n",
    "If you find any mistakes or want to ask any questions about any of the code or explanations used, feel free to submit a GitHub issue and I will try to correct it ASAP.\n",
    "\n",
    "## Appendix\n",
    "\n",
    "The `calculate_bleu` function above is unoptimized. Below is a significantly faster, vectorized version of it that should be used if needed. Credit for the implementation goes to [@azadyasar](https://github.com/azadyasar)."
   ]
  },
  {
   "cell_type": "code",
   "execution_count": 75,
   "metadata": {
    "execution": {
     "iopub.execute_input": "2022-03-05T17:34:06.311118Z",
     "iopub.status.busy": "2022-03-05T17:34:06.310791Z",
     "iopub.status.idle": "2022-03-05T17:34:06.327478Z",
     "shell.execute_reply": "2022-03-05T17:34:06.326837Z",
     "shell.execute_reply.started": "2022-03-05T17:34:06.311073Z"
    },
    "tags": []
   },
   "outputs": [],
   "source": [
    "def translate_sentence_vectorized(src_tensor, source_vocab, target_vocab, model, device, max_len=50):\n",
    "    assert isinstance(src_tensor, torch.Tensor)\n",
    "\n",
    "    model.eval()\n",
    "    src_mask = model.make_src_mask(src_tensor)\n",
    "\n",
    "    with torch.no_grad():\n",
    "        enc_src = model.encoder(src_tensor, src_mask)\n",
    "    # enc_src = [batch_sz, src_len, hid_dim]\n",
    "\n",
    "    trg_indexes = [[target_vocab['<BOS>']] for _ in range(len(src_tensor))]\n",
    "    # Even though some examples might have been completed by producing a <eos> token\n",
    "    # we still need to feed them through the model because other are not yet finished\n",
    "    # and all examples act as a batch. Once every single sentence prediction encounters\n",
    "    # <eos> token, then we can stop predicting.\n",
    "    translations_done = [0] * len(src_tensor)\n",
    "    for i in range(max_len):\n",
    "        trg_tensor = torch.LongTensor(trg_indexes).to(device)\n",
    "        trg_mask = model.make_trg_mask(trg_tensor)\n",
    "        with torch.no_grad():\n",
    "            output, attention = model.decoder(trg_tensor, enc_src, trg_mask, src_mask)\n",
    "        pred_tokens = output.argmax(2)[:,-1]\n",
    "        for i, pred_token_i in enumerate(pred_tokens):\n",
    "            trg_indexes[i].append(pred_token_i)\n",
    "            if pred_token_i == target_vocab['<EOS>']:\n",
    "                translations_done[i] = 1\n",
    "        if all(translations_done):\n",
    "            break\n",
    "\n",
    "    # Iterate through each predicted example one by one;\n",
    "    # Cut-off the portion including the after the <eos> token\n",
    "    pred_sentences = []\n",
    "    for trg_sentence in trg_indexes:\n",
    "        pred_sentence = []\n",
    "        for i in range(1, len(trg_sentence)):\n",
    "            if trg_sentence[i] == target_vocab['<EOS>']:\n",
    "                break\n",
    "            pred_sentence.append(target_vocab.get_itos()[trg_sentence[i]])\n",
    "        pred_sentences.append(pred_sentence)\n",
    "\n",
    "    return pred_sentences, attention"
   ]
  },
  {
   "cell_type": "code",
   "execution_count": 76,
   "metadata": {
    "execution": {
     "iopub.execute_input": "2022-03-05T17:34:06.721617Z",
     "iopub.status.busy": "2022-03-05T17:34:06.721414Z",
     "iopub.status.idle": "2022-03-05T17:34:06.729744Z",
     "shell.execute_reply": "2022-03-05T17:34:06.729194Z",
     "shell.execute_reply.started": "2022-03-05T17:34:06.721587Z"
    },
    "tags": []
   },
   "outputs": [],
   "source": [
    "from torchtext.data.metrics import bleu_score\n",
    "\n",
    "def calculate_bleu_alt(iterator, source_vocab, target_vocab, model, device, max_len = 50):\n",
    "    trgs = []\n",
    "    pred_trgs = []\n",
    "    with torch.no_grad():\n",
    "        for src, trg in iterator:\n",
    "            src = src.to(device)\n",
    "            trg = trg.to(device)\n",
    "            _trgs = []\n",
    "            for sentence in trg:\n",
    "                tmp = []\n",
    "                # Start from the first token which skips the <start> token\n",
    "                for i in sentence[1:]:\n",
    "                    # Targets are padded. So stop appending as soon as a padding or eos token is encountered\n",
    "                    if (i == target_vocab['<EOS>']) or (i == target_vocab['<PAD>']):\n",
    "                        break\n",
    "                    tmp.append(target_vocab.get_itos()[i])\n",
    "                _trgs.append([tmp])\n",
    "            trgs += _trgs\n",
    "            pred_trg, _ = translate_sentence_vectorized(src, source_vocab, target_vocab, model, device)\n",
    "            pred_trgs += pred_trg\n",
    "    return  bleu_score(pred_trgs, trgs)"
   ]
  },
  {
   "cell_type": "code",
   "execution_count": 77,
   "metadata": {
    "execution": {
     "iopub.execute_input": "2022-03-05T17:34:07.337594Z",
     "iopub.status.busy": "2022-03-05T17:34:07.337360Z",
     "iopub.status.idle": "2022-03-05T17:34:21.375258Z",
     "shell.execute_reply": "2022-03-05T17:34:21.374738Z",
     "shell.execute_reply.started": "2022-03-05T17:34:07.337551Z"
    },
    "tags": []
   },
   "outputs": [
    {
     "data": {
      "text/plain": [
       "0.3537411146926866"
      ]
     },
     "execution_count": 77,
     "metadata": {},
     "output_type": "execute_result"
    }
   ],
   "source": [
    "calculate_bleu_alt(test_loader, source_vocab, target_vocab, model, device, max_len = 50)"
   ]
  },
  {
   "cell_type": "code",
   "execution_count": null,
   "metadata": {},
   "outputs": [],
   "source": []
  }
 ],
 "metadata": {
  "kernelspec": {
   "display_name": "pt10",
   "language": "python",
   "name": "pt10"
  },
  "language_info": {
   "codemirror_mode": {
    "name": "ipython",
    "version": 3
   },
   "file_extension": ".py",
   "mimetype": "text/x-python",
   "name": "python",
   "nbconvert_exporter": "python",
   "pygments_lexer": "ipython3",
   "version": "3.8.12"
  }
 },
 "nbformat": 4,
 "nbformat_minor": 4
}
