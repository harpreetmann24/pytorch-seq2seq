{
 "cells": [
  {
   "cell_type": "markdown",
   "id": "8f562763-c419-4498-96be-e07654c67e5c",
   "metadata": {},
   "source": [
    "# iNLTK"
   ]
  },
  {
   "cell_type": "code",
   "execution_count": 10,
   "id": "62266d5a-e21b-40dc-afc3-ec24b54db4a8",
   "metadata": {
    "execution": {
     "iopub.execute_input": "2022-02-06T21:41:13.435680Z",
     "iopub.status.busy": "2022-02-06T21:41:13.435499Z",
     "iopub.status.idle": "2022-02-06T21:41:13.438359Z",
     "shell.execute_reply": "2022-02-06T21:41:13.437840Z",
     "shell.execute_reply.started": "2022-02-06T21:41:13.435666Z"
    },
    "tags": []
   },
   "outputs": [],
   "source": [
    "from inltk.inltk import tokenize, setup"
   ]
  },
  {
   "cell_type": "code",
   "execution_count": 11,
   "id": "8b2d76dc-42d3-4d9a-a3ed-3c6488c52d6c",
   "metadata": {
    "execution": {
     "iopub.execute_input": "2022-02-06T21:41:13.613951Z",
     "iopub.status.busy": "2022-02-06T21:41:13.613828Z",
     "iopub.status.idle": "2022-02-06T21:41:13.615900Z",
     "shell.execute_reply": "2022-02-06T21:41:13.615630Z",
     "shell.execute_reply.started": "2022-02-06T21:41:13.613938Z"
    },
    "tags": []
   },
   "outputs": [],
   "source": [
    "#setup('hi')"
   ]
  },
  {
   "cell_type": "code",
   "execution_count": 19,
   "id": "9b638f00-328e-45d1-9d80-6bb208253532",
   "metadata": {
    "execution": {
     "iopub.execute_input": "2022-02-06T22:07:49.663442Z",
     "iopub.status.busy": "2022-02-06T22:07:49.663302Z",
     "iopub.status.idle": "2022-02-06T22:07:49.666181Z",
     "shell.execute_reply": "2022-02-06T22:07:49.665792Z",
     "shell.execute_reply.started": "2022-02-06T22:07:49.663429Z"
    },
    "tags": []
   },
   "outputs": [],
   "source": [
    "hindi_text = \"\"\"प्राचीन काल में विक्रमादित्य नाम के एक आदर्श राजा हुआ करते थे।\n",
    "अपने साहस, पराक्रम और शौर्य के लिए  राजा विक्रम मशहूर थे। \n",
    "ऐसा भी कहा जाता है कि राजा विक्रम अपनी प्राजा के जीवन के दुख दर्द जानने के लिए रात्री के पहर में भेष बदल कर नगर में घूमते थे।\"\"\""
   ]
  },
  {
   "cell_type": "code",
   "execution_count": 13,
   "id": "2ba3b77d-72aa-48bb-91ba-313177a5f707",
   "metadata": {
    "execution": {
     "iopub.execute_input": "2022-02-06T21:41:13.944047Z",
     "iopub.status.busy": "2022-02-06T21:41:13.943925Z",
     "iopub.status.idle": "2022-02-06T21:41:14.007551Z",
     "shell.execute_reply": "2022-02-06T21:41:14.007209Z",
     "shell.execute_reply.started": "2022-02-06T21:41:13.944034Z"
    },
    "tags": []
   },
   "outputs": [
    {
     "data": {
      "text/plain": [
       "['▁प्राचीन',\n",
       " '▁काल',\n",
       " '▁में',\n",
       " '▁विक्रमादित्य',\n",
       " '▁नाम',\n",
       " '▁के',\n",
       " '▁एक',\n",
       " '▁आदर्श',\n",
       " '▁राजा',\n",
       " '▁हुआ',\n",
       " '▁करते',\n",
       " '▁थे',\n",
       " '।',\n",
       " '▁अपने',\n",
       " '▁साहस',\n",
       " ',',\n",
       " '▁पराक्रम',\n",
       " '▁और',\n",
       " '▁शौर्य',\n",
       " '▁के',\n",
       " '▁लिए',\n",
       " '▁राजा',\n",
       " '▁विक्रम',\n",
       " '▁मशहूर',\n",
       " '▁थे',\n",
       " '।',\n",
       " '▁ऐसा',\n",
       " '▁भी',\n",
       " '▁कहा',\n",
       " '▁जाता',\n",
       " '▁है',\n",
       " '▁कि',\n",
       " '▁राजा',\n",
       " '▁विक्रम',\n",
       " '▁अपनी',\n",
       " '▁प्रा',\n",
       " 'जा',\n",
       " '▁के',\n",
       " '▁जीवन',\n",
       " '▁के',\n",
       " '▁दुख',\n",
       " '▁दर्द',\n",
       " '▁जानने',\n",
       " '▁के',\n",
       " '▁लिए',\n",
       " '▁रात्री',\n",
       " '▁के',\n",
       " '▁पहर',\n",
       " '▁में',\n",
       " '▁भेष',\n",
       " '▁बदल',\n",
       " '▁कर',\n",
       " '▁नगर',\n",
       " '▁में',\n",
       " '▁घूमते',\n",
       " '▁थे',\n",
       " '।']"
      ]
     },
     "execution_count": 13,
     "metadata": {},
     "output_type": "execute_result"
    }
   ],
   "source": [
    "# tokenize(input text, language code)\n",
    "tokenize(hindi_text, \"hi\")"
   ]
  },
  {
   "cell_type": "markdown",
   "id": "189caf13-ea71-400c-aeef-51daf2b7634a",
   "metadata": {},
   "source": [
    "# Stanford NLP"
   ]
  },
  {
   "cell_type": "code",
   "execution_count": 14,
   "id": "a021f260-ee1a-4200-a9ee-9b3892c2f278",
   "metadata": {
    "execution": {
     "iopub.execute_input": "2022-02-06T21:41:23.425831Z",
     "iopub.status.busy": "2022-02-06T21:41:23.425687Z",
     "iopub.status.idle": "2022-02-06T21:41:23.471438Z",
     "shell.execute_reply": "2022-02-06T21:41:23.471112Z",
     "shell.execute_reply.started": "2022-02-06T21:41:23.425818Z"
    },
    "tags": []
   },
   "outputs": [],
   "source": [
    "import stanza"
   ]
  },
  {
   "cell_type": "code",
   "execution_count": 15,
   "id": "fe8e72c0-d819-41b5-950b-8122d1408ca8",
   "metadata": {
    "execution": {
     "iopub.execute_input": "2022-02-06T21:44:08.883928Z",
     "iopub.status.busy": "2022-02-06T21:44:08.883775Z",
     "iopub.status.idle": "2022-02-06T21:48:55.265501Z",
     "shell.execute_reply": "2022-02-06T21:48:55.265083Z",
     "shell.execute_reply.started": "2022-02-06T21:44:08.883914Z"
    },
    "tags": []
   },
   "outputs": [
    {
     "data": {
      "application/vnd.jupyter.widget-view+json": {
       "model_id": "1eb18c0f3b2245f099e4582fba5b6be6",
       "version_major": 2,
       "version_minor": 0
      },
      "text/plain": [
       "Downloading https://raw.githubusercontent.com/stanfordnlp/stanza-resources/main/resources_1.3.0.json:   0%|   …"
      ]
     },
     "metadata": {},
     "output_type": "display_data"
    },
    {
     "name": "stderr",
     "output_type": "stream",
     "text": [
      "2022-02-06 15:44:09 INFO: Downloading default packages for language: hi (Hindi)...\n"
     ]
    },
    {
     "data": {
      "application/vnd.jupyter.widget-view+json": {
       "model_id": "8d1ca3773a2e4e18bfc006a253257c8b",
       "version_major": 2,
       "version_minor": 0
      },
      "text/plain": [
       "Downloading https://huggingface.co/stanfordnlp/stanza-hi/resolve/v1.3.0/models/default.zip:   0%|          | 0…"
      ]
     },
     "metadata": {},
     "output_type": "display_data"
    },
    {
     "name": "stderr",
     "output_type": "stream",
     "text": [
      "2022-02-06 15:48:55 INFO: Finished downloading models and saved to /home/harpreet/stanza_resources.\n"
     ]
    }
   ],
   "source": [
    "stanza.download('hi')"
   ]
  },
  {
   "cell_type": "code",
   "execution_count": 16,
   "id": "82f962f2-f16c-4224-862d-50967ac9e1d4",
   "metadata": {
    "execution": {
     "iopub.execute_input": "2022-02-06T21:48:55.267378Z",
     "iopub.status.busy": "2022-02-06T21:48:55.267269Z",
     "iopub.status.idle": "2022-02-06T22:01:50.324720Z",
     "shell.execute_reply": "2022-02-06T22:01:50.324223Z",
     "shell.execute_reply.started": "2022-02-06T21:48:55.267365Z"
    },
    "tags": []
   },
   "outputs": [
    {
     "data": {
      "application/vnd.jupyter.widget-view+json": {
       "model_id": "7783208710fd4084b2be6f4d05147cb3",
       "version_major": 2,
       "version_minor": 0
      },
      "text/plain": [
       "Downloading https://raw.githubusercontent.com/stanfordnlp/stanza-resources/main/resources_1.3.0.json:   0%|   …"
      ]
     },
     "metadata": {},
     "output_type": "display_data"
    },
    {
     "name": "stderr",
     "output_type": "stream",
     "text": [
      "2022-02-06 15:48:55 INFO: Downloading default packages for language: en (English)...\n"
     ]
    },
    {
     "data": {
      "application/vnd.jupyter.widget-view+json": {
       "model_id": "85c7947d45244504a3339708db2f6919",
       "version_major": 2,
       "version_minor": 0
      },
      "text/plain": [
       "Downloading https://huggingface.co/stanfordnlp/stanza-en/resolve/v1.3.0/models/default.zip:   0%|          | 0…"
      ]
     },
     "metadata": {},
     "output_type": "display_data"
    },
    {
     "name": "stderr",
     "output_type": "stream",
     "text": [
      "2022-02-06 16:01:50 INFO: Finished downloading models and saved to /home/harpreet/stanza_resources.\n"
     ]
    }
   ],
   "source": [
    "stanza.download('en')"
   ]
  },
  {
   "cell_type": "code",
   "execution_count": 18,
   "id": "f37d7d7d-f766-4039-9743-69769b1ad7b5",
   "metadata": {
    "execution": {
     "iopub.execute_input": "2022-02-06T22:07:20.510011Z",
     "iopub.status.busy": "2022-02-06T22:07:20.509853Z",
     "iopub.status.idle": "2022-02-06T22:07:20.520063Z",
     "shell.execute_reply": "2022-02-06T22:07:20.519788Z",
     "shell.execute_reply.started": "2022-02-06T22:07:20.509998Z"
    },
    "tags": []
   },
   "outputs": [
    {
     "name": "stderr",
     "output_type": "stream",
     "text": [
      "2022-02-06 16:07:20 INFO: Loading these models for language: hi (Hindi):\n",
      "=======================\n",
      "| Processor | Package |\n",
      "-----------------------\n",
      "| tokenize  | hdtb    |\n",
      "=======================\n",
      "\n",
      "2022-02-06 16:07:20 INFO: Use device: gpu\n",
      "2022-02-06 16:07:20 INFO: Loading: tokenize\n",
      "2022-02-06 16:07:20 INFO: Done loading processors!\n"
     ]
    }
   ],
   "source": [
    "nlp = stanza.Pipeline(lang='hi', processors='tokenize', tokenize_no_ssplit=True)"
   ]
  },
  {
   "cell_type": "code",
   "execution_count": 20,
   "id": "3c928d73-67da-4265-abc9-1c49fd24a607",
   "metadata": {
    "execution": {
     "iopub.execute_input": "2022-02-06T22:08:02.056612Z",
     "iopub.status.busy": "2022-02-06T22:08:02.056454Z",
     "iopub.status.idle": "2022-02-06T22:08:02.104177Z",
     "shell.execute_reply": "2022-02-06T22:08:02.103895Z",
     "shell.execute_reply.started": "2022-02-06T22:08:02.056598Z"
    }
   },
   "outputs": [],
   "source": [
    "doc = nlp(hindi_text)"
   ]
  },
  {
   "cell_type": "code",
   "execution_count": 30,
   "id": "00011517-b445-4e38-b54c-05ce5e5e6439",
   "metadata": {
    "execution": {
     "iopub.execute_input": "2022-02-06T22:14:35.519903Z",
     "iopub.status.busy": "2022-02-06T22:14:35.519760Z",
     "iopub.status.idle": "2022-02-06T22:14:35.524628Z",
     "shell.execute_reply": "2022-02-06T22:14:35.523113Z",
     "shell.execute_reply.started": "2022-02-06T22:14:35.519889Z"
    },
    "tags": []
   },
   "outputs": [
    {
     "name": "stdout",
     "output_type": "stream",
     "text": [
      "प्राचीन\n",
      "काल\n",
      "में\n",
      "विक्रमादित्य\n",
      "नाम\n",
      "के\n",
      "एक\n",
      "आदर्श\n",
      "राजा\n",
      "हुआ\n",
      "करते\n",
      "थे\n",
      "।\n",
      "अपने\n",
      "साहस\n",
      ",\n",
      "पराक्रम\n",
      "और\n",
      "शौर्य\n",
      "के\n",
      "लिए\n",
      "राजा\n",
      "विक्रम\n",
      "मशहूर\n",
      "थे\n",
      "।\n",
      "ऐसा\n",
      "भी\n",
      "कहा\n",
      "जाता\n",
      "है\n",
      "कि\n",
      "राजा\n",
      "विक्रम\n",
      "अपनी\n",
      "प्राजा\n",
      "के\n",
      "जीवन\n",
      "के\n",
      "दुख\n",
      "दर्द\n",
      "जानने\n",
      "के\n",
      "लिए\n",
      "रात्री\n",
      "के\n",
      "पहर\n",
      "में\n",
      "भेष\n",
      "बदल\n",
      "कर\n",
      "नगर\n",
      "में\n",
      "घूमते\n",
      "थे\n",
      "।\n"
     ]
    }
   ],
   "source": [
    "for sentence in doc.sentences:\n",
    "    for token in sentence.tokens:\n",
    "        print(token.text)\n",
    "    "
   ]
  },
  {
   "cell_type": "code",
   "execution_count": null,
   "id": "ef62b968-306e-4799-ade3-b2d0791d2797",
   "metadata": {},
   "outputs": [],
   "source": []
  }
 ],
 "metadata": {
  "kernelspec": {
   "display_name": "pt10",
   "language": "python",
   "name": "pt10"
  },
  "language_info": {
   "codemirror_mode": {
    "name": "ipython",
    "version": 3
   },
   "file_extension": ".py",
   "mimetype": "text/x-python",
   "name": "python",
   "nbconvert_exporter": "python",
   "pygments_lexer": "ipython3",
   "version": "3.8.12"
  }
 },
 "nbformat": 4,
 "nbformat_minor": 5
}
